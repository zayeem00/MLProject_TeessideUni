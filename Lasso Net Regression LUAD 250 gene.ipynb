{
 "cells": [
  {
   "cell_type": "code",
   "execution_count": 31,
   "metadata": {},
   "outputs": [],
   "source": [
    "#Higher  values of alpha give better scores\n",
    "import pandas as pd\n",
    "import os\n",
    "import matplotlib.pyplot as plt\n",
    "from sklearn import linear_model\n",
    "from sklearn.model_selection import train_test_split\n",
    "from sklearn.model_selection import cross_val_score\n",
    "from sklearn.linear_model import Lasso\n",
    "from sklearn.linear_model import LassoCV"
   ]
  },
  {
   "cell_type": "code",
   "execution_count": 2,
   "metadata": {},
   "outputs": [],
   "source": [
    "os.chdir('U:\\\\More Data')"
   ]
  },
  {
   "cell_type": "code",
   "execution_count": 10,
   "metadata": {},
   "outputs": [],
   "source": [
    "dt=pd.read_excel('LUAD_550.xlsx')"
   ]
  },
  {
   "cell_type": "code",
   "execution_count": 11,
   "metadata": {},
   "outputs": [],
   "source": [
    "dt=dt.set_index(dt.columns[0])"
   ]
  },
  {
   "cell_type": "code",
   "execution_count": 12,
   "metadata": {},
   "outputs": [],
   "source": [
    "tar=pd.read_excel('survival_LUAD.xlsx')"
   ]
  },
  {
   "cell_type": "code",
   "execution_count": 13,
   "metadata": {},
   "outputs": [],
   "source": [
    "from sklearn.model_selection import train_test_split"
   ]
  },
  {
   "cell_type": "code",
   "execution_count": 14,
   "metadata": {},
   "outputs": [],
   "source": [
    "\n",
    "del dt['RASGRF2']\n",
    "del dt['EXOSC6']\n",
    "del dt['DDX19A']\n",
    "del dt['PCDHAC1']"
   ]
  },
  {
   "cell_type": "code",
   "execution_count": 15,
   "metadata": {},
   "outputs": [
    {
     "name": "stdout",
     "output_type": "stream",
     "text": [
      "(361, 546) (361, 1)\n",
      "(156, 546) (156, 1)\n"
     ]
    }
   ],
   "source": [
    "Y=tar\n",
    "X_train,X_test,Y_train,Y_test=train_test_split(dt,Y,test_size=0.3)\n",
    "print(X_train.shape,Y_train.shape)\n",
    "print(X_test.shape,Y_test.shape)"
   ]
  },
  {
   "cell_type": "code",
   "execution_count": 26,
   "metadata": {},
   "outputs": [
    {
     "name": "stdout",
     "output_type": "stream",
     "text": [
      "train\n",
      "0.964702321721815\n",
      "test\n",
      "0.9978066072610323\n"
     ]
    },
    {
     "name": "stderr",
     "output_type": "stream",
     "text": [
      "C:\\ProgramData\\Anaconda3\\lib\\site-packages\\sklearn\\linear_model\\coordinate_descent.py:491: ConvergenceWarning: Objective did not converge. You might want to increase the number of iterations. Fitting data with very small alpha may cause precision problems.\n",
      "  ConvergenceWarning)\n"
     ]
    }
   ],
   "source": [
    "lassoReg=Lasso(alpha=0.1,normalize=False)\n",
    "lassoReg.fit(X_train,Y_train)\n",
    "predictions=lassoReg.predict(X_train)\n",
    "print('train')\n",
    "print(lassoReg.score(X_train,Y_train))\n",
    "lassoReg=Lasso(alpha=0.1,normalize=False)\n",
    "lassoReg.fit(X_test,Y_test)\n",
    "print('test')\n",
    "print(lassoReg.score(X_test,Y_test))"
   ]
  },
  {
   "cell_type": "code",
   "execution_count": 27,
   "metadata": {},
   "outputs": [
    {
     "name": "stdout",
     "output_type": "stream",
     "text": [
      "train\n",
      "0.7851614335117517\n",
      "test\n",
      "0.9625510152105098\n"
     ]
    },
    {
     "name": "stderr",
     "output_type": "stream",
     "text": [
      "C:\\ProgramData\\Anaconda3\\lib\\site-packages\\sklearn\\linear_model\\coordinate_descent.py:491: ConvergenceWarning: Objective did not converge. You might want to increase the number of iterations. Fitting data with very small alpha may cause precision problems.\n",
      "  ConvergenceWarning)\n"
     ]
    }
   ],
   "source": [
    "lassoReg=Lasso(alpha=0.5,normalize=False)\n",
    "lassoReg.fit(X_train,Y_train)\n",
    "predictions=lassoReg.predict(X_train)\n",
    "print('train')\n",
    "print(lassoReg.score(X_train,Y_train))\n",
    "lassoReg=Lasso(alpha=0.5,normalize=False)\n",
    "lassoReg.fit(X_test,Y_test)\n",
    "print('test')\n",
    "print(lassoReg.score(X_test,Y_test))"
   ]
  },
  {
   "cell_type": "code",
   "execution_count": 28,
   "metadata": {},
   "outputs": [
    {
     "name": "stdout",
     "output_type": "stream",
     "text": [
      "train\n",
      "0.661297568694129\n",
      "test\n",
      "0.8837333070903077\n"
     ]
    }
   ],
   "source": [
    "lassoReg=Lasso(alpha=1,normalize=False)\n",
    "lassoReg.fit(X_train,Y_train)\n",
    "predictions=lassoReg.predict(X_train)\n",
    "print('train')\n",
    "print(lassoReg.score(X_train,Y_train))\n",
    "lassoReg=Lasso(alpha=1,normalize=False)\n",
    "lassoReg.fit(X_test,Y_test)\n",
    "print('test')\n",
    "print(lassoReg.score(X_test,Y_test))"
   ]
  },
  {
   "cell_type": "code",
   "execution_count": 29,
   "metadata": {},
   "outputs": [
    {
     "name": "stdout",
     "output_type": "stream",
     "text": [
      "train\n",
      "0.5057978925848693\n",
      "test\n",
      "0.7248008046697131\n"
     ]
    }
   ],
   "source": [
    "                                           #BEST\n",
    "    \n",
    "lassoReg=Lasso(alpha=2,normalize=False)\n",
    "lassoReg.fit(X_train,Y_train)\n",
    "predictions=lassoReg.predict(X_train)\n",
    "print('train')\n",
    "print(lassoReg.score(X_train,Y_train))\n",
    "lassoReg=Lasso(alpha=2,normalize=False)\n",
    "lassoReg.fit(X_test,Y_test)\n",
    "print('test')\n",
    "print(lassoReg.score(X_test,Y_test))"
   ]
  },
  {
   "cell_type": "code",
   "execution_count": 55,
   "metadata": {},
   "outputs": [
    {
     "name": "stdout",
     "output_type": "stream",
     "text": [
      "train\n",
      "0.14731040886258218\n",
      "test\n",
      "0.265728142891308\n"
     ]
    }
   ],
   "source": [
    "import numpy as np\n",
    "Y_train=np.array(Y_train)\n",
    "Y_train=Y_train.ravel()\n",
    "lassoReg=LassoCV(normalize=False,n_alphas=200)\n",
    "lassoReg.fit(X_train,Y_train)\n",
    "predictions=lassoReg.predict(X_train)\n",
    "print('train')\n",
    "print(lassoReg.score(X_train,Y_train))\n",
    "Y_test=np.array(Y_test)\n",
    "Y_test=Y_test.ravel()\n",
    "lassoReg=LassoCV(normalize=False,n_alphas=200)\n",
    "lassoReg.fit(X_test,Y_test)\n",
    "print('test')\n",
    "print(lassoReg.score(X_test,Y_test)) "
   ]
  },
  {
   "cell_type": "code",
   "execution_count": null,
   "metadata": {},
   "outputs": [],
   "source": [
    "################################################################################################################################"
   ]
  },
  {
   "cell_type": "code",
   "execution_count": 63,
   "metadata": {},
   "outputs": [],
   "source": [
    "dt1=pd.read_excel('LUAD_250_NoDepth.xlsx',index_col=0)"
   ]
  },
  {
   "cell_type": "code",
   "execution_count": 64,
   "metadata": {},
   "outputs": [],
   "source": [
    "tar=pd.read_excel('survival_LUAD.xlsx')"
   ]
  },
  {
   "cell_type": "code",
   "execution_count": 65,
   "metadata": {},
   "outputs": [
    {
     "name": "stdout",
     "output_type": "stream",
     "text": [
      "(361, 250) (361, 1)\n",
      "(156, 250) (156, 1)\n"
     ]
    }
   ],
   "source": [
    "Y=tar\n",
    "X_train,X_test,Y_train,Y_test=train_test_split(dt1,Y,test_size=0.3)\n",
    "print(X_train.shape,Y_train.shape)\n",
    "print(X_test.shape,Y_test.shape)"
   ]
  },
  {
   "cell_type": "code",
   "execution_count": 66,
   "metadata": {},
   "outputs": [
    {
     "name": "stdout",
     "output_type": "stream",
     "text": [
      "train\n",
      "0.43038278454978185\n",
      "test\n",
      "0.6317398190941985\n"
     ]
    }
   ],
   "source": [
    "lassoReg=Lasso(alpha=2,normalize=False)\n",
    "lassoReg.fit(X_train,Y_train)\n",
    "predictions=lassoReg.predict(X_train)\n",
    "print('train')\n",
    "print(lassoReg.score(X_train,Y_train))\n",
    "lassoReg=Lasso(alpha=2,normalize=False)\n",
    "lassoReg.fit(X_test,Y_test)\n",
    "print('test')\n",
    "print(lassoReg.score(X_test,Y_test))"
   ]
  },
  {
   "cell_type": "code",
   "execution_count": 67,
   "metadata": {},
   "outputs": [
    {
     "name": "stdout",
     "output_type": "stream",
     "text": [
      "train\n",
      "0.5788022931059844\n",
      "test\n",
      "0.7932394497409128\n"
     ]
    }
   ],
   "source": [
    "lassoReg=Lasso(alpha=1,normalize=False)\n",
    "lassoReg.fit(X_train,Y_train)\n",
    "predictions=lassoReg.predict(X_train)\n",
    "print('train')\n",
    "print(lassoReg.score(X_train,Y_train))\n",
    "lassoReg=Lasso(alpha=1,normalize=False)\n",
    "lassoReg.fit(X_test,Y_test)\n",
    "print('test')\n",
    "print(lassoReg.score(X_test,Y_test))"
   ]
  },
  {
   "cell_type": "code",
   "execution_count": 68,
   "metadata": {},
   "outputs": [
    {
     "name": "stdout",
     "output_type": "stream",
     "text": [
      "train\n",
      "0.6821914156366864\n",
      "test\n",
      "0.8928409440177202\n"
     ]
    }
   ],
   "source": [
    "lassoReg=Lasso(alpha=0.5,normalize=False)\n",
    "lassoReg.fit(X_train,Y_train)\n",
    "predictions=lassoReg.predict(X_train)\n",
    "print('train')\n",
    "print(lassoReg.score(X_train,Y_train))\n",
    "lassoReg=Lasso(alpha=0.5,normalize=False)\n",
    "lassoReg.fit(X_test,Y_test)\n",
    "print('test')\n",
    "print(lassoReg.score(X_test,Y_test))"
   ]
  },
  {
   "cell_type": "code",
   "execution_count": 69,
   "metadata": {},
   "outputs": [
    {
     "name": "stdout",
     "output_type": "stream",
     "text": [
      "train\n",
      "0.8096980241371223\n",
      "test\n",
      "0.9899223617512458\n"
     ]
    },
    {
     "name": "stderr",
     "output_type": "stream",
     "text": [
      "C:\\ProgramData\\Anaconda3\\lib\\site-packages\\sklearn\\linear_model\\coordinate_descent.py:491: ConvergenceWarning: Objective did not converge. You might want to increase the number of iterations. Fitting data with very small alpha may cause precision problems.\n",
      "  ConvergenceWarning)\n"
     ]
    }
   ],
   "source": [
    "lassoReg=Lasso(alpha=0.1,normalize=False)\n",
    "lassoReg.fit(X_train,Y_train)\n",
    "predictions=lassoReg.predict(X_train)\n",
    "print('train')\n",
    "print(lassoReg.score(X_train,Y_train))\n",
    "lassoReg=Lasso(alpha=0.1,normalize=False)\n",
    "lassoReg.fit(X_test,Y_test)\n",
    "print('test')  \n",
    "print(lassoReg.score(X_test,Y_test))"
   ]
  },
  {
   "cell_type": "code",
   "execution_count": 77,
   "metadata": {
    "scrolled": true
   },
   "outputs": [
    {
     "name": "stdout",
     "output_type": "stream",
     "text": [
      "train\n",
      "0.10870702184035873\n",
      "test\n",
      "0.0\n"
     ]
    }
   ],
   "source": [
    "Y_train=np.array(Y_train)\n",
    "Y_train=Y_train.flatten()\n",
    "lassoReg=LassoCV(normalize=False,n_alphas=2000)\n",
    "lassoReg.fit(X_train,Y_train)\n",
    "predictions=lassoReg.predict(X_train)\n",
    "print('train') \n",
    "print(lassoReg.score(X_train,Y_train))\n",
    "Y_test=np.array(Y_test)\n",
    "Y_test=Y_test.flatten()\n",
    "lassoReg=LassoCV(normalize=False,n_alphas=2000)\n",
    "lassoReg.fit(X_test,Y_test)\n",
    "print('test') \n",
    "print(lassoReg.score(X_test,Y_test))"
   ]
  },
  {
   "cell_type": "code",
   "execution_count": null,
   "metadata": {},
   "outputs": [],
   "source": []
  }
 ],
 "metadata": {
  "kernelspec": {
   "display_name": "Python 3",
   "language": "python",
   "name": "python3"
  },
  "language_info": {
   "codemirror_mode": {
    "name": "ipython",
    "version": 3
   },
   "file_extension": ".py",
   "mimetype": "text/x-python",
   "name": "python",
   "nbconvert_exporter": "python",
   "pygments_lexer": "ipython3",
   "version": "3.6.5"
  }
 },
 "nbformat": 4,
 "nbformat_minor": 2
}
