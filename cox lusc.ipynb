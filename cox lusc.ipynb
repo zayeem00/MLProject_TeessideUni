{
 "cells": [
  {
   "cell_type": "code",
   "execution_count": 1,
   "metadata": {},
   "outputs": [],
   "source": [
    "import sksurv\n",
    "import os\n",
    "import pandas as pd"
   ]
  },
  {
   "cell_type": "code",
   "execution_count": 3,
   "metadata": {},
   "outputs": [],
   "source": [
    "os.chdir('C:\\\\Users\\\\Kanika Saini\\\\Desktop\\\\New Folder (2)\\\\ProjectDataset')"
   ]
  },
  {
   "cell_type": "code",
   "execution_count": 4,
   "metadata": {},
   "outputs": [],
   "source": [
    "dt=pd.read_excel('gene + clinical LUSC.xlsx')\n"
   ]
  },
  {
   "cell_type": "code",
   "execution_count": 5,
   "metadata": {},
   "outputs": [],
   "source": [
    "dt=dt.set_index(dt.columns[0])"
   ]
  },
  {
   "cell_type": "code",
   "execution_count": 23,
   "metadata": {},
   "outputs": [],
   "source": [
    "c=pd.read_excel('cox LUSC.xlsx')"
   ]
  },
  {
   "cell_type": "code",
   "execution_count": 30,
   "metadata": {},
   "outputs": [],
   "source": [
    "result=c.to_records(index=False)"
   ]
  },
  {
   "cell_type": "code",
   "execution_count": 29,
   "metadata": {},
   "outputs": [],
   "source": [
    "c['Patient\\'s Vital Status' ]=c['Patient\\'s Vital Status' ].astype('bool')"
   ]
  },
  {
   "cell_type": "code",
   "execution_count": 26,
   "metadata": {},
   "outputs": [
    {
     "name": "stdout",
     "output_type": "stream",
     "text": [
      "Index(['Patient's Vital Status', 'Overall Survival'], dtype='object')\n"
     ]
    }
   ],
   "source": [
    "print(c.columns)"
   ]
  },
  {
   "cell_type": "code",
   "execution_count": 32,
   "metadata": {},
   "outputs": [
    {
     "data": {
      "text/plain": [
       "rec.array([(False, 1.2190e+01), (False, 4.4700e+00), (False, 7.5690e+01),\n",
       "           ( True, 1.2309e+02), (False, 4.8000e+00), ( True, 1.1748e+02),\n",
       "           (False, 1.1330e+01), (False, 2.3520e+01), (False, 9.2080e+01),\n",
       "           (False, 3.1960e+01), (False, 3.6040e+01), ( True, 9.2350e+01),\n",
       "           ( True, 8.6890e+01), (False, 6.1800e+00), (False, 2.7900e+00),\n",
       "           ( True, 1.5420e+02), ( True, 4.9900e+01), (False, 2.7170e+01),\n",
       "           ( True, 1.1945e+02), (False, 4.6850e+01), ( True, 9.9080e+01),\n",
       "           ( True, 7.0110e+01), ( True, 6.0840e+01), (False, 3.4760e+01),\n",
       "           (False, 1.5570e+01), (False, 3.1700e+01), ( True, 1.2234e+02),\n",
       "           (False, 9.3300e+00), ( True, 1.1971e+02), (False, 4.3200e+01),\n",
       "           (False, 3.1600e+01), (False, 8.8040e+01), ( True, 4.1660e+01),\n",
       "           ( True, 3.3900e+01), (False, 1.0810e+01), ( True, 3.2160e+01),\n",
       "           (False, 2.1980e+01), (False, 7.3300e+00), (False, 1.4910e+01),\n",
       "           (False, 4.3000e+00), (False, 6.4160e+01), (False, 1.7400e+00),\n",
       "           (False, 1.4090e+01), (False, 2.7000e+01), (False, 4.8780e+01),\n",
       "           (False, 2.0470e+01), (False, 3.5050e+01), (False, 4.8290e+01),\n",
       "           (False, 2.4110e+01), (False, 5.6000e-01), (False, 3.8140e+01),\n",
       "           (False, 3.4720e+01), (False, 1.3110e+01), (False, 3.2000e+01),\n",
       "           (False, 1.9280e+01), (False, 9.5600e+00), (False, 1.1760e+01),\n",
       "           ( True, 6.0610e+01), (False, 6.4880e+01), (False, 6.3500e+01),\n",
       "           (False, 1.4620e+01), (False, 4.4220e+01), (False, 7.9000e-01),\n",
       "           (False, 8.6240e+01), (False, 7.1290e+01), (False, 7.9140e+01),\n",
       "           (False, 1.1730e+01), (False, 1.8820e+01), (False, 3.0090e+01),\n",
       "           (False, 6.2810e+01), (False, 5.6270e+01), (False, 1.6620e+01),\n",
       "           ( True, 2.2040e+01), (False, 1.2891e+02), ( True, 1.3364e+02),\n",
       "           (False, 9.7860e+01), ( True, 7.9470e+01), (False, 1.7369e+02),\n",
       "           (False, 1.0345e+02), (False, 1.5115e+02), (False, 1.4060e+01),\n",
       "           (False, 5.4400e+01), (False, 1.5400e+00), (False, 1.9740e+01),\n",
       "           ( True, 6.3300e+01), (False, 4.7000e+00), (False, 3.0000e-01),\n",
       "           (False, 3.6600e+01), (False, 6.9300e+00), (False, 1.1091e+02),\n",
       "           (False, 4.4150e+01), (False, 1.1827e+02), (False, 2.7140e+01),\n",
       "           (False, 2.6300e+00), (False, 6.1560e+01), (False, 3.2850e+01),\n",
       "           (False, 6.5180e+01), ( True, 8.1180e+01), ( True, 7.4610e+01),\n",
       "           (False, 9.0700e+00), ( True, 6.0250e+01), ( True, 5.0620e+01),\n",
       "           (False, 1.6920e+01), ( True, 4.4710e+01), ( True, 3.9290e+01),\n",
       "           (False, 4.9600e+00), (False, 1.1200e+00), ( True, 3.8760e+01),\n",
       "           (False, 4.0400e+00), ( True, 2.6410e+01), ( True, 3.3870e+01),\n",
       "           ( True, 4.0100e+00), ( True, 4.3000e-01), ( True, 3.9000e-01),\n",
       "           ( True, 7.9500e+00), ( True, 8.1100e+00), ( True, 7.4600e+00),\n",
       "           ( True, 7.8200e+00), ( True, 6.8000e+00), ( True, 3.9000e-01),\n",
       "           ( True, 3.3800e+00), (False, 3.7550e+01), ( True, 2.8480e+01),\n",
       "           ( True, 2.1680e+01), ( True, 1.3315e+02), ( True, 1.2648e+02),\n",
       "           ( True, 1.1127e+02), (False, 6.8530e+01), (False, 5.5160e+01),\n",
       "           ( True, 8.2460e+01), ( True, 1.0210e+02), (False, 1.7100e+00),\n",
       "           (False, 2.4310e+01), (False, 1.9400e+00), (False, 6.0480e+01),\n",
       "           (False, 3.6370e+01), ( True, 6.8330e+01), ( True, 7.1120e+01),\n",
       "           ( True, 5.5520e+01), (False, 1.7870e+01), (False, 1.7050e+01),\n",
       "           ( True, 4.0180e+01), (False, 2.2470e+01), ( True, 3.8630e+01),\n",
       "           (False, 3.9090e+01), ( True, 3.3080e+01), (False, 1.8360e+01),\n",
       "           ( True, 2.7890e+01), ( True, 2.2960e+01), ( True, 2.4870e+01),\n",
       "           ( True, 2.1450e+01), (False, 5.4500e+00), (False, 3.8100e+00),\n",
       "           ( True, 1.9580e+01), ( True, 7.7500e+00), (False, 7.8120e+01),\n",
       "           ( True, 1.3370e+01), ( True, 1.1760e+01), (False, 2.9200e+00),\n",
       "           ( True, 1.1600e+01), ( True, 9.7200e+00), ( True, 1.4190e+01),\n",
       "           ( True, 1.2020e+01), ( True, 1.3300e+01), ( True, 1.2160e+01),\n",
       "           ( True, 1.3010e+01), (False, 9.8200e+00), ( True, 4.4300e+00),\n",
       "           ( True, 1.0640e+01), ( True, 1.3900e+01), (False, 3.9000e-01),\n",
       "           (False, 3.9000e-01), ( True, 2.9930e+01), (False, 6.0970e+01),\n",
       "           ( True, 2.8320e+01), (False, 5.4500e+00), ( True, 3.0320e+01),\n",
       "           (False, 8.7400e+00), (False, 2.7430e+01), (False, 2.8940e+01),\n",
       "           ( True, 1.2420e+01), ( True, 1.8230e+01), ( True, 2.1880e+01),\n",
       "           (False, 0.0000e+00), ( True, 1.9970e+01), (False, 1.8460e+01),\n",
       "           (False, 1.4520e+01), (False, 3.1240e+01), ( True, 3.0390e+01),\n",
       "           ( True, 1.9740e+01), (False, 6.5000e+00), (False, 1.0000e-01),\n",
       "           (False, 1.7480e+01), ( True, 3.3210e+01), ( True, 1.4950e+01),\n",
       "           ( True, 4.9300e+00), (False, 1.3040e+01), ( True, 3.4800e+00),\n",
       "           ( True, 3.4500e+00), ( True, 2.6870e+01), ( True, 1.6980e+01),\n",
       "           ( True, 1.4060e+01), ( True, 1.3500e+00), ( True, 1.6750e+01),\n",
       "           ( True, 1.8100e+00), (False, 2.2730e+01), ( True, 1.3800e+01),\n",
       "           (False, 1.0350e+01), (False, 9.9200e+00), ( True, 2.0240e+01),\n",
       "           ( True, 1.5800e+01), ( True, 2.0930e+01), ( True, 1.9220e+01),\n",
       "           ( True, 1.3300e+01), (False, 1.7840e+01), ( True, 2.1020e+01),\n",
       "           ( True, 1.8730e+01), ( True, 1.3000e-01), ( True, 2.6000e-01),\n",
       "           ( True, 1.4450e+01), (False, 3.0000e-02), (False, 1.3240e+01),\n",
       "           (False, 1.3530e+01), ( True, 2.9930e+01), ( True, 7.1190e+01),\n",
       "           (False, 1.6460e+01), ( True, 3.4760e+01), ( True, 8.5050e+01),\n",
       "           (False, 3.4330e+01), ( True, 5.6600e+01), ( True, 3.5220e+01),\n",
       "           ( True, 2.9890e+01), ( True, 2.1090e+01), (False, 3.5800e+00),\n",
       "           (False, 1.2220e+01), (False, 1.0220e+01), (False, 9.6750e+01),\n",
       "           (False, 3.7910e+01), ( True, 9.2640e+01), (False, 2.1910e+01),\n",
       "           ( True, 8.0390e+01), ( True, 4.9440e+01), ( True, 6.6490e+01),\n",
       "           ( True, 4.1390e+01), (False, 9.0000e+00), ( True, 5.6870e+01),\n",
       "           ( True, 5.0300e+01), (False, 3.5320e+01), ( True, 4.8460e+01),\n",
       "           ( True, 4.2610e+01), ( True, 3.1900e+00), ( True, 3.2290e+01),\n",
       "           ( True, 2.9830e+01), ( True, 3.5870e+01), ( True, 2.3550e+01),\n",
       "           ( True, 2.6810e+01), (False, 1.1760e+01), (False, 0.0000e+00),\n",
       "           (False, 0.0000e+00), ( True, 5.2630e+01), ( True, 7.0070e+01),\n",
       "           ( True, 7.0370e+01), ( True, 6.8100e+01), ( True, 5.5260e+01),\n",
       "           ( True, 0.0000e+00), ( True, 1.0260e+02), ( True, 7.0570e+01),\n",
       "           ( True, 6.6560e+01), ( True, 5.8610e+01), ( True, 5.9920e+01),\n",
       "           ( True, 4.5530e+01), (False, 1.4980e+01), (False, 1.1330e+01),\n",
       "           ( True, 2.5260e+01), ( True, 8.9220e+01), ( True, 7.8220e+01),\n",
       "           ( True, 1.6360e+01), (False, 0.0000e+00), ( True, 3.6140e+01),\n",
       "           ( True, 5.3840e+01), ( True, 3.4560e+01), (False, 1.6950e+01),\n",
       "           ( True, 4.3070e+01), ( True, 2.0000e+00), ( True, 2.1060e+01),\n",
       "           ( True, 9.9000e-01), ( True, 1.0200e+00), ( True, 2.0000e+00),\n",
       "           ( True, 9.2000e-01), ( True, 9.9000e-01), (False, 4.3960e+01),\n",
       "           ( True, 2.0990e+01), ( True, 2.5030e+01), ( True, 9.9000e-01),\n",
       "           ( True, 2.0000e+00), ( True, 1.0200e+00), ( True, 2.0000e+00),\n",
       "           ( True, 2.0000e+00), (False, 7.0600e+00), ( True, 2.3000e+01),\n",
       "           ( True, 1.8990e+01), (False, 3.0200e+00), ( True, 2.0000e+00),\n",
       "           ( True, 1.8990e+01), (False, 1.2020e+01), ( True, 3.9800e+00),\n",
       "           (False, 1.1990e+01), ( True, 2.4930e+01), ( True, 1.9700e+00),\n",
       "           ( True, 2.5950e+01), ( True, 3.9980e+01), ( True, 2.2960e+01),\n",
       "           (False, 4.0400e+00), ( True, 2.2960e+01), (False, 5.0300e+00),\n",
       "           ( True, 2.9990e+01), (False, 1.0050e+01), ( True, 5.4040e+01),\n",
       "           ( True, 4.0100e+00), ( True, 4.9010e+01), ( True, 2.7300e+00),\n",
       "           ( True, 6.6400e+00), ( True, 6.9300e+00), ( True, 8.0200e+00),\n",
       "           ( True, 1.3340e+01), ( True, 1.6160e+01), ( True, 1.4720e+01),\n",
       "           (False, 0.0000e+00), ( True, 1.2060e+01), ( True, 1.2320e+01),\n",
       "           (False, 2.9530e+01), (False, 7.3060e+01), (False, 7.5030e+01),\n",
       "           (False, 2.3260e+01), (False, 1.1170e+01), ( True, 1.3998e+02),\n",
       "           (False, 2.0760e+01), ( True, 4.9000e-01), ( True, 7.3160e+01),\n",
       "           (False, 7.0070e+01), (False, 1.0687e+02), (False, 1.6000e-01),\n",
       "           (False, 4.6750e+01), ( True, 3.2520e+01), (False, 6.5000e+00),\n",
       "           (False, 8.6700e+01), (False, 5.5680e+01), (False, 3.7780e+01),\n",
       "           ( True, 1.5654e+02), (False, 1.2580e+01), (False, 5.3880e+01),\n",
       "           (False, 3.9060e+01), (False, 1.7710e+01), ( True, 1.0401e+02),\n",
       "           (False, 1.1530e+01), (False, 2.6380e+01), ( True, 2.7370e+01),\n",
       "           (False, 6.9600e+00), ( True, 1.0476e+02), ( True, 6.6460e+01),\n",
       "           (False, 5.4370e+01), ( True, 6.5440e+01), ( True, 6.0480e+01),\n",
       "           ( True, 3.6330e+01), (False, 1.2608e+02), ( True, 1.3226e+02),\n",
       "           ( True, 1.5013e+02), (False, 2.2270e+01), (False, 5.9100e+00),\n",
       "           ( True, 6.1890e+01), ( True, 4.2050e+01), (False, 3.0780e+01),\n",
       "           (False, 2.7600e+01), ( True, 3.8830e+01), ( True, 0.0000e+00),\n",
       "           (False, 9.6600e+00), ( True, 4.1360e+01), ( True, 4.0210e+01),\n",
       "           (False, 6.4100e+00), ( True, 3.6500e+01), ( True, 3.4920e+01),\n",
       "           ( True, 3.1270e+01), (False, 3.2880e+01), ( True, 1.3800e+00),\n",
       "           ( True, 1.1500e+00), ( True, 2.9930e+01), ( True, 1.8920e+01),\n",
       "           ( True, 2.5130e+01), ( True, 1.9020e+01), ( True, 2.4110e+01),\n",
       "           ( True, 3.1540e+01), ( True, 2.6770e+01), ( True, 3.0620e+01),\n",
       "           ( True, 3.4490e+01), (False, 1.0090e+01), (False, 7.6000e-01),\n",
       "           (False, 1.3210e+01), ( True, 2.2440e+01), ( True, 1.6750e+01),\n",
       "           (False, 5.2900e+00), (False, 3.0900e+00), ( True, 3.2690e+01),\n",
       "           ( True, 2.0000e+00), ( True, 1.5370e+01), (False, 7.7500e+00),\n",
       "           ( True, 3.6560e+01), ( True, 3.8110e+01), (False, 1.2580e+01),\n",
       "           (False, 1.8070e+01), (False, 2.2570e+01), (False, 3.0260e+01),\n",
       "           ( True, 3.4100e+01), ( True, 3.0950e+01), (False, 1.9840e+01),\n",
       "           ( True, 2.4340e+01), (False, 3.0450e+01), ( True, 1.9710e+01),\n",
       "           (False, 2.7140e+01), ( True, 1.6200e+01), ( True, 1.5830e+01),\n",
       "           (False, 1.4950e+01), ( True, 1.5280e+01), ( True, 2.9890e+01),\n",
       "           ( True, 1.2390e+01), ( True, 3.6500e+00), ( True, 2.4900e+01),\n",
       "           ( True, 9.4900e+00), ( True, 2.9200e+00), ( True, 1.1760e+01),\n",
       "           ( True, 1.4060e+01), ( True, 2.0200e+01), ( True, 2.2600e+01),\n",
       "           (False, 1.0580e+01), ( True, 2.6900e+00), ( True, 3.4800e+00),\n",
       "           ( True, 4.0100e+00), ( True, 5.2600e+00), ( True, 2.3000e+00),\n",
       "           ( True, 2.1020e+01), (False, 1.6000e-01), ( True, 1.8360e+01),\n",
       "           ( True, 4.0100e+00), ( True, 5.0300e+00), ( True, 2.6610e+01),\n",
       "           ( True, 1.4130e+01), ( True, 1.6130e+01), ( True, 1.7670e+01),\n",
       "           (False, 7.0960e+01), (False, 5.7030e+01), ( True, 1.8300e+01),\n",
       "           ( True, 1.7440e+01), ( True, 1.9350e+01), ( True, 2.7660e+01),\n",
       "           ( True, 2.1420e+01), (False, 2.7600e+00), ( True, 3.0780e+01),\n",
       "           (False, 3.0650e+01), ( True, 2.1320e+01), ( True, 2.7140e+01),\n",
       "           ( True, 5.6800e+00), (False, 1.8130e+01), (False, 2.0000e+00),\n",
       "           ( True, 2.7000e+01), (False, 2.1190e+01), ( True, 2.0300e+01),\n",
       "           ( True, 1.8560e+01), ( True, 2.0700e+01), ( True, 1.9090e+01),\n",
       "           ( True, 1.2880e+01), (False, 1.6100e+01), ( True, 1.3170e+01),\n",
       "           (False, 1.3400e+01), (False, 1.1830e+01), (False, 7.0000e-02),\n",
       "           ( True, 7.6740e+01), (False, 4.5300e+00), ( True, 6.4490e+01),\n",
       "           ( True, 1.2200e+00), ( True, 5.7260e+01), (False, 1.3730e+01),\n",
       "           ( True, 4.2000e+00), (False, 2.8900e+00), ( True, 3.9820e+01),\n",
       "           ( True, 4.9240e+01), ( True, 4.3890e+01), (False, 2.5300e+01),\n",
       "           (False, 1.4720e+01), ( True, 4.0870e+01), ( True, 2.6410e+01),\n",
       "           ( True, 8.3510e+01), ( True, 6.5600e+01), ( True, 3.6500e+00),\n",
       "           ( True, 1.6790e+01), ( True, 4.3000e-01), (False, 3.3050e+01),\n",
       "           (False, 3.7100e+00), (False, 1.2710e+01), (False, 4.3860e+01),\n",
       "           (False, 8.5700e+00), (False, 1.1170e+01), (False, 2.0000e-01)],\n",
       "          dtype=[(\"Patient's Vital Status\", '?'), ('Overall Survival', '<f8')])"
      ]
     },
     "execution_count": 32,
     "metadata": {},
     "output_type": "execute_result"
    }
   ],
   "source": [
    "result"
   ]
  },
  {
   "cell_type": "code",
   "execution_count": 18,
   "metadata": {},
   "outputs": [
    {
     "name": "stdout",
     "output_type": "stream",
     "text": [
      "iter     12: optimization converged\n"
     ]
    },
    {
     "data": {
      "text/plain": [
       "CoxPHSurvivalAnalysis(alpha=1, n_iter=100, tol=1e-09, verbose=1)"
      ]
     },
     "execution_count": 18,
     "metadata": {},
     "output_type": "execute_result"
    }
   ],
   "source": [
    "from sksurv.linear_model import CoxPHSurvivalAnalysis\n",
    "estimator = CoxPHSurvivalAnalysis(alpha=1,verbose=1)\n",
    "estimator.fit(dt, result)\n"
   ]
  },
  {
   "cell_type": "code",
   "execution_count": 19,
   "metadata": {},
   "outputs": [
    {
     "data": {
      "text/plain": [
       "A4GALT                                                            -0.746004\n",
       "AASDHPPT                                                           0.159038\n",
       "ABCA4                                                              1.131167\n",
       "ABCC1                                                              0.894321\n",
       "ACER3                                                              0.001257\n",
       "ACSM3                                                             -0.367472\n",
       "ACTN1                                                              0.119693\n",
       "ADCY5                                                             -0.669611\n",
       "AFF2                                                              -0.263385\n",
       "ALKBH6                                                            -0.368259\n",
       "ANO5                                                              -0.412230\n",
       "ANXA11                                                             0.856122\n",
       "ANXA1                                                              0.193217\n",
       "APC2                                                               0.087686\n",
       "ARHGAP1                                                           -0.271160\n",
       "ARHGEF35                                                          -1.126030\n",
       "ARL6                                                              -0.350363\n",
       "ASH2L                                                             -0.001194\n",
       "ATG12                                                              0.636869\n",
       "ATP1A2                                                             0.537441\n",
       "ATP1B2                                                            -0.140769\n",
       "ATP8B2                                                            -0.667151\n",
       "ATP8B3                                                             0.177726\n",
       "ATXN10                                                            -0.409224\n",
       "ATXN1                                                             -0.093360\n",
       "BAIAP3                                                            -0.677311\n",
       "BASP1                                                              0.038163\n",
       "BCL2L13                                                            0.366521\n",
       "BEST1                                                              0.335410\n",
       "C10ORF91                                                           0.171919\n",
       "                                                                     ...   \n",
       "SAP130                                                             0.265943\n",
       "SCFD2                                                              0.267696\n",
       "SDCBP2                                                             0.374784\n",
       "SDHB                                                               0.033072\n",
       "SDR42E1                                                            0.197797\n",
       "SEC11C                                                             0.052542\n",
       "SF3B4                                                             -0.258923\n",
       "SIGLEC12                                                           0.204821\n",
       "SIGLEC16                                                           0.616219\n",
       "SLC10A7                                                           -0.364608\n",
       "SLC12A1                                                            0.413883\n",
       "SLC13A4                                                           -0.251002\n",
       "SLC16A9                                                           -0.938483\n",
       "SLC22A23                                                           0.305674\n",
       "SLC25A37                                                           0.136466\n",
       "SLC35A1                                                           -0.141634\n",
       "SLC44A2                                                           -0.184990\n",
       "SLC4A2                                                             0.420763\n",
       "SLC6A18                                                           -0.798781\n",
       "Diagnosis Age                                                     -0.073956\n",
       "Sex                                                                0.675909\n",
       "Patient's Vital Status                                             6.076216\n",
       "Disease Free (Months)                                             -0.333964\n",
       "Person Cigarette Smoking History Pack Year Value                  -0.003965\n",
       "Fraction Genome Altered                                           -0.483712\n",
       "Overall Survival Status                                            6.076216\n",
       "Disease Free Status                                               -3.434662\n",
       "Person Neoplasm Status                                            -2.060935\n",
       "Primary Tumor Site                                                -0.225982\n",
       "Neoplasm Disease Stage American Joint Committee on Cancer Code3    0.099504\n",
       "Length: 331, dtype: float64"
      ]
     },
     "execution_count": 19,
     "metadata": {},
     "output_type": "execute_result"
    }
   ],
   "source": [
    "pd.Series(estimator.coef_, index=dt.columns)"
   ]
  },
  {
   "cell_type": "code",
   "execution_count": 20,
   "metadata": {},
   "outputs": [
    {
     "data": {
      "text/plain": [
       "0.9883448130658405"
      ]
     },
     "execution_count": 20,
     "metadata": {},
     "output_type": "execute_result"
    }
   ],
   "source": [
    "from sksurv.metrics import concordance_index_censored\n",
    "\n",
    "prediction = estimator.predict(dt)\n",
    "result = concordance_index_censored(c['Patient\\'s Vital Status'], c['Overall Survival'], prediction)\n",
    "result[0]"
   ]
  },
  {
   "cell_type": "code",
   "execution_count": 21,
   "metadata": {},
   "outputs": [
    {
     "data": {
      "text/plain": [
       "Text(0.5, 0, 'time $t$')"
      ]
     },
     "execution_count": 21,
     "metadata": {},
     "output_type": "execute_result"
    },
    {
     "data": {
      "image/png": "[encoded data removed]",
      "text/plain": [
       "<Figure size 432x288 with 1 Axes>"
      ]
     },
     "metadata": {
      "needs_background": "light"
     },
     "output_type": "display_data"
    }
   ],
   "source": [
    "%matplotlib inline\n",
    "import matplotlib.pyplot as plt\n",
    "from sksurv.nonparametric import kaplan_meier_estimator\n",
    "\n",
    "time, survival_prob = kaplan_meier_estimator(c['Patient\\'s Vital Status'], c['Overall Survival'])\n",
    "plt.step(time, survival_prob, where=\"post\")\n",
    "plt.ylabel(\"est. probability of survival $\\hat{S}(t)$\")\n",
    "plt.xlabel(\"time $t$\")"
   ]
  },
  {
   "cell_type": "code",
   "execution_count": 34,
   "metadata": {},
   "outputs": [
    {
     "name": "stdout",
     "output_type": "stream",
     "text": [
      "(350, 331) (350,)\n",
      "(151, 331) (151,)\n",
      "iter     13: optimization converged\n",
      "iter     13: optimization converged\n"
     ]
    },
    {
     "data": {
      "text/plain": [
       "0.8131465860257838"
      ]
     },
     "execution_count": 34,
     "metadata": {},
     "output_type": "execute_result"
    }
   ],
   "source": [
    "from sklearn.model_selection import train_test_split\n",
    "X_train,X_test,Y_train,Y_test=train_test_split(dt,result,test_size=0.3)\n",
    "print(X_train.shape,Y_train.shape)\n",
    "print(X_test.shape,Y_test.shape)\n",
    "from sksurv.linear_model import CoxPHSurvivalAnalysis\n",
    "estimator = CoxPHSurvivalAnalysis(alpha=1,verbose=1)\n",
    "estimator.fit(X_train, Y_train)\n",
    "from sksurv.linear_model import CoxPHSurvivalAnalysis\n",
    "estimator = CoxPHSurvivalAnalysis(alpha=1,verbose=1)\n",
    "estimator.fit(X_train, Y_train)\n",
    "from sksurv.metrics import concordance_index_censored\n",
    "\n",
    "prediction = estimator.predict(X_test)\n",
    "result = concordance_index_censored(Y_test['Patient\\'s Vital Status'], Y_test['Overall Survival'], prediction)\n",
    "result[0]"
   ]
  },
  {
   "cell_type": "code",
   "execution_count": 35,
   "metadata": {},
   "outputs": [],
   "source": [
    "from sksurv.linear_model import CoxnetSurvivalAnalysis\n",
    "from sklearn.model_selection import GridSearchCV,KFold"
   ]
  },
  {
   "cell_type": "code",
   "execution_count": 38,
   "metadata": {},
   "outputs": [],
   "source": [
    "cv=KFold(n_splits=20,shuffle=True,random_state=328)"
   ]
  },
  {
   "cell_type": "code",
   "execution_count": 39,
   "metadata": {},
   "outputs": [
    {
     "name": "stderr",
     "output_type": "stream",
     "text": [
      "C:\\Users\\Kanika Saini\\Anaconda3\\lib\\site-packages\\sklearn\\model_selection\\_validation.py:528: UserWarning: all coefficients are zero, consider decreasing alpha.\n",
      "  estimator.fit(X_train, y_train, **fit_params)\n",
      "C:\\Users\\Kanika Saini\\Anaconda3\\lib\\site-packages\\sklearn\\model_selection\\_validation.py:528: UserWarning: all coefficients are zero, consider decreasing alpha.\n",
      "  estimator.fit(X_train, y_train, **fit_params)\n",
      "C:\\Users\\Kanika Saini\\Anaconda3\\lib\\site-packages\\sklearn\\model_selection\\_validation.py:528: UserWarning: all coefficients are zero, consider decreasing alpha.\n",
      "  estimator.fit(X_train, y_train, **fit_params)\n",
      "C:\\Users\\Kanika Saini\\Anaconda3\\lib\\site-packages\\sklearn\\model_selection\\_validation.py:528: UserWarning: all coefficients are zero, consider decreasing alpha.\n",
      "  estimator.fit(X_train, y_train, **fit_params)\n",
      "C:\\Users\\Kanika Saini\\Anaconda3\\lib\\site-packages\\sklearn\\model_selection\\_validation.py:528: UserWarning: all coefficients are zero, consider decreasing alpha.\n",
      "  estimator.fit(X_train, y_train, **fit_params)\n",
      "C:\\Users\\Kanika Saini\\Anaconda3\\lib\\site-packages\\sklearn\\model_selection\\_validation.py:528: UserWarning: all coefficients are zero, consider decreasing alpha.\n",
      "  estimator.fit(X_train, y_train, **fit_params)\n",
      "C:\\Users\\Kanika Saini\\Anaconda3\\lib\\site-packages\\sklearn\\model_selection\\_validation.py:528: UserWarning: all coefficients are zero, consider decreasing alpha.\n",
      "  estimator.fit(X_train, y_train, **fit_params)\n",
      "C:\\Users\\Kanika Saini\\Anaconda3\\lib\\site-packages\\sklearn\\model_selection\\_validation.py:528: UserWarning: all coefficients are zero, consider decreasing alpha.\n",
      "  estimator.fit(X_train, y_train, **fit_params)\n",
      "C:\\Users\\Kanika Saini\\Anaconda3\\lib\\site-packages\\sklearn\\model_selection\\_validation.py:528: UserWarning: all coefficients are zero, consider decreasing alpha.\n",
      "  estimator.fit(X_train, y_train, **fit_params)\n",
      "C:\\Users\\Kanika Saini\\Anaconda3\\lib\\site-packages\\sklearn\\model_selection\\_validation.py:528: UserWarning: all coefficients are zero, consider decreasing alpha.\n",
      "  estimator.fit(X_train, y_train, **fit_params)\n",
      "C:\\Users\\Kanika Saini\\Anaconda3\\lib\\site-packages\\sklearn\\model_selection\\_validation.py:528: UserWarning: all coefficients are zero, consider decreasing alpha.\n",
      "  estimator.fit(X_train, y_train, **fit_params)\n",
      "C:\\Users\\Kanika Saini\\Anaconda3\\lib\\site-packages\\sklearn\\model_selection\\_validation.py:528: ConvergenceWarning: Optimization terminated early, you might want to increase the number of iterations (max_iter=100000).\n",
      "  estimator.fit(X_train, y_train, **fit_params)\n",
      "C:\\Users\\Kanika Saini\\Anaconda3\\lib\\site-packages\\sklearn\\model_selection\\_validation.py:528: ConvergenceWarning: Optimization terminated early, you might want to increase the number of iterations (max_iter=100000).\n",
      "  estimator.fit(X_train, y_train, **fit_params)\n"
     ]
    },
    {
     "ename": "KeyboardInterrupt",
     "evalue": "",
     "output_type": "error",
     "traceback": [
      "\u001b[1;31m---------------------------------------------------------------------------\u001b[0m",
      "\u001b[1;31mKeyboardInterrupt\u001b[0m                         Traceback (most recent call last)",
      "\u001b[1;32m<ipython-input-39-3452553559eb>\u001b[0m in \u001b[0;36m<module>\u001b[1;34m\u001b[0m\n\u001b[0;32m      1\u001b[0m \u001b[0mcoxnet\u001b[0m\u001b[1;33m=\u001b[0m\u001b[0mCoxnetSurvivalAnalysis\u001b[0m\u001b[1;33m(\u001b[0m\u001b[0mn_alphas\u001b[0m\u001b[1;33m=\u001b[0m\u001b[1;36m40\u001b[0m\u001b[1;33m,\u001b[0m\u001b[0ml1_ratio\u001b[0m\u001b[1;33m=\u001b[0m\u001b[1;36m0.5\u001b[0m\u001b[1;33m)\u001b[0m\u001b[1;33m.\u001b[0m\u001b[0mfit\u001b[0m\u001b[1;33m(\u001b[0m\u001b[0mX_train\u001b[0m\u001b[1;33m,\u001b[0m\u001b[0mY_train\u001b[0m\u001b[1;33m)\u001b[0m\u001b[1;33m\u001b[0m\u001b[1;33m\u001b[0m\u001b[0m\n\u001b[1;32m----> 2\u001b[1;33m \u001b[0mgcv\u001b[0m\u001b[1;33m=\u001b[0m\u001b[0mGridSearchCV\u001b[0m\u001b[1;33m(\u001b[0m\u001b[0mcoxnet\u001b[0m\u001b[1;33m,\u001b[0m\u001b[1;33m{\u001b[0m\u001b[1;34m\"alphas\"\u001b[0m\u001b[1;33m:\u001b[0m\u001b[1;33m[\u001b[0m\u001b[1;33m[\u001b[0m\u001b[0mv\u001b[0m\u001b[1;33m]\u001b[0m \u001b[1;32mfor\u001b[0m \u001b[0mv\u001b[0m \u001b[1;32min\u001b[0m \u001b[0mcoxnet\u001b[0m\u001b[1;33m.\u001b[0m\u001b[0malphas_\u001b[0m\u001b[1;33m]\u001b[0m\u001b[1;33m}\u001b[0m\u001b[1;33m,\u001b[0m\u001b[0mcv\u001b[0m\u001b[1;33m=\u001b[0m\u001b[0mcv\u001b[0m\u001b[1;33m)\u001b[0m\u001b[1;33m.\u001b[0m\u001b[0mfit\u001b[0m\u001b[1;33m(\u001b[0m\u001b[0mX_train\u001b[0m\u001b[1;33m,\u001b[0m\u001b[0mY_train\u001b[0m\u001b[1;33m)\u001b[0m\u001b[1;33m\u001b[0m\u001b[1;33m\u001b[0m\u001b[0m\n\u001b[0m",
      "\u001b[1;32m~\\Anaconda3\\lib\\site-packages\\sklearn\\model_selection\\_search.py\u001b[0m in \u001b[0;36mfit\u001b[1;34m(self, X, y, groups, **fit_params)\u001b[0m\n\u001b[0;32m    720\u001b[0m                 \u001b[1;32mreturn\u001b[0m \u001b[0mresults_container\u001b[0m\u001b[1;33m[\u001b[0m\u001b[1;36m0\u001b[0m\u001b[1;33m]\u001b[0m\u001b[1;33m\u001b[0m\u001b[1;33m\u001b[0m\u001b[0m\n\u001b[0;32m    721\u001b[0m \u001b[1;33m\u001b[0m\u001b[0m\n\u001b[1;32m--> 722\u001b[1;33m             \u001b[0mself\u001b[0m\u001b[1;33m.\u001b[0m\u001b[0m_run_search\u001b[0m\u001b[1;33m(\u001b[0m\u001b[0mevaluate_candidates\u001b[0m\u001b[1;33m)\u001b[0m\u001b[1;33m\u001b[0m\u001b[1;33m\u001b[0m\u001b[0m\n\u001b[0m\u001b[0;32m    723\u001b[0m \u001b[1;33m\u001b[0m\u001b[0m\n\u001b[0;32m    724\u001b[0m         \u001b[0mresults\u001b[0m \u001b[1;33m=\u001b[0m \u001b[0mresults_container\u001b[0m\u001b[1;33m[\u001b[0m\u001b[1;36m0\u001b[0m\u001b[1;33m]\u001b[0m\u001b[1;33m\u001b[0m\u001b[1;33m\u001b[0m\u001b[0m\n",
      "\u001b[1;32m~\\Anaconda3\\lib\\site-packages\\sklearn\\model_selection\\_search.py\u001b[0m in \u001b[0;36m_run_search\u001b[1;34m(self, evaluate_candidates)\u001b[0m\n\u001b[0;32m   1189\u001b[0m     \u001b[1;32mdef\u001b[0m \u001b[0m_run_search\u001b[0m\u001b[1;33m(\u001b[0m\u001b[0mself\u001b[0m\u001b[1;33m,\u001b[0m \u001b[0mevaluate_candidates\u001b[0m\u001b[1;33m)\u001b[0m\u001b[1;33m:\u001b[0m\u001b[1;33m\u001b[0m\u001b[1;33m\u001b[0m\u001b[0m\n\u001b[0;32m   1190\u001b[0m         \u001b[1;34m\"\"\"Search all candidates in param_grid\"\"\"\u001b[0m\u001b[1;33m\u001b[0m\u001b[1;33m\u001b[0m\u001b[0m\n\u001b[1;32m-> 1191\u001b[1;33m         \u001b[0mevaluate_candidates\u001b[0m\u001b[1;33m(\u001b[0m\u001b[0mParameterGrid\u001b[0m\u001b[1;33m(\u001b[0m\u001b[0mself\u001b[0m\u001b[1;33m.\u001b[0m\u001b[0mparam_grid\u001b[0m\u001b[1;33m)\u001b[0m\u001b[1;33m)\u001b[0m\u001b[1;33m\u001b[0m\u001b[1;33m\u001b[0m\u001b[0m\n\u001b[0m\u001b[0;32m   1192\u001b[0m \u001b[1;33m\u001b[0m\u001b[0m\n\u001b[0;32m   1193\u001b[0m \u001b[1;33m\u001b[0m\u001b[0m\n",
      "\u001b[1;32m~\\Anaconda3\\lib\\site-packages\\sklearn\\model_selection\\_search.py\u001b[0m in \u001b[0;36mevaluate_candidates\u001b[1;34m(candidate_params)\u001b[0m\n\u001b[0;32m    709\u001b[0m                                \u001b[1;32mfor\u001b[0m \u001b[0mparameters\u001b[0m\u001b[1;33m,\u001b[0m \u001b[1;33m(\u001b[0m\u001b[0mtrain\u001b[0m\u001b[1;33m,\u001b[0m \u001b[0mtest\u001b[0m\u001b[1;33m)\u001b[0m\u001b[1;33m\u001b[0m\u001b[1;33m\u001b[0m\u001b[0m\n\u001b[0;32m    710\u001b[0m                                in product(candidate_params,\n\u001b[1;32m--> 711\u001b[1;33m                                           cv.split(X, y, groups)))\n\u001b[0m\u001b[0;32m    712\u001b[0m \u001b[1;33m\u001b[0m\u001b[0m\n\u001b[0;32m    713\u001b[0m                 \u001b[0mall_candidate_params\u001b[0m\u001b[1;33m.\u001b[0m\u001b[0mextend\u001b[0m\u001b[1;33m(\u001b[0m\u001b[0mcandidate_params\u001b[0m\u001b[1;33m)\u001b[0m\u001b[1;33m\u001b[0m\u001b[1;33m\u001b[0m\u001b[0m\n",
      "\u001b[1;32m~\\Anaconda3\\lib\\site-packages\\sklearn\\externals\\joblib\\parallel.py\u001b[0m in \u001b[0;36m__call__\u001b[1;34m(self, iterable)\u001b[0m\n\u001b[0;32m    918\u001b[0m                 \u001b[0mself\u001b[0m\u001b[1;33m.\u001b[0m\u001b[0m_iterating\u001b[0m \u001b[1;33m=\u001b[0m \u001b[0mself\u001b[0m\u001b[1;33m.\u001b[0m\u001b[0m_original_iterator\u001b[0m \u001b[1;32mis\u001b[0m \u001b[1;32mnot\u001b[0m \u001b[1;32mNone\u001b[0m\u001b[1;33m\u001b[0m\u001b[1;33m\u001b[0m\u001b[0m\n\u001b[0;32m    919\u001b[0m \u001b[1;33m\u001b[0m\u001b[0m\n\u001b[1;32m--> 920\u001b[1;33m             \u001b[1;32mwhile\u001b[0m \u001b[0mself\u001b[0m\u001b[1;33m.\u001b[0m\u001b[0mdispatch_one_batch\u001b[0m\u001b[1;33m(\u001b[0m\u001b[0miterator\u001b[0m\u001b[1;33m)\u001b[0m\u001b[1;33m:\u001b[0m\u001b[1;33m\u001b[0m\u001b[1;33m\u001b[0m\u001b[0m\n\u001b[0m\u001b[0;32m    921\u001b[0m                 \u001b[1;32mpass\u001b[0m\u001b[1;33m\u001b[0m\u001b[1;33m\u001b[0m\u001b[0m\n\u001b[0;32m    922\u001b[0m \u001b[1;33m\u001b[0m\u001b[0m\n",
      "\u001b[1;32m~\\Anaconda3\\lib\\site-packages\\sklearn\\externals\\joblib\\parallel.py\u001b[0m in \u001b[0;36mdispatch_one_batch\u001b[1;34m(self, iterator)\u001b[0m\n\u001b[0;32m    757\u001b[0m                 \u001b[1;32mreturn\u001b[0m \u001b[1;32mFalse\u001b[0m\u001b[1;33m\u001b[0m\u001b[1;33m\u001b[0m\u001b[0m\n\u001b[0;32m    758\u001b[0m             \u001b[1;32melse\u001b[0m\u001b[1;33m:\u001b[0m\u001b[1;33m\u001b[0m\u001b[1;33m\u001b[0m\u001b[0m\n\u001b[1;32m--> 759\u001b[1;33m                 \u001b[0mself\u001b[0m\u001b[1;33m.\u001b[0m\u001b[0m_dispatch\u001b[0m\u001b[1;33m(\u001b[0m\u001b[0mtasks\u001b[0m\u001b[1;33m)\u001b[0m\u001b[1;33m\u001b[0m\u001b[1;33m\u001b[0m\u001b[0m\n\u001b[0m\u001b[0;32m    760\u001b[0m                 \u001b[1;32mreturn\u001b[0m \u001b[1;32mTrue\u001b[0m\u001b[1;33m\u001b[0m\u001b[1;33m\u001b[0m\u001b[0m\n\u001b[0;32m    761\u001b[0m \u001b[1;33m\u001b[0m\u001b[0m\n",
      "\u001b[1;32m~\\Anaconda3\\lib\\site-packages\\sklearn\\externals\\joblib\\parallel.py\u001b[0m in \u001b[0;36m_dispatch\u001b[1;34m(self, batch)\u001b[0m\n\u001b[0;32m    714\u001b[0m         \u001b[1;32mwith\u001b[0m \u001b[0mself\u001b[0m\u001b[1;33m.\u001b[0m\u001b[0m_lock\u001b[0m\u001b[1;33m:\u001b[0m\u001b[1;33m\u001b[0m\u001b[1;33m\u001b[0m\u001b[0m\n\u001b[0;32m    715\u001b[0m             \u001b[0mjob_idx\u001b[0m \u001b[1;33m=\u001b[0m \u001b[0mlen\u001b[0m\u001b[1;33m(\u001b[0m\u001b[0mself\u001b[0m\u001b[1;33m.\u001b[0m\u001b[0m_jobs\u001b[0m\u001b[1;33m)\u001b[0m\u001b[1;33m\u001b[0m\u001b[1;33m\u001b[0m\u001b[0m\n\u001b[1;32m--> 716\u001b[1;33m             \u001b[0mjob\u001b[0m \u001b[1;33m=\u001b[0m \u001b[0mself\u001b[0m\u001b[1;33m.\u001b[0m\u001b[0m_backend\u001b[0m\u001b[1;33m.\u001b[0m\u001b[0mapply_async\u001b[0m\u001b[1;33m(\u001b[0m\u001b[0mbatch\u001b[0m\u001b[1;33m,\u001b[0m \u001b[0mcallback\u001b[0m\u001b[1;33m=\u001b[0m\u001b[0mcb\u001b[0m\u001b[1;33m)\u001b[0m\u001b[1;33m\u001b[0m\u001b[1;33m\u001b[0m\u001b[0m\n\u001b[0m\u001b[0;32m    717\u001b[0m             \u001b[1;31m# A job can complete so quickly than its callback is\u001b[0m\u001b[1;33m\u001b[0m\u001b[1;33m\u001b[0m\u001b[1;33m\u001b[0m\u001b[0m\n\u001b[0;32m    718\u001b[0m             \u001b[1;31m# called before we get here, causing self._jobs to\u001b[0m\u001b[1;33m\u001b[0m\u001b[1;33m\u001b[0m\u001b[1;33m\u001b[0m\u001b[0m\n",
      "\u001b[1;32m~\\Anaconda3\\lib\\site-packages\\sklearn\\externals\\joblib\\_parallel_backends.py\u001b[0m in \u001b[0;36mapply_async\u001b[1;34m(self, func, callback)\u001b[0m\n\u001b[0;32m    180\u001b[0m     \u001b[1;32mdef\u001b[0m \u001b[0mapply_async\u001b[0m\u001b[1;33m(\u001b[0m\u001b[0mself\u001b[0m\u001b[1;33m,\u001b[0m \u001b[0mfunc\u001b[0m\u001b[1;33m,\u001b[0m \u001b[0mcallback\u001b[0m\u001b[1;33m=\u001b[0m\u001b[1;32mNone\u001b[0m\u001b[1;33m)\u001b[0m\u001b[1;33m:\u001b[0m\u001b[1;33m\u001b[0m\u001b[1;33m\u001b[0m\u001b[0m\n\u001b[0;32m    181\u001b[0m         \u001b[1;34m\"\"\"Schedule a func to be run\"\"\"\u001b[0m\u001b[1;33m\u001b[0m\u001b[1;33m\u001b[0m\u001b[0m\n\u001b[1;32m--> 182\u001b[1;33m         \u001b[0mresult\u001b[0m \u001b[1;33m=\u001b[0m \u001b[0mImmediateResult\u001b[0m\u001b[1;33m(\u001b[0m\u001b[0mfunc\u001b[0m\u001b[1;33m)\u001b[0m\u001b[1;33m\u001b[0m\u001b[1;33m\u001b[0m\u001b[0m\n\u001b[0m\u001b[0;32m    183\u001b[0m         \u001b[1;32mif\u001b[0m \u001b[0mcallback\u001b[0m\u001b[1;33m:\u001b[0m\u001b[1;33m\u001b[0m\u001b[1;33m\u001b[0m\u001b[0m\n\u001b[0;32m    184\u001b[0m             \u001b[0mcallback\u001b[0m\u001b[1;33m(\u001b[0m\u001b[0mresult\u001b[0m\u001b[1;33m)\u001b[0m\u001b[1;33m\u001b[0m\u001b[1;33m\u001b[0m\u001b[0m\n",
      "\u001b[1;32m~\\Anaconda3\\lib\\site-packages\\sklearn\\externals\\joblib\\_parallel_backends.py\u001b[0m in \u001b[0;36m__init__\u001b[1;34m(self, batch)\u001b[0m\n\u001b[0;32m    547\u001b[0m         \u001b[1;31m# Don't delay the application, to avoid keeping the input\u001b[0m\u001b[1;33m\u001b[0m\u001b[1;33m\u001b[0m\u001b[1;33m\u001b[0m\u001b[0m\n\u001b[0;32m    548\u001b[0m         \u001b[1;31m# arguments in memory\u001b[0m\u001b[1;33m\u001b[0m\u001b[1;33m\u001b[0m\u001b[1;33m\u001b[0m\u001b[0m\n\u001b[1;32m--> 549\u001b[1;33m         \u001b[0mself\u001b[0m\u001b[1;33m.\u001b[0m\u001b[0mresults\u001b[0m \u001b[1;33m=\u001b[0m \u001b[0mbatch\u001b[0m\u001b[1;33m(\u001b[0m\u001b[1;33m)\u001b[0m\u001b[1;33m\u001b[0m\u001b[1;33m\u001b[0m\u001b[0m\n\u001b[0m\u001b[0;32m    550\u001b[0m \u001b[1;33m\u001b[0m\u001b[0m\n\u001b[0;32m    551\u001b[0m     \u001b[1;32mdef\u001b[0m \u001b[0mget\u001b[0m\u001b[1;33m(\u001b[0m\u001b[0mself\u001b[0m\u001b[1;33m)\u001b[0m\u001b[1;33m:\u001b[0m\u001b[1;33m\u001b[0m\u001b[1;33m\u001b[0m\u001b[0m\n",
      "\u001b[1;32m~\\Anaconda3\\lib\\site-packages\\sklearn\\externals\\joblib\\parallel.py\u001b[0m in \u001b[0;36m__call__\u001b[1;34m(self)\u001b[0m\n\u001b[0;32m    223\u001b[0m         \u001b[1;32mwith\u001b[0m \u001b[0mparallel_backend\u001b[0m\u001b[1;33m(\u001b[0m\u001b[0mself\u001b[0m\u001b[1;33m.\u001b[0m\u001b[0m_backend\u001b[0m\u001b[1;33m,\u001b[0m \u001b[0mn_jobs\u001b[0m\u001b[1;33m=\u001b[0m\u001b[0mself\u001b[0m\u001b[1;33m.\u001b[0m\u001b[0m_n_jobs\u001b[0m\u001b[1;33m)\u001b[0m\u001b[1;33m:\u001b[0m\u001b[1;33m\u001b[0m\u001b[1;33m\u001b[0m\u001b[0m\n\u001b[0;32m    224\u001b[0m             return [func(*args, **kwargs)\n\u001b[1;32m--> 225\u001b[1;33m                     for func, args, kwargs in self.items]\n\u001b[0m\u001b[0;32m    226\u001b[0m \u001b[1;33m\u001b[0m\u001b[0m\n\u001b[0;32m    227\u001b[0m     \u001b[1;32mdef\u001b[0m \u001b[0m__len__\u001b[0m\u001b[1;33m(\u001b[0m\u001b[0mself\u001b[0m\u001b[1;33m)\u001b[0m\u001b[1;33m:\u001b[0m\u001b[1;33m\u001b[0m\u001b[1;33m\u001b[0m\u001b[0m\n",
      "\u001b[1;32m~\\Anaconda3\\lib\\site-packages\\sklearn\\externals\\joblib\\parallel.py\u001b[0m in \u001b[0;36m<listcomp>\u001b[1;34m(.0)\u001b[0m\n\u001b[0;32m    223\u001b[0m         \u001b[1;32mwith\u001b[0m \u001b[0mparallel_backend\u001b[0m\u001b[1;33m(\u001b[0m\u001b[0mself\u001b[0m\u001b[1;33m.\u001b[0m\u001b[0m_backend\u001b[0m\u001b[1;33m,\u001b[0m \u001b[0mn_jobs\u001b[0m\u001b[1;33m=\u001b[0m\u001b[0mself\u001b[0m\u001b[1;33m.\u001b[0m\u001b[0m_n_jobs\u001b[0m\u001b[1;33m)\u001b[0m\u001b[1;33m:\u001b[0m\u001b[1;33m\u001b[0m\u001b[1;33m\u001b[0m\u001b[0m\n\u001b[0;32m    224\u001b[0m             return [func(*args, **kwargs)\n\u001b[1;32m--> 225\u001b[1;33m                     for func, args, kwargs in self.items]\n\u001b[0m\u001b[0;32m    226\u001b[0m \u001b[1;33m\u001b[0m\u001b[0m\n\u001b[0;32m    227\u001b[0m     \u001b[1;32mdef\u001b[0m \u001b[0m__len__\u001b[0m\u001b[1;33m(\u001b[0m\u001b[0mself\u001b[0m\u001b[1;33m)\u001b[0m\u001b[1;33m:\u001b[0m\u001b[1;33m\u001b[0m\u001b[1;33m\u001b[0m\u001b[0m\n",
      "\u001b[1;32m~\\Anaconda3\\lib\\site-packages\\sklearn\\model_selection\\_validation.py\u001b[0m in \u001b[0;36m_fit_and_score\u001b[1;34m(estimator, X, y, scorer, train, test, verbose, parameters, fit_params, return_train_score, return_parameters, return_n_test_samples, return_times, return_estimator, error_score)\u001b[0m\n\u001b[0;32m    526\u001b[0m             \u001b[0mestimator\u001b[0m\u001b[1;33m.\u001b[0m\u001b[0mfit\u001b[0m\u001b[1;33m(\u001b[0m\u001b[0mX_train\u001b[0m\u001b[1;33m,\u001b[0m \u001b[1;33m**\u001b[0m\u001b[0mfit_params\u001b[0m\u001b[1;33m)\u001b[0m\u001b[1;33m\u001b[0m\u001b[1;33m\u001b[0m\u001b[0m\n\u001b[0;32m    527\u001b[0m         \u001b[1;32melse\u001b[0m\u001b[1;33m:\u001b[0m\u001b[1;33m\u001b[0m\u001b[1;33m\u001b[0m\u001b[0m\n\u001b[1;32m--> 528\u001b[1;33m             \u001b[0mestimator\u001b[0m\u001b[1;33m.\u001b[0m\u001b[0mfit\u001b[0m\u001b[1;33m(\u001b[0m\u001b[0mX_train\u001b[0m\u001b[1;33m,\u001b[0m \u001b[0my_train\u001b[0m\u001b[1;33m,\u001b[0m \u001b[1;33m**\u001b[0m\u001b[0mfit_params\u001b[0m\u001b[1;33m)\u001b[0m\u001b[1;33m\u001b[0m\u001b[1;33m\u001b[0m\u001b[0m\n\u001b[0m\u001b[0;32m    529\u001b[0m \u001b[1;33m\u001b[0m\u001b[0m\n\u001b[0;32m    530\u001b[0m     \u001b[1;32mexcept\u001b[0m \u001b[0mException\u001b[0m \u001b[1;32mas\u001b[0m \u001b[0me\u001b[0m\u001b[1;33m:\u001b[0m\u001b[1;33m\u001b[0m\u001b[1;33m\u001b[0m\u001b[0m\n",
      "\u001b[1;32m~\\Anaconda3\\lib\\site-packages\\sksurv\\linear_model\\coxnet.py\u001b[0m in \u001b[0;36mfit\u001b[1;34m(self, X, y)\u001b[0m\n\u001b[0;32m    189\u001b[0m             \u001b[0mX\u001b[0m\u001b[1;33m,\u001b[0m \u001b[0mtime\u001b[0m\u001b[1;33m,\u001b[0m \u001b[0mevent_num\u001b[0m\u001b[1;33m,\u001b[0m \u001b[0mpenalty\u001b[0m\u001b[1;33m,\u001b[0m \u001b[0malphas\u001b[0m\u001b[1;33m,\u001b[0m \u001b[0mcreate_path\u001b[0m\u001b[1;33m,\u001b[0m\u001b[1;33m\u001b[0m\u001b[1;33m\u001b[0m\u001b[0m\n\u001b[0;32m    190\u001b[0m             \u001b[0mself\u001b[0m\u001b[1;33m.\u001b[0m\u001b[0malpha_min_ratio\u001b[0m\u001b[1;33m,\u001b[0m \u001b[0mself\u001b[0m\u001b[1;33m.\u001b[0m\u001b[0ml1_ratio\u001b[0m\u001b[1;33m,\u001b[0m \u001b[0mint\u001b[0m\u001b[1;33m(\u001b[0m\u001b[0mself\u001b[0m\u001b[1;33m.\u001b[0m\u001b[0mmax_iter\u001b[0m\u001b[1;33m)\u001b[0m\u001b[1;33m,\u001b[0m\u001b[1;33m\u001b[0m\u001b[1;33m\u001b[0m\u001b[0m\n\u001b[1;32m--> 191\u001b[1;33m             self.tol, self.verbose)\n\u001b[0m\u001b[0;32m    192\u001b[0m         \u001b[1;32massert\u001b[0m \u001b[0mnumpy\u001b[0m\u001b[1;33m.\u001b[0m\u001b[0misfinite\u001b[0m\u001b[1;33m(\u001b[0m\u001b[0mcoef\u001b[0m\u001b[1;33m)\u001b[0m\u001b[1;33m.\u001b[0m\u001b[0mall\u001b[0m\u001b[1;33m(\u001b[0m\u001b[1;33m)\u001b[0m\u001b[1;33m\u001b[0m\u001b[1;33m\u001b[0m\u001b[0m\n\u001b[0;32m    193\u001b[0m \u001b[1;33m\u001b[0m\u001b[0m\n",
      "\u001b[1;31mKeyboardInterrupt\u001b[0m: "
     ]
    }
   ],
   "source": [
    "coxnet=CoxnetSurvivalAnalysis(n_alphas=40,l1_ratio=0.5).fit(X_train,Y_train)\n",
    "gcv=GridSearchCV(coxnet,{\"alphas\":[[v] for v in coxnet.alphas_]},cv=cv).fit(X_train,Y_train)"
   ]
  },
  {
   "cell_type": "code",
   "execution_count": null,
   "metadata": {},
   "outputs": [],
   "source": []
  }
 ],
 "metadata": {
  "kernelspec": {
   "display_name": "Python 3",
   "language": "python",
   "name": "python3"
  },
  "language_info": {
   "codemirror_mode": {
    "name": "ipython",
    "version": 3
   },
   "file_extension": ".py",
   "mimetype": "text/x-python",
   "name": "python",
   "nbconvert_exporter": "python",
   "pygments_lexer": "ipython3",
   "version": "3.7.1"
  }
 },
 "nbformat": 4,
 "nbformat_minor": 2
}
