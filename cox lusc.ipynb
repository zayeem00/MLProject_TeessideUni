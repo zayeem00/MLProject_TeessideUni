{
 "cells": [
  {
   "cell_type": "code",
   "execution_count": 4,
   "metadata": {},
   "outputs": [],
   "source": [
    "import sksurv\n",
    "import os\n",
    "import pandas as pd"
   ]
  },
  {
   "cell_type": "code",
   "execution_count": 5,
   "metadata": {},
   "outputs": [],
   "source": [
    "os.chdir('C:\\\\Users\\\\v8307436\\\\Downloads\\\\ProjectDataset')"
   ]
  },
  {
   "cell_type": "code",
   "execution_count": 18,
   "metadata": {},
   "outputs": [],
   "source": [
    "dt=pd.read_excel('selected genes LUSC.xlsx')\n"
   ]
  },
  {
   "cell_type": "code",
   "execution_count": 19,
   "metadata": {},
   "outputs": [],
   "source": [
    "dt=dt.set_index(dt.columns[0])"
   ]
  },
  {
   "cell_type": "code",
   "execution_count": 28,
   "metadata": {},
   "outputs": [],
   "source": []
  },
  {
   "cell_type": "code",
   "execution_count": 20,
   "metadata": {},
   "outputs": [],
   "source": [
    "c=pd.read_excel('cox LUSC.xlsx')"
   ]
  },
  {
   "cell_type": "code",
   "execution_count": 25,
   "metadata": {},
   "outputs": [],
   "source": [
    "result=c.to_records(index=False)"
   ]
  },
  {
   "cell_type": "code",
   "execution_count": 22,
   "metadata": {},
   "outputs": [],
   "source": [
    "c['Patient\\'s Vital Status' ]=c['Patient\\'s Vital Status' ].astype('bool')"
   ]
  },
  {
   "cell_type": "code",
   "execution_count": 23,
   "metadata": {},
   "outputs": [
    {
     "name": "stdout",
     "output_type": "stream",
     "text": [
      "Index(['Patient's Vital Status', 'Overall Survival'], dtype='object')\n"
     ]
    }
   ],
   "source": [
    "print(c.columns)"
   ]
  },
  {
   "cell_type": "code",
   "execution_count": 29,
   "metadata": {},
   "outputs": [
    {
     "data": {
      "text/plain": [
       "CoxPHSurvivalAnalysis(alpha=0, n_iter=1000, tol=1e-09, verbose=0)"
      ]
     },
     "execution_count": 29,
     "metadata": {},
     "output_type": "execute_result"
    }
   ],
   "source": [
    "from sksurv.linear_model import CoxPHSurvivalAnalysis\n",
    "estimator = CoxPHSurvivalAnalysis(n_iter=1000)\n",
    "estimator.fit(dt, result)\n"
   ]
  },
  {
   "cell_type": "code",
   "execution_count": 30,
   "metadata": {},
   "outputs": [
    {
     "data": {
      "text/plain": [
       "A4GALT                                                             -1.068300\n",
       "AASDHPPT                                                           -0.566599\n",
       "ABCA4                                                               1.054608\n",
       "ABCC1                                                               3.559242\n",
       "ACER3                                                              -0.311991\n",
       "ACSM3                                                              -1.700672\n",
       "ACTN1                                                               2.499476\n",
       "ADCY5                                                              -1.287038\n",
       "AFF2                                                                2.013827\n",
       "ALKBH6                                                             -1.634272\n",
       "ANO5                                                                2.785078\n",
       "ANXA11                                                              1.546328\n",
       "ANXA1                                                              -2.386701\n",
       "APC2                                                               -0.636367\n",
       "ARHGAP1                                                             1.559302\n",
       "ARHGEF35                                                           -4.493109\n",
       "ARL6                                                                0.266999\n",
       "ASH2L                                                               0.209293\n",
       "ATG12                                                               0.574927\n",
       "ATP1A2                                                              3.112769\n",
       "ATP1B2                                                            -10.577539\n",
       "ATP8B2                                                             -2.677948\n",
       "ATP8B3                                                             -0.040584\n",
       "ATXN10                                                             -1.792028\n",
       "ATXN1                                                               0.449161\n",
       "BAIAP3                                                             -3.332258\n",
       "BASP1                                                              -0.352915\n",
       "BCL2L13                                                             1.018293\n",
       "BEST1                                                               1.234372\n",
       "C10ORF91                                                           -0.411810\n",
       "                                                                     ...    \n",
       "SAA3P                                                               0.260745\n",
       "SAP130                                                             -0.014202\n",
       "SCFD2                                                              -0.480821\n",
       "SDCBP2                                                              2.069770\n",
       "SDHB                                                                0.599626\n",
       "SDR42E1                                                             0.405063\n",
       "SEC11C                                                             -3.849583\n",
       "SF3B4                                                              -0.439910\n",
       "SIGLEC12                                                            0.026350\n",
       "SIGLEC16                                                            0.906629\n",
       "SLC10A7                                                            -0.060091\n",
       "SLC12A1                                                             1.948931\n",
       "SLC13A4                                                            -3.047524\n",
       "SLC16A9                                                            -0.972072\n",
       "SLC22A23                                                           -1.370113\n",
       "SLC25A37                                                           -0.280032\n",
       "SLC35A1                                                            -0.193467\n",
       "SLC44A2                                                             0.344501\n",
       "SLC4A2                                                              0.747959\n",
       "SLC6A18                                                            -0.657204\n",
       "Diagnosis Age                                                      -0.023339\n",
       "Sex                                                                 4.201639\n",
       "Disease Free (Months)                                              -0.513779\n",
       "Person Cigarette Smoking History Pack Year Value                    0.070249\n",
       "Fraction Genome Altered                                            -3.724932\n",
       "Overall Survival Status                                            27.086567\n",
       "Disease Free Status                                                -3.305450\n",
       "Person Neoplasm Status                                             -4.031282\n",
       "Primary Tumor Site                                                 -0.353297\n",
       "Neoplasm Disease Stage American Joint Committee on Cancer Code3     0.646343\n",
       "Length: 330, dtype: float64"
      ]
     },
     "execution_count": 30,
     "metadata": {},
     "output_type": "execute_result"
    }
   ],
   "source": [
    "pd.Series(estimator.coef_, index=dt.columns)"
   ]
  },
  {
   "cell_type": "code",
   "execution_count": 34,
   "metadata": {},
   "outputs": [
    {
     "data": {
      "text/plain": [
       "0.9940746533521821"
      ]
     },
     "execution_count": 34,
     "metadata": {},
     "output_type": "execute_result"
    }
   ],
   "source": [
    "from sksurv.metrics import concordance_index_censored\n",
    "\n",
    "prediction = estimator.predict(dt)\n",
    "result = concordance_index_censored(c['Patient\\'s Vital Status'], c['Overall Survival'], prediction)\n",
    "result[0]"
   ]
  },
  {
   "cell_type": "code",
   "execution_count": 36,
   "metadata": {},
   "outputs": [
    {
     "data": {
      "text/plain": [
       "Text(0.5,0,'time $t$')"
      ]
     },
     "execution_count": 36,
     "metadata": {},
     "output_type": "execute_result"
    },
    {
     "data": {
      "image/png": "[encoded data removed]",
      "text/plain": [
       "<Figure size 432x288 with 1 Axes>"
      ]
     },
     "metadata": {},
     "output_type": "display_data"
    }
   ],
   "source": [
    "%matplotlib inline\n",
    "import matplotlib.pyplot as plt\n",
    "from sksurv.nonparametric import kaplan_meier_estimator\n",
    "\n",
    "time, survival_prob = kaplan_meier_estimator(c['Patient\\'s Vital Status'], c['Overall Survival'])\n",
    "plt.step(time, survival_prob, where=\"post\")\n",
    "plt.ylabel(\"est. probability of survival $\\hat{S}(t)$\")\n",
    "plt.xlabel(\"time $t$\")"
   ]
  },
  {
   "cell_type": "code",
   "execution_count": null,
   "metadata": {},
   "outputs": [],
   "source": []
  }
 ],
 "metadata": {
  "kernelspec": {
   "display_name": "Python 3",
   "language": "python",
   "name": "python3"
  },
  "language_info": {
   "codemirror_mode": {
    "name": "ipython",
    "version": 3
   },
   "file_extension": ".py",
   "mimetype": "text/x-python",
   "name": "python",
   "nbconvert_exporter": "python",
   "pygments_lexer": "ipython3",
   "version": "3.6.5"
  }
 },
 "nbformat": 4,
 "nbformat_minor": 2
}
