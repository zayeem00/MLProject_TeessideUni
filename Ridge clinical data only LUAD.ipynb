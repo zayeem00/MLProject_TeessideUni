{
 "cells": [
  {
   "cell_type": "code",
   "execution_count": 8,
   "metadata": {},
   "outputs": [],
   "source": [
    "import os\n",
    "import matplotlib.pyplot as plt\n",
    "import pandas as pd"
   ]
  },
  {
   "cell_type": "code",
   "execution_count": 6,
   "metadata": {},
   "outputs": [],
   "source": [
    "os.chdir('U:\\\\ProjectDataset')"
   ]
  },
  {
   "cell_type": "code",
   "execution_count": 7,
   "metadata": {},
   "outputs": [],
   "source": [
    "dt1=pd.read_excel('selected clinical LUAD.xlsx')"
   ]
  },
  {
   "cell_type": "code",
   "execution_count": 10,
   "metadata": {},
   "outputs": [],
   "source": [
    "dt1=dt1.set_index(dt1.columns[0])\n",
    "\n"
   ]
  },
  {
   "cell_type": "code",
   "execution_count": 14,
   "metadata": {},
   "outputs": [],
   "source": [
    "tar=pd.read_excel('survival_LUAD.xlsx')"
   ]
  },
  {
   "cell_type": "code",
   "execution_count": 15,
   "metadata": {},
   "outputs": [],
   "source": [
    "Y=tar"
   ]
  },
  {
   "cell_type": "code",
   "execution_count": 16,
   "metadata": {},
   "outputs": [],
   "source": [
    "from sklearn.model_selection import train_test_split\n",
    "X_train,X_test,Y_train,Y_test=train_test_split(dt1,Y,test_size=0.3,random_state=42) "
   ]
  },
  {
   "cell_type": "code",
   "execution_count": 17,
   "metadata": {},
   "outputs": [
    {
     "name": "stdout",
     "output_type": "stream",
     "text": [
      "(361, 11) (361, 1)\n",
      "(156, 11) (156, 1)\n"
     ]
    }
   ],
   "source": [
    "print(X_train.shape,Y_train.shape)\n",
    "print(X_test.shape,Y_test.shape)"
   ]
  },
  {
   "cell_type": "code",
   "execution_count": 18,
   "metadata": {},
   "outputs": [
    {
     "name": "stdout",
     "output_type": "stream",
     "text": [
      "test\n",
      "0.7470473795628858\n",
      "train\n",
      "0.713455013177533\n"
     ]
    }
   ],
   "source": [
    "from sklearn.linear_model import Ridge\n",
    "ridgeReg=Ridge(alpha=0.5,normalize=True)\n",
    "ridgeReg.fit(X_train,Y_train)\n",
    "predictions=ridgeReg.predict(X_test)\n",
    "print('test')\n",
    "print(ridgeReg.score(X_test,Y_test))\n",
    "print('train')\n",
    "print(ridgeReg.score(X_train,Y_train))"
   ]
  },
  {
   "cell_type": "code",
   "execution_count": 19,
   "metadata": {},
   "outputs": [
    {
     "name": "stdout",
     "output_type": "stream",
     "text": [
      "test\n",
      "0.8540709340205515\n",
      "train\n",
      "0.8030105343302274\n"
     ]
    }
   ],
   "source": [
    "from sklearn.linear_model import Ridge\n",
    "ridgeReg=Ridge(alpha=0.1,normalize=True)\n",
    "ridgeReg.fit(X_train,Y_train)\n",
    "predictions=ridgeReg.predict(X_test)\n",
    "print('test')\n",
    "print(ridgeReg.score(X_test,Y_test))\n",
    "print('train')\n",
    "print(ridgeReg.score(X_train,Y_train))"
   ]
  },
  {
   "cell_type": "code",
   "execution_count": 20,
   "metadata": {},
   "outputs": [
    {
     "name": "stdout",
     "output_type": "stream",
     "text": [
      "test\n",
      "0.6218447801373431\n",
      "train\n",
      "0.5993272688740519\n"
     ]
    }
   ],
   "source": [
    "from sklearn.linear_model import Ridge\n",
    "ridgeReg=Ridge(alpha=1,normalize=True)\n",
    "ridgeReg.fit(X_train,Y_train)\n",
    "predictions=ridgeReg.predict(X_test)\n",
    "print('test')\n",
    "print(ridgeReg.score(X_test,Y_test))\n",
    "print('train')\n",
    "print(ridgeReg.score(X_train,Y_train))"
   ]
  },
  {
   "cell_type": "code",
   "execution_count": 21,
   "metadata": {},
   "outputs": [
    {
     "name": "stdout",
     "output_type": "stream",
     "text": [
      "test\n",
      "0.45671768980501953\n",
      "train\n",
      "0.44409194785332307\n"
     ]
    }
   ],
   "source": [
    "from sklearn.linear_model import Ridge\n",
    "ridgeReg=Ridge(alpha=2,normalize=True)\n",
    "ridgeReg.fit(X_train,Y_train)\n",
    "predictions=ridgeReg.predict(X_test)\n",
    "print('test')\n",
    "print(ridgeReg.score(X_test,Y_test))\n",
    "print('train')\n",
    "print(ridgeReg.score(X_train,Y_train))"
   ]
  },
  {
   "cell_type": "code",
   "execution_count": 22,
   "metadata": {},
   "outputs": [
    {
     "name": "stdout",
     "output_type": "stream",
     "text": [
      "test\n",
      "0.25101523392027103\n",
      "train\n",
      "0.24639139061748772\n"
     ]
    }
   ],
   "source": [
    "from sklearn.linear_model import Ridge\n",
    "ridgeReg=Ridge(alpha=5,normalize=True)\n",
    "ridgeReg.fit(X_train,Y_train)\n",
    "predictions=ridgeReg.predict(X_test)\n",
    "print('test')\n",
    "print(ridgeReg.score(X_test,Y_test))\n",
    "print('train')\n",
    "print(ridgeReg.score(X_train,Y_train))"
   ]
  },
  {
   "cell_type": "code",
   "execution_count": null,
   "metadata": {},
   "outputs": [],
   "source": []
  }
 ],
 "metadata": {
  "kernelspec": {
   "display_name": "Python 3",
   "language": "python",
   "name": "python3"
  },
  "language_info": {
   "codemirror_mode": {
    "name": "ipython",
    "version": 3
   },
   "file_extension": ".py",
   "mimetype": "text/x-python",
   "name": "python",
   "nbconvert_exporter": "python",
   "pygments_lexer": "ipython3",
   "version": "3.6.5"
  }
 },
 "nbformat": 4,
 "nbformat_minor": 2
}
