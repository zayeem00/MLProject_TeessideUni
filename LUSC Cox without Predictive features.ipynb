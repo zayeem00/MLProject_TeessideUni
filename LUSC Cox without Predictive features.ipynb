{
  "nbformat": 4,
  "nbformat_minor": 0,
  "metadata": {
    "colab": {
      "name": "Untitled6.ipynb",
      "version": "0.3.2",
      "provenance": [],
      "include_colab_link": true
    },
    "kernelspec": {
      "name": "python3",
      "display_name": "Python 3"
    }
  },
  "cells": [
    {
      "cell_type": "markdown",
      "metadata": {
        "id": "view-in-github",
        "colab_type": "text"
      },
      "source": [
        "<a href=\"https://colab.research.google.com/github/zayeem00/MLProject_TeessideUni/blob/master/LUSC%20Cox%20without%20Predictive%20features.ipynb\" target=\"_parent\"><img src=\"https://colab.research.google.com/assets/colab-badge.svg\" alt=\"Open In Colab\"/></a>"
      ]
    },
    {
      "metadata": {
        "id": "j2YvpfaJCal9",
        "colab_type": "code",
        "outputId": "94f0b209-21fd-49ff-8899-04b8874ae20f",
        "colab": {
          "base_uri": "https://localhost:8080/"
        }
      },
      "cell_type": "code",
      "source": [
        "!pip install scikit-survival"
      ],
      "execution_count": 0,
      "outputs": [
        {
          "output_type": "stream",
          "text": [
            "Requirement already satisfied: scikit-survival in /usr/local/lib/python3.6/dist-packages (0.7)\n",
            "Requirement already satisfied: numpy in /usr/local/lib/python3.6/dist-packages (from scikit-survival) (1.14.6)\n",
            "Requirement already satisfied: cvxopt in /usr/local/lib/python3.6/dist-packages (from scikit-survival) (1.2.3)\n",
            "Requirement already satisfied: numexpr in /usr/local/lib/python3.6/dist-packages (from scikit-survival) (2.6.9)\n",
            "Requirement already satisfied: scipy in /usr/local/lib/python3.6/dist-packages (from scikit-survival) (1.1.0)\n",
            "Requirement already satisfied: cvxpy>=1.0 in /usr/local/lib/python3.6/dist-packages (from scikit-survival) (1.0.15)\n",
            "Requirement already satisfied: pandas<0.24,>=0.20 in /usr/local/lib/python3.6/dist-packages (from scikit-survival) (0.22.0)\n",
            "Requirement already satisfied: scikit-learn<0.21,>=0.19.0 in /usr/local/lib/python3.6/dist-packages (from scikit-survival) (0.20.3)\n",
            "Requirement already satisfied: osqp in /usr/local/lib/python3.6/dist-packages (from cvxpy>=1.0->scikit-survival) (0.5.0)\n",
            "Requirement already satisfied: ecos>=2 in /usr/local/lib/python3.6/dist-packages (from cvxpy>=1.0->scikit-survival) (2.0.7.post1)\n",
            "Requirement already satisfied: scs>=1.1.3 in /usr/local/lib/python3.6/dist-packages (from cvxpy>=1.0->scikit-survival) (2.1.0)\n",
            "Requirement already satisfied: multiprocess in /usr/local/lib/python3.6/dist-packages (from cvxpy>=1.0->scikit-survival) (0.70.7)\n",
            "Requirement already satisfied: fastcache in /usr/local/lib/python3.6/dist-packages (from cvxpy>=1.0->scikit-survival) (1.0.2)\n",
            "Requirement already satisfied: six in /usr/local/lib/python3.6/dist-packages (from cvxpy>=1.0->scikit-survival) (1.11.0)\n",
            "Requirement already satisfied: pytz>=2011k in /usr/local/lib/python3.6/dist-packages (from pandas<0.24,>=0.20->scikit-survival) (2018.9)\n",
            "Requirement already satisfied: python-dateutil>=2 in /usr/local/lib/python3.6/dist-packages (from pandas<0.24,>=0.20->scikit-survival) (2.5.3)\n",
            "Requirement already satisfied: future in /usr/local/lib/python3.6/dist-packages (from osqp->cvxpy>=1.0->scikit-survival) (0.16.0)\n",
            "Requirement already satisfied: dill>=0.2.9 in /usr/local/lib/python3.6/dist-packages (from multiprocess->cvxpy>=1.0->scikit-survival) (0.2.9)\n"
          ],
          "name": "stdout"
        }
      ]
    },
    {
      "metadata": {
        "id": "v_fTF8wVCef8",
        "colab_type": "code",
        "colab": {
          "resources": {
            "http://localhost:8080/nbextensions/google.colab/files.js": {
              "data": "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",
              "ok": true,
              "headers": [
                [
                  "content-type",
                  "application/javascript"
                ]
              ],
              "status": 200,
              "status_text": ""
            }
          },
          "base_uri": "https://localhost:8080/",
          "height": 108
        },
        "outputId": "27af0e32-75e3-407e-e04b-c5dd49f27893"
      },
      "cell_type": "code",
      "source": [
        "from google.colab import files\n",
        "files.upload()"
      ],
      "execution_count": 2,
      "outputs": [
        {
          "output_type": "display_data",
          "data": {
            "text/html": [
              "\n",
              "     <input type=\"file\" id=\"files-1e87917f-350b-4051-b92b-18b38293c294\" name=\"files[]\" multiple disabled />\n",
              "     <output id=\"result-1e87917f-350b-4051-b92b-18b38293c294\">\n",
              "      Upload widget is only available when the cell has been executed in the\n",
              "      current browser session. Please rerun this cell to enable.\n",
              "      </output>\n",
              "      <script src=\"/nbextensions/google.colab/files.js\"></script> "
            ],
            "text/plain": [
              "<IPython.core.display.HTML object>"
            ]
          },
          "metadata": {
            "tags": []
          }
        },
        {
          "output_type": "stream",
          "text": [
            "Saving cox LUSC.xlsx to cox LUSC.xlsx\n",
            "Saving LUSC - Copy.xlsx to LUSC - Copy.xlsx\n"
          ],
          "name": "stdout"
        }
      ]
    },
    {
      "metadata": {
        "id": "wlYpEgJzDB0l",
        "colab_type": "code",
        "colab": {}
      },
      "cell_type": "code",
      "source": [
        "import pandas as pd\n",
        "dt=pd.read_excel('LUSC - Copy.xlsx',index_col=0)\n",
        "tar=pd.read_excel('cox LUSC.xlsx')"
      ],
      "execution_count": 0,
      "outputs": []
    },
    {
      "metadata": {
        "id": "yggg2NjwGlu1",
        "colab_type": "code",
        "colab": {}
      },
      "cell_type": "code",
      "source": [
        "\n",
        "result=tar.to_records(index=False)"
      ],
      "execution_count": 0,
      "outputs": []
    },
    {
      "metadata": {
        "id": "koqWwghCGlzF",
        "colab_type": "code",
        "colab": {}
      },
      "cell_type": "code",
      "source": [
        "\n",
        "tar['Patient\\'s Vital Status' ]=tar['Patient\\'s Vital Status' ].astype('bool')"
      ],
      "execution_count": 0,
      "outputs": []
    },
    {
      "metadata": {
        "id": "hMvEZd5xGl13",
        "colab_type": "code",
        "colab": {
          "base_uri": "https://localhost:8080/",
          "height": 2873
        },
        "outputId": "40893a42-09c5-4c71-b715-98a43968cb93"
      },
      "cell_type": "code",
      "source": [
        "result"
      ],
      "execution_count": 20,
      "outputs": [
        {
          "output_type": "execute_result",
          "data": {
            "text/plain": [
              "rec.array([(False, 1.2190e+01), (False, 4.4700e+00), (False, 7.5690e+01),\n",
              "           ( True, 1.2309e+02), (False, 4.8000e+00), ( True, 1.1748e+02),\n",
              "           (False, 1.1330e+01), (False, 2.3520e+01), (False, 9.2080e+01),\n",
              "           (False, 3.1960e+01), (False, 3.6040e+01), ( True, 9.2350e+01),\n",
              "           ( True, 8.6890e+01), (False, 6.1800e+00), (False, 2.7900e+00),\n",
              "           ( True, 1.5420e+02), ( True, 4.9900e+01), (False, 2.7170e+01),\n",
              "           ( True, 1.1945e+02), (False, 4.6850e+01), ( True, 9.9080e+01),\n",
              "           ( True, 7.0110e+01), ( True, 6.0840e+01), (False, 3.4760e+01),\n",
              "           (False, 1.5570e+01), (False, 3.1700e+01), ( True, 1.2234e+02),\n",
              "           (False, 9.3300e+00), ( True, 1.1971e+02), (False, 4.3200e+01),\n",
              "           (False, 3.1600e+01), (False, 8.8040e+01), ( True, 4.1660e+01),\n",
              "           ( True, 3.3900e+01), (False, 1.0810e+01), ( True, 3.2160e+01),\n",
              "           (False, 2.1980e+01), (False, 7.3300e+00), (False, 1.4910e+01),\n",
              "           (False, 4.3000e+00), (False, 6.4160e+01), (False, 1.7400e+00),\n",
              "           (False, 1.4090e+01), (False, 2.7000e+01), (False, 4.8780e+01),\n",
              "           (False, 2.0470e+01), (False, 3.5050e+01), (False, 4.8290e+01),\n",
              "           (False, 2.4110e+01), (False, 5.6000e-01), (False, 3.8140e+01),\n",
              "           (False, 3.4720e+01), (False, 1.3110e+01), (False, 3.2000e+01),\n",
              "           (False, 1.9280e+01), (False, 9.5600e+00), (False, 1.1760e+01),\n",
              "           ( True, 6.0610e+01), (False, 6.4880e+01), (False, 6.3500e+01),\n",
              "           (False, 1.4620e+01), (False, 4.4220e+01), (False, 7.9000e-01),\n",
              "           (False, 8.6240e+01), (False, 7.1290e+01), (False, 7.9140e+01),\n",
              "           (False, 1.1730e+01), (False, 1.8820e+01), (False, 3.0090e+01),\n",
              "           (False, 6.2810e+01), (False, 5.6270e+01), (False, 1.6620e+01),\n",
              "           ( True, 2.2040e+01), (False, 1.2891e+02), ( True, 1.3364e+02),\n",
              "           (False, 9.7860e+01), ( True, 7.9470e+01), (False, 1.7369e+02),\n",
              "           (False, 1.0345e+02), (False, 1.5115e+02), (False, 1.4060e+01),\n",
              "           (False, 5.4400e+01), (False, 1.5400e+00), (False, 1.9740e+01),\n",
              "           ( True, 6.3300e+01), (False, 4.7000e+00), (False, 3.0000e-01),\n",
              "           (False, 3.6600e+01), (False, 6.9300e+00), (False, 1.1091e+02),\n",
              "           (False, 4.4150e+01), (False, 1.1827e+02), (False, 2.7140e+01),\n",
              "           (False, 2.6300e+00), (False, 6.1560e+01), (False, 3.2850e+01),\n",
              "           (False, 6.5180e+01), ( True, 8.1180e+01), ( True, 7.4610e+01),\n",
              "           (False, 9.0700e+00), ( True, 6.0250e+01), ( True, 5.0620e+01),\n",
              "           (False, 1.6920e+01), ( True, 4.4710e+01), ( True, 3.9290e+01),\n",
              "           (False, 4.9600e+00), (False, 1.1200e+00), ( True, 3.8760e+01),\n",
              "           (False, 4.0400e+00), ( True, 2.6410e+01), ( True, 3.3870e+01),\n",
              "           ( True, 4.0100e+00), ( True, 4.3000e-01), ( True, 3.9000e-01),\n",
              "           ( True, 7.9500e+00), ( True, 8.1100e+00), ( True, 7.4600e+00),\n",
              "           ( True, 7.8200e+00), ( True, 6.8000e+00), ( True, 3.9000e-01),\n",
              "           ( True, 3.3800e+00), (False, 3.7550e+01), ( True, 2.8480e+01),\n",
              "           ( True, 2.1680e+01), ( True, 1.3315e+02), ( True, 1.2648e+02),\n",
              "           ( True, 1.1127e+02), (False, 6.8530e+01), (False, 5.5160e+01),\n",
              "           ( True, 8.2460e+01), ( True, 1.0210e+02), (False, 1.7100e+00),\n",
              "           (False, 2.4310e+01), (False, 1.9400e+00), (False, 6.0480e+01),\n",
              "           (False, 3.6370e+01), ( True, 6.8330e+01), ( True, 7.1120e+01),\n",
              "           ( True, 5.5520e+01), (False, 1.7870e+01), (False, 1.7050e+01),\n",
              "           ( True, 4.0180e+01), (False, 2.2470e+01), ( True, 3.8630e+01),\n",
              "           (False, 3.9090e+01), ( True, 3.3080e+01), (False, 1.8360e+01),\n",
              "           ( True, 2.7890e+01), ( True, 2.2960e+01), ( True, 2.4870e+01),\n",
              "           ( True, 2.1450e+01), (False, 5.4500e+00), (False, 3.8100e+00),\n",
              "           ( True, 1.9580e+01), ( True, 7.7500e+00), (False, 7.8120e+01),\n",
              "           ( True, 1.3370e+01), ( True, 1.1760e+01), (False, 2.9200e+00),\n",
              "           ( True, 1.1600e+01), ( True, 9.7200e+00), ( True, 1.4190e+01),\n",
              "           ( True, 1.2020e+01), ( True, 1.3300e+01), ( True, 1.2160e+01),\n",
              "           ( True, 1.3010e+01), (False, 9.8200e+00), ( True, 4.4300e+00),\n",
              "           ( True, 1.0640e+01), ( True, 1.3900e+01), (False, 3.9000e-01),\n",
              "           (False, 3.9000e-01), ( True, 2.9930e+01), (False, 6.0970e+01),\n",
              "           ( True, 2.8320e+01), (False, 5.4500e+00), ( True, 3.0320e+01),\n",
              "           (False, 8.7400e+00), (False, 2.7430e+01), (False, 2.8940e+01),\n",
              "           ( True, 1.2420e+01), ( True, 1.8230e+01), ( True, 2.1880e+01),\n",
              "           (False, 0.0000e+00), ( True, 1.9970e+01), (False, 1.8460e+01),\n",
              "           (False, 1.4520e+01), (False, 3.1240e+01), ( True, 3.0390e+01),\n",
              "           ( True, 1.9740e+01), (False, 6.5000e+00), (False, 1.0000e-01),\n",
              "           (False, 1.7480e+01), ( True, 3.3210e+01), ( True, 1.4950e+01),\n",
              "           ( True, 4.9300e+00), (False, 1.3040e+01), ( True, 3.4800e+00),\n",
              "           ( True, 3.4500e+00), ( True, 2.6870e+01), ( True, 1.6980e+01),\n",
              "           ( True, 1.4060e+01), ( True, 1.3500e+00), ( True, 1.6750e+01),\n",
              "           ( True, 1.8100e+00), (False, 2.2730e+01), ( True, 1.3800e+01),\n",
              "           (False, 1.0350e+01), (False, 9.9200e+00), ( True, 2.0240e+01),\n",
              "           ( True, 1.5800e+01), ( True, 2.0930e+01), ( True, 1.9220e+01),\n",
              "           ( True, 1.3300e+01), (False, 1.7840e+01), ( True, 2.1020e+01),\n",
              "           ( True, 1.8730e+01), ( True, 1.3000e-01), ( True, 2.6000e-01),\n",
              "           ( True, 1.4450e+01), (False, 3.0000e-02), (False, 1.3240e+01),\n",
              "           (False, 1.3530e+01), ( True, 2.9930e+01), ( True, 7.1190e+01),\n",
              "           (False, 1.6460e+01), ( True, 3.4760e+01), ( True, 8.5050e+01),\n",
              "           (False, 3.4330e+01), ( True, 5.6600e+01), ( True, 3.5220e+01),\n",
              "           ( True, 2.9890e+01), ( True, 2.1090e+01), (False, 3.5800e+00),\n",
              "           (False, 1.2220e+01), (False, 1.0220e+01), (False, 9.6750e+01),\n",
              "           (False, 3.7910e+01), ( True, 9.2640e+01), (False, 2.1910e+01),\n",
              "           ( True, 8.0390e+01), ( True, 4.9440e+01), ( True, 6.6490e+01),\n",
              "           ( True, 4.1390e+01), (False, 9.0000e+00), ( True, 5.6870e+01),\n",
              "           ( True, 5.0300e+01), (False, 3.5320e+01), ( True, 4.8460e+01),\n",
              "           ( True, 4.2610e+01), ( True, 3.1900e+00), ( True, 3.2290e+01),\n",
              "           ( True, 2.9830e+01), ( True, 3.5870e+01), ( True, 2.3550e+01),\n",
              "           ( True, 2.6810e+01), (False, 1.1760e+01), (False, 0.0000e+00),\n",
              "           (False, 0.0000e+00), ( True, 5.2630e+01), ( True, 7.0070e+01),\n",
              "           ( True, 7.0370e+01), ( True, 6.8100e+01), ( True, 5.5260e+01),\n",
              "           ( True, 0.0000e+00), ( True, 1.0260e+02), ( True, 7.0570e+01),\n",
              "           ( True, 6.6560e+01), ( True, 5.8610e+01), ( True, 5.9920e+01),\n",
              "           ( True, 4.5530e+01), (False, 1.4980e+01), (False, 1.1330e+01),\n",
              "           ( True, 2.5260e+01), ( True, 8.9220e+01), ( True, 7.8220e+01),\n",
              "           ( True, 1.6360e+01), (False, 0.0000e+00), ( True, 3.6140e+01),\n",
              "           ( True, 5.3840e+01), ( True, 3.4560e+01), (False, 1.6950e+01),\n",
              "           ( True, 4.3070e+01), ( True, 2.0000e+00), ( True, 2.1060e+01),\n",
              "           ( True, 9.9000e-01), ( True, 1.0200e+00), ( True, 2.0000e+00),\n",
              "           ( True, 9.2000e-01), ( True, 9.9000e-01), (False, 4.3960e+01),\n",
              "           ( True, 2.0990e+01), ( True, 2.5030e+01), ( True, 9.9000e-01),\n",
              "           ( True, 2.0000e+00), ( True, 1.0200e+00), ( True, 2.0000e+00),\n",
              "           ( True, 2.0000e+00), (False, 7.0600e+00), ( True, 2.3000e+01),\n",
              "           ( True, 1.8990e+01), (False, 3.0200e+00), ( True, 2.0000e+00),\n",
              "           ( True, 1.8990e+01), (False, 1.2020e+01), ( True, 3.9800e+00),\n",
              "           (False, 1.1990e+01), ( True, 2.4930e+01), ( True, 1.9700e+00),\n",
              "           ( True, 2.5950e+01), ( True, 3.9980e+01), ( True, 2.2960e+01),\n",
              "           (False, 4.0400e+00), ( True, 2.2960e+01), (False, 5.0300e+00),\n",
              "           ( True, 2.9990e+01), (False, 1.0050e+01), ( True, 5.4040e+01),\n",
              "           ( True, 4.0100e+00), ( True, 4.9010e+01), ( True, 2.7300e+00),\n",
              "           ( True, 6.6400e+00), ( True, 6.9300e+00), ( True, 8.0200e+00),\n",
              "           ( True, 1.3340e+01), ( True, 1.6160e+01), ( True, 1.4720e+01),\n",
              "           (False, 0.0000e+00), ( True, 1.2060e+01), ( True, 1.2320e+01),\n",
              "           (False, 2.9530e+01), (False, 7.3060e+01), (False, 7.5030e+01),\n",
              "           (False, 2.3260e+01), (False, 1.1170e+01), ( True, 1.3998e+02),\n",
              "           (False, 2.0760e+01), ( True, 4.9000e-01), ( True, 7.3160e+01),\n",
              "           (False, 7.0070e+01), (False, 1.0687e+02), (False, 1.6000e-01),\n",
              "           (False, 4.6750e+01), ( True, 3.2520e+01), (False, 6.5000e+00),\n",
              "           (False, 8.6700e+01), (False, 5.5680e+01), (False, 3.7780e+01),\n",
              "           ( True, 1.5654e+02), (False, 1.2580e+01), (False, 5.3880e+01),\n",
              "           (False, 3.9060e+01), (False, 1.7710e+01), ( True, 1.0401e+02),\n",
              "           (False, 1.1530e+01), (False, 2.6380e+01), ( True, 2.7370e+01),\n",
              "           (False, 6.9600e+00), ( True, 1.0476e+02), ( True, 6.6460e+01),\n",
              "           (False, 5.4370e+01), ( True, 6.5440e+01), ( True, 6.0480e+01),\n",
              "           ( True, 3.6330e+01), (False, 1.2608e+02), ( True, 1.3226e+02),\n",
              "           ( True, 1.5013e+02), (False, 2.2270e+01), (False, 5.9100e+00),\n",
              "           ( True, 6.1890e+01), ( True, 4.2050e+01), (False, 3.0780e+01),\n",
              "           (False, 2.7600e+01), ( True, 3.8830e+01), ( True, 0.0000e+00),\n",
              "           (False, 9.6600e+00), ( True, 4.1360e+01), ( True, 4.0210e+01),\n",
              "           (False, 6.4100e+00), ( True, 3.6500e+01), ( True, 3.4920e+01),\n",
              "           ( True, 3.1270e+01), (False, 3.2880e+01), ( True, 1.3800e+00),\n",
              "           ( True, 1.1500e+00), ( True, 2.9930e+01), ( True, 1.8920e+01),\n",
              "           ( True, 2.5130e+01), ( True, 1.9020e+01), ( True, 2.4110e+01),\n",
              "           ( True, 3.1540e+01), ( True, 2.6770e+01), ( True, 3.0620e+01),\n",
              "           ( True, 3.4490e+01), (False, 1.0090e+01), (False, 7.6000e-01),\n",
              "           (False, 1.3210e+01), ( True, 2.2440e+01), ( True, 1.6750e+01),\n",
              "           (False, 5.2900e+00), (False, 3.0900e+00), ( True, 3.2690e+01),\n",
              "           ( True, 2.0000e+00), ( True, 1.5370e+01), (False, 7.7500e+00),\n",
              "           ( True, 3.6560e+01), ( True, 3.8110e+01), (False, 1.2580e+01),\n",
              "           (False, 1.8070e+01), (False, 2.2570e+01), (False, 3.0260e+01),\n",
              "           ( True, 3.4100e+01), ( True, 3.0950e+01), (False, 1.9840e+01),\n",
              "           ( True, 2.4340e+01), (False, 3.0450e+01), ( True, 1.9710e+01),\n",
              "           (False, 2.7140e+01), ( True, 1.6200e+01), ( True, 1.5830e+01),\n",
              "           (False, 1.4950e+01), ( True, 1.5280e+01), ( True, 2.9890e+01),\n",
              "           ( True, 1.2390e+01), ( True, 3.6500e+00), ( True, 2.4900e+01),\n",
              "           ( True, 9.4900e+00), ( True, 2.9200e+00), ( True, 1.1760e+01),\n",
              "           ( True, 1.4060e+01), ( True, 2.0200e+01), ( True, 2.2600e+01),\n",
              "           (False, 1.0580e+01), ( True, 2.6900e+00), ( True, 3.4800e+00),\n",
              "           ( True, 4.0100e+00), ( True, 5.2600e+00), ( True, 2.3000e+00),\n",
              "           ( True, 2.1020e+01), (False, 1.6000e-01), ( True, 1.8360e+01),\n",
              "           ( True, 4.0100e+00), ( True, 5.0300e+00), ( True, 2.6610e+01),\n",
              "           ( True, 1.4130e+01), ( True, 1.6130e+01), ( True, 1.7670e+01),\n",
              "           (False, 7.0960e+01), (False, 5.7030e+01), ( True, 1.8300e+01),\n",
              "           ( True, 1.7440e+01), ( True, 1.9350e+01), ( True, 2.7660e+01),\n",
              "           ( True, 2.1420e+01), (False, 2.7600e+00), ( True, 3.0780e+01),\n",
              "           (False, 3.0650e+01), ( True, 2.1320e+01), ( True, 2.7140e+01),\n",
              "           ( True, 5.6800e+00), (False, 1.8130e+01), (False, 2.0000e+00),\n",
              "           ( True, 2.7000e+01), (False, 2.1190e+01), ( True, 2.0300e+01),\n",
              "           ( True, 1.8560e+01), ( True, 2.0700e+01), ( True, 1.9090e+01),\n",
              "           ( True, 1.2880e+01), (False, 1.6100e+01), ( True, 1.3170e+01),\n",
              "           (False, 1.3400e+01), (False, 1.1830e+01), (False, 7.0000e-02),\n",
              "           ( True, 7.6740e+01), (False, 4.5300e+00), ( True, 6.4490e+01),\n",
              "           ( True, 1.2200e+00), ( True, 5.7260e+01), (False, 1.3730e+01),\n",
              "           ( True, 4.2000e+00), (False, 2.8900e+00), ( True, 3.9820e+01),\n",
              "           ( True, 4.9240e+01), ( True, 4.3890e+01), (False, 2.5300e+01),\n",
              "           (False, 1.4720e+01), ( True, 4.0870e+01), ( True, 2.6410e+01),\n",
              "           ( True, 8.3510e+01), ( True, 6.5600e+01), ( True, 3.6500e+00),\n",
              "           ( True, 1.6790e+01), ( True, 4.3000e-01), (False, 3.3050e+01),\n",
              "           (False, 3.7100e+00), (False, 1.2710e+01), (False, 4.3860e+01),\n",
              "           (False, 8.5700e+00), (False, 1.1170e+01), (False, 2.0000e-01)],\n",
              "          dtype=[(\"Patient's Vital Status\", '?'), ('Overall Survival', '<f8')])"
            ]
          },
          "metadata": {
            "tags": []
          },
          "execution_count": 20
        }
      ]
    },
    {
      "metadata": {
        "id": "63VepvdCFTA5",
        "colab_type": "code",
        "colab": {
          "base_uri": "https://localhost:8080/",
          "height": 136
        },
        "outputId": "bc3ced51-68c9-4be4-be2d-0cd90557b9e7"
      },
      "cell_type": "code",
      "source": [
        "from sklearn.model_selection import train_test_split\n",
        "X_train,X_test,Y_train,Y_test=train_test_split(dt,result,test_size=0.3)\n",
        "print(X_train.shape,Y_train.shape)\n",
        "print(X_test.shape,Y_test.shape)\n",
        "from sksurv.linear_model import CoxPHSurvivalAnalysis\n",
        "estimator = CoxPHSurvivalAnalysis(alpha=1,verbose=1)\n",
        "estimator.fit(X_train, Y_train)\n",
        "from sksurv.metrics import concordance_index_censored\n",
        "print('train score')\n",
        "prediction = estimator.predict(X_train)\n",
        "result = concordance_index_censored(Y_train['Patient\\'s Vital Status'], Y_train['Overall Survival'], prediction) \n",
        "result[0]"
      ],
      "execution_count": 21,
      "outputs": [
        {
          "output_type": "stream",
          "text": [
            "(350, 2790) (350,)\n",
            "(151, 2790) (151,)\n"
          ],
          "name": "stdout"
        },
        {
          "output_type": "stream",
          "text": [
            "/usr/local/lib/python3.6/dist-packages/sksurv/linear_model/coxph.py:64: RuntimeWarning: overflow encountered in exp\n",
            "  risk_set += numpy.exp(xw[k])\n"
          ],
          "name": "stderr"
        },
        {
          "output_type": "stream",
          "text": [
            "iter     20: optimization converged\n",
            "train score\n"
          ],
          "name": "stdout"
        },
        {
          "output_type": "execute_result",
          "data": {
            "text/plain": [
              "1.0"
            ]
          },
          "metadata": {
            "tags": []
          },
          "execution_count": 21
        }
      ]
    },
    {
      "metadata": {
        "id": "IkQXZTXIFTDY",
        "colab_type": "code",
        "colab": {
          "base_uri": "https://localhost:8080/",
          "height": 289
        },
        "outputId": "8660ba66-49fa-4882-ae4e-db1d1931040f"
      },
      "cell_type": "code",
      "source": [
        "from sklearn.model_selection import cross_val_score\n",
        "print(cross_val_score(estimator,X_train,Y_train,cv=5))"
      ],
      "execution_count": 22,
      "outputs": [
        {
          "output_type": "stream",
          "text": [
            "/usr/local/lib/python3.6/dist-packages/sksurv/linear_model/coxph.py:64: RuntimeWarning: overflow encountered in exp\n",
            "  risk_set += numpy.exp(xw[k])\n"
          ],
          "name": "stderr"
        },
        {
          "output_type": "stream",
          "text": [
            "iter     19: optimization converged\n"
          ],
          "name": "stdout"
        },
        {
          "output_type": "stream",
          "text": [
            "/usr/local/lib/python3.6/dist-packages/sksurv/linear_model/coxph.py:64: RuntimeWarning: overflow encountered in exp\n",
            "  risk_set += numpy.exp(xw[k])\n"
          ],
          "name": "stderr"
        },
        {
          "output_type": "stream",
          "text": [
            "iter     19: optimization converged\n"
          ],
          "name": "stdout"
        },
        {
          "output_type": "stream",
          "text": [
            "/usr/local/lib/python3.6/dist-packages/sksurv/linear_model/coxph.py:64: RuntimeWarning: overflow encountered in exp\n",
            "  risk_set += numpy.exp(xw[k])\n"
          ],
          "name": "stderr"
        },
        {
          "output_type": "stream",
          "text": [
            "iter     19: optimization converged\n"
          ],
          "name": "stdout"
        },
        {
          "output_type": "stream",
          "text": [
            "/usr/local/lib/python3.6/dist-packages/sksurv/linear_model/coxph.py:64: RuntimeWarning: overflow encountered in exp\n",
            "  risk_set += numpy.exp(xw[k])\n"
          ],
          "name": "stderr"
        },
        {
          "output_type": "stream",
          "text": [
            "iter     17: optimization converged\n"
          ],
          "name": "stdout"
        },
        {
          "output_type": "stream",
          "text": [
            "/usr/local/lib/python3.6/dist-packages/sksurv/linear_model/coxph.py:64: RuntimeWarning: overflow encountered in exp\n",
            "  risk_set += numpy.exp(xw[k])\n"
          ],
          "name": "stderr"
        },
        {
          "output_type": "stream",
          "text": [
            "iter     24: optimization converged\n",
            "[0.50262123 0.48255814 0.47744361 0.48192771 0.60158311]\n"
          ],
          "name": "stdout"
        }
      ]
    },
    {
      "metadata": {
        "id": "1b_lDvn2FTIY",
        "colab_type": "code",
        "colab": {
          "base_uri": "https://localhost:8080/",
          "height": 51
        },
        "outputId": "0c614e98-b5f0-47ed-ac5e-949c065af892"
      },
      "cell_type": "code",
      "source": [
        "print('test')\n",
        "from sksurv.metrics import concordance_index_censored\n",
        "prediction = estimator.predict(X_test)\n",
        "result = concordance_index_censored(Y_test['Patient\\'s Vital Status'], Y_test['Overall Survival'], prediction)\n",
        "result[0]"
      ],
      "execution_count": 23,
      "outputs": [
        {
          "output_type": "stream",
          "text": [
            "test\n"
          ],
          "name": "stdout"
        },
        {
          "output_type": "execute_result",
          "data": {
            "text/plain": [
              "0.5527675276752767"
            ]
          },
          "metadata": {
            "tags": []
          },
          "execution_count": 23
        }
      ]
    },
    {
      "metadata": {
        "id": "d8R74kFcsUSI",
        "colab_type": "code",
        "colab": {
          "base_uri": "https://localhost:8080/",
          "height": 34
        },
        "outputId": "50a2d6da-dd0a-4dd6-af62-1dc5b11b6925"
      },
      "cell_type": "code",
      "source": [
        "(0.50262123+0.48255814 +0.47744361+ 0.48192771 +0.60158311)/5"
      ],
      "execution_count": 25,
      "outputs": [
        {
          "output_type": "execute_result",
          "data": {
            "text/plain": [
              "0.50922676"
            ]
          },
          "metadata": {
            "tags": []
          },
          "execution_count": 25
        }
      ]
    },
    {
      "metadata": {
        "id": "-vfXMPmyFTKZ",
        "colab_type": "code",
        "colab": {
          "base_uri": "https://localhost:8080/",
          "height": 1071
        },
        "outputId": "1239b907-34d0-485e-8709-9a990787e0d9"
      },
      "cell_type": "code",
      "source": [
        "pd.Series(estimator.coef_, index=X_train.columns).sort_values(ascending=False)"
      ],
      "execution_count": 26,
      "outputs": [
        {
          "output_type": "execute_result",
          "data": {
            "text/plain": [
              "CAMKV        1.054560\n",
              "CA6          0.964993\n",
              "ALOX12       0.905892\n",
              "AASDH        0.905434\n",
              "ATRN         0.899327\n",
              "BAZ1A        0.883469\n",
              "ATP13A5      0.872569\n",
              "SOWAHB       0.827117\n",
              "ARHGAP5      0.827064\n",
              "ADAM7        0.810059\n",
              "B3GALNT1     0.786166\n",
              "ALDH1L1      0.780326\n",
              "BIRC2        0.744905\n",
              "ACSL4        0.697368\n",
              "CCER1        0.689376\n",
              "CA9          0.686450\n",
              "ACD          0.676685\n",
              "TMEM241      0.665211\n",
              "C15ORF59     0.651967\n",
              "ATP9A        0.649216\n",
              "ASIP         0.642231\n",
              "CALR         0.630678\n",
              "C3AR1        0.623046\n",
              "TMEM74B      0.611973\n",
              "SPATC1L      0.601310\n",
              "ADORA3       0.600144\n",
              "MB21D1       0.585261\n",
              "AKAP11       0.573621\n",
              "ADAM15       0.569445\n",
              "ARHGAP39     0.557617\n",
              "               ...   \n",
              "TRMT44      -0.567674\n",
              "ASH2L       -0.568988\n",
              "APLP2       -0.571119\n",
              "MB21D2      -0.575158\n",
              "C16ORF62    -0.601030\n",
              "BPIFB3      -0.606042\n",
              "ADM5        -0.611659\n",
              "ADIPOR1     -0.614768\n",
              "BPI         -0.617990\n",
              "ANKRD30A    -0.619734\n",
              "ATP6V1E1    -0.621093\n",
              "BASP1       -0.622600\n",
              "ATIC        -0.630961\n",
              "SMIM19      -0.654834\n",
              "ASUN        -0.668419\n",
              "APCDD1      -0.669587\n",
              "ARF6        -0.670425\n",
              "ANKRD20A3   -0.680311\n",
              "COA6        -0.681163\n",
              "ANKRD26P1   -0.707375\n",
              "C4ORF17     -0.728340\n",
              "BPIFC       -0.793439\n",
              "ADAM9       -0.800089\n",
              "C3ORF70     -0.804353\n",
              "NADK2       -0.838304\n",
              "LINC00305   -0.868061\n",
              "CA13        -0.871398\n",
              "C3ORF79     -0.996449\n",
              "APTX        -1.082573\n",
              "ACER1       -1.143058\n",
              "Length: 2790, dtype: float64"
            ]
          },
          "metadata": {
            "tags": []
          },
          "execution_count": 26
        }
      ]
    }
  ]
}