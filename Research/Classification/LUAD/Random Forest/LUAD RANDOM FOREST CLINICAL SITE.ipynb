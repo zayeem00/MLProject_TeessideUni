{
 "cells": [
  {
   "cell_type": "code",
   "execution_count": 1,
   "metadata": {},
   "outputs": [],
   "source": [
    "import pandas as pd\n",
    "import os\n",
    "import numpy as np\n",
    "\n"
   ]
  },
  {
   "cell_type": "code",
   "execution_count": 4,
   "metadata": {},
   "outputs": [],
   "source": [
    "os.chdir('C:\\\\RESEARCH\\\\LUAD\\\\Site')"
   ]
  },
  {
   "cell_type": "code",
   "execution_count": 5,
   "metadata": {},
   "outputs": [],
   "source": [
    "X=pd.read_excel('LUAD_clinical_Site.xlsx',index_col=0)"
   ]
  },
  {
   "cell_type": "code",
   "execution_count": 6,
   "metadata": {},
   "outputs": [
    {
     "data": {
      "text/plain": [
       "(517, 342)"
      ]
     },
     "execution_count": 6,
     "metadata": {},
     "output_type": "execute_result"
    }
   ],
   "source": [
    "X.shape"
   ]
  },
  {
   "cell_type": "code",
   "execution_count": 7,
   "metadata": {},
   "outputs": [],
   "source": [
    "x=X.iloc[:,0:340].values\n",
    "y=X.iloc[:,-1].values"
   ]
  },
  {
   "cell_type": "code",
   "execution_count": 8,
   "metadata": {},
   "outputs": [
    {
     "data": {
      "text/plain": [
       "array(['R-Lower', 'R-Lower', 'R-Lower', 'L-Upper', 'R-Lower', 'R-Upper',\n",
       "       'R-Upper', 'L-Upper', 'R-Lower', 'R-Middle', 'R-Upper', 'R-Lower',\n",
       "       'R-Upper', 'R-Lower', 'L-Upper', 'L-Lower', 'R-Upper', 'L-Lower',\n",
       "       'R-Lower', 'L-Lower', 'R-Upper', 'R-Middle', 'L-Lower', 'L-Upper',\n",
       "       'L-Lower', 'R-Upper', 'L-Lower', 'R-Lower', 'L-Upper', 'L-Upper',\n",
       "       'R-Upper', 'R-Upper', 'L-Upper', 'L-Upper', 'R-Upper', 'L-Upper',\n",
       "       'R-Upper', 'L-Upper', 'R-Upper', 'L-Upper', 'R-Upper', 'R-Upper',\n",
       "       'R-Upper', 'R-Upper', 'L-Upper', 'L-Upper', 'L-Upper', 'R-Upper',\n",
       "       'R-Upper', 'R-Upper', 'R-Upper', 'L-Upper', 'R-Upper', 'L-Upper',\n",
       "       'R-Upper', 'R-Upper', 'R-Upper', 'R-Upper', 'R-Upper', 'R-Lower',\n",
       "       'L-Upper', 'R-Upper', 'R-Upper', 'R-Lower', 'R-Lower', 'L-Upper',\n",
       "       'R-Upper', 'L-Lower', 'R-Upper', 'L-Lower', 'L-Lower', 'R-Upper',\n",
       "       'R-Upper', 'L-Upper', 'R-Upper', 'R-Upper', 'L-Upper', 'R-Upper',\n",
       "       'R-Lower', 'L-Upper', 'R-Lower', 'R-Upper', 'L-Upper', 'R-Upper',\n",
       "       'L-Upper', 'R-Upper', 'R-Upper', 'R-Upper', 'R-Upper', 'R-Upper',\n",
       "       'R-Upper', 'R-Upper', 'L-Upper', 'R-Lower', 'R-Lower', 'L-Upper',\n",
       "       'L-Lower', 'L-Upper', 'L-Upper', 'R-Upper', 'R-Lower', 'L-Upper',\n",
       "       'R-Upper', 'L-Upper', 'R-Middle', 'L-Upper', 'L-Upper', 'R-Upper',\n",
       "       'L-Upper', 'L-Upper', 'R-Upper', 'R-Middle', 'L-Lower', 'R-Upper',\n",
       "       'R-Lower', 'R-Upper', 'L-Upper', 'Other (please specify)',\n",
       "       'R-Upper', 'R-Lower', 'L-Upper', 'R-Upper', 'L-Upper', 'R-Lower',\n",
       "       'R-Lower', 'R-Lower', 'R-Upper', 'L-Upper', 'L-Lower', 'R-Upper',\n",
       "       'R-Upper', 'R-Lower', 'L-Upper', 'R-Upper', 'L-Upper', 'R-Upper',\n",
       "       'L-Lower', 'L-Upper', 'R-Lower', 'R-Upper', 'R-Upper', 'R-Upper',\n",
       "       'R-Upper', 'R-Upper', 'R-Upper', 'R-Upper', 'L-Lower', 'L-Lower',\n",
       "       'R-Upper', 'L-Upper', 'R-Upper', 'R-Lower', 'R-Upper', 'R-Lower',\n",
       "       'R-Upper', 'R-Lower', 'R-Upper', 'R-Upper', 'R-Upper', 'R-Upper',\n",
       "       'L-Upper', 'L-Upper', 'R-Lower', 'L-Lower', 'R-Upper', 'R-Upper',\n",
       "       'R-Upper', 'R-Lower', 'L-Upper', 'R-Lower', 'L-Upper', 'R-Upper',\n",
       "       'L-Lower', 'R-Upper', 'L-Lower', 'R-Middle', 'L-Upper', 'R-Lower',\n",
       "       'L-Upper', 'R-Lower', 'L-Lower', 'L-Lower', 'L-Upper', 'R-Lower',\n",
       "       'L-Lower', 'R-Lower', 'R-Middle', 'R-Upper', 'R-Lower', 'R-Upper',\n",
       "       'R-Upper', 'R-Upper', 'R-Upper', 'L-Upper', 'R-Lower', 'L-Lower',\n",
       "       'L-Upper', 'L-Upper', 'R-Lower', 'R-Upper', 'R-Lower', 'L-Upper',\n",
       "       'L-Lower', 'R-Middle', 'L-Lower', 'R-Upper', 'R-Upper', 'L-Upper',\n",
       "       'L-Lower', 'R-Upper', 'R-Upper', 'R-Lower', 'R-Lower', 'R-Upper',\n",
       "       'L-Upper', 'L-Upper', 'R-Upper', 'R-Lower', 'L-Upper', 'R-Lower',\n",
       "       'R-Upper', 'L-Lower', 'R-Upper', 'R-Upper', 'R-Lower', 'R-Lower',\n",
       "       'R-Lower', 'R-Upper', 'R-Upper', 'R-Upper', 'R-Lower', 'R-Upper',\n",
       "       'R-Lower', 'L-Lower', 'R-Upper', 'L-Upper', 'R-Middle', 'R-Upper',\n",
       "       'R-Lower', 'L-Upper', 'L-Lower', 'L-Lower', 'L-Lower', 'R-Upper',\n",
       "       'R-Upper', 'L-Lower', 'R-Upper', 'R-Upper', 'R-Lower', 'R-Lower',\n",
       "       'R-Upper', 'L-Upper', 'L-Lower', 'R-Upper', 'R-Lower', 'R-Lower',\n",
       "       'L-Upper', 'R-Upper', 'R-Lower', 'L-Upper', 'L-Lower', 'L-Upper',\n",
       "       'R-Lower', 'L-Lower', 'R-Lower', 'R-Upper', 'L-Upper', 'R-Lower',\n",
       "       'R-Lower', 'R-Lower', 'R-Middle', 'R-Upper', 'R-Middle', 'R-Upper',\n",
       "       'R-Upper', 'L-Upper', 'R-Upper', 'L-Lower', 'R-Upper', 'R-Upper',\n",
       "       'R-Upper', 'L-Upper', 'R-Upper', 'L-Lower', 'L-Lower', 'R-Lower',\n",
       "       'R-Lower', 'R-Middle', 'L-Upper', 'R-Lower', 'L-Lower', 'R-Middle',\n",
       "       'R-Upper', 'R-Upper', 'R-Middle', 'L-Upper', 'R-Upper', 'R-Upper',\n",
       "       'R-Upper', 'R-Lower', 'R-Lower', 'R-Upper', 'R-Lower', 'R-Upper',\n",
       "       'R-Upper', 'L-Upper', 'L-Lower', 'R-Upper', 'L-Upper', 'R-Upper',\n",
       "       'L-Upper', 'L-Upper', 'L-Lower', 'R-Upper', 'R-Upper', 'R-Lower',\n",
       "       'R-Upper', 'R-Upper', 'L-Upper', 'R-Upper', 'L-Upper', 'R-Lower',\n",
       "       'R-Upper', 'L-Lower', 'L-Upper', 'R-Upper', 'R-Upper', 'R-Upper',\n",
       "       'L-Lower', 'R-Upper', 'L-Lower', 'L-Lower', 'R-Lower', 'R-Upper',\n",
       "       'L-Upper', 'R-Middle', 'L-Lower', 'R-Upper', 'L-Upper', 'R-Lower',\n",
       "       'L-Lower', 'R-Upper', 'R-Upper', 'L-Upper', 'L-Upper', 'R-Upper',\n",
       "       'L-Lower', 'L-Upper', 'R-Lower', 'L-Upper', 'L-Upper', 'R-Lower',\n",
       "       'L-Lower', 'R-Upper', 'L-Upper', 'L-Upper', 'R-Upper', 'R-Upper',\n",
       "       'R-Upper', 'L-Lower', 'R-Upper', 'L-Upper', 'L-Upper', 'R-Upper',\n",
       "       'L-Lower', 'R-Lower', 'R-Upper', 'L-Upper', 'R-Upper', 'L-Upper',\n",
       "       'L-Upper', 'R-Upper', 'L-Upper', 'R-Upper', 'R-Lower', 'R-Middle',\n",
       "       'R-Lower', 'L-Upper', 'R-Lower', 'R-Lower', 'R-Upper', 'L-Upper',\n",
       "       'Other (please specify)', 'L-Upper', 'L-Lower', 'L-Upper',\n",
       "       'R-Upper', 'L-Lower', 'R-Upper', 'L-Lower', 'R-Lower', 'R-Upper',\n",
       "       'L-Lower', 'L-Upper', 'L-Lower', 'R-Upper', 'R-Upper', 'R-Upper',\n",
       "       'L-Upper', 'R-Middle', 'L-Upper', 'R-Upper', 'R-Upper', 'L-Lower',\n",
       "       'R-Lower', 'L-Lower', 'R-Lower', 'L-Upper', 'R-Middle', 'R-Lower',\n",
       "       'R-Upper', 'R-Upper', 'R-Lower', 'L-Upper', 'L-Upper', 'R-Upper',\n",
       "       'L-Lower', 'R-Upper', 'L-Lower', 'R-Upper', 'L-Lower', 'R-Upper',\n",
       "       'R-Upper', 'L-Lower', 'L-Upper', 'R-Lower', 'R-Lower', 'R-Upper',\n",
       "       'R-Upper', 'R-Upper', 'R-Lower', 'R-Upper', 'L-Lower', 'L-Upper',\n",
       "       'R-Lower', 'R-Upper', 'R-Middle', 'R-Upper', 'R-Lower', 'L-Lower',\n",
       "       'L-Upper', 'R-Upper', 'L-Lower', 'L-Lower', 'L-Lower', 'L-Upper',\n",
       "       'R-Upper', 'L-Upper', 'Other (please specify)', 'R-Upper',\n",
       "       'R-Upper', 'L-Upper', 'R-Lower', 'L-Lower', 'R-Upper', 'R-Lower',\n",
       "       'L-Lower', 'Other (please specify)', 'R-Upper', 'R-Upper',\n",
       "       'R-Middle', 'R-Upper', 'R-Upper', 'R-Lower', 'R-Middle', 'R-Lower',\n",
       "       'R-Upper', 'L-Upper', 'R-Upper', 'R-Upper', 'L-Lower', 'L-Upper',\n",
       "       'R-Lower', 'L-Upper', 'L-Upper', 'L-Upper', 'L-Upper', 'R-Upper',\n",
       "       'L-Lower', 'R-Upper', 'L-Lower', 'R-Upper', 'L-Upper', 'L-Lower',\n",
       "       'L-Upper', 'R-Upper', 'L-Upper', 'L-Upper', 'L-Lower', 'L-Upper',\n",
       "       'R-Lower', 'R-Lower', 'L-Lower', 'R-Lower', 'L-Upper', 'L-Upper',\n",
       "       'R-Upper', 'R-Middle', 'L-Lower', 'L-Lower', 'R-Upper', 'L-Lower',\n",
       "       'R-Lower', 'R-Upper', 'R-Lower', 'L-Upper', 'R-Upper', 'L-Upper',\n",
       "       'R-Upper', 'R-Lower', 'L-Upper', 'R-Lower', 'R-Upper', 'L-Upper',\n",
       "       'L-Upper', 'L-Lower', 'R-Upper'], dtype=object)"
      ]
     },
     "execution_count": 8,
     "metadata": {},
     "output_type": "execute_result"
    }
   ],
   "source": [
    "y"
   ]
  },
  {
   "cell_type": "code",
   "execution_count": 9,
   "metadata": {},
   "outputs": [],
   "source": [
    "# Encoding categorical data\n",
    "from sklearn.preprocessing import LabelEncoder\n",
    "labelEncoder_y = LabelEncoder()\n",
    "y = labelEncoder_y.fit_transform(y.astype(str))\n"
   ]
  },
  {
   "cell_type": "code",
   "execution_count": 10,
   "metadata": {},
   "outputs": [],
   "source": [
    "# Splitting the dataset into the Training set and Test set\n",
    "from sklearn.model_selection import train_test_split\n",
    "X_train, X_test, y_train, y_test = train_test_split(x, y, test_size = 0.2, random_state = 0)\n",
    "\n",
    "X_train, X_val, y_train, y_val = train_test_split(X_train, y_train, test_size=0.2, random_state=0)\n"
   ]
  },
  {
   "cell_type": "code",
   "execution_count": 11,
   "metadata": {},
   "outputs": [],
   "source": [
    "# Feature Scaling\n",
    "from sklearn.preprocessing import StandardScaler\n",
    "sc = StandardScaler()\n",
    "X_train = sc.fit_transform(X_train)\n",
    "X_val = sc.fit_transform(X_val)\n",
    "X_test = sc.transform(X_test)"
   ]
  },
  {
   "cell_type": "code",
   "execution_count": 12,
   "metadata": {},
   "outputs": [
    {
     "data": {
      "text/plain": [
       "RandomForestClassifier(bootstrap=True, class_weight=None, criterion='entropy',\n",
       "            max_depth=None, max_features='auto', max_leaf_nodes=None,\n",
       "            min_impurity_decrease=0.0, min_impurity_split=None,\n",
       "            min_samples_leaf=1, min_samples_split=2,\n",
       "            min_weight_fraction_leaf=0.0, n_estimators=10, n_jobs=None,\n",
       "            oob_score=False, random_state=0, verbose=0, warm_start=False)"
      ]
     },
     "execution_count": 12,
     "metadata": {},
     "output_type": "execute_result"
    }
   ],
   "source": [
    "# Fitting Random Forest Classification to the Training set\n",
    "from sklearn.ensemble import RandomForestClassifier\n",
    "classifier = RandomForestClassifier(n_estimators = 10, criterion = 'entropy', random_state = 0)\n",
    "classifier.fit(X_train, y_train)"
   ]
  },
  {
   "cell_type": "code",
   "execution_count": 13,
   "metadata": {},
   "outputs": [],
   "source": [
    "\n",
    "# Predicting the Validation set results\n",
    "y_val_pred = classifier.predict(X_val)"
   ]
  },
  {
   "cell_type": "code",
   "execution_count": 14,
   "metadata": {},
   "outputs": [
    {
     "data": {
      "text/plain": [
       "0.46987951807228917"
      ]
     },
     "execution_count": 14,
     "metadata": {},
     "output_type": "execute_result"
    }
   ],
   "source": [
    "# Making the Confusion Matrix\n",
    "import matplotlib.pyplot as plt\n",
    "from sklearn import svm, datasets\n",
    "from sklearn.metrics import confusion_matrix\n",
    "cm = confusion_matrix(y_val, y_val_pred)\n",
    "accuracy = ((cm[0][0]+cm[1][1]+cm[2][2]+cm[3][3]+cm[4][4]+cm[5][5]) / cm.sum())\n",
    "accuracy"
   ]
  },
  {
   "cell_type": "code",
   "execution_count": 22,
   "metadata": {},
   "outputs": [
    {
     "name": "stdout",
     "output_type": "stream",
     "text": [
      "Confusion Matrix, without normalization\n",
      "[[ 2  0  0  6  0  0]\n",
      " [ 0  4  0  0  0 14]\n",
      " [ 0  1  0  0  0  0]\n",
      " [12  0  0  8  0  0]\n",
      " [ 0  0  0  0  5  0]\n",
      " [ 2  9  0  0  0 20]]\n"
     ]
    },
    {
     "data": {
      "text/plain": [
       "<matplotlib.image.AxesImage at 0x20505bccc88>"
      ]
     },
     "execution_count": 22,
     "metadata": {},
     "output_type": "execute_result"
    },
    {
     "data": {
      "text/plain": [
       "<Figure size 720x504 with 0 Axes>"
      ]
     },
     "metadata": {},
     "output_type": "display_data"
    },
    {
     "data": {
      "image/png": "[encoded data removed]",
      "text/plain": [
       "<Figure size 288x288 with 1 Axes>"
      ]
     },
     "metadata": {},
     "output_type": "display_data"
    }
   ],
   "source": [
    "# np.set_printoptions(precision=2)\n",
    "print('Confusion Matrix, without normalization')\n",
    "print(cm)\n",
    "plt.figure(figsize = (10,7))\n",
    "plt.matshow(cm)\n"
   ]
  },
  {
   "cell_type": "code",
   "execution_count": 23,
   "metadata": {},
   "outputs": [
    {
     "name": "stdout",
     "output_type": "stream",
     "text": [
      "Normalized confusion matrix\n",
      "[[0.25       0.         0.         0.75       0.         0.        ]\n",
      " [0.         0.22222222 0.         0.         0.         0.77777778]\n",
      " [0.         1.         0.         0.         0.         0.        ]\n",
      " [0.6        0.         0.         0.4        0.         0.        ]\n",
      " [0.         0.         0.         0.         1.         0.        ]\n",
      " [0.06451613 0.29032258 0.         0.         0.         0.64516129]]\n"
     ]
    },
    {
     "data": {
      "text/plain": [
       "<matplotlib.image.AxesImage at 0x20505f19780>"
      ]
     },
     "execution_count": 23,
     "metadata": {},
     "output_type": "execute_result"
    },
    {
     "data": {
      "text/plain": [
       "<Figure size 432x288 with 0 Axes>"
      ]
     },
     "metadata": {},
     "output_type": "display_data"
    },
    {
     "data": {
      "image/png": "[encoded data removed]",
      "text/plain": [
       "<Figure size 288x288 with 1 Axes>"
      ]
     },
     "metadata": {},
     "output_type": "display_data"
    }
   ],
   "source": [
    "# Normalize the confusion matrix by row (i.e. by the number of samples in each class)\n",
    "cm_normalized = cm.astype('float') / cm.sum(axis=1) [:, np.newaxis]\n",
    "print('Normalized confusion matrix')\n",
    "print(cm_normalized)\n",
    "plt.figure()\n",
    "plt.matshow(cm_normalized)"
   ]
  },
  {
   "cell_type": "code",
   "execution_count": 24,
   "metadata": {},
   "outputs": [
    {
     "name": "stdout",
     "output_type": "stream",
     "text": [
      "             precision    recall  f1-score   support\n",
      "\n",
      "          0       0.12      0.25      0.17         8\n",
      "          1       0.29      0.22      0.25        18\n",
      "          2       0.00      0.00      0.00         1\n",
      "          3       0.57      0.40      0.47        20\n",
      "          4       1.00      1.00      1.00         5\n",
      "          5       0.59      0.65      0.62        31\n",
      "\n",
      "avg / total       0.49      0.47      0.47        83\n",
      "\n"
     ]
    },
    {
     "name": "stderr",
     "output_type": "stream",
     "text": [
      "C:\\ProgramData\\Anaconda3\\lib\\site-packages\\sklearn\\metrics\\classification.py:1135: UndefinedMetricWarning: Precision and F-score are ill-defined and being set to 0.0 in labels with no predicted samples.\n",
      "  'precision', 'predicted', average, warn_for)\n"
     ]
    }
   ],
   "source": [
    "# Classification Report\n",
    "from sklearn.metrics import classification_report\n",
    "print(classification_report(y_val, y_val_pred))"
   ]
  },
  {
   "cell_type": "code",
   "execution_count": 25,
   "metadata": {},
   "outputs": [
    {
     "data": {
      "text/plain": [
       "0.29448026353681167"
      ]
     },
     "execution_count": 25,
     "metadata": {},
     "output_type": "execute_result"
    }
   ],
   "source": [
    "\n",
    "# Matthews Correlation Coefficient Calculation #\n",
    "from sklearn.metrics import matthews_corrcoef\n",
    "matthews_corrcoef(y_val, y_val_pred)"
   ]
  },
  {
   "cell_type": "code",
   "execution_count": 26,
   "metadata": {},
   "outputs": [
    {
     "name": "stderr",
     "output_type": "stream",
     "text": [
      "C:\\ProgramData\\Anaconda3\\lib\\site-packages\\sklearn\\model_selection\\_split.py:605: Warning: The least populated class in y has only 2 members, which is too few. The minimum number of members in any class cannot be less than n_splits=10.\n",
      "  % (min_groups, self.n_splits)), Warning)\n"
     ]
    },
    {
     "data": {
      "text/plain": [
       "0.5383493018419487"
      ]
     },
     "execution_count": 26,
     "metadata": {},
     "output_type": "execute_result"
    }
   ],
   "source": [
    "# Applying k-Fold Cross Validation\n",
    "from sklearn.model_selection import cross_val_score\n",
    "accuracies = cross_val_score(estimator = classifier, X = X_train, y = y_train, cv = 10)\n",
    "accuracies.mean()"
   ]
  },
  {
   "cell_type": "code",
   "execution_count": null,
   "metadata": {},
   "outputs": [],
   "source": [
    "\"\"\"\n",
    "# Applying Grid Search to find the best model and the best parameters\n",
    "from sklearn.model_selection import GridSearchCV\n",
    "parameters = [{'C' : [1, 10, 100, 1000], 'kernel' : ['linear']},\n",
    "              {'C' : [1, 10, 100, 1000], 'kernel' : ['rbf'], 'gamma' : [0.0001, 0.0002, 0.0003, 0.0004, 0.0005, 0.0006, 0.0007, 0.0008]}]\n",
    "grid_search = GridSearchCV(estimator = classifier,\n",
    "                           param_grid = parameters, \n",
    "                           scoring = 'accuracy',\n",
    "                           cv = 10, \n",
    "                           n_jobs = -1)\n",
    "grid_search = grid_search.fit(X_train, y_train)\n",
    "best_accuracy = grid_search.best_score_\n",
    "best_parameters = grid_search.best_params_\"\"\""
   ]
  },
  {
   "cell_type": "code",
   "execution_count": null,
   "metadata": {},
   "outputs": [],
   "source": [
    "################### Testing set ###########################"
   ]
  },
  {
   "cell_type": "code",
   "execution_count": null,
   "metadata": {},
   "outputs": [],
   "source": [
    "# Fitting Random Forest Classification to the Training set\n",
    "from sklearn.ensemble import RandomForestClassifier\n",
    "classifier = RandomForestClassifier(n_estimators = 10, criterion = 'entropy', random_state = 0)\n",
    "classifier.fit(X_train, y_train)"
   ]
  },
  {
   "cell_type": "code",
   "execution_count": null,
   "metadata": {},
   "outputs": [],
   "source": [
    "# Predicting the Test set results\n",
    "y_pred = classifier.predict(X_test)"
   ]
  },
  {
   "cell_type": "code",
   "execution_count": null,
   "metadata": {},
   "outputs": [],
   "source": [
    "# Making the Confusion Matrix\n",
    "import matplotlib.pyplot as plt\n",
    "from sklearn import svm, datasets\n",
    "from sklearn.metrics import confusion_matrix\n",
    "cm = confusion_matrix(y_test, y_pred)\n",
    "accuracy = ((cm[0][0]+cm[1][1]) / cm.sum())"
   ]
  },
  {
   "cell_type": "code",
   "execution_count": null,
   "metadata": {},
   "outputs": [],
   "source": [
    "# np.set_printoptions(precision=2)\n",
    "print('Confusion Matrix, without normalization')\n",
    "print(cm)\n",
    "plt.figure(figsize = (10,7))\n",
    "plt.matshow(cm)\n"
   ]
  },
  {
   "cell_type": "code",
   "execution_count": null,
   "metadata": {},
   "outputs": [],
   "source": [
    "# Normalize the confusion matrix by row (i.e. by the number of samples in each class)\n",
    "cm_normalized = cm.astype('float') / cm.sum(axis=1) [:, np.newaxis]\n",
    "print('Normalized confusion matrix')\n",
    "print(cm_normalized)\n",
    "plt.figure()\n",
    "plt.matshow(cm_normalized)"
   ]
  },
  {
   "cell_type": "code",
   "execution_count": null,
   "metadata": {},
   "outputs": [],
   "source": [
    "# Classification Report\n",
    "from sklearn.metrics import classification_report\n",
    "print(classification_report(y_test, y_pred))"
   ]
  },
  {
   "cell_type": "code",
   "execution_count": null,
   "metadata": {},
   "outputs": [],
   "source": [
    "\n",
    "# Matthews Correlation Coefficient Calculation #\n",
    "from sklearn.metrics import matthews_corrcoef\n",
    "matthews_corrcoef(y_test, y_pred)\n"
   ]
  },
  {
   "cell_type": "code",
   "execution_count": null,
   "metadata": {},
   "outputs": [],
   "source": [
    "\n",
    "# ROC Curve Implementation\n",
    "import scikitplot as skplt\n",
    "y_pred = classifier.predict(X_test)\n",
    "preds = y_pred[:,]\n",
    "fpr, tpr, threshold = skplt.metrics.roc_curve(y_test, preds)\n",
    "roc_auc = skplt.metrics.auc(fpr, tpr)"
   ]
  },
  {
   "cell_type": "code",
   "execution_count": null,
   "metadata": {},
   "outputs": [],
   "source": [
    "import matplotlib.pyplot as plt\n",
    "plt.title('Receiver Operating Characteristic')\n",
    "plt.plot(fpr, tpr, 'b', label = 'AUC = %0.2f' % roc_auc)\n",
    "plt.legend(loc = 'lower right')\n",
    "plt.plot([0, 1], [0, 1],'r--')\n",
    "plt.xlim([0, 1])\n",
    "plt.ylim([0, 1])\n",
    "plt.ylabel('True Positive Rate')\n",
    "plt.xlabel('False Positive Rate')\n",
    "plt.show()\n"
   ]
  },
  {
   "cell_type": "code",
   "execution_count": null,
   "metadata": {},
   "outputs": [],
   "source": []
  },
  {
   "cell_type": "code",
   "execution_count": null,
   "metadata": {},
   "outputs": [],
   "source": []
  },
  {
   "cell_type": "code",
   "execution_count": null,
   "metadata": {},
   "outputs": [],
   "source": []
  }
 ],
 "metadata": {
  "kernelspec": {
   "display_name": "Python 3",
   "language": "python",
   "name": "python3"
  },
  "language_info": {
   "codemirror_mode": {
    "name": "ipython",
    "version": 3
   },
   "file_extension": ".py",
   "mimetype": "text/x-python",
   "name": "python",
   "nbconvert_exporter": "python",
   "pygments_lexer": "ipython3",
   "version": "3.7.1"
  }
 },
 "nbformat": 4,
 "nbformat_minor": 2
}
