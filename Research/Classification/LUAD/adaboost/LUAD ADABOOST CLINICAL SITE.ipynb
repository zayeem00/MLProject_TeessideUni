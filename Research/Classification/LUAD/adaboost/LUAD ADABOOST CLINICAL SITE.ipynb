{
 "cells": [
  {
   "cell_type": "code",
   "execution_count": 1,
   "metadata": {},
   "outputs": [],
   "source": [
    "import pandas as pd\n",
    "import os\n",
    "import numpy as np\n",
    "\n"
   ]
  },
  {
   "cell_type": "code",
   "execution_count": 2,
   "metadata": {},
   "outputs": [],
   "source": [
    "os.chdir('C:\\\\RESEARCH\\\\LUAD\\\\Site')"
   ]
  },
  {
   "cell_type": "code",
   "execution_count": 3,
   "metadata": {},
   "outputs": [],
   "source": [
    "X=pd.read_excel('LUAD_clinical_Site.xlsx',index_col=0)"
   ]
  },
  {
   "cell_type": "code",
   "execution_count": 4,
   "metadata": {},
   "outputs": [
    {
     "data": {
      "text/plain": [
       "(517, 342)"
      ]
     },
     "execution_count": 4,
     "metadata": {},
     "output_type": "execute_result"
    }
   ],
   "source": [
    "X.shape"
   ]
  },
  {
   "cell_type": "code",
   "execution_count": 5,
   "metadata": {},
   "outputs": [],
   "source": [
    "x=X.iloc[:,0:340].values\n",
    "y=X.iloc[:,-1].values"
   ]
  },
  {
   "cell_type": "code",
   "execution_count": 6,
   "metadata": {},
   "outputs": [
    {
     "data": {
      "text/plain": [
       "array(['R-Lower', 'R-Lower', 'R-Lower', 'L-Upper', 'R-Lower', 'R-Upper',\n",
       "       'R-Upper', 'L-Upper', 'R-Lower', 'R-Middle', 'R-Upper', 'R-Lower',\n",
       "       'R-Upper', 'R-Lower', 'L-Upper', 'L-Lower', 'R-Upper', 'L-Lower',\n",
       "       'R-Lower', 'L-Lower', 'R-Upper', 'R-Middle', 'L-Lower', 'L-Upper',\n",
       "       'L-Lower', 'R-Upper', 'L-Lower', 'R-Lower', 'L-Upper', 'L-Upper',\n",
       "       'R-Upper', 'R-Upper', 'L-Upper', 'L-Upper', 'R-Upper', 'L-Upper',\n",
       "       'R-Upper', 'L-Upper', 'R-Upper', 'L-Upper', 'R-Upper', 'R-Upper',\n",
       "       'R-Upper', 'R-Upper', 'L-Upper', 'L-Upper', 'L-Upper', 'R-Upper',\n",
       "       'R-Upper', 'R-Upper', 'R-Upper', 'L-Upper', 'R-Upper', 'L-Upper',\n",
       "       'R-Upper', 'R-Upper', 'R-Upper', 'R-Upper', 'R-Upper', 'R-Lower',\n",
       "       'L-Upper', 'R-Upper', 'R-Upper', 'R-Lower', 'R-Lower', 'L-Upper',\n",
       "       'R-Upper', 'L-Lower', 'R-Upper', 'L-Lower', 'L-Lower', 'R-Upper',\n",
       "       'R-Upper', 'L-Upper', 'R-Upper', 'R-Upper', 'L-Upper', 'R-Upper',\n",
       "       'R-Lower', 'L-Upper', 'R-Lower', 'R-Upper', 'L-Upper', 'R-Upper',\n",
       "       'L-Upper', 'R-Upper', 'R-Upper', 'R-Upper', 'R-Upper', 'R-Upper',\n",
       "       'R-Upper', 'R-Upper', 'L-Upper', 'R-Lower', 'R-Lower', 'L-Upper',\n",
       "       'L-Lower', 'L-Upper', 'L-Upper', 'R-Upper', 'R-Lower', 'L-Upper',\n",
       "       'R-Upper', 'L-Upper', 'R-Middle', 'L-Upper', 'L-Upper', 'R-Upper',\n",
       "       'L-Upper', 'L-Upper', 'R-Upper', 'R-Middle', 'L-Lower', 'R-Upper',\n",
       "       'R-Lower', 'R-Upper', 'L-Upper', 'Other (please specify)',\n",
       "       'R-Upper', 'R-Lower', 'L-Upper', 'R-Upper', 'L-Upper', 'R-Lower',\n",
       "       'R-Lower', 'R-Lower', 'R-Upper', 'L-Upper', 'L-Lower', 'R-Upper',\n",
       "       'R-Upper', 'R-Lower', 'L-Upper', 'R-Upper', 'L-Upper', 'R-Upper',\n",
       "       'L-Lower', 'L-Upper', 'R-Lower', 'R-Upper', 'R-Upper', 'R-Upper',\n",
       "       'R-Upper', 'R-Upper', 'R-Upper', 'R-Upper', 'L-Lower', 'L-Lower',\n",
       "       'R-Upper', 'L-Upper', 'R-Upper', 'R-Lower', 'R-Upper', 'R-Lower',\n",
       "       'R-Upper', 'R-Lower', 'R-Upper', 'R-Upper', 'R-Upper', 'R-Upper',\n",
       "       'L-Upper', 'L-Upper', 'R-Lower', 'L-Lower', 'R-Upper', 'R-Upper',\n",
       "       'R-Upper', 'R-Lower', 'L-Upper', 'R-Lower', 'L-Upper', 'R-Upper',\n",
       "       'L-Lower', 'R-Upper', 'L-Lower', 'R-Middle', 'L-Upper', 'R-Lower',\n",
       "       'L-Upper', 'R-Lower', 'L-Lower', 'L-Lower', 'L-Upper', 'R-Lower',\n",
       "       'L-Lower', 'R-Lower', 'R-Middle', 'R-Upper', 'R-Lower', 'R-Upper',\n",
       "       'R-Upper', 'R-Upper', 'R-Upper', 'L-Upper', 'R-Lower', 'L-Lower',\n",
       "       'L-Upper', 'L-Upper', 'R-Lower', 'R-Upper', 'R-Lower', 'L-Upper',\n",
       "       'L-Lower', 'R-Middle', 'L-Lower', 'R-Upper', 'R-Upper', 'L-Upper',\n",
       "       'L-Lower', 'R-Upper', 'R-Upper', 'R-Lower', 'R-Lower', 'R-Upper',\n",
       "       'L-Upper', 'L-Upper', 'R-Upper', 'R-Lower', 'L-Upper', 'R-Lower',\n",
       "       'R-Upper', 'L-Lower', 'R-Upper', 'R-Upper', 'R-Lower', 'R-Lower',\n",
       "       'R-Lower', 'R-Upper', 'R-Upper', 'R-Upper', 'R-Lower', 'R-Upper',\n",
       "       'R-Lower', 'L-Lower', 'R-Upper', 'L-Upper', 'R-Middle', 'R-Upper',\n",
       "       'R-Lower', 'L-Upper', 'L-Lower', 'L-Lower', 'L-Lower', 'R-Upper',\n",
       "       'R-Upper', 'L-Lower', 'R-Upper', 'R-Upper', 'R-Lower', 'R-Lower',\n",
       "       'R-Upper', 'L-Upper', 'L-Lower', 'R-Upper', 'R-Lower', 'R-Lower',\n",
       "       'L-Upper', 'R-Upper', 'R-Lower', 'L-Upper', 'L-Lower', 'L-Upper',\n",
       "       'R-Lower', 'L-Lower', 'R-Lower', 'R-Upper', 'L-Upper', 'R-Lower',\n",
       "       'R-Lower', 'R-Lower', 'R-Middle', 'R-Upper', 'R-Middle', 'R-Upper',\n",
       "       'R-Upper', 'L-Upper', 'R-Upper', 'L-Lower', 'R-Upper', 'R-Upper',\n",
       "       'R-Upper', 'L-Upper', 'R-Upper', 'L-Lower', 'L-Lower', 'R-Lower',\n",
       "       'R-Lower', 'R-Middle', 'L-Upper', 'R-Lower', 'L-Lower', 'R-Middle',\n",
       "       'R-Upper', 'R-Upper', 'R-Middle', 'L-Upper', 'R-Upper', 'R-Upper',\n",
       "       'R-Upper', 'R-Lower', 'R-Lower', 'R-Upper', 'R-Lower', 'R-Upper',\n",
       "       'R-Upper', 'L-Upper', 'L-Lower', 'R-Upper', 'L-Upper', 'R-Upper',\n",
       "       'L-Upper', 'L-Upper', 'L-Lower', 'R-Upper', 'R-Upper', 'R-Lower',\n",
       "       'R-Upper', 'R-Upper', 'L-Upper', 'R-Upper', 'L-Upper', 'R-Lower',\n",
       "       'R-Upper', 'L-Lower', 'L-Upper', 'R-Upper', 'R-Upper', 'R-Upper',\n",
       "       'L-Lower', 'R-Upper', 'L-Lower', 'L-Lower', 'R-Lower', 'R-Upper',\n",
       "       'L-Upper', 'R-Middle', 'L-Lower', 'R-Upper', 'L-Upper', 'R-Lower',\n",
       "       'L-Lower', 'R-Upper', 'R-Upper', 'L-Upper', 'L-Upper', 'R-Upper',\n",
       "       'L-Lower', 'L-Upper', 'R-Lower', 'L-Upper', 'L-Upper', 'R-Lower',\n",
       "       'L-Lower', 'R-Upper', 'L-Upper', 'L-Upper', 'R-Upper', 'R-Upper',\n",
       "       'R-Upper', 'L-Lower', 'R-Upper', 'L-Upper', 'L-Upper', 'R-Upper',\n",
       "       'L-Lower', 'R-Lower', 'R-Upper', 'L-Upper', 'R-Upper', 'L-Upper',\n",
       "       'L-Upper', 'R-Upper', 'L-Upper', 'R-Upper', 'R-Lower', 'R-Middle',\n",
       "       'R-Lower', 'L-Upper', 'R-Lower', 'R-Lower', 'R-Upper', 'L-Upper',\n",
       "       'Other (please specify)', 'L-Upper', 'L-Lower', 'L-Upper',\n",
       "       'R-Upper', 'L-Lower', 'R-Upper', 'L-Lower', 'R-Lower', 'R-Upper',\n",
       "       'L-Lower', 'L-Upper', 'L-Lower', 'R-Upper', 'R-Upper', 'R-Upper',\n",
       "       'L-Upper', 'R-Middle', 'L-Upper', 'R-Upper', 'R-Upper', 'L-Lower',\n",
       "       'R-Lower', 'L-Lower', 'R-Lower', 'L-Upper', 'R-Middle', 'R-Lower',\n",
       "       'R-Upper', 'R-Upper', 'R-Lower', 'L-Upper', 'L-Upper', 'R-Upper',\n",
       "       'L-Lower', 'R-Upper', 'L-Lower', 'R-Upper', 'L-Lower', 'R-Upper',\n",
       "       'R-Upper', 'L-Lower', 'L-Upper', 'R-Lower', 'R-Lower', 'R-Upper',\n",
       "       'R-Upper', 'R-Upper', 'R-Lower', 'R-Upper', 'L-Lower', 'L-Upper',\n",
       "       'R-Lower', 'R-Upper', 'R-Middle', 'R-Upper', 'R-Lower', 'L-Lower',\n",
       "       'L-Upper', 'R-Upper', 'L-Lower', 'L-Lower', 'L-Lower', 'L-Upper',\n",
       "       'R-Upper', 'L-Upper', 'Other (please specify)', 'R-Upper',\n",
       "       'R-Upper', 'L-Upper', 'R-Lower', 'L-Lower', 'R-Upper', 'R-Lower',\n",
       "       'L-Lower', 'Other (please specify)', 'R-Upper', 'R-Upper',\n",
       "       'R-Middle', 'R-Upper', 'R-Upper', 'R-Lower', 'R-Middle', 'R-Lower',\n",
       "       'R-Upper', 'L-Upper', 'R-Upper', 'R-Upper', 'L-Lower', 'L-Upper',\n",
       "       'R-Lower', 'L-Upper', 'L-Upper', 'L-Upper', 'L-Upper', 'R-Upper',\n",
       "       'L-Lower', 'R-Upper', 'L-Lower', 'R-Upper', 'L-Upper', 'L-Lower',\n",
       "       'L-Upper', 'R-Upper', 'L-Upper', 'L-Upper', 'L-Lower', 'L-Upper',\n",
       "       'R-Lower', 'R-Lower', 'L-Lower', 'R-Lower', 'L-Upper', 'L-Upper',\n",
       "       'R-Upper', 'R-Middle', 'L-Lower', 'L-Lower', 'R-Upper', 'L-Lower',\n",
       "       'R-Lower', 'R-Upper', 'R-Lower', 'L-Upper', 'R-Upper', 'L-Upper',\n",
       "       'R-Upper', 'R-Lower', 'L-Upper', 'R-Lower', 'R-Upper', 'L-Upper',\n",
       "       'L-Upper', 'L-Lower', 'R-Upper'], dtype=object)"
      ]
     },
     "execution_count": 6,
     "metadata": {},
     "output_type": "execute_result"
    }
   ],
   "source": [
    "y"
   ]
  },
  {
   "cell_type": "code",
   "execution_count": 7,
   "metadata": {},
   "outputs": [],
   "source": [
    "# Encoding categorical data\n",
    "from sklearn.preprocessing import LabelEncoder\n",
    "labelEncoder_y = LabelEncoder()\n",
    "y = labelEncoder_y.fit_transform(y.astype(str))\n"
   ]
  },
  {
   "cell_type": "code",
   "execution_count": 8,
   "metadata": {},
   "outputs": [
    {
     "data": {
      "text/plain": [
       "array([3, 3, 3, 1, 3, 5, 5, 1, 3, 4, 5, 3, 5, 3, 1, 0, 5, 0, 3, 0, 5, 4,\n",
       "       0, 1, 0, 5, 0, 3, 1, 1, 5, 5, 1, 1, 5, 1, 5, 1, 5, 1, 5, 5, 5, 5,\n",
       "       1, 1, 1, 5, 5, 5, 5, 1, 5, 1, 5, 5, 5, 5, 5, 3, 1, 5, 5, 3, 3, 1,\n",
       "       5, 0, 5, 0, 0, 5, 5, 1, 5, 5, 1, 5, 3, 1, 3, 5, 1, 5, 1, 5, 5, 5,\n",
       "       5, 5, 5, 5, 1, 3, 3, 1, 0, 1, 1, 5, 3, 1, 5, 1, 4, 1, 1, 5, 1, 1,\n",
       "       5, 4, 0, 5, 3, 5, 1, 2, 5, 3, 1, 5, 1, 3, 3, 3, 5, 1, 0, 5, 5, 3,\n",
       "       1, 5, 1, 5, 0, 1, 3, 5, 5, 5, 5, 5, 5, 5, 0, 0, 5, 1, 5, 3, 5, 3,\n",
       "       5, 3, 5, 5, 5, 5, 1, 1, 3, 0, 5, 5, 5, 3, 1, 3, 1, 5, 0, 5, 0, 4,\n",
       "       1, 3, 1, 3, 0, 0, 1, 3, 0, 3, 4, 5, 3, 5, 5, 5, 5, 1, 3, 0, 1, 1,\n",
       "       3, 5, 3, 1, 0, 4, 0, 5, 5, 1, 0, 5, 5, 3, 3, 5, 1, 1, 5, 3, 1, 3,\n",
       "       5, 0, 5, 5, 3, 3, 3, 5, 5, 5, 3, 5, 3, 0, 5, 1, 4, 5, 3, 1, 0, 0,\n",
       "       0, 5, 5, 0, 5, 5, 3, 3, 5, 1, 0, 5, 3, 3, 1, 5, 3, 1, 0, 1, 3, 0,\n",
       "       3, 5, 1, 3, 3, 3, 4, 5, 4, 5, 5, 1, 5, 0, 5, 5, 5, 1, 5, 0, 0, 3,\n",
       "       3, 4, 1, 3, 0, 4, 5, 5, 4, 1, 5, 5, 5, 3, 3, 5, 3, 5, 5, 1, 0, 5,\n",
       "       1, 5, 1, 1, 0, 5, 5, 3, 5, 5, 1, 5, 1, 3, 5, 0, 1, 5, 5, 5, 0, 5,\n",
       "       0, 0, 3, 5, 1, 4, 0, 5, 1, 3, 0, 5, 5, 1, 1, 5, 0, 1, 3, 1, 1, 3,\n",
       "       0, 5, 1, 1, 5, 5, 5, 0, 5, 1, 1, 5, 0, 3, 5, 1, 5, 1, 1, 5, 1, 5,\n",
       "       3, 4, 3, 1, 3, 3, 5, 1, 2, 1, 0, 1, 5, 0, 5, 0, 3, 5, 0, 1, 0, 5,\n",
       "       5, 5, 1, 4, 1, 5, 5, 0, 3, 0, 3, 1, 4, 3, 5, 5, 3, 1, 1, 5, 0, 5,\n",
       "       0, 5, 0, 5, 5, 0, 1, 3, 3, 5, 5, 5, 3, 5, 0, 1, 3, 5, 4, 5, 3, 0,\n",
       "       1, 5, 0, 0, 0, 1, 5, 1, 2, 5, 5, 1, 3, 0, 5, 3, 0, 2, 5, 5, 4, 5,\n",
       "       5, 3, 4, 3, 5, 1, 5, 5, 0, 1, 3, 1, 1, 1, 1, 5, 0, 5, 0, 5, 1, 0,\n",
       "       1, 5, 1, 1, 0, 1, 3, 3, 0, 3, 1, 1, 5, 4, 0, 0, 5, 0, 3, 5, 3, 1,\n",
       "       5, 1, 5, 3, 1, 3, 5, 1, 1, 0, 5], dtype=int64)"
      ]
     },
     "execution_count": 8,
     "metadata": {},
     "output_type": "execute_result"
    }
   ],
   "source": [
    "y"
   ]
  },
  {
   "cell_type": "code",
   "execution_count": 9,
   "metadata": {},
   "outputs": [],
   "source": [
    "# Splitting the dataset into the Training set and Test set\n",
    "from sklearn.model_selection import train_test_split\n",
    "X_train, X_test, y_train, y_test = train_test_split(x, y, test_size = 0.2, random_state = 0)\n",
    "\n",
    "X_train, X_val, y_train, y_val = train_test_split(X_train, y_train, test_size=0.2, random_state=0)\n"
   ]
  },
  {
   "cell_type": "code",
   "execution_count": 10,
   "metadata": {},
   "outputs": [],
   "source": [
    "# Feature Scaling\n",
    "from sklearn.preprocessing import StandardScaler\n",
    "sc = StandardScaler()\n",
    "X_train = sc.fit_transform(X_train)\n",
    "X_val = sc.fit_transform(X_val)\n",
    "X_test = sc.transform(X_test)"
   ]
  },
  {
   "cell_type": "code",
   "execution_count": 11,
   "metadata": {},
   "outputs": [],
   "source": [
    "from sklearn.ensemble import AdaBoostClassifier\n",
    "# Fitting Gradient Boosting  Classification to the Validation set\n",
    "classifier = AdaBoostClassifier()\n",
    "classifier = AdaBoostClassifier(base_estimator=None, n_estimators=50, learning_rate=1.0, algorithm='SAMME.R', random_state=None)\n",
    "classifier = AdaBoostClassifier(algorithm='SAMME', n_estimators=50, learning_rate=1.0, random_state=0).fit(X_train, y_train)"
   ]
  },
  {
   "cell_type": "code",
   "execution_count": 12,
   "metadata": {},
   "outputs": [],
   "source": [
    "\n",
    "# Predicting the Validation set results\n",
    "y_val_pred = classifier.predict(X_val)"
   ]
  },
  {
   "cell_type": "code",
   "execution_count": 13,
   "metadata": {},
   "outputs": [
    {
     "data": {
      "text/plain": [
       "0.5662650602409639"
      ]
     },
     "execution_count": 13,
     "metadata": {},
     "output_type": "execute_result"
    }
   ],
   "source": [
    "# Making the Confusion Matrix\n",
    "import matplotlib.pyplot as plt\n",
    "from sklearn import svm, datasets\n",
    "from sklearn.metrics import confusion_matrix\n",
    "cm = confusion_matrix(y_val, y_val_pred)\n",
    "accuracy = ((cm[0][0]+cm[1][1]+cm[2][2]+cm[3][3]+cm[4][4]+cm[5][5]) / cm.sum())\n",
    "accuracy"
   ]
  },
  {
   "cell_type": "code",
   "execution_count": 14,
   "metadata": {},
   "outputs": [
    {
     "name": "stdout",
     "output_type": "stream",
     "text": [
      "Confusion Matrix, without normalization\n",
      "[[ 0  0  0  8  0  0]\n",
      " [ 0  1  0  0  0 17]\n",
      " [ 0  0  0  0  0  1]\n",
      " [ 1  0  0 18  0  1]\n",
      " [ 0  0  0  0  0  5]\n",
      " [ 0  2  0  1  0 28]]\n"
     ]
    },
    {
     "data": {
      "text/plain": [
       "<matplotlib.image.AxesImage at 0x29c655def98>"
      ]
     },
     "execution_count": 14,
     "metadata": {},
     "output_type": "execute_result"
    },
    {
     "data": {
      "text/plain": [
       "<Figure size 720x504 with 0 Axes>"
      ]
     },
     "metadata": {},
     "output_type": "display_data"
    },
    {
     "data": {
      "image/png": "[encoded data removed]",
      "text/plain": [
       "<Figure size 288x288 with 1 Axes>"
      ]
     },
     "metadata": {},
     "output_type": "display_data"
    }
   ],
   "source": [
    "# np.set_printoptions(precision=2)\n",
    "print('Confusion Matrix, without normalization')\n",
    "print(cm)\n",
    "plt.figure(figsize = (10,7))\n",
    "plt.matshow(cm)\n"
   ]
  },
  {
   "cell_type": "code",
   "execution_count": 15,
   "metadata": {},
   "outputs": [
    {
     "name": "stdout",
     "output_type": "stream",
     "text": [
      "Normalized confusion matrix\n",
      "[[0.         0.         0.         1.         0.         0.        ]\n",
      " [0.         0.05555556 0.         0.         0.         0.94444444]\n",
      " [0.         0.         0.         0.         0.         1.        ]\n",
      " [0.05       0.         0.         0.9        0.         0.05      ]\n",
      " [0.         0.         0.         0.         0.         1.        ]\n",
      " [0.         0.06451613 0.         0.03225806 0.         0.90322581]]\n"
     ]
    },
    {
     "data": {
      "text/plain": [
       "<matplotlib.image.AxesImage at 0x29c65814a20>"
      ]
     },
     "execution_count": 15,
     "metadata": {},
     "output_type": "execute_result"
    },
    {
     "data": {
      "text/plain": [
       "<Figure size 432x288 with 0 Axes>"
      ]
     },
     "metadata": {},
     "output_type": "display_data"
    },
    {
     "data": {
      "image/png": "[encoded data removed]",
      "text/plain": [
       "<Figure size 288x288 with 1 Axes>"
      ]
     },
     "metadata": {},
     "output_type": "display_data"
    }
   ],
   "source": [
    "# Normalize the confusion matrix by row (i.e. by the number of samples in each class)\n",
    "cm_normalized = cm.astype('float') / cm.sum(axis=1) [:, np.newaxis]\n",
    "print('Normalized confusion matrix')\n",
    "print(cm_normalized)\n",
    "plt.figure()\n",
    "plt.matshow(cm_normalized)"
   ]
  },
  {
   "cell_type": "code",
   "execution_count": 16,
   "metadata": {},
   "outputs": [
    {
     "name": "stdout",
     "output_type": "stream",
     "text": [
      "             precision    recall  f1-score   support\n",
      "\n",
      "          0       0.00      0.00      0.00         8\n",
      "          1       0.33      0.06      0.10        18\n",
      "          2       0.00      0.00      0.00         1\n",
      "          3       0.67      0.90      0.77        20\n",
      "          4       0.00      0.00      0.00         5\n",
      "          5       0.54      0.90      0.67        31\n",
      "\n",
      "avg / total       0.43      0.57      0.46        83\n",
      "\n"
     ]
    },
    {
     "name": "stderr",
     "output_type": "stream",
     "text": [
      "C:\\ProgramData\\Anaconda3\\lib\\site-packages\\sklearn\\metrics\\classification.py:1135: UndefinedMetricWarning: Precision and F-score are ill-defined and being set to 0.0 in labels with no predicted samples.\n",
      "  'precision', 'predicted', average, warn_for)\n"
     ]
    }
   ],
   "source": [
    "# Classification Report\n",
    "from sklearn.metrics import classification_report\n",
    "print(classification_report(y_val, y_val_pred))"
   ]
  },
  {
   "cell_type": "code",
   "execution_count": 17,
   "metadata": {},
   "outputs": [
    {
     "data": {
      "text/plain": [
       "0.40186213219532657"
      ]
     },
     "execution_count": 17,
     "metadata": {},
     "output_type": "execute_result"
    }
   ],
   "source": [
    "\n",
    "# Matthews Correlation Coefficient Calculation #\n",
    "from sklearn.metrics import matthews_corrcoef\n",
    "matthews_corrcoef(y_val, y_val_pred)"
   ]
  },
  {
   "cell_type": "code",
   "execution_count": 18,
   "metadata": {},
   "outputs": [
    {
     "name": "stderr",
     "output_type": "stream",
     "text": [
      "C:\\ProgramData\\Anaconda3\\lib\\site-packages\\sklearn\\model_selection\\_split.py:605: Warning: The least populated class in y has only 2 members, which is too few. The minimum number of members in any class cannot be less than n_splits=10.\n",
      "  % (min_groups, self.n_splits)), Warning)\n"
     ]
    },
    {
     "data": {
      "text/plain": [
       "0.5666996818277653"
      ]
     },
     "execution_count": 18,
     "metadata": {},
     "output_type": "execute_result"
    }
   ],
   "source": [
    "# Applying k-Fold Cross Validation\n",
    "from sklearn.model_selection import cross_val_score\n",
    "accuracies = cross_val_score(estimator = classifier, X = X_train, y = y_train, cv = 10)\n",
    "accuracies.mean()"
   ]
  },
  {
   "cell_type": "code",
   "execution_count": null,
   "metadata": {},
   "outputs": [],
   "source": [
    "from sklearn.tree import DecisionTreeClassifier\n",
    "from sklearn.model_selection import GridSearchCV\n",
    "\n",
    "parameter_grid = {\"n_estimators\": [50, 60],\n",
    "                  \"learning_rate\":[1.0],\n",
    "                  \"algorithm\": [\"SAMME\", \"SAMME.R\"],\n",
    "                  \"random_state\": [0]}\n",
    "\n",
    "DTC = DecisionTreeClassifier(random_state = 11, max_features = \"auto\", class_weight = None, max_depth = None)\n",
    "\n",
    "\n",
    "clf = AdaBoostClassifier(base_estimator = DTC)             \n",
    "\n",
    "#cross_validation = StratifiedKFold(y_train, n_splits=10)\n",
    "\n",
    "grid_search = GridSearchCV(clf, param_grid = parameter_grid,\n",
    "                          cv = 10, scoring = 'roc_auc')\n",
    "\n",
    "grid_search.fit(X_train, y_train)\n",
    "\n",
    "\n",
    "Best_Score = grid_search.best_score_\n",
    "Best_Param = grid_search.best_params_"
   ]
  },
  {
   "cell_type": "code",
   "execution_count": null,
   "metadata": {},
   "outputs": [],
   "source": [
    "################### Testing set ###########################"
   ]
  },
  {
   "cell_type": "code",
   "execution_count": null,
   "metadata": {},
   "outputs": [],
   "source": [
    "# Fitting Gradient Boosting  Classification to the Testing set\n",
    "clf = AdaBoostClassifier(algorithm='SAMME', n_estimators=200, learning_rate=1.0, random_state=0).fit(X_train, y_train)\n",
    "clf.score(X_test, y_test)"
   ]
  },
  {
   "cell_type": "code",
   "execution_count": null,
   "metadata": {},
   "outputs": [],
   "source": [
    "# Predicting the Test set results\n",
    "y_pred = classifier.predict(X_test)"
   ]
  },
  {
   "cell_type": "code",
   "execution_count": null,
   "metadata": {},
   "outputs": [],
   "source": [
    "# Making the Confusion Matrix\n",
    "import matplotlib.pyplot as plt\n",
    "from sklearn import svm, datasets\n",
    "from sklearn.metrics import confusion_matrix\n",
    "cm = confusion_matrix(y_test, y_pred)\n",
    "accuracy = ((cm[0][0]+cm[1][1]) / cm.sum())"
   ]
  },
  {
   "cell_type": "code",
   "execution_count": null,
   "metadata": {},
   "outputs": [],
   "source": [
    "# np.set_printoptions(precision=2)\n",
    "print('Confusion Matrix, without normalization')\n",
    "print(cm)\n",
    "plt.figure(figsize = (10,7))\n",
    "plt.matshow(cm)\n"
   ]
  },
  {
   "cell_type": "code",
   "execution_count": null,
   "metadata": {},
   "outputs": [],
   "source": [
    "# Normalize the confusion matrix by row (i.e. by the number of samples in each class)\n",
    "cm_normalized = cm.astype('float') / cm.sum(axis=1) [:, np.newaxis]\n",
    "print('Normalized confusion matrix')\n",
    "print(cm_normalized)\n",
    "plt.figure()\n",
    "plt.matshow(cm_normalized)"
   ]
  },
  {
   "cell_type": "code",
   "execution_count": null,
   "metadata": {},
   "outputs": [],
   "source": [
    "# Classification Report\n",
    "from sklearn.metrics import classification_report\n",
    "print(classification_report(y_test, y_pred))"
   ]
  },
  {
   "cell_type": "code",
   "execution_count": null,
   "metadata": {},
   "outputs": [],
   "source": [
    "\n",
    "# Matthews Correlation Coefficient Calculation #\n",
    "from sklearn.metrics import matthews_corrcoef\n",
    "matthews_corrcoef(y_test, y_pred)\n"
   ]
  },
  {
   "cell_type": "code",
   "execution_count": null,
   "metadata": {},
   "outputs": [],
   "source": [
    "\n",
    "# ROC Curve Implementation\n",
    "import scikitplot as skplt\n",
    "y_pred = classifier.predict(X_test)\n",
    "preds = y_pred[:,]\n",
    "fpr, tpr, threshold = skplt.metrics.roc_curve(y_test, preds)\n",
    "roc_auc = skplt.metrics.auc(fpr, tpr)"
   ]
  },
  {
   "cell_type": "code",
   "execution_count": null,
   "metadata": {},
   "outputs": [],
   "source": [
    "import matplotlib.pyplot as plt\n",
    "plt.title('Receiver Operating Characteristic')\n",
    "plt.plot(fpr, tpr, 'b', label = 'AUC = %0.2f' % roc_auc)\n",
    "plt.legend(loc = 'lower right')\n",
    "plt.plot([0, 1], [0, 1],'r--')\n",
    "plt.xlim([0, 1])\n",
    "plt.ylim([0, 1])\n",
    "plt.ylabel('True Positive Rate')\n",
    "plt.xlabel('False Positive Rate')\n",
    "plt.show()\n"
   ]
  },
  {
   "cell_type": "code",
   "execution_count": null,
   "metadata": {},
   "outputs": [],
   "source": []
  },
  {
   "cell_type": "code",
   "execution_count": null,
   "metadata": {},
   "outputs": [],
   "source": []
  },
  {
   "cell_type": "code",
   "execution_count": null,
   "metadata": {},
   "outputs": [],
   "source": []
  }
 ],
 "metadata": {
  "kernelspec": {
   "display_name": "Python 3",
   "language": "python",
   "name": "python3"
  },
  "language_info": {
   "codemirror_mode": {
    "name": "ipython",
    "version": 3
   },
   "file_extension": ".py",
   "mimetype": "text/x-python",
   "name": "python",
   "nbconvert_exporter": "python",
   "pygments_lexer": "ipython3",
   "version": "3.7.1"
  }
 },
 "nbformat": 4,
 "nbformat_minor": 2
}
