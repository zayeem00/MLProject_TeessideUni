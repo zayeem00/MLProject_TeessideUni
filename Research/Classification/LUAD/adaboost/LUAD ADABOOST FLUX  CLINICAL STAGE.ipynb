{
 "cells": [
  {
   "cell_type": "code",
   "execution_count": 1,
   "metadata": {},
   "outputs": [],
   "source": [
    "import pandas as pd\n",
    "import os\n",
    "import numpy as np\n"
   ]
  },
  {
   "cell_type": "code",
   "execution_count": 2,
   "metadata": {},
   "outputs": [],
   "source": [
    "os.chdir('C:\\\\RESEARCH\\\\LUAD\\\\Stage')"
   ]
  },
  {
   "cell_type": "code",
   "execution_count": 3,
   "metadata": {},
   "outputs": [],
   "source": [
    "X=pd.read_excel('Flux_Clinical_Stage.xlsx',index_col=0)"
   ]
  },
  {
   "cell_type": "code",
   "execution_count": 4,
   "metadata": {},
   "outputs": [
    {
     "data": {
      "text/plain": [
       "(517, 2300)"
      ]
     },
     "execution_count": 4,
     "metadata": {},
     "output_type": "execute_result"
    }
   ],
   "source": [
    "X.shape"
   ]
  },
  {
   "cell_type": "code",
   "execution_count": 5,
   "metadata": {},
   "outputs": [],
   "source": [
    "x=X.iloc[:,0:2298].values\n",
    "y=X.iloc[:,-1].values"
   ]
  },
  {
   "cell_type": "code",
   "execution_count": 6,
   "metadata": {},
   "outputs": [
    {
     "data": {
      "text/plain": [
       "array(['Stage IV', 'Stage IB', 'Stage IIIA', 'Stage IB', 'Stage IIIA',\n",
       "       'Stage IA', 'Stage IB', 'Stage IIIB', 'Stage IIIB', 'Stage IIB',\n",
       "       'Stage IIIB', 'Stage IV', 'Stage IB', 'Stage IB', 'Stage IB',\n",
       "       'Stage IIIB', 'Stage IB', 'Stage IIIA', 'Stage IB', 'Stage IB',\n",
       "       'Stage IIB', 'Stage IV', 'Stage IB', 'Stage IIB', 'Stage IB',\n",
       "       'Stage IIB', 'Stage IB', 'Stage IV', 'Stage IIIA', 'Stage IIB',\n",
       "       'Stage IIB', 'Stage IIA', 'Stage IIIA', 'Stage IB', 'Stage IB',\n",
       "       'Stage IA', 'Stage IA', 'Stage IIIA', 'Stage IB', 'Stage IB',\n",
       "       'Stage IIA', 'Stage IIB', 'Stage IIB', 'Stage IB', 'Stage IB',\n",
       "       'Stage IV', 'Stage IIIA', 'Stage IA', 'Stage IB', 'Stage IA',\n",
       "       'Stage IB', 'Stage IB', 'Stage IIB', 'Stage IA', 'Stage IB',\n",
       "       'Stage IIB', 'Stage IB', 'Stage IB', 'Stage IIIA', 'Stage IA',\n",
       "       'Stage IA', 'Stage IA', 'Stage IB', 'Stage IIIA', 'Stage IB',\n",
       "       'Stage IA', 'Stage IA', 'Stage IIB', 'Stage IA', 'Stage IA',\n",
       "       'Stage IIIA', 'Stage IB', 'Stage IA', 'Stage IB', 'Stage IA',\n",
       "       'Stage IIB', 'Stage IA', 'Stage IB', 'Stage IB', 'Stage IB',\n",
       "       'Stage IIB', 'Stage IIA', 'Stage IIA', 'Stage IB', 'Stage IA',\n",
       "       'Stage IB', 'Stage IIB', 'Stage IB', 'Stage IB', 'Stage IB',\n",
       "       'Stage IB', 'Stage IA', 'Stage IA', 'Stage IA', 'Stage IA',\n",
       "       'Stage IA', 'Stage IA', 'Stage IIIA', 'Stage IIIA', 'Stage IB',\n",
       "       'Stage IIB', 'Stage IIB', 'Stage IIIA', 'Stage IIB', 'Stage IIIA',\n",
       "       'Stage IA', 'Stage IIA', 'Stage IIIA', 'Stage IIA', 'Stage IIIA',\n",
       "       'Stage IIIA', 'Stage IIB', 'Stage II', 'Stage IA', 'Stage IB',\n",
       "       'Stage IIB', 'Stage IIIA', 'Stage IIB', 'Stage IA', 'Stage IA',\n",
       "       'Stage IA', 'Stage I', 'Stage IA', 'Stage IA', 'Stage IIIB',\n",
       "       'Stage IB', 'Stage IA', 'Stage IIIA', 'Stage IIA', 'Stage IB',\n",
       "       'Stage IB', 'Stage IIB', 'Stage IIIA', 'Stage IIIA', 'Stage IB',\n",
       "       'Stage IIB', 'Stage IIIB', 'Stage IA', 'Stage IIIA', 'Stage IB',\n",
       "       'Stage IIIA', 'Stage IA', 'Stage IA', 'Stage IA', 'Stage IA',\n",
       "       'Stage IB', 'Stage IV', 'Stage IB', 'Stage IIIA', 'Stage IIIA',\n",
       "       'Stage IIIA', 'Stage IB', 'Stage I', 'Stage IA', 'Stage IA',\n",
       "       'Stage IIB', 'Stage IA', 'Stage IV', 'Stage IIA', 'Stage IIIB',\n",
       "       'Stage IIA', 'Stage IA', 'Stage IIIA', 'Stage IA', 'Stage IIB',\n",
       "       'Stage IB', 'Stage IA', 'Stage IB', 'Stage IIA', 'Stage IV',\n",
       "       'Stage IB', 'Stage IIIA', 'Stage IB', 'Stage IB', 'Stage IIB',\n",
       "       'Stage IIA', 'Stage IIB', 'Stage IA', 'Stage IIIA', 'Stage IIB',\n",
       "       'Stage IIB', 'Stage IIB', 'Stage IB', 'Stage IB', 'Stage IA',\n",
       "       'Stage IIIA', 'Stage IA', 'Stage IIIA', 'Stage IIB', 'Stage IA',\n",
       "       'Stage IA', 'Stage IB', 'Stage IB', 'Stage IB', 'Stage IA',\n",
       "       'Stage IA', 'Stage IIIA', 'Stage IB', 'Stage IB', 'Stage IV',\n",
       "       'Stage IA', 'Stage IIA', 'Stage IIA', 'Stage IA', 'Stage IA',\n",
       "       'Stage IIA', 'Stage IIB', 'Stage IA', 'Stage IA', 'Stage IB',\n",
       "       'Stage IA', 'Stage IA', 'Stage IB', 'Stage IIB', 'Stage IV',\n",
       "       'Stage IB', 'Stage IA', 'Stage IA', 'Stage IB', 'Stage IIA',\n",
       "       'Stage IA', 'Stage IB', 'Stage IA', 'Stage IA', 'Stage IB',\n",
       "       'Stage IB', 'Stage IIIA', 'Stage IIB', 'Stage IA', 'Stage IIA',\n",
       "       'Stage IB', 'Stage IB', 'Stage IV', 'Stage IIB', 'Stage IB',\n",
       "       'Stage IB', 'Stage IIIA', 'Stage IB', 'Stage IIB', 'Stage IV',\n",
       "       'Stage IA', 'Stage IIA', 'Stage IIA', 'Stage IIIB', 'Stage IIA',\n",
       "       'Stage IA', 'Stage IA', 'Stage IB', 'Stage IB', 'Stage IA',\n",
       "       'Stage IA', 'Stage IA', 'Stage IIIB', 'Stage IIB', 'Stage IIB',\n",
       "       'Stage IIIA', 'Stage IIIA', 'Stage IIIA', 'Stage IB', 'Stage IB',\n",
       "       'Stage IB', 'Stage IB', 'Stage IIB', 'Stage IB', 'Stage IIIA',\n",
       "       'Stage IB', 'Stage IIB', 'Stage IIB', 'Stage IA', 'Stage IIIA',\n",
       "       'Stage IB', 'Stage IIIA', 'Stage IV', 'Stage IA', 'Stage IB',\n",
       "       'Stage IIIA', 'Stage IB', 'Stage IIIA', 'Stage IB', 'Stage IIB',\n",
       "       'Stage IA', 'Stage IA', 'Stage IB', 'Stage IB', 'Stage IB',\n",
       "       'Stage IB', 'Stage IB', 'Stage IA', 'Stage IIA', 'Stage IIB',\n",
       "       'Stage IB', 'Stage IA', 'Stage IA', 'Stage IB', 'Stage IB',\n",
       "       'Stage IIIA', 'Stage IIB', 'Stage IB', 'Stage I', 'Stage IIA',\n",
       "       'Stage IB', 'Stage IA', 'Stage IIB', 'Stage IIB', 'Stage IB',\n",
       "       'Stage IB', 'Stage IB', 'Stage IIIA', 'Stage IA', 'Stage IV',\n",
       "       'Stage IIB', 'Stage IV', 'Stage IIIA', 'Stage IIA', 'Stage IB',\n",
       "       'Stage IA', 'Stage IB', 'Stage IIB', 'Stage IB', 'Stage IIB',\n",
       "       'Stage IIIA', 'Stage IB', 'Stage IB', 'Stage IIIA', 'Stage IB',\n",
       "       'Stage IB', 'Stage IIIA', 'Stage IB', 'Stage IIB', 'Stage IIIA',\n",
       "       'Stage IB', 'Stage IB', 'Stage IIB', 'Stage IB', 'Stage IB',\n",
       "       'Stage IV', 'Stage IIIA', 'Stage IIB', 'Stage IIB', 'Stage IIIB',\n",
       "       'Stage IIB', 'Stage IB', 'Stage IB', 'Stage IIIA', 'Stage IB',\n",
       "       'Stage IV', 'Stage IIIB', 'Stage IA', 'Stage IV', 'Stage IIB',\n",
       "       'Stage IA', 'Stage IB', 'Stage IIB', 'Stage IV', 'Stage IIIA',\n",
       "       'Stage IB', 'Stage IIIA', 'Stage IB', 'Stage IIA', 'Stage IB',\n",
       "       'Stage IB', 'Stage IB', 'Stage IIA', 'Stage IIB', 'Stage IA',\n",
       "       'Stage IIB', 'Stage IB', 'Stage IIB', 'Stage IA', 'Stage IB',\n",
       "       'Stage IA', 'Stage IIA', 'Stage IIA', 'Stage IV', 'Stage IIA',\n",
       "       'Stage IIA', 'Stage IIIA', 'Stage IA', 'Stage IB', 'Stage IB',\n",
       "       'Stage IIB', 'Stage IIA', 'Stage IIIA', 'Stage IB', 'Stage IIA',\n",
       "       'Stage IB', 'Stage IA', 'Stage IIB', 'Stage IIA', 'Stage IIA',\n",
       "       'Stage IA', 'Stage IB', 'Stage IIIA', 'Stage IB', 'Stage IA',\n",
       "       'Stage IA', 'Stage IIB', 'Stage IIB', 'Stage IB', 'Stage IIA',\n",
       "       'Stage IA', 'Stage IIA', 'Stage IIB', 'Stage IB', 'Stage IIIA',\n",
       "       'Stage IA', 'Stage IB', 'Stage IIA', 'Stage IB', 'Stage IA',\n",
       "       'Stage IB', 'Stage IA', 'Stage IB', 'Stage IIIA', 'Stage IIIA',\n",
       "       'Stage IIB', 'Stage IB', 'Stage IA', 'Stage IA', 'Stage IIA',\n",
       "       'Stage IIA', 'Stage IA', 'Stage IA', 'Stage IB', 'Stage IV',\n",
       "       'Stage IA', 'Stage IV', 'Stage IA', 'Stage IIB', 'Stage IA',\n",
       "       'Stage IIA', 'Stage IIB', 'Stage IA', 'Stage IA', 'Stage IB',\n",
       "       'Stage IA', 'Stage IIA', 'Stage IIIA', 'Stage IIA', 'Stage IIIA',\n",
       "       'Stage IA', 'Stage IB', 'Stage IB', 'Stage IA', 'Stage IIIA',\n",
       "       'Stage IB', 'Stage IA', 'Stage IA', 'Stage IV', 'Stage IB',\n",
       "       'Stage IIA', 'Stage IB', 'Stage IIIA', 'Stage IB', 'Stage IA',\n",
       "       'Stage IIIA', 'Stage I', 'Stage IB', 'Stage IB', 'Stage IA',\n",
       "       'Stage IA', 'Stage IA', 'Stage IA', 'Stage IA', 'Stage IA',\n",
       "       'Stage IIIA', 'Stage IIIA', 'Stage IA', 'Stage IA', 'Stage IV',\n",
       "       'Stage IA', 'Stage IIA', 'Stage IIB', 'Stage IA', 'Stage IA',\n",
       "       'Stage IA', 'Stage I', 'Stage IA', 'Stage IA', 'Stage IA',\n",
       "       'Stage IIA', 'Stage IV', 'Stage IIA', 'Stage IIA', 'Stage IB',\n",
       "       'Stage IIA', 'Stage IA', 'Stage IA', 'Stage IB', 'Stage IIB',\n",
       "       'Stage IIB', 'Stage IIB', 'Stage IIIA', 'Stage IV', 'Stage IIIA',\n",
       "       'Stage IIIA', 'Stage IA', 'Stage IIIA', 'Stage IIIA', 'Stage IIA',\n",
       "       'Stage IIA', 'Stage IA', 'Stage IIA', 'Stage IA', 'Stage IIB',\n",
       "       'Stage IB', 'Stage IA', 'Stage IB', 'Stage IIIA', 'Stage IB',\n",
       "       'Stage IA', 'Stage IB', 'Stage IIA', 'Stage IA', 'Stage IIIA',\n",
       "       'Stage IA', 'Stage IA'], dtype=object)"
      ]
     },
     "execution_count": 6,
     "metadata": {},
     "output_type": "execute_result"
    }
   ],
   "source": [
    "y"
   ]
  },
  {
   "cell_type": "code",
   "execution_count": 7,
   "metadata": {},
   "outputs": [],
   "source": [
    "# Encoding categorical data\n",
    "from sklearn.preprocessing import LabelEncoder\n",
    "labelEncoder_y = LabelEncoder()\n",
    "y = labelEncoder_y.fit_transform(y.astype(str))\n"
   ]
  },
  {
   "cell_type": "code",
   "execution_count": 8,
   "metadata": {},
   "outputs": [
    {
     "data": {
      "text/plain": [
       "array([8, 2, 6, 2, 6, 1, 2, 7, 7, 5, 7, 8, 2, 2, 2, 7, 2, 6, 2, 2, 5, 8,\n",
       "       2, 5, 2, 5, 2, 8, 6, 5, 5, 4, 6, 2, 2, 1, 1, 6, 2, 2, 4, 5, 5, 2,\n",
       "       2, 8, 6, 1, 2, 1, 2, 2, 5, 1, 2, 5, 2, 2, 6, 1, 1, 1, 2, 6, 2, 1,\n",
       "       1, 5, 1, 1, 6, 2, 1, 2, 1, 5, 1, 2, 2, 2, 5, 4, 4, 2, 1, 2, 5, 2,\n",
       "       2, 2, 2, 1, 1, 1, 1, 1, 1, 6, 6, 2, 5, 5, 6, 5, 6, 1, 4, 6, 4, 6,\n",
       "       6, 5, 3, 1, 2, 5, 6, 5, 1, 1, 1, 0, 1, 1, 7, 2, 1, 6, 4, 2, 2, 5,\n",
       "       6, 6, 2, 5, 7, 1, 6, 2, 6, 1, 1, 1, 1, 2, 8, 2, 6, 6, 6, 2, 0, 1,\n",
       "       1, 5, 1, 8, 4, 7, 4, 1, 6, 1, 5, 2, 1, 2, 4, 8, 2, 6, 2, 2, 5, 4,\n",
       "       5, 1, 6, 5, 5, 5, 2, 2, 1, 6, 1, 6, 5, 1, 1, 2, 2, 2, 1, 1, 6, 2,\n",
       "       2, 8, 1, 4, 4, 1, 1, 4, 5, 1, 1, 2, 1, 1, 2, 5, 8, 2, 1, 1, 2, 4,\n",
       "       1, 2, 1, 1, 2, 2, 6, 5, 1, 4, 2, 2, 8, 5, 2, 2, 6, 2, 5, 8, 1, 4,\n",
       "       4, 7, 4, 1, 1, 2, 2, 1, 1, 1, 7, 5, 5, 6, 6, 6, 2, 2, 2, 2, 5, 2,\n",
       "       6, 2, 5, 5, 1, 6, 2, 6, 8, 1, 2, 6, 2, 6, 2, 5, 1, 1, 2, 2, 2, 2,\n",
       "       2, 1, 4, 5, 2, 1, 1, 2, 2, 6, 5, 2, 0, 4, 2, 1, 5, 5, 2, 2, 2, 6,\n",
       "       1, 8, 5, 8, 6, 4, 2, 1, 2, 5, 2, 5, 6, 2, 2, 6, 2, 2, 6, 2, 5, 6,\n",
       "       2, 2, 5, 2, 2, 8, 6, 5, 5, 7, 5, 2, 2, 6, 2, 8, 7, 1, 8, 5, 1, 2,\n",
       "       5, 8, 6, 2, 6, 2, 4, 2, 2, 2, 4, 5, 1, 5, 2, 5, 1, 2, 1, 4, 4, 8,\n",
       "       4, 4, 6, 1, 2, 2, 5, 4, 6, 2, 4, 2, 1, 5, 4, 4, 1, 2, 6, 2, 1, 1,\n",
       "       5, 5, 2, 4, 1, 4, 5, 2, 6, 1, 2, 4, 2, 1, 2, 1, 2, 6, 6, 5, 2, 1,\n",
       "       1, 4, 4, 1, 1, 2, 8, 1, 8, 1, 5, 1, 4, 5, 1, 1, 2, 1, 4, 6, 4, 6,\n",
       "       1, 2, 2, 1, 6, 2, 1, 1, 8, 2, 4, 2, 6, 2, 1, 6, 0, 2, 2, 1, 1, 1,\n",
       "       1, 1, 1, 6, 6, 1, 1, 8, 1, 4, 5, 1, 1, 1, 0, 1, 1, 1, 4, 8, 4, 4,\n",
       "       2, 4, 1, 1, 2, 5, 5, 5, 6, 8, 6, 6, 1, 6, 6, 4, 4, 1, 4, 1, 5, 2,\n",
       "       1, 2, 6, 2, 1, 2, 4, 1, 6, 1, 1], dtype=int64)"
      ]
     },
     "execution_count": 8,
     "metadata": {},
     "output_type": "execute_result"
    }
   ],
   "source": [
    "y"
   ]
  },
  {
   "cell_type": "code",
   "execution_count": 9,
   "metadata": {},
   "outputs": [],
   "source": [
    "# Splitting the dataset into the Training set and Test set\n",
    "from sklearn.model_selection import train_test_split\n",
    "X_train, X_test, y_train, y_test = train_test_split(x, y, test_size = 0.2, random_state = 0)\n",
    "\n",
    "X_train, X_val, y_train, y_val = train_test_split(X_train, y_train, test_size=0.2, random_state=0)\n"
   ]
  },
  {
   "cell_type": "code",
   "execution_count": 10,
   "metadata": {},
   "outputs": [],
   "source": [
    "# Feature Scaling\n",
    "from sklearn.preprocessing import StandardScaler\n",
    "sc = StandardScaler()\n",
    "X_train = sc.fit_transform(X_train)\n",
    "X_val = sc.fit_transform(X_val)\n",
    "X_test = sc.transform(X_test)"
   ]
  },
  {
   "cell_type": "code",
   "execution_count": 11,
   "metadata": {},
   "outputs": [],
   "source": [
    "from sklearn.ensemble import AdaBoostClassifier\n",
    "# Fitting Gradient Boosting  Classification to the Validation set\n",
    "classifier = AdaBoostClassifier()\n",
    "classifier = AdaBoostClassifier(base_estimator=None, n_estimators=50, learning_rate=1.0, algorithm='SAMME.R', random_state=None)\n",
    "classifier = AdaBoostClassifier(algorithm='SAMME', n_estimators=50, learning_rate=1.0, random_state=0).fit(X_train, y_train)"
   ]
  },
  {
   "cell_type": "code",
   "execution_count": 12,
   "metadata": {},
   "outputs": [],
   "source": [
    "\n",
    "# Predicting the Validation set results\n",
    "y_val_pred = classifier.predict(X_val)"
   ]
  },
  {
   "cell_type": "code",
   "execution_count": 13,
   "metadata": {},
   "outputs": [
    {
     "data": {
      "text/plain": [
       "0.43373493975903615"
      ]
     },
     "execution_count": 13,
     "metadata": {},
     "output_type": "execute_result"
    }
   ],
   "source": [
    "# Making the Confusion Matrix\n",
    "import matplotlib.pyplot as plt\n",
    "from sklearn import svm, datasets\n",
    "from sklearn.metrics import confusion_matrix\n",
    "cm = confusion_matrix(y_val, y_val_pred)\n",
    "accuracy = ((cm[0][0]+cm[1][1]+cm[2][2]+cm[3][3]+cm[4][4]+cm[5][5]+cm[6][6]) / cm.sum())\n",
    "accuracy"
   ]
  },
  {
   "cell_type": "code",
   "execution_count": 14,
   "metadata": {},
   "outputs": [
    {
     "name": "stdout",
     "output_type": "stream",
     "text": [
      "Confusion Matrix, without normalization\n",
      "[[ 0  0  1  0  0  0  0]\n",
      " [ 0  2 16  1  2  0  0]\n",
      " [ 0  2 19  0  0  0  0]\n",
      " [ 0  0  2  0  5  0  0]\n",
      " [ 0  0  6  1  8  0  0]\n",
      " [ 0  0  0  0  3  7  0]\n",
      " [ 0  0  3  0  3  2  0]]\n"
     ]
    },
    {
     "data": {
      "text/plain": [
       "<matplotlib.image.AxesImage at 0x2021b5497b8>"
      ]
     },
     "execution_count": 14,
     "metadata": {},
     "output_type": "execute_result"
    },
    {
     "data": {
      "text/plain": [
       "<Figure size 720x504 with 0 Axes>"
      ]
     },
     "metadata": {},
     "output_type": "display_data"
    },
    {
     "data": {
      "image/png": "[encoded data removed]",
      "text/plain": [
       "<Figure size 288x288 with 1 Axes>"
      ]
     },
     "metadata": {
      "needs_background": "light"
     },
     "output_type": "display_data"
    }
   ],
   "source": [
    "# np.set_printoptions(precision=2)\n",
    "print('Confusion Matrix, without normalization')\n",
    "print(cm)\n",
    "plt.figure(figsize = (10,7))\n",
    "plt.matshow(cm)\n"
   ]
  },
  {
   "cell_type": "code",
   "execution_count": 15,
   "metadata": {},
   "outputs": [
    {
     "name": "stdout",
     "output_type": "stream",
     "text": [
      "Normalized confusion matrix\n",
      "[[0.         0.         1.         0.         0.         0.\n",
      "  0.        ]\n",
      " [0.         0.0952381  0.76190476 0.04761905 0.0952381  0.\n",
      "  0.        ]\n",
      " [0.         0.0952381  0.9047619  0.         0.         0.\n",
      "  0.        ]\n",
      " [0.         0.         0.28571429 0.         0.71428571 0.\n",
      "  0.        ]\n",
      " [0.         0.         0.4        0.06666667 0.53333333 0.\n",
      "  0.        ]\n",
      " [0.         0.         0.         0.         0.3        0.7\n",
      "  0.        ]\n",
      " [0.         0.         0.375      0.         0.375      0.25\n",
      "  0.        ]]\n"
     ]
    },
    {
     "data": {
      "text/plain": [
       "<matplotlib.image.AxesImage at 0x2021b5aa4a8>"
      ]
     },
     "execution_count": 15,
     "metadata": {},
     "output_type": "execute_result"
    },
    {
     "data": {
      "text/plain": [
       "<Figure size 432x288 with 0 Axes>"
      ]
     },
     "metadata": {},
     "output_type": "display_data"
    },
    {
     "data": {
      "image/png": "[encoded data removed]",
      "text/plain": [
       "<Figure size 288x288 with 1 Axes>"
      ]
     },
     "metadata": {
      "needs_background": "light"
     },
     "output_type": "display_data"
    }
   ],
   "source": [
    "# Normalize the confusion matrix by row (i.e. by the number of samples in each class)\n",
    "cm_normalized = cm.astype('float') / cm.sum(axis=1) [:, np.newaxis]\n",
    "print('Normalized confusion matrix')\n",
    "print(cm_normalized)\n",
    "plt.figure()\n",
    "plt.matshow(cm_normalized)"
   ]
  },
  {
   "cell_type": "code",
   "execution_count": 16,
   "metadata": {},
   "outputs": [
    {
     "name": "stdout",
     "output_type": "stream",
     "text": [
      "              precision    recall  f1-score   support\n",
      "\n",
      "           0       0.00      0.00      0.00         1\n",
      "           1       0.50      0.10      0.16        21\n",
      "           2       0.40      0.90      0.56        21\n",
      "           4       0.00      0.00      0.00         7\n",
      "           5       0.38      0.53      0.44        15\n",
      "           6       0.78      0.70      0.74        10\n",
      "           8       0.00      0.00      0.00         8\n",
      "\n",
      "   micro avg       0.43      0.43      0.43        83\n",
      "   macro avg       0.29      0.32      0.27        83\n",
      "weighted avg       0.39      0.43      0.35        83\n",
      "\n"
     ]
    },
    {
     "name": "stderr",
     "output_type": "stream",
     "text": [
      "C:\\Users\\Kanika Saini\\Anaconda3\\lib\\site-packages\\sklearn\\metrics\\classification.py:1143: UndefinedMetricWarning: Precision and F-score are ill-defined and being set to 0.0 in labels with no predicted samples.\n",
      "  'precision', 'predicted', average, warn_for)\n"
     ]
    }
   ],
   "source": [
    "# Classification Report\n",
    "from sklearn.metrics import classification_report\n",
    "print(classification_report(y_val, y_val_pred))"
   ]
  },
  {
   "cell_type": "code",
   "execution_count": 17,
   "metadata": {},
   "outputs": [
    {
     "data": {
      "text/plain": [
       "0.3120807326713971"
      ]
     },
     "execution_count": 17,
     "metadata": {},
     "output_type": "execute_result"
    }
   ],
   "source": [
    "\n",
    "# Matthews Correlation Coefficient Calculation #\n",
    "from sklearn.metrics import matthews_corrcoef\n",
    "matthews_corrcoef(y_val, y_val_pred)"
   ]
  },
  {
   "cell_type": "code",
   "execution_count": 18,
   "metadata": {},
   "outputs": [
    {
     "name": "stderr",
     "output_type": "stream",
     "text": [
      "C:\\Users\\Kanika Saini\\Anaconda3\\lib\\site-packages\\sklearn\\model_selection\\_split.py:652: Warning: The least populated class in y has only 1 members, which is too few. The minimum number of members in any class cannot be less than n_splits=10.\n",
      "  % (min_groups, self.n_splits)), Warning)\n"
     ]
    },
    {
     "data": {
      "text/plain": [
       "0.4392401673805848"
      ]
     },
     "execution_count": 18,
     "metadata": {},
     "output_type": "execute_result"
    }
   ],
   "source": [
    "# Applying k-Fold Cross Validation\n",
    "from sklearn.model_selection import cross_val_score\n",
    "accuracies = cross_val_score(estimator = classifier, X = X_train, y = y_train, cv = 10)\n",
    "accuracies.mean()"
   ]
  },
  {
   "cell_type": "code",
   "execution_count": null,
   "metadata": {},
   "outputs": [],
   "source": [
    "from sklearn.tree import DecisionTreeClassifier\n",
    "from sklearn.model_selection import GridSearchCV\n",
    "\n",
    "parameter_grid = {\"n_estimators\": [50, 60],\n",
    "                  \"learning_rate\":[1.0],\n",
    "                  \"algorithm\": [\"SAMME\", \"SAMME.R\"],\n",
    "                  \"random_state\": [0]}\n",
    "\n",
    "DTC = DecisionTreeClassifier(random_state = 11, max_features = \"auto\", class_weight = None, max_depth = None)\n",
    "\n",
    "\n",
    "clf = AdaBoostClassifier(base_estimator = DTC)             \n",
    "\n",
    "#cross_validation = StratifiedKFold(y_train, n_splits=10)\n",
    "\n",
    "grid_search = GridSearchCV(clf, param_grid = parameter_grid,\n",
    "                          cv = 10, scoring = 'roc_auc')\n",
    "\n",
    "grid_search.fit(X_train, y_train)\n",
    "\n",
    "\n",
    "Best_Score = grid_search.best_score_\n",
    "Best_Param = grid_search.best_params_"
   ]
  },
  {
   "cell_type": "code",
   "execution_count": null,
   "metadata": {},
   "outputs": [],
   "source": [
    "################### Testing set ###########################"
   ]
  },
  {
   "cell_type": "code",
   "execution_count": null,
   "metadata": {},
   "outputs": [],
   "source": [
    "# Fitting Gradient Boosting  Classification to the Validation set\n",
    "clf = GradientBoostingClassifier()\n",
    "clf = clf.fit(X_train, y_train)\n",
    "clf.score(X_val, y_val)"
   ]
  },
  {
   "cell_type": "code",
   "execution_count": null,
   "metadata": {},
   "outputs": [],
   "source": [
    "# Predicting the Test set results\n",
    "y_pred = classifier.predict(X_test)"
   ]
  },
  {
   "cell_type": "code",
   "execution_count": null,
   "metadata": {},
   "outputs": [],
   "source": [
    "# Making the Confusion Matrix\n",
    "import matplotlib.pyplot as plt\n",
    "from sklearn import svm, datasets\n",
    "from sklearn.metrics import confusion_matrix\n",
    "cm = confusion_matrix(y_test, y_pred)\n",
    "accuracy = ((cm[0][0]+cm[1][1]) / cm.sum())"
   ]
  },
  {
   "cell_type": "code",
   "execution_count": null,
   "metadata": {},
   "outputs": [],
   "source": [
    "# np.set_printoptions(precision=2)\n",
    "print('Confusion Matrix, without normalization')\n",
    "print(cm)\n",
    "plt.figure(figsize = (10,7))\n",
    "plt.matshow(cm)\n"
   ]
  },
  {
   "cell_type": "code",
   "execution_count": null,
   "metadata": {},
   "outputs": [],
   "source": [
    "# Normalize the confusion matrix by row (i.e. by the number of samples in each class)\n",
    "cm_normalized = cm.astype('float') / cm.sum(axis=1) [:, np.newaxis]\n",
    "print('Normalized confusion matrix')\n",
    "print(cm_normalized)\n",
    "plt.figure()\n",
    "plt.matshow(cm_normalized)"
   ]
  },
  {
   "cell_type": "code",
   "execution_count": null,
   "metadata": {},
   "outputs": [],
   "source": [
    "# Classification Report\n",
    "from sklearn.metrics import classification_report\n",
    "print(classification_report(y_test, y_pred))"
   ]
  },
  {
   "cell_type": "code",
   "execution_count": null,
   "metadata": {},
   "outputs": [],
   "source": [
    "\n",
    "# Matthews Correlation Coefficient Calculation #\n",
    "from sklearn.metrics import matthews_corrcoef\n",
    "matthews_corrcoef(y_test, y_pred)\n"
   ]
  },
  {
   "cell_type": "code",
   "execution_count": null,
   "metadata": {},
   "outputs": [],
   "source": [
    "\n",
    "# ROC Curve Implementation\n",
    "import scikitplot as skplt\n",
    "y_pred = classifier.predict(X_test)\n",
    "preds = y_pred[:,]\n",
    "fpr, tpr, threshold = skplt.metrics.roc_curve(y_test, preds)\n",
    "roc_auc = skplt.metrics.auc(fpr, tpr)"
   ]
  },
  {
   "cell_type": "code",
   "execution_count": null,
   "metadata": {},
   "outputs": [],
   "source": [
    "import matplotlib.pyplot as plt\n",
    "plt.title('Receiver Operating Characteristic')\n",
    "plt.plot(fpr, tpr, 'b', label = 'AUC = %0.2f' % roc_auc)\n",
    "plt.legend(loc = 'lower right')\n",
    "plt.plot([0, 1], [0, 1],'r--')\n",
    "plt.xlim([0, 1])\n",
    "plt.ylim([0, 1])\n",
    "plt.ylabel('True Positive Rate')\n",
    "plt.xlabel('False Positive Rate')\n",
    "plt.show()\n"
   ]
  },
  {
   "cell_type": "code",
   "execution_count": null,
   "metadata": {},
   "outputs": [],
   "source": []
  },
  {
   "cell_type": "code",
   "execution_count": null,
   "metadata": {},
   "outputs": [],
   "source": []
  },
  {
   "cell_type": "code",
   "execution_count": null,
   "metadata": {},
   "outputs": [],
   "source": []
  }
 ],
 "metadata": {
  "kernelspec": {
   "display_name": "Python 3",
   "language": "python",
   "name": "python3"
  },
  "language_info": {
   "codemirror_mode": {
    "name": "ipython",
    "version": 3
   },
   "file_extension": ".py",
   "mimetype": "text/x-python",
   "name": "python",
   "nbconvert_exporter": "python",
   "pygments_lexer": "ipython3",
   "version": "3.7.1"
  }
 },
 "nbformat": 4,
 "nbformat_minor": 2
}
