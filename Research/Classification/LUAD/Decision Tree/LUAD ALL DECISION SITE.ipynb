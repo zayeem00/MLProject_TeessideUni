{
 "cells": [
  {
   "cell_type": "code",
   "execution_count": 1,
   "metadata": {},
   "outputs": [],
   "source": [
    "import pandas as pd\n",
    "import os\n",
    "import numpy as np"
   ]
  },
  {
   "cell_type": "code",
   "execution_count": 2,
   "metadata": {},
   "outputs": [],
   "source": [
    "os.chdir('C:\\\\RESEARCH\\\\LUAD\\\\Site')"
   ]
  },
  {
   "cell_type": "code",
   "execution_count": 3,
   "metadata": {},
   "outputs": [],
   "source": [
    "genes=pd.read_excel('LUAD_Genes_Site.xlsx',index_col=0)"
   ]
  },
  {
   "cell_type": "code",
   "execution_count": 4,
   "metadata": {},
   "outputs": [],
   "source": [
    "flux=pd.read_excel('LUAD_Flux_Site.xlsx',index_col=0)"
   ]
  },
  {
   "cell_type": "code",
   "execution_count": 5,
   "metadata": {},
   "outputs": [],
   "source": [
    "clinical=pd.read_excel('LUAD_Clinical_Site.xlsx',index_col=0)"
   ]
  },
  {
   "cell_type": "code",
   "execution_count": 6,
   "metadata": {},
   "outputs": [
    {
     "data": {
      "text/html": [
       "<div>\n",
       "<style scoped>\n",
       "    .dataframe tbody tr th:only-of-type {\n",
       "        vertical-align: middle;\n",
       "    }\n",
       "\n",
       "    .dataframe tbody tr th {\n",
       "        vertical-align: top;\n",
       "    }\n",
       "\n",
       "    .dataframe thead th {\n",
       "        text-align: right;\n",
       "    }\n",
       "</style>\n",
       "<table border=\"1\" class=\"dataframe\">\n",
       "  <thead>\n",
       "    <tr style=\"text-align: right;\">\n",
       "      <th></th>\n",
       "      <th>UBE2Q2P2</th>\n",
       "      <th>SSX9</th>\n",
       "      <th>CXORF67</th>\n",
       "      <th>EFCAB8</th>\n",
       "      <th>SDR16C6P</th>\n",
       "      <th>EFCAB12</th>\n",
       "      <th>A1BG</th>\n",
       "      <th>A1CF</th>\n",
       "      <th>RBFOX1</th>\n",
       "      <th>GGACT</th>\n",
       "      <th>...</th>\n",
       "      <th>SLTM</th>\n",
       "      <th>SLU7</th>\n",
       "      <th>SLURP1</th>\n",
       "      <th>SMAD2</th>\n",
       "      <th>SMAD3</th>\n",
       "      <th>SMAD4</th>\n",
       "      <th>SMAD5</th>\n",
       "      <th>SMAD6</th>\n",
       "      <th>SMAD7</th>\n",
       "      <th>Primary Tumor Site</th>\n",
       "    </tr>\n",
       "    <tr>\n",
       "      <th>Hugo_Symbol</th>\n",
       "      <th></th>\n",
       "      <th></th>\n",
       "      <th></th>\n",
       "      <th></th>\n",
       "      <th></th>\n",
       "      <th></th>\n",
       "      <th></th>\n",
       "      <th></th>\n",
       "      <th></th>\n",
       "      <th></th>\n",
       "      <th></th>\n",
       "      <th></th>\n",
       "      <th></th>\n",
       "      <th></th>\n",
       "      <th></th>\n",
       "      <th></th>\n",
       "      <th></th>\n",
       "      <th></th>\n",
       "      <th></th>\n",
       "      <th></th>\n",
       "      <th></th>\n",
       "    </tr>\n",
       "  </thead>\n",
       "  <tbody>\n",
       "    <tr>\n",
       "      <th>TCGA-05-4244-01</th>\n",
       "      <td>-0.4238</td>\n",
       "      <td>-0.1379</td>\n",
       "      <td>-0.1805</td>\n",
       "      <td>0.4529</td>\n",
       "      <td>-0.3317</td>\n",
       "      <td>-0.1012</td>\n",
       "      <td>-0.6977</td>\n",
       "      <td>-0.1476</td>\n",
       "      <td>-0.224</td>\n",
       "      <td>0.3832</td>\n",
       "      <td>...</td>\n",
       "      <td>-1.1877</td>\n",
       "      <td>3.4584</td>\n",
       "      <td>-0.2752</td>\n",
       "      <td>-0.7736</td>\n",
       "      <td>-0.6896</td>\n",
       "      <td>-0.0017</td>\n",
       "      <td>0.1779</td>\n",
       "      <td>-0.6433</td>\n",
       "      <td>0.7445</td>\n",
       "      <td>R-Lower</td>\n",
       "    </tr>\n",
       "    <tr>\n",
       "      <th>TCGA-05-4249-01</th>\n",
       "      <td>-0.3291</td>\n",
       "      <td>-0.1379</td>\n",
       "      <td>-0.1805</td>\n",
       "      <td>-0.0869</td>\n",
       "      <td>-0.3317</td>\n",
       "      <td>-0.1661</td>\n",
       "      <td>-0.1483</td>\n",
       "      <td>-0.1371</td>\n",
       "      <td>-0.226</td>\n",
       "      <td>-0.5346</td>\n",
       "      <td>...</td>\n",
       "      <td>-0.5540</td>\n",
       "      <td>0.7962</td>\n",
       "      <td>-0.2752</td>\n",
       "      <td>-0.6214</td>\n",
       "      <td>0.0881</td>\n",
       "      <td>1.3829</td>\n",
       "      <td>2.3203</td>\n",
       "      <td>-0.4918</td>\n",
       "      <td>0.0368</td>\n",
       "      <td>R-Lower</td>\n",
       "    </tr>\n",
       "  </tbody>\n",
       "</table>\n",
       "<p>2 rows × 14807 columns</p>\n",
       "</div>"
      ],
      "text/plain": [
       "                 UBE2Q2P2    SSX9  CXORF67  EFCAB8  SDR16C6P  EFCAB12    A1BG  \\\n",
       "Hugo_Symbol                                                                     \n",
       "TCGA-05-4244-01   -0.4238 -0.1379  -0.1805  0.4529   -0.3317  -0.1012 -0.6977   \n",
       "TCGA-05-4249-01   -0.3291 -0.1379  -0.1805 -0.0869   -0.3317  -0.1661 -0.1483   \n",
       "\n",
       "                   A1CF  RBFOX1   GGACT         ...            SLTM    SLU7  \\\n",
       "Hugo_Symbol                                     ...                           \n",
       "TCGA-05-4244-01 -0.1476  -0.224  0.3832         ...         -1.1877  3.4584   \n",
       "TCGA-05-4249-01 -0.1371  -0.226 -0.5346         ...         -0.5540  0.7962   \n",
       "\n",
       "                 SLURP1   SMAD2   SMAD3   SMAD4   SMAD5   SMAD6   SMAD7  \\\n",
       "Hugo_Symbol                                                               \n",
       "TCGA-05-4244-01 -0.2752 -0.7736 -0.6896 -0.0017  0.1779 -0.6433  0.7445   \n",
       "TCGA-05-4249-01 -0.2752 -0.6214  0.0881  1.3829  2.3203 -0.4918  0.0368   \n",
       "\n",
       "                 Primary Tumor Site  \n",
       "Hugo_Symbol                          \n",
       "TCGA-05-4244-01             R-Lower  \n",
       "TCGA-05-4249-01             R-Lower  \n",
       "\n",
       "[2 rows x 14807 columns]"
      ]
     },
     "execution_count": 6,
     "metadata": {},
     "output_type": "execute_result"
    }
   ],
   "source": [
    "genes.head(2)"
   ]
  },
  {
   "cell_type": "code",
   "execution_count": 8,
   "metadata": {},
   "outputs": [],
   "source": [
    "del flux['Primary Tumor Site']"
   ]
  },
  {
   "cell_type": "code",
   "execution_count": 9,
   "metadata": {},
   "outputs": [
    {
     "data": {
      "text/plain": [
       "(517, 14806)"
      ]
     },
     "execution_count": 9,
     "metadata": {},
     "output_type": "execute_result"
    }
   ],
   "source": [
    "genes.shape"
   ]
  },
  {
   "cell_type": "code",
   "execution_count": 10,
   "metadata": {},
   "outputs": [
    {
     "data": {
      "text/plain": [
       "(517, 1961)"
      ]
     },
     "execution_count": 10,
     "metadata": {},
     "output_type": "execute_result"
    }
   ],
   "source": [
    "flux.shape"
   ]
  },
  {
   "cell_type": "code",
   "execution_count": 11,
   "metadata": {},
   "outputs": [
    {
     "data": {
      "text/plain": [
       "(517, 342)"
      ]
     },
     "execution_count": 11,
     "metadata": {},
     "output_type": "execute_result"
    }
   ],
   "source": [
    "clinical.shape"
   ]
  },
  {
   "cell_type": "code",
   "execution_count": 12,
   "metadata": {},
   "outputs": [],
   "source": [
    "g_f=genes.merge(flux,left_index=True,right_index=True)"
   ]
  },
  {
   "cell_type": "code",
   "execution_count": 13,
   "metadata": {},
   "outputs": [],
   "source": [
    "g_c=g_f.merge(clinical,left_index=True,right_index=True)"
   ]
  },
  {
   "cell_type": "code",
   "execution_count": 14,
   "metadata": {},
   "outputs": [
    {
     "data": {
      "text/plain": [
       "(517, 17109)"
      ]
     },
     "execution_count": 14,
     "metadata": {},
     "output_type": "execute_result"
    }
   ],
   "source": [
    "g_c.shape"
   ]
  },
  {
   "cell_type": "code",
   "execution_count": 15,
   "metadata": {},
   "outputs": [],
   "source": [
    "dt=g_c"
   ]
  },
  {
   "cell_type": "code",
   "execution_count": 16,
   "metadata": {},
   "outputs": [],
   "source": [
    "X=dt.iloc[:,0:17107].values\n",
    "y=dt.iloc[:,-1].values"
   ]
  },
  {
   "cell_type": "code",
   "execution_count": 17,
   "metadata": {},
   "outputs": [
    {
     "data": {
      "text/plain": [
       "array(['R-Lower', 'R-Lower', 'R-Lower', 'L-Upper', 'R-Lower', 'R-Upper',\n",
       "       'R-Upper', 'L-Upper', 'R-Lower', 'R-Middle', 'R-Upper', 'R-Lower',\n",
       "       'R-Upper', 'R-Lower', 'L-Upper', 'L-Lower', 'R-Upper', 'L-Lower',\n",
       "       'R-Lower', 'L-Lower', 'R-Upper', 'R-Middle', 'L-Lower', 'L-Upper',\n",
       "       'L-Lower', 'R-Upper', 'L-Lower', 'R-Lower', 'L-Upper', 'L-Upper',\n",
       "       'R-Upper', 'R-Upper', 'L-Upper', 'L-Upper', 'R-Upper', 'L-Upper',\n",
       "       'R-Upper', 'L-Upper', 'R-Upper', 'L-Upper', 'R-Upper', 'R-Upper',\n",
       "       'R-Upper', 'R-Upper', 'L-Upper', 'L-Upper', 'L-Upper', 'R-Upper',\n",
       "       'R-Upper', 'R-Upper', 'R-Upper', 'L-Upper', 'R-Upper', 'L-Upper',\n",
       "       'R-Upper', 'R-Upper', 'R-Upper', 'R-Upper', 'R-Upper', 'R-Lower',\n",
       "       'L-Upper', 'R-Upper', 'R-Upper', 'R-Lower', 'R-Lower', 'L-Upper',\n",
       "       'R-Upper', 'L-Lower', 'R-Upper', 'L-Lower', 'L-Lower', 'R-Upper',\n",
       "       'R-Upper', 'L-Upper', 'R-Upper', 'R-Upper', 'L-Upper', 'R-Upper',\n",
       "       'R-Lower', 'L-Upper', 'R-Lower', 'R-Upper', 'L-Upper', 'R-Upper',\n",
       "       'L-Upper', 'R-Upper', 'R-Upper', 'R-Upper', 'R-Upper', 'R-Upper',\n",
       "       'R-Upper', 'R-Upper', 'L-Upper', 'R-Lower', 'R-Lower', 'L-Upper',\n",
       "       'L-Lower', 'L-Upper', 'L-Upper', 'R-Upper', 'R-Lower', 'L-Upper',\n",
       "       'R-Upper', 'L-Upper', 'R-Middle', 'L-Upper', 'L-Upper', 'R-Upper',\n",
       "       'L-Upper', 'L-Upper', 'R-Upper', 'R-Middle', 'L-Lower', 'R-Upper',\n",
       "       'R-Lower', 'R-Upper', 'L-Upper', 'Other (please specify)',\n",
       "       'R-Upper', 'R-Lower', 'L-Upper', 'R-Upper', 'L-Upper', 'R-Lower',\n",
       "       'R-Lower', 'R-Lower', 'R-Upper', 'L-Upper', 'L-Lower', 'R-Upper',\n",
       "       'R-Upper', 'R-Lower', 'L-Upper', 'R-Upper', 'L-Upper', 'R-Upper',\n",
       "       'L-Lower', 'L-Upper', 'R-Lower', 'R-Upper', 'R-Upper', 'R-Upper',\n",
       "       'R-Upper', 'R-Upper', 'R-Upper', 'R-Upper', 'L-Lower', 'L-Lower',\n",
       "       'R-Upper', 'L-Upper', 'R-Upper', 'R-Lower', 'R-Upper', 'R-Lower',\n",
       "       'R-Upper', 'R-Lower', 'R-Upper', 'R-Upper', 'R-Upper', 'R-Upper',\n",
       "       'L-Upper', 'L-Upper', 'R-Lower', 'L-Lower', 'R-Upper', 'R-Upper',\n",
       "       'R-Upper', 'R-Lower', 'L-Upper', 'R-Lower', 'L-Upper', 'R-Upper',\n",
       "       'L-Lower', 'R-Upper', 'L-Lower', 'R-Middle', 'L-Upper', 'R-Lower',\n",
       "       'L-Upper', 'R-Lower', 'L-Lower', 'L-Lower', 'L-Upper', 'R-Lower',\n",
       "       'L-Lower', 'R-Lower', 'R-Middle', 'R-Upper', 'R-Lower', 'R-Upper',\n",
       "       'R-Upper', 'R-Upper', 'R-Upper', 'L-Upper', 'R-Lower', 'L-Lower',\n",
       "       'L-Upper', 'L-Upper', 'R-Lower', 'R-Upper', 'R-Lower', 'L-Upper',\n",
       "       'L-Lower', 'R-Middle', 'L-Lower', 'R-Upper', 'R-Upper', 'L-Upper',\n",
       "       'L-Lower', 'R-Upper', 'R-Upper', 'R-Lower', 'R-Lower', 'R-Upper',\n",
       "       'L-Upper', 'L-Upper', 'R-Upper', 'R-Lower', 'L-Upper', 'R-Lower',\n",
       "       'R-Upper', 'L-Lower', 'R-Upper', 'R-Upper', 'R-Lower', 'R-Lower',\n",
       "       'R-Lower', 'R-Upper', 'R-Upper', 'R-Upper', 'R-Lower', 'R-Upper',\n",
       "       'R-Lower', 'L-Lower', 'R-Upper', 'L-Upper', 'R-Middle', 'R-Upper',\n",
       "       'R-Lower', 'L-Upper', 'L-Lower', 'L-Lower', 'L-Lower', 'R-Upper',\n",
       "       'R-Upper', 'L-Lower', 'R-Upper', 'R-Upper', 'R-Lower', 'R-Lower',\n",
       "       'R-Upper', 'L-Upper', 'L-Lower', 'R-Upper', 'R-Lower', 'R-Lower',\n",
       "       'L-Upper', 'R-Upper', 'R-Lower', 'L-Upper', 'L-Lower', 'L-Upper',\n",
       "       'R-Lower', 'L-Lower', 'R-Lower', 'R-Upper', 'L-Upper', 'R-Lower',\n",
       "       'R-Lower', 'R-Lower', 'R-Middle', 'R-Upper', 'R-Middle', 'R-Upper',\n",
       "       'R-Upper', 'L-Upper', 'R-Upper', 'L-Lower', 'R-Upper', 'R-Upper',\n",
       "       'R-Upper', 'L-Upper', 'R-Upper', 'L-Lower', 'L-Lower', 'R-Lower',\n",
       "       'R-Lower', 'R-Middle', 'L-Upper', 'R-Lower', 'L-Lower', 'R-Middle',\n",
       "       'R-Upper', 'R-Upper', 'R-Middle', 'L-Upper', 'R-Upper', 'R-Upper',\n",
       "       'R-Upper', 'R-Lower', 'R-Lower', 'R-Upper', 'R-Lower', 'R-Upper',\n",
       "       'R-Upper', 'L-Upper', 'L-Lower', 'R-Upper', 'L-Upper', 'R-Upper',\n",
       "       'L-Upper', 'L-Upper', 'L-Lower', 'R-Upper', 'R-Upper', 'R-Lower',\n",
       "       'R-Upper', 'R-Upper', 'L-Upper', 'R-Upper', 'L-Upper', 'R-Lower',\n",
       "       'R-Upper', 'L-Lower', 'L-Upper', 'R-Upper', 'R-Upper', 'R-Upper',\n",
       "       'L-Lower', 'R-Upper', 'L-Lower', 'L-Lower', 'R-Lower', 'R-Upper',\n",
       "       'L-Upper', 'R-Middle', 'L-Lower', 'R-Upper', 'L-Upper', 'R-Lower',\n",
       "       'L-Lower', 'R-Upper', 'R-Upper', 'L-Upper', 'L-Upper', 'R-Upper',\n",
       "       'L-Lower', 'L-Upper', 'R-Lower', 'L-Upper', 'L-Upper', 'R-Lower',\n",
       "       'L-Lower', 'R-Upper', 'L-Upper', 'L-Upper', 'R-Upper', 'R-Upper',\n",
       "       'R-Upper', 'L-Lower', 'R-Upper', 'L-Upper', 'L-Upper', 'R-Upper',\n",
       "       'L-Lower', 'R-Lower', 'R-Upper', 'L-Upper', 'R-Upper', 'L-Upper',\n",
       "       'L-Upper', 'R-Upper', 'L-Upper', 'R-Upper', 'R-Lower', 'R-Middle',\n",
       "       'R-Lower', 'L-Upper', 'R-Lower', 'R-Lower', 'R-Upper', 'L-Upper',\n",
       "       'Other (please specify)', 'L-Upper', 'L-Lower', 'L-Upper',\n",
       "       'R-Upper', 'L-Lower', 'R-Upper', 'L-Lower', 'R-Lower', 'R-Upper',\n",
       "       'L-Lower', 'L-Upper', 'L-Lower', 'R-Upper', 'R-Upper', 'R-Upper',\n",
       "       'L-Upper', 'R-Middle', 'L-Upper', 'R-Upper', 'R-Upper', 'L-Lower',\n",
       "       'R-Lower', 'L-Lower', 'R-Lower', 'L-Upper', 'R-Middle', 'R-Lower',\n",
       "       'R-Upper', 'R-Upper', 'R-Lower', 'L-Upper', 'L-Upper', 'R-Upper',\n",
       "       'L-Lower', 'R-Upper', 'L-Lower', 'R-Upper', 'L-Lower', 'R-Upper',\n",
       "       'R-Upper', 'L-Lower', 'L-Upper', 'R-Lower', 'R-Lower', 'R-Upper',\n",
       "       'R-Upper', 'R-Upper', 'R-Lower', 'R-Upper', 'L-Lower', 'L-Upper',\n",
       "       'R-Lower', 'R-Upper', 'R-Middle', 'R-Upper', 'R-Lower', 'L-Lower',\n",
       "       'L-Upper', 'R-Upper', 'L-Lower', 'L-Lower', 'L-Lower', 'L-Upper',\n",
       "       'R-Upper', 'L-Upper', 'Other (please specify)', 'R-Upper',\n",
       "       'R-Upper', 'L-Upper', 'R-Lower', 'L-Lower', 'R-Upper', 'R-Lower',\n",
       "       'L-Lower', 'Other (please specify)', 'R-Upper', 'R-Upper',\n",
       "       'R-Middle', 'R-Upper', 'R-Upper', 'R-Lower', 'R-Middle', 'R-Lower',\n",
       "       'R-Upper', 'L-Upper', 'R-Upper', 'R-Upper', 'L-Lower', 'L-Upper',\n",
       "       'R-Lower', 'L-Upper', 'L-Upper', 'L-Upper', 'L-Upper', 'R-Upper',\n",
       "       'L-Lower', 'R-Upper', 'L-Lower', 'R-Upper', 'L-Upper', 'L-Lower',\n",
       "       'L-Upper', 'R-Upper', 'L-Upper', 'L-Upper', 'L-Lower', 'L-Upper',\n",
       "       'R-Lower', 'R-Lower', 'L-Lower', 'R-Lower', 'L-Upper', 'L-Upper',\n",
       "       'R-Upper', 'R-Middle', 'L-Lower', 'L-Lower', 'R-Upper', 'L-Lower',\n",
       "       'R-Lower', 'R-Upper', 'R-Lower', 'L-Upper', 'R-Upper', 'L-Upper',\n",
       "       'R-Upper', 'R-Lower', 'L-Upper', 'R-Lower', 'R-Upper', 'L-Upper',\n",
       "       'L-Upper', 'L-Lower', 'R-Upper'], dtype=object)"
      ]
     },
     "execution_count": 17,
     "metadata": {},
     "output_type": "execute_result"
    }
   ],
   "source": [
    "y"
   ]
  },
  {
   "cell_type": "code",
   "execution_count": 18,
   "metadata": {},
   "outputs": [],
   "source": [
    "# Encoding categorical data\n",
    "from sklearn.preprocessing import LabelEncoder\n",
    "labelEncoder_y = LabelEncoder()\n",
    "y = labelEncoder_y.fit_transform(y.astype(str))\n"
   ]
  },
  {
   "cell_type": "code",
   "execution_count": 19,
   "metadata": {},
   "outputs": [
    {
     "data": {
      "text/plain": [
       "array([3, 3, 3, 1, 3, 5, 5, 1, 3, 4, 5, 3, 5, 3, 1, 0, 5, 0, 3, 0, 5, 4,\n",
       "       0, 1, 0, 5, 0, 3, 1, 1, 5, 5, 1, 1, 5, 1, 5, 1, 5, 1, 5, 5, 5, 5,\n",
       "       1, 1, 1, 5, 5, 5, 5, 1, 5, 1, 5, 5, 5, 5, 5, 3, 1, 5, 5, 3, 3, 1,\n",
       "       5, 0, 5, 0, 0, 5, 5, 1, 5, 5, 1, 5, 3, 1, 3, 5, 1, 5, 1, 5, 5, 5,\n",
       "       5, 5, 5, 5, 1, 3, 3, 1, 0, 1, 1, 5, 3, 1, 5, 1, 4, 1, 1, 5, 1, 1,\n",
       "       5, 4, 0, 5, 3, 5, 1, 2, 5, 3, 1, 5, 1, 3, 3, 3, 5, 1, 0, 5, 5, 3,\n",
       "       1, 5, 1, 5, 0, 1, 3, 5, 5, 5, 5, 5, 5, 5, 0, 0, 5, 1, 5, 3, 5, 3,\n",
       "       5, 3, 5, 5, 5, 5, 1, 1, 3, 0, 5, 5, 5, 3, 1, 3, 1, 5, 0, 5, 0, 4,\n",
       "       1, 3, 1, 3, 0, 0, 1, 3, 0, 3, 4, 5, 3, 5, 5, 5, 5, 1, 3, 0, 1, 1,\n",
       "       3, 5, 3, 1, 0, 4, 0, 5, 5, 1, 0, 5, 5, 3, 3, 5, 1, 1, 5, 3, 1, 3,\n",
       "       5, 0, 5, 5, 3, 3, 3, 5, 5, 5, 3, 5, 3, 0, 5, 1, 4, 5, 3, 1, 0, 0,\n",
       "       0, 5, 5, 0, 5, 5, 3, 3, 5, 1, 0, 5, 3, 3, 1, 5, 3, 1, 0, 1, 3, 0,\n",
       "       3, 5, 1, 3, 3, 3, 4, 5, 4, 5, 5, 1, 5, 0, 5, 5, 5, 1, 5, 0, 0, 3,\n",
       "       3, 4, 1, 3, 0, 4, 5, 5, 4, 1, 5, 5, 5, 3, 3, 5, 3, 5, 5, 1, 0, 5,\n",
       "       1, 5, 1, 1, 0, 5, 5, 3, 5, 5, 1, 5, 1, 3, 5, 0, 1, 5, 5, 5, 0, 5,\n",
       "       0, 0, 3, 5, 1, 4, 0, 5, 1, 3, 0, 5, 5, 1, 1, 5, 0, 1, 3, 1, 1, 3,\n",
       "       0, 5, 1, 1, 5, 5, 5, 0, 5, 1, 1, 5, 0, 3, 5, 1, 5, 1, 1, 5, 1, 5,\n",
       "       3, 4, 3, 1, 3, 3, 5, 1, 2, 1, 0, 1, 5, 0, 5, 0, 3, 5, 0, 1, 0, 5,\n",
       "       5, 5, 1, 4, 1, 5, 5, 0, 3, 0, 3, 1, 4, 3, 5, 5, 3, 1, 1, 5, 0, 5,\n",
       "       0, 5, 0, 5, 5, 0, 1, 3, 3, 5, 5, 5, 3, 5, 0, 1, 3, 5, 4, 5, 3, 0,\n",
       "       1, 5, 0, 0, 0, 1, 5, 1, 2, 5, 5, 1, 3, 0, 5, 3, 0, 2, 5, 5, 4, 5,\n",
       "       5, 3, 4, 3, 5, 1, 5, 5, 0, 1, 3, 1, 1, 1, 1, 5, 0, 5, 0, 5, 1, 0,\n",
       "       1, 5, 1, 1, 0, 1, 3, 3, 0, 3, 1, 1, 5, 4, 0, 0, 5, 0, 3, 5, 3, 1,\n",
       "       5, 1, 5, 3, 1, 3, 5, 1, 1, 0, 5], dtype=int64)"
      ]
     },
     "execution_count": 19,
     "metadata": {},
     "output_type": "execute_result"
    }
   ],
   "source": [
    "y"
   ]
  },
  {
   "cell_type": "code",
   "execution_count": 20,
   "metadata": {},
   "outputs": [],
   "source": [
    "# Splitting the dataset into the Training set and Test set\n",
    "from sklearn.model_selection import train_test_split\n",
    "X_train, X_test, y_train, y_test = train_test_split(X, y, test_size = 0.2, random_state = 0)\n",
    "\n",
    "X_train, X_val, y_train, y_val = train_test_split(X_train, y_train, test_size=0.2, random_state=0)\n"
   ]
  },
  {
   "cell_type": "code",
   "execution_count": 21,
   "metadata": {},
   "outputs": [],
   "source": [
    "# Feature Scaling\n",
    "from sklearn.preprocessing import StandardScaler\n",
    "sc = StandardScaler()\n",
    "X_train = sc.fit_transform(X_train)\n",
    "X_val = sc.fit_transform(X_val)\n",
    "X_test = sc.transform(X_test)"
   ]
  },
  {
   "cell_type": "code",
   "execution_count": 22,
   "metadata": {},
   "outputs": [
    {
     "data": {
      "text/plain": [
       "DecisionTreeClassifier(class_weight=None, criterion='gini', max_depth=None,\n",
       "            max_features=None, max_leaf_nodes=None,\n",
       "            min_impurity_decrease=0.0, min_impurity_split=None,\n",
       "            min_samples_leaf=1, min_samples_split=2,\n",
       "            min_weight_fraction_leaf=0.0, presort=False, random_state=None,\n",
       "            splitter='best')"
      ]
     },
     "execution_count": 22,
     "metadata": {},
     "output_type": "execute_result"
    }
   ],
   "source": [
    "# Fitting Decision Tree Classification to the training set\n",
    "from sklearn.tree import DecisionTreeClassifier\n",
    "classifier = DecisionTreeClassifier()\n",
    "\n",
    "classifier.fit(X_train, y_train)"
   ]
  },
  {
   "cell_type": "code",
   "execution_count": 23,
   "metadata": {},
   "outputs": [],
   "source": [
    "#n_estimators = 10, \n",
    "# Predicting the Validation set results\n",
    "y_val_pred = classifier.predict(X_val)"
   ]
  },
  {
   "cell_type": "code",
   "execution_count": 25,
   "metadata": {},
   "outputs": [
    {
     "data": {
      "text/plain": [
       "0.5301204819277109"
      ]
     },
     "execution_count": 25,
     "metadata": {},
     "output_type": "execute_result"
    }
   ],
   "source": [
    "# Making the Confusion Matrix\n",
    "import matplotlib.pyplot as plt\n",
    "from sklearn import svm, datasets\n",
    "from sklearn.metrics import confusion_matrix\n",
    "cm = confusion_matrix(y_val, y_val_pred)\n",
    "accuracy = ((cm[0][0]+cm[1][1]+cm[2][2]+cm[3][3]+cm[4][4]+cm[5][5]) / cm.sum())\n",
    "accuracy"
   ]
  },
  {
   "cell_type": "code",
   "execution_count": 26,
   "metadata": {},
   "outputs": [
    {
     "name": "stdout",
     "output_type": "stream",
     "text": [
      "Confusion Matrix, without normalization\n",
      "[[ 4  0  0  4  0  0]\n",
      " [ 0  3  0  0  0 15]\n",
      " [ 0  0  0  0  0  1]\n",
      " [10  1  0  9  0  0]\n",
      " [ 0  0  0  0  4  1]\n",
      " [ 1  5  0  0  2 23]]\n"
     ]
    },
    {
     "data": {
      "text/plain": [
       "<matplotlib.image.AxesImage at 0x2601f4842e8>"
      ]
     },
     "execution_count": 26,
     "metadata": {},
     "output_type": "execute_result"
    },
    {
     "data": {
      "text/plain": [
       "<Figure size 720x504 with 0 Axes>"
      ]
     },
     "metadata": {},
     "output_type": "display_data"
    },
    {
     "data": {
      "image/png": "[encoded data removed]",
      "text/plain": [
       "<Figure size 288x288 with 1 Axes>"
      ]
     },
     "metadata": {},
     "output_type": "display_data"
    }
   ],
   "source": [
    "# np.set_printoptions(precision=2)\n",
    "print('Confusion Matrix, without normalization')\n",
    "print(cm)\n",
    "plt.figure(figsize = (10,7))\n",
    "plt.matshow(cm)\n"
   ]
  },
  {
   "cell_type": "code",
   "execution_count": 27,
   "metadata": {},
   "outputs": [
    {
     "name": "stdout",
     "output_type": "stream",
     "text": [
      "Normalized confusion matrix\n",
      "[[0.5        0.         0.         0.5        0.         0.        ]\n",
      " [0.         0.16666667 0.         0.         0.         0.83333333]\n",
      " [0.         0.         0.         0.         0.         1.        ]\n",
      " [0.5        0.05       0.         0.45       0.         0.        ]\n",
      " [0.         0.         0.         0.         0.8        0.2       ]\n",
      " [0.03225806 0.16129032 0.         0.         0.06451613 0.74193548]]\n"
     ]
    },
    {
     "data": {
      "text/plain": [
       "<matplotlib.image.AxesImage at 0x2601f4cbcf8>"
      ]
     },
     "execution_count": 27,
     "metadata": {},
     "output_type": "execute_result"
    },
    {
     "data": {
      "text/plain": [
       "<Figure size 432x288 with 0 Axes>"
      ]
     },
     "metadata": {},
     "output_type": "display_data"
    },
    {
     "data": {
      "image/png": "[encoded data removed]",
      "text/plain": [
       "<Figure size 288x288 with 1 Axes>"
      ]
     },
     "metadata": {},
     "output_type": "display_data"
    }
   ],
   "source": [
    "# Normalize the confusion matrix by row (i.e. by the number of samples in each class)\n",
    "cm_normalized = cm.astype('float') / cm.sum(axis=1) [:, np.newaxis]\n",
    "print('Normalized confusion matrix')\n",
    "print(cm_normalized)\n",
    "plt.figure()\n",
    "plt.matshow(cm_normalized)"
   ]
  },
  {
   "cell_type": "code",
   "execution_count": 28,
   "metadata": {},
   "outputs": [
    {
     "name": "stdout",
     "output_type": "stream",
     "text": [
      "             precision    recall  f1-score   support\n",
      "\n",
      "          0       0.27      0.50      0.35         8\n",
      "          1       0.33      0.17      0.22        18\n",
      "          2       0.00      0.00      0.00         1\n",
      "          3       0.69      0.45      0.55        20\n",
      "          4       0.67      0.80      0.73         5\n",
      "          5       0.57      0.74      0.65        31\n",
      "\n",
      "avg / total       0.52      0.52      0.50        83\n",
      "\n"
     ]
    },
    {
     "name": "stderr",
     "output_type": "stream",
     "text": [
      "C:\\ProgramData\\Anaconda3\\lib\\site-packages\\sklearn\\metrics\\classification.py:1135: UndefinedMetricWarning: Precision and F-score are ill-defined and being set to 0.0 in labels with no predicted samples.\n",
      "  'precision', 'predicted', average, warn_for)\n"
     ]
    }
   ],
   "source": [
    "# Classification Report\n",
    "from sklearn.metrics import classification_report\n",
    "print(classification_report(y_val, y_val_pred))"
   ]
  },
  {
   "cell_type": "code",
   "execution_count": 29,
   "metadata": {},
   "outputs": [
    {
     "data": {
      "text/plain": [
       "0.35544165872617045"
      ]
     },
     "execution_count": 29,
     "metadata": {},
     "output_type": "execute_result"
    }
   ],
   "source": [
    "\n",
    "# Matthews Correlation Coefficient Calculation #\n",
    "from sklearn.metrics import matthews_corrcoef\n",
    "matthews_corrcoef(y_val, y_val_pred)"
   ]
  },
  {
   "cell_type": "code",
   "execution_count": 30,
   "metadata": {},
   "outputs": [
    {
     "name": "stderr",
     "output_type": "stream",
     "text": [
      "C:\\ProgramData\\Anaconda3\\lib\\site-packages\\sklearn\\model_selection\\_split.py:605: Warning: The least populated class in y has only 2 members, which is too few. The minimum number of members in any class cannot be less than n_splits=10.\n",
      "  % (min_groups, self.n_splits)), Warning)\n"
     ]
    },
    {
     "data": {
      "text/plain": [
       "0.5038110349222779"
      ]
     },
     "execution_count": 30,
     "metadata": {},
     "output_type": "execute_result"
    }
   ],
   "source": [
    "# Applying k-Fold Cross Validation\n",
    "from sklearn.model_selection import cross_val_score\n",
    "accuracies = cross_val_score(estimator = classifier, X = X_train, y = y_train, cv = 10)\n",
    "accuracies.mean()"
   ]
  },
  {
   "cell_type": "code",
   "execution_count": null,
   "metadata": {},
   "outputs": [],
   "source": [
    "\n",
    "# Applying Grid Search\n",
    "from sklearn.tree import DecisionTreeClassifier\n",
    "from sklearn.model_selection import GridSearchCV\n",
    "classifier = DecisionTreeClassifier() \n",
    "\n",
    "\n",
    "parameter_grid = {\"class_weight\": [None],\n",
    "                  \"criterion\": [\"gini\", \"entropy\"],\n",
    "                  \"max_depth\": [2, 5],\n",
    "                  \"max_features\": [1, 2, 3, 4],\n",
    "                  \"max_leaf_nodes\":[2, 3, 4, 5, 10, 20],\n",
    "                  \"min_impurity_decrease\": [0.0, 0.1, 0.2],\n",
    "                  \"min_impurity_split\": [None],\n",
    "                  \"min_samples_leaf\": [1,2,3,4,5],\n",
    "                  \"min_samples_split\": [5, 10, 20, 25, 30],\n",
    "                  \"min_weight_fraction_leaf\": [0.0, 0.1, 0.2],\n",
    "                  \"presort\": [False],\n",
    "                  \"random_state\": [0, 1, 2, 3]}      \n",
    "\n",
    "classifier = DecisionTreeClassifier()           \n",
    "\n",
    "grid_search = GridSearchCV(classifier, param_grid = parameter_grid,\n",
    "                           cv = 5, n_jobs = -1, verbose = 1)\n",
    "\n",
    "grid_search.fit(X_train, y_train)\n",
    "\n",
    "Best_Score = grid_search.best_score_\n",
    "Best_Param = grid_search.best_params_\n",
    "\n",
    "# Applying Random Search \n",
    "from sklearn.tree import DecisionTreeClassifier\n",
    "from sklearn.model_selection import RandomizedSearchCV\n",
    "classifier = DecisionTreeClassifier() \n",
    "\n",
    "# Create the random grid\n",
    "random_grid = {\"class_weight\": [None],\n",
    "                  \"criterion\": [\"gini\", \"entropy\"],\n",
    "                  \"max_depth\": [2, 5],\n",
    "                  \"max_features\": [3, 4, 5, 6, 7 , 8],\n",
    "                  \"max_leaf_nodes\":[2, 3, 4, 5, 10, 20],\n",
    "                  \"min_impurity_decrease\": [0.1, 0.2, 0.3],\n",
    "                  \"min_impurity_split\": [None],\n",
    "                  \"min_samples_leaf\": [1,2,3,4,5],\n",
    "                  \"min_samples_split\": [20, 25, 30, 35, 40],\n",
    "                  \"min_weight_fraction_leaf\": [0.1, 0.2, 0.3, 0.4],\n",
    "                  \"presort\": [False],\n",
    "                  \"random_state\": [3, 4, 5, 10, 15]}\n",
    "               \n",
    "random_search = RandomizedSearchCV(estimator=classifier, param_distributions=random_grid,\n",
    "                              n_iter = 100,scoring='neg_mean_absolute_error',\n",
    "                              cv = 10, verbose=2, random_state=42, n_jobs=-1,\n",
    "                              return_train_score=True)\n",
    "\n",
    "random_search.fit(X_train, y_train)\n",
    "\n",
    "Random_Best_Param = random_search.best_params_\n",
    "Random_Best_Score = random_search.best_score_\n",
    "\n",
    "# Applying Bayesian Search\n",
    "from sklearn.tree import DecisionTreeClassifier\n",
    "classifier = DecisionTreeClassifier()\n",
    "from skopt import BayesSearchCV\n",
    "search_spaces = {\"class_weight\": [None],\n",
    "                  \"criterion\": [\"gini\", \"entropy\"],\n",
    "                  \"max_depth\": [2, 5],\n",
    "                  \"max_features\": [1, 2, 3, 4],\n",
    "                  \"max_leaf_nodes\":[2, 3, 4, 5, 10, 20],\n",
    "                  \"min_impurity_decrease\": [0.0, 0.1, 0.2],\n",
    "                  \"min_impurity_split\": [None],\n",
    "                  \"min_samples_leaf\": [1,2,3,4,5],\n",
    "                  \"min_samples_split\": [5, 10, 20, 25, 30],\n",
    "                  \"min_weight_fraction_leaf\": [0.0, 0.1, 0.2],\n",
    "                  \"presort\": [False],\n",
    "                  \"random_state\": [0, 1, 2, 3]}\n",
    "\n",
    "class BayesSearchCV(BayesSearchCV):\n",
    "    def _run_search(self, x): raise BaseException('Use newer skopt')\n",
    "\n",
    "opt = BayesSearchCV(classifier, search_spaces, scoring=\"accuracy\", cv = 10, n_jobs=1, random_state=0)\n",
    "opt.fit(X_train, y_train)\n",
    "\n",
    "Bayes_Best_Param = opt.best_params_\n",
    "Bayes_Best_Score = opt.best_score_"
   ]
  },
  {
   "cell_type": "code",
   "execution_count": null,
   "metadata": {},
   "outputs": [],
   "source": [
    "###########Testing set################"
   ]
  },
  {
   "cell_type": "code",
   "execution_count": null,
   "metadata": {},
   "outputs": [],
   "source": [
    "# Fitting Decision Tree Classification to the Testing Set\n",
    "from sklearn.tree import DecisionTreeClassifier\n",
    "classifier = DecisionTreeClassifier()\n",
    "classifier.fit(X_train, y_train)\n"
   ]
  },
  {
   "cell_type": "code",
   "execution_count": null,
   "metadata": {},
   "outputs": [],
   "source": [
    "\n",
    "# Predicting the Test set results\n",
    "y_pred = classifier.predict(X_test)"
   ]
  },
  {
   "cell_type": "code",
   "execution_count": null,
   "metadata": {},
   "outputs": [],
   "source": [
    "# Making the Confusion Matrix\n",
    "import matplotlib.pyplot as plt\n",
    "from sklearn import svm, datasets\n",
    "from sklearn.metrics import confusion_matrix\n",
    "cm = confusion_matrix(y_test, y_pred)\n",
    "accuracy = ((cm[0][0]+cm[1][1]) / cm.sum())\n",
    "# np.set_printoptions(precision=2)\n",
    "print('Confusion Matrix, without normalization')\n",
    "print(cm)\n",
    "plt.figure(figsize = (10,7))\n",
    "plt.matshow(cm)"
   ]
  },
  {
   "cell_type": "code",
   "execution_count": null,
   "metadata": {},
   "outputs": [],
   "source": [
    "# Normalize the confusion matrix by row (i.e. by the number of samples in each class)\n",
    "cm_normalized = cm.astype('float') / cm.sum(axis=1) [:, np.newaxis]\n",
    "print('Normalized confusion matrix')\n",
    "print(cm_normalized)\n",
    "plt.figure()\n",
    "plt.matshow(cm_normalized)\n"
   ]
  },
  {
   "cell_type": "code",
   "execution_count": null,
   "metadata": {},
   "outputs": [],
   "source": [
    "# Classification Report\n",
    "from sklearn.metrics import classification_report\n",
    "print(classification_report(y_test, y_pred))"
   ]
  },
  {
   "cell_type": "code",
   "execution_count": null,
   "metadata": {},
   "outputs": [],
   "source": [
    "\n",
    "# Matthews Correlation Coefficient Calculation #\n",
    "from sklearn.metrics import matthews_corrcoef\n",
    "matthews_corrcoef(y_test, y_pred)"
   ]
  },
  {
   "cell_type": "code",
   "execution_count": null,
   "metadata": {},
   "outputs": [],
   "source": []
  }
 ],
 "metadata": {
  "kernelspec": {
   "display_name": "Python 3",
   "language": "python",
   "name": "python3"
  },
  "language_info": {
   "codemirror_mode": {
    "name": "ipython",
    "version": 3
   },
   "file_extension": ".py",
   "mimetype": "text/x-python",
   "name": "python",
   "nbconvert_exporter": "python",
   "pygments_lexer": "ipython3",
   "version": "3.7.1"
  }
 },
 "nbformat": 4,
 "nbformat_minor": 2
}
