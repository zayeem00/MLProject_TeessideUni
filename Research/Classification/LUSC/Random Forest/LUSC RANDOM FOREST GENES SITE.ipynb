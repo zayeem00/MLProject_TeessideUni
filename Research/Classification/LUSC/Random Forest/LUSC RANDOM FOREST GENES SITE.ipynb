{
 "cells": [
  {
   "cell_type": "code",
   "execution_count": 1,
   "metadata": {},
   "outputs": [],
   "source": [
    "import pandas as pd\n",
    "import os\n",
    "import numpy as np\n",
    "\n"
   ]
  },
  {
   "cell_type": "code",
   "execution_count": 2,
   "metadata": {},
   "outputs": [],
   "source": [
    "os.chdir('C:\\\\RESEARCH\\\\LUSC\\\\Site')"
   ]
  },
  {
   "cell_type": "code",
   "execution_count": 3,
   "metadata": {},
   "outputs": [],
   "source": [
    "X=pd.read_excel('LUSC_Genes_Site.xlsx',index_col=0)"
   ]
  },
  {
   "cell_type": "code",
   "execution_count": 4,
   "metadata": {},
   "outputs": [
    {
     "data": {
      "text/plain": [
       "(501, 14838)"
      ]
     },
     "execution_count": 4,
     "metadata": {},
     "output_type": "execute_result"
    }
   ],
   "source": [
    "X.shape"
   ]
  },
  {
   "cell_type": "code",
   "execution_count": 5,
   "metadata": {},
   "outputs": [],
   "source": [
    "x=X.iloc[:,0:14836].values\n",
    "y=X.iloc[:,14837]"
   ]
  },
  {
   "cell_type": "code",
   "execution_count": 6,
   "metadata": {},
   "outputs": [
    {
     "data": {
      "text/plain": [
       "Hugo_Symbol\n",
       "TCGA-18-3406-01                   L-Upper\n",
       "TCGA-18-3407-01                   L-Upper\n",
       "TCGA-18-3408-01                   R-Lower\n",
       "TCGA-18-3409-01                   L-Upper\n",
       "TCGA-18-3410-01                   R-Lower\n",
       "TCGA-18-3411-01                   R-Upper\n",
       "TCGA-18-3412-01                   L-Lower\n",
       "TCGA-18-3414-01                   R-Lower\n",
       "TCGA-18-3415-01                   R-Upper\n",
       "TCGA-18-3416-01                   L-Upper\n",
       "TCGA-18-3417-01                   R-Upper\n",
       "TCGA-18-3419-01                   L-Lower\n",
       "TCGA-18-3421-01                   R-Lower\n",
       "TCGA-18-4083-01                   L-Lower\n",
       "TCGA-18-4086-01                   R-Lower\n",
       "TCGA-18-4721-01                   L-Lower\n",
       "TCGA-18-5592-01                   L-Upper\n",
       "TCGA-18-5595-01                   R-Lower\n",
       "TCGA-21-1070-01                   L-Upper\n",
       "TCGA-21-1071-01                   R-Upper\n",
       "TCGA-21-1072-01                   L-Upper\n",
       "TCGA-21-1075-01                   L-Lower\n",
       "TCGA-21-1076-01                   L-Lower\n",
       "TCGA-21-1077-01                   R-Upper\n",
       "TCGA-21-1078-01                   R-Lower\n",
       "TCGA-21-1079-01                   L-Upper\n",
       "TCGA-21-1080-01                   L-Lower\n",
       "TCGA-21-1081-01                   L-Lower\n",
       "TCGA-21-1082-01                   L-Lower\n",
       "TCGA-21-1083-01                   L-Upper\n",
       "                            ...          \n",
       "TCGA-LA-A7SW-01                   L-Upper\n",
       "TCGA-MF-A522-01                   R-Upper\n",
       "TCGA-NC-A5HD-01                   L-Upper\n",
       "TCGA-NC-A5HE-01                   L-Upper\n",
       "TCGA-NC-A5HF-01                   L-Lower\n",
       "TCGA-NC-A5HG-01                   R-Lower\n",
       "TCGA-NC-A5HH-01                   L-Lower\n",
       "TCGA-NC-A5HI-01                   R-Lower\n",
       "TCGA-NC-A5HJ-01                  R-Middle\n",
       "TCGA-NC-A5HK-01    Other (please specify)\n",
       "TCGA-NC-A5HL-01                   R-Upper\n",
       "TCGA-NC-A5HM-01                   R-Lower\n",
       "TCGA-NC-A5HN-01                   L-Lower\n",
       "TCGA-NC-A5HO-01                   L-Upper\n",
       "TCGA-NC-A5HP-01                   L-Upper\n",
       "TCGA-NC-A5HQ-01                  R-Middle\n",
       "TCGA-NC-A5HR-01                   R-Lower\n",
       "TCGA-NC-A5HT-01    Other (please specify)\n",
       "TCGA-NK-A5CR-01                   R-Upper\n",
       "TCGA-NK-A5CT-01                   L-Lower\n",
       "TCGA-NK-A5CX-01                   R-Lower\n",
       "TCGA-NK-A5D1-01                   R-Upper\n",
       "TCGA-NK-A7XE-01                   L-Upper\n",
       "TCGA-O2-A52N-01                   R-Upper\n",
       "TCGA-O2-A52Q-01                   R-Upper\n",
       "TCGA-O2-A52S-01                   L-Lower\n",
       "TCGA-O2-A52V-01                   L-Upper\n",
       "TCGA-O2-A52W-01                   R-Lower\n",
       "TCGA-O2-A5IB-01                  R-Middle\n",
       "TCGA-XC-AA0X-01                   R-Lower\n",
       "Name: Primary Tumor Site, Length: 501, dtype: object"
      ]
     },
     "execution_count": 6,
     "metadata": {},
     "output_type": "execute_result"
    }
   ],
   "source": [
    "y"
   ]
  },
  {
   "cell_type": "code",
   "execution_count": 7,
   "metadata": {},
   "outputs": [],
   "source": [
    "# Encoding categorical data\n",
    "from sklearn.preprocessing import LabelEncoder\n",
    "labelEncoder_y = LabelEncoder()\n",
    "y = labelEncoder_y.fit_transform(y.astype(str))\n"
   ]
  },
  {
   "cell_type": "code",
   "execution_count": 8,
   "metadata": {},
   "outputs": [],
   "source": [
    "# Splitting the dataset into the Training set and Test set\n",
    "from sklearn.model_selection import train_test_split\n",
    "X_train, X_test, y_train, y_test = train_test_split(x, y, test_size = 0.2, random_state = 0)\n",
    "\n",
    "X_train, X_val, y_train, y_val = train_test_split(X_train, y_train, test_size=0.2, random_state=0)\n"
   ]
  },
  {
   "cell_type": "code",
   "execution_count": 9,
   "metadata": {},
   "outputs": [],
   "source": [
    "# Feature Scaling\n",
    "from sklearn.preprocessing import StandardScaler\n",
    "sc = StandardScaler()\n",
    "X_train = sc.fit_transform(X_train)\n",
    "X_val = sc.fit_transform(X_val)\n",
    "X_test = sc.transform(X_test)"
   ]
  },
  {
   "cell_type": "code",
   "execution_count": 10,
   "metadata": {},
   "outputs": [
    {
     "data": {
      "text/plain": [
       "RandomForestClassifier(bootstrap=True, class_weight=None, criterion='entropy',\n",
       "            max_depth=None, max_features='auto', max_leaf_nodes=None,\n",
       "            min_impurity_decrease=0.0, min_impurity_split=None,\n",
       "            min_samples_leaf=1, min_samples_split=2,\n",
       "            min_weight_fraction_leaf=0.0, n_estimators=10, n_jobs=None,\n",
       "            oob_score=False, random_state=0, verbose=0, warm_start=False)"
      ]
     },
     "execution_count": 10,
     "metadata": {},
     "output_type": "execute_result"
    }
   ],
   "source": [
    "# Fitting Random Forest Classification to the Training set\n",
    "from sklearn.ensemble import RandomForestClassifier\n",
    "classifier = RandomForestClassifier(n_estimators = 10, criterion = 'entropy', random_state = 0)\n",
    "classifier.fit(X_train, y_train)"
   ]
  },
  {
   "cell_type": "code",
   "execution_count": 11,
   "metadata": {},
   "outputs": [],
   "source": [
    "\n",
    "# Predicting the Validation set results\n",
    "y_val_pred = classifier.predict(X_val)"
   ]
  },
  {
   "cell_type": "code",
   "execution_count": 13,
   "metadata": {},
   "outputs": [
    {
     "data": {
      "text/plain": [
       "0.2875"
      ]
     },
     "execution_count": 13,
     "metadata": {},
     "output_type": "execute_result"
    }
   ],
   "source": [
    "# Making the Confusion Matrix\n",
    "import matplotlib.pyplot as plt\n",
    "from sklearn import svm, datasets\n",
    "from sklearn.metrics import confusion_matrix\n",
    "cm = confusion_matrix(y_val, y_val_pred)\n",
    "accuracy = ((cm[0][0]+cm[1][1]+cm[2][2]+cm[3][3]+cm[4][4]+cm[5][5]+cm[6][6]) / cm.sum())\n",
    "accuracy"
   ]
  },
  {
   "cell_type": "code",
   "execution_count": 13,
   "metadata": {},
   "outputs": [
    {
     "name": "stdout",
     "output_type": "stream",
     "text": [
      "Confusion Matrix, without normalization\n",
      "[[ 0  0  2  0  0  0  0]\n",
      " [ 0  1  8  0  4  0  1]\n",
      " [ 0  4 13  0  5  0  2]\n",
      " [ 0  0  3  0  0  0  1]\n",
      " [ 0  1  5  0  7  0  0]\n",
      " [ 0  0  0  0  0  1  0]\n",
      " [ 0  2  9  0 10  0  1]]\n"
     ]
    },
    {
     "data": {
      "text/plain": [
       "<matplotlib.image.AxesImage at 0x1981b2600b8>"
      ]
     },
     "execution_count": 13,
     "metadata": {},
     "output_type": "execute_result"
    },
    {
     "data": {
      "text/plain": [
       "<Figure size 720x504 with 0 Axes>"
      ]
     },
     "metadata": {},
     "output_type": "display_data"
    },
    {
     "data": {
      "image/png": "[encoded data removed]",
      "text/plain": [
       "<Figure size 288x288 with 1 Axes>"
      ]
     },
     "metadata": {},
     "output_type": "display_data"
    }
   ],
   "source": [
    "# np.set_printoptions(precision=2)\n",
    "print('Confusion Matrix, without normalization')\n",
    "print(cm)\n",
    "plt.figure(figsize = (10,7))\n",
    "plt.matshow(cm)\n"
   ]
  },
  {
   "cell_type": "code",
   "execution_count": 14,
   "metadata": {},
   "outputs": [
    {
     "name": "stdout",
     "output_type": "stream",
     "text": [
      "Normalized confusion matrix\n",
      "[[0.         0.         1.         0.         0.         0.\n",
      "  0.        ]\n",
      " [0.         0.07142857 0.57142857 0.         0.28571429 0.\n",
      "  0.07142857]\n",
      " [0.         0.16666667 0.54166667 0.         0.20833333 0.\n",
      "  0.08333333]\n",
      " [0.         0.         0.75       0.         0.         0.\n",
      "  0.25      ]\n",
      " [0.         0.07692308 0.38461538 0.         0.53846154 0.\n",
      "  0.        ]\n",
      " [0.         0.         0.         0.         0.         1.\n",
      "  0.        ]\n",
      " [0.         0.09090909 0.40909091 0.         0.45454545 0.\n",
      "  0.04545455]]\n"
     ]
    },
    {
     "data": {
      "text/plain": [
       "<matplotlib.image.AxesImage at 0x1981c9de4a8>"
      ]
     },
     "execution_count": 14,
     "metadata": {},
     "output_type": "execute_result"
    },
    {
     "data": {
      "text/plain": [
       "<Figure size 432x288 with 0 Axes>"
      ]
     },
     "metadata": {},
     "output_type": "display_data"
    },
    {
     "data": {
      "image/png": "[encoded data removed]",
      "text/plain": [
       "<Figure size 288x288 with 1 Axes>"
      ]
     },
     "metadata": {},
     "output_type": "display_data"
    }
   ],
   "source": [
    "# Normalize the confusion matrix by row (i.e. by the number of samples in each class)\n",
    "cm_normalized = cm.astype('float') / cm.sum(axis=1) [:, np.newaxis]\n",
    "print('Normalized confusion matrix')\n",
    "print(cm_normalized)\n",
    "plt.figure()\n",
    "plt.matshow(cm_normalized)"
   ]
  },
  {
   "cell_type": "code",
   "execution_count": 15,
   "metadata": {},
   "outputs": [
    {
     "name": "stdout",
     "output_type": "stream",
     "text": [
      "             precision    recall  f1-score   support\n",
      "\n",
      "          0       0.00      0.00      0.00         2\n",
      "          1       0.12      0.07      0.09        14\n",
      "          2       0.33      0.54      0.41        24\n",
      "          3       0.00      0.00      0.00         4\n",
      "          4       0.27      0.54      0.36        13\n",
      "          5       1.00      1.00      1.00         1\n",
      "          6       0.20      0.05      0.07        22\n",
      "\n",
      "avg / total       0.23      0.29      0.23        80\n",
      "\n"
     ]
    },
    {
     "name": "stderr",
     "output_type": "stream",
     "text": [
      "C:\\ProgramData\\Anaconda3\\lib\\site-packages\\sklearn\\metrics\\classification.py:1135: UndefinedMetricWarning: Precision and F-score are ill-defined and being set to 0.0 in labels with no predicted samples.\n",
      "  'precision', 'predicted', average, warn_for)\n"
     ]
    }
   ],
   "source": [
    "# Classification Report\n",
    "from sklearn.metrics import classification_report\n",
    "print(classification_report(y_val, y_val_pred))"
   ]
  },
  {
   "cell_type": "code",
   "execution_count": 16,
   "metadata": {},
   "outputs": [
    {
     "data": {
      "text/plain": [
       "0.07135833941599674"
      ]
     },
     "execution_count": 16,
     "metadata": {},
     "output_type": "execute_result"
    }
   ],
   "source": [
    "\n",
    "# Matthews Correlation Coefficient Calculation #\n",
    "from sklearn.metrics import matthews_corrcoef\n",
    "matthews_corrcoef(y_val, y_val_pred)"
   ]
  },
  {
   "cell_type": "code",
   "execution_count": 17,
   "metadata": {},
   "outputs": [
    {
     "name": "stderr",
     "output_type": "stream",
     "text": [
      "C:\\ProgramData\\Anaconda3\\lib\\site-packages\\sklearn\\model_selection\\_split.py:605: Warning: The least populated class in y has only 5 members, which is too few. The minimum number of members in any class cannot be less than n_splits=10.\n",
      "  % (min_groups, self.n_splits)), Warning)\n"
     ]
    },
    {
     "data": {
      "text/plain": [
       "0.2596520935960591"
      ]
     },
     "execution_count": 17,
     "metadata": {},
     "output_type": "execute_result"
    }
   ],
   "source": [
    "# Applying k-Fold Cross Validation\n",
    "from sklearn.model_selection import cross_val_score\n",
    "accuracies = cross_val_score(estimator = classifier, X = X_train, y = y_train, cv = 10)\n",
    "accuracies.mean()"
   ]
  },
  {
   "cell_type": "code",
   "execution_count": null,
   "metadata": {},
   "outputs": [],
   "source": [
    "\"\"\"\n",
    "# Applying Grid Search to find the best model and the best parameters\n",
    "from sklearn.model_selection import GridSearchCV\n",
    "parameters = [{'C' : [1, 10, 100, 1000], 'kernel' : ['linear']},\n",
    "              {'C' : [1, 10, 100, 1000], 'kernel' : ['rbf'], 'gamma' : [0.0001, 0.0002, 0.0003, 0.0004, 0.0005, 0.0006, 0.0007, 0.0008]}]\n",
    "grid_search = GridSearchCV(estimator = classifier,\n",
    "                           param_grid = parameters, \n",
    "                           scoring = 'accuracy',\n",
    "                           cv = 10, \n",
    "                           n_jobs = -1)\n",
    "grid_search = grid_search.fit(X_train, y_train)\n",
    "best_accuracy = grid_search.best_score_\n",
    "best_parameters = grid_search.best_params_\"\"\""
   ]
  },
  {
   "cell_type": "code",
   "execution_count": null,
   "metadata": {},
   "outputs": [],
   "source": [
    "################### Testing set ###########################"
   ]
  },
  {
   "cell_type": "code",
   "execution_count": null,
   "metadata": {},
   "outputs": [],
   "source": [
    "# Fitting Random Forest Classification to the Training set\n",
    "from sklearn.ensemble import RandomForestClassifier\n",
    "classifier = RandomForestClassifier(n_estimators = 10, criterion = 'entropy', random_state = 0)\n",
    "classifier.fit(X_train, y_train)"
   ]
  },
  {
   "cell_type": "code",
   "execution_count": null,
   "metadata": {},
   "outputs": [],
   "source": [
    "# Predicting the Test set results\n",
    "y_pred = classifier.predict(X_test)"
   ]
  },
  {
   "cell_type": "code",
   "execution_count": null,
   "metadata": {},
   "outputs": [],
   "source": [
    "# Making the Confusion Matrix\n",
    "import matplotlib.pyplot as plt\n",
    "from sklearn import svm, datasets\n",
    "from sklearn.metrics import confusion_matrix\n",
    "cm = confusion_matrix(y_test, y_pred)\n",
    "accuracy = ((cm[0][0]+cm[1][1]) / cm.sum())"
   ]
  },
  {
   "cell_type": "code",
   "execution_count": null,
   "metadata": {},
   "outputs": [],
   "source": [
    "# np.set_printoptions(precision=2)\n",
    "print('Confusion Matrix, without normalization')\n",
    "print(cm)\n",
    "plt.figure(figsize = (10,7))\n",
    "plt.matshow(cm)\n"
   ]
  },
  {
   "cell_type": "code",
   "execution_count": null,
   "metadata": {},
   "outputs": [],
   "source": [
    "# Normalize the confusion matrix by row (i.e. by the number of samples in each class)\n",
    "cm_normalized = cm.astype('float') / cm.sum(axis=1) [:, np.newaxis]\n",
    "print('Normalized confusion matrix')\n",
    "print(cm_normalized)\n",
    "plt.figure()\n",
    "plt.matshow(cm_normalized)"
   ]
  },
  {
   "cell_type": "code",
   "execution_count": null,
   "metadata": {},
   "outputs": [],
   "source": [
    "# Classification Report\n",
    "from sklearn.metrics import classification_report\n",
    "print(classification_report(y_test, y_pred))"
   ]
  },
  {
   "cell_type": "code",
   "execution_count": null,
   "metadata": {},
   "outputs": [],
   "source": [
    "\n",
    "# Matthews Correlation Coefficient Calculation #\n",
    "from sklearn.metrics import matthews_corrcoef\n",
    "matthews_corrcoef(y_test, y_pred)\n"
   ]
  },
  {
   "cell_type": "code",
   "execution_count": null,
   "metadata": {},
   "outputs": [],
   "source": [
    "\n",
    "# ROC Curve Implementation\n",
    "import scikitplot as skplt\n",
    "y_pred = classifier.predict(X_test)\n",
    "preds = y_pred[:,]\n",
    "fpr, tpr, threshold = skplt.metrics.roc_curve(y_test, preds)\n",
    "roc_auc = skplt.metrics.auc(fpr, tpr)"
   ]
  },
  {
   "cell_type": "code",
   "execution_count": null,
   "metadata": {},
   "outputs": [],
   "source": [
    "import matplotlib.pyplot as plt\n",
    "plt.title('Receiver Operating Characteristic')\n",
    "plt.plot(fpr, tpr, 'b', label = 'AUC = %0.2f' % roc_auc)\n",
    "plt.legend(loc = 'lower right')\n",
    "plt.plot([0, 1], [0, 1],'r--')\n",
    "plt.xlim([0, 1])\n",
    "plt.ylim([0, 1])\n",
    "plt.ylabel('True Positive Rate')\n",
    "plt.xlabel('False Positive Rate')\n",
    "plt.show()\n"
   ]
  },
  {
   "cell_type": "code",
   "execution_count": null,
   "metadata": {},
   "outputs": [],
   "source": []
  },
  {
   "cell_type": "code",
   "execution_count": null,
   "metadata": {},
   "outputs": [],
   "source": []
  },
  {
   "cell_type": "code",
   "execution_count": null,
   "metadata": {},
   "outputs": [],
   "source": []
  }
 ],
 "metadata": {
  "kernelspec": {
   "display_name": "Python 3",
   "language": "python",
   "name": "python3"
  },
  "language_info": {
   "codemirror_mode": {
    "name": "ipython",
    "version": 3
   },
   "file_extension": ".py",
   "mimetype": "text/x-python",
   "name": "python",
   "nbconvert_exporter": "python",
   "pygments_lexer": "ipython3",
   "version": "3.7.1"
  }
 },
 "nbformat": 4,
 "nbformat_minor": 2
}
