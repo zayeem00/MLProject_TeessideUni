{
 "cells": [
  {
   "cell_type": "code",
   "execution_count": 1,
   "metadata": {},
   "outputs": [],
   "source": [
    "import pandas as pd\n",
    "import os\n",
    "import numpy as np"
   ]
  },
  {
   "cell_type": "code",
   "execution_count": 2,
   "metadata": {},
   "outputs": [],
   "source": [
    "os.chdir('C:\\\\RESEARCH\\\\LUSC\\\\Site')"
   ]
  },
  {
   "cell_type": "code",
   "execution_count": 3,
   "metadata": {},
   "outputs": [],
   "source": [
    "genes=pd.read_excel('LUSC_Genes_Site.xlsx',index_col=0)"
   ]
  },
  {
   "cell_type": "code",
   "execution_count": 4,
   "metadata": {},
   "outputs": [],
   "source": [
    "flux=pd.read_excel('LUSC_Flux_Site.xlsx',index_col=0)"
   ]
  },
  {
   "cell_type": "code",
   "execution_count": 5,
   "metadata": {},
   "outputs": [],
   "source": [
    "clinical=pd.read_excel('LUSC_Clinical_Site.xlsx',index_col=0)"
   ]
  },
  {
   "cell_type": "code",
   "execution_count": 6,
   "metadata": {},
   "outputs": [
    {
     "data": {
      "text/html": [
       "<div>\n",
       "<style scoped>\n",
       "    .dataframe tbody tr th:only-of-type {\n",
       "        vertical-align: middle;\n",
       "    }\n",
       "\n",
       "    .dataframe tbody tr th {\n",
       "        vertical-align: top;\n",
       "    }\n",
       "\n",
       "    .dataframe thead th {\n",
       "        text-align: right;\n",
       "    }\n",
       "</style>\n",
       "<table border=\"1\" class=\"dataframe\">\n",
       "  <thead>\n",
       "    <tr style=\"text-align: right;\">\n",
       "      <th></th>\n",
       "      <th>UBE2Q2P2</th>\n",
       "      <th>SSX9</th>\n",
       "      <th>CXORF67</th>\n",
       "      <th>EFCAB8</th>\n",
       "      <th>SDR16C6P</th>\n",
       "      <th>EFCAB12</th>\n",
       "      <th>A1BG</th>\n",
       "      <th>A1CF</th>\n",
       "      <th>RBFOX1</th>\n",
       "      <th>GGACT</th>\n",
       "      <th>...</th>\n",
       "      <th>SLFN12</th>\n",
       "      <th>SLFN13</th>\n",
       "      <th>SLFN14</th>\n",
       "      <th>SLFN5</th>\n",
       "      <th>SLFNL1</th>\n",
       "      <th>SLIT1</th>\n",
       "      <th>SLIT2</th>\n",
       "      <th>SLIT3</th>\n",
       "      <th>SLITRK1</th>\n",
       "      <th>Primary Tumor Site</th>\n",
       "    </tr>\n",
       "    <tr>\n",
       "      <th>Hugo_Symbol</th>\n",
       "      <th></th>\n",
       "      <th></th>\n",
       "      <th></th>\n",
       "      <th></th>\n",
       "      <th></th>\n",
       "      <th></th>\n",
       "      <th></th>\n",
       "      <th></th>\n",
       "      <th></th>\n",
       "      <th></th>\n",
       "      <th></th>\n",
       "      <th></th>\n",
       "      <th></th>\n",
       "      <th></th>\n",
       "      <th></th>\n",
       "      <th></th>\n",
       "      <th></th>\n",
       "      <th></th>\n",
       "      <th></th>\n",
       "      <th></th>\n",
       "      <th></th>\n",
       "    </tr>\n",
       "  </thead>\n",
       "  <tbody>\n",
       "    <tr>\n",
       "      <th>TCGA-18-3406-01</th>\n",
       "      <td>0.6275</td>\n",
       "      <td>-0.0763</td>\n",
       "      <td>-0.1111</td>\n",
       "      <td>-0.0210</td>\n",
       "      <td>-0.2073</td>\n",
       "      <td>-0.2939</td>\n",
       "      <td>6.0843</td>\n",
       "      <td>-0.1684</td>\n",
       "      <td>-0.1354</td>\n",
       "      <td>1.6552</td>\n",
       "      <td>...</td>\n",
       "      <td>0.3141</td>\n",
       "      <td>0.7349</td>\n",
       "      <td>-0.6499</td>\n",
       "      <td>1.8195</td>\n",
       "      <td>-0.9816</td>\n",
       "      <td>-0.1401</td>\n",
       "      <td>-0.5147</td>\n",
       "      <td>-0.5814</td>\n",
       "      <td>-0.2205</td>\n",
       "      <td>L-Upper</td>\n",
       "    </tr>\n",
       "    <tr>\n",
       "      <th>TCGA-18-3407-01</th>\n",
       "      <td>-0.8280</td>\n",
       "      <td>-0.0763</td>\n",
       "      <td>-0.1111</td>\n",
       "      <td>-0.2912</td>\n",
       "      <td>-0.2073</td>\n",
       "      <td>-0.2723</td>\n",
       "      <td>-0.7020</td>\n",
       "      <td>0.3242</td>\n",
       "      <td>-0.1354</td>\n",
       "      <td>0.4132</td>\n",
       "      <td>...</td>\n",
       "      <td>0.0783</td>\n",
       "      <td>-0.4010</td>\n",
       "      <td>-0.1467</td>\n",
       "      <td>1.5143</td>\n",
       "      <td>-0.1113</td>\n",
       "      <td>-0.2146</td>\n",
       "      <td>-0.3133</td>\n",
       "      <td>-0.4178</td>\n",
       "      <td>-0.2303</td>\n",
       "      <td>L-Upper</td>\n",
       "    </tr>\n",
       "  </tbody>\n",
       "</table>\n",
       "<p>2 rows × 14838 columns</p>\n",
       "</div>"
      ],
      "text/plain": [
       "                 UBE2Q2P2    SSX9  CXORF67  EFCAB8  SDR16C6P  EFCAB12    A1BG  \\\n",
       "Hugo_Symbol                                                                     \n",
       "TCGA-18-3406-01    0.6275 -0.0763  -0.1111 -0.0210   -0.2073  -0.2939  6.0843   \n",
       "TCGA-18-3407-01   -0.8280 -0.0763  -0.1111 -0.2912   -0.2073  -0.2723 -0.7020   \n",
       "\n",
       "                   A1CF  RBFOX1   GGACT         ...          SLFN12  SLFN13  \\\n",
       "Hugo_Symbol                                     ...                           \n",
       "TCGA-18-3406-01 -0.1684 -0.1354  1.6552         ...          0.3141  0.7349   \n",
       "TCGA-18-3407-01  0.3242 -0.1354  0.4132         ...          0.0783 -0.4010   \n",
       "\n",
       "                 SLFN14   SLFN5  SLFNL1   SLIT1   SLIT2   SLIT3  SLITRK1  \\\n",
       "Hugo_Symbol                                                                \n",
       "TCGA-18-3406-01 -0.6499  1.8195 -0.9816 -0.1401 -0.5147 -0.5814  -0.2205   \n",
       "TCGA-18-3407-01 -0.1467  1.5143 -0.1113 -0.2146 -0.3133 -0.4178  -0.2303   \n",
       "\n",
       "                 Primary Tumor Site  \n",
       "Hugo_Symbol                          \n",
       "TCGA-18-3406-01             L-Upper  \n",
       "TCGA-18-3407-01             L-Upper  \n",
       "\n",
       "[2 rows x 14838 columns]"
      ]
     },
     "execution_count": 6,
     "metadata": {},
     "output_type": "execute_result"
    }
   ],
   "source": [
    "genes.head(2)"
   ]
  },
  {
   "cell_type": "code",
   "execution_count": 9,
   "metadata": {},
   "outputs": [],
   "source": [
    "del genes['Primary Tumor Site']"
   ]
  },
  {
   "cell_type": "code",
   "execution_count": 10,
   "metadata": {},
   "outputs": [
    {
     "data": {
      "text/plain": [
       "(501, 14837)"
      ]
     },
     "execution_count": 10,
     "metadata": {},
     "output_type": "execute_result"
    }
   ],
   "source": [
    "genes.shape"
   ]
  },
  {
   "cell_type": "code",
   "execution_count": 11,
   "metadata": {},
   "outputs": [
    {
     "data": {
      "text/plain": [
       "(501, 2050)"
      ]
     },
     "execution_count": 11,
     "metadata": {},
     "output_type": "execute_result"
    }
   ],
   "source": [
    "flux.shape"
   ]
  },
  {
   "cell_type": "code",
   "execution_count": 12,
   "metadata": {},
   "outputs": [
    {
     "data": {
      "text/plain": [
       "(501, 327)"
      ]
     },
     "execution_count": 12,
     "metadata": {},
     "output_type": "execute_result"
    }
   ],
   "source": [
    "clinical.shape"
   ]
  },
  {
   "cell_type": "code",
   "execution_count": 13,
   "metadata": {},
   "outputs": [],
   "source": [
    "g_f=genes.merge(flux,left_index=True,right_index=True)"
   ]
  },
  {
   "cell_type": "code",
   "execution_count": 14,
   "metadata": {},
   "outputs": [],
   "source": [
    "g_c=g_f.merge(clinical,left_index=True,right_index=True)"
   ]
  },
  {
   "cell_type": "code",
   "execution_count": 15,
   "metadata": {},
   "outputs": [
    {
     "data": {
      "text/plain": [
       "(501, 17214)"
      ]
     },
     "execution_count": 15,
     "metadata": {},
     "output_type": "execute_result"
    }
   ],
   "source": [
    "g_c.shape"
   ]
  },
  {
   "cell_type": "code",
   "execution_count": 16,
   "metadata": {},
   "outputs": [],
   "source": [
    "dt=g_c"
   ]
  },
  {
   "cell_type": "code",
   "execution_count": 17,
   "metadata": {},
   "outputs": [],
   "source": [
    "X=dt.iloc[:,0:17212].values\n",
    "y=dt.iloc[:,-1].values"
   ]
  },
  {
   "cell_type": "code",
   "execution_count": 18,
   "metadata": {},
   "outputs": [
    {
     "data": {
      "text/plain": [
       "array(['L-Upper', 'L-Upper', 'R-Lower', 'L-Upper', 'R-Lower', 'R-Upper',\n",
       "       'L-Lower', 'R-Lower', 'R-Upper', 'L-Upper', 'R-Upper', 'L-Lower',\n",
       "       'R-Lower', 'L-Lower', 'R-Lower', 'L-Lower', 'L-Upper', 'R-Lower',\n",
       "       'L-Upper', 'R-Upper', 'L-Upper', 'L-Lower', 'L-Lower', 'R-Upper',\n",
       "       'R-Lower', 'L-Upper', 'L-Lower', 'L-Lower', 'L-Lower', 'L-Upper',\n",
       "       'L-Lower', 'L-Upper', 'R-Upper', 'R-Upper', 'L-Upper', 'R-Lower',\n",
       "       'L-Lower', 'L-Upper', 'R-Lower', 'R-Middle', 'R-Upper', 'R-Upper',\n",
       "       'R-Lower', 'R-Upper', 'L-Upper', 'R-Lower', 'R-Lower', 'L-Upper',\n",
       "       'L-Lower', 'L-Upper', 'L-Upper', 'R-Upper', 'L-Upper', 'R-Upper',\n",
       "       'R-Lower', 'R-Upper', 'L-Upper', 'L-Lower', 'R-Lower', 'L-Upper',\n",
       "       'L-Upper', 'R-Lower', 'R-Lower', 'L-Lower', 'L-Upper', 'L-Lower',\n",
       "       'L-Upper', 'R-Upper', 'R-Upper', 'L-Upper', 'L-Lower', 'L-Upper',\n",
       "       'R-Lower', 'R-Lower', 'L-Upper', 'L-Upper', 'R-Upper', 'R-Upper',\n",
       "       'L-Lower', 'L-Lower', 'L-Lower', 'R-Middle', 'R-Lower', 'R-Upper',\n",
       "       'L-Upper', 'R-Upper', 'R-Lower', 'R-Upper', 'L-Upper', 'R-Lower',\n",
       "       'L-Lower', 'R-Lower', 'R-Upper', 'Bronchial', 'R-Lower', 'L-Upper',\n",
       "       'R-Upper', 'L-Upper', 'L-Upper', 'L-Upper', 'L-Upper', 'L-Upper',\n",
       "       'R-Lower', 'R-Lower', 'L-Lower', 'L-Upper', 'R-Lower', 'R-Lower',\n",
       "       'L-Upper', 'R-Lower', 'R-Lower', 'L-Upper', 'L-Upper', 'R-Upper',\n",
       "       'R-Middle', 'R-Upper', 'L-Lower', 'R-Lower', 'R-Lower', 'R-Upper',\n",
       "       'R-Upper', 'L-Upper', 'L-Upper', 'R-Middle', 'R-Lower', 'R-Lower',\n",
       "       'R-Upper', 'L-Upper', 'R-Upper', 'Bronchial', 'R-Lower', 'R-Upper',\n",
       "       'L-Lower', 'L-Lower', 'L-Upper', 'R-Upper', 'R-Lower', 'L-Upper',\n",
       "       'L-Lower', 'R-Upper', 'L-Upper', 'L-Upper', 'L-Upper', 'R-Upper',\n",
       "       'L-Lower', 'R-Upper', 'R-Upper', 'L-Lower', 'R-Lower', 'R-Lower',\n",
       "       'L-Upper', 'L-Upper', 'R-Lower', 'R-Lower', 'R-Upper', 'R-Upper',\n",
       "       'L-Lower', 'L-Upper', 'R-Upper', 'L-Upper', 'R-Upper', 'L-Upper',\n",
       "       'R-Middle', 'R-Upper', 'R-Lower', 'L-Lower', 'L-Upper', 'R-Upper',\n",
       "       'R-Lower', 'R-Lower', 'R-Upper', 'R-Upper', 'R-Upper', 'R-Upper',\n",
       "       'R-Lower', 'R-Upper', 'R-Upper', 'L-Lower', 'L-Upper', 'R-Lower',\n",
       "       'R-Upper', 'R-Upper', 'R-Upper', 'R-Upper', 'R-Lower', 'R-Upper',\n",
       "       'R-Lower', 'L-Upper', 'L-Lower', 'R-Lower', 'R-Upper', 'R-Upper',\n",
       "       'R-Upper', 'R-Upper', 'R-Lower', 'L-Upper', 'R-Upper', 'R-Upper',\n",
       "       'R-Upper', 'R-Lower', 'L-Upper', 'R-Lower', 'R-Lower', 'L-Upper',\n",
       "       'R-Lower', 'R-Upper', 'R-Lower', 'R-Lower', 'L-Upper', 'R-Upper',\n",
       "       'L-Lower', 'L-Upper', 'L-Upper', 'R-Lower', 'L-Upper', 'R-Lower',\n",
       "       'R-Lower', 'L-Upper', 'R-Lower', 'L-Upper', 'R-Upper', 'R-Lower',\n",
       "       'L-Upper', 'R-Lower', 'Bronchial', 'L-Upper', 'R-Lower', 'R-Upper',\n",
       "       'R-Lower', 'R-Upper', 'L-Lower', 'R-Lower', 'L-Upper', 'L-Upper',\n",
       "       'R-Middle', 'R-Lower', 'R-Lower', 'R-Upper', 'R-Upper', 'L-Upper',\n",
       "       'L-Lower', 'L-Upper', 'L-Upper', 'R-Lower', 'L-Upper', 'R-Lower',\n",
       "       'R-Upper', 'L-Upper', 'L-Upper', 'R-Upper', 'R-Lower', 'R-Upper',\n",
       "       'R-Upper', 'R-Middle', 'Bronchial', 'L-Upper', 'R-Middle',\n",
       "       'L-Upper', 'R-Lower', 'R-Upper', 'R-Upper', 'L-Upper', 'L-Upper',\n",
       "       'L-Lower', 'L-Lower', 'L-Upper', 'L-Lower', 'L-Lower', 'Bronchial',\n",
       "       'Other (please specify)', 'R-Lower', 'Bronchial', 'R-Upper',\n",
       "       'R-Lower', 'L-Upper', 'L-Upper', 'R-Upper', 'R-Lower', 'R-Lower',\n",
       "       'R-Upper', 'L-Lower', 'L-Lower', 'L-Lower', 'R-Middle', 'R-Upper',\n",
       "       'R-Lower', 'L-Lower', 'R-Upper', 'R-Upper', 'L-Upper', 'L-Upper',\n",
       "       'L-Upper', 'L-Lower', 'L-Upper', 'L-Lower', 'L-Upper', 'R-Lower',\n",
       "       'L-Lower', 'L-Upper', 'R-Lower', 'R-Upper', 'L-Lower', 'R-Middle',\n",
       "       'L-Lower', 'L-Upper', 'L-Upper', 'R-Upper', 'L-Lower', 'L-Upper',\n",
       "       'R-Upper', 'L-Upper', 'L-Lower', 'L-Lower', 'L-Upper', 'R-Lower',\n",
       "       'L-Lower', 'R-Middle', 'L-Upper', 'L-Upper', 'R-Upper', 'R-Lower',\n",
       "       'L-Upper', 'L-Upper', 'R-Upper', 'L-Upper', 'L-Lower', 'R-Lower',\n",
       "       'L-Lower', 'R-Upper', 'R-Upper', 'L-Upper', 'R-Upper', 'R-Lower',\n",
       "       'R-Middle', 'L-Lower', 'R-Lower', 'L-Upper', 'L-Upper', 'L-Upper',\n",
       "       'L-Upper', 'L-Upper', 'R-Upper', 'L-Upper', 'R-Upper', 'R-Upper',\n",
       "       'R-Lower', 'R-Lower', 'Other (please specify)', 'L-Upper',\n",
       "       'L-Lower', 'Other (please specify)', 'Other (please specify)',\n",
       "       'L-Upper', 'R-Upper', 'R-Lower', 'L-Upper', 'L-Lower',\n",
       "       'Other (please specify)', 'R-Upper', 'Other (please specify)',\n",
       "       'R-Lower', 'R-Lower', 'R-Lower', 'L-Upper', 'L-Upper', 'R-Lower',\n",
       "       'Bronchial', 'R-Upper', 'L-Upper', 'R-Upper', 'L-Upper',\n",
       "       'Other (please specify)', 'L-Lower', 'Other (please specify)',\n",
       "       'L-Upper', 'L-Upper', 'R-Upper', 'R-Upper', 'R-Upper', 'L-Upper',\n",
       "       'L-Upper', 'R-Upper', 'L-Upper', 'L-Lower', 'L-Upper', 'L-Upper',\n",
       "       'L-Upper', 'L-Lower', 'L-Lower', 'R-Upper', 'L-Upper', 'R-Upper',\n",
       "       'L-Upper', 'L-Upper', 'L-Upper', 'L-Upper', 'R-Middle', 'R-Upper',\n",
       "       'R-Lower', 'R-Upper', 'R-Lower', 'R-Lower', 'L-Upper', 'L-Lower',\n",
       "       'L-Upper', 'R-Lower', 'L-Upper', 'R-Upper', 'R-Upper', 'L-Upper',\n",
       "       'R-Lower', 'L-Lower', 'R-Upper', 'L-Upper', 'L-Lower', 'R-Lower',\n",
       "       'R-Upper', 'R-Upper', 'R-Upper', 'L-Lower', 'L-Lower', 'L-Upper',\n",
       "       'L-Upper', 'R-Middle', 'R-Upper', 'R-Upper', 'R-Upper', 'R-Upper',\n",
       "       'L-Upper', 'R-Upper', 'R-Upper', 'Bronchial', 'R-Upper', 'R-Upper',\n",
       "       'R-Upper', 'L-Upper', 'R-Upper', 'L-Lower', 'L-Upper', 'L-Upper',\n",
       "       'L-Lower', 'L-Upper', 'R-Upper', 'R-Lower', 'Bronchial',\n",
       "       'Bronchial', 'L-Lower', 'L-Lower', 'R-Lower', 'R-Lower', 'R-Lower',\n",
       "       'R-Upper', 'L-Lower', 'R-Upper', 'R-Upper', 'R-Upper', 'R-Upper',\n",
       "       'Other (please specify)', 'L-Upper', 'L-Upper', 'R-Middle',\n",
       "       'L-Upper', 'R-Lower', 'R-Upper', 'R-Upper', 'R-Upper', 'R-Upper',\n",
       "       'L-Lower', 'R-Lower', 'R-Upper', 'R-Lower', 'L-Upper', 'R-Upper',\n",
       "       'L-Upper', 'L-Upper', 'L-Lower', 'R-Lower', 'L-Lower', 'R-Lower',\n",
       "       'R-Middle', 'Other (please specify)', 'R-Upper', 'R-Lower',\n",
       "       'L-Lower', 'L-Upper', 'L-Upper', 'R-Middle', 'R-Lower',\n",
       "       'Other (please specify)', 'R-Upper', 'L-Lower', 'R-Lower',\n",
       "       'R-Upper', 'L-Upper', 'R-Upper', 'R-Upper', 'L-Lower', 'L-Upper',\n",
       "       'R-Lower', 'R-Middle', 'R-Lower'], dtype=object)"
      ]
     },
     "execution_count": 18,
     "metadata": {},
     "output_type": "execute_result"
    }
   ],
   "source": [
    "y"
   ]
  },
  {
   "cell_type": "code",
   "execution_count": 19,
   "metadata": {},
   "outputs": [],
   "source": [
    "# Encoding categorical data\n",
    "from sklearn.preprocessing import LabelEncoder\n",
    "labelEncoder_y = LabelEncoder()\n",
    "y = labelEncoder_y.fit_transform(y.astype(str))\n"
   ]
  },
  {
   "cell_type": "code",
   "execution_count": 20,
   "metadata": {},
   "outputs": [
    {
     "data": {
      "text/plain": [
       "array([2, 2, 4, 2, 4, 6, 1, 4, 6, 2, 6, 1, 4, 1, 4, 1, 2, 4, 2, 6, 2, 1,\n",
       "       1, 6, 4, 2, 1, 1, 1, 2, 1, 2, 6, 6, 2, 4, 1, 2, 4, 5, 6, 6, 4, 6,\n",
       "       2, 4, 4, 2, 1, 2, 2, 6, 2, 6, 4, 6, 2, 1, 4, 2, 2, 4, 4, 1, 2, 1,\n",
       "       2, 6, 6, 2, 1, 2, 4, 4, 2, 2, 6, 6, 1, 1, 1, 5, 4, 6, 2, 6, 4, 6,\n",
       "       2, 4, 1, 4, 6, 0, 4, 2, 6, 2, 2, 2, 2, 2, 4, 4, 1, 2, 4, 4, 2, 4,\n",
       "       4, 2, 2, 6, 5, 6, 1, 4, 4, 6, 6, 2, 2, 5, 4, 4, 6, 2, 6, 0, 4, 6,\n",
       "       1, 1, 2, 6, 4, 2, 1, 6, 2, 2, 2, 6, 1, 6, 6, 1, 4, 4, 2, 2, 4, 4,\n",
       "       6, 6, 1, 2, 6, 2, 6, 2, 5, 6, 4, 1, 2, 6, 4, 4, 6, 6, 6, 6, 4, 6,\n",
       "       6, 1, 2, 4, 6, 6, 6, 6, 4, 6, 4, 2, 1, 4, 6, 6, 6, 6, 4, 2, 6, 6,\n",
       "       6, 4, 2, 4, 4, 2, 4, 6, 4, 4, 2, 6, 1, 2, 2, 4, 2, 4, 4, 2, 4, 2,\n",
       "       6, 4, 2, 4, 0, 2, 4, 6, 4, 6, 1, 4, 2, 2, 5, 4, 4, 6, 6, 2, 1, 2,\n",
       "       2, 4, 2, 4, 6, 2, 2, 6, 4, 6, 6, 5, 0, 2, 5, 2, 4, 6, 6, 2, 2, 1,\n",
       "       1, 2, 1, 1, 0, 3, 4, 0, 6, 4, 2, 2, 6, 4, 4, 6, 1, 1, 1, 5, 6, 4,\n",
       "       1, 6, 6, 2, 2, 2, 1, 2, 1, 2, 4, 1, 2, 4, 6, 1, 5, 1, 2, 2, 6, 1,\n",
       "       2, 6, 2, 1, 1, 2, 4, 1, 5, 2, 2, 6, 4, 2, 2, 6, 2, 1, 4, 1, 6, 6,\n",
       "       2, 6, 4, 5, 1, 4, 2, 2, 2, 2, 2, 6, 2, 6, 6, 4, 4, 3, 2, 1, 3, 3,\n",
       "       2, 6, 4, 2, 1, 3, 6, 3, 4, 4, 4, 2, 2, 4, 0, 6, 2, 6, 2, 3, 1, 3,\n",
       "       2, 2, 6, 6, 6, 2, 2, 6, 2, 1, 2, 2, 2, 1, 1, 6, 2, 6, 2, 2, 2, 2,\n",
       "       5, 6, 4, 6, 4, 4, 2, 1, 2, 4, 2, 6, 6, 2, 4, 1, 6, 2, 1, 4, 6, 6,\n",
       "       6, 1, 1, 2, 2, 5, 6, 6, 6, 6, 2, 6, 6, 0, 6, 6, 6, 2, 6, 1, 2, 2,\n",
       "       1, 2, 6, 4, 0, 0, 1, 1, 4, 4, 4, 6, 1, 6, 6, 6, 6, 3, 2, 2, 5, 2,\n",
       "       4, 6, 6, 6, 6, 1, 4, 6, 4, 2, 6, 2, 2, 1, 4, 1, 4, 5, 3, 6, 4, 1,\n",
       "       2, 2, 5, 4, 3, 6, 1, 4, 6, 2, 6, 6, 1, 2, 4, 5, 4], dtype=int64)"
      ]
     },
     "execution_count": 20,
     "metadata": {},
     "output_type": "execute_result"
    }
   ],
   "source": [
    "y"
   ]
  },
  {
   "cell_type": "code",
   "execution_count": 21,
   "metadata": {},
   "outputs": [],
   "source": [
    "# Splitting the dataset into the Training set and Test set\n",
    "from sklearn.model_selection import train_test_split\n",
    "X_train, X_test, y_train, y_test = train_test_split(X, y, test_size = 0.2, random_state = 0)\n",
    "\n",
    "X_train, X_val, y_train, y_val = train_test_split(X_train, y_train, test_size=0.2, random_state=0)\n"
   ]
  },
  {
   "cell_type": "code",
   "execution_count": 22,
   "metadata": {},
   "outputs": [],
   "source": [
    "# Feature Scaling\n",
    "from sklearn.preprocessing import StandardScaler\n",
    "sc = StandardScaler()\n",
    "X_train = sc.fit_transform(X_train)\n",
    "X_val = sc.fit_transform(X_val)\n",
    "X_test = sc.transform(X_test)"
   ]
  },
  {
   "cell_type": "code",
   "execution_count": 23,
   "metadata": {},
   "outputs": [
    {
     "data": {
      "text/plain": [
       "RandomForestClassifier(bootstrap=True, class_weight=None, criterion='entropy',\n",
       "            max_depth=None, max_features='auto', max_leaf_nodes=None,\n",
       "            min_impurity_decrease=0.0, min_impurity_split=None,\n",
       "            min_samples_leaf=1, min_samples_split=2,\n",
       "            min_weight_fraction_leaf=0.0, n_estimators=10, n_jobs=None,\n",
       "            oob_score=False, random_state=0, verbose=0, warm_start=False)"
      ]
     },
     "execution_count": 23,
     "metadata": {},
     "output_type": "execute_result"
    }
   ],
   "source": [
    "# Fitting Random Forest Classification to the Training set\n",
    "from sklearn.ensemble import RandomForestClassifier\n",
    "classifier = RandomForestClassifier(n_estimators = 10, criterion = 'entropy', random_state = 0)\n",
    "classifier.fit(X_train, y_train)"
   ]
  },
  {
   "cell_type": "code",
   "execution_count": 24,
   "metadata": {},
   "outputs": [],
   "source": [
    "\n",
    "# Predicting the Validation set results\n",
    "y_val_pred = classifier.predict(X_val)"
   ]
  },
  {
   "cell_type": "code",
   "execution_count": 25,
   "metadata": {},
   "outputs": [
    {
     "data": {
      "text/plain": [
       "0.3125"
      ]
     },
     "execution_count": 25,
     "metadata": {},
     "output_type": "execute_result"
    }
   ],
   "source": [
    "# Making the Confusion Matrix\n",
    "import matplotlib.pyplot as plt\n",
    "from sklearn import svm, datasets\n",
    "from sklearn.metrics import confusion_matrix\n",
    "cm = confusion_matrix(y_val, y_val_pred)\n",
    "accuracy = ((cm[0][0]+cm[1][1]+cm[2][2]+cm[3][3]+cm[4][4]+cm[5][5]+cm[6][6]) / cm.sum())\n",
    "accuracy"
   ]
  },
  {
   "cell_type": "code",
   "execution_count": 25,
   "metadata": {},
   "outputs": [
    {
     "name": "stdout",
     "output_type": "stream",
     "text": [
      "Confusion Matrix, without normalization\n",
      "[[ 0  0  1  0  0  0  1]\n",
      " [ 0  2  6  0  2  0  4]\n",
      " [ 0  0 14  0  3  0  7]\n",
      " [ 0  0  1  0  1  0  2]\n",
      " [ 0  3  4  0  5  0  1]\n",
      " [ 0  0  1  0  0  0  0]\n",
      " [ 0  0  8  0 10  0  4]]\n"
     ]
    },
    {
     "data": {
      "text/plain": [
       "<matplotlib.image.AxesImage at 0x14ad37e64a8>"
      ]
     },
     "execution_count": 25,
     "metadata": {},
     "output_type": "execute_result"
    },
    {
     "data": {
      "text/plain": [
       "<Figure size 720x504 with 0 Axes>"
      ]
     },
     "metadata": {},
     "output_type": "display_data"
    },
    {
     "data": {
      "image/png": "[encoded data removed]",
      "text/plain": [
       "<Figure size 288x288 with 1 Axes>"
      ]
     },
     "metadata": {},
     "output_type": "display_data"
    }
   ],
   "source": [
    "# np.set_printoptions(precision=2)\n",
    "print('Confusion Matrix, without normalization')\n",
    "print(cm)\n",
    "plt.figure(figsize = (10,7))\n",
    "plt.matshow(cm)\n"
   ]
  },
  {
   "cell_type": "code",
   "execution_count": 26,
   "metadata": {},
   "outputs": [
    {
     "name": "stdout",
     "output_type": "stream",
     "text": [
      "Normalized confusion matrix\n",
      "[[0.         0.         0.5        0.         0.         0.\n",
      "  0.5       ]\n",
      " [0.         0.14285714 0.42857143 0.         0.14285714 0.\n",
      "  0.28571429]\n",
      " [0.         0.         0.58333333 0.         0.125      0.\n",
      "  0.29166667]\n",
      " [0.         0.         0.25       0.         0.25       0.\n",
      "  0.5       ]\n",
      " [0.         0.23076923 0.30769231 0.         0.38461538 0.\n",
      "  0.07692308]\n",
      " [0.         0.         1.         0.         0.         0.\n",
      "  0.        ]\n",
      " [0.         0.         0.36363636 0.         0.45454545 0.\n",
      "  0.18181818]]\n"
     ]
    },
    {
     "data": {
      "text/plain": [
       "<matplotlib.image.AxesImage at 0x14ad3839978>"
      ]
     },
     "execution_count": 26,
     "metadata": {},
     "output_type": "execute_result"
    },
    {
     "data": {
      "text/plain": [
       "<Figure size 432x288 with 0 Axes>"
      ]
     },
     "metadata": {},
     "output_type": "display_data"
    },
    {
     "data": {
      "image/png": "[encoded data removed]",
      "text/plain": [
       "<Figure size 288x288 with 1 Axes>"
      ]
     },
     "metadata": {},
     "output_type": "display_data"
    }
   ],
   "source": [
    "# Normalize the confusion matrix by row (i.e. by the number of samples in each class)\n",
    "cm_normalized = cm.astype('float') / cm.sum(axis=1) [:, np.newaxis]\n",
    "print('Normalized confusion matrix')\n",
    "print(cm_normalized)\n",
    "plt.figure()\n",
    "plt.matshow(cm_normalized)"
   ]
  },
  {
   "cell_type": "code",
   "execution_count": 27,
   "metadata": {},
   "outputs": [
    {
     "name": "stdout",
     "output_type": "stream",
     "text": [
      "             precision    recall  f1-score   support\n",
      "\n",
      "          0       0.00      0.00      0.00         2\n",
      "          1       0.40      0.14      0.21        14\n",
      "          2       0.40      0.58      0.47        24\n",
      "          3       0.00      0.00      0.00         4\n",
      "          4       0.24      0.38      0.29        13\n",
      "          5       0.00      0.00      0.00         1\n",
      "          6       0.21      0.18      0.20        22\n",
      "\n",
      "avg / total       0.29      0.31      0.28        80\n",
      "\n"
     ]
    },
    {
     "name": "stderr",
     "output_type": "stream",
     "text": [
      "C:\\ProgramData\\Anaconda3\\lib\\site-packages\\sklearn\\metrics\\classification.py:1135: UndefinedMetricWarning: Precision and F-score are ill-defined and being set to 0.0 in labels with no predicted samples.\n",
      "  'precision', 'predicted', average, warn_for)\n"
     ]
    }
   ],
   "source": [
    "# Classification Report\n",
    "from sklearn.metrics import classification_report\n",
    "print(classification_report(y_val, y_val_pred))"
   ]
  },
  {
   "cell_type": "code",
   "execution_count": 28,
   "metadata": {},
   "outputs": [
    {
     "data": {
      "text/plain": [
       "0.08597063347575598"
      ]
     },
     "execution_count": 28,
     "metadata": {},
     "output_type": "execute_result"
    }
   ],
   "source": [
    "\n",
    "# Matthews Correlation Coefficient Calculation #\n",
    "from sklearn.metrics import matthews_corrcoef\n",
    "matthews_corrcoef(y_val, y_val_pred)"
   ]
  },
  {
   "cell_type": "code",
   "execution_count": 29,
   "metadata": {},
   "outputs": [
    {
     "name": "stderr",
     "output_type": "stream",
     "text": [
      "C:\\ProgramData\\Anaconda3\\lib\\site-packages\\sklearn\\model_selection\\_split.py:605: Warning: The least populated class in y has only 5 members, which is too few. The minimum number of members in any class cannot be less than n_splits=10.\n",
      "  % (min_groups, self.n_splits)), Warning)\n"
     ]
    },
    {
     "data": {
      "text/plain": [
       "0.27729957683177764"
      ]
     },
     "execution_count": 29,
     "metadata": {},
     "output_type": "execute_result"
    }
   ],
   "source": [
    "# Applying k-Fold Cross Validation\n",
    "from sklearn.model_selection import cross_val_score\n",
    "accuracies = cross_val_score(estimator = classifier, X = X_train, y = y_train, cv = 10)\n",
    "accuracies.mean()"
   ]
  },
  {
   "cell_type": "code",
   "execution_count": null,
   "metadata": {},
   "outputs": [],
   "source": [
    "\n",
    "\"\"\"\n",
    "# Applying Grid Search to find the best model and the best parameters\n",
    "from sklearn.model_selection import GridSearchCV\n",
    "parameters = [{'C' : [1, 10, 100, 1000], 'kernel' : ['linear']},\n",
    "              {'C' : [1, 10, 100, 1000], 'kernel' : ['rbf'], 'gamma' : [0.0001, 0.0002, 0.0003, 0.0004, 0.0005, 0.0006, 0.0007, 0.0008]}]\n",
    "grid_search = GridSearchCV(estimator = classifier,\n",
    "                           param_grid = parameters, \n",
    "                           scoring = 'accuracy',\n",
    "                           cv = 10, \n",
    "                           n_jobs = -1)\n",
    "grid_search = grid_search.fit(X_train, y_train)\n",
    "best_accuracy = grid_search.best_score_\n",
    "best_parameters = grid_search.best_params_\"\"\""
   ]
  },
  {
   "cell_type": "code",
   "execution_count": null,
   "metadata": {},
   "outputs": [],
   "source": [
    "###########Testing set################"
   ]
  },
  {
   "cell_type": "code",
   "execution_count": null,
   "metadata": {},
   "outputs": [],
   "source": [
    "# Fitting Random Forest Classification to the Training set\n",
    "from sklearn.ensemble import RandomForestClassifier\n",
    "classifier = RandomForestClassifier(n_estimators = 10, criterion = 'entropy', random_state = 0)\n",
    "classifier.fit(X_train, y_train)\n"
   ]
  },
  {
   "cell_type": "code",
   "execution_count": null,
   "metadata": {},
   "outputs": [],
   "source": [
    "\n",
    "# Predicting the Test set results\n",
    "y_pred = classifier.predict(X_test)"
   ]
  },
  {
   "cell_type": "code",
   "execution_count": null,
   "metadata": {},
   "outputs": [],
   "source": [
    "# Making the Confusion Matrix\n",
    "import matplotlib.pyplot as plt\n",
    "from sklearn import svm, datasets\n",
    "from sklearn.metrics import confusion_matrix\n",
    "cm = confusion_matrix(y_test, y_pred)\n",
    "accuracy = ((cm[0][0]+cm[1][1]) / cm.sum())\n",
    "# np.set_printoptions(precision=2)\n",
    "print('Confusion Matrix, without normalization')\n",
    "print(cm)\n",
    "plt.figure(figsize = (10,7))\n",
    "plt.matshow(cm)"
   ]
  },
  {
   "cell_type": "code",
   "execution_count": null,
   "metadata": {},
   "outputs": [],
   "source": [
    "# Normalize the confusion matrix by row (i.e. by the number of samples in each class)\n",
    "cm_normalized = cm.astype('float') / cm.sum(axis=1) [:, np.newaxis]\n",
    "print('Normalized confusion matrix')\n",
    "print(cm_normalized)\n",
    "plt.figure()\n",
    "plt.matshow(cm_normalized)\n"
   ]
  },
  {
   "cell_type": "code",
   "execution_count": null,
   "metadata": {},
   "outputs": [],
   "source": [
    "# Classification Report\n",
    "from sklearn.metrics import classification_report\n",
    "print(classification_report(y_test, y_pred))"
   ]
  },
  {
   "cell_type": "code",
   "execution_count": null,
   "metadata": {},
   "outputs": [],
   "source": [
    "\n",
    "# Matthews Correlation Coefficient Calculation #\n",
    "from sklearn.metrics import matthews_corrcoef\n",
    "matthews_corrcoef(y_test, y_pred)"
   ]
  },
  {
   "cell_type": "code",
   "execution_count": null,
   "metadata": {},
   "outputs": [],
   "source": []
  }
 ],
 "metadata": {
  "kernelspec": {
   "display_name": "Python 3",
   "language": "python",
   "name": "python3"
  },
  "language_info": {
   "codemirror_mode": {
    "name": "ipython",
    "version": 3
   },
   "file_extension": ".py",
   "mimetype": "text/x-python",
   "name": "python",
   "nbconvert_exporter": "python",
   "pygments_lexer": "ipython3",
   "version": "3.7.1"
  }
 },
 "nbformat": 4,
 "nbformat_minor": 2
}
