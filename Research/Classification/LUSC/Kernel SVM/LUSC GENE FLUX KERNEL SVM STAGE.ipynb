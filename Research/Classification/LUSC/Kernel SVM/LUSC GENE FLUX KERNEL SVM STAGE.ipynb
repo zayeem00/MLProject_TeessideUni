{
 "cells": [
  {
   "cell_type": "code",
   "execution_count": 1,
   "metadata": {},
   "outputs": [],
   "source": [
    "import pandas as pd\n",
    "import os\n",
    "import numpy as np"
   ]
  },
  {
   "cell_type": "code",
   "execution_count": 2,
   "metadata": {},
   "outputs": [],
   "source": [
    "os.chdir('C:\\\\RESEARCH\\\\LUSC\\\\Stage')"
   ]
  },
  {
   "cell_type": "code",
   "execution_count": 3,
   "metadata": {},
   "outputs": [],
   "source": [
    "genes=pd.read_excel('LUSC_Genes_Stage.xlsx',index_col=0)"
   ]
  },
  {
   "cell_type": "code",
   "execution_count": 4,
   "metadata": {},
   "outputs": [],
   "source": [
    "flux=pd.read_excel('LUSC_Flux_Stage.xlsx',index_col=0)"
   ]
  },
  {
   "cell_type": "code",
   "execution_count": 5,
   "metadata": {},
   "outputs": [
    {
     "data": {
      "text/html": [
       "<div>\n",
       "<style scoped>\n",
       "    .dataframe tbody tr th:only-of-type {\n",
       "        vertical-align: middle;\n",
       "    }\n",
       "\n",
       "    .dataframe tbody tr th {\n",
       "        vertical-align: top;\n",
       "    }\n",
       "\n",
       "    .dataframe thead th {\n",
       "        text-align: right;\n",
       "    }\n",
       "</style>\n",
       "<table border=\"1\" class=\"dataframe\">\n",
       "  <thead>\n",
       "    <tr style=\"text-align: right;\">\n",
       "      <th></th>\n",
       "      <th>UBE2Q2P2</th>\n",
       "      <th>SSX9</th>\n",
       "      <th>CXORF67</th>\n",
       "      <th>EFCAB8</th>\n",
       "      <th>SDR16C6P</th>\n",
       "      <th>EFCAB12</th>\n",
       "      <th>A1BG</th>\n",
       "      <th>A1CF</th>\n",
       "      <th>RBFOX1</th>\n",
       "      <th>GGACT</th>\n",
       "      <th>...</th>\n",
       "      <th>SLFN12</th>\n",
       "      <th>SLFN13</th>\n",
       "      <th>SLFN14</th>\n",
       "      <th>SLFN5</th>\n",
       "      <th>SLFNL1</th>\n",
       "      <th>SLIT1</th>\n",
       "      <th>SLIT2</th>\n",
       "      <th>SLIT3</th>\n",
       "      <th>SLITRK1</th>\n",
       "      <th>Neoplasm Disease Stage American Joint Committee on Cancer Code3</th>\n",
       "    </tr>\n",
       "    <tr>\n",
       "      <th>Hugo_Symbol</th>\n",
       "      <th></th>\n",
       "      <th></th>\n",
       "      <th></th>\n",
       "      <th></th>\n",
       "      <th></th>\n",
       "      <th></th>\n",
       "      <th></th>\n",
       "      <th></th>\n",
       "      <th></th>\n",
       "      <th></th>\n",
       "      <th></th>\n",
       "      <th></th>\n",
       "      <th></th>\n",
       "      <th></th>\n",
       "      <th></th>\n",
       "      <th></th>\n",
       "      <th></th>\n",
       "      <th></th>\n",
       "      <th></th>\n",
       "      <th></th>\n",
       "      <th></th>\n",
       "    </tr>\n",
       "  </thead>\n",
       "  <tbody>\n",
       "    <tr>\n",
       "      <th>TCGA-18-3406-01</th>\n",
       "      <td>0.6275</td>\n",
       "      <td>-0.0763</td>\n",
       "      <td>-0.1111</td>\n",
       "      <td>-0.0210</td>\n",
       "      <td>-0.2073</td>\n",
       "      <td>-0.2939</td>\n",
       "      <td>6.0843</td>\n",
       "      <td>-0.1684</td>\n",
       "      <td>-0.1354</td>\n",
       "      <td>1.6552</td>\n",
       "      <td>...</td>\n",
       "      <td>0.3141</td>\n",
       "      <td>0.7349</td>\n",
       "      <td>-0.6499</td>\n",
       "      <td>1.8195</td>\n",
       "      <td>-0.9816</td>\n",
       "      <td>-0.1401</td>\n",
       "      <td>-0.5147</td>\n",
       "      <td>-0.5814</td>\n",
       "      <td>-0.2205</td>\n",
       "      <td>Stage IA</td>\n",
       "    </tr>\n",
       "    <tr>\n",
       "      <th>TCGA-18-3407-01</th>\n",
       "      <td>-0.8280</td>\n",
       "      <td>-0.0763</td>\n",
       "      <td>-0.1111</td>\n",
       "      <td>-0.2912</td>\n",
       "      <td>-0.2073</td>\n",
       "      <td>-0.2723</td>\n",
       "      <td>-0.7020</td>\n",
       "      <td>0.3242</td>\n",
       "      <td>-0.1354</td>\n",
       "      <td>0.4132</td>\n",
       "      <td>...</td>\n",
       "      <td>0.0783</td>\n",
       "      <td>-0.4010</td>\n",
       "      <td>-0.1467</td>\n",
       "      <td>1.5143</td>\n",
       "      <td>-0.1113</td>\n",
       "      <td>-0.2146</td>\n",
       "      <td>-0.3133</td>\n",
       "      <td>-0.4178</td>\n",
       "      <td>-0.2303</td>\n",
       "      <td>Stage IB</td>\n",
       "    </tr>\n",
       "  </tbody>\n",
       "</table>\n",
       "<p>2 rows × 14838 columns</p>\n",
       "</div>"
      ],
      "text/plain": [
       "                 UBE2Q2P2    SSX9  CXORF67  EFCAB8  SDR16C6P  EFCAB12    A1BG  \\\n",
       "Hugo_Symbol                                                                     \n",
       "TCGA-18-3406-01    0.6275 -0.0763  -0.1111 -0.0210   -0.2073  -0.2939  6.0843   \n",
       "TCGA-18-3407-01   -0.8280 -0.0763  -0.1111 -0.2912   -0.2073  -0.2723 -0.7020   \n",
       "\n",
       "                   A1CF  RBFOX1   GGACT  \\\n",
       "Hugo_Symbol                               \n",
       "TCGA-18-3406-01 -0.1684 -0.1354  1.6552   \n",
       "TCGA-18-3407-01  0.3242 -0.1354  0.4132   \n",
       "\n",
       "                                              ...                                 \\\n",
       "Hugo_Symbol                                   ...                                  \n",
       "TCGA-18-3406-01                               ...                                  \n",
       "TCGA-18-3407-01                               ...                                  \n",
       "\n",
       "                 SLFN12  SLFN13  SLFN14   SLFN5  SLFNL1   SLIT1   SLIT2  \\\n",
       "Hugo_Symbol                                                               \n",
       "TCGA-18-3406-01  0.3141  0.7349 -0.6499  1.8195 -0.9816 -0.1401 -0.5147   \n",
       "TCGA-18-3407-01  0.0783 -0.4010 -0.1467  1.5143 -0.1113 -0.2146 -0.3133   \n",
       "\n",
       "                  SLIT3  SLITRK1  \\\n",
       "Hugo_Symbol                        \n",
       "TCGA-18-3406-01 -0.5814  -0.2205   \n",
       "TCGA-18-3407-01 -0.4178  -0.2303   \n",
       "\n",
       "                 Neoplasm Disease Stage American Joint Committee on Cancer Code3  \n",
       "Hugo_Symbol                                                                       \n",
       "TCGA-18-3406-01                                           Stage IA                \n",
       "TCGA-18-3407-01                                           Stage IB                \n",
       "\n",
       "[2 rows x 14838 columns]"
      ]
     },
     "execution_count": 5,
     "metadata": {},
     "output_type": "execute_result"
    }
   ],
   "source": [
    "genes.head(2)"
   ]
  },
  {
   "cell_type": "code",
   "execution_count": 6,
   "metadata": {},
   "outputs": [],
   "source": [
    "del genes['Neoplasm Disease Stage American Joint Committee on Cancer Code3']"
   ]
  },
  {
   "cell_type": "code",
   "execution_count": 7,
   "metadata": {},
   "outputs": [
    {
     "data": {
      "text/plain": [
       "(501, 14837)"
      ]
     },
     "execution_count": 7,
     "metadata": {},
     "output_type": "execute_result"
    }
   ],
   "source": [
    "genes.shape"
   ]
  },
  {
   "cell_type": "code",
   "execution_count": 8,
   "metadata": {},
   "outputs": [
    {
     "data": {
      "text/plain": [
       "(501, 2051)"
      ]
     },
     "execution_count": 8,
     "metadata": {},
     "output_type": "execute_result"
    }
   ],
   "source": [
    "flux.shape"
   ]
  },
  {
   "cell_type": "code",
   "execution_count": 9,
   "metadata": {},
   "outputs": [],
   "source": [
    "g_c=genes.merge(flux,left_index=True,right_index=True)"
   ]
  },
  {
   "cell_type": "code",
   "execution_count": 10,
   "metadata": {},
   "outputs": [
    {
     "data": {
      "text/plain": [
       "(501, 16888)"
      ]
     },
     "execution_count": 10,
     "metadata": {},
     "output_type": "execute_result"
    }
   ],
   "source": [
    "g_c.shape"
   ]
  },
  {
   "cell_type": "code",
   "execution_count": 11,
   "metadata": {},
   "outputs": [],
   "source": [
    "dt=g_c"
   ]
  },
  {
   "cell_type": "code",
   "execution_count": 12,
   "metadata": {},
   "outputs": [],
   "source": [
    "X=dt.iloc[:,0:16886].values\n",
    "y=dt.iloc[:,-1].values"
   ]
  },
  {
   "cell_type": "code",
   "execution_count": 13,
   "metadata": {},
   "outputs": [
    {
     "data": {
      "text/plain": [
       "array(['Stage IA', 'Stage IB', 'Stage IB', 'Stage IA', 'Stage IIB',\n",
       "       'Stage IIIA', 'Stage IB', 'Stage IV', 'Stage IB', 'Stage IIB',\n",
       "       'Stage IV', 'Stage IIB', 'Stage IB', 'Stage IIB', 'Stage IB',\n",
       "       'Stage IA', 'Stage IIB', 'Stage IB', 'Stage IIIA', 'Stage IB',\n",
       "       'Stage IB', 'Stage IIB', 'Stage IB', 'Stage IIB', 'Stage IB',\n",
       "       'Stage IIIA', 'Stage IB', 'Stage IIB', 'Stage IB', 'Stage IA',\n",
       "       'Stage IB', 'Stage IB', 'Stage IB', 'Stage IB', 'Stage IIIA',\n",
       "       'Stage IA', 'Stage IIA', 'Stage IB', 'Stage IB', 'Stage IA',\n",
       "       'Stage IA', 'Stage IB', 'Stage IB', 'Stage IB', 'Stage IA',\n",
       "       'Stage IIIA', 'Stage IIA', 'Stage IIIA', 'Stage IIIA', 'Stage IB',\n",
       "       'Stage IB', 'Stage IIIA', 'Stage IIA', 'Stage IB', 'Stage IB',\n",
       "       'Stage IA', 'Stage IA', 'Stage IB', 'Stage IB', 'Stage IB',\n",
       "       'Stage IB', 'Stage IA', 'Stage IB', 'Stage IB', 'Stage IA',\n",
       "       'Stage IIB', 'Stage IB', 'Stage IIA', 'Stage IA', 'Stage IA',\n",
       "       'Stage IA', 'Stage IIIA', 'Stage IIA', 'Stage IB', 'Stage IB',\n",
       "       'Stage IIIA', 'Stage IB', 'Stage IB', 'Stage IA', 'Stage IA',\n",
       "       'Stage IIIA', 'Stage IB', 'Stage IIB', 'Stage IIIA', 'Stage IIIA',\n",
       "       'Stage IB', 'Stage IIA', 'Stage IA', 'Stage IB', 'Stage IA',\n",
       "       'Stage IIB', 'Stage IB', 'Stage IA', 'Stage IIB', 'Stage IA',\n",
       "       'Stage IB', 'Stage IA', 'Stage IIA', 'Stage IA', 'Stage IIB',\n",
       "       'Stage IIIA', 'Stage IIB', 'Stage IB', 'Stage IA', 'Stage IIB',\n",
       "       'Stage IB', 'Stage II', 'Stage IIIA', 'Stage IV', 'Stage IIA',\n",
       "       'Stage IIB', 'Stage IIIA', 'Stage IB', 'Stage IB', 'Stage IA',\n",
       "       'Stage IA', 'Stage IV', 'Stage IIIA', 'Stage IB', 'Stage IA',\n",
       "       'Stage IIIA', 'Stage IIB', 'Stage II', 'Stage IIIB', 'Stage IA',\n",
       "       'Stage IIA', 'Stage IB', 'Stage IB', 'Stage IB', 'Stage IIIA',\n",
       "       'Stage IB', 'Stage IIIA', 'Stage IIIA', 'Stage IIIA', 'Stage IA',\n",
       "       'Stage IIB', 'Stage IA', 'Stage IB', 'Stage IIA', 'Stage IIA',\n",
       "       'Stage IIIA', 'Stage IIIA', 'Stage IA', 'Stage IIIA', 'Stage IB',\n",
       "       'Stage IB', 'Stage IIA', 'Stage IIA', 'Stage IB', 'Stage IIB',\n",
       "       'Stage IB', 'Stage IB', 'Stage IIB', 'Stage IA', 'Stage IA',\n",
       "       'Stage IA', 'Stage IIA', 'Stage IA', 'Stage IA', 'Stage IIA',\n",
       "       'Stage IIB', 'Stage IA', 'Stage IIIA', 'Stage IA', 'Stage IA',\n",
       "       'Stage IA', 'Stage IIIA', 'Stage IB', 'Stage IIB', 'Stage IIB',\n",
       "       'Stage IB', 'Stage IIIB', 'Stage IIB', 'Stage I', 'Stage IA',\n",
       "       'Stage IB', 'Stage IIB', 'Stage IB', 'Stage IB', 'Stage IB',\n",
       "       'Stage IA', 'Stage IA', 'Stage IB', 'Stage IIA', 'Stage IB',\n",
       "       'Stage IB', 'Stage IIIA', 'Stage IIIA', 'Stage IB', 'Stage IB',\n",
       "       'Stage IIA', 'Stage IB', 'Stage IIB', 'Stage IIA', 'Stage IIA',\n",
       "       'Stage IB', 'Stage IIB', 'Stage IA', 'Stage IB', 'Stage IIB',\n",
       "       'Stage IIB', 'Stage IA', 'Stage IIB', 'Stage IB', 'Stage IB',\n",
       "       'Stage IB', 'Stage IIB', 'Stage IIIA', 'Stage IA', 'Stage IA',\n",
       "       'Stage IIA', 'Stage IIIA', 'Stage IIA', 'Stage IIA', 'Stage IB',\n",
       "       'Stage IA', 'Stage IB', 'Stage IA', 'Stage IB', 'Stage IIA',\n",
       "       'Stage IV', 'Stage IIA', 'Stage IB', 'Stage IIA', 'Stage IIIA',\n",
       "       'Stage IB', 'Stage IB', 'Stage IIB', 'Stage IIIA', 'Stage IIIA',\n",
       "       'Stage IIB', 'Stage IB', 'Stage IB', 'Stage IIA', 'Stage IIA',\n",
       "       'Stage IIB', 'Stage IIB', 'Stage IIB', 'Stage IA', 'Stage IB',\n",
       "       'Stage IIB', 'Stage IB', 'Stage IIA', 'Stage IB', 'Stage IIB',\n",
       "       'Stage IB', 'Stage IIB', 'Stage IA', 'Stage IIB', 'Stage IB',\n",
       "       'Stage IB', 'Stage IB', 'Stage IIB', 'Stage IB', 'Stage IIIA',\n",
       "       'Stage IB', 'Stage IIA', 'Stage IB', 'Stage IIB', 'Stage IIA',\n",
       "       'Stage IA', 'Stage IA', 'Stage IA', 'Stage IIA', 'Stage IIB',\n",
       "       'Stage IB', 'Stage IB', 'Stage IA', 'Stage IIIA', 'Stage IIB',\n",
       "       'Stage IB', 'Stage IIB', 'Stage IIB', 'Stage IIB', 'Stage IB',\n",
       "       'Stage IB', 'Stage IIB', 'Stage IIB', 'Stage IIA', 'Stage IB',\n",
       "       'Stage IA', 'Stage IB', 'Stage IB', 'Stage IIB', 'Stage IV',\n",
       "       'Stage IIB', 'Stage IB', 'Stage IIIA', 'Stage IB', 'Stage IIIB',\n",
       "       'Stage IA', 'Stage IB', 'Stage IIIA', 'Stage IB', 'Stage IB',\n",
       "       'Stage IIIA', 'Stage IIIB', 'Stage IIB', 'Stage IIIB', 'Stage IB',\n",
       "       'Stage IIB', 'Stage IB', 'Stage IB', 'Stage IIIB', 'Stage IB',\n",
       "       'Stage IB', 'Stage IIB', 'Stage IIIB', 'Stage IB', 'Stage IA',\n",
       "       'Stage IA', 'Stage IB', 'Stage IIIB', 'Stage IIB', 'Stage IIIB',\n",
       "       'Stage IIB', 'Stage IIIB', 'Stage IIIB', 'Stage IIIB',\n",
       "       'Stage IIIB', 'Stage IIA', 'Stage IIIA', 'Stage IA', 'Stage IA',\n",
       "       'Stage IB', 'Stage IIIA', 'Stage IB', 'Stage IB', 'Stage IIIA',\n",
       "       'Stage IIA', 'Stage IIB', 'Stage IIA', 'Stage IIIA', 'Stage IIB',\n",
       "       'Stage IB', 'Stage IIB', 'Stage IIB', 'Stage IB', 'Stage IB',\n",
       "       'Stage IIIB', 'Stage IIB', 'Stage IB', 'Stage IB', 'Stage IIA',\n",
       "       'Stage IIB', 'Stage IB', 'Stage IIB', 'Stage IIIA', 'Stage IIB',\n",
       "       'Stage IB', 'Stage IIA', 'Stage IIB', 'Stage IB', 'Stage IIB',\n",
       "       'Stage IIB', 'Stage IIIA', 'Stage IB', 'Stage IIIB', 'Stage IA',\n",
       "       'Stage IIIA', 'Stage IIIA', 'Stage IB', 'Stage IA', 'Stage IB',\n",
       "       'Stage IIIB', 'Stage IIIA', 'Stage IIB', 'Stage IIIA', 'Stage IA',\n",
       "       'Stage IIB', 'Stage IB', 'Stage IB', 'Stage IIA', 'Stage IB',\n",
       "       'Stage IIIA', 'Stage IIB', 'Stage IIA', 'Stage IB', 'Stage IIIA',\n",
       "       'Stage IA', 'Stage IIB', 'Stage IA', 'Stage IIIA', 'Stage IA',\n",
       "       'Stage IIA', 'Stage IB', 'Stage IB', 'Stage IA', 'Stage IB',\n",
       "       'Stage IIB', 'Stage IB', 'Stage IIA', 'Stage IA', 'Stage IIA',\n",
       "       'Stage IIIA', 'Stage IA', 'Stage IIA', 'Stage IA', 'Stage IIA',\n",
       "       'Stage IIIA', 'Stage IIIA', 'Stage IB', 'Stage IA', 'Stage IA',\n",
       "       'Stage IIB', 'Stage IB', 'Stage IA', 'Stage IIA', 'Stage IIB',\n",
       "       'Stage IB', 'Stage IA', 'Stage IIB', 'Stage IIB', 'Stage IIA',\n",
       "       'Stage IB', 'Stage IB', 'Stage IB', 'Stage IIA', 'Stage IIA',\n",
       "       'Stage IIB', 'Stage IIB', 'Stage IIA', 'Stage IA', 'Stage IIA',\n",
       "       'Stage IA', 'Stage IIB', 'Stage IA', 'Stage IIB', 'Stage IIB',\n",
       "       'Stage IB', 'Stage IB', 'Stage IIA', 'Stage IIA', 'Stage IIA',\n",
       "       'Stage IB', 'Stage IIIA', 'Stage IB', 'Stage IIB', 'Stage IB',\n",
       "       'Stage IB', 'Stage IA', 'Stage IIB', 'Stage IIB', 'Stage IIA',\n",
       "       'Stage IA', 'Stage IIA', 'Stage IIB', 'Stage IIB', 'Stage IA',\n",
       "       'Stage IA', 'Stage IIA', 'Stage IIA', 'Stage IIA', 'Stage IB',\n",
       "       'Stage IIIA', 'Stage IA', 'Stage IA', 'Stage IIIA', 'Stage IIB',\n",
       "       'Stage IIB', 'Stage IB', 'Stage IB', 'Stage IA', 'Stage IIB',\n",
       "       'Stage IA', 'Stage IIA', 'Stage IB', 'Stage IIA', 'Stage IB',\n",
       "       'Stage IIB', 'Stage IA', 'Stage IIIA', 'Stage IB', 'Stage IIB',\n",
       "       'Stage IIB', 'Stage IIIB', 'Stage IIIA', 'Stage IA', 'Stage IB',\n",
       "       'Stage IIB', 'Stage IIB', 'Stage IIA', 'Stage IB', 'Stage IIA',\n",
       "       'Stage IIIA', 'Stage IV', 'Stage IIIA', 'Stage IIA', 'Stage IIIA',\n",
       "       'Stage IB', 'Stage IA', 'Stage IIA', 'Stage IIA', 'Stage IIIB',\n",
       "       'Stage I', 'Stage III', 'Stage III', 'Stage II', 'Stage I',\n",
       "       'Stage III', 'Stage IA'], dtype=object)"
      ]
     },
     "execution_count": 13,
     "metadata": {},
     "output_type": "execute_result"
    }
   ],
   "source": [
    "y"
   ]
  },
  {
   "cell_type": "code",
   "execution_count": 14,
   "metadata": {},
   "outputs": [],
   "source": [
    "# Encoding categorical data\n",
    "from sklearn.preprocessing import LabelEncoder\n",
    "labelEncoder_y = LabelEncoder()\n",
    "y = labelEncoder_y.fit_transform(y.astype(str))\n"
   ]
  },
  {
   "cell_type": "code",
   "execution_count": 15,
   "metadata": {},
   "outputs": [
    {
     "data": {
      "text/plain": [
       "array([1, 2, 2, 1, 5, 7, 2, 9, 2, 5, 9, 5, 2, 5, 2, 1, 5, 2, 7, 2, 2, 5,\n",
       "       2, 5, 2, 7, 2, 5, 2, 1, 2, 2, 2, 2, 7, 1, 4, 2, 2, 1, 1, 2, 2, 2,\n",
       "       1, 7, 4, 7, 7, 2, 2, 7, 4, 2, 2, 1, 1, 2, 2, 2, 2, 1, 2, 2, 1, 5,\n",
       "       2, 4, 1, 1, 1, 7, 4, 2, 2, 7, 2, 2, 1, 1, 7, 2, 5, 7, 7, 2, 4, 1,\n",
       "       2, 1, 5, 2, 1, 5, 1, 2, 1, 4, 1, 5, 7, 5, 2, 1, 5, 2, 3, 7, 9, 4,\n",
       "       5, 7, 2, 2, 1, 1, 9, 7, 2, 1, 7, 5, 3, 8, 1, 4, 2, 2, 2, 7, 2, 7,\n",
       "       7, 7, 1, 5, 1, 2, 4, 4, 7, 7, 1, 7, 2, 2, 4, 4, 2, 5, 2, 2, 5, 1,\n",
       "       1, 1, 4, 1, 1, 4, 5, 1, 7, 1, 1, 1, 7, 2, 5, 5, 2, 8, 5, 0, 1, 2,\n",
       "       5, 2, 2, 2, 1, 1, 2, 4, 2, 2, 7, 7, 2, 2, 4, 2, 5, 4, 4, 2, 5, 1,\n",
       "       2, 5, 5, 1, 5, 2, 2, 2, 5, 7, 1, 1, 4, 7, 4, 4, 2, 1, 2, 1, 2, 4,\n",
       "       9, 4, 2, 4, 7, 2, 2, 5, 7, 7, 5, 2, 2, 4, 4, 5, 5, 5, 1, 2, 5, 2,\n",
       "       4, 2, 5, 2, 5, 1, 5, 2, 2, 2, 5, 2, 7, 2, 4, 2, 5, 4, 1, 1, 1, 4,\n",
       "       5, 2, 2, 1, 7, 5, 2, 5, 5, 5, 2, 2, 5, 5, 4, 2, 1, 2, 2, 5, 9, 5,\n",
       "       2, 7, 2, 8, 1, 2, 7, 2, 2, 7, 8, 5, 8, 2, 5, 2, 2, 8, 2, 2, 5, 8,\n",
       "       2, 1, 1, 2, 8, 5, 8, 5, 8, 8, 8, 8, 4, 7, 1, 1, 2, 7, 2, 2, 7, 4,\n",
       "       5, 4, 7, 5, 2, 5, 5, 2, 2, 8, 5, 2, 2, 4, 5, 2, 5, 7, 5, 2, 4, 5,\n",
       "       2, 5, 5, 7, 2, 8, 1, 7, 7, 2, 1, 2, 8, 7, 5, 7, 1, 5, 2, 2, 4, 2,\n",
       "       7, 5, 4, 2, 7, 1, 5, 1, 7, 1, 4, 2, 2, 1, 2, 5, 2, 4, 1, 4, 7, 1,\n",
       "       4, 1, 4, 7, 7, 2, 1, 1, 5, 2, 1, 4, 5, 2, 1, 5, 5, 4, 2, 2, 2, 4,\n",
       "       4, 5, 5, 4, 1, 4, 1, 5, 1, 5, 5, 2, 2, 4, 4, 4, 2, 7, 2, 5, 2, 2,\n",
       "       1, 5, 5, 4, 1, 4, 5, 5, 1, 1, 4, 4, 4, 2, 7, 1, 1, 7, 5, 5, 2, 2,\n",
       "       1, 5, 1, 4, 2, 4, 2, 5, 1, 7, 2, 5, 5, 8, 7, 1, 2, 5, 5, 4, 2, 4,\n",
       "       7, 9, 7, 4, 7, 2, 1, 4, 4, 8, 0, 6, 6, 3, 0, 6, 1], dtype=int64)"
      ]
     },
     "execution_count": 15,
     "metadata": {},
     "output_type": "execute_result"
    }
   ],
   "source": [
    "y"
   ]
  },
  {
   "cell_type": "code",
   "execution_count": 16,
   "metadata": {},
   "outputs": [],
   "source": [
    "# Splitting the dataset into the Training set and Test set\n",
    "from sklearn.model_selection import train_test_split\n",
    "X_train, X_test, y_train, y_test = train_test_split(X, y, test_size = 0.2, random_state = 0)\n",
    "\n",
    "X_train, X_val, y_train, y_val = train_test_split(X_train, y_train, test_size=0.2, random_state=0)\n"
   ]
  },
  {
   "cell_type": "code",
   "execution_count": 17,
   "metadata": {},
   "outputs": [],
   "source": [
    "# Feature Scaling\n",
    "from sklearn.preprocessing import StandardScaler\n",
    "sc = StandardScaler()\n",
    "X_train = sc.fit_transform(X_train)\n",
    "X_val = sc.fit_transform(X_val)\n",
    "X_test = sc.transform(X_test)"
   ]
  },
  {
   "cell_type": "code",
   "execution_count": 18,
   "metadata": {},
   "outputs": [
    {
     "data": {
      "text/plain": [
       "SVC(C=1, cache_size=200, class_weight=None, coef0=0.0,\n",
       "  decision_function_shape='ovr', degree=3, gamma=0.0001, kernel='linear',\n",
       "  max_iter=-1, probability=False, random_state=0, shrinking=True,\n",
       "  tol=0.001, verbose=False)"
      ]
     },
     "execution_count": 18,
     "metadata": {},
     "output_type": "execute_result"
    }
   ],
   "source": [
    "# Fitting Kernel SVM to the Validation set\n",
    "from sklearn.svm import SVC\n",
    "classifier = SVC(kernel = 'linear', C = 1, gamma = 0.0001, random_state = 0)\n",
    "classifier.fit(X_train, y_train)"
   ]
  },
  {
   "cell_type": "code",
   "execution_count": 19,
   "metadata": {},
   "outputs": [],
   "source": [
    "\n",
    "# Predicting the Validation set results\n",
    "y_val_pred = classifier.predict(X_val)"
   ]
  },
  {
   "cell_type": "code",
   "execution_count": 20,
   "metadata": {},
   "outputs": [
    {
     "data": {
      "text/plain": [
       "0.2375"
      ]
     },
     "execution_count": 20,
     "metadata": {},
     "output_type": "execute_result"
    }
   ],
   "source": [
    "# Making the Confusion Matrix\n",
    "import matplotlib.pyplot as plt\n",
    "from sklearn import svm, datasets\n",
    "from sklearn.metrics import confusion_matrix\n",
    "cm = confusion_matrix(y_val, y_val_pred)\n",
    "accuracy = ((cm[0][0]+cm[1][1]+cm[2][2]+cm[3][3]+cm[4][4]+cm[5][5]+cm[6][6]+cm[7][7]+cm[8][8]) / cm.sum())\n",
    "accuracy"
   ]
  },
  {
   "cell_type": "code",
   "execution_count": 21,
   "metadata": {},
   "outputs": [
    {
     "name": "stdout",
     "output_type": "stream",
     "text": [
      "Confusion Matrix, without normalization\n",
      "[[ 0  0  0  0  1  0  0  0  0]\n",
      " [ 0  4  4  2  1  0  1  0  0]\n",
      " [ 0  4 11  3  3  0  2  0  0]\n",
      " [ 0  1  6  1  3  0  0  0  0]\n",
      " [ 0  4  6  2  2  0  2  0  0]\n",
      " [ 0  0  1  0  0  0  0  0  0]\n",
      " [ 0  3  4  1  2  0  1  0  0]\n",
      " [ 0  1  0  0  1  0  1  0  0]\n",
      " [ 0  0  1  0  0  0  1  0  0]]\n"
     ]
    },
    {
     "data": {
      "text/plain": [
       "<matplotlib.image.AxesImage at 0x23934a056d8>"
      ]
     },
     "execution_count": 21,
     "metadata": {},
     "output_type": "execute_result"
    },
    {
     "data": {
      "text/plain": [
       "<Figure size 720x504 with 0 Axes>"
      ]
     },
     "metadata": {},
     "output_type": "display_data"
    },
    {
     "data": {
      "image/png": "[encoded data removed]",
      "text/plain": [
       "<Figure size 288x288 with 1 Axes>"
      ]
     },
     "metadata": {
      "needs_background": "light"
     },
     "output_type": "display_data"
    }
   ],
   "source": [
    "# np.set_printoptions(precision=2)\n",
    "print('Confusion Matrix, without normalization')\n",
    "print(cm)\n",
    "plt.figure(figsize = (10,7))\n",
    "plt.matshow(cm)\n"
   ]
  },
  {
   "cell_type": "code",
   "execution_count": 22,
   "metadata": {},
   "outputs": [
    {
     "name": "stdout",
     "output_type": "stream",
     "text": [
      "Normalized confusion matrix\n",
      "[[0.         0.         0.         0.         1.         0.\n",
      "  0.         0.         0.        ]\n",
      " [0.         0.33333333 0.33333333 0.16666667 0.08333333 0.\n",
      "  0.08333333 0.         0.        ]\n",
      " [0.         0.17391304 0.47826087 0.13043478 0.13043478 0.\n",
      "  0.08695652 0.         0.        ]\n",
      " [0.         0.09090909 0.54545455 0.09090909 0.27272727 0.\n",
      "  0.         0.         0.        ]\n",
      " [0.         0.25       0.375      0.125      0.125      0.\n",
      "  0.125      0.         0.        ]\n",
      " [0.         0.         1.         0.         0.         0.\n",
      "  0.         0.         0.        ]\n",
      " [0.         0.27272727 0.36363636 0.09090909 0.18181818 0.\n",
      "  0.09090909 0.         0.        ]\n",
      " [0.         0.33333333 0.         0.         0.33333333 0.\n",
      "  0.33333333 0.         0.        ]\n",
      " [0.         0.         0.5        0.         0.         0.\n",
      "  0.5        0.         0.        ]]\n"
     ]
    },
    {
     "data": {
      "text/plain": [
       "<matplotlib.image.AxesImage at 0x23934c2b8d0>"
      ]
     },
     "execution_count": 22,
     "metadata": {},
     "output_type": "execute_result"
    },
    {
     "data": {
      "text/plain": [
       "<Figure size 432x288 with 0 Axes>"
      ]
     },
     "metadata": {},
     "output_type": "display_data"
    },
    {
     "data": {
      "image/png": "[encoded data removed]",
      "text/plain": [
       "<Figure size 288x288 with 1 Axes>"
      ]
     },
     "metadata": {
      "needs_background": "light"
     },
     "output_type": "display_data"
    }
   ],
   "source": [
    "# Normalize the confusion matrix by row (i.e. by the number of samples in each class)\n",
    "cm_normalized = cm.astype('float') / cm.sum(axis=1) [:, np.newaxis]\n",
    "print('Normalized confusion matrix')\n",
    "print(cm_normalized)\n",
    "plt.figure()\n",
    "plt.matshow(cm_normalized)"
   ]
  },
  {
   "cell_type": "code",
   "execution_count": 23,
   "metadata": {},
   "outputs": [
    {
     "name": "stdout",
     "output_type": "stream",
     "text": [
      "              precision    recall  f1-score   support\n",
      "\n",
      "           0       0.00      0.00      0.00         1\n",
      "           1       0.24      0.33      0.28        12\n",
      "           2       0.33      0.48      0.39        23\n",
      "           4       0.11      0.09      0.10        11\n",
      "           5       0.15      0.12      0.14        16\n",
      "           6       0.00      0.00      0.00         1\n",
      "           7       0.12      0.09      0.11        11\n",
      "           8       0.00      0.00      0.00         3\n",
      "           9       0.00      0.00      0.00         2\n",
      "\n",
      "   micro avg       0.24      0.24      0.24        80\n",
      "   macro avg       0.11      0.12      0.11        80\n",
      "weighted avg       0.19      0.24      0.21        80\n",
      "\n"
     ]
    },
    {
     "name": "stderr",
     "output_type": "stream",
     "text": [
      "C:\\Users\\Kanika Saini\\Anaconda3\\lib\\site-packages\\sklearn\\metrics\\classification.py:1143: UndefinedMetricWarning: Precision and F-score are ill-defined and being set to 0.0 in labels with no predicted samples.\n",
      "  'precision', 'predicted', average, warn_for)\n"
     ]
    }
   ],
   "source": [
    "# Classification Report\n",
    "from sklearn.metrics import classification_report\n",
    "print(classification_report(y_val, y_val_pred))"
   ]
  },
  {
   "cell_type": "code",
   "execution_count": 24,
   "metadata": {},
   "outputs": [
    {
     "data": {
      "text/plain": [
       "0.032697253474745336"
      ]
     },
     "execution_count": 24,
     "metadata": {},
     "output_type": "execute_result"
    }
   ],
   "source": [
    "\n",
    "# Matthews Correlation Coefficient Calculation #\n",
    "from sklearn.metrics import matthews_corrcoef\n",
    "matthews_corrcoef(y_val, y_val_pred)"
   ]
  },
  {
   "cell_type": "code",
   "execution_count": 25,
   "metadata": {},
   "outputs": [
    {
     "name": "stderr",
     "output_type": "stream",
     "text": [
      "C:\\Users\\Kanika Saini\\Anaconda3\\lib\\site-packages\\sklearn\\model_selection\\_split.py:652: Warning: The least populated class in y has only 1 members, which is too few. The minimum number of members in any class cannot be less than n_splits=10.\n",
      "  % (min_groups, self.n_splits)), Warning)\n"
     ]
    },
    {
     "data": {
      "text/plain": [
       "0.30631679948077256"
      ]
     },
     "execution_count": 25,
     "metadata": {},
     "output_type": "execute_result"
    }
   ],
   "source": [
    "# Applying k-Fold Cross Validation\n",
    "from sklearn.model_selection import cross_val_score\n",
    "accuracies = cross_val_score(estimator = classifier, X = X_train, y = y_train, cv = 10)\n",
    "accuracies.mean()"
   ]
  },
  {
   "cell_type": "code",
   "execution_count": null,
   "metadata": {},
   "outputs": [],
   "source": [
    "\n",
    "\"\"\"\n",
    "# Applying Grid Search to find the best model and the best parameters\n",
    "from sklearn.model_selection import GridSearchCV\n",
    "parameters = [{'C' : [1, 10, 100, 1000], 'kernel' : ['linear']},\n",
    "              {'C' : [1, 10, 100, 1000], 'kernel' : ['rbf'], 'gamma' : [0.0001, 0.0002, 0.0003, 0.0004, 0.0005, 0.0006, 0.0007, 0.0008]}]\n",
    "grid_search = GridSearchCV(estimator = classifier,\n",
    "                           param_grid = parameters, \n",
    "                           scoring = 'accuracy',\n",
    "                           cv = 10, \n",
    "                           n_jobs = -1)\n",
    "grid_search = grid_search.fit(X_train, y_train)\n",
    "best_accuracy = grid_search.best_score_\n",
    "best_parameters = grid_search.best_params_\"\"\""
   ]
  },
  {
   "cell_type": "code",
   "execution_count": null,
   "metadata": {},
   "outputs": [],
   "source": [
    "###########Testing set################"
   ]
  },
  {
   "cell_type": "code",
   "execution_count": null,
   "metadata": {},
   "outputs": [],
   "source": [
    "\n",
    "# Fitting Kernel SVM to the Validation set\n",
    "from sklearn.svm import SVC\n",
    "classifier = SVC(kernel = 'linear', C = 1, gamma = 0.0001, random_state = 0)\n",
    "classifier.fit(X_train, y_train)\n"
   ]
  },
  {
   "cell_type": "code",
   "execution_count": null,
   "metadata": {},
   "outputs": [],
   "source": [
    "\n",
    "# Predicting the Test set results\n",
    "y_pred = classifier.predict(X_test)"
   ]
  },
  {
   "cell_type": "code",
   "execution_count": null,
   "metadata": {},
   "outputs": [],
   "source": [
    "# Making the Confusion Matrix\n",
    "import matplotlib.pyplot as plt\n",
    "from sklearn import svm, datasets\n",
    "from sklearn.metrics import confusion_matrix\n",
    "cm = confusion_matrix(y_test, y_pred)\n",
    "accuracy = ((cm[0][0]+cm[1][1]) / cm.sum())\n",
    "# np.set_printoptions(precision=2)\n",
    "print('Confusion Matrix, without normalization')\n",
    "print(cm)\n",
    "plt.figure(figsize = (10,7))\n",
    "plt.matshow(cm)"
   ]
  },
  {
   "cell_type": "code",
   "execution_count": null,
   "metadata": {},
   "outputs": [],
   "source": [
    "# Normalize the confusion matrix by row (i.e. by the number of samples in each class)\n",
    "cm_normalized = cm.astype('float') / cm.sum(axis=1) [:, np.newaxis]\n",
    "print('Normalized confusion matrix')\n",
    "print(cm_normalized)\n",
    "plt.figure()\n",
    "plt.matshow(cm_normalized)\n"
   ]
  },
  {
   "cell_type": "code",
   "execution_count": null,
   "metadata": {},
   "outputs": [],
   "source": [
    "# Classification Report\n",
    "from sklearn.metrics import classification_report\n",
    "print(classification_report(y_test, y_pred))"
   ]
  },
  {
   "cell_type": "code",
   "execution_count": null,
   "metadata": {},
   "outputs": [],
   "source": [
    "\n",
    "# Matthews Correlation Coefficient Calculation #\n",
    "from sklearn.metrics import matthews_corrcoef\n",
    "matthews_corrcoef(y_test, y_pred)"
   ]
  },
  {
   "cell_type": "code",
   "execution_count": null,
   "metadata": {},
   "outputs": [],
   "source": []
  }
 ],
 "metadata": {
  "kernelspec": {
   "display_name": "Python 3",
   "language": "python",
   "name": "python3"
  },
  "language_info": {
   "codemirror_mode": {
    "name": "ipython",
    "version": 3
   },
   "file_extension": ".py",
   "mimetype": "text/x-python",
   "name": "python",
   "nbconvert_exporter": "python",
   "pygments_lexer": "ipython3",
   "version": "3.7.1"
  }
 },
 "nbformat": 4,
 "nbformat_minor": 2
}
