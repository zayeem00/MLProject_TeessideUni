{
 "cells": [
  {
   "cell_type": "code",
   "execution_count": 1,
   "metadata": {},
   "outputs": [],
   "source": [
    "import pandas as pd\n",
    "import os\n",
    "import numpy as np"
   ]
  },
  {
   "cell_type": "code",
   "execution_count": 2,
   "metadata": {},
   "outputs": [],
   "source": [
    "os.chdir('C:\\\\RESEARCH\\\\LUSC\\\\Stage')"
   ]
  },
  {
   "cell_type": "code",
   "execution_count": 34,
   "metadata": {},
   "outputs": [],
   "source": [
    "genes=pd.read_excel('LUSC_Genes_Stage.xlsx',index_col=0)"
   ]
  },
  {
   "cell_type": "code",
   "execution_count": 36,
   "metadata": {},
   "outputs": [],
   "source": [
    "flux=pd.read_excel('LUSC_Flux_Stage.xlsx',index_col=0)"
   ]
  },
  {
   "cell_type": "code",
   "execution_count": 38,
   "metadata": {},
   "outputs": [
    {
     "data": {
      "text/html": [
       "<div>\n",
       "<style scoped>\n",
       "    .dataframe tbody tr th:only-of-type {\n",
       "        vertical-align: middle;\n",
       "    }\n",
       "\n",
       "    .dataframe tbody tr th {\n",
       "        vertical-align: top;\n",
       "    }\n",
       "\n",
       "    .dataframe thead th {\n",
       "        text-align: right;\n",
       "    }\n",
       "</style>\n",
       "<table border=\"1\" class=\"dataframe\">\n",
       "  <thead>\n",
       "    <tr style=\"text-align: right;\">\n",
       "      <th></th>\n",
       "      <th>UBE2Q2P2</th>\n",
       "      <th>SSX9</th>\n",
       "      <th>CXORF67</th>\n",
       "      <th>EFCAB8</th>\n",
       "      <th>SDR16C6P</th>\n",
       "      <th>EFCAB12</th>\n",
       "      <th>A1BG</th>\n",
       "      <th>A1CF</th>\n",
       "      <th>RBFOX1</th>\n",
       "      <th>GGACT</th>\n",
       "      <th>...</th>\n",
       "      <th>SLFN12</th>\n",
       "      <th>SLFN13</th>\n",
       "      <th>SLFN14</th>\n",
       "      <th>SLFN5</th>\n",
       "      <th>SLFNL1</th>\n",
       "      <th>SLIT1</th>\n",
       "      <th>SLIT2</th>\n",
       "      <th>SLIT3</th>\n",
       "      <th>SLITRK1</th>\n",
       "      <th>Neoplasm Disease Stage American Joint Committee on Cancer Code3</th>\n",
       "    </tr>\n",
       "    <tr>\n",
       "      <th>Hugo_Symbol</th>\n",
       "      <th></th>\n",
       "      <th></th>\n",
       "      <th></th>\n",
       "      <th></th>\n",
       "      <th></th>\n",
       "      <th></th>\n",
       "      <th></th>\n",
       "      <th></th>\n",
       "      <th></th>\n",
       "      <th></th>\n",
       "      <th></th>\n",
       "      <th></th>\n",
       "      <th></th>\n",
       "      <th></th>\n",
       "      <th></th>\n",
       "      <th></th>\n",
       "      <th></th>\n",
       "      <th></th>\n",
       "      <th></th>\n",
       "      <th></th>\n",
       "      <th></th>\n",
       "    </tr>\n",
       "  </thead>\n",
       "  <tbody>\n",
       "    <tr>\n",
       "      <th>TCGA-18-3406-01</th>\n",
       "      <td>0.6275</td>\n",
       "      <td>-0.0763</td>\n",
       "      <td>-0.1111</td>\n",
       "      <td>-0.0210</td>\n",
       "      <td>-0.2073</td>\n",
       "      <td>-0.2939</td>\n",
       "      <td>6.0843</td>\n",
       "      <td>-0.1684</td>\n",
       "      <td>-0.1354</td>\n",
       "      <td>1.6552</td>\n",
       "      <td>...</td>\n",
       "      <td>0.3141</td>\n",
       "      <td>0.7349</td>\n",
       "      <td>-0.6499</td>\n",
       "      <td>1.8195</td>\n",
       "      <td>-0.9816</td>\n",
       "      <td>-0.1401</td>\n",
       "      <td>-0.5147</td>\n",
       "      <td>-0.5814</td>\n",
       "      <td>-0.2205</td>\n",
       "      <td>Stage IA</td>\n",
       "    </tr>\n",
       "    <tr>\n",
       "      <th>TCGA-18-3407-01</th>\n",
       "      <td>-0.8280</td>\n",
       "      <td>-0.0763</td>\n",
       "      <td>-0.1111</td>\n",
       "      <td>-0.2912</td>\n",
       "      <td>-0.2073</td>\n",
       "      <td>-0.2723</td>\n",
       "      <td>-0.7020</td>\n",
       "      <td>0.3242</td>\n",
       "      <td>-0.1354</td>\n",
       "      <td>0.4132</td>\n",
       "      <td>...</td>\n",
       "      <td>0.0783</td>\n",
       "      <td>-0.4010</td>\n",
       "      <td>-0.1467</td>\n",
       "      <td>1.5143</td>\n",
       "      <td>-0.1113</td>\n",
       "      <td>-0.2146</td>\n",
       "      <td>-0.3133</td>\n",
       "      <td>-0.4178</td>\n",
       "      <td>-0.2303</td>\n",
       "      <td>Stage IB</td>\n",
       "    </tr>\n",
       "  </tbody>\n",
       "</table>\n",
       "<p>2 rows × 14838 columns</p>\n",
       "</div>"
      ],
      "text/plain": [
       "                 UBE2Q2P2    SSX9  CXORF67  EFCAB8  SDR16C6P  EFCAB12    A1BG  \\\n",
       "Hugo_Symbol                                                                     \n",
       "TCGA-18-3406-01    0.6275 -0.0763  -0.1111 -0.0210   -0.2073  -0.2939  6.0843   \n",
       "TCGA-18-3407-01   -0.8280 -0.0763  -0.1111 -0.2912   -0.2073  -0.2723 -0.7020   \n",
       "\n",
       "                   A1CF  RBFOX1   GGACT  \\\n",
       "Hugo_Symbol                               \n",
       "TCGA-18-3406-01 -0.1684 -0.1354  1.6552   \n",
       "TCGA-18-3407-01  0.3242 -0.1354  0.4132   \n",
       "\n",
       "                                              ...                                 \\\n",
       "Hugo_Symbol                                   ...                                  \n",
       "TCGA-18-3406-01                               ...                                  \n",
       "TCGA-18-3407-01                               ...                                  \n",
       "\n",
       "                 SLFN12  SLFN13  SLFN14   SLFN5  SLFNL1   SLIT1   SLIT2  \\\n",
       "Hugo_Symbol                                                               \n",
       "TCGA-18-3406-01  0.3141  0.7349 -0.6499  1.8195 -0.9816 -0.1401 -0.5147   \n",
       "TCGA-18-3407-01  0.0783 -0.4010 -0.1467  1.5143 -0.1113 -0.2146 -0.3133   \n",
       "\n",
       "                  SLIT3  SLITRK1  \\\n",
       "Hugo_Symbol                        \n",
       "TCGA-18-3406-01 -0.5814  -0.2205   \n",
       "TCGA-18-3407-01 -0.4178  -0.2303   \n",
       "\n",
       "                 Neoplasm Disease Stage American Joint Committee on Cancer Code3  \n",
       "Hugo_Symbol                                                                       \n",
       "TCGA-18-3406-01                                           Stage IA                \n",
       "TCGA-18-3407-01                                           Stage IB                \n",
       "\n",
       "[2 rows x 14838 columns]"
      ]
     },
     "execution_count": 38,
     "metadata": {},
     "output_type": "execute_result"
    }
   ],
   "source": [
    "genes.head(2)"
   ]
  },
  {
   "cell_type": "code",
   "execution_count": 39,
   "metadata": {},
   "outputs": [],
   "source": [
    "del genes['Neoplasm Disease Stage American Joint Committee on Cancer Code3']"
   ]
  },
  {
   "cell_type": "code",
   "execution_count": 40,
   "metadata": {},
   "outputs": [
    {
     "data": {
      "text/plain": [
       "(501, 14837)"
      ]
     },
     "execution_count": 40,
     "metadata": {},
     "output_type": "execute_result"
    }
   ],
   "source": [
    "genes.shape"
   ]
  },
  {
   "cell_type": "code",
   "execution_count": 41,
   "metadata": {},
   "outputs": [
    {
     "data": {
      "text/plain": [
       "(501, 2051)"
      ]
     },
     "execution_count": 41,
     "metadata": {},
     "output_type": "execute_result"
    }
   ],
   "source": [
    "flux.shape"
   ]
  },
  {
   "cell_type": "code",
   "execution_count": 42,
   "metadata": {},
   "outputs": [],
   "source": [
    "g_f=genes.merge(flux,left_index=True,right_index=True)"
   ]
  },
  {
   "cell_type": "code",
   "execution_count": 43,
   "metadata": {},
   "outputs": [
    {
     "data": {
      "text/plain": [
       "(501, 16888)"
      ]
     },
     "execution_count": 43,
     "metadata": {},
     "output_type": "execute_result"
    }
   ],
   "source": [
    "g_f.shape"
   ]
  },
  {
   "cell_type": "code",
   "execution_count": 44,
   "metadata": {},
   "outputs": [],
   "source": [
    "dt=g_f"
   ]
  },
  {
   "cell_type": "code",
   "execution_count": 45,
   "metadata": {},
   "outputs": [
    {
     "data": {
      "text/html": [
       "<div>\n",
       "<style scoped>\n",
       "    .dataframe tbody tr th:only-of-type {\n",
       "        vertical-align: middle;\n",
       "    }\n",
       "\n",
       "    .dataframe tbody tr th {\n",
       "        vertical-align: top;\n",
       "    }\n",
       "\n",
       "    .dataframe thead th {\n",
       "        text-align: right;\n",
       "    }\n",
       "</style>\n",
       "<table border=\"1\" class=\"dataframe\">\n",
       "  <thead>\n",
       "    <tr style=\"text-align: right;\">\n",
       "      <th></th>\n",
       "      <th>UBE2Q2P2</th>\n",
       "      <th>SSX9</th>\n",
       "      <th>CXORF67</th>\n",
       "      <th>EFCAB8</th>\n",
       "      <th>SDR16C6P</th>\n",
       "      <th>EFCAB12</th>\n",
       "      <th>A1BG</th>\n",
       "      <th>A1CF</th>\n",
       "      <th>RBFOX1</th>\n",
       "      <th>GGACT</th>\n",
       "      <th>...</th>\n",
       "      <th>'13HTACRitr'</th>\n",
       "      <th>'1513TACRitr'</th>\n",
       "      <th>'1531TACRitr'</th>\n",
       "      <th>'DEOXFVSitx'</th>\n",
       "      <th>'FVSitx'</th>\n",
       "      <th>'TACRitr'</th>\n",
       "      <th>'13DMTitr'</th>\n",
       "      <th>'15DMTitr'</th>\n",
       "      <th>'31DMTitr'</th>\n",
       "      <th>Neoplasm Disease Stage American Joint Committee on Cancer Code3</th>\n",
       "    </tr>\n",
       "    <tr>\n",
       "      <th>Hugo_Symbol</th>\n",
       "      <th></th>\n",
       "      <th></th>\n",
       "      <th></th>\n",
       "      <th></th>\n",
       "      <th></th>\n",
       "      <th></th>\n",
       "      <th></th>\n",
       "      <th></th>\n",
       "      <th></th>\n",
       "      <th></th>\n",
       "      <th></th>\n",
       "      <th></th>\n",
       "      <th></th>\n",
       "      <th></th>\n",
       "      <th></th>\n",
       "      <th></th>\n",
       "      <th></th>\n",
       "      <th></th>\n",
       "      <th></th>\n",
       "      <th></th>\n",
       "      <th></th>\n",
       "    </tr>\n",
       "  </thead>\n",
       "  <tbody>\n",
       "    <tr>\n",
       "      <th>TCGA-18-3406-01</th>\n",
       "      <td>0.6275</td>\n",
       "      <td>-0.0763</td>\n",
       "      <td>-0.1111</td>\n",
       "      <td>-0.0210</td>\n",
       "      <td>-0.2073</td>\n",
       "      <td>-0.2939</td>\n",
       "      <td>6.0843</td>\n",
       "      <td>-0.1684</td>\n",
       "      <td>-0.1354</td>\n",
       "      <td>1.6552</td>\n",
       "      <td>...</td>\n",
       "      <td>23.456765</td>\n",
       "      <td>23.456765</td>\n",
       "      <td>23.456765</td>\n",
       "      <td>-315.830928</td>\n",
       "      <td>315.830928</td>\n",
       "      <td>41.782363</td>\n",
       "      <td>-9.529311</td>\n",
       "      <td>-9.529311</td>\n",
       "      <td>-9.529311</td>\n",
       "      <td>Stage IA</td>\n",
       "    </tr>\n",
       "    <tr>\n",
       "      <th>TCGA-18-3407-01</th>\n",
       "      <td>-0.8280</td>\n",
       "      <td>-0.0763</td>\n",
       "      <td>-0.1111</td>\n",
       "      <td>-0.2912</td>\n",
       "      <td>-0.2073</td>\n",
       "      <td>-0.2723</td>\n",
       "      <td>-0.7020</td>\n",
       "      <td>0.3242</td>\n",
       "      <td>-0.1354</td>\n",
       "      <td>0.4132</td>\n",
       "      <td>...</td>\n",
       "      <td>18.649305</td>\n",
       "      <td>18.649305</td>\n",
       "      <td>18.649305</td>\n",
       "      <td>-262.245016</td>\n",
       "      <td>262.245016</td>\n",
       "      <td>33.219075</td>\n",
       "      <td>-7.576280</td>\n",
       "      <td>-7.576280</td>\n",
       "      <td>-7.576280</td>\n",
       "      <td>Stage IB</td>\n",
       "    </tr>\n",
       "  </tbody>\n",
       "</table>\n",
       "<p>2 rows × 16888 columns</p>\n",
       "</div>"
      ],
      "text/plain": [
       "                 UBE2Q2P2    SSX9  CXORF67  EFCAB8  SDR16C6P  EFCAB12    A1BG  \\\n",
       "Hugo_Symbol                                                                     \n",
       "TCGA-18-3406-01    0.6275 -0.0763  -0.1111 -0.0210   -0.2073  -0.2939  6.0843   \n",
       "TCGA-18-3407-01   -0.8280 -0.0763  -0.1111 -0.2912   -0.2073  -0.2723 -0.7020   \n",
       "\n",
       "                   A1CF  RBFOX1   GGACT  \\\n",
       "Hugo_Symbol                               \n",
       "TCGA-18-3406-01 -0.1684 -0.1354  1.6552   \n",
       "TCGA-18-3407-01  0.3242 -0.1354  0.4132   \n",
       "\n",
       "                                              ...                                 \\\n",
       "Hugo_Symbol                                   ...                                  \n",
       "TCGA-18-3406-01                               ...                                  \n",
       "TCGA-18-3407-01                               ...                                  \n",
       "\n",
       "                 '13HTACRitr'  '1513TACRitr'  '1531TACRitr'  'DEOXFVSitx'  \\\n",
       "Hugo_Symbol                                                                 \n",
       "TCGA-18-3406-01     23.456765      23.456765      23.456765   -315.830928   \n",
       "TCGA-18-3407-01     18.649305      18.649305      18.649305   -262.245016   \n",
       "\n",
       "                   'FVSitx'  'TACRitr'  '13DMTitr'  '15DMTitr'  '31DMTitr'  \\\n",
       "Hugo_Symbol                                                                  \n",
       "TCGA-18-3406-01  315.830928  41.782363   -9.529311   -9.529311   -9.529311   \n",
       "TCGA-18-3407-01  262.245016  33.219075   -7.576280   -7.576280   -7.576280   \n",
       "\n",
       "                 Neoplasm Disease Stage American Joint Committee on Cancer Code3  \n",
       "Hugo_Symbol                                                                       \n",
       "TCGA-18-3406-01                                           Stage IA                \n",
       "TCGA-18-3407-01                                           Stage IB                \n",
       "\n",
       "[2 rows x 16888 columns]"
      ]
     },
     "execution_count": 45,
     "metadata": {},
     "output_type": "execute_result"
    }
   ],
   "source": [
    "dt.head(2)"
   ]
  },
  {
   "cell_type": "code",
   "execution_count": 46,
   "metadata": {},
   "outputs": [],
   "source": [
    "X=dt.iloc[:,0:16886].values\n",
    "y=dt.iloc[:,-1].values"
   ]
  },
  {
   "cell_type": "code",
   "execution_count": 47,
   "metadata": {},
   "outputs": [
    {
     "data": {
      "text/plain": [
       "array(['Stage IA', 'Stage IB', 'Stage IB', 'Stage IA', 'Stage IIB',\n",
       "       'Stage IIIA', 'Stage IB', 'Stage IV', 'Stage IB', 'Stage IIB',\n",
       "       'Stage IV', 'Stage IIB', 'Stage IB', 'Stage IIB', 'Stage IB',\n",
       "       'Stage IA', 'Stage IIB', 'Stage IB', 'Stage IIIA', 'Stage IB',\n",
       "       'Stage IB', 'Stage IIB', 'Stage IB', 'Stage IIB', 'Stage IB',\n",
       "       'Stage IIIA', 'Stage IB', 'Stage IIB', 'Stage IB', 'Stage IA',\n",
       "       'Stage IB', 'Stage IB', 'Stage IB', 'Stage IB', 'Stage IIIA',\n",
       "       'Stage IA', 'Stage IIA', 'Stage IB', 'Stage IB', 'Stage IA',\n",
       "       'Stage IA', 'Stage IB', 'Stage IB', 'Stage IB', 'Stage IA',\n",
       "       'Stage IIIA', 'Stage IIA', 'Stage IIIA', 'Stage IIIA', 'Stage IB',\n",
       "       'Stage IB', 'Stage IIIA', 'Stage IIA', 'Stage IB', 'Stage IB',\n",
       "       'Stage IA', 'Stage IA', 'Stage IB', 'Stage IB', 'Stage IB',\n",
       "       'Stage IB', 'Stage IA', 'Stage IB', 'Stage IB', 'Stage IA',\n",
       "       'Stage IIB', 'Stage IB', 'Stage IIA', 'Stage IA', 'Stage IA',\n",
       "       'Stage IA', 'Stage IIIA', 'Stage IIA', 'Stage IB', 'Stage IB',\n",
       "       'Stage IIIA', 'Stage IB', 'Stage IB', 'Stage IA', 'Stage IA',\n",
       "       'Stage IIIA', 'Stage IB', 'Stage IIB', 'Stage IIIA', 'Stage IIIA',\n",
       "       'Stage IB', 'Stage IIA', 'Stage IA', 'Stage IB', 'Stage IA',\n",
       "       'Stage IIB', 'Stage IB', 'Stage IA', 'Stage IIB', 'Stage IA',\n",
       "       'Stage IB', 'Stage IA', 'Stage IIA', 'Stage IA', 'Stage IIB',\n",
       "       'Stage IIIA', 'Stage IIB', 'Stage IB', 'Stage IA', 'Stage IIB',\n",
       "       'Stage IB', 'Stage II', 'Stage IIIA', 'Stage IV', 'Stage IIA',\n",
       "       'Stage IIB', 'Stage IIIA', 'Stage IB', 'Stage IB', 'Stage IA',\n",
       "       'Stage IA', 'Stage IV', 'Stage IIIA', 'Stage IB', 'Stage IA',\n",
       "       'Stage IIIA', 'Stage IIB', 'Stage II', 'Stage IIIB', 'Stage IA',\n",
       "       'Stage IIA', 'Stage IB', 'Stage IB', 'Stage IB', 'Stage IIIA',\n",
       "       'Stage IB', 'Stage IIIA', 'Stage IIIA', 'Stage IIIA', 'Stage IA',\n",
       "       'Stage IIB', 'Stage IA', 'Stage IB', 'Stage IIA', 'Stage IIA',\n",
       "       'Stage IIIA', 'Stage IIIA', 'Stage IA', 'Stage IIIA', 'Stage IB',\n",
       "       'Stage IB', 'Stage IIA', 'Stage IIA', 'Stage IB', 'Stage IIB',\n",
       "       'Stage IB', 'Stage IB', 'Stage IIB', 'Stage IA', 'Stage IA',\n",
       "       'Stage IA', 'Stage IIA', 'Stage IA', 'Stage IA', 'Stage IIA',\n",
       "       'Stage IIB', 'Stage IA', 'Stage IIIA', 'Stage IA', 'Stage IA',\n",
       "       'Stage IA', 'Stage IIIA', 'Stage IB', 'Stage IIB', 'Stage IIB',\n",
       "       'Stage IB', 'Stage IIIB', 'Stage IIB', 'Stage I', 'Stage IA',\n",
       "       'Stage IB', 'Stage IIB', 'Stage IB', 'Stage IB', 'Stage IB',\n",
       "       'Stage IA', 'Stage IA', 'Stage IB', 'Stage IIA', 'Stage IB',\n",
       "       'Stage IB', 'Stage IIIA', 'Stage IIIA', 'Stage IB', 'Stage IB',\n",
       "       'Stage IIA', 'Stage IB', 'Stage IIB', 'Stage IIA', 'Stage IIA',\n",
       "       'Stage IB', 'Stage IIB', 'Stage IA', 'Stage IB', 'Stage IIB',\n",
       "       'Stage IIB', 'Stage IA', 'Stage IIB', 'Stage IB', 'Stage IB',\n",
       "       'Stage IB', 'Stage IIB', 'Stage IIIA', 'Stage IA', 'Stage IA',\n",
       "       'Stage IIA', 'Stage IIIA', 'Stage IIA', 'Stage IIA', 'Stage IB',\n",
       "       'Stage IA', 'Stage IB', 'Stage IA', 'Stage IB', 'Stage IIA',\n",
       "       'Stage IV', 'Stage IIA', 'Stage IB', 'Stage IIA', 'Stage IIIA',\n",
       "       'Stage IB', 'Stage IB', 'Stage IIB', 'Stage IIIA', 'Stage IIIA',\n",
       "       'Stage IIB', 'Stage IB', 'Stage IB', 'Stage IIA', 'Stage IIA',\n",
       "       'Stage IIB', 'Stage IIB', 'Stage IIB', 'Stage IA', 'Stage IB',\n",
       "       'Stage IIB', 'Stage IB', 'Stage IIA', 'Stage IB', 'Stage IIB',\n",
       "       'Stage IB', 'Stage IIB', 'Stage IA', 'Stage IIB', 'Stage IB',\n",
       "       'Stage IB', 'Stage IB', 'Stage IIB', 'Stage IB', 'Stage IIIA',\n",
       "       'Stage IB', 'Stage IIA', 'Stage IB', 'Stage IIB', 'Stage IIA',\n",
       "       'Stage IA', 'Stage IA', 'Stage IA', 'Stage IIA', 'Stage IIB',\n",
       "       'Stage IB', 'Stage IB', 'Stage IA', 'Stage IIIA', 'Stage IIB',\n",
       "       'Stage IB', 'Stage IIB', 'Stage IIB', 'Stage IIB', 'Stage IB',\n",
       "       'Stage IB', 'Stage IIB', 'Stage IIB', 'Stage IIA', 'Stage IB',\n",
       "       'Stage IA', 'Stage IB', 'Stage IB', 'Stage IIB', 'Stage IV',\n",
       "       'Stage IIB', 'Stage IB', 'Stage IIIA', 'Stage IB', 'Stage IIIB',\n",
       "       'Stage IA', 'Stage IB', 'Stage IIIA', 'Stage IB', 'Stage IB',\n",
       "       'Stage IIIA', 'Stage IIIB', 'Stage IIB', 'Stage IIIB', 'Stage IB',\n",
       "       'Stage IIB', 'Stage IB', 'Stage IB', 'Stage IIIB', 'Stage IB',\n",
       "       'Stage IB', 'Stage IIB', 'Stage IIIB', 'Stage IB', 'Stage IA',\n",
       "       'Stage IA', 'Stage IB', 'Stage IIIB', 'Stage IIB', 'Stage IIIB',\n",
       "       'Stage IIB', 'Stage IIIB', 'Stage IIIB', 'Stage IIIB',\n",
       "       'Stage IIIB', 'Stage IIA', 'Stage IIIA', 'Stage IA', 'Stage IA',\n",
       "       'Stage IB', 'Stage IIIA', 'Stage IB', 'Stage IB', 'Stage IIIA',\n",
       "       'Stage IIA', 'Stage IIB', 'Stage IIA', 'Stage IIIA', 'Stage IIB',\n",
       "       'Stage IB', 'Stage IIB', 'Stage IIB', 'Stage IB', 'Stage IB',\n",
       "       'Stage IIIB', 'Stage IIB', 'Stage IB', 'Stage IB', 'Stage IIA',\n",
       "       'Stage IIB', 'Stage IB', 'Stage IIB', 'Stage IIIA', 'Stage IIB',\n",
       "       'Stage IB', 'Stage IIA', 'Stage IIB', 'Stage IB', 'Stage IIB',\n",
       "       'Stage IIB', 'Stage IIIA', 'Stage IB', 'Stage IIIB', 'Stage IA',\n",
       "       'Stage IIIA', 'Stage IIIA', 'Stage IB', 'Stage IA', 'Stage IB',\n",
       "       'Stage IIIB', 'Stage IIIA', 'Stage IIB', 'Stage IIIA', 'Stage IA',\n",
       "       'Stage IIB', 'Stage IB', 'Stage IB', 'Stage IIA', 'Stage IB',\n",
       "       'Stage IIIA', 'Stage IIB', 'Stage IIA', 'Stage IB', 'Stage IIIA',\n",
       "       'Stage IA', 'Stage IIB', 'Stage IA', 'Stage IIIA', 'Stage IA',\n",
       "       'Stage IIA', 'Stage IB', 'Stage IB', 'Stage IA', 'Stage IB',\n",
       "       'Stage IIB', 'Stage IB', 'Stage IIA', 'Stage IA', 'Stage IIA',\n",
       "       'Stage IIIA', 'Stage IA', 'Stage IIA', 'Stage IA', 'Stage IIA',\n",
       "       'Stage IIIA', 'Stage IIIA', 'Stage IB', 'Stage IA', 'Stage IA',\n",
       "       'Stage IIB', 'Stage IB', 'Stage IA', 'Stage IIA', 'Stage IIB',\n",
       "       'Stage IB', 'Stage IA', 'Stage IIB', 'Stage IIB', 'Stage IIA',\n",
       "       'Stage IB', 'Stage IB', 'Stage IB', 'Stage IIA', 'Stage IIA',\n",
       "       'Stage IIB', 'Stage IIB', 'Stage IIA', 'Stage IA', 'Stage IIA',\n",
       "       'Stage IA', 'Stage IIB', 'Stage IA', 'Stage IIB', 'Stage IIB',\n",
       "       'Stage IB', 'Stage IB', 'Stage IIA', 'Stage IIA', 'Stage IIA',\n",
       "       'Stage IB', 'Stage IIIA', 'Stage IB', 'Stage IIB', 'Stage IB',\n",
       "       'Stage IB', 'Stage IA', 'Stage IIB', 'Stage IIB', 'Stage IIA',\n",
       "       'Stage IA', 'Stage IIA', 'Stage IIB', 'Stage IIB', 'Stage IA',\n",
       "       'Stage IA', 'Stage IIA', 'Stage IIA', 'Stage IIA', 'Stage IB',\n",
       "       'Stage IIIA', 'Stage IA', 'Stage IA', 'Stage IIIA', 'Stage IIB',\n",
       "       'Stage IIB', 'Stage IB', 'Stage IB', 'Stage IA', 'Stage IIB',\n",
       "       'Stage IA', 'Stage IIA', 'Stage IB', 'Stage IIA', 'Stage IB',\n",
       "       'Stage IIB', 'Stage IA', 'Stage IIIA', 'Stage IB', 'Stage IIB',\n",
       "       'Stage IIB', 'Stage IIIB', 'Stage IIIA', 'Stage IA', 'Stage IB',\n",
       "       'Stage IIB', 'Stage IIB', 'Stage IIA', 'Stage IB', 'Stage IIA',\n",
       "       'Stage IIIA', 'Stage IV', 'Stage IIIA', 'Stage IIA', 'Stage IIIA',\n",
       "       'Stage IB', 'Stage IA', 'Stage IIA', 'Stage IIA', 'Stage IIIB',\n",
       "       'Stage I', 'Stage III', 'Stage III', 'Stage II', 'Stage I',\n",
       "       'Stage III', 'Stage IA'], dtype=object)"
      ]
     },
     "execution_count": 47,
     "metadata": {},
     "output_type": "execute_result"
    }
   ],
   "source": [
    "y"
   ]
  },
  {
   "cell_type": "code",
   "execution_count": 48,
   "metadata": {},
   "outputs": [],
   "source": [
    "# Encoding categorical data\n",
    "from sklearn.preprocessing import LabelEncoder\n",
    "labelEncoder_y = LabelEncoder()\n",
    "y = labelEncoder_y.fit_transform(y.astype(str))\n"
   ]
  },
  {
   "cell_type": "code",
   "execution_count": 49,
   "metadata": {},
   "outputs": [
    {
     "data": {
      "text/plain": [
       "array([1, 2, 2, 1, 5, 7, 2, 9, 2, 5, 9, 5, 2, 5, 2, 1, 5, 2, 7, 2, 2, 5,\n",
       "       2, 5, 2, 7, 2, 5, 2, 1, 2, 2, 2, 2, 7, 1, 4, 2, 2, 1, 1, 2, 2, 2,\n",
       "       1, 7, 4, 7, 7, 2, 2, 7, 4, 2, 2, 1, 1, 2, 2, 2, 2, 1, 2, 2, 1, 5,\n",
       "       2, 4, 1, 1, 1, 7, 4, 2, 2, 7, 2, 2, 1, 1, 7, 2, 5, 7, 7, 2, 4, 1,\n",
       "       2, 1, 5, 2, 1, 5, 1, 2, 1, 4, 1, 5, 7, 5, 2, 1, 5, 2, 3, 7, 9, 4,\n",
       "       5, 7, 2, 2, 1, 1, 9, 7, 2, 1, 7, 5, 3, 8, 1, 4, 2, 2, 2, 7, 2, 7,\n",
       "       7, 7, 1, 5, 1, 2, 4, 4, 7, 7, 1, 7, 2, 2, 4, 4, 2, 5, 2, 2, 5, 1,\n",
       "       1, 1, 4, 1, 1, 4, 5, 1, 7, 1, 1, 1, 7, 2, 5, 5, 2, 8, 5, 0, 1, 2,\n",
       "       5, 2, 2, 2, 1, 1, 2, 4, 2, 2, 7, 7, 2, 2, 4, 2, 5, 4, 4, 2, 5, 1,\n",
       "       2, 5, 5, 1, 5, 2, 2, 2, 5, 7, 1, 1, 4, 7, 4, 4, 2, 1, 2, 1, 2, 4,\n",
       "       9, 4, 2, 4, 7, 2, 2, 5, 7, 7, 5, 2, 2, 4, 4, 5, 5, 5, 1, 2, 5, 2,\n",
       "       4, 2, 5, 2, 5, 1, 5, 2, 2, 2, 5, 2, 7, 2, 4, 2, 5, 4, 1, 1, 1, 4,\n",
       "       5, 2, 2, 1, 7, 5, 2, 5, 5, 5, 2, 2, 5, 5, 4, 2, 1, 2, 2, 5, 9, 5,\n",
       "       2, 7, 2, 8, 1, 2, 7, 2, 2, 7, 8, 5, 8, 2, 5, 2, 2, 8, 2, 2, 5, 8,\n",
       "       2, 1, 1, 2, 8, 5, 8, 5, 8, 8, 8, 8, 4, 7, 1, 1, 2, 7, 2, 2, 7, 4,\n",
       "       5, 4, 7, 5, 2, 5, 5, 2, 2, 8, 5, 2, 2, 4, 5, 2, 5, 7, 5, 2, 4, 5,\n",
       "       2, 5, 5, 7, 2, 8, 1, 7, 7, 2, 1, 2, 8, 7, 5, 7, 1, 5, 2, 2, 4, 2,\n",
       "       7, 5, 4, 2, 7, 1, 5, 1, 7, 1, 4, 2, 2, 1, 2, 5, 2, 4, 1, 4, 7, 1,\n",
       "       4, 1, 4, 7, 7, 2, 1, 1, 5, 2, 1, 4, 5, 2, 1, 5, 5, 4, 2, 2, 2, 4,\n",
       "       4, 5, 5, 4, 1, 4, 1, 5, 1, 5, 5, 2, 2, 4, 4, 4, 2, 7, 2, 5, 2, 2,\n",
       "       1, 5, 5, 4, 1, 4, 5, 5, 1, 1, 4, 4, 4, 2, 7, 1, 1, 7, 5, 5, 2, 2,\n",
       "       1, 5, 1, 4, 2, 4, 2, 5, 1, 7, 2, 5, 5, 8, 7, 1, 2, 5, 5, 4, 2, 4,\n",
       "       7, 9, 7, 4, 7, 2, 1, 4, 4, 8, 0, 6, 6, 3, 0, 6, 1], dtype=int64)"
      ]
     },
     "execution_count": 49,
     "metadata": {},
     "output_type": "execute_result"
    }
   ],
   "source": [
    "y"
   ]
  },
  {
   "cell_type": "code",
   "execution_count": 50,
   "metadata": {},
   "outputs": [],
   "source": [
    "# Splitting the dataset into the Training set and Test set\n",
    "from sklearn.model_selection import train_test_split\n",
    "X_train, X_test, y_train, y_test = train_test_split(X, y, test_size = 0.2, random_state = 0)\n",
    "\n",
    "X_train, X_val, y_train, y_val = train_test_split(X_train, y_train, test_size=0.2, random_state=0)\n"
   ]
  },
  {
   "cell_type": "code",
   "execution_count": 51,
   "metadata": {},
   "outputs": [],
   "source": [
    "# Feature Scaling\n",
    "from sklearn.preprocessing import StandardScaler\n",
    "sc = StandardScaler()\n",
    "X_train = sc.fit_transform(X_train)\n",
    "X_val = sc.fit_transform(X_val)\n",
    "X_test = sc.transform(X_test)"
   ]
  },
  {
   "cell_type": "code",
   "execution_count": 52,
   "metadata": {},
   "outputs": [],
   "source": [
    "from sklearn.ensemble import AdaBoostClassifier\n",
    "# Fitting Gradient Boosting  Classification to the Validation set\n",
    "classifier = AdaBoostClassifier()\n",
    "classifier = AdaBoostClassifier(base_estimator=None, n_estimators=50, learning_rate=1.0, algorithm='SAMME.R', random_state=None)\n",
    "classifier = AdaBoostClassifier(algorithm='SAMME', n_estimators=50, learning_rate=1.0, random_state=0).fit(X_train, y_train)\n"
   ]
  },
  {
   "cell_type": "code",
   "execution_count": 53,
   "metadata": {},
   "outputs": [],
   "source": [
    "\n",
    "# Predicting the Validation set results\n",
    "y_val_pred = classifier.predict(X_val)"
   ]
  },
  {
   "cell_type": "code",
   "execution_count": 54,
   "metadata": {},
   "outputs": [
    {
     "data": {
      "text/plain": [
       "0.2"
      ]
     },
     "execution_count": 54,
     "metadata": {},
     "output_type": "execute_result"
    }
   ],
   "source": [
    "# Making the Confusion Matrix\n",
    "import matplotlib.pyplot as plt\n",
    "from sklearn import svm, datasets\n",
    "from sklearn.metrics import confusion_matrix\n",
    "cm = confusion_matrix(y_val, y_val_pred)\n",
    "accuracy = ((cm[0][0]+cm[1][1]+cm[2][2]+cm[3][3]+cm[4][4]+cm[5][5]+cm[6][6]+cm[7][7]+cm[8][8]) / cm.sum())\n",
    "accuracy"
   ]
  },
  {
   "cell_type": "code",
   "execution_count": 55,
   "metadata": {},
   "outputs": [
    {
     "name": "stdout",
     "output_type": "stream",
     "text": [
      "Confusion Matrix, without normalization\n",
      "[[0 0 1 0 0 0 0 0 0]\n",
      " [0 4 4 1 3 0 0 0 0]\n",
      " [0 4 8 3 7 0 1 0 0]\n",
      " [0 2 4 1 4 0 0 0 0]\n",
      " [0 3 8 1 3 0 1 0 0]\n",
      " [0 0 1 0 0 0 0 0 0]\n",
      " [0 2 6 2 1 0 0 0 0]\n",
      " [0 0 1 1 0 0 1 0 0]\n",
      " [0 1 1 0 0 0 0 0 0]]\n"
     ]
    },
    {
     "data": {
      "text/plain": [
       "<matplotlib.image.AxesImage at 0x248ef9547b8>"
      ]
     },
     "execution_count": 55,
     "metadata": {},
     "output_type": "execute_result"
    },
    {
     "data": {
      "text/plain": [
       "<Figure size 720x504 with 0 Axes>"
      ]
     },
     "metadata": {},
     "output_type": "display_data"
    },
    {
     "data": {
      "image/png": "[encoded data removed]",
      "text/plain": [
       "<Figure size 288x288 with 1 Axes>"
      ]
     },
     "metadata": {
      "needs_background": "light"
     },
     "output_type": "display_data"
    }
   ],
   "source": [
    "# np.set_printoptions(precision=2)\n",
    "print('Confusion Matrix, without normalization')\n",
    "print(cm)\n",
    "plt.figure(figsize = (10,7))\n",
    "plt.matshow(cm)\n"
   ]
  },
  {
   "cell_type": "code",
   "execution_count": 56,
   "metadata": {},
   "outputs": [
    {
     "name": "stdout",
     "output_type": "stream",
     "text": [
      "Normalized confusion matrix\n",
      "[[0.         0.         1.         0.         0.         0.\n",
      "  0.         0.         0.        ]\n",
      " [0.         0.33333333 0.33333333 0.08333333 0.25       0.\n",
      "  0.         0.         0.        ]\n",
      " [0.         0.17391304 0.34782609 0.13043478 0.30434783 0.\n",
      "  0.04347826 0.         0.        ]\n",
      " [0.         0.18181818 0.36363636 0.09090909 0.36363636 0.\n",
      "  0.         0.         0.        ]\n",
      " [0.         0.1875     0.5        0.0625     0.1875     0.\n",
      "  0.0625     0.         0.        ]\n",
      " [0.         0.         1.         0.         0.         0.\n",
      "  0.         0.         0.        ]\n",
      " [0.         0.18181818 0.54545455 0.18181818 0.09090909 0.\n",
      "  0.         0.         0.        ]\n",
      " [0.         0.         0.33333333 0.33333333 0.         0.\n",
      "  0.33333333 0.         0.        ]\n",
      " [0.         0.5        0.5        0.         0.         0.\n",
      "  0.         0.         0.        ]]\n"
     ]
    },
    {
     "data": {
      "text/plain": [
       "<matplotlib.image.AxesImage at 0x248e86ed240>"
      ]
     },
     "execution_count": 56,
     "metadata": {},
     "output_type": "execute_result"
    },
    {
     "data": {
      "text/plain": [
       "<Figure size 432x288 with 0 Axes>"
      ]
     },
     "metadata": {},
     "output_type": "display_data"
    },
    {
     "data": {
      "image/png": "[encoded data removed]",
      "text/plain": [
       "<Figure size 288x288 with 1 Axes>"
      ]
     },
     "metadata": {
      "needs_background": "light"
     },
     "output_type": "display_data"
    }
   ],
   "source": [
    "# Normalize the confusion matrix by row (i.e. by the number of samples in each class)\n",
    "cm_normalized = cm.astype('float') / cm.sum(axis=1) [:, np.newaxis]\n",
    "print('Normalized confusion matrix')\n",
    "print(cm_normalized)\n",
    "plt.figure()\n",
    "plt.matshow(cm_normalized)"
   ]
  },
  {
   "cell_type": "code",
   "execution_count": 57,
   "metadata": {},
   "outputs": [
    {
     "name": "stdout",
     "output_type": "stream",
     "text": [
      "              precision    recall  f1-score   support\n",
      "\n",
      "           0       0.00      0.00      0.00         1\n",
      "           1       0.25      0.33      0.29        12\n",
      "           2       0.24      0.35      0.28        23\n",
      "           4       0.11      0.09      0.10        11\n",
      "           5       0.17      0.19      0.18        16\n",
      "           6       0.00      0.00      0.00         1\n",
      "           7       0.00      0.00      0.00        11\n",
      "           8       0.00      0.00      0.00         3\n",
      "           9       0.00      0.00      0.00         2\n",
      "\n",
      "   micro avg       0.20      0.20      0.20        80\n",
      "   macro avg       0.08      0.11      0.09        80\n",
      "weighted avg       0.15      0.20      0.17        80\n",
      "\n"
     ]
    },
    {
     "name": "stderr",
     "output_type": "stream",
     "text": [
      "C:\\Users\\Kanika Saini\\Anaconda3\\lib\\site-packages\\sklearn\\metrics\\classification.py:1143: UndefinedMetricWarning: Precision and F-score are ill-defined and being set to 0.0 in labels with no predicted samples.\n",
      "  'precision', 'predicted', average, warn_for)\n"
     ]
    }
   ],
   "source": [
    "# Classification Report\n",
    "from sklearn.metrics import classification_report\n",
    "print(classification_report(y_val, y_val_pred))"
   ]
  },
  {
   "cell_type": "code",
   "execution_count": 58,
   "metadata": {},
   "outputs": [
    {
     "data": {
      "text/plain": [
       "-0.023343784093699114"
      ]
     },
     "execution_count": 58,
     "metadata": {},
     "output_type": "execute_result"
    }
   ],
   "source": [
    "\n",
    "# Matthews Correlation Coefficient Calculation #\n",
    "from sklearn.metrics import matthews_corrcoef\n",
    "matthews_corrcoef(y_val, y_val_pred)"
   ]
  },
  {
   "cell_type": "code",
   "execution_count": 59,
   "metadata": {},
   "outputs": [
    {
     "name": "stderr",
     "output_type": "stream",
     "text": [
      "C:\\Users\\Kanika Saini\\Anaconda3\\lib\\site-packages\\sklearn\\model_selection\\_split.py:652: Warning: The least populated class in y has only 1 members, which is too few. The minimum number of members in any class cannot be less than n_splits=10.\n",
      "  % (min_groups, self.n_splits)), Warning)\n"
     ]
    },
    {
     "ename": "KeyboardInterrupt",
     "evalue": "",
     "output_type": "error",
     "traceback": [
      "\u001b[1;31m---------------------------------------------------------------------------\u001b[0m",
      "\u001b[1;31mKeyboardInterrupt\u001b[0m                         Traceback (most recent call last)",
      "\u001b[1;32m<ipython-input-59-71e5a0a64e74>\u001b[0m in \u001b[0;36m<module>\u001b[1;34m\u001b[0m\n\u001b[0;32m      1\u001b[0m \u001b[1;31m# Applying k-Fold Cross Validation\u001b[0m\u001b[1;33m\u001b[0m\u001b[1;33m\u001b[0m\u001b[1;33m\u001b[0m\u001b[0m\n\u001b[0;32m      2\u001b[0m \u001b[1;32mfrom\u001b[0m \u001b[0msklearn\u001b[0m\u001b[1;33m.\u001b[0m\u001b[0mmodel_selection\u001b[0m \u001b[1;32mimport\u001b[0m \u001b[0mcross_val_score\u001b[0m\u001b[1;33m\u001b[0m\u001b[1;33m\u001b[0m\u001b[0m\n\u001b[1;32m----> 3\u001b[1;33m \u001b[0maccuracies\u001b[0m \u001b[1;33m=\u001b[0m \u001b[0mcross_val_score\u001b[0m\u001b[1;33m(\u001b[0m\u001b[0mestimator\u001b[0m \u001b[1;33m=\u001b[0m \u001b[0mclassifier\u001b[0m\u001b[1;33m,\u001b[0m \u001b[0mX\u001b[0m \u001b[1;33m=\u001b[0m \u001b[0mX_train\u001b[0m\u001b[1;33m,\u001b[0m \u001b[0my\u001b[0m \u001b[1;33m=\u001b[0m \u001b[0my_train\u001b[0m\u001b[1;33m,\u001b[0m \u001b[0mcv\u001b[0m \u001b[1;33m=\u001b[0m \u001b[1;36m10\u001b[0m\u001b[1;33m)\u001b[0m\u001b[1;33m\u001b[0m\u001b[1;33m\u001b[0m\u001b[0m\n\u001b[0m\u001b[0;32m      4\u001b[0m \u001b[0maccuracies\u001b[0m\u001b[1;33m.\u001b[0m\u001b[0mmean\u001b[0m\u001b[1;33m(\u001b[0m\u001b[1;33m)\u001b[0m\u001b[1;33m\u001b[0m\u001b[1;33m\u001b[0m\u001b[0m\n",
      "\u001b[1;32m~\\Anaconda3\\lib\\site-packages\\sklearn\\model_selection\\_validation.py\u001b[0m in \u001b[0;36mcross_val_score\u001b[1;34m(estimator, X, y, groups, scoring, cv, n_jobs, verbose, fit_params, pre_dispatch, error_score)\u001b[0m\n\u001b[0;32m    400\u001b[0m                                 \u001b[0mfit_params\u001b[0m\u001b[1;33m=\u001b[0m\u001b[0mfit_params\u001b[0m\u001b[1;33m,\u001b[0m\u001b[1;33m\u001b[0m\u001b[1;33m\u001b[0m\u001b[0m\n\u001b[0;32m    401\u001b[0m                                 \u001b[0mpre_dispatch\u001b[0m\u001b[1;33m=\u001b[0m\u001b[0mpre_dispatch\u001b[0m\u001b[1;33m,\u001b[0m\u001b[1;33m\u001b[0m\u001b[1;33m\u001b[0m\u001b[0m\n\u001b[1;32m--> 402\u001b[1;33m                                 error_score=error_score)\n\u001b[0m\u001b[0;32m    403\u001b[0m     \u001b[1;32mreturn\u001b[0m \u001b[0mcv_results\u001b[0m\u001b[1;33m[\u001b[0m\u001b[1;34m'test_score'\u001b[0m\u001b[1;33m]\u001b[0m\u001b[1;33m\u001b[0m\u001b[1;33m\u001b[0m\u001b[0m\n\u001b[0;32m    404\u001b[0m \u001b[1;33m\u001b[0m\u001b[0m\n",
      "\u001b[1;32m~\\Anaconda3\\lib\\site-packages\\sklearn\\model_selection\\_validation.py\u001b[0m in \u001b[0;36mcross_validate\u001b[1;34m(estimator, X, y, groups, scoring, cv, n_jobs, verbose, fit_params, pre_dispatch, return_train_score, return_estimator, error_score)\u001b[0m\n\u001b[0;32m    238\u001b[0m             \u001b[0mreturn_times\u001b[0m\u001b[1;33m=\u001b[0m\u001b[1;32mTrue\u001b[0m\u001b[1;33m,\u001b[0m \u001b[0mreturn_estimator\u001b[0m\u001b[1;33m=\u001b[0m\u001b[0mreturn_estimator\u001b[0m\u001b[1;33m,\u001b[0m\u001b[1;33m\u001b[0m\u001b[1;33m\u001b[0m\u001b[0m\n\u001b[0;32m    239\u001b[0m             error_score=error_score)\n\u001b[1;32m--> 240\u001b[1;33m         for train, test in cv.split(X, y, groups))\n\u001b[0m\u001b[0;32m    241\u001b[0m \u001b[1;33m\u001b[0m\u001b[0m\n\u001b[0;32m    242\u001b[0m     \u001b[0mzipped_scores\u001b[0m \u001b[1;33m=\u001b[0m \u001b[0mlist\u001b[0m\u001b[1;33m(\u001b[0m\u001b[0mzip\u001b[0m\u001b[1;33m(\u001b[0m\u001b[1;33m*\u001b[0m\u001b[0mscores\u001b[0m\u001b[1;33m)\u001b[0m\u001b[1;33m)\u001b[0m\u001b[1;33m\u001b[0m\u001b[1;33m\u001b[0m\u001b[0m\n",
      "\u001b[1;32m~\\Anaconda3\\lib\\site-packages\\sklearn\\externals\\joblib\\parallel.py\u001b[0m in \u001b[0;36m__call__\u001b[1;34m(self, iterable)\u001b[0m\n\u001b[0;32m    918\u001b[0m                 \u001b[0mself\u001b[0m\u001b[1;33m.\u001b[0m\u001b[0m_iterating\u001b[0m \u001b[1;33m=\u001b[0m \u001b[0mself\u001b[0m\u001b[1;33m.\u001b[0m\u001b[0m_original_iterator\u001b[0m \u001b[1;32mis\u001b[0m \u001b[1;32mnot\u001b[0m \u001b[1;32mNone\u001b[0m\u001b[1;33m\u001b[0m\u001b[1;33m\u001b[0m\u001b[0m\n\u001b[0;32m    919\u001b[0m \u001b[1;33m\u001b[0m\u001b[0m\n\u001b[1;32m--> 920\u001b[1;33m             \u001b[1;32mwhile\u001b[0m \u001b[0mself\u001b[0m\u001b[1;33m.\u001b[0m\u001b[0mdispatch_one_batch\u001b[0m\u001b[1;33m(\u001b[0m\u001b[0miterator\u001b[0m\u001b[1;33m)\u001b[0m\u001b[1;33m:\u001b[0m\u001b[1;33m\u001b[0m\u001b[1;33m\u001b[0m\u001b[0m\n\u001b[0m\u001b[0;32m    921\u001b[0m                 \u001b[1;32mpass\u001b[0m\u001b[1;33m\u001b[0m\u001b[1;33m\u001b[0m\u001b[0m\n\u001b[0;32m    922\u001b[0m \u001b[1;33m\u001b[0m\u001b[0m\n",
      "\u001b[1;32m~\\Anaconda3\\lib\\site-packages\\sklearn\\externals\\joblib\\parallel.py\u001b[0m in \u001b[0;36mdispatch_one_batch\u001b[1;34m(self, iterator)\u001b[0m\n\u001b[0;32m    757\u001b[0m                 \u001b[1;32mreturn\u001b[0m \u001b[1;32mFalse\u001b[0m\u001b[1;33m\u001b[0m\u001b[1;33m\u001b[0m\u001b[0m\n\u001b[0;32m    758\u001b[0m             \u001b[1;32melse\u001b[0m\u001b[1;33m:\u001b[0m\u001b[1;33m\u001b[0m\u001b[1;33m\u001b[0m\u001b[0m\n\u001b[1;32m--> 759\u001b[1;33m                 \u001b[0mself\u001b[0m\u001b[1;33m.\u001b[0m\u001b[0m_dispatch\u001b[0m\u001b[1;33m(\u001b[0m\u001b[0mtasks\u001b[0m\u001b[1;33m)\u001b[0m\u001b[1;33m\u001b[0m\u001b[1;33m\u001b[0m\u001b[0m\n\u001b[0m\u001b[0;32m    760\u001b[0m                 \u001b[1;32mreturn\u001b[0m \u001b[1;32mTrue\u001b[0m\u001b[1;33m\u001b[0m\u001b[1;33m\u001b[0m\u001b[0m\n\u001b[0;32m    761\u001b[0m \u001b[1;33m\u001b[0m\u001b[0m\n",
      "\u001b[1;32m~\\Anaconda3\\lib\\site-packages\\sklearn\\externals\\joblib\\parallel.py\u001b[0m in \u001b[0;36m_dispatch\u001b[1;34m(self, batch)\u001b[0m\n\u001b[0;32m    714\u001b[0m         \u001b[1;32mwith\u001b[0m \u001b[0mself\u001b[0m\u001b[1;33m.\u001b[0m\u001b[0m_lock\u001b[0m\u001b[1;33m:\u001b[0m\u001b[1;33m\u001b[0m\u001b[1;33m\u001b[0m\u001b[0m\n\u001b[0;32m    715\u001b[0m             \u001b[0mjob_idx\u001b[0m \u001b[1;33m=\u001b[0m \u001b[0mlen\u001b[0m\u001b[1;33m(\u001b[0m\u001b[0mself\u001b[0m\u001b[1;33m.\u001b[0m\u001b[0m_jobs\u001b[0m\u001b[1;33m)\u001b[0m\u001b[1;33m\u001b[0m\u001b[1;33m\u001b[0m\u001b[0m\n\u001b[1;32m--> 716\u001b[1;33m             \u001b[0mjob\u001b[0m \u001b[1;33m=\u001b[0m \u001b[0mself\u001b[0m\u001b[1;33m.\u001b[0m\u001b[0m_backend\u001b[0m\u001b[1;33m.\u001b[0m\u001b[0mapply_async\u001b[0m\u001b[1;33m(\u001b[0m\u001b[0mbatch\u001b[0m\u001b[1;33m,\u001b[0m \u001b[0mcallback\u001b[0m\u001b[1;33m=\u001b[0m\u001b[0mcb\u001b[0m\u001b[1;33m)\u001b[0m\u001b[1;33m\u001b[0m\u001b[1;33m\u001b[0m\u001b[0m\n\u001b[0m\u001b[0;32m    717\u001b[0m             \u001b[1;31m# A job can complete so quickly than its callback is\u001b[0m\u001b[1;33m\u001b[0m\u001b[1;33m\u001b[0m\u001b[1;33m\u001b[0m\u001b[0m\n\u001b[0;32m    718\u001b[0m             \u001b[1;31m# called before we get here, causing self._jobs to\u001b[0m\u001b[1;33m\u001b[0m\u001b[1;33m\u001b[0m\u001b[1;33m\u001b[0m\u001b[0m\n",
      "\u001b[1;32m~\\Anaconda3\\lib\\site-packages\\sklearn\\externals\\joblib\\_parallel_backends.py\u001b[0m in \u001b[0;36mapply_async\u001b[1;34m(self, func, callback)\u001b[0m\n\u001b[0;32m    180\u001b[0m     \u001b[1;32mdef\u001b[0m \u001b[0mapply_async\u001b[0m\u001b[1;33m(\u001b[0m\u001b[0mself\u001b[0m\u001b[1;33m,\u001b[0m \u001b[0mfunc\u001b[0m\u001b[1;33m,\u001b[0m \u001b[0mcallback\u001b[0m\u001b[1;33m=\u001b[0m\u001b[1;32mNone\u001b[0m\u001b[1;33m)\u001b[0m\u001b[1;33m:\u001b[0m\u001b[1;33m\u001b[0m\u001b[1;33m\u001b[0m\u001b[0m\n\u001b[0;32m    181\u001b[0m         \u001b[1;34m\"\"\"Schedule a func to be run\"\"\"\u001b[0m\u001b[1;33m\u001b[0m\u001b[1;33m\u001b[0m\u001b[0m\n\u001b[1;32m--> 182\u001b[1;33m         \u001b[0mresult\u001b[0m \u001b[1;33m=\u001b[0m \u001b[0mImmediateResult\u001b[0m\u001b[1;33m(\u001b[0m\u001b[0mfunc\u001b[0m\u001b[1;33m)\u001b[0m\u001b[1;33m\u001b[0m\u001b[1;33m\u001b[0m\u001b[0m\n\u001b[0m\u001b[0;32m    183\u001b[0m         \u001b[1;32mif\u001b[0m \u001b[0mcallback\u001b[0m\u001b[1;33m:\u001b[0m\u001b[1;33m\u001b[0m\u001b[1;33m\u001b[0m\u001b[0m\n\u001b[0;32m    184\u001b[0m             \u001b[0mcallback\u001b[0m\u001b[1;33m(\u001b[0m\u001b[0mresult\u001b[0m\u001b[1;33m)\u001b[0m\u001b[1;33m\u001b[0m\u001b[1;33m\u001b[0m\u001b[0m\n",
      "\u001b[1;32m~\\Anaconda3\\lib\\site-packages\\sklearn\\externals\\joblib\\_parallel_backends.py\u001b[0m in \u001b[0;36m__init__\u001b[1;34m(self, batch)\u001b[0m\n\u001b[0;32m    547\u001b[0m         \u001b[1;31m# Don't delay the application, to avoid keeping the input\u001b[0m\u001b[1;33m\u001b[0m\u001b[1;33m\u001b[0m\u001b[1;33m\u001b[0m\u001b[0m\n\u001b[0;32m    548\u001b[0m         \u001b[1;31m# arguments in memory\u001b[0m\u001b[1;33m\u001b[0m\u001b[1;33m\u001b[0m\u001b[1;33m\u001b[0m\u001b[0m\n\u001b[1;32m--> 549\u001b[1;33m         \u001b[0mself\u001b[0m\u001b[1;33m.\u001b[0m\u001b[0mresults\u001b[0m \u001b[1;33m=\u001b[0m \u001b[0mbatch\u001b[0m\u001b[1;33m(\u001b[0m\u001b[1;33m)\u001b[0m\u001b[1;33m\u001b[0m\u001b[1;33m\u001b[0m\u001b[0m\n\u001b[0m\u001b[0;32m    550\u001b[0m \u001b[1;33m\u001b[0m\u001b[0m\n\u001b[0;32m    551\u001b[0m     \u001b[1;32mdef\u001b[0m \u001b[0mget\u001b[0m\u001b[1;33m(\u001b[0m\u001b[0mself\u001b[0m\u001b[1;33m)\u001b[0m\u001b[1;33m:\u001b[0m\u001b[1;33m\u001b[0m\u001b[1;33m\u001b[0m\u001b[0m\n",
      "\u001b[1;32m~\\Anaconda3\\lib\\site-packages\\sklearn\\externals\\joblib\\parallel.py\u001b[0m in \u001b[0;36m__call__\u001b[1;34m(self)\u001b[0m\n\u001b[0;32m    223\u001b[0m         \u001b[1;32mwith\u001b[0m \u001b[0mparallel_backend\u001b[0m\u001b[1;33m(\u001b[0m\u001b[0mself\u001b[0m\u001b[1;33m.\u001b[0m\u001b[0m_backend\u001b[0m\u001b[1;33m,\u001b[0m \u001b[0mn_jobs\u001b[0m\u001b[1;33m=\u001b[0m\u001b[0mself\u001b[0m\u001b[1;33m.\u001b[0m\u001b[0m_n_jobs\u001b[0m\u001b[1;33m)\u001b[0m\u001b[1;33m:\u001b[0m\u001b[1;33m\u001b[0m\u001b[1;33m\u001b[0m\u001b[0m\n\u001b[0;32m    224\u001b[0m             return [func(*args, **kwargs)\n\u001b[1;32m--> 225\u001b[1;33m                     for func, args, kwargs in self.items]\n\u001b[0m\u001b[0;32m    226\u001b[0m \u001b[1;33m\u001b[0m\u001b[0m\n\u001b[0;32m    227\u001b[0m     \u001b[1;32mdef\u001b[0m \u001b[0m__len__\u001b[0m\u001b[1;33m(\u001b[0m\u001b[0mself\u001b[0m\u001b[1;33m)\u001b[0m\u001b[1;33m:\u001b[0m\u001b[1;33m\u001b[0m\u001b[1;33m\u001b[0m\u001b[0m\n",
      "\u001b[1;32m~\\Anaconda3\\lib\\site-packages\\sklearn\\externals\\joblib\\parallel.py\u001b[0m in \u001b[0;36m<listcomp>\u001b[1;34m(.0)\u001b[0m\n\u001b[0;32m    223\u001b[0m         \u001b[1;32mwith\u001b[0m \u001b[0mparallel_backend\u001b[0m\u001b[1;33m(\u001b[0m\u001b[0mself\u001b[0m\u001b[1;33m.\u001b[0m\u001b[0m_backend\u001b[0m\u001b[1;33m,\u001b[0m \u001b[0mn_jobs\u001b[0m\u001b[1;33m=\u001b[0m\u001b[0mself\u001b[0m\u001b[1;33m.\u001b[0m\u001b[0m_n_jobs\u001b[0m\u001b[1;33m)\u001b[0m\u001b[1;33m:\u001b[0m\u001b[1;33m\u001b[0m\u001b[1;33m\u001b[0m\u001b[0m\n\u001b[0;32m    224\u001b[0m             return [func(*args, **kwargs)\n\u001b[1;32m--> 225\u001b[1;33m                     for func, args, kwargs in self.items]\n\u001b[0m\u001b[0;32m    226\u001b[0m \u001b[1;33m\u001b[0m\u001b[0m\n\u001b[0;32m    227\u001b[0m     \u001b[1;32mdef\u001b[0m \u001b[0m__len__\u001b[0m\u001b[1;33m(\u001b[0m\u001b[0mself\u001b[0m\u001b[1;33m)\u001b[0m\u001b[1;33m:\u001b[0m\u001b[1;33m\u001b[0m\u001b[1;33m\u001b[0m\u001b[0m\n",
      "\u001b[1;32m~\\Anaconda3\\lib\\site-packages\\sklearn\\model_selection\\_validation.py\u001b[0m in \u001b[0;36m_fit_and_score\u001b[1;34m(estimator, X, y, scorer, train, test, verbose, parameters, fit_params, return_train_score, return_parameters, return_n_test_samples, return_times, return_estimator, error_score)\u001b[0m\n\u001b[0;32m    526\u001b[0m             \u001b[0mestimator\u001b[0m\u001b[1;33m.\u001b[0m\u001b[0mfit\u001b[0m\u001b[1;33m(\u001b[0m\u001b[0mX_train\u001b[0m\u001b[1;33m,\u001b[0m \u001b[1;33m**\u001b[0m\u001b[0mfit_params\u001b[0m\u001b[1;33m)\u001b[0m\u001b[1;33m\u001b[0m\u001b[1;33m\u001b[0m\u001b[0m\n\u001b[0;32m    527\u001b[0m         \u001b[1;32melse\u001b[0m\u001b[1;33m:\u001b[0m\u001b[1;33m\u001b[0m\u001b[1;33m\u001b[0m\u001b[0m\n\u001b[1;32m--> 528\u001b[1;33m             \u001b[0mestimator\u001b[0m\u001b[1;33m.\u001b[0m\u001b[0mfit\u001b[0m\u001b[1;33m(\u001b[0m\u001b[0mX_train\u001b[0m\u001b[1;33m,\u001b[0m \u001b[0my_train\u001b[0m\u001b[1;33m,\u001b[0m \u001b[1;33m**\u001b[0m\u001b[0mfit_params\u001b[0m\u001b[1;33m)\u001b[0m\u001b[1;33m\u001b[0m\u001b[1;33m\u001b[0m\u001b[0m\n\u001b[0m\u001b[0;32m    529\u001b[0m \u001b[1;33m\u001b[0m\u001b[0m\n\u001b[0;32m    530\u001b[0m     \u001b[1;32mexcept\u001b[0m \u001b[0mException\u001b[0m \u001b[1;32mas\u001b[0m \u001b[0me\u001b[0m\u001b[1;33m:\u001b[0m\u001b[1;33m\u001b[0m\u001b[1;33m\u001b[0m\u001b[0m\n",
      "\u001b[1;32m~\\Anaconda3\\lib\\site-packages\\sklearn\\ensemble\\weight_boosting.py\u001b[0m in \u001b[0;36mfit\u001b[1;34m(self, X, y, sample_weight)\u001b[0m\n\u001b[0;32m    410\u001b[0m \u001b[1;33m\u001b[0m\u001b[0m\n\u001b[0;32m    411\u001b[0m         \u001b[1;31m# Fit\u001b[0m\u001b[1;33m\u001b[0m\u001b[1;33m\u001b[0m\u001b[1;33m\u001b[0m\u001b[0m\n\u001b[1;32m--> 412\u001b[1;33m         \u001b[1;32mreturn\u001b[0m \u001b[0msuper\u001b[0m\u001b[1;33m(\u001b[0m\u001b[0mAdaBoostClassifier\u001b[0m\u001b[1;33m,\u001b[0m \u001b[0mself\u001b[0m\u001b[1;33m)\u001b[0m\u001b[1;33m.\u001b[0m\u001b[0mfit\u001b[0m\u001b[1;33m(\u001b[0m\u001b[0mX\u001b[0m\u001b[1;33m,\u001b[0m \u001b[0my\u001b[0m\u001b[1;33m,\u001b[0m \u001b[0msample_weight\u001b[0m\u001b[1;33m)\u001b[0m\u001b[1;33m\u001b[0m\u001b[1;33m\u001b[0m\u001b[0m\n\u001b[0m\u001b[0;32m    413\u001b[0m \u001b[1;33m\u001b[0m\u001b[0m\n\u001b[0;32m    414\u001b[0m     \u001b[1;32mdef\u001b[0m \u001b[0m_validate_estimator\u001b[0m\u001b[1;33m(\u001b[0m\u001b[0mself\u001b[0m\u001b[1;33m)\u001b[0m\u001b[1;33m:\u001b[0m\u001b[1;33m\u001b[0m\u001b[1;33m\u001b[0m\u001b[0m\n",
      "\u001b[1;32m~\\Anaconda3\\lib\\site-packages\\sklearn\\ensemble\\weight_boosting.py\u001b[0m in \u001b[0;36mfit\u001b[1;34m(self, X, y, sample_weight)\u001b[0m\n\u001b[0;32m    141\u001b[0m                 \u001b[0mX\u001b[0m\u001b[1;33m,\u001b[0m \u001b[0my\u001b[0m\u001b[1;33m,\u001b[0m\u001b[1;33m\u001b[0m\u001b[1;33m\u001b[0m\u001b[0m\n\u001b[0;32m    142\u001b[0m                 \u001b[0msample_weight\u001b[0m\u001b[1;33m,\u001b[0m\u001b[1;33m\u001b[0m\u001b[1;33m\u001b[0m\u001b[0m\n\u001b[1;32m--> 143\u001b[1;33m                 random_state)\n\u001b[0m\u001b[0;32m    144\u001b[0m \u001b[1;33m\u001b[0m\u001b[0m\n\u001b[0;32m    145\u001b[0m             \u001b[1;31m# Early termination\u001b[0m\u001b[1;33m\u001b[0m\u001b[1;33m\u001b[0m\u001b[1;33m\u001b[0m\u001b[0m\n",
      "\u001b[1;32m~\\Anaconda3\\lib\\site-packages\\sklearn\\ensemble\\weight_boosting.py\u001b[0m in \u001b[0;36m_boost\u001b[1;34m(self, iboost, X, y, sample_weight, random_state)\u001b[0m\n\u001b[0;32m    474\u001b[0m         \u001b[1;32melse\u001b[0m\u001b[1;33m:\u001b[0m  \u001b[1;31m# elif self.algorithm == \"SAMME\":\u001b[0m\u001b[1;33m\u001b[0m\u001b[1;33m\u001b[0m\u001b[0m\n\u001b[0;32m    475\u001b[0m             return self._boost_discrete(iboost, X, y, sample_weight,\n\u001b[1;32m--> 476\u001b[1;33m                                         random_state)\n\u001b[0m\u001b[0;32m    477\u001b[0m \u001b[1;33m\u001b[0m\u001b[0m\n\u001b[0;32m    478\u001b[0m     \u001b[1;32mdef\u001b[0m \u001b[0m_boost_real\u001b[0m\u001b[1;33m(\u001b[0m\u001b[0mself\u001b[0m\u001b[1;33m,\u001b[0m \u001b[0miboost\u001b[0m\u001b[1;33m,\u001b[0m \u001b[0mX\u001b[0m\u001b[1;33m,\u001b[0m \u001b[0my\u001b[0m\u001b[1;33m,\u001b[0m \u001b[0msample_weight\u001b[0m\u001b[1;33m,\u001b[0m \u001b[0mrandom_state\u001b[0m\u001b[1;33m)\u001b[0m\u001b[1;33m:\u001b[0m\u001b[1;33m\u001b[0m\u001b[1;33m\u001b[0m\u001b[0m\n",
      "\u001b[1;32m~\\Anaconda3\\lib\\site-packages\\sklearn\\ensemble\\weight_boosting.py\u001b[0m in \u001b[0;36m_boost_discrete\u001b[1;34m(self, iboost, X, y, sample_weight, random_state)\u001b[0m\n\u001b[0;32m    538\u001b[0m         \u001b[0mestimator\u001b[0m \u001b[1;33m=\u001b[0m \u001b[0mself\u001b[0m\u001b[1;33m.\u001b[0m\u001b[0m_make_estimator\u001b[0m\u001b[1;33m(\u001b[0m\u001b[0mrandom_state\u001b[0m\u001b[1;33m=\u001b[0m\u001b[0mrandom_state\u001b[0m\u001b[1;33m)\u001b[0m\u001b[1;33m\u001b[0m\u001b[1;33m\u001b[0m\u001b[0m\n\u001b[0;32m    539\u001b[0m \u001b[1;33m\u001b[0m\u001b[0m\n\u001b[1;32m--> 540\u001b[1;33m         \u001b[0mestimator\u001b[0m\u001b[1;33m.\u001b[0m\u001b[0mfit\u001b[0m\u001b[1;33m(\u001b[0m\u001b[0mX\u001b[0m\u001b[1;33m,\u001b[0m \u001b[0my\u001b[0m\u001b[1;33m,\u001b[0m \u001b[0msample_weight\u001b[0m\u001b[1;33m=\u001b[0m\u001b[0msample_weight\u001b[0m\u001b[1;33m)\u001b[0m\u001b[1;33m\u001b[0m\u001b[1;33m\u001b[0m\u001b[0m\n\u001b[0m\u001b[0;32m    541\u001b[0m \u001b[1;33m\u001b[0m\u001b[0m\n\u001b[0;32m    542\u001b[0m         \u001b[0my_predict\u001b[0m \u001b[1;33m=\u001b[0m \u001b[0mestimator\u001b[0m\u001b[1;33m.\u001b[0m\u001b[0mpredict\u001b[0m\u001b[1;33m(\u001b[0m\u001b[0mX\u001b[0m\u001b[1;33m)\u001b[0m\u001b[1;33m\u001b[0m\u001b[1;33m\u001b[0m\u001b[0m\n",
      "\u001b[1;32m~\\Anaconda3\\lib\\site-packages\\sklearn\\tree\\tree.py\u001b[0m in \u001b[0;36mfit\u001b[1;34m(self, X, y, sample_weight, check_input, X_idx_sorted)\u001b[0m\n\u001b[0;32m    799\u001b[0m             \u001b[0msample_weight\u001b[0m\u001b[1;33m=\u001b[0m\u001b[0msample_weight\u001b[0m\u001b[1;33m,\u001b[0m\u001b[1;33m\u001b[0m\u001b[1;33m\u001b[0m\u001b[0m\n\u001b[0;32m    800\u001b[0m             \u001b[0mcheck_input\u001b[0m\u001b[1;33m=\u001b[0m\u001b[0mcheck_input\u001b[0m\u001b[1;33m,\u001b[0m\u001b[1;33m\u001b[0m\u001b[1;33m\u001b[0m\u001b[0m\n\u001b[1;32m--> 801\u001b[1;33m             X_idx_sorted=X_idx_sorted)\n\u001b[0m\u001b[0;32m    802\u001b[0m         \u001b[1;32mreturn\u001b[0m \u001b[0mself\u001b[0m\u001b[1;33m\u001b[0m\u001b[1;33m\u001b[0m\u001b[0m\n\u001b[0;32m    803\u001b[0m \u001b[1;33m\u001b[0m\u001b[0m\n",
      "\u001b[1;32m~\\Anaconda3\\lib\\site-packages\\sklearn\\tree\\tree.py\u001b[0m in \u001b[0;36mfit\u001b[1;34m(self, X, y, sample_weight, check_input, X_idx_sorted)\u001b[0m\n\u001b[0;32m    364\u001b[0m                                            min_impurity_split)\n\u001b[0;32m    365\u001b[0m \u001b[1;33m\u001b[0m\u001b[0m\n\u001b[1;32m--> 366\u001b[1;33m         \u001b[0mbuilder\u001b[0m\u001b[1;33m.\u001b[0m\u001b[0mbuild\u001b[0m\u001b[1;33m(\u001b[0m\u001b[0mself\u001b[0m\u001b[1;33m.\u001b[0m\u001b[0mtree_\u001b[0m\u001b[1;33m,\u001b[0m \u001b[0mX\u001b[0m\u001b[1;33m,\u001b[0m \u001b[0my\u001b[0m\u001b[1;33m,\u001b[0m \u001b[0msample_weight\u001b[0m\u001b[1;33m,\u001b[0m \u001b[0mX_idx_sorted\u001b[0m\u001b[1;33m)\u001b[0m\u001b[1;33m\u001b[0m\u001b[1;33m\u001b[0m\u001b[0m\n\u001b[0m\u001b[0;32m    367\u001b[0m \u001b[1;33m\u001b[0m\u001b[0m\n\u001b[0;32m    368\u001b[0m         \u001b[1;32mif\u001b[0m \u001b[0mself\u001b[0m\u001b[1;33m.\u001b[0m\u001b[0mn_outputs_\u001b[0m \u001b[1;33m==\u001b[0m \u001b[1;36m1\u001b[0m\u001b[1;33m:\u001b[0m\u001b[1;33m\u001b[0m\u001b[1;33m\u001b[0m\u001b[0m\n",
      "\u001b[1;31mKeyboardInterrupt\u001b[0m: "
     ]
    }
   ],
   "source": [
    "# Applying k-Fold Cross Validation\n",
    "from sklearn.model_selection import cross_val_score\n",
    "accuracies = cross_val_score(estimator = classifier, X = X_train, y = y_train, cv = 10)\n",
    "accuracies.mean()"
   ]
  },
  {
   "cell_type": "code",
   "execution_count": null,
   "metadata": {},
   "outputs": [],
   "source": [
    "# Implementation Of Grid Search\n",
    "\n",
    "from sklearn.tree import DecisionTreeClassifier\n",
    "from sklearn.model_selection import GridSearchCV\n",
    "\n",
    "parameter_grid = {\"n_estimators\": [50, 60],\n",
    "                  \"learning_rate\":[1.0],\n",
    "                  \"algorithm\": [\"SAMME\", \"SAMME.R\"],\n",
    "                  \"random_state\": [0]}\n",
    "\n",
    "DTC = DecisionTreeClassifier(random_state = 11, max_features = \"auto\", class_weight = None, max_depth = None)\n",
    "\n",
    "\n",
    "clf = AdaBoostClassifier(base_estimator = DTC)             \n",
    "\n",
    "#cross_validation = StratifiedKFold(y_train, n_splits=10)\n",
    "\n",
    "grid_search = GridSearchCV(clf, param_grid = parameter_grid,\n",
    "                          cv = 10, scoring = 'roc_auc')\n",
    "\n",
    "grid_search.fit(X_train, y_train)\n",
    "\n",
    "\n",
    "Best_Score = grid_search.best_score_\n",
    "Best_Param = grid_search.best_params_"
   ]
  },
  {
   "cell_type": "code",
   "execution_count": null,
   "metadata": {},
   "outputs": [],
   "source": [
    "###########Testing set################"
   ]
  },
  {
   "cell_type": "code",
   "execution_count": null,
   "metadata": {},
   "outputs": [],
   "source": [
    "# Fitting Gradient Boosting  Classification to the Testing set\n",
    "clf = AdaBoostClassifier(algorithm='SAMME', n_estimators=200, learning_rate=1.0, random_state=0).fit(X_train, y_train)\n",
    "clf.score(X_test, y_test)\n",
    "\n",
    "# Predicting the Validation set results\n",
    "y_pred = clf.predict(X_test)"
   ]
  },
  {
   "cell_type": "code",
   "execution_count": null,
   "metadata": {},
   "outputs": [],
   "source": [
    "\n",
    "# Predicting the Test set results\n",
    "y_pred = classifier.predict(X_test)"
   ]
  },
  {
   "cell_type": "code",
   "execution_count": null,
   "metadata": {},
   "outputs": [],
   "source": [
    "# Making the Confusion Matrix\n",
    "import matplotlib.pyplot as plt\n",
    "from sklearn import svm, datasets\n",
    "from sklearn.metrics import confusion_matrix\n",
    "cm = confusion_matrix(y_test, y_pred)\n",
    "accuracy = ((cm[0][0]+cm[1][1]) / cm.sum())\n",
    "# np.set_printoptions(precision=2)\n",
    "print('Confusion Matrix, without normalization')\n",
    "print(cm)\n",
    "plt.figure(figsize = (10,7))\n",
    "plt.matshow(cm)"
   ]
  },
  {
   "cell_type": "code",
   "execution_count": null,
   "metadata": {},
   "outputs": [],
   "source": [
    "# Normalize the confusion matrix by row (i.e. by the number of samples in each class)\n",
    "cm_normalized = cm.astype('float') / cm.sum(axis=1) [:, np.newaxis]\n",
    "print('Normalized confusion matrix')\n",
    "print(cm_normalized)\n",
    "plt.figure()\n",
    "plt.matshow(cm_normalized)\n"
   ]
  },
  {
   "cell_type": "code",
   "execution_count": null,
   "metadata": {},
   "outputs": [],
   "source": [
    "# Classification Report\n",
    "from sklearn.metrics import classification_report\n",
    "print(classification_report(y_test, y_pred))"
   ]
  },
  {
   "cell_type": "code",
   "execution_count": null,
   "metadata": {},
   "outputs": [],
   "source": [
    "\n",
    "# Matthews Correlation Coefficient Calculation #\n",
    "from sklearn.metrics import matthews_corrcoef\n",
    "matthews_corrcoef(y_test, y_pred)"
   ]
  },
  {
   "cell_type": "code",
   "execution_count": null,
   "metadata": {},
   "outputs": [],
   "source": []
  }
 ],
 "metadata": {
  "kernelspec": {
   "display_name": "Python 3",
   "language": "python",
   "name": "python3"
  },
  "language_info": {
   "codemirror_mode": {
    "name": "ipython",
    "version": 3
   },
   "file_extension": ".py",
   "mimetype": "text/x-python",
   "name": "python",
   "nbconvert_exporter": "python",
   "pygments_lexer": "ipython3",
   "version": "3.7.1"
  }
 },
 "nbformat": 4,
 "nbformat_minor": 2
}
