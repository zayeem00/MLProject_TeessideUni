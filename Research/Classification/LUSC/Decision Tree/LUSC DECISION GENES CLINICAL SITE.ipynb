{
 "cells": [
  {
   "cell_type": "code",
   "execution_count": 1,
   "metadata": {},
   "outputs": [],
   "source": [
    "import pandas as pd\n",
    "import os\n",
    "import numpy as np\n"
   ]
  },
  {
   "cell_type": "code",
   "execution_count": 2,
   "metadata": {},
   "outputs": [],
   "source": [
    "os.chdir('C:\\\\RESEARCH\\\\LUSC\\\\Site')"
   ]
  },
  {
   "cell_type": "code",
   "execution_count": 3,
   "metadata": {},
   "outputs": [],
   "source": [
    "X=pd.read_excel('Genes_Clinical_Site.xlsx',index_col=0)"
   ]
  },
  {
   "cell_type": "code",
   "execution_count": 4,
   "metadata": {},
   "outputs": [
    {
     "data": {
      "text/plain": [
       "(501, 15164)"
      ]
     },
     "execution_count": 4,
     "metadata": {},
     "output_type": "execute_result"
    }
   ],
   "source": [
    "X.shape"
   ]
  },
  {
   "cell_type": "code",
   "execution_count": 5,
   "metadata": {},
   "outputs": [],
   "source": [
    "x=X.iloc[:,0:15162].values\n",
    "y=X.iloc[:,-1].values"
   ]
  },
  {
   "cell_type": "code",
   "execution_count": 6,
   "metadata": {},
   "outputs": [
    {
     "data": {
      "text/plain": [
       "array(['L-Upper', 'L-Upper', 'R-Lower', 'L-Upper', 'R-Lower', 'R-Upper',\n",
       "       'L-Lower', 'R-Lower', 'R-Upper', 'L-Upper', 'R-Upper', 'L-Lower',\n",
       "       'R-Lower', 'L-Lower', 'R-Lower', 'L-Lower', 'L-Upper', 'R-Lower',\n",
       "       'L-Upper', 'R-Upper', 'L-Upper', 'L-Lower', 'L-Lower', 'R-Upper',\n",
       "       'R-Lower', 'L-Upper', 'L-Lower', 'L-Lower', 'L-Lower', 'L-Upper',\n",
       "       'L-Lower', 'L-Upper', 'R-Upper', 'R-Upper', 'L-Upper', 'R-Lower',\n",
       "       'L-Lower', 'L-Upper', 'R-Lower', 'R-Middle', 'R-Upper', 'R-Upper',\n",
       "       'R-Lower', 'R-Upper', 'L-Upper', 'R-Lower', 'R-Lower', 'L-Upper',\n",
       "       'L-Lower', 'L-Upper', 'L-Upper', 'R-Upper', 'L-Upper', 'R-Upper',\n",
       "       'R-Lower', 'R-Upper', 'L-Upper', 'L-Lower', 'R-Lower', 'L-Upper',\n",
       "       'L-Upper', 'R-Lower', 'R-Lower', 'L-Lower', 'L-Upper', 'L-Lower',\n",
       "       'L-Upper', 'R-Upper', 'R-Upper', 'L-Upper', 'L-Lower', 'L-Upper',\n",
       "       'R-Lower', 'R-Lower', 'L-Upper', 'L-Upper', 'R-Upper', 'R-Upper',\n",
       "       'L-Lower', 'L-Lower', 'L-Lower', 'R-Middle', 'R-Lower', 'R-Upper',\n",
       "       'L-Upper', 'R-Upper', 'R-Lower', 'R-Upper', 'L-Upper', 'R-Lower',\n",
       "       'L-Lower', 'R-Lower', 'R-Upper', 'Bronchial', 'R-Lower', 'L-Upper',\n",
       "       'R-Upper', 'L-Upper', 'L-Upper', 'L-Upper', 'L-Upper', 'L-Upper',\n",
       "       'R-Lower', 'R-Lower', 'L-Lower', 'L-Upper', 'R-Lower', 'R-Lower',\n",
       "       'L-Upper', 'R-Lower', 'R-Lower', 'L-Upper', 'L-Upper', 'R-Upper',\n",
       "       'R-Middle', 'R-Upper', 'L-Lower', 'R-Lower', 'R-Lower', 'R-Upper',\n",
       "       'R-Upper', 'L-Upper', 'L-Upper', 'R-Middle', 'R-Lower', 'R-Lower',\n",
       "       'R-Upper', 'L-Upper', 'R-Upper', 'Bronchial', 'R-Lower', 'R-Upper',\n",
       "       'L-Lower', 'L-Lower', 'L-Upper', 'R-Upper', 'R-Lower', 'L-Upper',\n",
       "       'L-Lower', 'R-Upper', 'L-Upper', 'L-Upper', 'L-Upper', 'R-Upper',\n",
       "       'L-Lower', 'R-Upper', 'R-Upper', 'L-Lower', 'R-Lower', 'R-Lower',\n",
       "       'L-Upper', 'L-Upper', 'R-Lower', 'R-Lower', 'R-Upper', 'R-Upper',\n",
       "       'L-Lower', 'L-Upper', 'R-Upper', 'L-Upper', 'R-Upper', 'L-Upper',\n",
       "       'R-Middle', 'R-Upper', 'R-Lower', 'L-Lower', 'L-Upper', 'R-Upper',\n",
       "       'R-Lower', 'R-Lower', 'R-Upper', 'R-Upper', 'R-Upper', 'R-Upper',\n",
       "       'R-Lower', 'R-Upper', 'R-Upper', 'L-Lower', 'L-Upper', 'R-Lower',\n",
       "       'R-Upper', 'R-Upper', 'R-Upper', 'R-Upper', 'R-Lower', 'R-Upper',\n",
       "       'R-Lower', 'L-Upper', 'L-Lower', 'R-Lower', 'R-Upper', 'R-Upper',\n",
       "       'R-Upper', 'R-Upper', 'R-Lower', 'L-Upper', 'R-Upper', 'R-Upper',\n",
       "       'R-Upper', 'R-Lower', 'L-Upper', 'R-Lower', 'R-Lower', 'L-Upper',\n",
       "       'R-Lower', 'R-Upper', 'R-Lower', 'R-Lower', 'L-Upper', 'R-Upper',\n",
       "       'L-Lower', 'L-Upper', 'L-Upper', 'R-Lower', 'L-Upper', 'R-Lower',\n",
       "       'R-Lower', 'L-Upper', 'R-Lower', 'L-Upper', 'R-Upper', 'R-Lower',\n",
       "       'L-Upper', 'R-Lower', 'Bronchial', 'L-Upper', 'R-Lower', 'R-Upper',\n",
       "       'R-Lower', 'R-Upper', 'L-Lower', 'R-Lower', 'L-Upper', 'L-Upper',\n",
       "       'R-Middle', 'R-Lower', 'R-Lower', 'R-Upper', 'R-Upper', 'L-Upper',\n",
       "       'L-Lower', 'L-Upper', 'L-Upper', 'R-Lower', 'L-Upper', 'R-Lower',\n",
       "       'R-Upper', 'L-Upper', 'L-Upper', 'R-Upper', 'R-Lower', 'R-Upper',\n",
       "       'R-Upper', 'R-Middle', 'Bronchial', 'L-Upper', 'R-Middle',\n",
       "       'L-Upper', 'R-Lower', 'R-Upper', 'R-Upper', 'L-Upper', 'L-Upper',\n",
       "       'L-Lower', 'L-Lower', 'L-Upper', 'L-Lower', 'L-Lower', 'Bronchial',\n",
       "       'Other (please specify)', 'R-Lower', 'Bronchial', 'R-Upper',\n",
       "       'R-Lower', 'L-Upper', 'L-Upper', 'R-Upper', 'R-Lower', 'R-Lower',\n",
       "       'R-Upper', 'L-Lower', 'L-Lower', 'L-Lower', 'R-Middle', 'R-Upper',\n",
       "       'R-Lower', 'L-Lower', 'R-Upper', 'R-Upper', 'L-Upper', 'L-Upper',\n",
       "       'L-Upper', 'L-Lower', 'L-Upper', 'L-Lower', 'L-Upper', 'R-Lower',\n",
       "       'L-Lower', 'L-Upper', 'R-Lower', 'R-Upper', 'L-Lower', 'R-Middle',\n",
       "       'L-Lower', 'L-Upper', 'L-Upper', 'R-Upper', 'L-Lower', 'L-Upper',\n",
       "       'R-Upper', 'L-Upper', 'L-Lower', 'L-Lower', 'L-Upper', 'R-Lower',\n",
       "       'L-Lower', 'R-Middle', 'L-Upper', 'L-Upper', 'R-Upper', 'R-Lower',\n",
       "       'L-Upper', 'L-Upper', 'R-Upper', 'L-Upper', 'L-Lower', 'R-Lower',\n",
       "       'L-Lower', 'R-Upper', 'R-Upper', 'L-Upper', 'R-Upper', 'R-Lower',\n",
       "       'R-Middle', 'L-Lower', 'R-Lower', 'L-Upper', 'L-Upper', 'L-Upper',\n",
       "       'L-Upper', 'L-Upper', 'R-Upper', 'L-Upper', 'R-Upper', 'R-Upper',\n",
       "       'R-Lower', 'R-Lower', 'Other (please specify)', 'L-Upper',\n",
       "       'L-Lower', 'Other (please specify)', 'Other (please specify)',\n",
       "       'L-Upper', 'R-Upper', 'R-Lower', 'L-Upper', 'L-Lower',\n",
       "       'Other (please specify)', 'R-Upper', 'Other (please specify)',\n",
       "       'R-Lower', 'R-Lower', 'R-Lower', 'L-Upper', 'L-Upper', 'R-Lower',\n",
       "       'Bronchial', 'R-Upper', 'L-Upper', 'R-Upper', 'L-Upper',\n",
       "       'Other (please specify)', 'L-Lower', 'Other (please specify)',\n",
       "       'L-Upper', 'L-Upper', 'R-Upper', 'R-Upper', 'R-Upper', 'L-Upper',\n",
       "       'L-Upper', 'R-Upper', 'L-Upper', 'L-Lower', 'L-Upper', 'L-Upper',\n",
       "       'L-Upper', 'L-Lower', 'L-Lower', 'R-Upper', 'L-Upper', 'R-Upper',\n",
       "       'L-Upper', 'L-Upper', 'L-Upper', 'L-Upper', 'R-Middle', 'R-Upper',\n",
       "       'R-Lower', 'R-Upper', 'R-Lower', 'R-Lower', 'L-Upper', 'L-Lower',\n",
       "       'L-Upper', 'R-Lower', 'L-Upper', 'R-Upper', 'R-Upper', 'L-Upper',\n",
       "       'R-Lower', 'L-Lower', 'R-Upper', 'L-Upper', 'L-Lower', 'R-Lower',\n",
       "       'R-Upper', 'R-Upper', 'R-Upper', 'L-Lower', 'L-Lower', 'L-Upper',\n",
       "       'L-Upper', 'R-Middle', 'R-Upper', 'R-Upper', 'R-Upper', 'R-Upper',\n",
       "       'L-Upper', 'R-Upper', 'R-Upper', 'Bronchial', 'R-Upper', 'R-Upper',\n",
       "       'R-Upper', 'L-Upper', 'R-Upper', 'L-Lower', 'L-Upper', 'L-Upper',\n",
       "       'L-Lower', 'L-Upper', 'R-Upper', 'R-Lower', 'Bronchial',\n",
       "       'Bronchial', 'L-Lower', 'L-Lower', 'R-Lower', 'R-Lower', 'R-Lower',\n",
       "       'R-Upper', 'L-Lower', 'R-Upper', 'R-Upper', 'R-Upper', 'R-Upper',\n",
       "       'Other (please specify)', 'L-Upper', 'L-Upper', 'R-Middle',\n",
       "       'L-Upper', 'R-Lower', 'R-Upper', 'R-Upper', 'R-Upper', 'R-Upper',\n",
       "       'L-Lower', 'R-Lower', 'R-Upper', 'R-Lower', 'L-Upper', 'R-Upper',\n",
       "       'L-Upper', 'L-Upper', 'L-Lower', 'R-Lower', 'L-Lower', 'R-Lower',\n",
       "       'R-Middle', 'Other (please specify)', 'R-Upper', 'R-Lower',\n",
       "       'L-Lower', 'L-Upper', 'L-Upper', 'R-Middle', 'R-Lower',\n",
       "       'Other (please specify)', 'R-Upper', 'L-Lower', 'R-Lower',\n",
       "       'R-Upper', 'L-Upper', 'R-Upper', 'R-Upper', 'L-Lower', 'L-Upper',\n",
       "       'R-Lower', 'R-Middle', 'R-Lower'], dtype=object)"
      ]
     },
     "execution_count": 6,
     "metadata": {},
     "output_type": "execute_result"
    }
   ],
   "source": [
    "y"
   ]
  },
  {
   "cell_type": "code",
   "execution_count": 7,
   "metadata": {},
   "outputs": [],
   "source": [
    "# Encoding categorical data\n",
    "from sklearn.preprocessing import LabelEncoder\n",
    "labelEncoder_y = LabelEncoder()\n",
    "y = labelEncoder_y.fit_transform(y.astype(str))\n"
   ]
  },
  {
   "cell_type": "code",
   "execution_count": 8,
   "metadata": {},
   "outputs": [
    {
     "data": {
      "text/plain": [
       "array([2, 2, 4, 2, 4, 6, 1, 4, 6, 2, 6, 1, 4, 1, 4, 1, 2, 4, 2, 6, 2, 1,\n",
       "       1, 6, 4, 2, 1, 1, 1, 2, 1, 2, 6, 6, 2, 4, 1, 2, 4, 5, 6, 6, 4, 6,\n",
       "       2, 4, 4, 2, 1, 2, 2, 6, 2, 6, 4, 6, 2, 1, 4, 2, 2, 4, 4, 1, 2, 1,\n",
       "       2, 6, 6, 2, 1, 2, 4, 4, 2, 2, 6, 6, 1, 1, 1, 5, 4, 6, 2, 6, 4, 6,\n",
       "       2, 4, 1, 4, 6, 0, 4, 2, 6, 2, 2, 2, 2, 2, 4, 4, 1, 2, 4, 4, 2, 4,\n",
       "       4, 2, 2, 6, 5, 6, 1, 4, 4, 6, 6, 2, 2, 5, 4, 4, 6, 2, 6, 0, 4, 6,\n",
       "       1, 1, 2, 6, 4, 2, 1, 6, 2, 2, 2, 6, 1, 6, 6, 1, 4, 4, 2, 2, 4, 4,\n",
       "       6, 6, 1, 2, 6, 2, 6, 2, 5, 6, 4, 1, 2, 6, 4, 4, 6, 6, 6, 6, 4, 6,\n",
       "       6, 1, 2, 4, 6, 6, 6, 6, 4, 6, 4, 2, 1, 4, 6, 6, 6, 6, 4, 2, 6, 6,\n",
       "       6, 4, 2, 4, 4, 2, 4, 6, 4, 4, 2, 6, 1, 2, 2, 4, 2, 4, 4, 2, 4, 2,\n",
       "       6, 4, 2, 4, 0, 2, 4, 6, 4, 6, 1, 4, 2, 2, 5, 4, 4, 6, 6, 2, 1, 2,\n",
       "       2, 4, 2, 4, 6, 2, 2, 6, 4, 6, 6, 5, 0, 2, 5, 2, 4, 6, 6, 2, 2, 1,\n",
       "       1, 2, 1, 1, 0, 3, 4, 0, 6, 4, 2, 2, 6, 4, 4, 6, 1, 1, 1, 5, 6, 4,\n",
       "       1, 6, 6, 2, 2, 2, 1, 2, 1, 2, 4, 1, 2, 4, 6, 1, 5, 1, 2, 2, 6, 1,\n",
       "       2, 6, 2, 1, 1, 2, 4, 1, 5, 2, 2, 6, 4, 2, 2, 6, 2, 1, 4, 1, 6, 6,\n",
       "       2, 6, 4, 5, 1, 4, 2, 2, 2, 2, 2, 6, 2, 6, 6, 4, 4, 3, 2, 1, 3, 3,\n",
       "       2, 6, 4, 2, 1, 3, 6, 3, 4, 4, 4, 2, 2, 4, 0, 6, 2, 6, 2, 3, 1, 3,\n",
       "       2, 2, 6, 6, 6, 2, 2, 6, 2, 1, 2, 2, 2, 1, 1, 6, 2, 6, 2, 2, 2, 2,\n",
       "       5, 6, 4, 6, 4, 4, 2, 1, 2, 4, 2, 6, 6, 2, 4, 1, 6, 2, 1, 4, 6, 6,\n",
       "       6, 1, 1, 2, 2, 5, 6, 6, 6, 6, 2, 6, 6, 0, 6, 6, 6, 2, 6, 1, 2, 2,\n",
       "       1, 2, 6, 4, 0, 0, 1, 1, 4, 4, 4, 6, 1, 6, 6, 6, 6, 3, 2, 2, 5, 2,\n",
       "       4, 6, 6, 6, 6, 1, 4, 6, 4, 2, 6, 2, 2, 1, 4, 1, 4, 5, 3, 6, 4, 1,\n",
       "       2, 2, 5, 4, 3, 6, 1, 4, 6, 2, 6, 6, 1, 2, 4, 5, 4], dtype=int64)"
      ]
     },
     "execution_count": 8,
     "metadata": {},
     "output_type": "execute_result"
    }
   ],
   "source": [
    "y"
   ]
  },
  {
   "cell_type": "code",
   "execution_count": 9,
   "metadata": {},
   "outputs": [],
   "source": [
    "# Splitting the dataset into the Training set and Test set\n",
    "from sklearn.model_selection import train_test_split\n",
    "X_train, X_test, y_train, y_test = train_test_split(x, y, test_size = 0.2, random_state = 0)\n",
    "\n",
    "X_train, X_val, y_train, y_val = train_test_split(X_train, y_train, test_size=0.2, random_state=0)\n"
   ]
  },
  {
   "cell_type": "code",
   "execution_count": 10,
   "metadata": {},
   "outputs": [],
   "source": [
    "# Feature Scaling\n",
    "from sklearn.preprocessing import StandardScaler\n",
    "sc = StandardScaler()\n",
    "X_train = sc.fit_transform(X_train)\n",
    "X_val = sc.fit_transform(X_val)\n",
    "X_test = sc.transform(X_test)"
   ]
  },
  {
   "cell_type": "code",
   "execution_count": 11,
   "metadata": {},
   "outputs": [
    {
     "data": {
      "text/plain": [
       "DecisionTreeClassifier(class_weight=None, criterion='gini', max_depth=None,\n",
       "            max_features=None, max_leaf_nodes=None,\n",
       "            min_impurity_decrease=0.0, min_impurity_split=None,\n",
       "            min_samples_leaf=1, min_samples_split=2,\n",
       "            min_weight_fraction_leaf=0.0, presort=False, random_state=None,\n",
       "            splitter='best')"
      ]
     },
     "execution_count": 11,
     "metadata": {},
     "output_type": "execute_result"
    }
   ],
   "source": [
    "\n",
    "# Fitting Decision Tree Classification to the training set\n",
    "from sklearn.tree import DecisionTreeClassifier\n",
    "classifier = DecisionTreeClassifier()\n",
    "\n",
    "classifier.fit(X_train, y_train)"
   ]
  },
  {
   "cell_type": "code",
   "execution_count": 12,
   "metadata": {},
   "outputs": [],
   "source": [
    "\n",
    "# Predicting the Validation set results\n",
    "y_val_pred = classifier.predict(X_val)"
   ]
  },
  {
   "cell_type": "code",
   "execution_count": 13,
   "metadata": {},
   "outputs": [
    {
     "data": {
      "text/plain": [
       "0.475"
      ]
     },
     "execution_count": 13,
     "metadata": {},
     "output_type": "execute_result"
    }
   ],
   "source": [
    "# Making the Confusion Matrix\n",
    "import matplotlib.pyplot as plt\n",
    "from sklearn import svm, datasets\n",
    "from sklearn.metrics import confusion_matrix\n",
    "cm = confusion_matrix(y_val, y_val_pred)\n",
    "accuracy = ((cm[0][0]+cm[1][1]+cm[2][2]+cm[3][3]+cm[4][4]+cm[5][5]+cm[6][6]) / cm.sum())\n",
    "accuracy"
   ]
  },
  {
   "cell_type": "code",
   "execution_count": 14,
   "metadata": {},
   "outputs": [
    {
     "name": "stdout",
     "output_type": "stream",
     "text": [
      "Confusion Matrix, without normalization\n",
      "[[ 0  0  1  0  0  0  1]\n",
      " [ 0 10  2  0  2  0  0]\n",
      " [ 1  0 11  0  0  0 12]\n",
      " [ 0  2  0  2  0  0  0]\n",
      " [ 0  5  0  1  7  0  0]\n",
      " [ 0  0  0  0  1  0  0]\n",
      " [ 0  2 12  0  0  0  8]]\n"
     ]
    },
    {
     "data": {
      "text/plain": [
       "<matplotlib.image.AxesImage at 0x18716445860>"
      ]
     },
     "execution_count": 14,
     "metadata": {},
     "output_type": "execute_result"
    },
    {
     "data": {
      "text/plain": [
       "<Figure size 720x504 with 0 Axes>"
      ]
     },
     "metadata": {},
     "output_type": "display_data"
    },
    {
     "data": {
      "image/png": "[encoded data removed]",
      "text/plain": [
       "<Figure size 288x288 with 1 Axes>"
      ]
     },
     "metadata": {
      "needs_background": "light"
     },
     "output_type": "display_data"
    }
   ],
   "source": [
    "# np.set_printoptions(precision=2)\n",
    "print('Confusion Matrix, without normalization')\n",
    "print(cm)\n",
    "plt.figure(figsize = (10,7))\n",
    "plt.matshow(cm)\n"
   ]
  },
  {
   "cell_type": "code",
   "execution_count": 15,
   "metadata": {},
   "outputs": [
    {
     "name": "stdout",
     "output_type": "stream",
     "text": [
      "Normalized confusion matrix\n",
      "[[0.         0.         0.5        0.         0.         0.\n",
      "  0.5       ]\n",
      " [0.         0.71428571 0.14285714 0.         0.14285714 0.\n",
      "  0.        ]\n",
      " [0.04166667 0.         0.45833333 0.         0.         0.\n",
      "  0.5       ]\n",
      " [0.         0.5        0.         0.5        0.         0.\n",
      "  0.        ]\n",
      " [0.         0.38461538 0.         0.07692308 0.53846154 0.\n",
      "  0.        ]\n",
      " [0.         0.         0.         0.         1.         0.\n",
      "  0.        ]\n",
      " [0.         0.09090909 0.54545455 0.         0.         0.\n",
      "  0.36363636]]\n"
     ]
    },
    {
     "data": {
      "text/plain": [
       "<matplotlib.image.AxesImage at 0x18716463710>"
      ]
     },
     "execution_count": 15,
     "metadata": {},
     "output_type": "execute_result"
    },
    {
     "data": {
      "text/plain": [
       "<Figure size 432x288 with 0 Axes>"
      ]
     },
     "metadata": {},
     "output_type": "display_data"
    },
    {
     "data": {
      "image/png": "[encoded data removed]",
      "text/plain": [
       "<Figure size 288x288 with 1 Axes>"
      ]
     },
     "metadata": {
      "needs_background": "light"
     },
     "output_type": "display_data"
    }
   ],
   "source": [
    "# Normalize the confusion matrix by row (i.e. by the number of samples in each class)\n",
    "cm_normalized = cm.astype('float') / cm.sum(axis=1) [:, np.newaxis]\n",
    "print('Normalized confusion matrix')\n",
    "print(cm_normalized)\n",
    "plt.figure()\n",
    "plt.matshow(cm_normalized)"
   ]
  },
  {
   "cell_type": "code",
   "execution_count": 16,
   "metadata": {},
   "outputs": [
    {
     "name": "stdout",
     "output_type": "stream",
     "text": [
      "              precision    recall  f1-score   support\n",
      "\n",
      "           0       0.00      0.00      0.00         2\n",
      "           1       0.53      0.71      0.61        14\n",
      "           2       0.42      0.46      0.44        24\n",
      "           3       0.67      0.50      0.57         4\n",
      "           4       0.70      0.54      0.61        13\n",
      "           5       0.00      0.00      0.00         1\n",
      "           6       0.38      0.36      0.37        22\n",
      "\n",
      "   micro avg       0.47      0.47      0.48        80\n",
      "   macro avg       0.39      0.37      0.37        80\n",
      "weighted avg       0.47      0.47      0.47        80\n",
      "\n"
     ]
    },
    {
     "name": "stderr",
     "output_type": "stream",
     "text": [
      "C:\\Users\\Kanika Saini\\Anaconda3\\lib\\site-packages\\sklearn\\metrics\\classification.py:1143: UndefinedMetricWarning: Precision and F-score are ill-defined and being set to 0.0 in labels with no predicted samples.\n",
      "  'precision', 'predicted', average, warn_for)\n"
     ]
    }
   ],
   "source": [
    "# Classification Report\n",
    "from sklearn.metrics import classification_report\n",
    "print(classification_report(y_val, y_val_pred))"
   ]
  },
  {
   "cell_type": "code",
   "execution_count": 17,
   "metadata": {},
   "outputs": [
    {
     "data": {
      "text/plain": [
       "0.31623248844254415"
      ]
     },
     "execution_count": 17,
     "metadata": {},
     "output_type": "execute_result"
    }
   ],
   "source": [
    "\n",
    "# Matthews Correlation Coefficient Calculation #\n",
    "from sklearn.metrics import matthews_corrcoef\n",
    "matthews_corrcoef(y_val, y_val_pred)"
   ]
  },
  {
   "cell_type": "code",
   "execution_count": 18,
   "metadata": {},
   "outputs": [
    {
     "name": "stderr",
     "output_type": "stream",
     "text": [
      "C:\\Users\\Kanika Saini\\Anaconda3\\lib\\site-packages\\sklearn\\model_selection\\_split.py:652: Warning: The least populated class in y has only 5 members, which is too few. The minimum number of members in any class cannot be less than n_splits=10.\n",
      "  % (min_groups, self.n_splits)), Warning)\n"
     ]
    },
    {
     "data": {
      "text/plain": [
       "0.4672918935076643"
      ]
     },
     "execution_count": 18,
     "metadata": {},
     "output_type": "execute_result"
    }
   ],
   "source": [
    "# Applying k-Fold Cross Validation\n",
    "from sklearn.model_selection import cross_val_score\n",
    "accuracies = cross_val_score(estimator = classifier, X = X_train, y = y_train, cv = 10)\n",
    "accuracies.mean()"
   ]
  },
  {
   "cell_type": "code",
   "execution_count": null,
   "metadata": {},
   "outputs": [],
   "source": [
    "\n",
    "# Applying Grid Search\n",
    "from sklearn.tree import DecisionTreeClassifier\n",
    "from sklearn.model_selection import GridSearchCV\n",
    "classifier = DecisionTreeClassifier() \n",
    "\n",
    "\n",
    "parameter_grid = {\"class_weight\": [None],\n",
    "                  \"criterion\": [\"gini\", \"entropy\"],\n",
    "                  \"max_depth\": [2, 5],\n",
    "                  \"max_features\": [1, 2, 3, 4],\n",
    "                  \"max_leaf_nodes\":[2, 3, 4, 5, 10, 20],\n",
    "                  \"min_impurity_decrease\": [0.0, 0.1, 0.2],\n",
    "                  \"min_impurity_split\": [None],\n",
    "                  \"min_samples_leaf\": [1,2,3,4,5],\n",
    "                  \"min_samples_split\": [5, 10, 20, 25, 30],\n",
    "                  \"min_weight_fraction_leaf\": [0.0, 0.1, 0.2],\n",
    "                  \"presort\": [False],\n",
    "                  \"random_state\": [0, 1, 2, 3]}      \n",
    "\n",
    "classifier = DecisionTreeClassifier()           \n",
    "\n",
    "grid_search = GridSearchCV(classifier, param_grid = parameter_grid,\n",
    "                           cv = 5, n_jobs = -1, verbose = 1)\n",
    "\n",
    "grid_search.fit(X_train, y_train)\n",
    "\n",
    "Best_Score = grid_search.best_score_\n",
    "Best_Param = grid_search.best_params_\n",
    "\n",
    "# Applying Random Search \n",
    "from sklearn.tree import DecisionTreeClassifier\n",
    "from sklearn.model_selection import RandomizedSearchCV\n",
    "classifier = DecisionTreeClassifier() \n",
    "\n",
    "# Create the random grid\n",
    "random_grid = {\"class_weight\": [None],\n",
    "                  \"criterion\": [\"gini\", \"entropy\"],\n",
    "                  \"max_depth\": [2, 5],\n",
    "                  \"max_features\": [3, 4, 5, 6, 7 , 8],\n",
    "                  \"max_leaf_nodes\":[2, 3, 4, 5, 10, 20],\n",
    "                  \"min_impurity_decrease\": [0.1, 0.2, 0.3],\n",
    "                  \"min_impurity_split\": [None],\n",
    "                  \"min_samples_leaf\": [1,2,3,4,5],\n",
    "                  \"min_samples_split\": [20, 25, 30, 35, 40],\n",
    "                  \"min_weight_fraction_leaf\": [0.1, 0.2, 0.3, 0.4],\n",
    "                  \"presort\": [False],\n",
    "                  \"random_state\": [3, 4, 5, 10, 15]}\n",
    "               \n",
    "random_search = RandomizedSearchCV(estimator=classifier, param_distributions=random_grid,\n",
    "                              n_iter = 100,scoring='neg_mean_absolute_error',\n",
    "                              cv = 10, verbose=2, random_state=42, n_jobs=-1,\n",
    "                              return_train_score=True)\n",
    "\n",
    "random_search.fit(X_train, y_train)\n",
    "\n",
    "Random_Best_Param = random_search.best_params_\n",
    "Random_Best_Score = random_search.best_score_\n",
    "\n",
    "# Applying Bayesian Search\n",
    "from sklearn.tree import DecisionTreeClassifier\n",
    "classifier = DecisionTreeClassifier()\n",
    "from skopt import BayesSearchCV\n",
    "search_spaces = {\"class_weight\": [None],\n",
    "                  \"criterion\": [\"gini\", \"entropy\"],\n",
    "                  \"max_depth\": [2, 5],\n",
    "                  \"max_features\": [1, 2, 3, 4],\n",
    "                  \"max_leaf_nodes\":[2, 3, 4, 5, 10, 20],\n",
    "                  \"min_impurity_decrease\": [0.0, 0.1, 0.2],\n",
    "                  \"min_impurity_split\": [None],\n",
    "                  \"min_samples_leaf\": [1,2,3,4,5],\n",
    "                  \"min_samples_split\": [5, 10, 20, 25, 30],\n",
    "                  \"min_weight_fraction_leaf\": [0.0, 0.1, 0.2],\n",
    "                  \"presort\": [False],\n",
    "                  \"random_state\": [0, 1, 2, 3]}\n",
    "\n",
    "class BayesSearchCV(BayesSearchCV):\n",
    "    def _run_search(self, x): raise BaseException('Use newer skopt')\n",
    "\n",
    "opt = BayesSearchCV(classifier, search_spaces, scoring=\"accuracy\", cv = 10, n_jobs=1, random_state=0)\n",
    "opt.fit(X_train, y_train)\n",
    "\n",
    "Bayes_Best_Param = opt.best_params_\n",
    "Bayes_Best_Score = opt.best_score_"
   ]
  },
  {
   "cell_type": "code",
   "execution_count": null,
   "metadata": {},
   "outputs": [],
   "source": [
    "################### Testing set ###########################"
   ]
  },
  {
   "cell_type": "code",
   "execution_count": null,
   "metadata": {},
   "outputs": [],
   "source": [
    "# Fitting Decision Tree Classification to the Testing Set\n",
    "from sklearn.tree import DecisionTreeClassifier\n",
    "classifier = DecisionTreeClassifier()\n",
    "classifier.fit(X_train, y_train)\n"
   ]
  },
  {
   "cell_type": "code",
   "execution_count": null,
   "metadata": {},
   "outputs": [],
   "source": [
    "# Predicting the Test set results\n",
    "y_pred = classifier.predict(X_test)"
   ]
  },
  {
   "cell_type": "code",
   "execution_count": null,
   "metadata": {},
   "outputs": [],
   "source": [
    "# Making the Confusion Matrix\n",
    "import matplotlib.pyplot as plt\n",
    "from sklearn import svm, datasets\n",
    "from sklearn.metrics import confusion_matrix\n",
    "cm = confusion_matrix(y_test, y_pred)\n",
    "accuracy = ((cm[0][0]+cm[1][1]) / cm.sum())"
   ]
  },
  {
   "cell_type": "code",
   "execution_count": null,
   "metadata": {},
   "outputs": [],
   "source": [
    "# np.set_printoptions(precision=2)\n",
    "print('Confusion Matrix, without normalization')\n",
    "print(cm)\n",
    "plt.figure(figsize = (10,7))\n",
    "plt.matshow(cm)\n"
   ]
  },
  {
   "cell_type": "code",
   "execution_count": null,
   "metadata": {},
   "outputs": [],
   "source": [
    "# Normalize the confusion matrix by row (i.e. by the number of samples in each class)\n",
    "cm_normalized = cm.astype('float') / cm.sum(axis=1) [:, np.newaxis]\n",
    "print('Normalized confusion matrix')\n",
    "print(cm_normalized)\n",
    "plt.figure()\n",
    "plt.matshow(cm_normalized)"
   ]
  },
  {
   "cell_type": "code",
   "execution_count": null,
   "metadata": {},
   "outputs": [],
   "source": [
    "# Classification Report\n",
    "from sklearn.metrics import classification_report\n",
    "print(classification_report(y_test, y_pred))"
   ]
  },
  {
   "cell_type": "code",
   "execution_count": null,
   "metadata": {},
   "outputs": [],
   "source": [
    "\n",
    "# Matthews Correlation Coefficient Calculation #\n",
    "from sklearn.metrics import matthews_corrcoef\n",
    "matthews_corrcoef(y_test, y_pred)\n"
   ]
  },
  {
   "cell_type": "code",
   "execution_count": null,
   "metadata": {},
   "outputs": [],
   "source": [
    "\n",
    "# ROC Curve Implementation\n",
    "import scikitplot as skplt\n",
    "y_pred = classifier.predict(X_test)\n",
    "preds = y_pred[:,]\n",
    "fpr, tpr, threshold = skplt.metrics.roc_curve(y_test, preds)\n",
    "roc_auc = skplt.metrics.auc(fpr, tpr)"
   ]
  },
  {
   "cell_type": "code",
   "execution_count": null,
   "metadata": {},
   "outputs": [],
   "source": [
    "import matplotlib.pyplot as plt\n",
    "plt.title('Receiver Operating Characteristic')\n",
    "plt.plot(fpr, tpr, 'b', label = 'AUC = %0.2f' % roc_auc)\n",
    "plt.legend(loc = 'lower right')\n",
    "plt.plot([0, 1], [0, 1],'r--')\n",
    "plt.xlim([0, 1])\n",
    "plt.ylim([0, 1])\n",
    "plt.ylabel('True Positive Rate')\n",
    "plt.xlabel('False Positive Rate')\n",
    "plt.show()\n"
   ]
  },
  {
   "cell_type": "code",
   "execution_count": null,
   "metadata": {},
   "outputs": [],
   "source": []
  },
  {
   "cell_type": "code",
   "execution_count": null,
   "metadata": {},
   "outputs": [],
   "source": []
  },
  {
   "cell_type": "code",
   "execution_count": null,
   "metadata": {},
   "outputs": [],
   "source": []
  }
 ],
 "metadata": {
  "kernelspec": {
   "display_name": "Python 3",
   "language": "python",
   "name": "python3"
  },
  "language_info": {
   "codemirror_mode": {
    "name": "ipython",
    "version": 3
   },
   "file_extension": ".py",
   "mimetype": "text/x-python",
   "name": "python",
   "nbconvert_exporter": "python",
   "pygments_lexer": "ipython3",
   "version": "3.7.1"
  }
 },
 "nbformat": 4,
 "nbformat_minor": 2
}
