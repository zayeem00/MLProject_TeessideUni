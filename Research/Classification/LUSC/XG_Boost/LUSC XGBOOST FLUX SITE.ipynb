{
 "cells": [
  {
   "cell_type": "code",
   "execution_count": 1,
   "metadata": {},
   "outputs": [],
   "source": [
    "import pandas as pd\n",
    "import os\n",
    "import numpy as np\n",
    "import xgboost"
   ]
  },
  {
   "cell_type": "code",
   "execution_count": 2,
   "metadata": {},
   "outputs": [],
   "source": [
    "os.chdir('C:\\\\RESEARCH\\\\LUSC\\\\Site')"
   ]
  },
  {
   "cell_type": "code",
   "execution_count": 3,
   "metadata": {},
   "outputs": [],
   "source": [
    "X=pd.read_excel('LUSC_flux_Site.xlsx',index_col=0)"
   ]
  },
  {
   "cell_type": "code",
   "execution_count": 4,
   "metadata": {},
   "outputs": [
    {
     "data": {
      "text/plain": [
       "(501, 2051)"
      ]
     },
     "execution_count": 4,
     "metadata": {},
     "output_type": "execute_result"
    }
   ],
   "source": [
    "\n",
    "X.shape"
   ]
  },
  {
   "cell_type": "code",
   "execution_count": 5,
   "metadata": {},
   "outputs": [],
   "source": [
    "x=X.iloc[:,0:2049].values\n",
    "y=X.iloc[:,-1].values"
   ]
  },
  {
   "cell_type": "code",
   "execution_count": 6,
   "metadata": {},
   "outputs": [
    {
     "data": {
      "text/plain": [
       "array(['L-Upper', 'L-Upper', 'R-Lower', 'L-Upper', 'R-Lower', 'R-Upper',\n",
       "       'L-Lower', 'R-Lower', 'R-Upper', 'L-Upper', 'R-Upper', 'L-Lower',\n",
       "       'R-Lower', 'L-Lower', 'R-Lower', 'L-Lower', 'L-Upper', 'R-Lower',\n",
       "       'L-Upper', 'R-Upper', 'L-Upper', 'L-Lower', 'L-Lower', 'R-Upper',\n",
       "       'R-Lower', 'L-Upper', 'L-Lower', 'L-Lower', 'L-Lower', 'L-Upper',\n",
       "       'L-Lower', 'L-Upper', 'R-Upper', 'R-Upper', 'L-Upper', 'R-Lower',\n",
       "       'L-Lower', 'L-Upper', 'R-Lower', 'R-Middle', 'R-Upper', 'R-Upper',\n",
       "       'R-Lower', 'R-Upper', 'L-Upper', 'R-Lower', 'R-Lower', 'L-Upper',\n",
       "       'L-Lower', 'L-Upper', 'L-Upper', 'R-Upper', 'L-Upper', 'R-Upper',\n",
       "       'R-Lower', 'R-Upper', 'L-Upper', 'L-Lower', 'R-Lower', 'L-Upper',\n",
       "       'L-Upper', 'R-Lower', 'R-Lower', 'L-Lower', 'L-Upper', 'L-Lower',\n",
       "       'L-Upper', 'R-Upper', 'R-Upper', 'L-Upper', 'L-Lower', 'L-Upper',\n",
       "       'R-Lower', 'R-Lower', 'L-Upper', 'L-Upper', 'R-Upper', 'R-Upper',\n",
       "       'L-Lower', 'L-Lower', 'L-Lower', 'R-Middle', 'R-Lower', 'R-Upper',\n",
       "       'L-Upper', 'R-Upper', 'R-Lower', 'R-Upper', 'L-Upper', 'R-Lower',\n",
       "       'L-Lower', 'R-Lower', 'R-Upper', 'Bronchial', 'R-Lower', 'L-Upper',\n",
       "       'R-Upper', 'L-Upper', 'L-Upper', 'L-Upper', 'L-Upper', 'L-Upper',\n",
       "       'R-Lower', 'R-Lower', 'L-Lower', 'L-Upper', 'R-Lower', 'R-Lower',\n",
       "       'L-Upper', 'R-Lower', 'R-Lower', 'L-Upper', 'L-Upper', 'R-Upper',\n",
       "       'R-Middle', 'R-Upper', 'L-Lower', 'R-Lower', 'R-Lower', 'R-Upper',\n",
       "       'R-Upper', 'L-Upper', 'L-Upper', 'R-Middle', 'R-Lower', 'R-Lower',\n",
       "       'R-Upper', 'L-Upper', 'R-Upper', 'Bronchial', 'R-Lower', 'R-Upper',\n",
       "       'L-Lower', 'L-Lower', 'L-Upper', 'R-Upper', 'R-Lower', 'L-Upper',\n",
       "       'L-Lower', 'R-Upper', 'L-Upper', 'L-Upper', 'L-Upper', 'R-Upper',\n",
       "       'L-Lower', 'R-Upper', 'R-Upper', 'L-Lower', 'R-Lower', 'R-Lower',\n",
       "       'L-Upper', 'L-Upper', 'R-Lower', 'R-Lower', 'R-Upper', 'R-Upper',\n",
       "       'L-Lower', 'L-Upper', 'R-Upper', 'L-Upper', 'R-Upper', 'L-Upper',\n",
       "       'R-Middle', 'R-Upper', 'R-Lower', 'L-Lower', 'L-Upper', 'R-Upper',\n",
       "       'R-Lower', 'R-Lower', 'R-Upper', 'R-Upper', 'R-Upper', 'R-Upper',\n",
       "       'R-Lower', 'R-Upper', 'R-Upper', 'L-Lower', 'L-Upper', 'R-Lower',\n",
       "       'R-Upper', 'R-Upper', 'R-Upper', 'R-Upper', 'R-Lower', 'R-Upper',\n",
       "       'R-Lower', 'L-Upper', 'L-Lower', 'R-Lower', 'R-Upper', 'R-Upper',\n",
       "       'R-Upper', 'R-Upper', 'R-Lower', 'L-Upper', 'R-Upper', 'R-Upper',\n",
       "       'R-Upper', 'R-Lower', 'L-Upper', 'R-Lower', 'R-Lower', 'L-Upper',\n",
       "       'R-Lower', 'R-Upper', 'R-Lower', 'R-Lower', 'L-Upper', 'R-Upper',\n",
       "       'L-Lower', 'L-Upper', 'L-Upper', 'R-Lower', 'L-Upper', 'R-Lower',\n",
       "       'R-Lower', 'L-Upper', 'R-Lower', 'L-Upper', 'R-Upper', 'R-Lower',\n",
       "       'L-Upper', 'R-Lower', 'Bronchial', 'L-Upper', 'R-Lower', 'R-Upper',\n",
       "       'R-Lower', 'R-Upper', 'L-Lower', 'R-Lower', 'L-Upper', 'L-Upper',\n",
       "       'R-Middle', 'R-Lower', 'R-Lower', 'R-Upper', 'R-Upper', 'L-Upper',\n",
       "       'L-Lower', 'L-Upper', 'L-Upper', 'R-Lower', 'L-Upper', 'R-Lower',\n",
       "       'R-Upper', 'L-Upper', 'L-Upper', 'R-Upper', 'R-Lower', 'R-Upper',\n",
       "       'R-Upper', 'R-Middle', 'Bronchial', 'L-Upper', 'R-Middle',\n",
       "       'L-Upper', 'R-Lower', 'R-Upper', 'R-Upper', 'L-Upper', 'L-Upper',\n",
       "       'L-Lower', 'L-Lower', 'L-Upper', 'L-Lower', 'L-Lower', 'Bronchial',\n",
       "       'Other (please specify)', 'R-Lower', 'Bronchial', 'R-Upper',\n",
       "       'R-Lower', 'L-Upper', 'L-Upper', 'R-Upper', 'R-Lower', 'R-Lower',\n",
       "       'R-Upper', 'L-Lower', 'L-Lower', 'L-Lower', 'R-Middle', 'R-Upper',\n",
       "       'R-Lower', 'L-Lower', 'R-Upper', 'R-Upper', 'L-Upper', 'L-Upper',\n",
       "       'L-Upper', 'L-Lower', 'L-Upper', 'L-Lower', 'L-Upper', 'R-Lower',\n",
       "       'L-Lower', 'L-Upper', 'R-Lower', 'R-Upper', 'L-Lower', 'R-Middle',\n",
       "       'L-Lower', 'L-Upper', 'L-Upper', 'R-Upper', 'L-Lower', 'L-Upper',\n",
       "       'R-Upper', 'L-Upper', 'L-Lower', 'L-Lower', 'L-Upper', 'R-Lower',\n",
       "       'L-Lower', 'R-Middle', 'L-Upper', 'L-Upper', 'R-Upper', 'R-Lower',\n",
       "       'L-Upper', 'L-Upper', 'R-Upper', 'L-Upper', 'L-Lower', 'R-Lower',\n",
       "       'L-Lower', 'R-Upper', 'R-Upper', 'L-Upper', 'R-Upper', 'R-Lower',\n",
       "       'R-Middle', 'L-Lower', 'R-Lower', 'L-Upper', 'L-Upper', 'L-Upper',\n",
       "       'L-Upper', 'L-Upper', 'R-Upper', 'L-Upper', 'R-Upper', 'R-Upper',\n",
       "       'R-Lower', 'R-Lower', 'Other (please specify)', 'L-Upper',\n",
       "       'L-Lower', 'Other (please specify)', 'Other (please specify)',\n",
       "       'L-Upper', 'R-Upper', 'R-Lower', 'L-Upper', 'L-Lower',\n",
       "       'Other (please specify)', 'R-Upper', 'Other (please specify)',\n",
       "       'R-Lower', 'R-Lower', 'R-Lower', 'L-Upper', 'L-Upper', 'R-Lower',\n",
       "       'Bronchial', 'R-Upper', 'L-Upper', 'R-Upper', 'L-Upper',\n",
       "       'Other (please specify)', 'L-Lower', 'Other (please specify)',\n",
       "       'L-Upper', 'L-Upper', 'R-Upper', 'R-Upper', 'R-Upper', 'L-Upper',\n",
       "       'L-Upper', 'R-Upper', 'L-Upper', 'L-Lower', 'L-Upper', 'L-Upper',\n",
       "       'L-Upper', 'L-Lower', 'L-Lower', 'R-Upper', 'L-Upper', 'R-Upper',\n",
       "       'L-Upper', 'L-Upper', 'L-Upper', 'L-Upper', 'R-Middle', 'R-Upper',\n",
       "       'R-Lower', 'R-Upper', 'R-Lower', 'R-Lower', 'L-Upper', 'L-Lower',\n",
       "       'L-Upper', 'R-Lower', 'L-Upper', 'R-Upper', 'R-Upper', 'L-Upper',\n",
       "       'R-Lower', 'L-Lower', 'R-Upper', 'L-Upper', 'L-Lower', 'R-Lower',\n",
       "       'R-Upper', 'R-Upper', 'R-Upper', 'L-Lower', 'L-Lower', 'L-Upper',\n",
       "       'L-Upper', 'R-Middle', 'R-Upper', 'R-Upper', 'R-Upper', 'R-Upper',\n",
       "       'L-Upper', 'R-Upper', 'R-Upper', 'Bronchial', 'R-Upper', 'R-Upper',\n",
       "       'R-Upper', 'L-Upper', 'R-Upper', 'L-Lower', 'L-Upper', 'L-Upper',\n",
       "       'L-Lower', 'L-Upper', 'R-Upper', 'R-Lower', 'Bronchial',\n",
       "       'Bronchial', 'L-Lower', 'L-Lower', 'R-Lower', 'R-Lower', 'R-Lower',\n",
       "       'R-Upper', 'L-Lower', 'R-Upper', 'R-Upper', 'R-Upper', 'R-Upper',\n",
       "       'Other (please specify)', 'L-Upper', 'L-Upper', 'R-Middle',\n",
       "       'L-Upper', 'R-Lower', 'R-Upper', 'R-Upper', 'R-Upper', 'R-Upper',\n",
       "       'L-Lower', 'R-Lower', 'R-Upper', 'R-Lower', 'L-Upper', 'R-Upper',\n",
       "       'L-Upper', 'L-Upper', 'L-Lower', 'R-Lower', 'L-Lower', 'R-Lower',\n",
       "       'R-Middle', 'Other (please specify)', 'R-Upper', 'R-Lower',\n",
       "       'L-Lower', 'L-Upper', 'L-Upper', 'R-Middle', 'R-Lower',\n",
       "       'Other (please specify)', 'R-Upper', 'L-Lower', 'R-Lower',\n",
       "       'R-Upper', 'L-Upper', 'R-Upper', 'R-Upper', 'L-Lower', 'L-Upper',\n",
       "       'R-Lower', 'R-Middle', 'R-Lower'], dtype=object)"
      ]
     },
     "execution_count": 6,
     "metadata": {},
     "output_type": "execute_result"
    }
   ],
   "source": [
    "y"
   ]
  },
  {
   "cell_type": "code",
   "execution_count": 7,
   "metadata": {},
   "outputs": [],
   "source": [
    "# Encoding categorical data\n",
    "from sklearn.preprocessing import LabelEncoder\n",
    "labelEncoder_y = LabelEncoder()\n",
    "y = labelEncoder_y.fit_transform(y.astype(str))\n"
   ]
  },
  {
   "cell_type": "code",
   "execution_count": 8,
   "metadata": {},
   "outputs": [],
   "source": [
    "# Splitting the dataset into the Training set and Test set\n",
    "from sklearn.model_selection import train_test_split\n",
    "X_train, X_test, y_train, y_test = train_test_split(x, y, test_size = 0.2, random_state = 0)\n",
    "\n",
    "X_train, X_val, y_train, y_val = train_test_split(X_train, y_train, test_size=0.2, random_state=0)\n"
   ]
  },
  {
   "cell_type": "code",
   "execution_count": 9,
   "metadata": {},
   "outputs": [],
   "source": [
    "# Feature Scaling\n",
    "from sklearn.preprocessing import StandardScaler\n",
    "sc = StandardScaler()\n",
    "X_train = sc.fit_transform(X_train)\n",
    "X_val = sc.fit_transform(X_val)\n",
    "X_test = sc.transform(X_test)"
   ]
  },
  {
   "cell_type": "code",
   "execution_count": 10,
   "metadata": {},
   "outputs": [
    {
     "data": {
      "text/plain": [
       "XGBClassifier(base_score=0.5, booster='gbtree', colsample_bylevel=1,\n",
       "       colsample_bynode=1, colsample_bytree=1, gamma=0, learning_rate=0.1,\n",
       "       max_delta_step=0, max_depth=3, min_child_weight=1, missing=None,\n",
       "       n_estimators=100, n_jobs=1, nthread=None,\n",
       "       objective='multi:softprob', random_state=0, reg_alpha=0,\n",
       "       reg_lambda=1, scale_pos_weight=1, seed=None, silent=None,\n",
       "       subsample=1, verbosity=1)"
      ]
     },
     "execution_count": 10,
     "metadata": {},
     "output_type": "execute_result"
    }
   ],
   "source": [
    "# Fitting XGBoost to the Validation set\n",
    "from xgboost import XGBClassifier\n",
    "classifier = XGBClassifier()\n",
    "classifier.fit(X_train, y_train)"
   ]
  },
  {
   "cell_type": "code",
   "execution_count": 11,
   "metadata": {},
   "outputs": [],
   "source": [
    "# Predicting the Validation set results\n",
    "y_val_pred = classifier.predict(X_val)"
   ]
  },
  {
   "cell_type": "code",
   "execution_count": 12,
   "metadata": {},
   "outputs": [
    {
     "data": {
      "text/plain": [
       "0.275"
      ]
     },
     "execution_count": 12,
     "metadata": {},
     "output_type": "execute_result"
    }
   ],
   "source": [
    "# Making the Confusion Matrix\n",
    "import matplotlib.pyplot as plt\n",
    "from sklearn import svm, datasets\n",
    "from sklearn.metrics import confusion_matrix\n",
    "cm = confusion_matrix(y_val, y_val_pred)\n",
    "accuracy = ((cm[0][0]+cm[1][1]+cm[2][2]+cm[3][3]+cm[4][4]+cm[5][5]+cm[6][6]) / cm.sum())\n",
    "accuracy"
   ]
  },
  {
   "cell_type": "code",
   "execution_count": 13,
   "metadata": {},
   "outputs": [
    {
     "name": "stdout",
     "output_type": "stream",
     "text": [
      "Confusion Matrix, without normalization\n",
      "[[0 0 1 0 0 0 1]\n",
      " [0 1 6 0 1 0 6]\n",
      " [0 3 9 0 3 0 9]\n",
      " [0 0 2 0 1 0 1]\n",
      " [0 1 5 0 4 0 3]\n",
      " [0 0 0 0 0 0 1]\n",
      " [0 1 7 0 6 0 8]]\n"
     ]
    },
    {
     "data": {
      "text/plain": [
       "<matplotlib.image.AxesImage at 0x12e4e94a0f0>"
      ]
     },
     "execution_count": 13,
     "metadata": {},
     "output_type": "execute_result"
    },
    {
     "data": {
      "text/plain": [
       "<Figure size 720x504 with 0 Axes>"
      ]
     },
     "metadata": {},
     "output_type": "display_data"
    },
    {
     "data": {
      "image/png": "[encoded data removed]",
      "text/plain": [
       "<Figure size 288x288 with 1 Axes>"
      ]
     },
     "metadata": {
      "needs_background": "light"
     },
     "output_type": "display_data"
    }
   ],
   "source": [
    "# np.set_printoptions(precision=2)\n",
    "print('Confusion Matrix, without normalization')\n",
    "print(cm)\n",
    "plt.figure(figsize = (10,7))\n",
    "plt.matshow(cm)\n"
   ]
  },
  {
   "cell_type": "code",
   "execution_count": 14,
   "metadata": {},
   "outputs": [
    {
     "name": "stdout",
     "output_type": "stream",
     "text": [
      "Normalized confusion matrix\n",
      "[[0.         0.         0.5        0.         0.         0.\n",
      "  0.5       ]\n",
      " [0.         0.07142857 0.42857143 0.         0.07142857 0.\n",
      "  0.42857143]\n",
      " [0.         0.125      0.375      0.         0.125      0.\n",
      "  0.375     ]\n",
      " [0.         0.         0.5        0.         0.25       0.\n",
      "  0.25      ]\n",
      " [0.         0.07692308 0.38461538 0.         0.30769231 0.\n",
      "  0.23076923]\n",
      " [0.         0.         0.         0.         0.         0.\n",
      "  1.        ]\n",
      " [0.         0.04545455 0.31818182 0.         0.27272727 0.\n",
      "  0.36363636]]\n"
     ]
    },
    {
     "data": {
      "text/plain": [
       "<matplotlib.image.AxesImage at 0x12e4f06fe80>"
      ]
     },
     "execution_count": 14,
     "metadata": {},
     "output_type": "execute_result"
    },
    {
     "data": {
      "text/plain": [
       "<Figure size 432x288 with 0 Axes>"
      ]
     },
     "metadata": {},
     "output_type": "display_data"
    },
    {
     "data": {
      "image/png": "[encoded data removed]",
      "text/plain": [
       "<Figure size 288x288 with 1 Axes>"
      ]
     },
     "metadata": {
      "needs_background": "light"
     },
     "output_type": "display_data"
    }
   ],
   "source": [
    "# Normalize the confusion matrix by row (i.e. by the number of samples in each class)\n",
    "cm_normalized = cm.astype('float') / cm.sum(axis=1) [:, np.newaxis]\n",
    "print('Normalized confusion matrix')\n",
    "print(cm_normalized)\n",
    "plt.figure()\n",
    "plt.matshow(cm_normalized)"
   ]
  },
  {
   "cell_type": "code",
   "execution_count": 15,
   "metadata": {},
   "outputs": [
    {
     "name": "stdout",
     "output_type": "stream",
     "text": [
      "              precision    recall  f1-score   support\n",
      "\n",
      "           0       0.00      0.00      0.00         2\n",
      "           1       0.17      0.07      0.10        14\n",
      "           2       0.30      0.38      0.33        24\n",
      "           3       0.00      0.00      0.00         4\n",
      "           4       0.27      0.31      0.29        13\n",
      "           5       0.00      0.00      0.00         1\n",
      "           6       0.28      0.36      0.31        22\n",
      "\n",
      "   micro avg       0.28      0.28      0.28        80\n",
      "   macro avg       0.14      0.16      0.15        80\n",
      "weighted avg       0.24      0.28      0.25        80\n",
      "\n"
     ]
    },
    {
     "name": "stderr",
     "output_type": "stream",
     "text": [
      "C:\\Users\\Kanika Saini\\Anaconda3\\lib\\site-packages\\sklearn\\metrics\\classification.py:1143: UndefinedMetricWarning: Precision and F-score are ill-defined and being set to 0.0 in labels with no predicted samples.\n",
      "  'precision', 'predicted', average, warn_for)\n"
     ]
    }
   ],
   "source": [
    "# Classification Report\n",
    "from sklearn.metrics import classification_report\n",
    "print(classification_report(y_val, y_val_pred))"
   ]
  },
  {
   "cell_type": "code",
   "execution_count": 16,
   "metadata": {},
   "outputs": [
    {
     "data": {
      "text/plain": [
       "0.026351145427384415"
      ]
     },
     "execution_count": 16,
     "metadata": {},
     "output_type": "execute_result"
    }
   ],
   "source": [
    "\n",
    "# Matthews Correlation Coefficient Calculation #\n",
    "from sklearn.metrics import matthews_corrcoef\n",
    "matthews_corrcoef(y_val, y_val_pred)"
   ]
  },
  {
   "cell_type": "code",
   "execution_count": 17,
   "metadata": {},
   "outputs": [
    {
     "name": "stderr",
     "output_type": "stream",
     "text": [
      "C:\\Users\\Kanika Saini\\Anaconda3\\lib\\site-packages\\sklearn\\model_selection\\_split.py:652: Warning: The least populated class in y has only 5 members, which is too few. The minimum number of members in any class cannot be less than n_splits=10.\n",
      "  % (min_groups, self.n_splits)), Warning)\n"
     ]
    },
    {
     "data": {
      "text/plain": [
       "0.23213606654783128"
      ]
     },
     "execution_count": 17,
     "metadata": {},
     "output_type": "execute_result"
    }
   ],
   "source": [
    "# Applying k-Fold Cross Validation\n",
    "from sklearn.model_selection import cross_val_score\n",
    "accuracies = cross_val_score(estimator = classifier, X = X_train, y = y_train, cv = 10)\n",
    "accuracies.mean()"
   ]
  },
  {
   "cell_type": "code",
   "execution_count": null,
   "metadata": {},
   "outputs": [],
   "source": [
    "\"\"\"\n",
    "# Applying Grid Search to find the best model and the best parameters\n",
    "from sklearn.model_selection import GridSearchCV\n",
    "parameters = [{'C' : [1, 10, 100, 1000], 'kernel' : ['linear']},\n",
    "              {'C' : [1, 10, 100, 1000], 'kernel' : ['rbf'], 'gamma' : [0.0001, 0.0002, 0.0003, 0.0004, 0.0005, 0.0006, 0.0007, 0.0008]}]\n",
    "grid_search = GridSearchCV(estimator = classifier,\n",
    "                           param_grid = parameters, \n",
    "                           scoring = 'accuracy',\n",
    "                           cv = 10, \n",
    "                           n_jobs = -1)\n",
    "grid_search = grid_search.fit(X_train, y_train)\n",
    "best_accuracy = grid_search.best_score_\n",
    "best_parameters = grid_search.best_params_\"\"\""
   ]
  },
  {
   "cell_type": "code",
   "execution_count": null,
   "metadata": {},
   "outputs": [],
   "source": [
    "################### Testing set ###########################"
   ]
  },
  {
   "cell_type": "code",
   "execution_count": null,
   "metadata": {},
   "outputs": [],
   "source": [
    "# Fitting XGBoost to the Training set\n",
    "from xgboost import XGBClassifier\n",
    "classifier = XGBClassifier()\n",
    "classifier.fit(X_train, y_train)"
   ]
  },
  {
   "cell_type": "code",
   "execution_count": null,
   "metadata": {},
   "outputs": [],
   "source": [
    "# Predicting the Test set results\n",
    "y_pred = classifier.predict(X_test)"
   ]
  },
  {
   "cell_type": "code",
   "execution_count": null,
   "metadata": {},
   "outputs": [],
   "source": [
    "# Making the Confusion Matrix\n",
    "import matplotlib.pyplot as plt\n",
    "from sklearn import svm, datasets\n",
    "from sklearn.metrics import confusion_matrix\n",
    "cm = confusion_matrix(y_test, y_pred)\n",
    "accuracy = ((cm[0][0]+cm[1][1]) / cm.sum())"
   ]
  },
  {
   "cell_type": "code",
   "execution_count": null,
   "metadata": {},
   "outputs": [],
   "source": [
    "# np.set_printoptions(precision=2)\n",
    "print('Confusion Matrix, without normalization')\n",
    "print(cm)\n",
    "plt.figure(figsize = (10,7))\n",
    "plt.matshow(cm)\n"
   ]
  },
  {
   "cell_type": "code",
   "execution_count": null,
   "metadata": {},
   "outputs": [],
   "source": [
    "# Normalize the confusion matrix by row (i.e. by the number of samples in each class)\n",
    "cm_normalized = cm.astype('float') / cm.sum(axis=1) [:, np.newaxis]\n",
    "print('Normalized confusion matrix')\n",
    "print(cm_normalized)\n",
    "plt.figure()\n",
    "plt.matshow(cm_normalized)"
   ]
  },
  {
   "cell_type": "code",
   "execution_count": null,
   "metadata": {},
   "outputs": [],
   "source": [
    "# Classification Report\n",
    "from sklearn.metrics import classification_report\n",
    "print(classification_report(y_test, y_pred))"
   ]
  },
  {
   "cell_type": "code",
   "execution_count": null,
   "metadata": {},
   "outputs": [],
   "source": [
    "\n",
    "# Matthews Correlation Coefficient Calculation #\n",
    "from sklearn.metrics import matthews_corrcoef\n",
    "matthews_corrcoef(y_test, y_pred)\n"
   ]
  },
  {
   "cell_type": "code",
   "execution_count": null,
   "metadata": {},
   "outputs": [],
   "source": [
    "\n",
    "# ROC Curve Implementation\n",
    "import scikitplot as skplt\n",
    "y_pred = classifier.predict(X_test)\n",
    "preds = y_pred[:,]\n",
    "fpr, tpr, threshold = skplt.metrics.roc_curve(y_test, preds)\n",
    "roc_auc = skplt.metrics.auc(fpr, tpr)"
   ]
  },
  {
   "cell_type": "code",
   "execution_count": null,
   "metadata": {},
   "outputs": [],
   "source": [
    "import matplotlib.pyplot as plt\n",
    "plt.title('Receiver Operating Characteristic')\n",
    "plt.plot(fpr, tpr, 'b', label = 'AUC = %0.2f' % roc_auc)\n",
    "plt.legend(loc = 'lower right')\n",
    "plt.plot([0, 1], [0, 1],'r--')\n",
    "plt.xlim([0, 1])\n",
    "plt.ylim([0, 1])\n",
    "plt.ylabel('True Positive Rate')\n",
    "plt.xlabel('False Positive Rate')\n",
    "plt.show()\n"
   ]
  },
  {
   "cell_type": "code",
   "execution_count": null,
   "metadata": {},
   "outputs": [],
   "source": []
  },
  {
   "cell_type": "code",
   "execution_count": null,
   "metadata": {},
   "outputs": [],
   "source": []
  },
  {
   "cell_type": "code",
   "execution_count": null,
   "metadata": {},
   "outputs": [],
   "source": []
  }
 ],
 "metadata": {
  "kernelspec": {
   "display_name": "Python 3",
   "language": "python",
   "name": "python3"
  },
  "language_info": {
   "codemirror_mode": {
    "name": "ipython",
    "version": 3
   },
   "file_extension": ".py",
   "mimetype": "text/x-python",
   "name": "python",
   "nbconvert_exporter": "python",
   "pygments_lexer": "ipython3",
   "version": "3.7.1"
  }
 },
 "nbformat": 4,
 "nbformat_minor": 2
}
