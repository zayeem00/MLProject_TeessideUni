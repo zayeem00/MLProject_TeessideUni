{
 "cells": [
  {
   "cell_type": "code",
   "execution_count": 1,
   "metadata": {},
   "outputs": [],
   "source": [
    "#importing necessary python packages\n",
    "import pandas as pd\n",
    "import numpy as np\n",
    "import os"
   ]
  },
  {
   "cell_type": "code",
   "execution_count": 2,
   "metadata": {},
   "outputs": [],
   "source": [
    "os.chdir('C:\\\\RESEARCH\\\\LUSC\\\\Regression') #setting the right directory"
   ]
  },
  {
   "cell_type": "code",
   "execution_count": 3,
   "metadata": {},
   "outputs": [],
   "source": [
    "# Importing the dataset\n",
    "flux = pd.read_excel('LUSC_Flux.xlsx',index_col=0)\n",
    "genes=pd.read_excel('LUSC_Genes.xlsx',index_col=0)"
   ]
  },
  {
   "cell_type": "code",
   "execution_count": 4,
   "metadata": {},
   "outputs": [
    {
     "data": {
      "text/plain": [
       "(501, 2051)"
      ]
     },
     "execution_count": 4,
     "metadata": {},
     "output_type": "execute_result"
    }
   ],
   "source": [
    "flux.shape"
   ]
  },
  {
   "cell_type": "code",
   "execution_count": 5,
   "metadata": {},
   "outputs": [
    {
     "data": {
      "text/html": [
       "<div>\n",
       "<style scoped>\n",
       "    .dataframe tbody tr th:only-of-type {\n",
       "        vertical-align: middle;\n",
       "    }\n",
       "\n",
       "    .dataframe tbody tr th {\n",
       "        vertical-align: top;\n",
       "    }\n",
       "\n",
       "    .dataframe thead th {\n",
       "        text-align: right;\n",
       "    }\n",
       "</style>\n",
       "<table border=\"1\" class=\"dataframe\">\n",
       "  <thead>\n",
       "    <tr style=\"text-align: right;\">\n",
       "      <th></th>\n",
       "      <th>'3DSPHR'</th>\n",
       "      <th>'3HBCOAHLm'</th>\n",
       "      <th>'ABTArm'</th>\n",
       "      <th>'ABTD'</th>\n",
       "      <th>'ACACT1r'</th>\n",
       "      <th>'ACACT1rm'</th>\n",
       "      <th>'ACACT1x'</th>\n",
       "      <th>'ACOAD9m'</th>\n",
       "      <th>'ACOAO7p'</th>\n",
       "      <th>'ACOATA'</th>\n",
       "      <th>...</th>\n",
       "      <th>'13HTACRitr'</th>\n",
       "      <th>'1513TACRitr'</th>\n",
       "      <th>'1531TACRitr'</th>\n",
       "      <th>'DEOXFVSitx'</th>\n",
       "      <th>'FVSitx'</th>\n",
       "      <th>'TACRitr'</th>\n",
       "      <th>'13DMTitr'</th>\n",
       "      <th>'15DMTitr'</th>\n",
       "      <th>'31DMTitr'</th>\n",
       "      <th>Overall Survival (Months)</th>\n",
       "    </tr>\n",
       "    <tr>\n",
       "      <th>Hugo_Symbol</th>\n",
       "      <th></th>\n",
       "      <th></th>\n",
       "      <th></th>\n",
       "      <th></th>\n",
       "      <th></th>\n",
       "      <th></th>\n",
       "      <th></th>\n",
       "      <th></th>\n",
       "      <th></th>\n",
       "      <th></th>\n",
       "      <th></th>\n",
       "      <th></th>\n",
       "      <th></th>\n",
       "      <th></th>\n",
       "      <th></th>\n",
       "      <th></th>\n",
       "      <th></th>\n",
       "      <th></th>\n",
       "      <th></th>\n",
       "      <th></th>\n",
       "      <th></th>\n",
       "    </tr>\n",
       "  </thead>\n",
       "  <tbody>\n",
       "    <tr>\n",
       "      <th>TCGA-18-3406-01</th>\n",
       "      <td>10.518463</td>\n",
       "      <td>146.49113</td>\n",
       "      <td>-505.307115</td>\n",
       "      <td>-5.696311</td>\n",
       "      <td>285.777813</td>\n",
       "      <td>124.268717</td>\n",
       "      <td>268.647858</td>\n",
       "      <td>29.491254</td>\n",
       "      <td>95.057046</td>\n",
       "      <td>-145.068167</td>\n",
       "      <td>...</td>\n",
       "      <td>23.456765</td>\n",
       "      <td>23.456765</td>\n",
       "      <td>23.456765</td>\n",
       "      <td>-315.830928</td>\n",
       "      <td>315.830928</td>\n",
       "      <td>41.782363</td>\n",
       "      <td>-9.529311</td>\n",
       "      <td>-9.529311</td>\n",
       "      <td>-9.529311</td>\n",
       "      <td>12.19</td>\n",
       "    </tr>\n",
       "    <tr>\n",
       "      <th>TCGA-18-3407-01</th>\n",
       "      <td>9.551598</td>\n",
       "      <td>143.67818</td>\n",
       "      <td>-434.700304</td>\n",
       "      <td>-3.660883</td>\n",
       "      <td>236.434371</td>\n",
       "      <td>128.267910</td>\n",
       "      <td>204.021467</td>\n",
       "      <td>44.445592</td>\n",
       "      <td>76.854620</td>\n",
       "      <td>-93.193927</td>\n",
       "      <td>...</td>\n",
       "      <td>18.649305</td>\n",
       "      <td>18.649305</td>\n",
       "      <td>18.649305</td>\n",
       "      <td>-262.245016</td>\n",
       "      <td>262.245016</td>\n",
       "      <td>33.219075</td>\n",
       "      <td>-7.576280</td>\n",
       "      <td>-7.576280</td>\n",
       "      <td>-7.576280</td>\n",
       "      <td>4.47</td>\n",
       "    </tr>\n",
       "  </tbody>\n",
       "</table>\n",
       "<p>2 rows × 2051 columns</p>\n",
       "</div>"
      ],
      "text/plain": [
       "                  '3DSPHR'  '3HBCOAHLm'    'ABTArm'    'ABTD'   'ACACT1r'  \\\n",
       "Hugo_Symbol                                                                 \n",
       "TCGA-18-3406-01  10.518463    146.49113 -505.307115 -5.696311  285.777813   \n",
       "TCGA-18-3407-01   9.551598    143.67818 -434.700304 -3.660883  236.434371   \n",
       "\n",
       "                 'ACACT1rm'   'ACACT1x'  'ACOAD9m'  'ACOAO7p'    'ACOATA'  \\\n",
       "Hugo_Symbol                                                                 \n",
       "TCGA-18-3406-01  124.268717  268.647858  29.491254  95.057046 -145.068167   \n",
       "TCGA-18-3407-01  128.267910  204.021467  44.445592  76.854620  -93.193927   \n",
       "\n",
       "                           ...              '13HTACRitr'  '1513TACRitr'  \\\n",
       "Hugo_Symbol                ...                                            \n",
       "TCGA-18-3406-01            ...                 23.456765      23.456765   \n",
       "TCGA-18-3407-01            ...                 18.649305      18.649305   \n",
       "\n",
       "                 '1531TACRitr'  'DEOXFVSitx'    'FVSitx'  'TACRitr'  \\\n",
       "Hugo_Symbol                                                           \n",
       "TCGA-18-3406-01      23.456765   -315.830928  315.830928  41.782363   \n",
       "TCGA-18-3407-01      18.649305   -262.245016  262.245016  33.219075   \n",
       "\n",
       "                 '13DMTitr'  '15DMTitr'  '31DMTitr'  Overall Survival (Months)  \n",
       "Hugo_Symbol                                                                     \n",
       "TCGA-18-3406-01   -9.529311   -9.529311   -9.529311                      12.19  \n",
       "TCGA-18-3407-01   -7.576280   -7.576280   -7.576280                       4.47  \n",
       "\n",
       "[2 rows x 2051 columns]"
      ]
     },
     "execution_count": 5,
     "metadata": {},
     "output_type": "execute_result"
    }
   ],
   "source": [
    "flux.head(2)"
   ]
  },
  {
   "cell_type": "code",
   "execution_count": 6,
   "metadata": {},
   "outputs": [],
   "source": [
    "del flux['Overall Survival (Months)']"
   ]
  },
  {
   "cell_type": "code",
   "execution_count": 7,
   "metadata": {},
   "outputs": [],
   "source": [
    "dt = flux.merge(genes,left_index=True,right_index=True)"
   ]
  },
  {
   "cell_type": "code",
   "execution_count": 8,
   "metadata": {},
   "outputs": [
    {
     "data": {
      "text/html": [
       "<div>\n",
       "<style scoped>\n",
       "    .dataframe tbody tr th:only-of-type {\n",
       "        vertical-align: middle;\n",
       "    }\n",
       "\n",
       "    .dataframe tbody tr th {\n",
       "        vertical-align: top;\n",
       "    }\n",
       "\n",
       "    .dataframe thead th {\n",
       "        text-align: right;\n",
       "    }\n",
       "</style>\n",
       "<table border=\"1\" class=\"dataframe\">\n",
       "  <thead>\n",
       "    <tr style=\"text-align: right;\">\n",
       "      <th></th>\n",
       "      <th>'3DSPHR'</th>\n",
       "      <th>'3HBCOAHLm'</th>\n",
       "      <th>'ABTArm'</th>\n",
       "      <th>'ABTD'</th>\n",
       "      <th>'ACACT1r'</th>\n",
       "      <th>'ACACT1rm'</th>\n",
       "      <th>'ACACT1x'</th>\n",
       "      <th>'ACOAD9m'</th>\n",
       "      <th>'ACOAO7p'</th>\n",
       "      <th>'ACOATA'</th>\n",
       "      <th>...</th>\n",
       "      <th>SLFN12</th>\n",
       "      <th>SLFN13</th>\n",
       "      <th>SLFN14</th>\n",
       "      <th>SLFN5</th>\n",
       "      <th>SLFNL1</th>\n",
       "      <th>SLIT1</th>\n",
       "      <th>SLIT2</th>\n",
       "      <th>SLIT3</th>\n",
       "      <th>SLITRK1</th>\n",
       "      <th>Overall Survival (Months)</th>\n",
       "    </tr>\n",
       "    <tr>\n",
       "      <th>Hugo_Symbol</th>\n",
       "      <th></th>\n",
       "      <th></th>\n",
       "      <th></th>\n",
       "      <th></th>\n",
       "      <th></th>\n",
       "      <th></th>\n",
       "      <th></th>\n",
       "      <th></th>\n",
       "      <th></th>\n",
       "      <th></th>\n",
       "      <th></th>\n",
       "      <th></th>\n",
       "      <th></th>\n",
       "      <th></th>\n",
       "      <th></th>\n",
       "      <th></th>\n",
       "      <th></th>\n",
       "      <th></th>\n",
       "      <th></th>\n",
       "      <th></th>\n",
       "      <th></th>\n",
       "    </tr>\n",
       "  </thead>\n",
       "  <tbody>\n",
       "    <tr>\n",
       "      <th>TCGA-18-3406-01</th>\n",
       "      <td>10.518463</td>\n",
       "      <td>146.491130</td>\n",
       "      <td>-505.307115</td>\n",
       "      <td>-5.696311</td>\n",
       "      <td>285.777813</td>\n",
       "      <td>124.268717</td>\n",
       "      <td>268.647858</td>\n",
       "      <td>29.491254</td>\n",
       "      <td>95.057046</td>\n",
       "      <td>-145.068167</td>\n",
       "      <td>...</td>\n",
       "      <td>0.3141</td>\n",
       "      <td>0.7349</td>\n",
       "      <td>-0.6499</td>\n",
       "      <td>1.8195</td>\n",
       "      <td>-0.9816</td>\n",
       "      <td>-0.1401</td>\n",
       "      <td>-0.5147</td>\n",
       "      <td>-0.5814</td>\n",
       "      <td>-0.2205</td>\n",
       "      <td>12.19</td>\n",
       "    </tr>\n",
       "    <tr>\n",
       "      <th>TCGA-18-3407-01</th>\n",
       "      <td>9.551598</td>\n",
       "      <td>143.678180</td>\n",
       "      <td>-434.700304</td>\n",
       "      <td>-3.660883</td>\n",
       "      <td>236.434371</td>\n",
       "      <td>128.267910</td>\n",
       "      <td>204.021467</td>\n",
       "      <td>44.445592</td>\n",
       "      <td>76.854620</td>\n",
       "      <td>-93.193927</td>\n",
       "      <td>...</td>\n",
       "      <td>0.0783</td>\n",
       "      <td>-0.4010</td>\n",
       "      <td>-0.1467</td>\n",
       "      <td>1.5143</td>\n",
       "      <td>-0.1113</td>\n",
       "      <td>-0.2146</td>\n",
       "      <td>-0.3133</td>\n",
       "      <td>-0.4178</td>\n",
       "      <td>-0.2303</td>\n",
       "      <td>4.47</td>\n",
       "    </tr>\n",
       "    <tr>\n",
       "      <th>TCGA-18-3408-01</th>\n",
       "      <td>9.522306</td>\n",
       "      <td>151.690320</td>\n",
       "      <td>-515.759083</td>\n",
       "      <td>-2.617564</td>\n",
       "      <td>317.972340</td>\n",
       "      <td>172.704049</td>\n",
       "      <td>249.346087</td>\n",
       "      <td>93.481975</td>\n",
       "      <td>97.983209</td>\n",
       "      <td>-110.961391</td>\n",
       "      <td>...</td>\n",
       "      <td>-0.4077</td>\n",
       "      <td>-0.5936</td>\n",
       "      <td>-0.2316</td>\n",
       "      <td>0.4824</td>\n",
       "      <td>-0.7531</td>\n",
       "      <td>-0.2614</td>\n",
       "      <td>0.6907</td>\n",
       "      <td>-0.7456</td>\n",
       "      <td>-0.2451</td>\n",
       "      <td>75.69</td>\n",
       "    </tr>\n",
       "    <tr>\n",
       "      <th>TCGA-18-3409-01</th>\n",
       "      <td>9.134161</td>\n",
       "      <td>149.337894</td>\n",
       "      <td>-421.251278</td>\n",
       "      <td>-4.635302</td>\n",
       "      <td>281.290094</td>\n",
       "      <td>125.776087</td>\n",
       "      <td>247.502726</td>\n",
       "      <td>44.047143</td>\n",
       "      <td>112.809209</td>\n",
       "      <td>-119.490189</td>\n",
       "      <td>...</td>\n",
       "      <td>-0.2600</td>\n",
       "      <td>-0.7075</td>\n",
       "      <td>-0.6499</td>\n",
       "      <td>-0.9627</td>\n",
       "      <td>-0.6501</td>\n",
       "      <td>-0.2228</td>\n",
       "      <td>-0.2258</td>\n",
       "      <td>1.1757</td>\n",
       "      <td>-0.1811</td>\n",
       "      <td>123.09</td>\n",
       "    </tr>\n",
       "    <tr>\n",
       "      <th>TCGA-18-3410-01</th>\n",
       "      <td>9.891407</td>\n",
       "      <td>131.511738</td>\n",
       "      <td>-602.071961</td>\n",
       "      <td>-2.724578</td>\n",
       "      <td>287.886409</td>\n",
       "      <td>185.597405</td>\n",
       "      <td>270.541368</td>\n",
       "      <td>43.652424</td>\n",
       "      <td>105.806608</td>\n",
       "      <td>-135.360164</td>\n",
       "      <td>...</td>\n",
       "      <td>-0.8499</td>\n",
       "      <td>1.2627</td>\n",
       "      <td>0.6000</td>\n",
       "      <td>-0.7937</td>\n",
       "      <td>-0.7380</td>\n",
       "      <td>-0.0738</td>\n",
       "      <td>-0.6798</td>\n",
       "      <td>-0.6544</td>\n",
       "      <td>-0.1960</td>\n",
       "      <td>4.80</td>\n",
       "    </tr>\n",
       "  </tbody>\n",
       "</table>\n",
       "<p>5 rows × 16888 columns</p>\n",
       "</div>"
      ],
      "text/plain": [
       "                  '3DSPHR'  '3HBCOAHLm'    'ABTArm'    'ABTD'   'ACACT1r'  \\\n",
       "Hugo_Symbol                                                                 \n",
       "TCGA-18-3406-01  10.518463   146.491130 -505.307115 -5.696311  285.777813   \n",
       "TCGA-18-3407-01   9.551598   143.678180 -434.700304 -3.660883  236.434371   \n",
       "TCGA-18-3408-01   9.522306   151.690320 -515.759083 -2.617564  317.972340   \n",
       "TCGA-18-3409-01   9.134161   149.337894 -421.251278 -4.635302  281.290094   \n",
       "TCGA-18-3410-01   9.891407   131.511738 -602.071961 -2.724578  287.886409   \n",
       "\n",
       "                 'ACACT1rm'   'ACACT1x'  'ACOAD9m'   'ACOAO7p'    'ACOATA'  \\\n",
       "Hugo_Symbol                                                                  \n",
       "TCGA-18-3406-01  124.268717  268.647858  29.491254   95.057046 -145.068167   \n",
       "TCGA-18-3407-01  128.267910  204.021467  44.445592   76.854620  -93.193927   \n",
       "TCGA-18-3408-01  172.704049  249.346087  93.481975   97.983209 -110.961391   \n",
       "TCGA-18-3409-01  125.776087  247.502726  44.047143  112.809209 -119.490189   \n",
       "TCGA-18-3410-01  185.597405  270.541368  43.652424  105.806608 -135.360164   \n",
       "\n",
       "                           ...              SLFN12  SLFN13  SLFN14   SLFN5  \\\n",
       "Hugo_Symbol                ...                                               \n",
       "TCGA-18-3406-01            ...              0.3141  0.7349 -0.6499  1.8195   \n",
       "TCGA-18-3407-01            ...              0.0783 -0.4010 -0.1467  1.5143   \n",
       "TCGA-18-3408-01            ...             -0.4077 -0.5936 -0.2316  0.4824   \n",
       "TCGA-18-3409-01            ...             -0.2600 -0.7075 -0.6499 -0.9627   \n",
       "TCGA-18-3410-01            ...             -0.8499  1.2627  0.6000 -0.7937   \n",
       "\n",
       "                 SLFNL1   SLIT1   SLIT2   SLIT3  SLITRK1  \\\n",
       "Hugo_Symbol                                                \n",
       "TCGA-18-3406-01 -0.9816 -0.1401 -0.5147 -0.5814  -0.2205   \n",
       "TCGA-18-3407-01 -0.1113 -0.2146 -0.3133 -0.4178  -0.2303   \n",
       "TCGA-18-3408-01 -0.7531 -0.2614  0.6907 -0.7456  -0.2451   \n",
       "TCGA-18-3409-01 -0.6501 -0.2228 -0.2258  1.1757  -0.1811   \n",
       "TCGA-18-3410-01 -0.7380 -0.0738 -0.6798 -0.6544  -0.1960   \n",
       "\n",
       "                 Overall Survival (Months)  \n",
       "Hugo_Symbol                                 \n",
       "TCGA-18-3406-01                      12.19  \n",
       "TCGA-18-3407-01                       4.47  \n",
       "TCGA-18-3408-01                      75.69  \n",
       "TCGA-18-3409-01                     123.09  \n",
       "TCGA-18-3410-01                       4.80  \n",
       "\n",
       "[5 rows x 16888 columns]"
      ]
     },
     "execution_count": 8,
     "metadata": {},
     "output_type": "execute_result"
    }
   ],
   "source": [
    "dt.head()"
   ]
  },
  {
   "cell_type": "code",
   "execution_count": 9,
   "metadata": {},
   "outputs": [
    {
     "data": {
      "text/plain": [
       "(501, 16888)"
      ]
     },
     "execution_count": 9,
     "metadata": {},
     "output_type": "execute_result"
    }
   ],
   "source": [
    "dt.shape"
   ]
  },
  {
   "cell_type": "code",
   "execution_count": 10,
   "metadata": {},
   "outputs": [],
   "source": [
    "X = dt.iloc[:,0:16786].values\n",
    "y = dt.iloc[:, -1].values"
   ]
  },
  {
   "cell_type": "code",
   "execution_count": 11,
   "metadata": {},
   "outputs": [],
   "source": [
    "# Splitting the dataset into the Training set and Test set\n",
    "from sklearn.model_selection import train_test_split\n",
    "X_train, X_test, y_train, y_test = train_test_split(X, y, test_size = 0.2, random_state = 0)\n",
    "X_train, X_val, y_train, y_val = train_test_split(X_train, y_train, test_size=0.2, random_state=0)"
   ]
  },
  {
   "cell_type": "code",
   "execution_count": 12,
   "metadata": {},
   "outputs": [],
   "source": [
    "# Feature Scaling\n",
    "from sklearn.preprocessing import StandardScaler\n",
    "sc_X = StandardScaler()\n",
    "X_train = sc_X.fit_transform(X_train)\n",
    "X_test = sc_X.transform(X_test)\n",
    "X_val = sc_X.fit_transform(X_val)"
   ]
  },
  {
   "cell_type": "code",
   "execution_count": 14,
   "metadata": {},
   "outputs": [],
   "source": [
    "sc_y = StandardScaler()\n",
    "y_train = np.squeeze(sc_y.fit_transform(y_train.reshape(-1, 1)))\n",
    "y_val = np.squeeze(sc_y.transform(y_val.reshape(-1, 1)))\n",
    "y_test = np.squeeze(sc_y.transform(y_test.reshape(-1, 1)))"
   ]
  },
  {
   "cell_type": "code",
   "execution_count": 15,
   "metadata": {},
   "outputs": [
    {
     "data": {
      "text/plain": [
       "GradientBoostingRegressor(alpha=0.9, criterion='friedman_mse', init=None,\n",
       "             learning_rate=0.1, loss='ls', max_depth=3, max_features=None,\n",
       "             max_leaf_nodes=None, min_impurity_decrease=0.0,\n",
       "             min_impurity_split=None, min_samples_leaf=1,\n",
       "             min_samples_split=2, min_weight_fraction_leaf=0.0,\n",
       "             n_estimators=100, n_iter_no_change=None, presort='auto',\n",
       "             random_state=None, subsample=1.0, tol=0.0001,\n",
       "             validation_fraction=0.1, verbose=0, warm_start=False)"
      ]
     },
     "execution_count": 15,
     "metadata": {},
     "output_type": "execute_result"
    }
   ],
   "source": [
    "# Fitting Simple Linear Regression to the Training set\n",
    "from sklearn.ensemble import GradientBoostingRegressor\n",
    "regressor = GradientBoostingRegressor()\n",
    "\n",
    "\n",
    "regressor.fit(X_train, y_train)\n"
   ]
  },
  {
   "cell_type": "code",
   "execution_count": 16,
   "metadata": {},
   "outputs": [],
   "source": [
    "#Predicting the Validation set results\n",
    "y_predval = regressor.predict(X_val)"
   ]
  },
  {
   "cell_type": "code",
   "execution_count": 17,
   "metadata": {},
   "outputs": [
    {
     "name": "stdout",
     "output_type": "stream",
     "text": [
      "0.8624153541796048\n",
      "1.181817900620952\n",
      "1.087114483677295\n",
      "Variance score: -0.18\n"
     ]
    }
   ],
   "source": [
    "# Print result of MAE\n",
    "from sklearn import metrics\n",
    "print(metrics.mean_absolute_error(y_val, y_predval))\n",
    "\n",
    "# Print result of MSE\n",
    "print(metrics.mean_squared_error(y_val, y_predval))\n",
    "\n",
    "# Print result of RMSE\n",
    "print(np.sqrt(metrics.mean_squared_error(y_val, y_predval)))\n",
    "\n",
    "# Explained variance score: 1 is perfect prediction (Accuracy Score)\n",
    "print('Variance score: %.2f' % regressor.score(X_val, y_val))\n",
    "\n"
   ]
  },
  {
   "cell_type": "code",
   "execution_count": 19,
   "metadata": {},
   "outputs": [
    {
     "name": "stdout",
     "output_type": "stream",
     "text": [
      "R^2 = -0.1818\n"
     ]
    },
    {
     "data": {
      "image/png": "[encoded data removed]",
      "text/plain": [
       "<Figure size 1440x720 with 1 Axes>"
      ]
     },
     "metadata": {
      "needs_background": "light"
     },
     "output_type": "display_data"
    },
    {
     "data": {
      "image/png": "[encoded data removed]",
      "text/plain": [
       "<Figure size 1440x720 with 1 Axes>"
      ]
     },
     "metadata": {
      "needs_background": "light"
     },
     "output_type": "display_data"
    }
   ],
   "source": [
    "# Visualising the Random Forest Regression Results\n",
    "# Loading Packages\n",
    "import seaborn as sns\n",
    "import matplotlib.pyplot as plt\n",
    "from sklearn.model_selection import cross_val_predict\n",
    "from sklearn.metrics import r2_score\n",
    "#from sklearn import linear_model\n",
    "from sklearn import datasets\n",
    "from scipy.integrate import simps\n",
    "\n",
    "# Function for Regression Error Characteritic Curve\n",
    "\n",
    "def REC(y_val , y_predval):\n",
    "    \n",
    "    # initilizing the lists\n",
    "    Accuracy = []\n",
    "    \n",
    "    # initializing the values for Epsilon\n",
    "    Begin_Range = 0\n",
    "    End_Range = 1.5\n",
    "    Interval_Size = 0.01\n",
    "    \n",
    "    # List of epsilons\n",
    "    Epsilon = np.arange(Begin_Range , End_Range , Interval_Size)\n",
    "    \n",
    "    # Main Loops\n",
    "    for i in range(len(Epsilon)):\n",
    "        count = 0.0\n",
    "        for j in range(len(y_val)):\n",
    "            if np.linalg.norm(y_val[j] - y_predval[j]) / np.sqrt( np.linalg.norm(y_val[j]) **2 + np.linalg.norm(y_predval[j])**2 ) < Epsilon[i]:\n",
    "                count = count + 1\n",
    "        \n",
    "        Accuracy.append(count/len(y_val))\n",
    "    \n",
    "    # Calculating Area Under Curve using Simpson's rule\n",
    "    AUC = simps(Accuracy , Epsilon ) / End_Range\n",
    "        \n",
    "    # returning epsilon , accuracy , area under curve    \n",
    "    return Epsilon , Accuracy , AUC\n",
    "\n",
    "# finding the deviation and accuracy, and area under curve for plotting\n",
    "Deviation, Accuracy, AUC = REC(y_val, y_predval)\n",
    "\n",
    "# Calculating R^2 of the true and predicted values\n",
    "RR = r2_score(y_val, y_predval)\n",
    "\n",
    "# Plotting\n",
    "plt.figure(figsize=(20 , 10))\n",
    "\n",
    "plt.subplot(1, 2, 1)\n",
    "plt.scatter(y_val, y_predval,color = \"darkorange\")\n",
    "plt.xlabel(\"Real Data\")\n",
    "plt.ylabel(\"Predicted\")\n",
    "plt.figure(figsize=(20 , 10))\n",
    "plt.plot([y_val.min(), y_val.max()], [y_val.min(), y_val.max()], 'k--', lw=4)\n",
    "print(\"R^2 = %0.4f\" %RR)\n",
    "\n",
    "\n",
    "plt.subplot(1, 2, 2)\n",
    "plt.title(\"Regression Error Characteristic (REC)\")\n",
    "plt.plot(Deviation, Accuracy, \"--b\",lw =3)\n",
    "plt.xlabel(\"Deviation\")\n",
    "plt.ylabel(\"Accuracy (%)\")\n",
    "plt.text(1.1, 0.07, \"AUC = %0.4f\" %AUC , fontsize=15)\n",
    "\n",
    "\n",
    "plt.show()"
   ]
  },
  {
   "cell_type": "code",
   "execution_count": 23,
   "metadata": {},
   "outputs": [],
   "source": [
    "# GRID SEARCH\n",
    "from sklearn.model_selection import GridSearchCV\n",
    "\n",
    "param_grid = { 'learning_rate':[0.15,0.1,0.05,0.01,0.005,0.001], 'n_estimators':[100,250,500,750,1000,1250],\n",
    "                  \"max_depth\": [1,2,3,4,5,6,7],\n",
    "                  \"verbose\":[1]}  \n"
   ]
  },
  {
   "cell_type": "code",
   "execution_count": 24,
   "metadata": {},
   "outputs": [],
   "source": [
    "regressor = GradientBoostingRegressor()\n",
    "grid = GridSearchCV(estimator=regressor, param_grid=param_grid, cv=10)\n",
    "grid_search = grid.fit(X_train, y_train)"
   ]
  },
  {
   "cell_type": "code",
   "execution_count": 25,
   "metadata": {},
   "outputs": [
    {
     "name": "stdout",
     "output_type": "stream",
     "text": [
      "0.10048475560397338 {'max_depth': 4, 'min_samples_split': 1.0}\n"
     ]
    }
   ],
   "source": [
    "print(grid_search.best_score_, grid_search.best_params_)"
   ]
  },
  {
   "cell_type": "code",
   "execution_count": 26,
   "metadata": {},
   "outputs": [
    {
     "data": {
      "text/plain": [
       "DecisionTreeRegressor(criterion='mse', max_depth=4, max_features=None,\n",
       "           max_leaf_nodes=None, min_impurity_decrease=0.0,\n",
       "           min_impurity_split=None, min_samples_leaf=1,\n",
       "           min_samples_split=1.0, min_weight_fraction_leaf=0.0,\n",
       "           presort=False, random_state=None, splitter='best')"
      ]
     },
     "execution_count": 26,
     "metadata": {},
     "output_type": "execute_result"
    }
   ],
   "source": [
    "# Fitting Random Forest Regression to the dataset\n",
    "from sklearn.tree import DecisionTreeRegressor\n",
    "regressor = DecisionTreeRegressor(max_depth = 4, min_samples_split = 1.0)\n",
    "\n",
    "regressor.fit(X_train, y_train)"
   ]
  },
  {
   "cell_type": "code",
   "execution_count": 27,
   "metadata": {},
   "outputs": [],
   "source": [
    "#Predicting the Validation set results\n",
    "y_predval = regressor.predict(X_val)"
   ]
  },
  {
   "cell_type": "code",
   "execution_count": 28,
   "metadata": {},
   "outputs": [
    {
     "name": "stdout",
     "output_type": "stream",
     "text": [
      "0.6822044466409322\n",
      "0.8589846670544914\n",
      "0.9268142570410165\n",
      "Variance score: 0.14\n"
     ]
    }
   ],
   "source": [
    "# Print result of MAE\n",
    "from sklearn import metrics\n",
    "print(metrics.mean_absolute_error(y_val, y_predval))\n",
    "\n",
    "# Print result of MSE\n",
    "print(metrics.mean_squared_error(y_val, y_predval))\n",
    "\n",
    "# Print result of RMSE\n",
    "print(np.sqrt(metrics.mean_squared_error(y_val, y_predval)))\n",
    "\n",
    "# Explained variance score: 1 is perfect prediction (Accuracy Score)\n",
    "print('Variance score: %.2f' % regressor.score(X_val, y_val))"
   ]
  },
  {
   "cell_type": "code",
   "execution_count": null,
   "metadata": {},
   "outputs": [],
   "source": []
  }
 ],
 "metadata": {
  "kernelspec": {
   "display_name": "Python 3",
   "language": "python",
   "name": "python3"
  },
  "language_info": {
   "codemirror_mode": {
    "name": "ipython",
    "version": 3
   },
   "file_extension": ".py",
   "mimetype": "text/x-python",
   "name": "python",
   "nbconvert_exporter": "python",
   "pygments_lexer": "ipython3",
   "version": "3.7.1"
  }
 },
 "nbformat": 4,
 "nbformat_minor": 2
}
