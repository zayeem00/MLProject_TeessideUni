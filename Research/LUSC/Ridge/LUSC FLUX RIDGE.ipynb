{
 "cells": [
  {
   "cell_type": "code",
   "execution_count": 1,
   "metadata": {},
   "outputs": [],
   "source": [
    "#importing necessary python packages\n",
    "import pandas as pd\n",
    "import numpy as np\n",
    "import os"
   ]
  },
  {
   "cell_type": "code",
   "execution_count": 2,
   "metadata": {},
   "outputs": [],
   "source": [
    "os.chdir('C:\\\\RESEARCH\\\\LUSC\\\\Regression') #setting the right directory"
   ]
  },
  {
   "cell_type": "code",
   "execution_count": 3,
   "metadata": {},
   "outputs": [],
   "source": [
    "# Importing the dataset\n",
    "dt = pd.read_excel('LUSC_Flux.xlsx',index_col=0)\n"
   ]
  },
  {
   "cell_type": "code",
   "execution_count": 4,
   "metadata": {},
   "outputs": [
    {
     "data": {
      "text/plain": [
       "(501, 2051)"
      ]
     },
     "execution_count": 4,
     "metadata": {},
     "output_type": "execute_result"
    }
   ],
   "source": [
    "dt.shape"
   ]
  },
  {
   "cell_type": "code",
   "execution_count": 5,
   "metadata": {},
   "outputs": [
    {
     "data": {
      "text/html": [
       "<div>\n",
       "<style scoped>\n",
       "    .dataframe tbody tr th:only-of-type {\n",
       "        vertical-align: middle;\n",
       "    }\n",
       "\n",
       "    .dataframe tbody tr th {\n",
       "        vertical-align: top;\n",
       "    }\n",
       "\n",
       "    .dataframe thead th {\n",
       "        text-align: right;\n",
       "    }\n",
       "</style>\n",
       "<table border=\"1\" class=\"dataframe\">\n",
       "  <thead>\n",
       "    <tr style=\"text-align: right;\">\n",
       "      <th></th>\n",
       "      <th>'3DSPHR'</th>\n",
       "      <th>'3HBCOAHLm'</th>\n",
       "      <th>'ABTArm'</th>\n",
       "      <th>'ABTD'</th>\n",
       "      <th>'ACACT1r'</th>\n",
       "      <th>'ACACT1rm'</th>\n",
       "      <th>'ACACT1x'</th>\n",
       "      <th>'ACOAD9m'</th>\n",
       "      <th>'ACOAO7p'</th>\n",
       "      <th>'ACOATA'</th>\n",
       "      <th>...</th>\n",
       "      <th>'13HTACRitr'</th>\n",
       "      <th>'1513TACRitr'</th>\n",
       "      <th>'1531TACRitr'</th>\n",
       "      <th>'DEOXFVSitx'</th>\n",
       "      <th>'FVSitx'</th>\n",
       "      <th>'TACRitr'</th>\n",
       "      <th>'13DMTitr'</th>\n",
       "      <th>'15DMTitr'</th>\n",
       "      <th>'31DMTitr'</th>\n",
       "      <th>Overall Survival (Months)</th>\n",
       "    </tr>\n",
       "    <tr>\n",
       "      <th>Hugo_Symbol</th>\n",
       "      <th></th>\n",
       "      <th></th>\n",
       "      <th></th>\n",
       "      <th></th>\n",
       "      <th></th>\n",
       "      <th></th>\n",
       "      <th></th>\n",
       "      <th></th>\n",
       "      <th></th>\n",
       "      <th></th>\n",
       "      <th></th>\n",
       "      <th></th>\n",
       "      <th></th>\n",
       "      <th></th>\n",
       "      <th></th>\n",
       "      <th></th>\n",
       "      <th></th>\n",
       "      <th></th>\n",
       "      <th></th>\n",
       "      <th></th>\n",
       "      <th></th>\n",
       "    </tr>\n",
       "  </thead>\n",
       "  <tbody>\n",
       "    <tr>\n",
       "      <th>TCGA-18-3406-01</th>\n",
       "      <td>10.518463</td>\n",
       "      <td>146.49113</td>\n",
       "      <td>-505.307115</td>\n",
       "      <td>-5.696311</td>\n",
       "      <td>285.777813</td>\n",
       "      <td>124.268717</td>\n",
       "      <td>268.647858</td>\n",
       "      <td>29.491254</td>\n",
       "      <td>95.057046</td>\n",
       "      <td>-145.068167</td>\n",
       "      <td>...</td>\n",
       "      <td>23.456765</td>\n",
       "      <td>23.456765</td>\n",
       "      <td>23.456765</td>\n",
       "      <td>-315.830928</td>\n",
       "      <td>315.830928</td>\n",
       "      <td>41.782363</td>\n",
       "      <td>-9.529311</td>\n",
       "      <td>-9.529311</td>\n",
       "      <td>-9.529311</td>\n",
       "      <td>12.19</td>\n",
       "    </tr>\n",
       "    <tr>\n",
       "      <th>TCGA-18-3407-01</th>\n",
       "      <td>9.551598</td>\n",
       "      <td>143.67818</td>\n",
       "      <td>-434.700304</td>\n",
       "      <td>-3.660883</td>\n",
       "      <td>236.434371</td>\n",
       "      <td>128.267910</td>\n",
       "      <td>204.021467</td>\n",
       "      <td>44.445592</td>\n",
       "      <td>76.854620</td>\n",
       "      <td>-93.193927</td>\n",
       "      <td>...</td>\n",
       "      <td>18.649305</td>\n",
       "      <td>18.649305</td>\n",
       "      <td>18.649305</td>\n",
       "      <td>-262.245016</td>\n",
       "      <td>262.245016</td>\n",
       "      <td>33.219075</td>\n",
       "      <td>-7.576280</td>\n",
       "      <td>-7.576280</td>\n",
       "      <td>-7.576280</td>\n",
       "      <td>4.47</td>\n",
       "    </tr>\n",
       "  </tbody>\n",
       "</table>\n",
       "<p>2 rows × 2051 columns</p>\n",
       "</div>"
      ],
      "text/plain": [
       "                  '3DSPHR'  '3HBCOAHLm'    'ABTArm'    'ABTD'   'ACACT1r'  \\\n",
       "Hugo_Symbol                                                                 \n",
       "TCGA-18-3406-01  10.518463    146.49113 -505.307115 -5.696311  285.777813   \n",
       "TCGA-18-3407-01   9.551598    143.67818 -434.700304 -3.660883  236.434371   \n",
       "\n",
       "                 'ACACT1rm'   'ACACT1x'  'ACOAD9m'  'ACOAO7p'    'ACOATA'  \\\n",
       "Hugo_Symbol                                                                 \n",
       "TCGA-18-3406-01  124.268717  268.647858  29.491254  95.057046 -145.068167   \n",
       "TCGA-18-3407-01  128.267910  204.021467  44.445592  76.854620  -93.193927   \n",
       "\n",
       "                           ...              '13HTACRitr'  '1513TACRitr'  \\\n",
       "Hugo_Symbol                ...                                            \n",
       "TCGA-18-3406-01            ...                 23.456765      23.456765   \n",
       "TCGA-18-3407-01            ...                 18.649305      18.649305   \n",
       "\n",
       "                 '1531TACRitr'  'DEOXFVSitx'    'FVSitx'  'TACRitr'  \\\n",
       "Hugo_Symbol                                                           \n",
       "TCGA-18-3406-01      23.456765   -315.830928  315.830928  41.782363   \n",
       "TCGA-18-3407-01      18.649305   -262.245016  262.245016  33.219075   \n",
       "\n",
       "                 '13DMTitr'  '15DMTitr'  '31DMTitr'  Overall Survival (Months)  \n",
       "Hugo_Symbol                                                                     \n",
       "TCGA-18-3406-01   -9.529311   -9.529311   -9.529311                      12.19  \n",
       "TCGA-18-3407-01   -7.576280   -7.576280   -7.576280                       4.47  \n",
       "\n",
       "[2 rows x 2051 columns]"
      ]
     },
     "execution_count": 5,
     "metadata": {},
     "output_type": "execute_result"
    }
   ],
   "source": [
    "dt.head(2)"
   ]
  },
  {
   "cell_type": "code",
   "execution_count": 7,
   "metadata": {},
   "outputs": [],
   "source": [
    "X = dt.iloc[:,0:2049].values\n",
    "y = dt.iloc[:, -1].values"
   ]
  },
  {
   "cell_type": "code",
   "execution_count": 8,
   "metadata": {},
   "outputs": [],
   "source": [
    "# Splitting the dataset into the Training set and Test set\n",
    "from sklearn.model_selection import train_test_split\n",
    "X_train, X_test, y_train, y_test = train_test_split(X, y, test_size = 0.2, random_state = 0)\n",
    "X_train, X_val, y_train, y_val = train_test_split(X_train, y_train, test_size=0.2, random_state=0)"
   ]
  },
  {
   "cell_type": "code",
   "execution_count": 9,
   "metadata": {},
   "outputs": [],
   "source": [
    "# Feature Scaling\n",
    "from sklearn.preprocessing import StandardScaler\n",
    "sc_X = StandardScaler()\n",
    "X_train = sc_X.fit_transform(X_train)\n",
    "X_test = sc_X.transform(X_test)\n",
    "X_val = sc_X.fit_transform(X_val)"
   ]
  },
  {
   "cell_type": "code",
   "execution_count": 10,
   "metadata": {},
   "outputs": [],
   "source": [
    "sc_y = StandardScaler()\n",
    "y_train = np.squeeze(sc_y.fit_transform(y_train.reshape(-1, 1)))\n",
    "y_val = np.squeeze(sc_y.fit_transform(y_val.reshape(-1, 1)))\n",
    "y_test = np.squeeze(sc_y.fit_transform(y_test.reshape(-1, 1)))"
   ]
  },
  {
   "cell_type": "code",
   "execution_count": 11,
   "metadata": {},
   "outputs": [
    {
     "data": {
      "text/plain": [
       "Ridge(alpha=1.0, copy_X=True, fit_intercept=True, max_iter=None,\n",
       "   normalize=False, random_state=None, solver='auto', tol=0.001)"
      ]
     },
     "execution_count": 11,
     "metadata": {},
     "output_type": "execute_result"
    }
   ],
   "source": [
    "# Fitting Simple Linear Regression to the Training set\n",
    "from sklearn.linear_model import Ridge\n",
    "regressor = Ridge()\n",
    "\n",
    "\n",
    "regressor.fit(X_train, y_train)"
   ]
  },
  {
   "cell_type": "code",
   "execution_count": 12,
   "metadata": {},
   "outputs": [],
   "source": [
    "#Predicting the Validation set results\n",
    "y_predval = regressor.predict(X_val)"
   ]
  },
  {
   "cell_type": "code",
   "execution_count": 13,
   "metadata": {
    "scrolled": true
   },
   "outputs": [
    {
     "name": "stdout",
     "output_type": "stream",
     "text": [
      "1.3143288530798245\n",
      "4.029943890020048\n",
      "2.0074720147538914\n",
      "Variance score: -3.03\n"
     ]
    }
   ],
   "source": [
    "# Print result of MAE\n",
    "from sklearn import metrics\n",
    "print(metrics.mean_absolute_error(y_val, y_predval))\n",
    "\n",
    "# Print result of MSE\n",
    "print(metrics.mean_squared_error(y_val, y_predval))\n",
    "\n",
    "# Print result of RMSE\n",
    "print(np.sqrt(metrics.mean_squared_error(y_val, y_predval)))\n",
    "\n",
    "# Explained variance score: 1 is perfect prediction (Accuracy Score)\n",
    "print('Variance score: %.2f' % regressor.score(X_val, y_val))\n",
    "\n"
   ]
  },
  {
   "cell_type": "code",
   "execution_count": null,
   "metadata": {},
   "outputs": [],
   "source": []
  }
 ],
 "metadata": {
  "kernelspec": {
   "display_name": "Python 3",
   "language": "python",
   "name": "python3"
  },
  "language_info": {
   "codemirror_mode": {
    "name": "ipython",
    "version": 3
   },
   "file_extension": ".py",
   "mimetype": "text/x-python",
   "name": "python",
   "nbconvert_exporter": "python",
   "pygments_lexer": "ipython3",
   "version": "3.7.1"
  }
 },
 "nbformat": 4,
 "nbformat_minor": 2
}
