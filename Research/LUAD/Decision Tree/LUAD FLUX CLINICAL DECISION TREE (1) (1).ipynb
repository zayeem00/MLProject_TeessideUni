{
 "cells": [
  {
   "cell_type": "code",
   "execution_count": 1,
   "metadata": {},
   "outputs": [],
   "source": [
    "#importing necessary python packages\n",
    "import pandas as pd\n",
    "import numpy as np\n",
    "import os"
   ]
  },
  {
   "cell_type": "code",
   "execution_count": 2,
   "metadata": {},
   "outputs": [],
   "source": [
    "os.chdir('C:\\\\RESEARCH\\\\LUAD\\\\Regression') #setting the right directory"
   ]
  },
  {
   "cell_type": "code",
   "execution_count": 3,
   "metadata": {},
   "outputs": [],
   "source": [
    "# Importing the dataset\n",
    "dt = pd.read_excel('Flux Clinical.xlsx',index_col=0)\n"
   ]
  },
  {
   "cell_type": "code",
   "execution_count": 4,
   "metadata": {},
   "outputs": [
    {
     "data": {
      "text/plain": [
       "(517, 2309)"
      ]
     },
     "execution_count": 4,
     "metadata": {},
     "output_type": "execute_result"
    }
   ],
   "source": [
    "dt.shape"
   ]
  },
  {
   "cell_type": "code",
   "execution_count": 5,
   "metadata": {},
   "outputs": [
    {
     "data": {
      "text/html": [
       "<div>\n",
       "<style scoped>\n",
       "    .dataframe tbody tr th:only-of-type {\n",
       "        vertical-align: middle;\n",
       "    }\n",
       "\n",
       "    .dataframe tbody tr th {\n",
       "        vertical-align: top;\n",
       "    }\n",
       "\n",
       "    .dataframe thead th {\n",
       "        text-align: right;\n",
       "    }\n",
       "</style>\n",
       "<table border=\"1\" class=\"dataframe\">\n",
       "  <thead>\n",
       "    <tr style=\"text-align: right;\">\n",
       "      <th></th>\n",
       "      <th>'3DSPHR'</th>\n",
       "      <th>'3HBCOAHLm'</th>\n",
       "      <th>'ABTArm'</th>\n",
       "      <th>'ABTD'</th>\n",
       "      <th>'ACACT1r'</th>\n",
       "      <th>'ACACT1rm'</th>\n",
       "      <th>'ACACT1x'</th>\n",
       "      <th>'ACOAD9m'</th>\n",
       "      <th>'ACOAO7p'</th>\n",
       "      <th>'ACOATA'</th>\n",
       "      <th>...</th>\n",
       "      <th>Tissue Source Site_NJ</th>\n",
       "      <th>Tissue Source Site_O1</th>\n",
       "      <th>Tissue Source Site_S2</th>\n",
       "      <th>Person Neoplasm Status_TUMOR FREE</th>\n",
       "      <th>Person Neoplasm Status_WITH TUMOR</th>\n",
       "      <th>Vial number_A</th>\n",
       "      <th>Vial number_B</th>\n",
       "      <th>Patient's Vital Status_Alive</th>\n",
       "      <th>Patient's Vital Status_Dead</th>\n",
       "      <th>Overall Survival (Months)</th>\n",
       "    </tr>\n",
       "    <tr>\n",
       "      <th>HUG0_SYMBOL</th>\n",
       "      <th></th>\n",
       "      <th></th>\n",
       "      <th></th>\n",
       "      <th></th>\n",
       "      <th></th>\n",
       "      <th></th>\n",
       "      <th></th>\n",
       "      <th></th>\n",
       "      <th></th>\n",
       "      <th></th>\n",
       "      <th></th>\n",
       "      <th></th>\n",
       "      <th></th>\n",
       "      <th></th>\n",
       "      <th></th>\n",
       "      <th></th>\n",
       "      <th></th>\n",
       "      <th></th>\n",
       "      <th></th>\n",
       "      <th></th>\n",
       "      <th></th>\n",
       "    </tr>\n",
       "  </thead>\n",
       "  <tbody>\n",
       "    <tr>\n",
       "      <th>TCGA-05-4244-01</th>\n",
       "      <td>11.448262</td>\n",
       "      <td>154.187481</td>\n",
       "      <td>-583.764387</td>\n",
       "      <td>-14.237357</td>\n",
       "      <td>125.403072</td>\n",
       "      <td>235.338244</td>\n",
       "      <td>457.654536</td>\n",
       "      <td>74.716367</td>\n",
       "      <td>72.493260</td>\n",
       "      <td>-165.591744</td>\n",
       "      <td>...</td>\n",
       "      <td>0</td>\n",
       "      <td>0</td>\n",
       "      <td>0</td>\n",
       "      <td>1</td>\n",
       "      <td>0</td>\n",
       "      <td>1</td>\n",
       "      <td>0</td>\n",
       "      <td>1</td>\n",
       "      <td>0</td>\n",
       "      <td>0.00</td>\n",
       "    </tr>\n",
       "    <tr>\n",
       "      <th>TCGA-05-4249-01</th>\n",
       "      <td>9.173955</td>\n",
       "      <td>162.200877</td>\n",
       "      <td>-442.863722</td>\n",
       "      <td>-5.338254</td>\n",
       "      <td>128.134267</td>\n",
       "      <td>137.492687</td>\n",
       "      <td>149.939274</td>\n",
       "      <td>75.026103</td>\n",
       "      <td>56.620656</td>\n",
       "      <td>-73.252506</td>\n",
       "      <td>...</td>\n",
       "      <td>0</td>\n",
       "      <td>0</td>\n",
       "      <td>0</td>\n",
       "      <td>1</td>\n",
       "      <td>0</td>\n",
       "      <td>1</td>\n",
       "      <td>0</td>\n",
       "      <td>1</td>\n",
       "      <td>0</td>\n",
       "      <td>50.03</td>\n",
       "    </tr>\n",
       "  </tbody>\n",
       "</table>\n",
       "<p>2 rows × 2309 columns</p>\n",
       "</div>"
      ],
      "text/plain": [
       "                  '3DSPHR'  '3HBCOAHLm'    'ABTArm'     'ABTD'   'ACACT1r'  \\\n",
       "HUG0_SYMBOL                                                                  \n",
       "TCGA-05-4244-01  11.448262   154.187481 -583.764387 -14.237357  125.403072   \n",
       "TCGA-05-4249-01   9.173955   162.200877 -442.863722  -5.338254  128.134267   \n",
       "\n",
       "                 'ACACT1rm'   'ACACT1x'  'ACOAD9m'  'ACOAO7p'    'ACOATA'  \\\n",
       "HUG0_SYMBOL                                                                 \n",
       "TCGA-05-4244-01  235.338244  457.654536  74.716367  72.493260 -165.591744   \n",
       "TCGA-05-4249-01  137.492687  149.939274  75.026103  56.620656  -73.252506   \n",
       "\n",
       "                           ...              Tissue Source Site_NJ  \\\n",
       "HUG0_SYMBOL                ...                                      \n",
       "TCGA-05-4244-01            ...                                  0   \n",
       "TCGA-05-4249-01            ...                                  0   \n",
       "\n",
       "                 Tissue Source Site_O1  Tissue Source Site_S2  \\\n",
       "HUG0_SYMBOL                                                     \n",
       "TCGA-05-4244-01                      0                      0   \n",
       "TCGA-05-4249-01                      0                      0   \n",
       "\n",
       "                 Person Neoplasm Status_TUMOR FREE  \\\n",
       "HUG0_SYMBOL                                          \n",
       "TCGA-05-4244-01                                  1   \n",
       "TCGA-05-4249-01                                  1   \n",
       "\n",
       "                 Person Neoplasm Status_WITH TUMOR  Vial number_A  \\\n",
       "HUG0_SYMBOL                                                         \n",
       "TCGA-05-4244-01                                  0              1   \n",
       "TCGA-05-4249-01                                  0              1   \n",
       "\n",
       "                 Vial number_B  Patient's Vital Status_Alive  \\\n",
       "HUG0_SYMBOL                                                    \n",
       "TCGA-05-4244-01              0                             1   \n",
       "TCGA-05-4249-01              0                             1   \n",
       "\n",
       "                 Patient's Vital Status_Dead  Overall Survival (Months)  \n",
       "HUG0_SYMBOL                                                              \n",
       "TCGA-05-4244-01                            0                       0.00  \n",
       "TCGA-05-4249-01                            0                      50.03  \n",
       "\n",
       "[2 rows x 2309 columns]"
      ]
     },
     "execution_count": 5,
     "metadata": {},
     "output_type": "execute_result"
    }
   ],
   "source": [
    "dt.head(2)"
   ]
  },
  {
   "cell_type": "code",
   "execution_count": 6,
   "metadata": {},
   "outputs": [],
   "source": [
    "del dt['Column1']\n",
    "del dt['Patient\\'s Vital Status_Dead']\n",
    "del dt['Patient\\'s Vital Status_Alive']"
   ]
  },
  {
   "cell_type": "code",
   "execution_count": 7,
   "metadata": {},
   "outputs": [],
   "source": [
    "X = dt.iloc[:,0:2304].values\n",
    "y = dt.iloc[:, -1].values"
   ]
  },
  {
   "cell_type": "code",
   "execution_count": 8,
   "metadata": {},
   "outputs": [],
   "source": [
    "# Splitting the dataset into the Training set and Test set\n",
    "from sklearn.model_selection import train_test_split\n",
    "X_train, X_test, y_train, y_test = train_test_split(X, y, test_size = 0.2, random_state = 0)\n",
    "X_train, X_val, y_train, y_val = train_test_split(X_train, y_train, test_size=0.2, random_state=0)"
   ]
  },
  {
   "cell_type": "code",
   "execution_count": 10,
   "metadata": {},
   "outputs": [],
   "source": [
    "# Feature Scaling\n",
    "from sklearn.preprocessing import StandardScaler\n",
    "sc_X = StandardScaler()\n",
    "X_train = sc_X.fit_transform(X_train)\n",
    "X_test = sc_X.transform(X_test)\n",
    "X_val = sc_X.fit_transform(X_val)"
   ]
  },
  {
   "cell_type": "code",
   "execution_count": 12,
   "metadata": {},
   "outputs": [],
   "source": [
    "sc_y = StandardScaler()\n",
    "y_train = np.squeeze(sc_y.fit_transform(y_train.reshape(-1, 1)))\n",
    "y_val = np.squeeze(sc_y.transform(y_val.reshape(-1, 1)))\n",
    "y_test = np.squeeze(sc_y.transform(y_test.reshape(-1, 1)))"
   ]
  },
  {
   "cell_type": "code",
   "execution_count": 13,
   "metadata": {},
   "outputs": [
    {
     "data": {
      "text/plain": [
       "DecisionTreeRegressor(criterion='mse', max_depth=None, max_features=None,\n",
       "           max_leaf_nodes=None, min_impurity_decrease=0.0,\n",
       "           min_impurity_split=None, min_samples_leaf=1,\n",
       "           min_samples_split=2, min_weight_fraction_leaf=0.0,\n",
       "           presort=False, random_state=None, splitter='best')"
      ]
     },
     "execution_count": 13,
     "metadata": {},
     "output_type": "execute_result"
    }
   ],
   "source": [
    "# Fitting Random Forest Regression to the dataset\n",
    "from sklearn.tree import DecisionTreeRegressor\n",
    "regressor = DecisionTreeRegressor()\n",
    "\n",
    "regressor.fit(X_train, y_train)"
   ]
  },
  {
   "cell_type": "code",
   "execution_count": 14,
   "metadata": {},
   "outputs": [],
   "source": [
    "#Predicting the Validation set results\n",
    "y_predval = regressor.predict(X_val)"
   ]
  },
  {
   "cell_type": "code",
   "execution_count": 15,
   "metadata": {},
   "outputs": [
    {
     "name": "stdout",
     "output_type": "stream",
     "text": [
      "28.717657954800195\n",
      "1355.8538157590435\n",
      "36.82192031601616\n",
      "Variance score: -1.48\n"
     ]
    }
   ],
   "source": [
    "# Print result of MAE\n",
    "from sklearn import metrics\n",
    "print(metrics.mean_absolute_error(y_val, y_predval))\n",
    "\n",
    "# Print result of MSE\n",
    "print(metrics.mean_squared_error(y_val, y_predval))\n",
    "\n",
    "# Print result of RMSE\n",
    "print(np.sqrt(metrics.mean_squared_error(y_val, y_predval)))\n",
    "\n",
    "# Explained variance score: 1 is perfect prediction (Accuracy Score)\n",
    "print('Variance score: %.2f' % regressor.score(X_val, y_val))\n",
    "\n"
   ]
  },
  {
   "cell_type": "code",
   "execution_count": 17,
   "metadata": {},
   "outputs": [
    {
     "name": "stdout",
     "output_type": "stream",
     "text": [
      "R^2 = -1.4815\n"
     ]
    },
    {
     "data": {
      "image/png": "[encoded data removed]",
      "text/plain": [
       "<Figure size 1440x720 with 1 Axes>"
      ]
     },
     "metadata": {
      "needs_background": "light"
     },
     "output_type": "display_data"
    },
    {
     "data": {
      "image/png": "[encoded data removed]",
      "text/plain": [
       "<Figure size 1440x720 with 1 Axes>"
      ]
     },
     "metadata": {
      "needs_background": "light"
     },
     "output_type": "display_data"
    }
   ],
   "source": [
    "# Visualising the Random Forest Regression Results\n",
    "# Loading Packages\n",
    "import seaborn as sns\n",
    "import matplotlib.pyplot as plt\n",
    "from sklearn.model_selection import cross_val_predict\n",
    "from sklearn.metrics import r2_score\n",
    "#from sklearn import linear_model\n",
    "from sklearn import datasets\n",
    "from scipy.integrate import simps\n",
    "\n",
    "# Function for Regression Error Characteritic Curve\n",
    "\n",
    "def REC(y_val , y_predval):\n",
    "    \n",
    "    # initilizing the lists\n",
    "    Accuracy = []\n",
    "    \n",
    "    # initializing the values for Epsilon\n",
    "    Begin_Range = 0\n",
    "    End_Range = 1.5\n",
    "    Interval_Size = 0.01\n",
    "    \n",
    "    # List of epsilons\n",
    "    Epsilon = np.arange(Begin_Range , End_Range , Interval_Size)\n",
    "    \n",
    "    # Main Loops\n",
    "    for i in range(len(Epsilon)):\n",
    "        count = 0.0\n",
    "        for j in range(len(y_val)):\n",
    "            if np.linalg.norm(y_val[j] - y_predval[j]) / np.sqrt( np.linalg.norm(y_val[j]) **2 + np.linalg.norm(y_predval[j])**2 ) < Epsilon[i]:\n",
    "                count = count + 1\n",
    "        \n",
    "        Accuracy.append(count/len(y_val))\n",
    "    \n",
    "    # Calculating Area Under Curve using Simpson's rule\n",
    "    AUC = simps(Accuracy , Epsilon ) / End_Range\n",
    "        \n",
    "    # returning epsilon , accuracy , area under curve    \n",
    "    return Epsilon , Accuracy , AUC\n",
    "\n",
    "# finding the deviation and accuracy, and area under curve for plotting\n",
    "Deviation, Accuracy, AUC = REC(y_val, y_predval)\n",
    "\n",
    "# Calculating R^2 of the true and predicted values\n",
    "RR = r2_score(y_val, y_predval)\n",
    "\n",
    "# Plotting\n",
    "plt.figure(figsize=(20 , 10))\n",
    "\n",
    "plt.subplot(1, 2, 1)\n",
    "plt.scatter(y_val, y_predval,color = \"darkorange\")\n",
    "plt.xlabel(\"Real Data\")\n",
    "plt.ylabel(\"Predicted\")\n",
    "plt.figure(figsize=(20 , 10))\n",
    "plt.plot([y_val.min(), y_val.max()], [y_val.min(), y_val.max()], 'k--', lw=4)\n",
    "print(\"R^2 = %0.4f\" %RR)\n",
    "\n",
    "\n",
    "plt.subplot(1, 2, 2)\n",
    "plt.title(\"Regression Error Characteristic (REC)\")\n",
    "plt.plot(Deviation, Accuracy, \"--b\",lw =3)\n",
    "plt.xlabel(\"Deviation\")\n",
    "plt.ylabel(\"Accuracy (%)\")\n",
    "plt.text(1.1, 0.07, \"AUC = %0.4f\" %AUC , fontsize=15)\n",
    "\n",
    "\n",
    "plt.show()"
   ]
  },
  {
   "cell_type": "code",
   "execution_count": 23,
   "metadata": {},
   "outputs": [],
   "source": [
    "# GRID SEARCH\n",
    "from sklearn.model_selection import GridSearchCV\n",
    "\n",
    "param_grid = {  'min_samples_split':[0.1,0.5,1.0,2,5,7,10,25],\n",
    "                  \"max_depth\": [1,2,3,4,5,6,7]\n",
    "                 }  "
   ]
  },
  {
   "cell_type": "code",
   "execution_count": 24,
   "metadata": {},
   "outputs": [],
   "source": [
    "regressor = DecisionTreeRegressor()\n",
    "grid = GridSearchCV(estimator=regressor, param_grid=param_grid, cv=10)\n",
    "grid_search = grid.fit(X_train, y_train)"
   ]
  },
  {
   "cell_type": "code",
   "execution_count": 25,
   "metadata": {},
   "outputs": [
    {
     "name": "stdout",
     "output_type": "stream",
     "text": [
      "0.10048475560397338 {'max_depth': 4, 'min_samples_split': 1.0}\n"
     ]
    }
   ],
   "source": [
    "print(grid_search.best_score_, grid_search.best_params_)"
   ]
  },
  {
   "cell_type": "code",
   "execution_count": 26,
   "metadata": {},
   "outputs": [
    {
     "data": {
      "text/plain": [
       "DecisionTreeRegressor(criterion='mse', max_depth=4, max_features=None,\n",
       "           max_leaf_nodes=None, min_impurity_decrease=0.0,\n",
       "           min_impurity_split=None, min_samples_leaf=1,\n",
       "           min_samples_split=1.0, min_weight_fraction_leaf=0.0,\n",
       "           presort=False, random_state=None, splitter='best')"
      ]
     },
     "execution_count": 26,
     "metadata": {},
     "output_type": "execute_result"
    }
   ],
   "source": [
    "# Fitting Random Forest Regression to the dataset\n",
    "from sklearn.tree import DecisionTreeRegressor\n",
    "regressor = DecisionTreeRegressor(max_depth = 4, min_samples_split = 1.0)\n",
    "\n",
    "regressor.fit(X_train, y_train)"
   ]
  },
  {
   "cell_type": "code",
   "execution_count": 27,
   "metadata": {},
   "outputs": [],
   "source": [
    "#Predicting the Validation set results\n",
    "y_predval = regressor.predict(X_val)"
   ]
  },
  {
   "cell_type": "code",
   "execution_count": 28,
   "metadata": {},
   "outputs": [
    {
     "name": "stdout",
     "output_type": "stream",
     "text": [
      "0.6822044466409322\n",
      "0.8589846670544914\n",
      "0.9268142570410165\n",
      "Variance score: 0.14\n"
     ]
    }
   ],
   "source": [
    "# Print result of MAE\n",
    "from sklearn import metrics\n",
    "print(metrics.mean_absolute_error(y_val, y_predval))\n",
    "\n",
    "# Print result of MSE\n",
    "print(metrics.mean_squared_error(y_val, y_predval))\n",
    "\n",
    "# Print result of RMSE\n",
    "print(np.sqrt(metrics.mean_squared_error(y_val, y_predval)))\n",
    "\n",
    "# Explained variance score: 1 is perfect prediction (Accuracy Score)\n",
    "print('Variance score: %.2f' % regressor.score(X_val, y_val))"
   ]
  },
  {
   "cell_type": "code",
   "execution_count": null,
   "metadata": {},
   "outputs": [],
   "source": []
  }
 ],
 "metadata": {
  "kernelspec": {
   "display_name": "Python 3",
   "language": "python",
   "name": "python3"
  },
  "language_info": {
   "codemirror_mode": {
    "name": "ipython",
    "version": 3
   },
   "file_extension": ".py",
   "mimetype": "text/x-python",
   "name": "python",
   "nbconvert_exporter": "python",
   "pygments_lexer": "ipython3",
   "version": "3.7.1"
  }
 },
 "nbformat": 4,
 "nbformat_minor": 2
}
