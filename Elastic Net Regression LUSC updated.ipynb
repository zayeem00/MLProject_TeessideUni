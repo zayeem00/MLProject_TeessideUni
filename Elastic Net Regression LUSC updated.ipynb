{
 "cells": [
  {
   "cell_type": "code",
   "execution_count": 77,
   "metadata": {},
   "outputs": [],
   "source": [
    "#elastic net regression has a better score than lasso \n",
    "import pandas as pd\n",
    "import os\n",
    "import matplotlib.pyplot as plt\n",
    "from sklearn import linear_model"
   ]
  },
  {
   "cell_type": "code",
   "execution_count": 78,
   "metadata": {},
   "outputs": [],
   "source": [
    "os.chdir('U:\\\\More Data')"
   ]
  },
  {
   "cell_type": "code",
   "execution_count": 121,
   "metadata": {},
   "outputs": [],
   "source": [
    "dt=pd.read_excel('LUSC_300.xlsx')"
   ]
  },
  {
   "cell_type": "code",
   "execution_count": 122,
   "metadata": {},
   "outputs": [],
   "source": [
    "dt=dt.set_index(dt.columns[0]) "
   ]
  },
  {
   "cell_type": "code",
   "execution_count": 123,
   "metadata": {},
   "outputs": [],
   "source": [
    "tar=pd.read_excel('survival_LUSC.xlsx')"
   ]
  },
  {
   "cell_type": "code",
   "execution_count": 124,
   "metadata": {},
   "outputs": [],
   "source": [
    "from sklearn.model_selection import train_test_split"
   ]
  },
  {
   "cell_type": "code",
   "execution_count": 125,
   "metadata": {},
   "outputs": [
    {
     "name": "stdout",
     "output_type": "stream",
     "text": [
      "(350, 300) (350, 1)\n",
      "(151, 300) (151, 1)\n"
     ]
    }
   ],
   "source": [
    "Y=tar\n",
    "X_train,X_test,Y_train,Y_test=train_test_split(dt,Y,test_size=0.3)\n",
    "print(X_train.shape,Y_train.shape)\n",
    "print(X_test.shape,Y_test.shape)"
   ]
  },
  {
   "cell_type": "code",
   "execution_count": 126,
   "metadata": {},
   "outputs": [
    {
     "name": "stdout",
     "output_type": "stream",
     "text": [
      "train\n",
      "0.5514507875816752\n",
      "test\n",
      "0.7304432326888489\n"
     ]
    }
   ],
   "source": [
    "from sklearn.linear_model import ElasticNet\n",
    "ENreg = ElasticNet(alpha=1, l1_ratio=0.5, normalize=False)\n",
    "ENreg.fit(X_train,Y_train)\n",
    "pred_cv = ENreg.predict(X_test)\n",
    "print('train')\n",
    "print(ENreg.score(X_train,Y_train))\n",
    "from sklearn.linear_model import ElasticNet\n",
    "ENreg = ElasticNet(alpha=1, l1_ratio=0.5, normalize=False)\n",
    "ENreg.fit(X_test,Y_test)\n",
    "pred_cv = ENreg.predict(X_test)\n",
    "print('test')\n",
    "print(ENreg.score(X_test,Y_test))"
   ]
  },
  {
   "cell_type": "code",
   "execution_count": 127,
   "metadata": {},
   "outputs": [
    {
     "name": "stdout",
     "output_type": "stream",
     "text": [
      "train\n",
      "0.567335121050061\n",
      "test\n",
      "0.733079798532464\n"
     ]
    }
   ],
   "source": [
    "from sklearn.linear_model import ElasticNet\n",
    "ENreg = ElasticNet(alpha=1, l1_ratio=0.9, normalize=False)\n",
    "ENreg.fit(X_train,Y_train)\n",
    "pred_cv = ENreg.predict(X_test)\n",
    "print('train')\n",
    "print(ENreg.score(X_train,Y_train))\n",
    "from sklearn.linear_model import ElasticNet\n",
    "ENreg = ElasticNet(alpha=1, l1_ratio=0.9, normalize=False)\n",
    "ENreg.fit(X_test,Y_test)\n",
    "pred_cv = ENreg.predict(X_test)\n",
    "print('test')\n",
    "print(ENreg.score(X_test,Y_test))"
   ]
  },
  {
   "cell_type": "code",
   "execution_count": 128,
   "metadata": {},
   "outputs": [
    {
     "name": "stdout",
     "output_type": "stream",
     "text": [
      "train\n",
      "0.4115087542202799\n",
      "test\n",
      "0.5941211460908711\n"
     ]
    }
   ],
   "source": [
    "from sklearn.linear_model import ElasticNet\n",
    "ENreg = ElasticNet(alpha=2, l1_ratio=0.5, normalize=False)\n",
    "ENreg.fit(X_train,Y_train)\n",
    "pred_cv = ENreg.predict(X_test)\n",
    "print('train')\n",
    "print(ENreg.score(X_train,Y_train))\n",
    "from sklearn.linear_model import ElasticNet\n",
    "ENreg = ElasticNet(alpha=2, l1_ratio=0.5, normalize=False)\n",
    "ENreg.fit(X_test,Y_test)\n",
    "pred_cv = ENreg.predict(X_test)\n",
    "print('test')\n",
    "print(ENreg.score(X_test,Y_test))"
   ]
  },
  {
   "cell_type": "code",
   "execution_count": 129,
   "metadata": {},
   "outputs": [
    {
     "name": "stdout",
     "output_type": "stream",
     "text": [
      "train\n",
      "0.40462595842456467\n",
      "test\n",
      "0.5804611027554344\n"
     ]
    }
   ],
   "source": [
    "from sklearn.linear_model import ElasticNet\n",
    "ENreg = ElasticNet(alpha=2, l1_ratio=0.9, normalize=False)\n",
    "ENreg.fit(X_train,Y_train)\n",
    "pred_cv = ENreg.predict(X_test)\n",
    "print('train')\n",
    "print(ENreg.score(X_train,Y_train))\n",
    "from sklearn.linear_model import ElasticNet\n",
    "ENreg = ElasticNet(alpha=2, l1_ratio=0.9, normalize=False)\n",
    "ENreg.fit(X_test,Y_test)\n",
    "pred_cv = ENreg.predict(X_test)\n",
    "print('test')\n",
    "print(ENreg.score(X_test,Y_test))"
   ]
  },
  {
   "cell_type": "code",
   "execution_count": 86,
   "metadata": {},
   "outputs": [],
   "source": [
    "#1111111111111111111111111111111111111111111111111111111111111111111111111111111111111"
   ]
  },
  {
   "cell_type": "code",
   "execution_count": 108,
   "metadata": {},
   "outputs": [],
   "source": [
    "dt1=pd.read_excel('LUSC_300_NoDepth.xlsx')"
   ]
  },
  {
   "cell_type": "code",
   "execution_count": 109,
   "metadata": {},
   "outputs": [],
   "source": [
    "dt1=dt1.set_index(dt1.columns[0])"
   ]
  },
  {
   "cell_type": "code",
   "execution_count": 110,
   "metadata": {},
   "outputs": [],
   "source": [
    "Y=pd.read_excel('survival_LUSC.xlsx')"
   ]
  },
  {
   "cell_type": "code",
   "execution_count": 111,
   "metadata": {},
   "outputs": [
    {
     "name": "stdout",
     "output_type": "stream",
     "text": [
      "(350, 300) (350, 1)\n",
      "(151, 300) (151, 1)\n"
     ]
    }
   ],
   "source": [
    "X_train,X_test,Y_train,Y_test=train_test_split(dt1,Y,test_size=0.3)\n",
    "print(X_train.shape,Y_train.shape)\n",
    "print(X_test.shape,Y_test.shape)"
   ]
  },
  {
   "cell_type": "code",
   "execution_count": 112,
   "metadata": {},
   "outputs": [
    {
     "name": "stdout",
     "output_type": "stream",
     "text": [
      "train\n",
      "0.5337504660117232\n",
      "test\n",
      "0.7857097084585409\n"
     ]
    }
   ],
   "source": [
    "from sklearn.linear_model import ElasticNet\n",
    "ENreg = ElasticNet(alpha=1, l1_ratio=0.9, normalize=False)\n",
    "ENreg.fit(X_train,Y_train)\n",
    "pred_cv = ENreg.predict(X_test)\n",
    "print('train')\n",
    "print(ENreg.score(X_train,Y_train))\n",
    "from sklearn.linear_model import ElasticNet\n",
    "ENreg = ElasticNet(alpha=1, l1_ratio=0.9, normalize=False)\n",
    "ENreg.fit(X_test,Y_test)\n",
    "pred_cv = ENreg.predict(X_test)\n",
    "print('test')\n",
    "print(ENreg.score(X_test,Y_test))"
   ]
  },
  {
   "cell_type": "code",
   "execution_count": 113,
   "metadata": {},
   "outputs": [
    {
     "name": "stdout",
     "output_type": "stream",
     "text": [
      "train\n",
      "0.5347342289017911\n",
      "test\n",
      "0.7727207815516984\n"
     ]
    }
   ],
   "source": [
    "from sklearn.linear_model import ElasticNet\n",
    "ENreg = ElasticNet(alpha=1, l1_ratio=0.5, normalize=False)\n",
    "ENreg.fit(X_train,Y_train)\n",
    "pred_cv = ENreg.predict(X_test)\n",
    "print('train')\n",
    "print(ENreg.score(X_train,Y_train))\n",
    "from sklearn.linear_model import ElasticNet\n",
    "ENreg = ElasticNet(alpha=1, l1_ratio=0.5, normalize=False)\n",
    "ENreg.fit(X_test,Y_test)\n",
    "pred_cv = ENreg.predict(X_test)\n",
    "print('test')\n",
    "print(ENreg.score(X_test,Y_test))"
   ]
  },
  {
   "cell_type": "code",
   "execution_count": 114,
   "metadata": {},
   "outputs": [
    {
     "name": "stdout",
     "output_type": "stream",
     "text": [
      "train\n",
      "0.4150120998414261\n",
      "test\n",
      "0.6195439521955087\n"
     ]
    }
   ],
   "source": [
    "from sklearn.linear_model import ElasticNet\n",
    "ENreg = ElasticNet(alpha=2, l1_ratio=0.5, normalize=False)\n",
    "ENreg.fit(X_train,Y_train)\n",
    "pred_cv = ENreg.predict(X_test)\n",
    "print('train')\n",
    "print(ENreg.score(X_train,Y_train))\n",
    "from sklearn.linear_model import ElasticNet\n",
    "ENreg = ElasticNet(alpha=2, l1_ratio=0.5, normalize=False)\n",
    "ENreg.fit(X_test,Y_test)\n",
    "pred_cv = ENreg.predict(X_test)\n",
    "print('test')\n",
    "print(ENreg.score(X_test,Y_test))"
   ]
  },
  {
   "cell_type": "code",
   "execution_count": 115,
   "metadata": {},
   "outputs": [
    {
     "name": "stdout",
     "output_type": "stream",
     "text": [
      "train\n",
      "0.3860682992711435\n",
      "test\n",
      "0.6095645357689524\n"
     ]
    }
   ],
   "source": [
    "from sklearn.linear_model import ElasticNet\n",
    "ENreg = ElasticNet(alpha=2, l1_ratio=0.9, normalize=False)\n",
    "ENreg.fit(X_train,Y_train)\n",
    "pred_cv = ENreg.predict(X_test)\n",
    "print('train')\n",
    "print(ENreg.score(X_train,Y_train))\n",
    "from sklearn.linear_model import ElasticNet\n",
    "ENreg = ElasticNet(alpha=2, l1_ratio=0.9, normalize=False)\n",
    "ENreg.fit(X_test,Y_test)\n",
    "pred_cv = ENreg.predict(X_test)\n",
    "print('test')\n",
    "print(ENreg.score(X_test,Y_test))"
   ]
  },
  {
   "cell_type": "code",
   "execution_count": 116,
   "metadata": {},
   "outputs": [
    {
     "name": "stdout",
     "output_type": "stream",
     "text": [
      "train\n",
      "0.6323776509742183\n",
      "test\n",
      "0.8802299849902491\n"
     ]
    }
   ],
   "source": [
    "from sklearn.linear_model import ElasticNet\n",
    "ENreg = ElasticNet(alpha=0.5, l1_ratio=0.5, normalize=False)\n",
    "ENreg.fit(X_train,Y_train)\n",
    "pred_cv = ENreg.predict(X_test)\n",
    "print('train')\n",
    "print(ENreg.score(X_train,Y_train))\n",
    "from sklearn.linear_model import ElasticNet\n",
    "ENreg = ElasticNet(alpha=0.5, l1_ratio=0.5, normalize=False)\n",
    "ENreg.fit(X_test,Y_test)\n",
    "pred_cv = ENreg.predict(X_test)\n",
    "print('test')\n",
    "print(ENreg.score(X_test,Y_test))"
   ]
  },
  {
   "cell_type": "code",
   "execution_count": 117,
   "metadata": {},
   "outputs": [
    {
     "name": "stdout",
     "output_type": "stream",
     "text": [
      "train\n",
      "0.6454170252643088\n",
      "test\n",
      "0.9028285098358754\n"
     ]
    }
   ],
   "source": [
    "from sklearn.linear_model import ElasticNet\n",
    "ENreg = ElasticNet(alpha=0.5, l1_ratio=0.9, normalize=False)\n",
    "ENreg.fit(X_train,Y_train)\n",
    "pred_cv = ENreg.predict(X_test)\n",
    "print('train')\n",
    "print(ENreg.score(X_train,Y_train))\n",
    "from sklearn.linear_model import ElasticNet\n",
    "ENreg = ElasticNet(alpha=0.5, l1_ratio=0.9, normalize=False)\n",
    "ENreg.fit(X_test,Y_test)\n",
    "pred_cv = ENreg.predict(X_test)\n",
    "print('test')\n",
    "print(ENreg.score(X_test,Y_test))"
   ]
  },
  {
   "cell_type": "code",
   "execution_count": null,
   "metadata": {},
   "outputs": [],
   "source": []
  }
 ],
 "metadata": {
  "kernelspec": {
   "display_name": "Python 3",
   "language": "python",
   "name": "python3"
  },
  "language_info": {
   "codemirror_mode": {
    "name": "ipython",
    "version": 3
   },
   "file_extension": ".py",
   "mimetype": "text/x-python",
   "name": "python",
   "nbconvert_exporter": "python",
   "pygments_lexer": "ipython3",
   "version": "3.6.5"
  }
 },
 "nbformat": 4,
 "nbformat_minor": 2
}
