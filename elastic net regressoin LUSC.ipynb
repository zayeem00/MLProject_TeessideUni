{
 "cells": [
  {
   "cell_type": "code",
   "execution_count": 1,
   "metadata": {},
   "outputs": [],
   "source": [
    "#elastic net regression has a better score than lasso \n",
    "import pandas as pd\n",
    "import os\n",
    "import matplotlib.pyplot as plt\n",
    "from sklearn import linear_model\n",
    "from sklearn.linear_model import ElasticNetCV\n",
    "from sklearn.linear_model import ElasticNet\n",
    "import numpy as np"
   ]
  },
  {
   "cell_type": "code",
   "execution_count": 3,
   "metadata": {},
   "outputs": [],
   "source": [
    "os.chdir('U:\\\\ProjectDataset')"
   ]
  },
  {
   "cell_type": "code",
   "execution_count": 4,
   "metadata": {},
   "outputs": [],
   "source": [
    "dt=pd.read_excel('selected clinical LUSC.xlsx')"
   ]
  },
  {
   "cell_type": "code",
   "execution_count": 5,
   "metadata": {},
   "outputs": [],
   "source": [
    "dt=dt.set_index(dt.columns[0])"
   ]
  },
  {
   "cell_type": "code",
   "execution_count": 8,
   "metadata": {},
   "outputs": [],
   "source": [
    "tar=pd.read_excel('survival_LUSC.xlsx')\n"
   ]
  },
  {
   "cell_type": "code",
   "execution_count": 4,
   "metadata": {},
   "outputs": [],
   "source": [
    "from sklearn.model_selection import train_test_split\n",
    "\n",
    "from sklearn.metrics import mean_squared_error"
   ]
  },
  {
   "cell_type": "code",
   "execution_count": 11,
   "metadata": {},
   "outputs": [
    {
     "name": "stdout",
     "output_type": "stream",
     "text": [
      "(350, 11) (350, 1)\n",
      "(151, 11) (151, 1)\n"
     ]
    }
   ],
   "source": [
    "Y=tar\n",
    "X_train,X_test,Y_train,Y_test=train_test_split(dt,Y,test_size=0.3)\n",
    "print(X_train.shape,Y_train.shape)\n",
    "print(X_test.shape,Y_test.shape)"
   ]
  },
  {
   "cell_type": "code",
   "execution_count": 12,
   "metadata": {},
   "outputs": [
    {
     "name": "stdout",
     "output_type": "stream",
     "text": [
      "!!!!!!!!!!!! 0.1 !!!!!!!!!!!!!!!!!!!\n",
      "test\n",
      "0.6891653354735999\n",
      "train\n",
      "0.6394785364497582\n",
      "MSE\n",
      "294.26506457831533\n",
      "!!!!!!!!!!!! 0.5 !!!!!!!!!!!!!!!!!!!\n",
      "test\n",
      "0.6629967085625317\n",
      "train\n",
      "0.624857588947555\n",
      "MSE\n",
      "319.03872584175315\n",
      "!!!!!!!!!!!! 0.01 !!!!!!!!!!!!!!!!!!!\n",
      "test\n",
      "0.6992644279677382\n",
      "train\n",
      "0.6426716162554651\n",
      "MSE\n",
      "284.70432234418274\n",
      "!!!!!!!!!!!! 0.05 !!!!!!!!!!!!!!!!!!!\n",
      "test\n",
      "0.6950179823863826\n",
      "train\n",
      "0.6415851985717849\n",
      "MSE\n",
      "288.7244035186227\n",
      "!!!!!!!!!!!! 1 !!!!!!!!!!!!!!!!!!!\n",
      "test\n",
      "0.6521293239844278\n",
      "train\n",
      "0.6151785257794757\n",
      "MSE\n",
      "329.3268049707188\n",
      "with CV\n",
      "test\n",
      "0.6689054702839881\n",
      "train\n",
      "0.6297726426974461\n",
      "MSE\n",
      "313.4449412740266\n"
     ]
    },
    {
     "name": "stderr",
     "output_type": "stream",
     "text": [
      "C:\\Users\\Kanika Saini\\Anaconda3\\lib\\site-packages\\sklearn\\linear_model\\coordinate_descent.py:1109: DataConversionWarning: A column-vector y was passed when a 1d array was expected. Please change the shape of y to (n_samples, ), for example using ravel().\n",
      "  y = column_or_1d(y, warn=True)\n",
      "C:\\Users\\Kanika Saini\\Anaconda3\\lib\\site-packages\\sklearn\\model_selection\\_split.py:2053: FutureWarning: You should specify a value for 'cv' instead of relying on the default value. The default value will change from 3 to 5 in version 0.22.\n",
      "  warnings.warn(CV_WARNING, FutureWarning)\n",
      "[Parallel(n_jobs=1)]: Using backend SequentialBackend with 1 concurrent workers.\n",
      "..............................[Parallel(n_jobs=1)]: Done   3 out of   3 | elapsed:    0.0s finished\n"
     ]
    }
   ],
   "source": [
    "from sklearn.linear_model import ElasticNet\n",
    "print('!!!!!!!!!!!! 0.1 !!!!!!!!!!!!!!!!!!!')\n",
    "ENreg = ElasticNet(alpha=0.1, l1_ratio=0.5, normalize=False)\n",
    "ENreg.fit(X_train,Y_train)\n",
    "pred_cv = ENreg.predict(X_test)\n",
    "print('test')\n",
    "print(ENreg.score(X_test,Y_test))\n",
    "print('train')\n",
    "print(ENreg.score(X_train,Y_train))\n",
    "print('MSE')\n",
    "print(mean_squared_error(Y_test,pred_cv))\n",
    "print('!!!!!!!!!!!! 0.5 !!!!!!!!!!!!!!!!!!!')\n",
    "ENreg = ElasticNet(alpha=0.5, l1_ratio=0.5, normalize=False)\n",
    "ENreg.fit(X_train,Y_train)\n",
    "pred_cv = ENreg.predict(X_test)\n",
    "print('test')\n",
    "print(ENreg.score(X_test,Y_test))\n",
    "print('train')\n",
    "print(ENreg.score(X_train,Y_train))\n",
    "print('MSE')\n",
    "print(mean_squared_error(Y_test,pred_cv))\n",
    "print('!!!!!!!!!!!! 0.01 !!!!!!!!!!!!!!!!!!!')\n",
    "ENreg = ElasticNet(alpha=0.01, l1_ratio=0.5, normalize=False)\n",
    "ENreg.fit(X_train,Y_train)\n",
    "pred_cv = ENreg.predict(X_test)\n",
    "print('test')\n",
    "print(ENreg.score(X_test,Y_test))\n",
    "print('train')\n",
    "print(ENreg.score(X_train,Y_train))\n",
    "print('MSE')\n",
    "print(mean_squared_error(Y_test,pred_cv))\n",
    "print('!!!!!!!!!!!! 0.05 !!!!!!!!!!!!!!!!!!!')\n",
    "ENreg = ElasticNet(alpha=0.05, l1_ratio=0.5, normalize=False)\n",
    "ENreg.fit(X_train,Y_train)\n",
    "pred_cv = ENreg.predict(X_test)\n",
    "print('test')\n",
    "print(ENreg.score(X_test,Y_test))\n",
    "print('train')\n",
    "print(ENreg.score(X_train,Y_train))\n",
    "print('MSE')\n",
    "print(mean_squared_error(Y_test,pred_cv))\n",
    "print('!!!!!!!!!!!! 1 !!!!!!!!!!!!!!!!!!!')\n",
    "ENreg = ElasticNet(alpha=1, l1_ratio=0.5, normalize=False)\n",
    "ENreg.fit(X_train,Y_train)\n",
    "pred_cv = ENreg.predict(X_test)\n",
    "print('test')\n",
    "print(ENreg.score(X_test,Y_test))\n",
    "print('train')\n",
    "print(ENreg.score(X_train,Y_train))\n",
    "print('MSE')\n",
    "print(mean_squared_error(Y_test,pred_cv))\n",
    "print('with CV')\n",
    "ENreg = ElasticNetCV(l1_ratio=0.9,n_alphas=10,verbose=1, normalize=False)\n",
    "ENreg.fit(X_train,Y_train)\n",
    "pred_cv = ENreg.predict(X_test)\n",
    "print('test')\n",
    "print(ENreg.score(X_test,Y_test))\n",
    "print('train')\n",
    "print(ENreg.score(X_train,Y_train))\n",
    "print('MSE')\n",
    "print(mean_squared_error(Y_test,pred_cv))"
   ]
  },
  {
   "cell_type": "code",
   "execution_count": null,
   "metadata": {},
   "outputs": [],
   "source": [
    "'''!!!!!!!!!!!!!!!  250 genes + clinical data !!!!!!!!!!!!!!!!!!!'''"
   ]
  },
  {
   "cell_type": "code",
   "execution_count": 13,
   "metadata": {},
   "outputs": [],
   "source": [
    "\n",
    "dt1=pd.read_excel('gene + clinical LUSC.xlsx')"
   ]
  },
  {
   "cell_type": "code",
   "execution_count": 14,
   "metadata": {},
   "outputs": [],
   "source": [
    "dt1=dt1.set_index(dt1.columns[0])"
   ]
  },
  {
   "cell_type": "code",
   "execution_count": 15,
   "metadata": {},
   "outputs": [],
   "source": [
    "Y=tar\n",
    "\n"
   ]
  },
  {
   "cell_type": "code",
   "execution_count": 27,
   "metadata": {},
   "outputs": [
    {
     "name": "stdout",
     "output_type": "stream",
     "text": [
      "(350, 331) (350, 1)\n",
      "(151, 331) (151, 1)\n",
      "!!!!!!!!!!!! 0.1 !!!!!!!!!!!!!!!!!!!\n",
      "test\n",
      "0.3493353694907806\n",
      "train\n",
      "0.9262532882788589\n",
      "MSE\n",
      "749.6434887839379\n",
      "!!!!!!!!!!!! 0.5 !!!!!!!!!!!!!!!!!!!\n",
      "test\n",
      "0.5705483369994675\n",
      "train\n",
      "0.8377739589786493\n",
      "MSE\n",
      "494.7796880611626\n",
      "!!!!!!!!!!!! 0.01 !!!!!!!!!!!!!!!!!!!\n",
      "test\n",
      "-0.4489719474659577\n",
      "train\n",
      "0.9705410321769793\n",
      "MSE\n",
      "1669.389013812464\n",
      "!!!!!!!!!!!! 0.05 !!!!!!!!!!!!!!!!!!!\n",
      "test\n",
      "0.17512705598937672\n",
      "train\n",
      "0.9466097763911341\n",
      "MSE\n",
      "950.3523052538811\n",
      "!!!!!!!!!!!! 1 !!!!!!!!!!!!!!!!!!!\n",
      "test\n",
      "0.6005488406924046\n",
      "train\n",
      "0.7795674969067212\n",
      "MSE\n",
      "460.2155190574655\n",
      "with CV\n"
     ]
    },
    {
     "name": "stderr",
     "output_type": "stream",
     "text": [
      "[Parallel(n_jobs=1)]: Using backend SequentialBackend with 1 concurrent workers.\n",
      "............................................................................................................................................................................................................................................................................................................[Parallel(n_jobs=1)]: Done  30 out of  30 | elapsed:    0.4s finished\n"
     ]
    },
    {
     "name": "stdout",
     "output_type": "stream",
     "text": [
      "test\n",
      "0.6509738770361666\n",
      "train\n",
      "0.5784708665492182\n",
      "MSE\n",
      "402.11984519670676\n"
     ]
    }
   ],
   "source": [
    "X_train,X_test,Y_train,Y_test=train_test_split(dt1,Y,test_size=0.3)\n",
    "print(X_train.shape,Y_train.shape)\n",
    "print(X_test.shape,Y_test.shape)\n",
    "print('!!!!!!!!!!!! 0.1 !!!!!!!!!!!!!!!!!!!')\n",
    "ENreg = ElasticNet(alpha=0.1, l1_ratio=0.5, normalize=False)\n",
    "ENreg.fit(X_train,Y_train)\n",
    "pred_cv = ENreg.predict(X_test)\n",
    "print('test')\n",
    "print(ENreg.score(X_test,Y_test))\n",
    "print('train')\n",
    "\n",
    "print(ENreg.score(X_train,Y_train))\n",
    "print('MSE')\n",
    "print(mean_squared_error(Y_test,pred_cv))\n",
    "print('!!!!!!!!!!!! 0.5 !!!!!!!!!!!!!!!!!!!')\n",
    "ENreg = ElasticNet(alpha=0.5, l1_ratio=0.5, normalize=False)\n",
    "ENreg.fit(X_train,Y_train)\n",
    "pred_cv = ENreg.predict(X_test)\n",
    "print('test')\n",
    "print(ENreg.score(X_test,Y_test))\n",
    "print('train')\n",
    "print(ENreg.score(X_train,Y_train))\n",
    "print('MSE')\n",
    "print(mean_squared_error(Y_test,pred_cv))\n",
    "print('!!!!!!!!!!!! 0.01 !!!!!!!!!!!!!!!!!!!')\n",
    "ENreg = ElasticNet(alpha=0.01, l1_ratio=0.5, normalize=False)\n",
    "ENreg.fit(X_train,Y_train)\n",
    "pred_cv = ENreg.predict(X_test)\n",
    "print('test')\n",
    "print(ENreg.score(X_test,Y_test))\n",
    "print('train')\n",
    "print(ENreg.score(X_train,Y_train))\n",
    "print('MSE')\n",
    "print(mean_squared_error(Y_test,pred_cv))\n",
    "print('!!!!!!!!!!!! 0.05 !!!!!!!!!!!!!!!!!!!')\n",
    "ENreg = ElasticNet(alpha=0.05, l1_ratio=0.5, normalize=False)\n",
    "ENreg.fit(X_train,Y_train)\n",
    "pred_cv = ENreg.predict(X_test)\n",
    "print('test')\n",
    "print(ENreg.score(X_test,Y_test))\n",
    "print('train')\n",
    "print(ENreg.score(X_train,Y_train))\n",
    "print('MSE')\n",
    "print(mean_squared_error(Y_test,pred_cv))\n",
    "print('!!!!!!!!!!!! 1 !!!!!!!!!!!!!!!!!!!')\n",
    "ENreg = ElasticNet(alpha=1, l1_ratio=0.5, normalize=False)\n",
    "ENreg.fit(X_train,Y_train)\n",
    "pred_cv = ENreg.predict(X_test)\n",
    "print('test')\n",
    "print(ENreg.score(X_test,Y_test))\n",
    "print('train')\n",
    "print(ENreg.score(X_train,Y_train))\n",
    "print('MSE')\n",
    "print(mean_squared_error(Y_test,pred_cv))\n",
    "print('with CV')\n",
    "Y_train=np.array(Y_train)\n",
    "Y_train=Y_train.ravel()\n",
    "ENreg = ElasticNetCV(l1_ratio=0.5,n_alphas=10,verbose=1, normalize=False,cv=30)\n",
    "ENreg.fit(X_train,Y_train)\n",
    "pred_cv = ENreg.predict(X_test)\n",
    "print('test')\n",
    "print(ENreg.score(X_test,Y_test))\n",
    "print('train')\n",
    "print(ENreg.score(X_train,Y_train))\n",
    "print('MSE')\n",
    "print(mean_squared_error(Y_test,pred_cv))"
   ]
  },
  {
   "cell_type": "code",
   "execution_count": 20,
   "metadata": {},
   "outputs": [
    {
     "data": {
      "text/plain": [
       "'!!!!!!!!!!!!!!!  250 genes only !!!!!!!!!!!!!!!!!!!'"
      ]
     },
     "execution_count": 20,
     "metadata": {},
     "output_type": "execute_result"
    }
   ],
   "source": [
    "'''!!!!!!!!!!!!!!!  250 genes only !!!!!!!!!!!!!!!!!!!'''"
   ]
  },
  {
   "cell_type": "code",
   "execution_count": 28,
   "metadata": {},
   "outputs": [],
   "source": [
    "dt2=pd.read_excel('gene + clinical LUSC.xlsx')"
   ]
  },
  {
   "cell_type": "code",
   "execution_count": 30,
   "metadata": {},
   "outputs": [],
   "source": [
    "dt2=dt2.set_index(dt2.columns[0])"
   ]
  },
  {
   "cell_type": "code",
   "execution_count": 34,
   "metadata": {},
   "outputs": [
    {
     "name": "stdout",
     "output_type": "stream",
     "text": [
      "(350, 320) (350, 1)\n",
      "(151, 320) (151, 1)\n",
      "!!!!!!!!!!!! 0.1 !!!!!!!!!!!!!!!!!!!\n",
      "test\n",
      "-0.5772644851563433\n",
      "train\n",
      "0.826237184470634\n",
      "MSE\n",
      "1589.9061796785913\n",
      "!!!!!!!!!!!! 0.5 !!!!!!!!!!!!!!!!!!!\n",
      "test\n",
      "-0.11983838570576501\n",
      "train\n",
      "0.6555196618502095\n",
      "MSE\n",
      "1128.8138333365257\n",
      "!!!!!!!!!!!! 0.01 !!!!!!!!!!!!!!!!!!!\n",
      "test\n",
      "-3.364488157129845\n",
      "train\n",
      "0.92343469014115\n",
      "MSE\n",
      "4399.469307436374\n",
      "!!!!!!!!!!!! 0.05 !!!!!!!!!!!!!!!!!!!\n",
      "test\n",
      "-0.9878201384530073\n",
      "train\n",
      "0.8676653953421591\n",
      "MSE\n",
      "2003.7524156278178\n",
      "!!!!!!!!!!!! 1 !!!!!!!!!!!!!!!!!!!\n",
      "test\n",
      "-0.0194532692531999\n",
      "train\n",
      "0.5349228892132172\n",
      "MSE\n",
      "1027.6241352879654\n",
      "with CV\n"
     ]
    },
    {
     "name": "stderr",
     "output_type": "stream",
     "text": [
      "[Parallel(n_jobs=1)]: Using backend SequentialBackend with 1 concurrent workers.\n",
      "............................................................................................................................................................................................................................................................................................................"
     ]
    },
    {
     "name": "stdout",
     "output_type": "stream",
     "text": [
      "test\n",
      "0.0008938776414181282\n",
      "train\n",
      "0.011861528007399036\n",
      "MSE\n",
      "1007.1139070472182\n"
     ]
    },
    {
     "name": "stderr",
     "output_type": "stream",
     "text": [
      "[Parallel(n_jobs=1)]: Done  30 out of  30 | elapsed:    4.1s finished\n"
     ]
    }
   ],
   "source": [
    "Y=tar\n",
    "X_train,X_test,Y_train,Y_test=train_test_split(dt2,Y,test_size=0.3)\n",
    "print(X_train.shape,Y_train.shape)\n",
    "print(X_test.shape,Y_test.shape)\n",
    "print('!!!!!!!!!!!! 0.1 !!!!!!!!!!!!!!!!!!!')\n",
    "ENreg = ElasticNet(alpha=0.1, l1_ratio=0.5, normalize=False)\n",
    "ENreg.fit(X_train,Y_train)\n",
    "pred_cv = ENreg.predict(X_test)\n",
    "print('test')\n",
    "print(ENreg.score(X_test,Y_test))\n",
    "print('train')\n",
    "\n",
    "print(ENreg.score(X_train,Y_train))\n",
    "print('MSE')\n",
    "print(mean_squared_error(Y_test,pred_cv))\n",
    "print('!!!!!!!!!!!! 0.5 !!!!!!!!!!!!!!!!!!!')\n",
    "ENreg = ElasticNet(alpha=0.5, l1_ratio=0.5, normalize=False)\n",
    "ENreg.fit(X_train,Y_train)\n",
    "pred_cv = ENreg.predict(X_test)\n",
    "print('test')\n",
    "print(ENreg.score(X_test,Y_test))\n",
    "print('train')\n",
    "print(ENreg.score(X_train,Y_train))\n",
    "print('MSE')\n",
    "print(mean_squared_error(Y_test,pred_cv))\n",
    "print('!!!!!!!!!!!! 0.01 !!!!!!!!!!!!!!!!!!!')\n",
    "ENreg = ElasticNet(alpha=0.01, l1_ratio=0.5, normalize=False)\n",
    "ENreg.fit(X_train,Y_train)\n",
    "pred_cv = ENreg.predict(X_test)\n",
    "print('test')\n",
    "print(ENreg.score(X_test,Y_test))\n",
    "print('train')\n",
    "print(ENreg.score(X_train,Y_train))\n",
    "print('MSE')\n",
    "print(mean_squared_error(Y_test,pred_cv))\n",
    "print('!!!!!!!!!!!! 0.05 !!!!!!!!!!!!!!!!!!!')\n",
    "ENreg = ElasticNet(alpha=0.05, l1_ratio=0.5, normalize=False)\n",
    "ENreg.fit(X_train,Y_train)\n",
    "pred_cv = ENreg.predict(X_test)\n",
    "print('test')\n",
    "print(ENreg.score(X_test,Y_test))\n",
    "print('train')\n",
    "print(ENreg.score(X_train,Y_train))\n",
    "print('MSE')\n",
    "print(mean_squared_error(Y_test,pred_cv))\n",
    "print('!!!!!!!!!!!! 1 !!!!!!!!!!!!!!!!!!!')\n",
    "ENreg = ElasticNet(alpha=1, l1_ratio=0.5, normalize=False)\n",
    "ENreg.fit(X_train,Y_train)\n",
    "pred_cv = ENreg.predict(X_test)\n",
    "print('test')\n",
    "print(ENreg.score(X_test,Y_test))\n",
    "print('train')\n",
    "print(ENreg.score(X_train,Y_train))\n",
    "print('MSE')\n",
    "print(mean_squared_error(Y_test,pred_cv))\n",
    "print('with CV')\n",
    "Y_train=np.array(Y_train)\n",
    "Y_train=Y_train.ravel()\n",
    "ENreg = ElasticNetCV(l1_ratio=0.9,n_alphas=10,verbose=1, normalize=False,cv=30)\n",
    "ENreg.fit(X_train,Y_train)\n",
    "pred_cv = ENreg.predict(X_test)\n",
    "print('test')\n",
    "print(ENreg.score(X_test,Y_test))\n",
    "print('train')\n",
    "print(ENreg.score(X_train,Y_train))\n",
    "print('MSE')\n",
    "print(mean_squared_error(Y_test,pred_cv))"
   ]
  },
  {
   "cell_type": "code",
   "execution_count": null,
   "metadata": {},
   "outputs": [],
   "source": [
    "'''!!!!!!!!!!!!!!!  2k genes only !!!!!!!!!!!!!!!!!!!'''"
   ]
  },
  {
   "cell_type": "code",
   "execution_count": 38,
   "metadata": {},
   "outputs": [],
   "source": [
    "dt3=pd.read_excel('selected gene no depth LUSC.xlsx')"
   ]
  },
  {
   "cell_type": "code",
   "execution_count": 39,
   "metadata": {},
   "outputs": [],
   "source": [
    "dt3=dt3.set_index(dt3.columns[0])"
   ]
  },
  {
   "cell_type": "code",
   "execution_count": 44,
   "metadata": {},
   "outputs": [
    {
     "data": {
      "text/plain": [
       "(501, 2783)"
      ]
     },
     "execution_count": 44,
     "metadata": {},
     "output_type": "execute_result"
    }
   ],
   "source": [
    "dt3.shape"
   ]
  },
  {
   "cell_type": "code",
   "execution_count": 49,
   "metadata": {},
   "outputs": [
    {
     "name": "stdout",
     "output_type": "stream",
     "text": [
      "(350, 2783) (350, 1)\n",
      "(151, 2783) (151, 1)\n",
      "!!!!!!!!!!!! 1 !!!!!!!!!!!!!!!!!!!\n"
     ]
    },
    {
     "name": "stderr",
     "output_type": "stream",
     "text": [
      "C:\\Users\\Kanika Saini\\Anaconda3\\lib\\site-packages\\sklearn\\linear_model\\coordinate_descent.py:492: ConvergenceWarning: Objective did not converge. You might want to increase the number of iterations. Fitting data with very small alpha may cause precision problems.\n",
      "  ConvergenceWarning)\n"
     ]
    },
    {
     "name": "stdout",
     "output_type": "stream",
     "text": [
      "test\n",
      "-4.096557119438937\n",
      "train\n",
      "5401.148287132068\n",
      "!!!!!!!!!!!! 10 !!!!!!!!!!!!!!!!!!!\n",
      "test\n",
      "0.005207025222863093\n",
      "train\n",
      "0.14883526757260768\n",
      "MSE\n",
      "1054.2458851829851\n",
      "!!!!!!!!!!!! 20 !!!!!!!!!!!!!!!!!!!\n",
      "test\n",
      "0.0059225139362447665\n",
      "train\n",
      "0.0482134240126617\n",
      "MSE\n",
      "1053.487635928012\n",
      "!!!!!!!!!!!! 30 !!!!!!!!!!!!!!!!!!!\n",
      "test\n",
      "0.0017062298067932469\n",
      "train\n",
      "0.02262764602892775\n",
      "MSE\n",
      "1057.955902498986\n",
      "!!!!!!!!!!!! 50 !!!!!!!!!!!!!!!!!!!\n",
      "test\n",
      "-0.004907479847035212\n",
      "train\n",
      "0.008366251801695035\n",
      "MSE\n",
      "1064.9648745817508\n",
      "with CV\n"
     ]
    },
    {
     "name": "stderr",
     "output_type": "stream",
     "text": [
      "[Parallel(n_jobs=1)]: Using backend SequentialBackend with 1 concurrent workers.\n",
      "......................................................................................................................................................................................................................................................................................................................................................................................................................................................................................................................................................................................................................................................................................................................................................................................................................................................................................................................................................................................................................................................................................................................................................................................................................................................................................................................................................................................................................................................................................................................................................................................................................................................................................................................................................................................................................................................................................................................................................................................................................................................................................................................................................................................................................................................................................................................................................................................................................................................................................................................................................................................................................................................................................................................................................................................................................................................................................................................................................................................................................................................................................................................................................................................................................................................................................................................................................................................................................................................................................................................................................................................................................................................................................................................................................................................................................................................................................................................................................................................................................................................................................................................................................................................................................................................................................................................................................................................................................................................................................................................................................................................................................................................................................................................................................................................................................................................................................................................................................................................................................................................................................................................................................................................................C:\\Users\\Kanika Saini\\Anaconda3\\lib\\site-packages\\sklearn\\linear_model\\coordinate_descent.py:492: ConvergenceWarning: Objective did not converge. You might want to increase the number of iterations. Fitting data with very small alpha may cause precision problems.\n",
      "  ConvergenceWarning)\n",
      "...................................................................................................................................................................................................................................................................................................................................................................................................................................................................................................................................................................................................................................................................................................................................................................................................................................................................................................................................................................................................................................................................................................................................C:\\Users\\Kanika Saini\\Anaconda3\\lib\\site-packages\\sklearn\\linear_model\\coordinate_descent.py:492: ConvergenceWarning: Objective did not converge. You might want to increase the number of iterations. Fitting data with very small alpha may cause precision problems.\n",
      "  ConvergenceWarning)\n",
      "................................................................................................................................................................................................................................................................................................................................................................................................................C:\\Users\\Kanika Saini\\Anaconda3\\lib\\site-packages\\sklearn\\linear_model\\coordinate_descent.py:492: ConvergenceWarning: Objective did not converge. You might want to increase the number of iterations. Fitting data with very small alpha may cause precision problems.\n",
      "  ConvergenceWarning)\n",
      "................................................................................................................................................................................................................................................................................................................................................................................................................................................................................................................................................................................................................................................................................................................................................................................................................................................................................................................................................................................................................................................................................................................................................................................................................................................................................................................................................................................................................................................................................................................................................................................................................................................................................................................................................................................................................................................................................................................................................................................................................................................................................................................................................................................................................................................................................................................................................................................................................................................................................................................................................................................................................................................................................................................................................................................................................................................................................................................................................................................................................................................................................................................................................................................................................................C:\\Users\\Kanika Saini\\Anaconda3\\lib\\site-packages\\sklearn\\linear_model\\coordinate_descent.py:492: ConvergenceWarning: Objective did not converge. You might want to increase the number of iterations. Fitting data with very small alpha may cause precision problems.\n",
      "  ConvergenceWarning)\n",
      "......................................................................................................................................................................................................................................................................................................................................................................................................................"
     ]
    },
    {
     "name": "stdout",
     "output_type": "stream",
     "text": [
      "test\n",
      "-0.0009026656831820912\n",
      "train\n",
      "0.016938217856991677\n",
      "MSE\n",
      "1060.7207162893078\n"
     ]
    },
    {
     "name": "stderr",
     "output_type": "stream",
     "text": [
      ".[Parallel(n_jobs=1)]: Done 100 out of 100 | elapsed: 20.1min finished\n"
     ]
    }
   ],
   "source": [
    "Y=tar\n",
    "X_train,X_test,Y_train,Y_test=train_test_split(dt3,Y,test_size=0.3)\n",
    "print(X_train.shape,Y_train.shape)\n",
    "print(X_test.shape,Y_test.shape)\n",
    "print('!!!!!!!!!!!! 1 !!!!!!!!!!!!!!!!!!!')\n",
    "ENreg = ElasticNet(alpha=0.1, l1_ratio=0.5, normalize=False)\n",
    "ENreg.fit(X_train,Y_train)\n",
    "pred_cv = ENreg.predict(X_test)\n",
    "print('test')\n",
    "print(ENreg.score(X_test,Y_test))\n",
    "print('train')\n",
    "print(mean_squared_error(Y_test,pred_cv))\n",
    "print('!!!!!!!!!!!! 10 !!!!!!!!!!!!!!!!!!!')\n",
    "ENreg = ElasticNet(alpha=10, l1_ratio=0.5, normalize=False)\n",
    "ENreg.fit(X_train,Y_train)\n",
    "pred_cv = ENreg.predict(X_test)\n",
    "print('test')\n",
    "print(ENreg.score(X_test,Y_test))\n",
    "print('train')\n",
    "print(ENreg.score(X_train,Y_train))\n",
    "print('MSE')\n",
    "print(mean_squared_error(Y_test,pred_cv))\n",
    "print('!!!!!!!!!!!! 20 !!!!!!!!!!!!!!!!!!!')\n",
    "ENreg = ElasticNet(alpha=20, l1_ratio=0.5, normalize=False)\n",
    "ENreg.fit(X_train,Y_train)\n",
    "pred_cv = ENreg.predict(X_test)\n",
    "print('test')\n",
    "print(ENreg.score(X_test,Y_test))\n",
    "print('train')\n",
    "print(ENreg.score(X_train,Y_train))\n",
    "print('MSE')\n",
    "print(mean_squared_error(Y_test,pred_cv))\n",
    "print('!!!!!!!!!!!! 30 !!!!!!!!!!!!!!!!!!!')\n",
    "ENreg = ElasticNet(alpha=30, l1_ratio=0.5, normalize=False)\n",
    "ENreg.fit(X_train,Y_train)\n",
    "pred_cv = ENreg.predict(X_test)\n",
    "print('test')\n",
    "print(ENreg.score(X_test,Y_test))\n",
    "print('train')\n",
    "print(ENreg.score(X_train,Y_train))\n",
    "print('MSE')\n",
    "print(mean_squared_error(Y_test,pred_cv))\n",
    "print('!!!!!!!!!!!! 50 !!!!!!!!!!!!!!!!!!!')\n",
    "ENreg = ElasticNet(alpha=50, l1_ratio=0.5, normalize=False)\n",
    "ENreg.fit(X_train,Y_train)\n",
    "pred_cv = ENreg.predict(X_test)\n",
    "print('test')\n",
    "print(ENreg.score(X_test,Y_test))\n",
    "print('train')\n",
    "print(ENreg.score(X_train,Y_train))\n",
    "print('MSE')\n",
    "print(mean_squared_error(Y_test,pred_cv))\n",
    "print('with CV')\n",
    "Y_train=np.array(Y_train)\n",
    "Y_train=Y_train.ravel()\n",
    "ENreg = ElasticNetCV(l1_ratio=0.9,n_alphas=100,verbose=1, normalize=False,cv=100,max_iter=1900)\n",
    "ENreg.fit(X_train,Y_train)\n",
    "pred_cv = ENreg.predict(X_test)\n",
    "print('test')\n",
    "print(ENreg.score(X_test,Y_test))\n",
    "print('train')\n",
    "print(ENreg.score(X_train,Y_train))\n",
    "print('MSE')\n",
    "print(mean_squared_error(Y_test,pred_cv))"
   ]
  },
  {
   "cell_type": "code",
   "execution_count": 43,
   "metadata": {},
   "outputs": [
    {
     "data": {
      "text/plain": [
       "'!!!!!!!!!!!!!!!  2k genes only !!!!!!!!!!!!!!!!!!!'"
      ]
     },
     "execution_count": 43,
     "metadata": {},
     "output_type": "execute_result"
    }
   ],
   "source": [
    "'''!!!!!!!!!!!!!!!  2k genes + clinical data !!!!!!!!!!!!!!!!!!!'''"
   ]
  },
  {
   "cell_type": "code",
   "execution_count": 5,
   "metadata": {},
   "outputs": [],
   "source": [
    "dt4=pd.read_excel('selected gene no depth LUSC.xlsx')"
   ]
  },
  {
   "cell_type": "code",
   "execution_count": 6,
   "metadata": {},
   "outputs": [],
   "source": [
    "dt4=dt4.set_index(dt4.columns[0])"
   ]
  },
  {
   "cell_type": "code",
   "execution_count": 16,
   "metadata": {},
   "outputs": [
    {
     "name": "stdout",
     "output_type": "stream",
     "text": [
      "(350, 2794) (350, 1)\n",
      "(151, 2794) (151, 1)\n",
      "!!!!!!!!!!!! 70 !!!!!!!!!!!!!!!!!!!\n",
      "test\n",
      "0.43574218104627616\n",
      "train\n",
      "0.64810368077047\n",
      "MSE\n",
      "490.9816826951165\n",
      "!!!!!!!!!!!! 50 !!!!!!!!!!!!!!!!!!!\n",
      "test\n",
      "0.43914054285070137\n",
      "train\n",
      "0.6512673168535319\n",
      "MSE\n",
      "488.0246418866481\n",
      "!!!!!!!!!!!! 30 !!!!!!!!!!!!!!!!!!!\n",
      "test\n",
      "0.4421717739362214\n",
      "train\n",
      "0.6545258383063353\n",
      "MSE\n",
      "485.3870551505599\n",
      "!!!!!!!!!!!!80 !!!!!!!!!!!!!!!!!!!\n"
     ]
    },
    {
     "data": {
      "text/plain": [
       "\"ENreg = ElasticNet(alpha=80, l1_ratio=0.5, normalize=False)\\nENreg.fit(X_train,Y_train)\\npred_cv = ENreg.predict(X_test)\\nprint('test')\\nprint(ENreg.score(X_test,Y_test))\\nprint('train')\\nprint(ENreg.score(X_train,Y_train))\\nprint('MSE')\\nprint(mean_squared_error(Y_test,pred_cv))\\nprint('with CV')\\nY_train=np.array(Y_train)\\nY_train=Y_train.ravel()\\nENreg = ElasticNetCV(l1_ratio=0.9,n_alphas=100,verbose=1, normalize=False,max_iter=1500,cv=100,alphas=None)\\nENreg.fit(X_train,Y_train)\\npred_cv = ENreg.predict(X_test)\\nprint('test')\\nprint(ENreg.score(X_test,Y_test))\\nprint('train')\\nprint(ENreg.score(X_train,Y_train))\\nprint('MSE')\\nprint(mean_squared_error(Y_test,pred_cv))\""
      ]
     },
     "execution_count": 16,
     "metadata": {},
     "output_type": "execute_result"
    }
   ],
   "source": [
    "Y=tar\n",
    "X_train,X_test,Y_train,Y_test=train_test_split(dt4,Y,test_size=0.3)\n",
    "print(X_train.shape,Y_train.shape)\n",
    "print(X_test.shape,Y_test.shape)\n",
    "'''print('!!!!!!!!!!!! 1 !!!!!!!!!!!!!!!!!!!')\n",
    "ENreg = ElasticNet(alpha=0.1, l1_ratio=0.5, normalize=False)\n",
    "ENreg.fit(X_train,Y_train)\n",
    "pred_cv = ENreg.predict(X_test)\n",
    "print('test')\n",
    "print(ENreg.score(X_test,Y_test))\n",
    "print('train')'''\n",
    "print('!!!!!!!!!!!! 70 !!!!!!!!!!!!!!!!!!!')\n",
    "\n",
    "ENreg = ElasticNet(alpha=70, l1_ratio=0.5, normalize=False)\n",
    "ENreg.fit(X_train,Y_train)\n",
    "pred_cv = ENreg.predict(X_test)\n",
    "print('test')\n",
    "print(ENreg.score(X_test,Y_test))\n",
    "print('train')\n",
    "print(ENreg.score(X_train,Y_train))\n",
    "print('MSE')\n",
    "print(mean_squared_error(Y_test,pred_cv))\n",
    "print('!!!!!!!!!!!! 50 !!!!!!!!!!!!!!!!!!!')\n",
    "ENreg = ElasticNet(alpha=50, l1_ratio=0.5, normalize=False)\n",
    "ENreg.fit(X_train,Y_train)\n",
    "pred_cv = ENreg.predict(X_test)\n",
    "print('test')\n",
    "print(ENreg.score(X_test,Y_test))\n",
    "print('train')\n",
    "print(ENreg.score(X_train,Y_train))\n",
    "print('MSE')\n",
    "print(mean_squared_error(Y_test,pred_cv))\n",
    "print('!!!!!!!!!!!! 30 !!!!!!!!!!!!!!!!!!!')\n",
    "ENreg = ElasticNet(alpha=30, l1_ratio=0.5, normalize=False)\n",
    "ENreg.fit(X_train,Y_train)\n",
    "pred_cv = ENreg.predict(X_test)\n",
    "print('test')\n",
    "print(ENreg.score(X_test,Y_test))\n",
    "print('train')\n",
    "print(ENreg.score(X_train,Y_train))\n",
    "print('MSE')\n",
    "print(mean_squared_error(Y_test,pred_cv))\n",
    "print('!!!!!!!!!!!!80 !!!!!!!!!!!!!!!!!!!')\n",
    "'''ENreg = ElasticNet(alpha=80, l1_ratio=0.5, normalize=False)\n",
    "ENreg.fit(X_train,Y_train)\n",
    "pred_cv = ENreg.predict(X_test)\n",
    "print('test')\n",
    "print(ENreg.score(X_test,Y_test))\n",
    "print('train')\n",
    "print(ENreg.score(X_train,Y_train))\n",
    "print('MSE')\n",
    "print(mean_squared_error(Y_test,pred_cv))\n",
    "print('with CV')\n",
    "Y_train=np.array(Y_train)\n",
    "Y_train=Y_train.ravel()\n",
    "ENreg = ElasticNetCV(l1_ratio=0.9,n_alphas=100,verbose=1, normalize=False,max_iter=1500,cv=100,alphas=None)\n",
    "ENreg.fit(X_train,Y_train)\n",
    "pred_cv = ENreg.predict(X_test)\n",
    "print('test')\n",
    "print(ENreg.score(X_test,Y_test))\n",
    "print('train')\n",
    "print(ENreg.score(X_train,Y_train))\n",
    "print('MSE')\n",
    "print(mean_squared_error(Y_test,pred_cv))'''"
   ]
  },
  {
   "cell_type": "code",
   "execution_count": 17,
   "metadata": {},
   "outputs": [
    {
     "data": {
      "text/plain": [
       "Disease Free (Months)                                              0.936061\n",
       "C1ORF94                                                            0.023102\n",
       "Person Cigarette Smoking History Pack Year Value                   0.022673\n",
       "Neoplasm Disease Stage American Joint Committee on Cancer Code3   -0.000000\n",
       "ARL17A                                                            -0.000000\n",
       "ARL5A                                                             -0.000000\n",
       "ARL4D                                                             -0.000000\n",
       "ARL4C                                                             -0.000000\n",
       "ARL4A                                                             -0.000000\n",
       "ARL3                                                              -0.000000\n",
       "ARL2                                                              -0.000000\n",
       "ARL2BP                                                            -0.000000\n",
       "ARL1                                                              -0.000000\n",
       "ARL16                                                             -0.000000\n",
       "ARL5C                                                             -0.000000\n",
       "ARL15                                                              0.000000\n",
       "ARL14                                                             -0.000000\n",
       "ARL13B                                                            -0.000000\n",
       "ARL13A                                                            -0.000000\n",
       "ARL11                                                              0.000000\n",
       "ARL10                                                              0.000000\n",
       "ARIH2                                                              0.000000\n",
       "ARIH1                                                             -0.000000\n",
       "ARL5B                                                              0.000000\n",
       "ARL6IP1                                                            0.000000\n",
       "ARID5A                                                            -0.000000\n",
       "ARMC3                                                              0.000000\n",
       "ARMCX2                                                            -0.000000\n",
       "ARMCX1                                                            -0.000000\n",
       "ARMC9                                                             -0.000000\n",
       "                                                                     ...   \n",
       "CMC2                                                               0.000000\n",
       "CDIP1                                                              0.000000\n",
       "C16ORF59                                                          -0.000000\n",
       "C16ORF58                                                          -0.000000\n",
       "USB1                                                              -0.000000\n",
       "SPATA33                                                           -0.000000\n",
       "C16ORF54                                                          -0.000000\n",
       "BRICD5                                                            -0.000000\n",
       "VPS9D1                                                            -0.000000\n",
       "CFAP20                                                            -0.000000\n",
       "LINC00304                                                         -0.000000\n",
       "C17ORF107                                                         -0.000000\n",
       "TEN1                                                              -0.000000\n",
       "C17ORF105                                                          0.000000\n",
       "C17ORF104                                                          0.000000\n",
       "NATD1                                                             -0.000000\n",
       "C17ORF102                                                          0.000000\n",
       "OGFOD3                                                            -0.000000\n",
       "C17ORF100                                                         -0.000000\n",
       "C16ORF93                                                          -0.000000\n",
       "C16ORF92                                                           0.000000\n",
       "C16ORF91                                                          -0.000000\n",
       "C16ORF90                                                          -0.000000\n",
       "C16ORF89                                                          -0.000000\n",
       "KNOP1                                                              0.000000\n",
       "C16ORF87                                                           0.000000\n",
       "C16ORF86                                                          -0.000000\n",
       "C16ORF82                                                          -0.000000\n",
       "CXORF67                                                            0.000000\n",
       "ATP4B                                                             -0.000166\n",
       "Length: 2794, dtype: float64"
      ]
     },
     "execution_count": 17,
     "metadata": {},
     "output_type": "execute_result"
    }
   ],
   "source": [
    "from pandas import Series\n",
    "c=np.array(ENreg.coef_)\n",
    "predictors=X_train.columns\n",
    "pd.Series(ENreg.coef_,index=X_train.columns).sort_values(ascending=False)"
   ]
  },
  {
   "cell_type": "code",
   "execution_count": 11,
   "metadata": {},
   "outputs": [
    {
     "name": "stdout",
     "output_type": "stream",
     "text": [
      "[0.66354867 0.66059769 0.4972251  0.54046053 0.51133431]\n"
     ]
    }
   ],
   "source": [
    "from sklearn.model_selection import cross_val_score\n",
    "print(cross_val_score(ENreg,X_train,Y_train,cv=5))"
   ]
  },
  {
   "cell_type": "code",
   "execution_count": 13,
   "metadata": {},
   "outputs": [
    {
     "data": {
      "text/plain": [
       "0.5746332599999999"
      ]
     },
     "execution_count": 13,
     "metadata": {},
     "output_type": "execute_result"
    }
   ],
   "source": [
    "(0.66354867+0.66059769+0.4972251+0.54046053+0.51133431)/5\n"
   ]
  },
  {
   "cell_type": "code",
   "execution_count": null,
   "metadata": {},
   "outputs": [],
   "source": []
  }
 ],
 "metadata": {
  "kernelspec": {
   "display_name": "Python 3",
   "language": "python",
   "name": "python3"
  },
  "language_info": {
   "codemirror_mode": {
    "name": "ipython",
    "version": 3
   },
   "file_extension": ".py",
   "mimetype": "text/x-python",
   "name": "python",
   "nbconvert_exporter": "python",
   "pygments_lexer": "ipython3",
   "version": "3.6.5"
  }
 },
 "nbformat": 4,
 "nbformat_minor": 2
}
