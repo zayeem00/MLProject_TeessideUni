{
 "cells": [
  {
   "cell_type": "code",
   "execution_count": 1,
   "metadata": {},
   "outputs": [],
   "source": [
    "import sksurv\n",
    "import os\n",
    "import pandas as pd"
   ]
  },
  {
   "cell_type": "code",
   "execution_count": 3,
   "metadata": {},
   "outputs": [],
   "source": [
    "os.chdir('U:\\\\ProjectDataset')"
   ]
  },
  {
   "cell_type": "code",
   "execution_count": 4,
   "metadata": {},
   "outputs": [],
   "source": [
    "dt=pd.read_excel('gene + clinical LUAD.xlsx')\n"
   ]
  },
  {
   "cell_type": "code",
   "execution_count": 5,
   "metadata": {},
   "outputs": [],
   "source": [
    "dt=dt.set_index(dt.columns[0])"
   ]
  },
  {
   "cell_type": "code",
   "execution_count": 46,
   "metadata": {},
   "outputs": [],
   "source": [
    "c=pd.read_excel('cox Luad.xlsx')"
   ]
  },
  {
   "cell_type": "code",
   "execution_count": 64,
   "metadata": {},
   "outputs": [],
   "source": [
    "result=c.to_records(index=False)"
   ]
  },
  {
   "cell_type": "code",
   "execution_count": 65,
   "metadata": {},
   "outputs": [],
   "source": [
    "c['Patient\\'s Vital Status' ]=c['Patient\\'s Vital Status' ].astype('bool')"
   ]
  },
  {
   "cell_type": "code",
   "execution_count": 66,
   "metadata": {},
   "outputs": [
    {
     "name": "stdout",
     "output_type": "stream",
     "text": [
      "Index(['Patient's Vital Status', 'Survival '], dtype='object')\n"
     ]
    }
   ],
   "source": [
    "print(c.columns)"
   ]
  },
  {
   "cell_type": "code",
   "execution_count": 67,
   "metadata": {},
   "outputs": [
    {
     "data": {
      "text/plain": [
       "rec.array([( True, 0.0000e+00), ( True, 5.0030e+01), (False, 3.9800e+00),\n",
       "           (False, 1.9940e+01), ( True, 1.3990e+01), ( True, 4.4970e+01),\n",
       "           ( True, 3.6990e+01), (False, 0.0000e+00), (False, 9.9500e+00),\n",
       "           (False, 2.4010e+01), ( True, 4.7010e+01), (False, 8.0200e+00),\n",
       "           ( True, 1.8990e+01), ( True, 2.0040e+01), ( True, 0.0000e+00),\n",
       "           (False, 2.9900e+00), ( True, 1.4950e+01), (False, 9.0000e+00),\n",
       "           ( True, 2.9960e+01), ( True, 1.1990e+01), ( True, 2.9990e+01),\n",
       "           ( True, 2.1980e+01), ( True, 2.5990e+01), ( True, 2.5990e+01),\n",
       "           ( True, 2.5000e+01), ( True, 2.5000e+01), ( True, 2.3980e+01),\n",
       "           (False, 1.5010e+01), ( True, 1.5010e+01), ( True, 4.9600e+00),\n",
       "           ( True, 2.8980e+01), ( True, 2.2010e+01), (False, 9.0300e+00),\n",
       "           ( True, 2.0400e+00), ( True, 4.6000e-01), ( True, 7.3900e+00),\n",
       "           ( True, 5.9800e+00), ( True, 8.6700e+00), ( True, 9.7670e+01),\n",
       "           ( True, 1.2070e+02), (False, 3.7680e+01), (False, 4.9010e+01),\n",
       "           (False, 2.8380e+01), (False, 3.5250e+01), (False, 1.1630e+01),\n",
       "           (False, 4.4580e+01), ( True, 1.4720e+01), (False, 2.6280e+01),\n",
       "           ( True, 4.3700e+00), ( True, 4.3500e+01), ( True, 4.6940e+01),\n",
       "           ( True, 4.4380e+01), ( True, 4.4910e+01), ( True, 3.8070e+01),\n",
       "           ( True, 4.2050e+01), ( True, 4.2740e+01), (False, 3.1900e+00),\n",
       "           (False, 2.5000e+01), ( True, 3.7120e+01), ( True, 3.8210e+01),\n",
       "           ( True, 3.4030e+01), (False, 3.3710e+01), (False, 2.6540e+01),\n",
       "           ( True, 3.3280e+01), ( True, 2.8350e+01), ( True, 2.7990e+01),\n",
       "           ( True, 1.9550e+01), ( True, 2.3920e+01), ( True, 2.7760e+01),\n",
       "           ( True, 2.3130e+01), ( True, 2.1620e+01), ( True, 2.3160e+01),\n",
       "           ( True, 8.5940e+01), (False, 3.2420e+01), ( True, 6.1240e+01),\n",
       "           (False, 1.6430e+01), ( True, 2.2700e+01), ( True, 1.9450e+01),\n",
       "           (False, 1.8300e+01), ( True, 7.1600e+00), ( True, 3.6040e+01),\n",
       "           (False, 1.8860e+01), ( True, 2.8980e+01), ( True, 2.9200e+01),\n",
       "           ( True, 2.3620e+01), ( True, 1.2650e+01), ( True, 9.3600e+00),\n",
       "           ( True, 8.5400e+00), ( True, 1.5970e+01), ( True, 1.5310e+01),\n",
       "           ( True, 9.4300e+00), ( True, 1.1530e+01), ( True, 1.3630e+01),\n",
       "           (False, 1.3440e+01), (False, 7.6150e+01), (False, 2.8090e+01),\n",
       "           (False, 2.8550e+01), (False, 1.2650e+01), (False, 3.5510e+01),\n",
       "           (False, 4.6680e+01), (False, 1.4060e+01), (False, 3.2820e+01),\n",
       "           (False, 8.8000e+00), (False, 2.9430e+01), (False, 2.9730e+01),\n",
       "           ( True, 5.5850e+01), (False, 1.6030e+01), ( True, 5.3250e+01),\n",
       "           ( True, 5.5290e+01), ( True, 1.7150e+01), ( True, 1.1630e+01),\n",
       "           ( True, 2.2240e+01), (False, 2.2240e+01), ( True, 1.5654e+02),\n",
       "           ( True, 7.3060e+01), ( True, 6.2190e+01), (False, 2.8880e+01),\n",
       "           (False, 8.5400e+00), (False, 4.0370e+01), (False, 3.7290e+01),\n",
       "           ( True, 1.2349e+02), ( True, 2.2116e+02), ( True, 1.6399e+02),\n",
       "           (False, 9.8600e+00), (False, 2.0500e+01), (False, 7.1420e+01),\n",
       "           ( True, 1.0164e+02), (False, 1.5700e+01), (False, 6.0120e+01),\n",
       "           ( True, 4.7370e+01), ( True, 4.7370e+01), (False, 4.9240e+01),\n",
       "           (False, 8.2100e+00), (False, 9.2600e+00), (False, 1.4260e+01),\n",
       "           (False, 4.0570e+01), (False, 7.8610e+01), (False, 2.1450e+01),\n",
       "           (False, 8.4400e+00), (False, 1.5110e+01), ( True, 4.8420e+01),\n",
       "           ( True, 6.0680e+01), ( True, 5.7490e+01), ( True, 5.3120e+01),\n",
       "           ( True, 5.3120e+01), (False, 4.2310e+01), (False, 3.9100e+00),\n",
       "           (False, 2.5530e+01), (False, 1.1040e+01), (False, 1.2160e+01),\n",
       "           (False, 6.2100e+00), (False, 4.1660e+01), (False, 7.2000e-01),\n",
       "           (False, 1.0120e+01), ( True, 3.6960e+01), ( True, 3.6760e+01),\n",
       "           ( True, 2.7230e+01), (False, 3.4260e+01), (False, 3.0520e+01),\n",
       "           ( True, 1.3930e+01), ( True, 3.5180e+01), (False, 2.3030e+01),\n",
       "           ( True, 3.8700e+01), ( True, 4.8590e+01), ( True, 6.7840e+01),\n",
       "           ( True, 3.0550e+01), ( True, 1.4290e+01), ( True, 8.0450e+01),\n",
       "           (False, 5.6200e+00), (False, 4.2480e+01), ( True, 4.0700e+01),\n",
       "           (False, 1.5240e+01), ( True, 4.5990e+01), (False, 5.3610e+01),\n",
       "           (False, 3.8800e+00), (False, 5.7800e+00), (False, 7.7900e+00),\n",
       "           ( True, 6.9280e+01), (False, 4.5300e+01), (False, 3.2690e+01),\n",
       "           ( True, 9.2740e+01), (False, 2.4970e+01), ( True, 4.0510e+01),\n",
       "           ( True, 1.0713e+02), ( True, 7.0200e+01), (False, 3.1270e+01),\n",
       "           ( True, 2.8650e+01), ( True, 2.0010e+01), (False, 7.9800e+00),\n",
       "           ( True, 2.7070e+01), ( True, 1.6000e+01), (False, 3.2690e+01),\n",
       "           ( True, 2.2010e+01), ( True, 2.3160e+01), ( True, 1.4520e+01),\n",
       "           ( True, 2.1420e+01), ( True, 3.9100e+00), ( True, 2.3130e+01),\n",
       "           ( True, 2.5390e+01), (False, 1.5370e+01), ( True, 1.8630e+01),\n",
       "           (False, 1.1270e+01), ( True, 3.4170e+01), ( True, 1.7640e+01),\n",
       "           (False, 1.8430e+01), (False, 6.1400e+00), ( True, 1.9810e+01),\n",
       "           ( True, 2.9200e+01), ( True, 2.9700e+01), ( True, 1.5180e+01),\n",
       "           (False, 2.3060e+01), (False, 1.9650e+01), ( True, 1.9710e+01),\n",
       "           (False, 5.0600e+00), ( True, 1.7770e+01), (False, 2.3620e+01),\n",
       "           ( True, 1.5640e+01), ( True, 1.7970e+01), ( True, 1.6920e+01),\n",
       "           ( True, 1.9680e+01), ( True, 2.9170e+01), ( True, 3.2100e+01),\n",
       "           ( True, 2.2140e+01), (False, 1.5410e+01), ( True, 1.7540e+01),\n",
       "           ( True, 1.5700e+01), ( True, 1.4450e+01), ( True, 3.6000e-01),\n",
       "           ( True, 1.3730e+01), ( True, 2.0270e+01), ( True, 1.7710e+01),\n",
       "           ( True, 1.8130e+01), (False, 1.9940e+01), ( True, 2.5990e+01),\n",
       "           ( True, 1.7080e+01), ( True, 1.7610e+01), ( True, 1.4650e+01),\n",
       "           ( True, 1.5800e+00), ( True, 1.3670e+01), (False, 1.2320e+01),\n",
       "           ( True, 1.6920e+01), ( True, 2.2630e+01), ( True, 2.0700e+01),\n",
       "           ( True, 2.1390e+01), (False, 3.2500e+00), ( True, 2.0570e+01),\n",
       "           ( True, 1.9580e+01), ( True, 9.2000e-01), ( True, 1.5800e+01),\n",
       "           (False, 2.0170e+01), ( True, 1.9970e+01), ( True, 1.7940e+01),\n",
       "           (False, 4.5700e+00), ( True, 3.9950e+01), ( True, 4.2350e+01),\n",
       "           (False, 1.4590e+01), ( True, 8.8570e+01), (False, 4.9210e+01),\n",
       "           (False, 4.7770e+01), (False, 1.9510e+01), (False, 5.6670e+01),\n",
       "           (False, 5.4300e+01), ( True, 6.7900e+01), ( True, 7.2240e+01),\n",
       "           (False, 1.3600e+01), (False, 3.9220e+01), ( True, 4.0930e+01),\n",
       "           ( True, 2.9890e+01), ( True, 5.6770e+01), (False, 2.0630e+01),\n",
       "           ( True, 3.9060e+01), ( True, 8.1730e+01), ( True, 3.6990e+01),\n",
       "           (False, 3.8340e+01), ( True, 8.7910e+01), (False, 2.0400e+00),\n",
       "           ( True, 4.2870e+01), ( True, 2.8380e+01), ( True, 5.1220e+01),\n",
       "           ( True, 2.8450e+01), ( True, 2.0040e+01), ( True, 2.0040e+01),\n",
       "           ( True, 1.8820e+01), ( True, 1.4030e+01), ( True, 1.2650e+01),\n",
       "           ( True, 1.4720e+01), ( True, 5.7200e+00), ( True, 4.6300e+00),\n",
       "           ( True, 1.3860e+01), ( True, 6.6400e+00), ( True, 6.1100e+00),\n",
       "           ( True, 2.2670e+01), ( True, 1.3600e+01), ( True, 5.4200e+00),\n",
       "           ( True, 7.5600e+00), ( True, 6.0400e+00), ( True, 4.4000e+00),\n",
       "           ( True, 1.3400e+01), ( True, 1.3500e+01), ( True, 1.3990e+01),\n",
       "           ( True, 1.3440e+01), ( True, 4.2400e+00), ( True, 2.6710e+01),\n",
       "           ( True, 1.9420e+01), ( True, 8.4100e+00), (False, 6.9000e+00),\n",
       "           (False, 5.2560e+01), (False, 2.3360e+01), ( True, 8.2620e+01),\n",
       "           ( True, 2.6280e+01), ( True, 1.5340e+01), ( True, 4.3000e+00),\n",
       "           (False, 3.0290e+01), (False, 9.2300e+00), (False, 1.2500e+00),\n",
       "           ( True, 3.9060e+01), (False, 5.0300e+01), (False, 1.1170e+01),\n",
       "           (False, 0.0000e+00), (False, 6.6590e+01), ( True, 0.0000e+00),\n",
       "           ( True, 7.7790e+01), ( True, 4.3790e+01), ( True, 0.0000e+00),\n",
       "           (False, 0.0000e+00), ( True, 8.5090e+01), (False, 0.0000e+00),\n",
       "           (False, 0.0000e+00), (False, 4.9800e+01), (False, 3.6630e+01),\n",
       "           ( True, 1.0857e+02), ( True, 1.0049e+02), ( True, 0.0000e+00),\n",
       "           ( True, 0.0000e+00), (False, 1.6298e+02), (False, 2.7140e+01),\n",
       "           (False, 5.6800e+00), (False, 1.9250e+01), (False, 2.0570e+01),\n",
       "           ( True, 1.2943e+02), (False, 2.1880e+01), (False, 3.9910e+01),\n",
       "           ( True, 1.1942e+02), (False, 1.9480e+01), (False, 3.8470e+01),\n",
       "           (False, 3.2060e+01), (False, 5.8800e+00), ( True, 6.4850e+01),\n",
       "           (False, 2.2900e+01), (False, 9.5600e+00), (False, 1.0411e+02),\n",
       "           ( True, 2.3811e+02), (False, 8.4800e+00), (False, 8.8070e+01),\n",
       "           (False, 2.6510e+01), (False, 3.1180e+01), (False, 8.0200e+00),\n",
       "           (False, 5.3290e+01), ( True, 2.5990e+01), (False, 3.9320e+01),\n",
       "           (False, 1.0550e+01), (False, 5.0200e+01), ( True, 2.3200e+02),\n",
       "           (False, 3.9720e+01), ( True, 7.7530e+01), (False, 1.0550e+01),\n",
       "           (False, 1.1041e+02), ( True, 0.0000e+00), ( True, 9.3040e+01),\n",
       "           ( True, 8.5250e+01), ( True, 2.7070e+01), (False, 1.2350e+01),\n",
       "           ( True, 5.8800e+00), ( True, 3.1110e+01), (False, 3.4360e+01),\n",
       "           ( True, 3.8010e+01), (False, 2.0530e+01), ( True, 3.2750e+01),\n",
       "           ( True, 1.9880e+01), ( True, 3.5220e+01), ( True, 3.7710e+01),\n",
       "           (False, 4.0700e+00), ( True, 4.5700e+00), ( True, 2.4310e+01),\n",
       "           ( True, 7.9000e-01), (False, 2.2800e+01), ( True, 3.2620e+01),\n",
       "           ( True, 3.1010e+01), ( True, 3.1180e+01), ( True, 2.3030e+01),\n",
       "           ( True, 0.0000e+00), ( True, 2.1450e+01), (False, 1.4590e+01),\n",
       "           ( True, 1.1600e+01), ( True, 1.3900e+01), ( True, 3.0810e+01),\n",
       "           ( True, 2.7560e+01), (False, 6.2000e-01), ( True, 2.8320e+01),\n",
       "           ( True, 2.6480e+01), ( True, 2.9430e+01), (False, 3.8100e+00),\n",
       "           (False, 2.4210e+01), ( True, 1.3630e+01), ( True, 2.6450e+01),\n",
       "           ( True, 1.0610e+01), (False, 4.1330e+01), ( True, 1.9700e+00),\n",
       "           ( True, 1.0180e+01), ( True, 2.6000e+00), ( True, 1.3700e+01),\n",
       "           ( True, 1.2220e+01), ( True, 2.7660e+01), ( True, 7.3600e+00),\n",
       "           ( True, 1.1500e+00), ( True, 1.6160e+01), ( True, 1.6590e+01),\n",
       "           (False, 1.4260e+01), ( True, 1.1800e+00), ( True, 1.4500e+00),\n",
       "           ( True, 1.9810e+01), ( True, 2.2440e+01), ( True, 1.7440e+01),\n",
       "           ( True, 6.1100e+00), ( True, 2.3590e+01), (False, 1.0800e+00),\n",
       "           ( True, 1.8990e+01), ( True, 1.7280e+01), ( True, 4.1790e+01),\n",
       "           (False, 1.6520e+01), (False, 2.8600e+00), ( True, 1.8660e+01),\n",
       "           ( True, 1.2390e+01), ( True, 1.5670e+01), ( True, 1.5640e+01),\n",
       "           ( True, 2.7270e+01), ( True, 2.7600e+00), ( True, 2.1390e+01),\n",
       "           ( True, 1.8170e+01), ( True, 1.9880e+01), ( True, 4.2210e+01),\n",
       "           ( True, 6.4550e+01), ( True, 6.3470e+01), ( True, 6.1430e+01),\n",
       "           ( True, 2.5460e+01), ( True, 1.8530e+01), (False, 5.9000e-01),\n",
       "           ( True, 1.5900e+01), ( True, 1.8660e+01), ( True, 1.7900e+01),\n",
       "           (False, 5.3900e+00), ( True, 1.8100e+01), (False, 1.5370e+01),\n",
       "           ( True, 1.6390e+01), ( True, 1.4290e+01), ( True, 2.1580e+01),\n",
       "           ( True, 2.0570e+01), ( True, 2.0170e+01), ( True, 2.1420e+01),\n",
       "           ( True, 1.9740e+01), ( True, 2.0500e+01), ( True, 1.7740e+01),\n",
       "           ( True, 2.0830e+01), ( True, 1.8660e+01), ( True, 2.0660e+01),\n",
       "           ( True, 2.4540e+01), ( True, 3.4820e+01), ( True, 3.6730e+01),\n",
       "           ( True, 1.4500e+00), (False, 2.1550e+01), ( True, 2.1620e+01),\n",
       "           ( True, 2.4280e+01), ( True, 2.3780e+01), (False, 1.8070e+01),\n",
       "           ( True, 3.5450e+01), ( True, 3.2460e+01), ( True, 1.8990e+01),\n",
       "           ( True, 1.4290e+01), (False, 6.3400e+00), ( True, 1.0090e+01),\n",
       "           (False, 1.4520e+01), (False, 1.9100e+00), ( True, 2.1810e+01),\n",
       "           ( True, 1.8560e+01), ( True, 1.5640e+01), ( True, 2.7170e+01),\n",
       "           ( True, 3.8600e+01), ( True, 2.7600e+00), (False, 8.6070e+01),\n",
       "           (False, 5.8410e+01), (False, 4.9310e+01), (False, 8.5970e+01),\n",
       "           (False, 5.8800e+01), (False, 5.4900e+00), (False, 5.2900e+00),\n",
       "           (False, 4.1560e+01), (False, 3.1210e+01), (False, 2.4300e+00),\n",
       "           (False, 1.0090e+01), (False, 2.9430e+01), (False, 1.1040e+01),\n",
       "           ( True, 2.4340e+01), (False, 1.4090e+01), (False, 1.1140e+01),\n",
       "           (False, 1.9120e+01), ( True, 7.3850e+01), ( True, 7.0990e+01),\n",
       "           ( True, 7.4280e+01), (False, 1.3000e-01), ( True, 1.6400e+00),\n",
       "           ( True, 4.7040e+01), ( True, 4.9000e-01), ( True, 4.3000e-01),\n",
       "           ( True, 1.9810e+01), ( True, 2.0270e+01), (False, 5.9070e+01),\n",
       "           ( True, 1.6850e+01)],\n",
       "          dtype=[(\"Patient's Vital Status\", '?'), ('Survival ', '<f8')])"
      ]
     },
     "execution_count": 67,
     "metadata": {},
     "output_type": "execute_result"
    }
   ],
   "source": [
    "result"
   ]
  },
  {
   "cell_type": "code",
   "execution_count": 28,
   "metadata": {},
   "outputs": [
    {
     "name": "stdout",
     "output_type": "stream",
     "text": [
      "(361, 261) (361,)\n",
      "(156, 261) (156,)\n"
     ]
    }
   ],
   "source": [
    "from sklearn.model_selection import train_test_split\n",
    "X_train,X_test,Y_train,Y_test=train_test_split(dt,result,test_size=0.3)\n",
    "print(X_train.shape,Y_train.shape)\n",
    "print(X_test.shape,Y_test.shape)"
   ]
  },
  {
   "cell_type": "code",
   "execution_count": 30,
   "metadata": {},
   "outputs": [
    {
     "name": "stdout",
     "output_type": "stream",
     "text": [
      "iter     10: optimization converged\n"
     ]
    },
    {
     "data": {
      "text/plain": [
       "CoxPHSurvivalAnalysis(alpha=1, n_iter=100, tol=1e-09, verbose=1)"
      ]
     },
     "execution_count": 30,
     "metadata": {},
     "output_type": "execute_result"
    }
   ],
   "source": [
    "from sksurv.linear_model import CoxPHSurvivalAnalysis\n",
    "estimator = CoxPHSurvivalAnalysis(alpha=1,verbose=1)\n",
    "estimator.fit(dt, result)\n"
   ]
  },
  {
   "cell_type": "code",
   "execution_count": 31,
   "metadata": {},
   "outputs": [
    {
     "data": {
      "text/plain": [
       "ABCD2                                                             -0.233446\n",
       "ABLIM1                                                             0.247545\n",
       "ABRA                                                               0.471735\n",
       "ACD                                                               -0.458201\n",
       "ACOT13                                                            -0.396368\n",
       "ACOT8                                                             -0.220161\n",
       "ACSM5                                                              0.200671\n",
       "ADAMDEC1                                                           0.443884\n",
       "ADRA1D                                                             0.165225\n",
       "AGBL4                                                             -0.017411\n",
       "AKAP11                                                             0.076498\n",
       "ALDH8A1                                                           -0.190942\n",
       "ALKBH4                                                            -0.354049\n",
       "ANGPTL1                                                            0.369568\n",
       "ANKRD11                                                           -0.118416\n",
       "ANKRD28                                                            0.159843\n",
       "ARHGAP8                                                            0.572788\n",
       "ARHGEF3                                                            0.275746\n",
       "ARID2                                                             -0.498953\n",
       "ARPC1A                                                             0.082360\n",
       "ARRDC2                                                             0.289792\n",
       "ATP6AP2                                                           -0.216673\n",
       "ATP6V1E2                                                          -0.194362\n",
       "AUH                                                                0.213533\n",
       "PRRC2C                                                            -0.169840\n",
       "BCL7C                                                              0.538415\n",
       "BIRC8                                                             -0.183504\n",
       "BMP6                                                               0.315139\n",
       "BSN                                                                0.604308\n",
       "BTBD10                                                            -0.203142\n",
       "                                                                     ...   \n",
       "RPS24                                                              0.027636\n",
       "SAA1                                                              -0.017681\n",
       "SAMD9L                                                             0.335924\n",
       "SCRG1                                                             -0.304873\n",
       "SELPLG                                                             0.316190\n",
       "SEMA3G                                                            -0.190149\n",
       "SEPHS2                                                            -0.287477\n",
       "SERPINB10                                                          0.113072\n",
       "SFTPA1                                                             0.565610\n",
       "ARHGEF26                                                           0.128341\n",
       "SIGLEC6                                                           -0.516761\n",
       "SKA1                                                               0.819776\n",
       "SKINTL                                                             0.124963\n",
       "SLC17A7                                                            0.296258\n",
       "SLC22A18AS                                                        -0.042050\n",
       "SLC25A37                                                          -0.990158\n",
       "SLC30A2                                                           -0.706398\n",
       "SLC41A2                                                            0.043144\n",
       "SLC44A5                                                            0.427032\n",
       "Diagnosis Age                                                     -0.029888\n",
       "Sex                                                               -0.329760\n",
       "Patient's Vital Status                                             4.458149\n",
       "Disease Free (Months)                                             -0.252007\n",
       "Person Cigarette Smoking History Pack Year Value                   0.000556\n",
       "Fraction Genome Altered                                           -0.503659\n",
       "Overall Survival Status                                            4.456111\n",
       "Disease Free Status                                               -3.755679\n",
       "Person Neoplasm Status                                             0.614447\n",
       "Primary Tumor Site                                                -0.043989\n",
       "Neoplasm Disease Stage American Joint Committee on Cancer Code3    0.079836\n",
       "Length: 261, dtype: float64"
      ]
     },
     "execution_count": 31,
     "metadata": {},
     "output_type": "execute_result"
    }
   ],
   "source": [
    "pd.Series(estimator.coef_, index=dt.columns)"
   ]
  },
  {
   "cell_type": "code",
   "execution_count": 32,
   "metadata": {},
   "outputs": [
    {
     "data": {
      "text/plain": [
       "0.9581727987789116"
      ]
     },
     "execution_count": 32,
     "metadata": {},
     "output_type": "execute_result"
    }
   ],
   "source": [
    "from sksurv.metrics import concordance_index_censored\n",
    "\n",
    "prediction = estimator.predict(dt)\n",
    "result = concordance_index_censored(c['Patient\\'s Vital Status'], c['Survival '], prediction)\n",
    "result[0]"
   ]
  },
  {
   "cell_type": "code",
   "execution_count": 33,
   "metadata": {},
   "outputs": [
    {
     "data": {
      "text/plain": [
       "Text(0.5,0,'time $t$')"
      ]
     },
     "execution_count": 33,
     "metadata": {},
     "output_type": "execute_result"
    },
    {
     "data": {
      "image/png": "[encoded data removed]",
      "text/plain": [
       "<Figure size 432x288 with 1 Axes>"
      ]
     },
     "metadata": {},
     "output_type": "display_data"
    }
   ],
   "source": [
    "%matplotlib inline\n",
    "import matplotlib.pyplot as plt\n",
    "from sksurv.nonparametric import kaplan_meier_estimator\n",
    "\n",
    "time, survival_prob = kaplan_meier_estimator(c['Patient\\'s Vital Status'], c['Survival '])\n",
    "plt.step(time, survival_prob, where=\"post\")\n",
    "plt.ylabel(\"est. probability of survival $\\hat{S}(t)$\")\n",
    "plt.xlabel(\"time $t$\")"
   ]
  },
  {
   "cell_type": "code",
   "execution_count": 34,
   "metadata": {},
   "outputs": [
    {
     "name": "stdout",
     "output_type": "stream",
     "text": [
      "iter     12: optimization converged\n"
     ]
    },
    {
     "data": {
      "text/plain": [
       "CoxPHSurvivalAnalysis(alpha=1, n_iter=100, tol=1e-09, verbose=1)"
      ]
     },
     "execution_count": 34,
     "metadata": {},
     "output_type": "execute_result"
    }
   ],
   "source": [
    "from sksurv.linear_model import CoxPHSurvivalAnalysis\n",
    "estimator = CoxPHSurvivalAnalysis(alpha=1,verbose=1)\n",
    "estimator.fit(X_train, Y_train)"
   ]
  },
  {
   "cell_type": "code",
   "execution_count": 35,
   "metadata": {},
   "outputs": [
    {
     "data": {
      "text/plain": [
       "ABCD2                                                             -0.728545\n",
       "ABLIM1                                                             0.534244\n",
       "ABRA                                                               0.345319\n",
       "ACD                                                               -0.308508\n",
       "ACOT13                                                            -0.440736\n",
       "ACOT8                                                              0.429152\n",
       "ACSM5                                                              0.039532\n",
       "ADAMDEC1                                                           0.664527\n",
       "ADRA1D                                                             0.310180\n",
       "AGBL4                                                             -1.134468\n",
       "AKAP11                                                            -0.341716\n",
       "ALDH8A1                                                           -0.045784\n",
       "ALKBH4                                                            -0.305531\n",
       "ANGPTL1                                                            0.822589\n",
       "ANKRD11                                                           -0.064534\n",
       "ANKRD28                                                           -0.570856\n",
       "ARHGAP8                                                            0.224792\n",
       "ARHGEF3                                                           -0.026982\n",
       "ARID2                                                             -1.705172\n",
       "ARPC1A                                                            -0.081315\n",
       "ARRDC2                                                             0.659731\n",
       "ATP6AP2                                                           -0.370289\n",
       "ATP6V1E2                                                          -0.691165\n",
       "AUH                                                               -0.492204\n",
       "PRRC2C                                                             0.327635\n",
       "BCL7C                                                              0.954069\n",
       "BIRC8                                                              0.253106\n",
       "BMP6                                                               0.766306\n",
       "BSN                                                                1.314235\n",
       "BTBD10                                                            -0.466678\n",
       "                                                                     ...   \n",
       "RPS24                                                             -0.831762\n",
       "SAA1                                                              -0.126661\n",
       "SAMD9L                                                             0.506651\n",
       "SCRG1                                                              0.190520\n",
       "SELPLG                                                             0.717878\n",
       "SEMA3G                                                            -2.547614\n",
       "SEPHS2                                                            -0.525254\n",
       "SERPINB10                                                         -0.064564\n",
       "SFTPA1                                                             1.183515\n",
       "ARHGEF26                                                           0.291985\n",
       "SIGLEC6                                                           -0.726697\n",
       "SKA1                                                               0.186987\n",
       "SKINTL                                                            -0.375684\n",
       "SLC17A7                                                           -0.276414\n",
       "SLC22A18AS                                                         0.357538\n",
       "SLC25A37                                                          -0.547227\n",
       "SLC30A2                                                            0.220419\n",
       "SLC41A2                                                            0.065575\n",
       "SLC44A5                                                            0.483987\n",
       "Diagnosis Age                                                     -0.096412\n",
       "Sex                                                                0.040048\n",
       "Patient's Vital Status                                             4.156079\n",
       "Disease Free (Months)                                             -0.466171\n",
       "Person Cigarette Smoking History Pack Year Value                   0.006411\n",
       "Fraction Genome Altered                                           -0.087328\n",
       "Overall Survival Status                                            4.156078\n",
       "Disease Free Status                                               -5.016494\n",
       "Person Neoplasm Status                                            -1.049211\n",
       "Primary Tumor Site                                                -0.516574\n",
       "Neoplasm Disease Stage American Joint Committee on Cancer Code3   -0.063080\n",
       "Length: 261, dtype: float64"
      ]
     },
     "execution_count": 35,
     "metadata": {},
     "output_type": "execute_result"
    }
   ],
   "source": [
    "pd.Series(estimator.coef_, index=dt.columns)"
   ]
  },
  {
   "cell_type": "code",
   "execution_count": 38,
   "metadata": {},
   "outputs": [
    {
     "data": {
      "text/plain": [
       "0.9894266680125164"
      ]
     },
     "execution_count": 38,
     "metadata": {},
     "output_type": "execute_result"
    }
   ],
   "source": [
    "from sksurv.metrics import concordance_index_censored\n",
    "prediction = estimator.predict(X_train)\n",
    "result = concordance_index_censored(Y_train['Patient\\'s Vital Status'], Y_train['Survival '], prediction)\n",
    "result[0]"
   ]
  },
  {
   "cell_type": "code",
   "execution_count": 41,
   "metadata": {},
   "outputs": [
    {
     "name": "stdout",
     "output_type": "stream",
     "text": [
      "iter     15: optimization converged\n",
      "iter     14: optimization converged\n",
      "iter     18: optimization converged\n",
      "iter     18: optimization converged\n",
      "iter     15: optimization converged\n",
      "[0.73935264 0.81272596 0.78696439 0.75917278 0.8366305 ]\n"
     ]
    }
   ],
   "source": [
    "from sklearn.model_selection import cross_val_score\n",
    "print(cross_val_score(estimator,X_train,Y_train,cv=5))"
   ]
  },
  {
   "cell_type": "code",
   "execution_count": 42,
   "metadata": {},
   "outputs": [
    {
     "data": {
      "text/plain": [
       "0.8044928522804629"
      ]
     },
     "execution_count": 42,
     "metadata": {},
     "output_type": "execute_result"
    }
   ],
   "source": [
    "from sksurv.metrics import concordance_index_censored\n",
    "prediction = estimator.predict(X_test)\n",
    "result = concordance_index_censored(Y_test['Patient\\'s Vital Status'], Y_test['Survival '], prediction)\n",
    "result[0]"
   ]
  },
  {
   "cell_type": "code",
   "execution_count": 44,
   "metadata": {},
   "outputs": [],
   "source": [
    "dt1=pd.read_excel('selected genes LUAD 2k.xlsx')\n",
    "dt1=dt1.set_index(dt1.columns[0])"
   ]
  },
  {
   "cell_type": "code",
   "execution_count": 68,
   "metadata": {},
   "outputs": [
    {
     "name": "stdout",
     "output_type": "stream",
     "text": [
      "(361, 2864) (361,)\n",
      "(156, 2864) (156,)\n",
      "iter     19: optimization converged\n",
      "train score\n"
     ]
    },
    {
     "data": {
      "text/plain": [
       "1.0"
      ]
     },
     "execution_count": 68,
     "metadata": {},
     "output_type": "execute_result"
    }
   ],
   "source": [
    "from sklearn.model_selection import train_test_split\n",
    "X_train,X_test,Y_train,Y_test=train_test_split(dt1,result,test_size=0.3)\n",
    "print(X_train.shape,Y_train.shape)\n",
    "print(X_test.shape,Y_test.shape)\n",
    "from sksurv.linear_model import CoxPHSurvivalAnalysis\n",
    "estimator = CoxPHSurvivalAnalysis(alpha=1,verbose=1)\n",
    "estimator.fit(X_train, Y_train)\n",
    "from sksurv.metrics import concordance_index_censored\n",
    "print('train score')\n",
    "prediction = estimator.predict(X_train)\n",
    "result = concordance_index_censored(Y_train['Patient\\'s Vital Status'], Y_train['Survival '], prediction) \n",
    "result[0]"
   ]
  },
  {
   "cell_type": "code",
   "execution_count": null,
   "metadata": {},
   "outputs": [],
   "source": [
    "from sklearn.model_selection import cross_val_score\n",
    "print(cross_val_score(estimator,X_train,Y_train,cv=5))\n",
    "# 0.69330734,0.76082172,0.76878276,0.7234369,0.75122549; avg: 0.7395202"
   ]
  },
  {
   "cell_type": "code",
   "execution_count": 59,
   "metadata": {},
   "outputs": [
    {
     "name": "stdout",
     "output_type": "stream",
     "text": [
      "test\n",
      "iter     24: optimization converged\n"
     ]
    },
    {
     "data": {
      "text/plain": [
       "1.0"
      ]
     },
     "execution_count": 59,
     "metadata": {},
     "output_type": "execute_result"
    }
   ],
   "source": [
    "#0.69...\n",
    "print('test')\n",
    "from sksurv.linear_model import CoxPHSurvivalAnalysis\n",
    "estimator = CoxPHSurvivalAnalysis(alpha=1,verbose=1)\n",
    "estimator.fit(X_test, Y_test)\n",
    "from sksurv.metrics import concordance_index_censored\n",
    "prediction = estimator.predict(X_test)\n",
    "result = concordance_index_censored(Y_test['Patient\\'s Vital Status'], Y_test['Survival '], prediction)\n",
    "result[0]"
   ]
  },
  {
   "cell_type": "code",
   "execution_count": 72,
   "metadata": {},
   "outputs": [
    {
     "name": "stdout",
     "output_type": "stream",
     "text": [
      "test\n"
     ]
    },
    {
     "data": {
      "text/plain": [
       "0.7196040156162855"
      ]
     },
     "execution_count": 72,
     "metadata": {},
     "output_type": "execute_result"
    }
   ],
   "source": [
    "print('test')\n",
    "from sksurv.metrics import concordance_index_censored\n",
    "prediction = estimator.predict(X_test)\n",
    "result = concordance_index_censored(Y_test['Patient\\'s Vital Status'], Y_test['Survival '], prediction)\n",
    "result[0]"
   ]
  },
  {
   "cell_type": "code",
   "execution_count": 71,
   "metadata": {},
   "outputs": [
    {
     "data": {
      "text/plain": [
       "Patient's Vital Status     1.105462\n",
       "Overall Survival Status    1.105458\n",
       "C16ORF78                   1.028923\n",
       "ARHGAP36                   0.961768\n",
       "TRAPPC3L                   0.862291\n",
       "EQTN                       0.838786\n",
       "C11ORF94                   0.830570\n",
       "ANGPTL7                    0.806832\n",
       "AANAT                      0.744514\n",
       "C18ORF21                   0.742221\n",
       "C22ORF29                   0.724470\n",
       "ADAM20                     0.718324\n",
       "BHLHE40                    0.685913\n",
       "SCP2D1                     0.678354\n",
       "SDR16C6P                   0.665428\n",
       "AKAP4                      0.649085\n",
       "AK5                        0.646765\n",
       "ANKLE2                     0.640528\n",
       "AEN                        0.639621\n",
       "B3GNT8                     0.631153\n",
       "ARMCX3                     0.627802\n",
       "IBA57                      0.625322\n",
       "AGAP7P                     0.598453\n",
       "TAMM41                     0.584303\n",
       "C16ORF92                   0.578702\n",
       "C5ORF38                    0.569364\n",
       "C6ORF203                   0.563831\n",
       "ACBD3                      0.561266\n",
       "ARPP21                     0.554266\n",
       "SPATA32                    0.553892\n",
       "                             ...   \n",
       "ATRN                      -0.555240\n",
       "ANAPC4                    -0.563735\n",
       "C20ORF144                 -0.569611\n",
       "FAM228A                   -0.573256\n",
       "ABHD3                     -0.574550\n",
       "ANP32E                    -0.585753\n",
       "ARHGAP28                  -0.602606\n",
       "ANKMY2                    -0.605505\n",
       "SMIM15                    -0.610250\n",
       "ASPDH                     -0.621313\n",
       "AGGF1                     -0.625013\n",
       "EXOC3-AS1                 -0.628651\n",
       "APMAP                     -0.631142\n",
       "C8ORF31                   -0.637967\n",
       "LKAAEAR1                  -0.638384\n",
       "ABCA10                    -0.645209\n",
       "CBLN4                     -0.648347\n",
       "CACNA1I                   -0.654090\n",
       "BHLHE22                   -0.681110\n",
       "CLPSL2                    -0.695996\n",
       "ADHFE1                    -0.708519\n",
       "CALR3                     -0.804999\n",
       "BRMS1L                    -0.807950\n",
       "AHR                       -0.885258\n",
       "URI1                      -0.911727\n",
       "CBLN1                     -1.191546\n",
       "C4ORF45                   -1.210080\n",
       "ADAM29                    -1.329695\n",
       "Disease Free Status       -1.414817\n",
       "Disease Free (Months)     -1.622047\n",
       "Length: 2864, dtype: float64"
      ]
     },
     "execution_count": 71,
     "metadata": {},
     "output_type": "execute_result"
    }
   ],
   "source": [
    "from pandas import Series\n",
    "import numpy as np\n",
    "c=np.array(estimator.coef_)\n",
    "#predictors=X_train.columns\n",
    "pd.Series(estimator.coef_,index=X_train.columns).sort_values(ascending=False)"
   ]
  },
  {
   "cell_type": "code",
   "execution_count": null,
   "metadata": {},
   "outputs": [],
   "source": []
  }
 ],
 "metadata": {
  "kernelspec": {
   "display_name": "Python 3",
   "language": "python",
   "name": "python3"
  },
  "language_info": {
   "codemirror_mode": {
    "name": "ipython",
    "version": 3
   },
   "file_extension": ".py",
   "mimetype": "text/x-python",
   "name": "python",
   "nbconvert_exporter": "python",
   "pygments_lexer": "ipython3",
   "version": "3.6.5"
  }
 },
 "nbformat": 4,
 "nbformat_minor": 2
}
