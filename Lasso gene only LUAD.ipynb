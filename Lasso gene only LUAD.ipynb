{
 "cells": [
  {
   "cell_type": "code",
   "execution_count": 2,
   "metadata": {},
   "outputs": [],
   "source": [
    "import os\n",
    "import matplotlib.pyplot as plt\n",
    "import pandas as pd\n",
    "from sklearn.linear_model import Lasso\n"
   ]
  },
  {
   "cell_type": "code",
   "execution_count": null,
   "metadata": {},
   "outputs": [],
   "source": [
    "# lasso with cross validation is better than only lasso regression"
   ]
  },
  {
   "cell_type": "code",
   "execution_count": 3,
   "metadata": {},
   "outputs": [],
   "source": [
    "\n",
    "os.chdir('U:\\ProjectDataset')"
   ]
  },
  {
   "cell_type": "code",
   "execution_count": 4,
   "metadata": {},
   "outputs": [],
   "source": [
    "dt=pd.read_excel('selected genes LUAD.xlsx')"
   ]
  },
  {
   "cell_type": "code",
   "execution_count": 5,
   "metadata": {},
   "outputs": [],
   "source": [
    "dt=dt.set_index(dt.columns[0])"
   ]
  },
  {
   "cell_type": "code",
   "execution_count": 7,
   "metadata": {},
   "outputs": [],
   "source": [
    "tar=pd.read_excel('survival_LUAD.xlsx')\n",
    "Y=tar"
   ]
  },
  {
   "cell_type": "code",
   "execution_count": 8,
   "metadata": {},
   "outputs": [],
   "source": [
    "from sklearn.model_selection import train_test_split"
   ]
  },
  {
   "cell_type": "code",
   "execution_count": 19,
   "metadata": {},
   "outputs": [
    {
     "name": "stdout",
     "output_type": "stream",
     "text": [
      "(361, 250) (156, 250)\n",
      "(361, 1) (156, 1)\n"
     ]
    }
   ],
   "source": [
    "X_train,X_test,Y_train,Y_test=train_test_split(dt,Y,test_size=0.3,random_state=47)\n",
    "print(X_train.shape,X_test.shape)\n",
    "print(Y_train.shape,Y_test.shape)"
   ]
  },
  {
   "cell_type": "code",
   "execution_count": 27,
   "metadata": {},
   "outputs": [
    {
     "name": "stdout",
     "output_type": "stream",
     "text": [
      "train\n",
      "0.4145381378060205\n",
      "test\n",
      "-0.3219186813008019\n"
     ]
    }
   ],
   "source": [
    "\n",
    "lassoReg=Lasso(alpha=0.1,normalize=True)\n",
    "lassoReg.fit(X_train,Y_train)\n",
    "predictions=lassoReg.predict(X_train)\n",
    "print('train')\n",
    "print(lassoReg.score(X_train,Y_train))\n",
    "print('test')\n",
    "print(lassoReg.score(X_test,Y_test))"
   ]
  },
  {
   "cell_type": "code",
   "execution_count": 30,
   "metadata": {},
   "outputs": [
    {
     "name": "stdout",
     "output_type": "stream",
     "text": [
      "train\n",
      "0.19059549710233192\n",
      "test\n",
      "-0.034333473481479304\n"
     ]
    }
   ],
   "source": [
    "\n",
    "lassoReg=Lasso(alpha=0.3,normalize=True)\n",
    "lassoReg.fit(X_train,Y_train)\n",
    "predictions=lassoReg.predict(X_train)\n",
    "print('train')\n",
    "print(lassoReg.score(X_train,Y_train))\n",
    "print('test')\n",
    "print(lassoReg.score(X_test,Y_test))"
   ]
  },
  {
   "cell_type": "code",
   "execution_count": 31,
   "metadata": {},
   "outputs": [
    {
     "name": "stdout",
     "output_type": "stream",
     "text": [
      "train\n",
      "0.09584600346628425\n",
      "test\n",
      "-0.00907302774726193\n"
     ]
    }
   ],
   "source": [
    "\n",
    "lassoReg=Lasso(alpha=0.5,normalize=True)\n",
    "lassoReg.fit(X_train,Y_train)\n",
    "predictions=lassoReg.predict(X_train)\n",
    "print('train')\n",
    "print(lassoReg.score(X_train,Y_train))\n",
    "print('test')\n",
    "print(lassoReg.score(X_test,Y_test))"
   ]
  },
  {
   "cell_type": "code",
   "execution_count": 36,
   "metadata": {},
   "outputs": [
    {
     "name": "stdout",
     "output_type": "stream",
     "text": [
      "train\n",
      "0.0\n",
      "test\n",
      "-3.214759437586423e-05\n"
     ]
    }
   ],
   "source": [
    "\n",
    "lassoReg=Lasso(alpha=0.8,normalize=True)\n",
    "lassoReg.fit(X_train,Y_train)\n",
    "predictions=lassoReg.predict(X_train)\n",
    "print('train')\n",
    "print(lassoReg.score(X_train,Y_train))\n",
    "print('test')\n",
    "print(lassoReg.score(X_test,Y_test))"
   ]
  },
  {
   "cell_type": "code",
   "execution_count": 51,
   "metadata": {},
   "outputs": [],
   "source": [
    "import numpy as np\n",
    "tar=np.array(tar)\n",
    "tar=tar.flatten()"
   ]
  },
  {
   "cell_type": "code",
   "execution_count": 62,
   "metadata": {},
   "outputs": [
    {
     "name": "stdout",
     "output_type": "stream",
     "text": [
      "train\n",
      "0.32179554714326697\n",
      "test\n",
      "0.05886739707435751\n"
     ]
    }
   ],
   "source": [
    "from sklearn.linear_model import LassoCV\n",
    "lassoc=LassoCV(cv=10,random_state=20).fit(dt,tar)\n",
    "print('train')\n",
    "print(lassoc.score(X_train,Y_train))\n",
    "print('test')\n",
    "print(lassoc.score(X_test,Y_test))"
   ]
  },
  {
   "cell_type": "code",
   "execution_count": 64,
   "metadata": {},
   "outputs": [
    {
     "name": "stdout",
     "output_type": "stream",
     "text": [
      "train\n",
      "0.3617509735071338\n",
      "test\n",
      "0.10493125911047407\n"
     ]
    }
   ],
   "source": [
    "from sklearn.linear_model import LassoCV\n",
    "lassoc=LassoCV(cv=20,random_state=20).fit(dt,tar)\n",
    "print('train')\n",
    "print(lassoc.score(X_train,Y_train))\n",
    "print('test')\n",
    "print(lassoc.score(X_test,Y_test))"
   ]
  },
  {
   "cell_type": "code",
   "execution_count": 67,
   "metadata": {},
   "outputs": [
    {
     "name": "stdout",
     "output_type": "stream",
     "text": [
      "train\n",
      "0.37588715901807945\n",
      "test\n",
      "0.12125687714478572\n"
     ]
    }
   ],
   "source": [
    "from sklearn.linear_model import LassoCV\n",
    "lassoc=LassoCV(cv=40,random_state=42).fit(dt,tar)\n",
    "print('train')\n",
    "print(lassoc.score(X_train,Y_train))\n",
    "print('test')\n",
    "print(lassoc.score(X_test,Y_test))"
   ]
  },
  {
   "cell_type": "code",
   "execution_count": null,
   "metadata": {},
   "outputs": [],
   "source": []
  }
 ],
 "metadata": {
  "kernelspec": {
   "display_name": "Python 3",
   "language": "python",
   "name": "python3"
  },
  "language_info": {
   "codemirror_mode": {
    "name": "ipython",
    "version": 3
   },
   "file_extension": ".py",
   "mimetype": "text/x-python",
   "name": "python",
   "nbconvert_exporter": "python",
   "pygments_lexer": "ipython3",
   "version": "3.6.5"
  }
 },
 "nbformat": 4,
 "nbformat_minor": 2
}
