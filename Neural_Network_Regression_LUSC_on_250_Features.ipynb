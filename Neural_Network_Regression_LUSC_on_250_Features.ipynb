{
  "nbformat": 4,
  "nbformat_minor": 0,
  "metadata": {
    "colab": {
      "name": "Neural Network Regression LUSC on 250 Features.ipynb",
      "version": "0.3.2",
      "provenance": [],
      "collapsed_sections": [],
      "include_colab_link": true
    },
    "kernelspec": {
      "name": "python3",
      "display_name": "Python 3"
    }
  },
  "cells": [
    {
      "cell_type": "markdown",
      "metadata": {
        "id": "view-in-github",
        "colab_type": "text"
      },
      "source": [
        "<a href=\"https://colab.research.google.com/github/zayeem00/MLProject_TeessideUni/blob/master/Neural_Network_Regression_LUSC_on_250_Features.ipynb\" target=\"_parent\"><img src=\"https://colab.research.google.com/assets/colab-badge.svg\" alt=\"Open In Colab\"/></a>"
      ]
    },
    {
      "metadata": {
        "id": "mGX3ItvXTSC1",
        "colab_type": "code",
        "colab": {}
      },
      "cell_type": "code",
      "source": [
        "\n",
        "from keras.callbacks import ModelCheckpoint\n",
        "from keras.models import Sequential\n",
        "from keras.layers import Dense, Activation, Flatten\n",
        "from sklearn.model_selection import train_test_split\n",
        "from sklearn.ensemble import RandomForestRegressor\n",
        "from sklearn.metrics import mean_absolute_error \n",
        "from matplotlib import pyplot as plt\n",
        "import seaborn as sb\n",
        "import matplotlib.pyplot as plt\n",
        "import pandas as pd\n",
        "import numpy as np\n",
        "import warnings \n",
        "warnings.filterwarnings('ignore')\n",
        "warnings.filterwarnings('ignore', category=DeprecationWarning)\n",
        "from xgboost import XGBRegressor"
      ],
      "execution_count": 0,
      "outputs": []
    },
    {
      "metadata": {
        "id": "meG1MtgTV4_G",
        "colab_type": "code",
        "colab": {}
      },
      "cell_type": "code",
      "source": [
        "from google.colab import files\n",
        "files.upload()"
      ],
      "execution_count": 0,
      "outputs": []
    },
    {
      "metadata": {
        "id": "gglbrFTMV5OF",
        "colab_type": "code",
        "colab": {}
      },
      "cell_type": "code",
      "source": [
        "import pandas as pd\n",
        "tar=pd.read_excel('survival_LUSC.xlsx')\n",
        "dt=pd.read_excel('LUSC_250_NoDepth.xlsx',index_col=0)"
      ],
      "execution_count": 0,
      "outputs": []
    },
    {
      "metadata": {
        "id": "PdIPO8szV5R0",
        "colab_type": "code",
        "outputId": "014aebc9-04cf-4bfc-cf14-4eedf937a843",
        "colab": {
          "base_uri": "https://localhost:8080/",
          "height": 51
        }
      },
      "cell_type": "code",
      "source": [
        "from sklearn.model_selection import train_test_split\n",
        "X_train,X_test,Y_train,Y_test=train_test_split(dt,tar,test_size=0.3)\n",
        "print(X_train.shape,Y_train.shape)\n",
        "print(X_test.shape,Y_test.shape)"
      ],
      "execution_count": 11,
      "outputs": [
        {
          "output_type": "stream",
          "text": [
            "(350, 250) (350, 1)\n",
            "(151, 250) (151, 1)\n"
          ],
          "name": "stdout"
        }
      ]
    },
    {
      "metadata": {
        "id": "v9fYZ73CV5Wd",
        "colab_type": "code",
        "outputId": "eba39840-a821-4d0a-fa6e-75fb81b48613",
        "colab": {
          "base_uri": "https://localhost:8080/",
          "height": 374
        }
      },
      "cell_type": "code",
      "source": [
        "NN_model = Sequential()\n",
        "\n",
        "# The Input Layer :\n",
        "NN_model.add(Dense(128, kernel_initializer='normal',input_dim = X_train.shape[1], activation='relu'))\n",
        "\n",
        "# The Hidden Layers :\n",
        "NN_model.add(Dense(200, kernel_initializer='normal',activation='relu'))\n",
        "NN_model.add(Dense(200, kernel_initializer='normal',activation='relu'))\n",
        "NN_model.add(Dense(200, kernel_initializer='normal',activation='relu'))\n",
        "NN_model.add(Dense(200, kernel_initializer='normal',activation='relu'))\n",
        "NN_model.add(Dense(200, kernel_initializer='normal',activation='relu'))\n",
        "#NN_model.add(Dense(200, kernel_initializer='normal',activation='relu'))\n",
        "\n",
        "# The Output Layer :\n",
        "NN_model.add(Dense(1, kernel_initializer='normal',activation='linear'))\n",
        "\n",
        "# Compile the network :\n",
        "NN_model.compile(loss='mean_absolute_error', optimizer='adam', metrics=['mean_absolute_error'])\n",
        "NN_model.summary()"
      ],
      "execution_count": 164,
      "outputs": [
        {
          "output_type": "stream",
          "text": [
            "_________________________________________________________________\n",
            "Layer (type)                 Output Shape              Param #   \n",
            "=================================================================\n",
            "dense_189 (Dense)            (None, 128)               32128     \n",
            "_________________________________________________________________\n",
            "dense_190 (Dense)            (None, 200)               25800     \n",
            "_________________________________________________________________\n",
            "dense_191 (Dense)            (None, 200)               40200     \n",
            "_________________________________________________________________\n",
            "dense_192 (Dense)            (None, 200)               40200     \n",
            "_________________________________________________________________\n",
            "dense_193 (Dense)            (None, 200)               40200     \n",
            "_________________________________________________________________\n",
            "dense_194 (Dense)            (None, 200)               40200     \n",
            "_________________________________________________________________\n",
            "dense_195 (Dense)            (None, 1)                 201       \n",
            "=================================================================\n",
            "Total params: 218,929\n",
            "Trainable params: 218,929\n",
            "Non-trainable params: 0\n",
            "_________________________________________________________________\n"
          ],
          "name": "stdout"
        }
      ]
    },
    {
      "metadata": {
        "id": "iAqlR-fZV5ZV",
        "colab_type": "code",
        "colab": {}
      },
      "cell_type": "code",
      "source": [
        "checkpoint_name = 'Weights-{epoch:03d}--{val_loss:.5f}.hdf5' \n",
        "checkpoint = ModelCheckpoint(checkpoint_name, monitor='val_loss', verbose = 1, save_best_only = True, mode ='auto')\n",
        "callbacks_list = [checkpoint]"
      ],
      "execution_count": 0,
      "outputs": []
    },
    {
      "metadata": {
        "id": "Xby6goSfV5bt",
        "colab_type": "code",
        "colab": {}
      },
      "cell_type": "code",
      "source": [
        "NN_model.fit(X_train, Y_train, epochs=100, batch_size=32, validation_split = 0.3,callbacks=callbacks_list) "
      ],
      "execution_count": 0,
      "outputs": []
    },
    {
      "metadata": {
        "id": "qThnHL8aV5eN",
        "colab_type": "code",
        "outputId": "254ecd06-79f7-4c29-b7a6-1553409abcfc",
        "colab": {
          "base_uri": "https://localhost:8080/",
          "height": 51
        }
      },
      "cell_type": "code",
      "source": [
        "predictions = NN_model.predict(X_train)\n",
        "from sklearn.metrics import r2_score\n",
        "accuracy=r2_score(Y_train,predictions)\n",
        "print('train')\n",
        "print(accuracy)"
      ],
      "execution_count": 167,
      "outputs": [
        {
          "output_type": "stream",
          "text": [
            "train\n",
            "0.6369481845487073\n"
          ],
          "name": "stdout"
        }
      ]
    },
    {
      "metadata": {
        "id": "DaJ58U7bV5f-",
        "colab_type": "code",
        "colab": {}
      },
      "cell_type": "code",
      "source": [
        "NN_model.fit(X_test, Y_test, epochs=100, batch_size=32, validation_split = 0.3,callbacks=callbacks_list) "
      ],
      "execution_count": 0,
      "outputs": []
    },
    {
      "metadata": {
        "id": "SqJIRAD4V5ht",
        "colab_type": "code",
        "outputId": "74c80633-8da2-4c15-8958-7605563f899d",
        "colab": {
          "base_uri": "https://localhost:8080/",
          "height": 51
        }
      },
      "cell_type": "code",
      "source": [
        "predictions = NN_model.predict(X_test)\n",
        "from sklearn.metrics import r2_score\n",
        "accuracy=r2_score(Y_test,predictions)\n",
        "print('test')\n",
        "print(accuracy)"
      ],
      "execution_count": 171,
      "outputs": [
        {
          "output_type": "stream",
          "text": [
            "test\n",
            "0.7028378862440474\n"
          ],
          "name": "stdout"
        }
      ]
    },
    {
      "metadata": {
        "id": "wb9YxC3ceDi6",
        "colab_type": "code",
        "colab": {}
      },
      "cell_type": "code",
      "source": [
        "'''On adding more layers:\n",
        "with 3 layers:\n",
        "train: 0.7\n",
        "test: 0.57\n",
        "\n",
        "with  5 layers: \n",
        "  train=0.7\n",
        "  test=0.9\n",
        "  \n",
        "with 6 layers:\n",
        "  train= 0.61\n",
        "   test= 0.70\n",
        "   \n",
        "on adding more layers(after 5 layers and activation function for hidden layers is relu; output layer= linear, input layer=relu), the scores are decreasing.'''"
      ],
      "execution_count": 0,
      "outputs": []
    },
    {
      "metadata": {
        "id": "hotUMbCHeDnC",
        "colab_type": "code",
        "colab": {}
      },
      "cell_type": "code",
      "source": [
        "'''   on changing the activation function\n",
        "  worse with tanh\n",
        "  not good with sigmoid\n",
        "  best with relu\n",
        "\n",
        "\n",
        "'''"
      ],
      "execution_count": 0,
      "outputs": []
    },
    {
      "metadata": {
        "id": "qcSkPNzseDqJ",
        "colab_type": "code",
        "colab": {}
      },
      "cell_type": "code",
      "source": [
        "''' on changing the number of neurons:\n",
        "Tissue \n",
        "the test scores increase after increasing the neurons. But after one point, with 600 neurons, the scores are not that great. even after the layers increase, the scores are not improving.\n",
        "'''"
      ],
      "execution_count": 0,
      "outputs": []
    },
    {
      "metadata": {
        "id": "hbc1YMedVj1R",
        "colab_type": "code",
        "colab": {}
      },
      "cell_type": "code",
      "source": [
        "'''\n",
        "getting a better score for 300  neurons than 400 . best score with 200 neurons and 5 layers. the score decraese before and after 200 neurons.\n",
        "'''"
      ],
      "execution_count": 0,
      "outputs": []
    }
  ]
}