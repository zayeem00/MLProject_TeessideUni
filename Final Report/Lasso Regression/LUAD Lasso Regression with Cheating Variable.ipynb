{
 "cells": [
  {
   "cell_type": "code",
   "execution_count": 1,
   "metadata": {
    "colab": {},
    "colab_type": "code",
    "id": "s6JOThGHo2ow"
   },
   "outputs": [],
   "source": [
    "#importing packages\n",
    "from sklearn.model_selection import GridSearchCV\n",
    "import pandas as pd\n",
    "import os\n",
    "from sklearn.model_selection import train_test_split \n",
    "from sklearn.linear_model import Ridge\n",
    "from matplotlib import pyplot as plt\n",
    "from sklearn import metrics\n",
    "import seaborn as seabornInstance \n",
    "import numpy as np\n",
    "from sklearn.model_selection import cross_val_score\n",
    "from sklearn.model_selection import KFold\n",
    "from sklearn.linear_model import Lasso"
   ]
  },
  {
   "cell_type": "code",
   "execution_count": 2,
   "metadata": {
    "colab": {},
    "colab_type": "code",
    "id": "34lVmlAgo2oz"
   },
   "outputs": [],
   "source": [
    "#setting directory path\n",
    "\n",
    "os.chdir('U:\\\\final report\\\\with cheating variable')"
   ]
  },
  {
   "cell_type": "code",
   "execution_count": 40,
   "metadata": {
    "colab": {},
    "colab_type": "code",
    "id": "HbmLrlTDo2o2"
   },
   "outputs": [],
   "source": [
    "#importing dataset\n",
    "\n",
    "dt=pd.read_excel('LUAD-cheating.xlsx',index_col=0)"
   ]
  },
  {
   "cell_type": "code",
   "execution_count": 32,
   "metadata": {},
   "outputs": [
    {
     "data": {
      "text/html": [
       "<div>\n",
       "<style scoped>\n",
       "    .dataframe tbody tr th:only-of-type {\n",
       "        vertical-align: middle;\n",
       "    }\n",
       "\n",
       "    .dataframe tbody tr th {\n",
       "        vertical-align: top;\n",
       "    }\n",
       "\n",
       "    .dataframe thead th {\n",
       "        text-align: right;\n",
       "    }\n",
       "</style>\n",
       "<table border=\"1\" class=\"dataframe\">\n",
       "  <thead>\n",
       "    <tr style=\"text-align: right;\">\n",
       "      <th></th>\n",
       "      <th>UBE2Q2P2</th>\n",
       "      <th>SSX9</th>\n",
       "      <th>CXORF67</th>\n",
       "      <th>EFCAB8</th>\n",
       "      <th>SDR16C6P</th>\n",
       "      <th>EFCAB12</th>\n",
       "      <th>A1BG</th>\n",
       "      <th>A1CF</th>\n",
       "      <th>RBFOX1</th>\n",
       "      <th>GGACT</th>\n",
       "      <th>...</th>\n",
       "      <th>Number of Samples Per Patient</th>\n",
       "      <th>Specimen Second Longest Dimension</th>\n",
       "      <th>Tissue Source Site</th>\n",
       "      <th>Patient Smoking History Category</th>\n",
       "      <th>Vial number</th>\n",
       "      <th>Patient's Vital Status</th>\n",
       "      <th>Disease Free (Months)</th>\n",
       "      <th>Overall Survival Status</th>\n",
       "      <th>Disease Free Status</th>\n",
       "      <th>Survival</th>\n",
       "    </tr>\n",
       "    <tr>\n",
       "      <th>HUG0_SYMBOL</th>\n",
       "      <th></th>\n",
       "      <th></th>\n",
       "      <th></th>\n",
       "      <th></th>\n",
       "      <th></th>\n",
       "      <th></th>\n",
       "      <th></th>\n",
       "      <th></th>\n",
       "      <th></th>\n",
       "      <th></th>\n",
       "      <th></th>\n",
       "      <th></th>\n",
       "      <th></th>\n",
       "      <th></th>\n",
       "      <th></th>\n",
       "      <th></th>\n",
       "      <th></th>\n",
       "      <th></th>\n",
       "      <th></th>\n",
       "      <th></th>\n",
       "      <th></th>\n",
       "    </tr>\n",
       "  </thead>\n",
       "  <tbody>\n",
       "    <tr>\n",
       "      <th>TCGA-05-4244-01</th>\n",
       "      <td>-0.4238</td>\n",
       "      <td>-0.1379</td>\n",
       "      <td>-0.1805</td>\n",
       "      <td>0.4529</td>\n",
       "      <td>-0.3317</td>\n",
       "      <td>-0.1012</td>\n",
       "      <td>-0.6977</td>\n",
       "      <td>-0.1476</td>\n",
       "      <td>-0.2240</td>\n",
       "      <td>0.3832</td>\n",
       "      <td>...</td>\n",
       "      <td>1</td>\n",
       "      <td>0.9</td>\n",
       "      <td>5</td>\n",
       "      <td>4.0</td>\n",
       "      <td>0</td>\n",
       "      <td>1</td>\n",
       "      <td>0.00</td>\n",
       "      <td>1</td>\n",
       "      <td>0</td>\n",
       "      <td>0.00</td>\n",
       "    </tr>\n",
       "    <tr>\n",
       "      <th>TCGA-05-4249-01</th>\n",
       "      <td>-0.3291</td>\n",
       "      <td>-0.1379</td>\n",
       "      <td>-0.1805</td>\n",
       "      <td>-0.0869</td>\n",
       "      <td>-0.3317</td>\n",
       "      <td>-0.1661</td>\n",
       "      <td>-0.1483</td>\n",
       "      <td>-0.1371</td>\n",
       "      <td>-0.2260</td>\n",
       "      <td>-0.5346</td>\n",
       "      <td>...</td>\n",
       "      <td>1</td>\n",
       "      <td>0.8</td>\n",
       "      <td>5</td>\n",
       "      <td>3.0</td>\n",
       "      <td>0</td>\n",
       "      <td>1</td>\n",
       "      <td>50.03</td>\n",
       "      <td>1</td>\n",
       "      <td>0</td>\n",
       "      <td>50.03</td>\n",
       "    </tr>\n",
       "    <tr>\n",
       "      <th>TCGA-05-4250-01</th>\n",
       "      <td>-0.8531</td>\n",
       "      <td>-0.1379</td>\n",
       "      <td>-0.1805</td>\n",
       "      <td>-0.2629</td>\n",
       "      <td>-0.3317</td>\n",
       "      <td>-0.2317</td>\n",
       "      <td>-0.5528</td>\n",
       "      <td>-0.1476</td>\n",
       "      <td>-0.2508</td>\n",
       "      <td>0.6921</td>\n",
       "      <td>...</td>\n",
       "      <td>1</td>\n",
       "      <td>0.7</td>\n",
       "      <td>5</td>\n",
       "      <td>4.0</td>\n",
       "      <td>0</td>\n",
       "      <td>0</td>\n",
       "      <td>26.26</td>\n",
       "      <td>0</td>\n",
       "      <td>1</td>\n",
       "      <td>3.98</td>\n",
       "    </tr>\n",
       "  </tbody>\n",
       "</table>\n",
       "<p>3 rows × 14833 columns</p>\n",
       "</div>"
      ],
      "text/plain": [
       "                 UBE2Q2P2    SSX9  CXORF67  EFCAB8  SDR16C6P  EFCAB12    A1BG  \\\n",
       "HUG0_SYMBOL                                                                     \n",
       "TCGA-05-4244-01   -0.4238 -0.1379  -0.1805  0.4529   -0.3317  -0.1012 -0.6977   \n",
       "TCGA-05-4249-01   -0.3291 -0.1379  -0.1805 -0.0869   -0.3317  -0.1661 -0.1483   \n",
       "TCGA-05-4250-01   -0.8531 -0.1379  -0.1805 -0.2629   -0.3317  -0.2317 -0.5528   \n",
       "\n",
       "                   A1CF  RBFOX1   GGACT    ...      \\\n",
       "HUG0_SYMBOL                                ...       \n",
       "TCGA-05-4244-01 -0.1476 -0.2240  0.3832    ...       \n",
       "TCGA-05-4249-01 -0.1371 -0.2260 -0.5346    ...       \n",
       "TCGA-05-4250-01 -0.1476 -0.2508  0.6921    ...       \n",
       "\n",
       "                 Number of Samples Per Patient  \\\n",
       "HUG0_SYMBOL                                      \n",
       "TCGA-05-4244-01                              1   \n",
       "TCGA-05-4249-01                              1   \n",
       "TCGA-05-4250-01                              1   \n",
       "\n",
       "                 Specimen Second Longest Dimension  Tissue Source Site  \\\n",
       "HUG0_SYMBOL                                                              \n",
       "TCGA-05-4244-01                                0.9                   5   \n",
       "TCGA-05-4249-01                                0.8                   5   \n",
       "TCGA-05-4250-01                                0.7                   5   \n",
       "\n",
       "                 Patient Smoking History Category  Vial number  \\\n",
       "HUG0_SYMBOL                                                      \n",
       "TCGA-05-4244-01                               4.0            0   \n",
       "TCGA-05-4249-01                               3.0            0   \n",
       "TCGA-05-4250-01                               4.0            0   \n",
       "\n",
       "                 Patient's Vital Status  Disease Free (Months)  \\\n",
       "HUG0_SYMBOL                                                      \n",
       "TCGA-05-4244-01                       1                   0.00   \n",
       "TCGA-05-4249-01                       1                  50.03   \n",
       "TCGA-05-4250-01                       0                  26.26   \n",
       "\n",
       "                 Overall Survival Status  Disease Free Status  Survival   \n",
       "HUG0_SYMBOL                                                               \n",
       "TCGA-05-4244-01                        1                    0       0.00  \n",
       "TCGA-05-4249-01                        1                    0      50.03  \n",
       "TCGA-05-4250-01                        0                    1       3.98  \n",
       "\n",
       "[3 rows x 14833 columns]"
      ]
     },
     "execution_count": 32,
     "metadata": {},
     "output_type": "execute_result"
    }
   ],
   "source": [
    "dt.head(3)"
   ]
  },
  {
   "cell_type": "code",
   "execution_count": 4,
   "metadata": {
    "colab": {},
    "colab_type": "code",
    "id": "J9qZyRV0o2o4",
    "outputId": "dd7ee7a8-6b9a-4818-fd79-c1813630582e"
   },
   "outputs": [
    {
     "data": {
      "text/plain": [
       "(517, 14833)"
      ]
     },
     "execution_count": 4,
     "metadata": {},
     "output_type": "execute_result"
    }
   ],
   "source": [
    "dt.shape  #getting the dimensions of data"
   ]
  },
  {
   "cell_type": "code",
   "execution_count": 44,
   "metadata": {
    "colab": {},
    "colab_type": "code",
    "id": "B8t74sJ5o2o8"
   },
   "outputs": [],
   "source": [
    "#subsetting dataset to features and target values\n",
    "\n",
    "x=dt.iloc[:,0:14831].values\n",
    "y=dt.iloc[:,-1].values "
   ]
  },
  {
   "cell_type": "code",
   "execution_count": 6,
   "metadata": {
    "colab": {},
    "colab_type": "code",
    "id": "jzUfJ6slo2o_",
    "outputId": "c8a70769-28f7-42fd-bb57-f9321aa49c89"
   },
   "outputs": [
    {
     "name": "stderr",
     "output_type": "stream",
     "text": [
      "C:\\ProgramData\\Anaconda3\\lib\\site-packages\\matplotlib\\axes\\_axes.py:6462: UserWarning: The 'normed' kwarg is deprecated, and has been replaced by the 'density' kwarg.\n",
      "  warnings.warn(\"The 'normed' kwarg is deprecated, and has been \"\n"
     ]
    },
    {
     "data": {
      "text/plain": [
       "<matplotlib.axes._subplots.AxesSubplot at 0x23a07dc3e48>"
      ]
     },
     "execution_count": 6,
     "metadata": {},
     "output_type": "execute_result"
    },
    {
     "data": {
      "image/png": "[encoded data removed]",
      "text/plain": [
       "<Figure size 1080x720 with 1 Axes>"
      ]
     },
     "metadata": {},
     "output_type": "display_data"
    }
   ],
   "source": [
    "#plot distribution of data\n",
    "\n",
    "plt.figure(figsize=(15,10))\n",
    "plt.tight_layout()\n",
    "seabornInstance.distplot(y)"
   ]
  },
  {
   "cell_type": "code",
   "execution_count": 45,
   "metadata": {
    "colab": {},
    "colab_type": "code",
    "id": "CfkT9xsro2pC"
   },
   "outputs": [],
   "source": [
    "#split data to train, test, validation split (80/20)\n",
    "\n",
    "X_train, X_test, y_train, y_test = train_test_split(x, y, test_size=0.2, random_state=0)\n",
    "X_train, X_val, y_train, y_val = train_test_split(X_train, y_train, test_size=0.2, random_state=0)"
   ]
  },
  {
   "cell_type": "code",
   "execution_count": 46,
   "metadata": {
    "colab": {},
    "colab_type": "code",
    "id": "kC11AL7-o2pF",
    "outputId": "70b7255c-c159-402c-a393-fef23e944c1a"
   },
   "outputs": [
    {
     "data": {
      "text/plain": [
       "Lasso(alpha=10, copy_X=True, fit_intercept=True, max_iter=1000,\n",
       "   normalize=False, positive=False, precompute=False, random_state=None,\n",
       "   selection='cyclic', tol=0.0001, warm_start=False)"
      ]
     },
     "execution_count": 46,
     "metadata": {},
     "output_type": "execute_result"
    }
   ],
   "source": [
    "#applyign linear regression model\n",
    "lassoReg=Lasso(alpha=10,normalize=False)\n",
    "lassoReg.fit(X_train, y_train) #training the algorithm"
   ]
  },
  {
   "cell_type": "code",
   "execution_count": 47,
   "metadata": {
    "colab": {},
    "colab_type": "code",
    "id": "fZzZSIkNo2pI"
   },
   "outputs": [],
   "source": [
    "#predicting on validation split\n",
    "\n",
    "y_predval = lassoReg.predict(X_val)"
   ]
  },
  {
   "cell_type": "code",
   "execution_count": 37,
   "metadata": {
    "colab": {},
    "colab_type": "code",
    "id": "AYL8lYrMo2pK",
    "outputId": "87e8525a-e8a6-489c-fccd-9b74804233d3"
   },
   "outputs": [
    {
     "data": {
      "image/png": "[encoded data removed]",
      "text/plain": [
       "<Figure size 1440x720 with 1 Axes>"
      ]
     },
     "metadata": {},
     "output_type": "display_data"
    }
   ],
   "source": [
    "#True value ~ Predicted Value\n",
    "\n",
    "plt.figure(figsize=(20,10))\n",
    "plt.scatter(y_val, y_predval, color='blue', linewidth=2)\n",
    "plt.title('Predicted vs True Value')\n",
    "plt.xlabel('True Value')\n",
    "plt.ylabel('Predicted Value')\n",
    "plt.show()"
   ]
  },
  {
   "cell_type": "code",
   "execution_count": 48,
   "metadata": {
    "colab": {},
    "colab_type": "code",
    "id": "nShDMsUio2pO",
    "outputId": "826c0d2b-e4de-403d-c21d-cf0f61d81feb"
   },
   "outputs": [
    {
     "name": "stdout",
     "output_type": "stream",
     "text": [
      "6.780899408252082\n",
      "112.8091287618064\n",
      "10.621164190511623\n",
      "Variance score: 0.79\n"
     ]
    }
   ],
   "source": [
    "# Print result of MAE\n",
    "from sklearn import metrics\n",
    "print(metrics.mean_absolute_error(y_val, y_predval))\n",
    "\n",
    "# Print result of MSE\n",
    "print(metrics.mean_squared_error(y_val, y_predval))\n",
    "\n",
    "# Print result of RMSE\n",
    "print(np.sqrt(metrics.mean_squared_error(y_val, y_predval)))\n",
    "print('Variance score: %.2f' % lassoReg.score(X_val, y_val))"
   ]
  },
  {
   "cell_type": "code",
   "execution_count": 50,
   "metadata": {
    "colab": {},
    "colab_type": "code",
    "id": "TKmAerJso2pS",
    "outputId": "1bb7b29d-6982-4017-f4a5-a7741f6ec50a"
   },
   "outputs": [
    {
     "name": "stdout",
     "output_type": "stream",
     "text": [
      "[-3.00246136  0.50484611  0.86496063  0.75107666  0.96559104  0.72178095\n",
      "  0.81756292  0.71558014  0.65659524  0.2279059 ]\n",
      "0.3223438227116145 1.1251541116073092\n"
     ]
    }
   ],
   "source": [
    "# KFOlD\n",
    "estimator = lassoReg\n",
    "kfold = KFold(n_splits=10, random_state=0)\n",
    "results = cross_val_score(estimator, X_train, y_train, cv=kfold)\n",
    "print(results)\n",
    "print(results.mean(), results.std())\n"
   ]
  },
  {
   "cell_type": "code",
   "execution_count": 0,
   "metadata": {
    "colab": {},
    "colab_type": "code",
    "id": "v_LkU40fo2pW"
   },
   "outputs": [],
   "source": [
    "                     '''OPTIMISATION'''"
   ]
  },
  {
   "cell_type": "code",
   "execution_count": 0,
   "metadata": {
    "colab": {},
    "colab_type": "code",
    "id": "Q8pECv20o2pZ"
   },
   "outputs": [],
   "source": [
    "# Hyper parameter optimization\n",
    "\n",
    "tuned_parameters = {'alpha':[0.1,0.5,1.10,20,30,50,100],\n",
    "                     'fit_intercept':[True,False],\n",
    "                      ''\n",
    "                     'max_iter':[None,1,2,5,10],\n",
    "                     'random_state':[0,1,42],\n",
    "                    'tol':[0.001,0.1,0.5]}\n",
    "ridgeReg=Ridge()\n",
    "grid=GridSearchCV(lassoReg,tuned_parameters,scoring='r2',verbose=1)    \n",
    "grid.fit(X_train,y_train)\n",
    "print(grid.best_estimator_)"
   ]
  },
  {
   "cell_type": "code",
   "execution_count": 0,
   "metadata": {
    "colab": {},
    "colab_type": "code",
    "id": "LYROPS3Qo2py",
    "outputId": "2ec0604d-3f50-4fb6-e7af-f9f21e93dd5c"
   },
   "outputs": [
    {
     "name": "stdout",
     "output_type": "stream",
     "text": [
      "11.25712237785593\n",
      "237.98856481888106\n",
      "15.426877999740617\n",
      "Variance score: 0.74\n"
     ]
    }
   ],
   "source": [
    "#getting scores\n",
    "\n",
    "y_predval=lassoReg.predict(X_val)\n",
    "# Print result of MAE\n",
    "from sklearn import metrics\n",
    "print(metrics.mean_absolute_error(y_val, y_predval))\n",
    "\n",
    "# Print result of MSE\n",
    "print(metrics.mean_squared_error(y_val, y_predval))\n",
    "\n",
    "# Print result of RMSE\n",
    "print(np.sqrt(metrics.mean_squared_error(y_val, y_predval)))\n",
    "print('Variance score: %.2f' % lassoReg.score(X_val, y_val))"
   ]
  },
  {
   "cell_type": "code",
   "execution_count": 23,
   "metadata": {},
   "outputs": [
    {
     "name": "stdout",
     "output_type": "stream",
     "text": [
      "[0.85769668 0.9364512  0.52848814 0.93350555 0.53986121 0.94696476\n",
      " 0.95885523 0.90013181 0.87154999 0.85139827]\n",
      "0.8324902836251489 0.15337126511467025\n"
     ]
    }
   ],
   "source": [
    "# KFOlD\n",
    "estimator = lassoReg\n",
    "kfold = KFold(n_splits=10, random_state=0)\n",
    "results = cross_val_score(estimator, X_train, y_train, cv=kfold)\n",
    "print(results)\n",
    "print(results.mean(), results.std())\n"
   ]
  },
  {
   "cell_type": "code",
   "execution_count": 51,
   "metadata": {
    "colab": {},
    "colab_type": "code",
    "id": "m_xE1sfjo2p5",
    "outputId": "b61a41e7-2887-48da-8be5-243810556d71"
   },
   "outputs": [
    {
     "name": "stdout",
     "output_type": "stream",
     "text": [
      "9.740463489395452\n",
      "262.7182943179147\n",
      "16.208587054950677\n",
      "Variance score: 0.81\n"
     ]
    }
   ],
   "source": [
    "                                  '''APPYING MODEL ON TESTING DATA SET'''\n",
    "lassoReg.fit(X_train, y_train)\n",
    "\n",
    "# Predicting the Test set results\n",
    "y_pred = lassoReg.predict(X_test)\n",
    "\n",
    "# Print result of MAE\n",
    "from sklearn import metrics\n",
    "print(metrics.mean_absolute_error(y_test, y_pred))\n",
    "\n",
    "# Print result of MSE\n",
    "print(metrics.mean_squared_error(y_test, y_pred))\n",
    "\n",
    "# Print result of RMSE\n",
    "print(np.sqrt(metrics.mean_squared_error(y_test, y_pred)))\n",
    "\n",
    "# Explained variance score: 1 is perfect prediction (Accuracy Score)\n",
    "print('Variance score: %.2f' % lassoReg.score(X_test, y_test))\n"
   ]
  },
  {
   "cell_type": "code",
   "execution_count": 52,
   "metadata": {
    "colab": {},
    "colab_type": "code",
    "id": "b1T7-TKAo2p9",
    "outputId": "d5ade554-6356-4341-f4fd-a4210021ef34"
   },
   "outputs": [
    {
     "data": {
      "image/png": "[encoded data removed]",
      "text/plain": [
       "<Figure size 1440x720 with 1 Axes>"
      ]
     },
     "metadata": {},
     "output_type": "display_data"
    }
   ],
   "source": [
    "#True Value ~ Predicted Values\n",
    "\n",
    "plt.figure(figsize=(20,10))\n",
    "plt.scatter(y_test, y_pred, color='blue', linewidth=2)\n",
    "plt.title('Predicted vs True Value')\n",
    "plt.xlabel('True Value')\n",
    "plt.ylabel('Predicted Value')\n",
    "plt.show()"
   ]
  },
  {
   "cell_type": "code",
   "execution_count": 0,
   "metadata": {
    "colab": {},
    "colab_type": "code",
    "id": "uIumu42Jo2qC"
   },
   "outputs": [],
   "source": []
  }
 ],
 "metadata": {
  "colab": {
   "collapsed_sections": [],
   "name": "Copy of LUSC Ridge Regression with Cheating Variable.ipynb",
   "provenance": [
    {
     "file_id": "1S0ltFVANgbhw_ZkIqgxXFpHlXG3h97OY",
     "timestamp": 1556399533433
    }
   ],
   "version": "0.3.2"
  },
  "kernelspec": {
   "display_name": "Python 3",
   "language": "python",
   "name": "python3"
  },
  "language_info": {
   "codemirror_mode": {
    "name": "ipython",
    "version": 3
   },
   "file_extension": ".py",
   "mimetype": "text/x-python",
   "name": "python",
   "nbconvert_exporter": "python",
   "pygments_lexer": "ipython3",
   "version": "3.6.5"
  }
 },
 "nbformat": 4,
 "nbformat_minor": 1
}
