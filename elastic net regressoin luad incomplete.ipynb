{
 "cells": [
  {
   "cell_type": "code",
   "execution_count": 14,
   "metadata": {},
   "outputs": [],
   "source": [
    "#elastic net regression has a better score than lasso \n",
    "import pandas as pd\n",
    "import os\n",
    "import matplotlib.pyplot as plt\n",
    "from sklearn import linear_model\n",
    "from sklearn.linear_model import ElasticNetCV"
   ]
  },
  {
   "cell_type": "code",
   "execution_count": 2,
   "metadata": {},
   "outputs": [],
   "source": [
    "os.chdir('U:\\\\ProjectDataset')"
   ]
  },
  {
   "cell_type": "code",
   "execution_count": 3,
   "metadata": {},
   "outputs": [],
   "source": [
    "dt=pd.read_excel('selected clinical LUAD.xlsx')"
   ]
  },
  {
   "cell_type": "code",
   "execution_count": 4,
   "metadata": {},
   "outputs": [],
   "source": [
    "dt=dt.set_index(dt.columns[0])"
   ]
  },
  {
   "cell_type": "code",
   "execution_count": 5,
   "metadata": {},
   "outputs": [],
   "source": [
    "tar=pd.read_excel('survival_LUAD.xlsx')"
   ]
  },
  {
   "cell_type": "code",
   "execution_count": 9,
   "metadata": {},
   "outputs": [],
   "source": [
    "from sklearn.model_selection import train_test_split\n",
    "from sklearn.metrics import mean_squared_error"
   ]
  },
  {
   "cell_type": "code",
   "execution_count": 7,
   "metadata": {},
   "outputs": [
    {
     "name": "stdout",
     "output_type": "stream",
     "text": [
      "(361, 11) (361, 1)\n",
      "(156, 11) (156, 1)\n"
     ]
    }
   ],
   "source": [
    "Y=tar\n",
    "X_train,X_test,Y_train,Y_test=train_test_split(dt,Y,test_size=0.3)\n",
    "print(X_train.shape,Y_train.shape)\n",
    "print(X_test.shape,Y_test.shape)"
   ]
  },
  {
   "cell_type": "code",
   "execution_count": 18,
   "metadata": {},
   "outputs": [
    {
     "name": "stdout",
     "output_type": "stream",
     "text": [
      "!!!!!!!!!!!! 0.1 !!!!!!!!!!!!!!!!!!!\n",
      "test\n",
      "0.764719717361889\n",
      "train\n",
      "0.8535427540902712\n",
      "MSE\n",
      "173.44029241079463\n",
      "!!!!!!!!!!!! 0.5 !!!!!!!!!!!!!!!!!!!\n",
      "test\n",
      "0.7453795699433208\n",
      "train\n",
      "0.8379865362574389\n",
      "MSE\n",
      "187.69716419764018\n",
      "!!!!!!!!!!!! 0.01 !!!!!!!!!!!!!!!!!!!\n",
      "test\n",
      "0.7683471628575695\n",
      "train\n",
      "0.8570955452590883\n",
      "MSE\n",
      "170.76626804963396\n",
      "!!!!!!!!!!!! 0.05 !!!!!!!!!!!!!!!!!!!\n",
      "test\n",
      "0.7670879795898989\n",
      "train\n",
      "0.8558273228763099\n",
      "MSE\n",
      "171.69449336326772\n",
      "!!!!!!!!!!!! 1 !!!!!!!!!!!!!!!!!!!\n",
      "test\n",
      "0.7362375049295962\n",
      "train\n",
      "0.8296887840290529\n",
      "MSE\n",
      "194.4363707789997\n",
      "with CV\n",
      "test\n",
      "0.7481727418624637\n",
      "train\n",
      "0.840105918966001\n",
      "MSE\n",
      "185.6381367730815\n"
     ]
    },
    {
     "name": "stderr",
     "output_type": "stream",
     "text": [
      "C:\\ProgramData\\Anaconda3\\lib\\site-packages\\sklearn\\linear_model\\coordinate_descent.py:1094: DataConversionWarning: A column-vector y was passed when a 1d array was expected. Please change the shape of y to (n_samples, ), for example using ravel().\n",
      "  y = column_or_1d(y, warn=True)\n",
      "..............................[Parallel(n_jobs=1)]: Done   3 out of   3 | elapsed:    0.0s finished\n"
     ]
    }
   ],
   "source": [
    "from sklearn.linear_model import ElasticNet\n",
    "print('!!!!!!!!!!!! 0.1 !!!!!!!!!!!!!!!!!!!')\n",
    "ENreg = ElasticNet(alpha=0.1, l1_ratio=0.5, normalize=False)\n",
    "ENreg.fit(X_train,Y_train)\n",
    "pred_cv = ENreg.predict(X_test)\n",
    "print('test')\n",
    "print(ENreg.score(X_test,Y_test))\n",
    "print('train')\n",
    "print(ENreg.score(X_train,Y_train))\n",
    "print('MSE')\n",
    "print(mean_squared_error(Y_test,pred_cv))\n",
    "print('!!!!!!!!!!!! 0.5 !!!!!!!!!!!!!!!!!!!')\n",
    "ENreg = ElasticNet(alpha=0.5, l1_ratio=0.5, normalize=False)\n",
    "ENreg.fit(X_train,Y_train)\n",
    "pred_cv = ENreg.predict(X_test)\n",
    "print('test')\n",
    "print(ENreg.score(X_test,Y_test))\n",
    "print('train')\n",
    "print(ENreg.score(X_train,Y_train))\n",
    "print('MSE')\n",
    "print(mean_squared_error(Y_test,pred_cv))\n",
    "print('!!!!!!!!!!!! 0.01 !!!!!!!!!!!!!!!!!!!')\n",
    "ENreg = ElasticNet(alpha=0.01, l1_ratio=0.5, normalize=False)\n",
    "ENreg.fit(X_train,Y_train)\n",
    "pred_cv = ENreg.predict(X_test)\n",
    "print('test')\n",
    "print(ENreg.score(X_test,Y_test))\n",
    "print('train')\n",
    "print(ENreg.score(X_train,Y_train))\n",
    "print('MSE')\n",
    "print(mean_squared_error(Y_test,pred_cv))\n",
    "print('!!!!!!!!!!!! 0.05 !!!!!!!!!!!!!!!!!!!')\n",
    "ENreg = ElasticNet(alpha=0.05, l1_ratio=0.5, normalize=False)\n",
    "ENreg.fit(X_train,Y_train)\n",
    "pred_cv = ENreg.predict(X_test)\n",
    "print('test')\n",
    "print(ENreg.score(X_test,Y_test))\n",
    "print('train')\n",
    "print(ENreg.score(X_train,Y_train))\n",
    "print('MSE')\n",
    "print(mean_squared_error(Y_test,pred_cv))\n",
    "print('!!!!!!!!!!!! 1 !!!!!!!!!!!!!!!!!!!')\n",
    "ENreg = ElasticNet(alpha=1, l1_ratio=0.5, normalize=False)\n",
    "ENreg.fit(X_train,Y_train)\n",
    "pred_cv = ENreg.predict(X_test)\n",
    "print('test')\n",
    "print(ENreg.score(X_test,Y_test))\n",
    "print('train')\n",
    "print(ENreg.score(X_train,Y_train))\n",
    "print('MSE')\n",
    "print(mean_squared_error(Y_test,pred_cv))\n",
    "print('with CV')\n",
    "ENreg = ElasticNetCV(l1_ratio=0.9,n_alphas=10,verbose=1, normalize=False)\n",
    "ENreg.fit(X_train,Y_train)\n",
    "pred_cv = ENreg.predict(X_test)\n",
    "print('test')\n",
    "print(ENreg.score(X_test,Y_test))\n",
    "print('train')\n",
    "print(ENreg.score(X_train,Y_train))\n",
    "print('MSE')\n",
    "print(mean_squared_error(Y_test,pred_cv))"
   ]
  },
  {
   "cell_type": "code",
   "execution_count": null,
   "metadata": {},
   "outputs": [],
   "source": [
    "'''!!!!!!!!!!!!!!!  250 genes only !!!!!!!!!!!!!!!!!!!'''"
   ]
  },
  {
   "cell_type": "code",
   "execution_count": 19,
   "metadata": {},
   "outputs": [],
   "source": [
    "dt1=pd.read_excel('gene + clinical LUAD.xlsx')"
   ]
  },
  {
   "cell_type": "code",
   "execution_count": 20,
   "metadata": {},
   "outputs": [],
   "source": [
    "dt1=dt1.set_index(dt1.columns[0])"
   ]
  },
  {
   "cell_type": "code",
   "execution_count": 21,
   "metadata": {},
   "outputs": [
    {
     "name": "stdout",
     "output_type": "stream",
     "text": [
      "(361, 261) (361, 1)\n",
      "(156, 261) (156, 1)\n",
      "!!!!!!!!!!!! 0.1 !!!!!!!!!!!!!!!!!!!\n",
      "test\n",
      "0.6007452883199687\n",
      "train\n",
      "0.9560853076904045\n",
      "MSE\n",
      "260.17983422741406\n",
      "!!!!!!!!!!!! 0.5 !!!!!!!!!!!!!!!!!!!\n",
      "test\n",
      "0.6763858876925808\n",
      "train\n",
      "0.9164180414552395\n",
      "MSE\n",
      "210.88759538866384\n",
      "!!!!!!!!!!!! 0.01 !!!!!!!!!!!!!!!!!!!\n",
      "test\n",
      "0.09398066874945354\n",
      "train\n",
      "0.9696505802201558\n",
      "MSE\n",
      "590.4199813188819\n",
      "!!!!!!!!!!!! 0.05 !!!!!!!!!!!!!!!!!!!\n",
      "test\n",
      "0.5198252506540837\n",
      "train\n",
      "0.9630130611841297\n",
      "MSE\n",
      "312.9124917757583\n",
      "!!!!!!!!!!!! 1 !!!!!!!!!!!!!!!!!!!\n",
      "test\n",
      "0.6725563198137684\n",
      "train\n",
      "0.8895693061475747\n",
      "MSE\n",
      "213.38318606479965\n",
      "with CV\n",
      "test\n",
      "0.6849377267074376\n",
      "train\n",
      "0.8911788625814723\n",
      "MSE\n",
      "205.31467165819038\n"
     ]
    },
    {
     "name": "stderr",
     "output_type": "stream",
     "text": [
      "C:\\ProgramData\\Anaconda3\\lib\\site-packages\\sklearn\\linear_model\\coordinate_descent.py:1094: DataConversionWarning: A column-vector y was passed when a 1d array was expected. Please change the shape of y to (n_samples, ), for example using ravel().\n",
      "  y = column_or_1d(y, warn=True)\n",
      "..............................[Parallel(n_jobs=1)]: Done   3 out of   3 | elapsed:    0.0s finished\n"
     ]
    }
   ],
   "source": [
    "X_train,X_test,Y_train,Y_test=train_test_split(dt1,Y,test_size=0.3)\n",
    "print(X_train.shape,Y_train.shape)\n",
    "print(X_test.shape,Y_test.shape)\n",
    "print('!!!!!!!!!!!! 0.1 !!!!!!!!!!!!!!!!!!!')\n",
    "ENreg = ElasticNet(alpha=0.1, l1_ratio=0.5, normalize=False)\n",
    "ENreg.fit(X_train,Y_train)\n",
    "pred_cv = ENreg.predict(X_test)\n",
    "print('test')\n",
    "print(ENreg.score(X_test,Y_test))\n",
    "print('train')\n",
    "print(ENreg.score(X_train,Y_train))\n",
    "print('MSE')\n",
    "print(mean_squared_error(Y_test,pred_cv))\n",
    "print('!!!!!!!!!!!! 0.5 !!!!!!!!!!!!!!!!!!!')\n",
    "ENreg = ElasticNet(alpha=0.5, l1_ratio=0.5, normalize=False)\n",
    "ENreg.fit(X_train,Y_train)\n",
    "pred_cv = ENreg.predict(X_test)\n",
    "print('test')\n",
    "print(ENreg.score(X_test,Y_test))\n",
    "print('train')\n",
    "print(ENreg.score(X_train,Y_train))\n",
    "print('MSE')\n",
    "print(mean_squared_error(Y_test,pred_cv))\n",
    "print('!!!!!!!!!!!! 0.01 !!!!!!!!!!!!!!!!!!!')\n",
    "ENreg = ElasticNet(alpha=0.01, l1_ratio=0.5, normalize=False)\n",
    "ENreg.fit(X_train,Y_train)\n",
    "pred_cv = ENreg.predict(X_test)\n",
    "print('test')\n",
    "print(ENreg.score(X_test,Y_test))\n",
    "print('train')\n",
    "print(ENreg.score(X_train,Y_train))\n",
    "print('MSE')\n",
    "print(mean_squared_error(Y_test,pred_cv))\n",
    "print('!!!!!!!!!!!! 0.05 !!!!!!!!!!!!!!!!!!!')\n",
    "ENreg = ElasticNet(alpha=0.05, l1_ratio=0.5, normalize=False)\n",
    "ENreg.fit(X_train,Y_train)\n",
    "pred_cv = ENreg.predict(X_test)\n",
    "print('test')\n",
    "print(ENreg.score(X_test,Y_test))\n",
    "print('train')\n",
    "print(ENreg.score(X_train,Y_train))\n",
    "print('MSE')\n",
    "print(mean_squared_error(Y_test,pred_cv))\n",
    "print('!!!!!!!!!!!! 1 !!!!!!!!!!!!!!!!!!!')\n",
    "ENreg = ElasticNet(alpha=1, l1_ratio=0.5, normalize=False)\n",
    "ENreg.fit(X_train,Y_train)\n",
    "pred_cv = ENreg.predict(X_test)\n",
    "print('test')\n",
    "print(ENreg.score(X_test,Y_test))\n",
    "print('train')\n",
    "print(ENreg.score(X_train,Y_train))\n",
    "print('MSE')\n",
    "print(mean_squared_error(Y_test,pred_cv))\n",
    "print('with CV')\n",
    "ENreg = ElasticNetCV(l1_ratio=0.9,n_alphas=10,verbose=1, normalize=False)\n",
    "ENreg.fit(X_train,Y_train)\n",
    "pred_cv = ENreg.predict(X_test)\n",
    "print('test')\n",
    "print(ENreg.score(X_test,Y_test))\n",
    "print('train')\n",
    "print(ENreg.score(X_train,Y_train))\n",
    "print('MSE')\n",
    "print(mean_squared_error(Y_test,pred_cv))"
   ]
  },
  {
   "cell_type": "code",
   "execution_count": null,
   "metadata": {},
   "outputs": [],
   "source": []
  },
  {
   "cell_type": "code",
   "execution_count": null,
   "metadata": {},
   "outputs": [],
   "source": []
  },
  {
   "cell_type": "code",
   "execution_count": null,
   "metadata": {},
   "outputs": [],
   "source": []
  }
 ],
 "metadata": {
  "kernelspec": {
   "display_name": "Python 3",
   "language": "python",
   "name": "python3"
  },
  "language_info": {
   "codemirror_mode": {
    "name": "ipython",
    "version": 3
   },
   "file_extension": ".py",
   "mimetype": "text/x-python",
   "name": "python",
   "nbconvert_exporter": "python",
   "pygments_lexer": "ipython3",
   "version": "3.6.5"
  }
 },
 "nbformat": 4,
 "nbformat_minor": 2
}
