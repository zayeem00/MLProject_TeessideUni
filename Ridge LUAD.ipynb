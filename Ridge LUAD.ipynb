{
 "cells": [
  {
   "cell_type": "code",
   "execution_count": 11,
   "metadata": {},
   "outputs": [],
   "source": [
    "import os\n",
    "import matplotlib.pyplot as plt\n",
    "import pandas as pd\n",
    "from sklearn.linear_model import Ridge\n",
    "from sklearn.linear_model import RidgeCV\n",
    "import numpy as np\n",
    "# not giving cv value because cv=None will take an optimal value "
   ]
  },
  {
   "cell_type": "code",
   "execution_count": 3,
   "metadata": {},
   "outputs": [],
   "source": [
    "\n",
    "os.chdir('U:\\ProjectDataset')"
   ]
  },
  {
   "cell_type": "code",
   "execution_count": 4,
   "metadata": {},
   "outputs": [],
   "source": [
    "dt=pd.read_excel('selected clinical LUAD.xlsx')"
   ]
  },
  {
   "cell_type": "code",
   "execution_count": 5,
   "metadata": {},
   "outputs": [],
   "source": [
    "dt=dt.set_index(dt.columns[0])"
   ]
  },
  {
   "cell_type": "code",
   "execution_count": 6,
   "metadata": {},
   "outputs": [],
   "source": [
    "tar=pd.read_excel('survival_LUAD.xlsx')\n",
    "Y=tar"
   ]
  },
  {
   "cell_type": "code",
   "execution_count": 7,
   "metadata": {},
   "outputs": [],
   "source": [
    "from sklearn.model_selection import train_test_split"
   ]
  },
  {
   "cell_type": "code",
   "execution_count": 8,
   "metadata": {},
   "outputs": [
    {
     "name": "stdout",
     "output_type": "stream",
     "text": [
      "(361, 11) (156, 11)\n",
      "(361, 1) (156, 1)\n"
     ]
    }
   ],
   "source": [
    "X_train,X_test,Y_train,Y_test=train_test_split(dt,Y,test_size=0.3,random_state=42)\n",
    "print(X_train.shape,X_test.shape)\n",
    "print(Y_train.shape,Y_test.shape)"
   ]
  },
  {
   "cell_type": "code",
   "execution_count": 16,
   "metadata": {},
   "outputs": [
    {
     "name": "stdout",
     "output_type": "stream",
     "text": [
      "(361, 11) (156, 11)\n",
      "(361, 1) (156, 1)\n",
      " without CV\n",
      "------------------0.1-----------------\n",
      "test\n",
      "0.7470473795628858\n",
      "train\n",
      "0.713455013177533\n",
      "------------------0.5-------------------\n",
      "test\n",
      "0.8540709340205515\n",
      "train\n",
      "0.8030105343302274\n",
      "-------------------0.01------------------\n",
      "test\n",
      "0.8679746974995461\n",
      "train\n",
      "0.8107474551327334\n",
      "-----------------0.05-------------------\n",
      "test\n",
      "0.8629849475124822\n",
      "train\n",
      "0.8086456023140207\n",
      "With CV\n",
      "------------------cv=5-------------------\n",
      "train\n",
      "0.8095737731753219\n",
      "test\n",
      "0.8662614985891061\n"
     ]
    },
    {
     "data": {
      "text/plain": [
       "'print(\"-----------------cv=10---------------------\")\\nY_train=np.array(Y_train)\\nY_train=Y_train.ravel()\\nridgec=RidgeCV().fit(X_train,Y_train)\\nprint(\\'train\\')\\nprint(lassoc.score(X_train,Y_train))\\nprint(\\'test\\')\\nprint(lassoc.score(X_test,Y_test))\\nprint(\"-----------------cv=20------------------------\")\\nY_train=np.array(Y_train)\\nY_train=Y_train.ravel()\\nridgec=RidgeCV().fit(X_train,Y_train)\\nprint(\\'train\\')\\nprint(lassoc.score(X_train,Y_train))\\nprint(\\'test\\')\\nprint(lassoc.score(X_test,Y_test))'"
      ]
     },
     "execution_count": 16,
     "metadata": {},
     "output_type": "execute_result"
    }
   ],
   "source": [
    "X_train,X_test,Y_train,Y_test=train_test_split(dt,Y,test_size=0.3,random_state=42)\n",
    "print(X_train.shape,X_test.shape)\n",
    "print(Y_train.shape,Y_test.shape)\n",
    "print(\" without CV\")\n",
    "print(\"------------------0.1-----------------\")\n",
    "from sklearn.linear_model import Ridge\n",
    "ridgeReg=Ridge(alpha=0.5,normalize=True)\n",
    "ridgeReg.fit(X_train,Y_train)\n",
    "predictions=ridgeReg.predict(X_test)\n",
    "print('test')\n",
    "print(ridgeReg.score(X_test,Y_test))\n",
    "print('train')\n",
    "print(ridgeReg.score(X_train,Y_train))\n",
    "print(\"------------------0.5-------------------\")\n",
    "from sklearn.linear_model import Ridge\n",
    "ridgeReg=Ridge(alpha=0.1,normalize=True)\n",
    "ridgeReg.fit(X_train,Y_train)\n",
    "predictions=ridgeReg.predict(X_test)\n",
    "print('test')\n",
    "print(ridgeReg.score(X_test,Y_test))\n",
    "print('train')\n",
    "print(ridgeReg.score(X_train,Y_train))\n",
    "print(\"-------------------0.01------------------\")\n",
    "from sklearn.linear_model import Ridge\n",
    "ridgeReg=Ridge(alpha=0.01,normalize=True)\n",
    "ridgeReg.fit(X_train,Y_train)\n",
    "predictions=ridgeReg.predict(X_test)\n",
    "print('test')\n",
    "print(ridgeReg.score(X_test,Y_test))\n",
    "print('train')\n",
    "print(ridgeReg.score(X_train,Y_train))\n",
    "print('-----------------0.05-------------------')\n",
    "ridgeReg=Ridge(alpha=0.05,normalize=True)\n",
    "ridgeReg.fit(X_train,Y_train)\n",
    "predictions=ridgeReg.predict(X_test)\n",
    "print('test')\n",
    "print(ridgeReg.score(X_test,Y_test))\n",
    "print('train')\n",
    "print(ridgeReg.score(X_train,Y_train))\n",
    "print(\"With CV\")\n",
    "print(\"------------------cv=5-------------------\")\n",
    "Y_train=np.array(Y_train)\n",
    "Y_train=Y_train.ravel()\n",
    "ridgec=RidgeCV(cv=100).fit(X_train,Y_train)\n",
    "print('train')\n",
    "print(ridgec.score(X_train,Y_train))\n",
    "print('test')\n",
    "print(ridgec.score(X_test,Y_test))\n",
    "'''print(\"-----------------cv=10---------------------\")\n",
    "Y_train=np.array(Y_train)\n",
    "Y_train=Y_train.ravel()\n",
    "ridgec=RidgeCV().fit(X_train,Y_train)\n",
    "print('train')\n",
    "print(lassoc.score(X_train,Y_train))\n",
    "print('test')\n",
    "print(lassoc.score(X_test,Y_test))\n",
    "print(\"-----------------cv=20------------------------\")\n",
    "Y_train=np.array(Y_train)\n",
    "Y_train=Y_train.ravel()\n",
    "ridgec=RidgeCV().fit(X_train,Y_train)\n",
    "print('train')\n",
    "print(lassoc.score(X_train,Y_train))\n",
    "print('test')\n",
    "print(lassoc.score(X_test,Y_test))'''"
   ]
  },
  {
   "cell_type": "code",
   "execution_count": null,
   "metadata": {},
   "outputs": [],
   "source": [
    "'''!!!!!!!!!!!!!!!1  250 genes only !!!!!!!!!!!!!!!!!!!'''"
   ]
  },
  {
   "cell_type": "code",
   "execution_count": 23,
   "metadata": {},
   "outputs": [],
   "source": [
    "dt1=pd.read_excel('gene + clinical LUAD.xlsx')"
   ]
  },
  {
   "cell_type": "code",
   "execution_count": 24,
   "metadata": {},
   "outputs": [],
   "source": [
    "dt1=dt1.set_index(dt1.columns[0])"
   ]
  },
  {
   "cell_type": "code",
   "execution_count": 25,
   "metadata": {},
   "outputs": [],
   "source": [
    "import numpy as np\n",
    "from pandas import Series\n"
   ]
  },
  {
   "cell_type": "code",
   "execution_count": 26,
   "metadata": {},
   "outputs": [
    {
     "name": "stdout",
     "output_type": "stream",
     "text": [
      "(361, 250) (156, 250)\n",
      "(361, 1) (156, 1)\n",
      " without CV\n",
      "------------------0.1-----------------\n",
      "test\n",
      "-0.16885195448966073\n",
      "train\n",
      "0.6577306722786689\n",
      "------------------0.5-------------------\n",
      "test\n",
      "-0.8303587342159765\n",
      "train\n",
      "0.7838239943032431\n",
      "-------------------0.01------------------\n",
      "test\n",
      "-2.430028967467373\n",
      "train\n",
      "0.8437224543865046\n",
      "-----------------0.05-------------------\n",
      "test\n",
      "-1.3344469224817237\n",
      "train\n",
      "0.8127563482794213\n",
      "With CV\n",
      "------------------cv=5-------------------\n",
      "train\n",
      "0.8261897311209704\n",
      "test\n",
      "-0.768512746422098\n"
     ]
    },
    {
     "data": {
      "text/plain": [
       "'print(\"-----------------cv=10---------------------\")\\nY_train=np.array(Y_train)\\nY_train=Y_train.ravel()\\nridgec=RidgeCV().fit(X_train,Y_train)\\nprint(\\'train\\')\\nprint(lassoc.score(X_train,Y_train))\\nprint(\\'test\\')\\nprint(lassoc.score(X_test,Y_test))\\nprint(\"-----------------cv=20------------------------\")\\nY_train=np.array(Y_train)\\nY_train=Y_train.ravel()\\nridgec=RidgeCV().fit(X_train,Y_train)\\nprint(\\'train\\')\\nprint(lassoc.score(X_train,Y_train))\\nprint(\\'test\\')\\nprint(lassoc.score(X_test,Y_test))'"
      ]
     },
     "execution_count": 26,
     "metadata": {},
     "output_type": "execute_result"
    }
   ],
   "source": [
    "X_train,X_test,Y_train,Y_test=train_test_split(dt1,Y,test_size=0.3,random_state=42)\n",
    "print(X_train.shape,X_test.shape)\n",
    "print(Y_train.shape,Y_test.shape)\n",
    "print(\" without CV\")\n",
    "print(\"------------------0.1-----------------\")\n",
    "from sklearn.linear_model import Ridge\n",
    "ridgeReg=Ridge(alpha=0.5,normalize=True)\n",
    "ridgeReg.fit(X_train,Y_train)\n",
    "predictions=ridgeReg.predict(X_test)\n",
    "print('test')\n",
    "print(ridgeReg.score(X_test,Y_test))\n",
    "print('train')\n",
    "print(ridgeReg.score(X_train,Y_train))\n",
    "print(\"------------------0.5-------------------\")\n",
    "from sklearn.linear_model import Ridge\n",
    "ridgeReg=Ridge(alpha=0.1,normalize=True)\n",
    "ridgeReg.fit(X_train,Y_train)\n",
    "predictions=ridgeReg.predict(X_test)\n",
    "print('test')\n",
    "print(ridgeReg.score(X_test,Y_test))\n",
    "print('train')\n",
    "print(ridgeReg.score(X_train,Y_train))\n",
    "print(\"-------------------0.01------------------\")\n",
    "from sklearn.linear_model import Ridge\n",
    "ridgeReg=Ridge(alpha=0.01,normalize=True)\n",
    "ridgeReg.fit(X_train,Y_train)\n",
    "predictions=ridgeReg.predict(X_test)\n",
    "print('test')\n",
    "print(ridgeReg.score(X_test,Y_test))\n",
    "print('train')\n",
    "print(ridgeReg.score(X_train,Y_train))\n",
    "print('-----------------0.05-------------------')\n",
    "ridgeReg=Ridge(alpha=0.05,normalize=True)\n",
    "ridgeReg.fit(X_train,Y_train)\n",
    "predictions=ridgeReg.predict(X_test)\n",
    "print('test')\n",
    "print(ridgeReg.score(X_test,Y_test))\n",
    "print('train')\n",
    "print(ridgeReg.score(X_train,Y_train))\n",
    "print(\"With CV\")\n",
    "print(\"------------------cv=5-------------------\")\n",
    "Y_train=np.array(Y_train)\n",
    "Y_train=Y_train.ravel()\n",
    "ridgec=RidgeCV(cv=100).fit(X_train,Y_train)\n",
    "print('train')\n",
    "print(ridgec.score(X_train,Y_train))\n",
    "print('test')\n",
    "print(ridgec.score(X_test,Y_test))\n",
    "'''print(\"-----------------cv=10---------------------\")\n",
    "Y_train=np.array(Y_train)\n",
    "Y_train=Y_train.ravel()\n",
    "ridgec=RidgeCV().fit(X_train,Y_train)\n",
    "print('train')\n",
    "print(lassoc.score(X_train,Y_train))\n",
    "print('test')\n",
    "print(lassoc.score(X_test,Y_test))\n",
    "print(\"-----------------cv=20------------------------\")\n",
    "Y_train=np.array(Y_train)\n",
    "Y_train=Y_train.ravel()\n",
    "ridgec=RidgeCV().fit(X_train,Y_train)\n",
    "print('train')\n",
    "print(lassoc.score(X_train,Y_train))\n",
    "print('test')\n",
    "print(lassoc.score(X_test,Y_test))'''"
   ]
  },
  {
   "cell_type": "code",
   "execution_count": null,
   "metadata": {},
   "outputs": [],
   "source": [
    "'''!!!!!!!!!!!!!!!!!!! 2k genes only !!!!!!!!!!!!!!!!!!!!!'''"
   ]
  },
  {
   "cell_type": "code",
   "execution_count": 28,
   "metadata": {},
   "outputs": [],
   "source": [
    "dt2=pd.read_excel('LUAD genes no depth.xlsx')\n"
   ]
  },
  {
   "cell_type": "code",
   "execution_count": 29,
   "metadata": {},
   "outputs": [],
   "source": [
    "dt2=dt2.set_index(dt2.columns[0])"
   ]
  },
  {
   "cell_type": "code",
   "execution_count": 30,
   "metadata": {},
   "outputs": [
    {
     "name": "stdout",
     "output_type": "stream",
     "text": [
      "(361, 2853) (156, 2853)\n",
      "(361, 1) (156, 1)\n",
      " without CV\n",
      "------------------0.1-----------------\n",
      "test\n",
      "-40.51555213991456\n",
      "train\n",
      "0.9781628758892398\n",
      "------------------0.5-------------------\n",
      "test\n",
      "-46.33848067574318\n",
      "train\n",
      "0.998557882855043\n",
      "-------------------0.01------------------\n",
      "test\n",
      "-87.63559624513604\n",
      "train\n",
      "0.9999833143736285\n",
      "-----------------0.05-------------------\n",
      "test\n",
      "-39.883085659801445\n",
      "train\n",
      "0.9996098619021291\n",
      "With CV\n",
      "------------------cv=5-------------------\n",
      "train\n",
      "0.9999307276986903\n",
      "test\n",
      "-0.49623538068718354\n"
     ]
    },
    {
     "data": {
      "text/plain": [
       "'print(\"-----------------cv=10---------------------\")\\nY_train=np.array(Y_train)\\nY_train=Y_train.ravel()\\nridgec=RidgeCV().fit(X_train,Y_train)\\nprint(\\'train\\')\\nprint(lassoc.score(X_train,Y_train))\\nprint(\\'test\\')\\nprint(lassoc.score(X_test,Y_test))\\nprint(\"-----------------cv=20------------------------\")\\nY_train=np.array(Y_train)\\nY_train=Y_train.ravel()\\nridgec=RidgeCV().fit(X_train,Y_train)\\nprint(\\'train\\')\\nprint(lassoc.score(X_train,Y_train))\\nprint(\\'test\\')\\nprint(lassoc.score(X_test,Y_test))'"
      ]
     },
     "execution_count": 30,
     "metadata": {},
     "output_type": "execute_result"
    }
   ],
   "source": [
    "X_train,X_test,Y_train,Y_test=train_test_split(dt2,Y,test_size=0.3,random_state=42)\n",
    "print(X_train.shape,X_test.shape)\n",
    "print(Y_train.shape,Y_test.shape)\n",
    "print(\" without CV\")\n",
    "print(\"------------------0.1-----------------\")\n",
    "from sklearn.linear_model import Ridge\n",
    "ridgeReg=Ridge(alpha=0.5,normalize=True)\n",
    "ridgeReg.fit(X_train,Y_train)\n",
    "predictions=ridgeReg.predict(X_test)\n",
    "print('test')\n",
    "print(ridgeReg.score(X_test,Y_test))\n",
    "print('train')\n",
    "print(ridgeReg.score(X_train,Y_train))\n",
    "print(\"------------------0.5-------------------\")\n",
    "from sklearn.linear_model import Ridge\n",
    "ridgeReg=Ridge(alpha=0.1,normalize=True)\n",
    "ridgeReg.fit(X_train,Y_train)\n",
    "predictions=ridgeReg.predict(X_test)\n",
    "print('test')\n",
    "print(ridgeReg.score(X_test,Y_test))\n",
    "print('train')\n",
    "print(ridgeReg.score(X_train,Y_train))\n",
    "print(\"-------------------0.01------------------\")\n",
    "from sklearn.linear_model import Ridge\n",
    "ridgeReg=Ridge(alpha=0.01,normalize=True)\n",
    "ridgeReg.fit(X_train,Y_train)\n",
    "predictions=ridgeReg.predict(X_test)\n",
    "print('test')\n",
    "print(ridgeReg.score(X_test,Y_test))\n",
    "print('train')\n",
    "print(ridgeReg.score(X_train,Y_train))\n",
    "print('-----------------0.05-------------------')\n",
    "ridgeReg=Ridge(alpha=0.05,normalize=True)\n",
    "ridgeReg.fit(X_train,Y_train)\n",
    "predictions=ridgeReg.predict(X_test)\n",
    "print('test')\n",
    "print(ridgeReg.score(X_test,Y_test))\n",
    "print('train')\n",
    "print(ridgeReg.score(X_train,Y_train))\n",
    "print(\"With CV\")\n",
    "print(\"------------------cv=5-------------------\")\n",
    "Y_train=np.array(Y_train)\n",
    "Y_train=Y_train.ravel()\n",
    "ridgec=RidgeCV(cv=100).fit(X_train,Y_train)\n",
    "print('train')\n",
    "print(ridgec.score(X_train,Y_train))\n",
    "print('test')\n",
    "print(ridgec.score(X_test,Y_test))\n",
    "'''print(\"-----------------cv=10---------------------\")\n",
    "Y_train=np.array(Y_train)\n",
    "Y_train=Y_train.ravel()\n",
    "ridgec=RidgeCV().fit(X_train,Y_train)\n",
    "print('train')\n",
    "print(lassoc.score(X_train,Y_train))\n",
    "print('test')\n",
    "print(lassoc.score(X_test,Y_test))\n",
    "print(\"-----------------cv=20------------------------\")\n",
    "Y_train=np.array(Y_train)\n",
    "Y_train=Y_train.ravel()\n",
    "ridgec=RidgeCV().fit(X_train,Y_train)\n",
    "print('train')\n",
    "print(lassoc.score(X_train,Y_train))\n",
    "print('test')\n",
    "print(lassoc.score(X_test,Y_test))'''"
   ]
  },
  {
   "cell_type": "code",
   "execution_count": null,
   "metadata": {},
   "outputs": [],
   "source": [
    "'''!!!!!!!!!!!! 250 genes and clinical data!!!!!!!!!!!'''"
   ]
  },
  {
   "cell_type": "code",
   "execution_count": 31,
   "metadata": {},
   "outputs": [],
   "source": [
    "dt3=pd.read_excel('gene + clinical LUAD.xlsx')"
   ]
  },
  {
   "cell_type": "code",
   "execution_count": 32,
   "metadata": {},
   "outputs": [],
   "source": [
    "dt3=dt3.set_index(dt3.columns[0])"
   ]
  },
  {
   "cell_type": "code",
   "execution_count": 41,
   "metadata": {},
   "outputs": [
    {
     "name": "stdout",
     "output_type": "stream",
     "text": [
      "(361, 261) (156, 261)\n",
      "(361, 1) (156, 1)\n",
      " without CV\n",
      "---------------0.1------------------\n",
      "test\n",
      "0.44876140945702997\n",
      "train\n",
      "0.9381586645612682\n",
      "------------------1-----------------\n",
      "test\n",
      "0.44528408745741577\n",
      "train\n",
      "0.7604884973130376\n",
      "------------------0.5-------------------\n",
      "test\n",
      "0.44876140945702997\n",
      "train\n",
      "0.9381586645612682\n",
      "-------------------0.01------------------\n",
      "test\n",
      "0.11522016227538256\n",
      "train\n",
      "0.9653507667973141\n",
      "-----------------0.05-------------------\n",
      "test\n",
      "0.3629893675218231\n",
      "train\n",
      "0.9530783074219835\n",
      "With CV\n",
      "------------------cv=5-------------------\n",
      "test\n",
      "0.6653456504048666\n",
      "train\n",
      "0.9594085487096703\n"
     ]
    },
    {
     "data": {
      "text/plain": [
       "'print(\"-----------------cv=10---------------------\")\\nY_train=np.array(Y_train)\\nY_train=Y_train.ravel()\\nridgec=RidgeCV().fit(X_train,Y_train)\\nprint(\\'train\\')\\nprint(lassoc.score(X_train,Y_train))\\nprint(\\'test\\')\\nprint(lassoc.score(X_test,Y_test))\\nprint(\"-----------------cv=20------------------------\")\\nY_train=np.array(Y_train)\\nY_train=Y_train.ravel()\\nridgec=RidgeCV().fit(X_train,Y_train)\\nprint(\\'train\\')\\nprint(lassoc.score(X_train,Y_train))\\nprint(\\'test\\')\\nprint(lassoc.score(X_test,Y_test))'"
      ]
     },
     "execution_count": 41,
     "metadata": {},
     "output_type": "execute_result"
    }
   ],
   "source": [
    "X_train,X_test,Y_train,Y_test=train_test_split(dt3,Y,test_size=0.3,random_state=42)\n",
    "print(X_train.shape,X_test.shape)\n",
    "print(Y_train.shape,Y_test.shape)\n",
    "print(\" without CV\")\n",
    "print('---------------0.1------------------')\n",
    "ridgeReg=Ridge(alpha=0.1,normalize=True)\n",
    "ridgeReg.fit(X_train,Y_train)\n",
    "predictions=ridgeReg.predict(X_test)\n",
    "print('test')\n",
    "print(ridgeReg.score(X_test,Y_test))\n",
    "print('train')\n",
    "print(ridgeReg.score(X_train,Y_train))\n",
    "print(\"------------------1-----------------\")\n",
    "from sklearn.linear_model import Ridge\n",
    "ridgeReg=Ridge(alpha=1,normalize=True)\n",
    "ridgeReg.fit(X_train,Y_train)\n",
    "predictions=ridgeReg.predict(X_test)\n",
    "print('test')\n",
    "print(ridgeReg.score(X_test,Y_test))\n",
    "print('train')\n",
    "print(ridgeReg.score(X_train,Y_train))\n",
    "print(\"------------------0.5-------------------\")\n",
    "from sklearn.linear_model import Ridge\n",
    "ridgeReg=Ridge(alpha=0.1,normalize=True)\n",
    "ridgeReg.fit(X_train,Y_train)\n",
    "predictions=ridgeReg.predict(X_test)\n",
    "print('test')\n",
    "print(ridgeReg.score(X_test,Y_test))\n",
    "print('train')\n",
    "print(ridgeReg.score(X_train,Y_train))\n",
    "print(\"-------------------0.01------------------\")\n",
    "from sklearn.linear_model import Ridge\n",
    "ridgeReg=Ridge(alpha=0.01,normalize=True)\n",
    "ridgeReg.fit(X_train,Y_train)\n",
    "predictions=ridgeReg.predict(X_test)\n",
    "print('test')\n",
    "print(ridgeReg.score(X_test,Y_test))\n",
    "print('train')\n",
    "print(ridgeReg.score(X_train,Y_train))\n",
    "print('-----------------0.05-------------------')\n",
    "ridgeReg=Ridge(alpha=0.05,normalize=True)\n",
    "ridgeReg.fit(X_train,Y_train)\n",
    "predictions=ridgeReg.predict(X_test)\n",
    "print('test')\n",
    "print(ridgeReg.score(X_test,Y_test))\n",
    "print('train')\n",
    "print(ridgeReg.score(X_train,Y_train))\n",
    "print(\"With CV\")\n",
    "print(\"------------------cv=5-------------------\")\n",
    "Y_train=np.array(Y_train)\n",
    "Y_train=Y_train.ravel()\n",
    "ridgec=RidgeCV(cv=10).fit(X_train,Y_train)\n",
    "print('test')\n",
    "print(ridgec.score(X_test,Y_test))\n",
    "print('train')\n",
    "print(ridgec.score(X_train,Y_train))\n",
    "\n",
    "'''print(\"-----------------cv=10---------------------\")\n",
    "Y_train=np.array(Y_train)\n",
    "Y_train=Y_train.ravel()\n",
    "ridgec=RidgeCV().fit(X_train,Y_train)\n",
    "print('train')\n",
    "print(lassoc.score(X_train,Y_train))\n",
    "print('test')\n",
    "print(lassoc.score(X_test,Y_test))\n",
    "print(\"-----------------cv=20------------------------\")\n",
    "Y_train=np.array(Y_train)\n",
    "Y_train=Y_train.ravel()\n",
    "ridgec=RidgeCV().fit(X_train,Y_train)\n",
    "print('train')\n",
    "print(lassoc.score(X_train,Y_train))\n",
    "print('test')\n",
    "print(lassoc.score(X_test,Y_test))'''"
   ]
  },
  {
   "cell_type": "code",
   "execution_count": null,
   "metadata": {},
   "outputs": [],
   "source": [
    "'''!!!!!!!!!!!!!!!!! 2k genes and clinical data !!!!!!!!!!'''"
   ]
  },
  {
   "cell_type": "code",
   "execution_count": 42,
   "metadata": {},
   "outputs": [],
   "source": [
    "dt4=pd.read_excel('selected genes LUAD.xlsx')"
   ]
  },
  {
   "cell_type": "code",
   "execution_count": 43,
   "metadata": {},
   "outputs": [],
   "source": [
    "dt4=dt4.set_index(dt4.columns[0])"
   ]
  },
  {
   "cell_type": "code",
   "execution_count": 46,
   "metadata": {},
   "outputs": [
    {
     "name": "stdout",
     "output_type": "stream",
     "text": [
      "(361, 2864) (156, 2864)\n",
      "(361, 1) (156, 1)\n",
      " without CV\n",
      "---------------0.1------------------\n",
      "test\n",
      "-80.2773223317331\n",
      "train\n",
      "0.9989124220652617\n",
      "------------------1-----------------\n",
      "test\n",
      "-20.29778789379334\n",
      "train\n",
      "0.954731502269793\n",
      "------------------0.5-------------------\n",
      "test\n",
      "-80.2773223317331\n",
      "train\n",
      "0.9989124220652617\n",
      "-------------------0.01------------------\n",
      "test\n",
      "-77.80496458315093\n",
      "train\n",
      "0.9999875552650695\n",
      "-----------------0.05-------------------\n",
      "test\n",
      "-12.197264597305793\n",
      "train\n",
      "0.999707529396645\n",
      "With CV\n",
      "------------------cv=5-------------------\n",
      "test\n",
      "0.6604756028589999\n",
      "train\n",
      "0.9999748516693829\n"
     ]
    },
    {
     "data": {
      "text/plain": [
       "'print(\"-----------------cv=10---------------------\")\\nY_train=np.array(Y_train)\\nY_train=Y_train.ravel()\\nridgec=RidgeCV().fit(X_train,Y_train)\\nprint(\\'train\\')\\nprint(lassoc.score(X_train,Y_train))\\nprint(\\'test\\')\\nprint(lassoc.score(X_test,Y_test))\\nprint(\"-----------------cv=20------------------------\")\\nY_train=np.array(Y_train)\\nY_train=Y_train.ravel()\\nridgec=RidgeCV().fit(X_train,Y_train)\\nprint(\\'train\\')\\nprint(lassoc.score(X_train,Y_train))\\nprint(\\'test\\')\\nprint(lassoc.score(X_test,Y_test))'"
      ]
     },
     "execution_count": 46,
     "metadata": {},
     "output_type": "execute_result"
    }
   ],
   "source": [
    "X_train,X_test,Y_train,Y_test=train_test_split(dt4,Y,test_size=0.3,random_state=42)\n",
    "print(X_train.shape,X_test.shape)\n",
    "print(Y_train.shape,Y_test.shape)\n",
    "print(\" without CV\")\n",
    "print('---------------0.1------------------')\n",
    "ridgeReg=Ridge(alpha=0.1,normalize=True)\n",
    "ridgeReg.fit(X_train,Y_train)\n",
    "predictions=ridgeReg.predict(X_test)\n",
    "print('test')\n",
    "print(ridgeReg.score(X_test,Y_test))\n",
    "print('train')\n",
    "print(ridgeReg.score(X_train,Y_train))\n",
    "print(\"------------------1-----------------\")\n",
    "from sklearn.linear_model import Ridge\n",
    "ridgeReg=Ridge(alpha=1,normalize=True)\n",
    "ridgeReg.fit(X_train,Y_train)\n",
    "predictions=ridgeReg.predict(X_test)\n",
    "print('test')\n",
    "print(ridgeReg.score(X_test,Y_test))\n",
    "print('train')\n",
    "print(ridgeReg.score(X_train,Y_train))\n",
    "print(\"------------------0.5-------------------\")\n",
    "from sklearn.linear_model import Ridge\n",
    "ridgeReg=Ridge(alpha=0.1,normalize=True)\n",
    "ridgeReg.fit(X_train,Y_train)\n",
    "predictions=ridgeReg.predict(X_test)\n",
    "print('test')\n",
    "print(ridgeReg.score(X_test,Y_test))\n",
    "print('train')\n",
    "print(ridgeReg.score(X_train,Y_train))\n",
    "print(\"-------------------0.01------------------\")\n",
    "from sklearn.linear_model import Ridge\n",
    "ridgeReg=Ridge(alpha=0.01,normalize=True)\n",
    "ridgeReg.fit(X_train,Y_train)\n",
    "predictions=ridgeReg.predict(X_test)\n",
    "print('test')\n",
    "print(ridgeReg.score(X_test,Y_test))\n",
    "print('train')\n",
    "print(ridgeReg.score(X_train,Y_train))\n",
    "print('-----------------0.05-------------------')\n",
    "ridgeReg=Ridge(alpha=0.05,normalize=True)\n",
    "ridgeReg.fit(X_train,Y_train)\n",
    "predictions=ridgeReg.predict(X_test)\n",
    "print('test')\n",
    "print(ridgeReg.score(X_test,Y_test))\n",
    "print('train')\n",
    "print(ridgeReg.score(X_train,Y_train))\n",
    "print(\"With CV\")\n",
    "print(\"------------------cv=5-------------------\")\n",
    "Y_train=np.array(Y_train)\n",
    "Y_train=Y_train.ravel()\n",
    "ridgec=RidgeCV(cv=None).fit(X_train,Y_train)\n",
    "print('test')\n",
    "print(ridgec.score(X_test,Y_test))\n",
    "print('train')\n",
    "print(ridgec.score(X_train,Y_train))\n",
    "\n",
    "'''print(\"-----------------cv=10---------------------\")\n",
    "Y_train=np.array(Y_train)\n",
    "Y_train=Y_train.ravel()\n",
    "ridgec=RidgeCV().fit(X_train,Y_train)\n",
    "print('train')\n",
    "print(lassoc.score(X_train,Y_train))\n",
    "print('test')\n",
    "print(lassoc.score(X_test,Y_test))\n",
    "print(\"-----------------cv=20------------------------\")\n",
    "Y_train=np.array(Y_train)\n",
    "Y_train=Y_train.ravel()\n",
    "ridgec=RidgeCV().fit(X_train,Y_train)\n",
    "print('train')\n",
    "print(lassoc.score(X_train,Y_train))\n",
    "print('test')\n",
    "print(lassoc.score(X_test,Y_test))'''"
   ]
  },
  {
   "cell_type": "code",
   "execution_count": null,
   "metadata": {},
   "outputs": [],
   "source": []
  }
 ],
 "metadata": {
  "kernelspec": {
   "display_name": "Python 3",
   "language": "python",
   "name": "python3"
  },
  "language_info": {
   "codemirror_mode": {
    "name": "ipython",
    "version": 3
   },
   "file_extension": ".py",
   "mimetype": "text/x-python",
   "name": "python",
   "nbconvert_exporter": "python",
   "pygments_lexer": "ipython3",
   "version": "3.6.5"
  }
 },
 "nbformat": 4,
 "nbformat_minor": 2
}
