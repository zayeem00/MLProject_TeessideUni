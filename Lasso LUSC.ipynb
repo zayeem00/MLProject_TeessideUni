{
 "cells": [
  {
   "cell_type": "code",
   "execution_count": 1,
   "metadata": {},
   "outputs": [],
   "source": [
    "import os\n",
    "import matplotlib.pyplot as plt\n",
    "import pandas as pd\n",
    "from sklearn.linear_model import Lasso\n",
    "from sklearn.linear_model import LassoCV"
   ]
  },
  {
   "cell_type": "code",
   "execution_count": 2,
   "metadata": {},
   "outputs": [],
   "source": [
    "\n",
    "os.chdir('U:\\ProjectDataset')"
   ]
  },
  {
   "cell_type": "code",
   "execution_count": 3,
   "metadata": {},
   "outputs": [],
   "source": [
    "dt=pd.read_excel('selected clinical LUSC.xlsx')"
   ]
  },
  {
   "cell_type": "code",
   "execution_count": 4,
   "metadata": {},
   "outputs": [],
   "source": [
    "dt=dt.set_index(dt.columns[0])"
   ]
  },
  {
   "cell_type": "code",
   "execution_count": 97,
   "metadata": {},
   "outputs": [],
   "source": [
    "tar=pd.read_excel('survival_LUSC.xlsx')\n",
    "Y=tar"
   ]
  },
  {
   "cell_type": "code",
   "execution_count": 11,
   "metadata": {},
   "outputs": [],
   "source": [
    "from sklearn.model_selection import train_test_split\n"
   ]
  },
  {
   "cell_type": "code",
   "execution_count": 12,
   "metadata": {},
   "outputs": [
    {
     "name": "stdout",
     "output_type": "stream",
     "text": [
      "(350, 11) (151, 11)\n",
      "(350, 1) (151, 1)\n"
     ]
    }
   ],
   "source": [
    "X_train,X_test,Y_train,Y_test=train_test_split(dt,Y,test_size=0.3,random_state=42)\n",
    "print(X_train.shape,X_test.shape)\n",
    "print(Y_train.shape,Y_test.shape)"
   ]
  },
  {
   "cell_type": "code",
   "execution_count": 13,
   "metadata": {},
   "outputs": [
    {
     "name": "stdout",
     "output_type": "stream",
     "text": [
      "train\n",
      "0.7114907068488736\n",
      "test\n",
      "0.4811109871006825\n"
     ]
    }
   ],
   "source": [
    "\n",
    "lassoReg=Lasso(alpha=0.1,normalize=True)\n",
    "lassoReg.fit(X_train,Y_train)\n",
    "predictions=lassoReg.predict(X_train)\n",
    "print('train')\n",
    "print(lassoReg.score(X_train,Y_train))\n",
    "print('test')\n",
    "print(lassoReg.score(X_test,Y_test))"
   ]
  },
  {
   "cell_type": "code",
   "execution_count": 14,
   "metadata": {},
   "outputs": [
    {
     "name": "stdout",
     "output_type": "stream",
     "text": [
      "train\n",
      "0.6582425618668193\n",
      "test\n",
      "0.43022774131757663\n"
     ]
    }
   ],
   "source": [
    "\n",
    "lassoReg=Lasso(alpha=0.3,normalize=True)\n",
    "lassoReg.fit(X_train,Y_train)\n",
    "predictions=lassoReg.predict(X_train)\n",
    "print('train')\n",
    "print(lassoReg.score(X_train,Y_train))\n",
    "print('test')\n",
    "print(lassoReg.score(X_test,Y_test))"
   ]
  },
  {
   "cell_type": "code",
   "execution_count": 15,
   "metadata": {},
   "outputs": [
    {
     "name": "stdout",
     "output_type": "stream",
     "text": [
      "train\n",
      "0.593621780293841\n",
      "test\n",
      "0.38926906952533863\n"
     ]
    }
   ],
   "source": [
    "\n",
    "lassoReg=Lasso(alpha=0.5,normalize=True)\n",
    "lassoReg.fit(X_train,Y_train)\n",
    "predictions=lassoReg.predict(X_train)\n",
    "print('train')\n",
    "print(lassoReg.score(X_train,Y_train))\n",
    "print('test')\n",
    "print(lassoReg.score(X_test,Y_test))"
   ]
  },
  {
   "cell_type": "code",
   "execution_count": 16,
   "metadata": {},
   "outputs": [
    {
     "name": "stdout",
     "output_type": "stream",
     "text": [
      "train\n",
      "0.4966906079343741\n",
      "test\n",
      "0.3230552791189448\n"
     ]
    }
   ],
   "source": [
    "\n",
    "lassoReg=Lasso(alpha=0.7,normalize=True)\n",
    "lassoReg.fit(X_train,Y_train)\n",
    "predictions=lassoReg.predict(X_train)\n",
    "print('train')\n",
    "print(lassoReg.score(X_train,Y_train))\n",
    "print('test')\n",
    "print(lassoReg.score(X_test,Y_test))"
   ]
  },
  {
   "cell_type": "code",
   "execution_count": 17,
   "metadata": {},
   "outputs": [
    {
     "name": "stdout",
     "output_type": "stream",
     "text": [
      "train\n",
      "0.436108625209707\n",
      "test\n",
      "0.28047771443543956\n"
     ]
    }
   ],
   "source": [
    "\n",
    "lassoReg=Lasso(alpha=0.8,normalize=True)\n",
    "lassoReg.fit(X_train,Y_train)\n",
    "predictions=lassoReg.predict(X_train)\n",
    "print('train')\n",
    "print(lassoReg.score(X_train,Y_train))\n",
    "print('test')\n",
    "print(lassoReg.score(X_test,Y_test))"
   ]
  },
  {
   "cell_type": "code",
   "execution_count": 22,
   "metadata": {},
   "outputs": [],
   "source": [
    "import numpy as np\n",
    "Y_train=np.array(Y_train)\n",
    "Y_train=Y_train.flatten()"
   ]
  },
  {
   "cell_type": "code",
   "execution_count": 23,
   "metadata": {},
   "outputs": [
    {
     "name": "stdout",
     "output_type": "stream",
     "text": [
      "train\n",
      "0.7241490191956182\n",
      "test\n",
      "0.4819805126957276\n"
     ]
    }
   ],
   "source": [
    "\n",
    "from sklearn.linear_model import LassoCV\n",
    "lassoc=LassoCV(cv=5,random_state=0).fit(X_train,Y_train)\n",
    "print('train')\n",
    "print(lassoc.score(X_train,Y_train))\n",
    "print('test')\n",
    "print(lassoc.score(X_test,Y_test))"
   ]
  },
  {
   "cell_type": "code",
   "execution_count": 24,
   "metadata": {},
   "outputs": [
    {
     "name": "stdout",
     "output_type": "stream",
     "text": [
      "train\n",
      "0.7266858444127908\n",
      "test\n",
      "0.5315130315109657\n"
     ]
    }
   ],
   "source": [
    "\n",
    "from sklearn.linear_model import LassoCV\n",
    "lassoc=LassoCV(cv=10,random_state=0).fit(dt,tar)\n",
    "print('train')\n",
    "print(lassoc.score(X_train,Y_train))\n",
    "print('test')\n",
    "print(lassoc.score(X_test,Y_test))"
   ]
  },
  {
   "cell_type": "code",
   "execution_count": 25,
   "metadata": {},
   "outputs": [
    {
     "name": "stdout",
     "output_type": "stream",
     "text": [
      "train\n",
      "0.7266858444127908\n",
      "test\n",
      "0.5315130315109657\n"
     ]
    }
   ],
   "source": [
    "\n",
    "from sklearn.linear_model import LassoCV\n",
    "lassoc=LassoCV(cv=20,random_state=42).fit(dt,tar)\n",
    "print('train')\n",
    "print(lassoc.score(X_train,Y_train))\n",
    "print('test')\n",
    "print(lassoc.score(X_test,Y_test))"
   ]
  },
  {
   "cell_type": "code",
   "execution_count": 26,
   "metadata": {},
   "outputs": [
    {
     "name": "stdout",
     "output_type": "stream",
     "text": [
      "train\n",
      "0.7266858444127908\n",
      "test\n",
      "0.5315130315109657\n"
     ]
    }
   ],
   "source": [
    "\n",
    "from sklearn.linear_model import LassoCV\n",
    "lassoc=LassoCV(cv=40,random_state=42).fit(dt,tar)\n",
    "print('train')\n",
    "print(lassoc.score(X_train,Y_train))\n",
    "print('test')\n",
    "print(lassoc.score(X_test,Y_test))"
   ]
  },
  {
   "cell_type": "code",
   "execution_count": 35,
   "metadata": {},
   "outputs": [],
   "source": [
    "dt1=pd.read_excel('selected genes LUSC.xlsx')"
   ]
  },
  {
   "cell_type": "code",
   "execution_count": 36,
   "metadata": {},
   "outputs": [],
   "source": [
    "dt1=dt1.set_index(dt1.columns[0])"
   ]
  },
  {
   "cell_type": "code",
   "execution_count": 37,
   "metadata": {},
   "outputs": [
    {
     "data": {
      "text/plain": [
       "(501, 320)"
      ]
     },
     "execution_count": 37,
     "metadata": {},
     "output_type": "execute_result"
    }
   ],
   "source": [
    "dt1.shape"
   ]
  },
  {
   "cell_type": "code",
   "execution_count": 38,
   "metadata": {},
   "outputs": [
    {
     "name": "stdout",
     "output_type": "stream",
     "text": [
      "(350, 320) (151, 320)\n",
      "(350, 1) (151, 1)\n"
     ]
    }
   ],
   "source": [
    "X_train,X_test,Y_train,Y_test=train_test_split(dt1,Y,test_size=0.3,random_state=42)\n",
    "print(X_train.shape,X_test.shape)\n",
    "print(Y_train.shape,Y_test.shape)"
   ]
  },
  {
   "cell_type": "code",
   "execution_count": 39,
   "metadata": {},
   "outputs": [
    {
     "name": "stdout",
     "output_type": "stream",
     "text": [
      "train\n",
      "0.2642933576711306\n",
      "test\n",
      "-0.06899879570252332\n"
     ]
    }
   ],
   "source": [
    "lassoReg=Lasso(alpha=0.1,normalize=True)\n",
    "lassoReg.fit(X_train,Y_train)\n",
    "predictions=lassoReg.predict(X_train)\n",
    "print('train')\n",
    "print(lassoReg.score(X_train,Y_train))\n",
    "print('test')\n",
    "print(lassoReg.score(X_test,Y_test))"
   ]
  },
  {
   "cell_type": "code",
   "execution_count": 67,
   "metadata": {},
   "outputs": [
    {
     "name": "stdout",
     "output_type": "stream",
     "text": [
      "train\n",
      "0.8057703926233591\n",
      "test\n",
      "-1.0783159256557449\n"
     ]
    }
   ],
   "source": [
    "lassoReg=Lasso(alpha=0.01,normalize=True)\n",
    "lassoReg.fit(X_train,Y_train)\n",
    "predictions=lassoReg.predict(X_train)\n",
    "print('train')\n",
    "print(lassoReg.score(X_train,Y_train))\n",
    "print('test')\n",
    "print(lassoReg.score(X_test,Y_test))"
   ]
  },
  {
   "cell_type": "code",
   "execution_count": 40,
   "metadata": {},
   "outputs": [],
   "source": [
    "Y_train=np.array(Y_train)\n",
    "Y_train=Y_train.ravel()"
   ]
  },
  {
   "cell_type": "code",
   "execution_count": 64,
   "metadata": {},
   "outputs": [
    {
     "name": "stdout",
     "output_type": "stream",
     "text": [
      "train\n",
      "0.24101531124559938\n",
      "test\n",
      "-0.08152240404291033\n"
     ]
    }
   ],
   "source": [
    "\n",
    "from sklearn.linear_model import LassoCV\n",
    "lassoc=LassoCV(cv=50,random_state=42,n_alphas=150,alphas=None,max_iter=1100).fit(X_train,Y_train)\n",
    "print('train')\n",
    "print(lassoc.score(X_train,Y_train))\n",
    "print('test')\n",
    "print(lassoc.score(X_test,Y_test))"
   ]
  },
  {
   "cell_type": "code",
   "execution_count": 63,
   "metadata": {},
   "outputs": [
    {
     "name": "stdout",
     "output_type": "stream",
     "text": [
      "train\n",
      "0.01664746216063262\n",
      "test\n",
      "-0.034697380418541535\n"
     ]
    }
   ],
   "source": [
    "from sklearn.linear_model import LassoCV\n",
    "lassoc=LassoCV(cv=70,random_state=42,n_alphas=200,alphas=None,max_iter=1400).fit(X_train,Y_train)\n",
    "print('train')\n",
    "print(lassoc.score(X_train,Y_train))\n",
    "print('test')\n",
    "print(lassoc.score(X_test,Y_test))"
   ]
  },
  {
   "cell_type": "code",
   "execution_count": 66,
   "metadata": {},
   "outputs": [
    {
     "name": "stdout",
     "output_type": "stream",
     "text": [
      "train\n",
      "0.01664746216063262\n",
      "test\n",
      "-0.034697380418541535\n"
     ]
    }
   ],
   "source": [
    "from sklearn.linear_model import LassoCV\n",
    "lassoc=LassoCV(cv=100,random_state=0,n_alphas=200,alphas=None,max_iter=1400).fit(X_train,Y_train)\n",
    "print('train')\n",
    "print(lassoc.score(X_train,Y_train))\n",
    "print('test')\n",
    "print(lassoc.score(X_test,Y_test))"
   ]
  },
  {
   "cell_type": "code",
   "execution_count": 69,
   "metadata": {},
   "outputs": [
    {
     "name": "stdout",
     "output_type": "stream",
     "text": [
      "train\n",
      "0.01664746216063262\n",
      "test\n",
      "-0.034697380418541535\n"
     ]
    }
   ],
   "source": [
    "from sklearn.linear_model import LassoCV\n",
    "lassoc=LassoCV(cv=150,random_state=0,n_alphas=200,alphas=None,max_iter=1400).fit(X_train,Y_train)\n",
    "print('train')\n",
    "print(lassoc.score(X_train,Y_train))\n",
    "print('test')\n",
    "print(lassoc.score(X_test,Y_test))"
   ]
  },
  {
   "cell_type": "code",
   "execution_count": null,
   "metadata": {},
   "outputs": [],
   "source": [
    "'''!!!!!!!!!!!!!!!!!!!!   250 gene + clinical !!!!!!!!!!!!!!!!!!!!1'''"
   ]
  },
  {
   "cell_type": "code",
   "execution_count": 70,
   "metadata": {},
   "outputs": [],
   "source": [
    "dt2=pd.read_excel('gene + clinical LUSC.xlsx')"
   ]
  },
  {
   "cell_type": "code",
   "execution_count": 71,
   "metadata": {},
   "outputs": [],
   "source": [
    "dt2=dt2.set_index(dt2.columns[0])"
   ]
  },
  {
   "cell_type": "code",
   "execution_count": 72,
   "metadata": {},
   "outputs": [
    {
     "name": "stdout",
     "output_type": "stream",
     "text": [
      "(350, 331) (151, 331)\n",
      "(350, 1) (151, 1)\n"
     ]
    }
   ],
   "source": [
    "X_train,X_test,Y_train,Y_test=train_test_split(dt2,Y,test_size=0.3,random_state=42)\n",
    "print(X_train.shape,X_test.shape)\n",
    "print(Y_train.shape,Y_test.shape)"
   ]
  },
  {
   "cell_type": "code",
   "execution_count": 73,
   "metadata": {},
   "outputs": [
    {
     "name": "stdout",
     "output_type": "stream",
     "text": [
      "train\n",
      "0.7456714731337577\n",
      "test\n",
      "0.4744959213892138\n"
     ]
    }
   ],
   "source": [
    "lassoReg=Lasso(alpha=0.1,normalize=True)\n",
    "lassoReg.fit(X_train,Y_train)\n",
    "predictions=lassoReg.predict(X_train)\n",
    "print('train')\n",
    "print(lassoReg.score(X_train,Y_train))\n",
    "print('test')\n",
    "print(lassoReg.score(X_test,Y_test))"
   ]
  },
  {
   "cell_type": "code",
   "execution_count": 74,
   "metadata": {},
   "outputs": [
    {
     "name": "stdout",
     "output_type": "stream",
     "text": [
      "train\n",
      "0.593621780293841\n",
      "test\n",
      "0.38926906952533863\n"
     ]
    }
   ],
   "source": [
    "lassoReg=Lasso(alpha=0.5,normalize=True)\n",
    "lassoReg.fit(X_train,Y_train)\n",
    "predictions=lassoReg.predict(X_train)\n",
    "print('train')\n",
    "print(lassoReg.score(X_train,Y_train))\n",
    "print('test')\n",
    "print(lassoReg.score(X_test,Y_test))"
   ]
  },
  {
   "cell_type": "code",
   "execution_count": 75,
   "metadata": {},
   "outputs": [
    {
     "name": "stdout",
     "output_type": "stream",
     "text": [
      "train\n",
      "0.904360992587092\n",
      "test\n",
      "-0.5001152003506633\n"
     ]
    }
   ],
   "source": [
    "lassoReg=Lasso(alpha=0.01,normalize=True)\n",
    "lassoReg.fit(X_train,Y_train)\n",
    "predictions=lassoReg.predict(X_train)\n",
    "print('train')\n",
    "print(lassoReg.score(X_train,Y_train))\n",
    "print('test')\n",
    "print(lassoReg.score(X_test,Y_test))"
   ]
  },
  {
   "cell_type": "code",
   "execution_count": 76,
   "metadata": {},
   "outputs": [
    {
     "name": "stdout",
     "output_type": "stream",
     "text": [
      "train\n",
      "0.7891987302413804\n",
      "test\n",
      "0.44321001474962\n"
     ]
    }
   ],
   "source": [
    "Y_train=np.array(Y_train)\n",
    "Y_train=Y_train.ravel()\n",
    "lassoc=LassoCV(cv=5,random_state=0).fit(X_train,Y_train)\n",
    "print('train')\n",
    "print(lassoc.score(X_train,Y_train))\n",
    "print('test')\n",
    "print(lassoc.score(X_test,Y_test))"
   ]
  },
  {
   "cell_type": "code",
   "execution_count": 82,
   "metadata": {},
   "outputs": [
    {
     "name": "stdout",
     "output_type": "stream",
     "text": [
      "train\n",
      "0.7987282617240632\n",
      "test\n",
      "0.4514886178574066\n"
     ]
    }
   ],
   "source": [
    "lassoc=LassoCV(cv=10,random_state=42).fit(X_train,Y_train)\n",
    "print('train')\n",
    "print(lassoc.score(X_train,Y_train))\n",
    "print('test')\n",
    "print(lassoc.score(X_test,Y_test))"
   ]
  },
  {
   "cell_type": "code",
   "execution_count": 79,
   "metadata": {},
   "outputs": [
    {
     "name": "stdout",
     "output_type": "stream",
     "text": [
      "train\n",
      "0.6999737202090186\n",
      "test\n",
      "0.4378390809143334\n"
     ]
    }
   ],
   "source": [
    "#from sklearn.linear_model import LassoCV\n",
    "lassoc=LassoCV(cv=50,random_state=0).fit(X_train,Y_train)\n",
    "print('train')\n",
    "print(lassoc.score(X_train,Y_train))\n",
    "print('test')\n",
    "print(lassoc.score(X_test,Y_test))"
   ]
  },
  {
   "cell_type": "code",
   "execution_count": 69,
   "metadata": {},
   "outputs": [],
   "source": [
    "from pandas import Series\n",
    "l=np.array(lassoc.coef_)\n",
    "l=l.flatten()\n",
    "predictors=X_train.columns\n",
    "coef=Series(l,predictors).sort_values(ascending=False)\n",
    "coef=pd.DataFrame(coef)\n",
    "coef.to_excel('250 gene + clinical Lasso.xlsx')"
   ]
  },
  {
   "cell_type": "code",
   "execution_count": null,
   "metadata": {},
   "outputs": [],
   "source": [
    "'''!!!!!!!!!!!!!!!!!!!!! 2k genes only !!!!!!!!!!!!!!!!!!!!!!'''"
   ]
  },
  {
   "cell_type": "code",
   "execution_count": 85,
   "metadata": {},
   "outputs": [],
   "source": [
    "dt3=pd.read_excel('selected gene no depth LUSC.xlsx')"
   ]
  },
  {
   "cell_type": "code",
   "execution_count": 86,
   "metadata": {},
   "outputs": [],
   "source": [
    "dt3=dt3.set_index(dt3.columns[0])"
   ]
  },
  {
   "cell_type": "code",
   "execution_count": 103,
   "metadata": {},
   "outputs": [
    {
     "name": "stdout",
     "output_type": "stream",
     "text": [
      "(350, 2783) (151, 2783)\n",
      "(350, 1) (151, 1)\n",
      " without CV\n",
      "------------------0.1-----------------\n",
      "train\n",
      "0.4611902682821237\n",
      "test\n",
      "-0.0938508996605536\n",
      "------------------0.5-------------------\n",
      "train\n",
      "0.0\n",
      "test\n",
      "-0.03597870518364821\n",
      "-------------------0.01------------------\n",
      "train\n",
      "0.9834950173802891\n",
      "test\n",
      "-1.8020608739774362\n",
      "With CV\n",
      "------------------cv=5-------------------\n"
     ]
    },
    {
     "name": "stderr",
     "output_type": "stream",
     "text": [
      "C:\\ProgramData\\Anaconda3\\lib\\site-packages\\sklearn\\linear_model\\coordinate_descent.py:491: ConvergenceWarning: Objective did not converge. You might want to increase the number of iterations. Fitting data with very small alpha may cause precision problems.\n",
      "  ConvergenceWarning)\n"
     ]
    },
    {
     "ename": "KeyboardInterrupt",
     "evalue": "",
     "output_type": "error",
     "traceback": [
      "\u001b[1;31m---------------------------------------------------------------------------\u001b[0m",
      "\u001b[1;31mKeyboardInterrupt\u001b[0m                         Traceback (most recent call last)",
      "\u001b[1;32m<ipython-input-103-bd328e391c33>\u001b[0m in \u001b[0;36m<module>\u001b[1;34m()\u001b[0m\n\u001b[0;32m     31\u001b[0m \u001b[0mY_train\u001b[0m\u001b[1;33m=\u001b[0m\u001b[0mnp\u001b[0m\u001b[1;33m.\u001b[0m\u001b[0marray\u001b[0m\u001b[1;33m(\u001b[0m\u001b[0mY_train\u001b[0m\u001b[1;33m)\u001b[0m\u001b[1;33m\u001b[0m\u001b[0m\n\u001b[0;32m     32\u001b[0m \u001b[0mY_train\u001b[0m\u001b[1;33m=\u001b[0m\u001b[0mY_train\u001b[0m\u001b[1;33m.\u001b[0m\u001b[0mravel\u001b[0m\u001b[1;33m(\u001b[0m\u001b[1;33m)\u001b[0m\u001b[1;33m\u001b[0m\u001b[0m\n\u001b[1;32m---> 33\u001b[1;33m \u001b[0mlassoc\u001b[0m\u001b[1;33m=\u001b[0m\u001b[0mLassoCV\u001b[0m\u001b[1;33m(\u001b[0m\u001b[0mcv\u001b[0m\u001b[1;33m=\u001b[0m\u001b[1;36m100\u001b[0m\u001b[1;33m,\u001b[0m\u001b[0mrandom_state\u001b[0m\u001b[1;33m=\u001b[0m\u001b[1;36m0\u001b[0m\u001b[1;33m,\u001b[0m\u001b[0mn_alphas\u001b[0m\u001b[1;33m=\u001b[0m\u001b[1;36m150\u001b[0m\u001b[1;33m,\u001b[0m\u001b[0malphas\u001b[0m\u001b[1;33m=\u001b[0m\u001b[1;32mNone\u001b[0m\u001b[1;33m,\u001b[0m\u001b[0mmax_iter\u001b[0m\u001b[1;33m=\u001b[0m\u001b[1;36m1500\u001b[0m\u001b[1;33m)\u001b[0m\u001b[1;33m.\u001b[0m\u001b[0mfit\u001b[0m\u001b[1;33m(\u001b[0m\u001b[0mX_train\u001b[0m\u001b[1;33m,\u001b[0m\u001b[0mY_train\u001b[0m\u001b[1;33m)\u001b[0m\u001b[1;33m\u001b[0m\u001b[0m\n\u001b[0m\u001b[0;32m     34\u001b[0m \u001b[0mprint\u001b[0m\u001b[1;33m(\u001b[0m\u001b[1;34m'train'\u001b[0m\u001b[1;33m)\u001b[0m\u001b[1;33m\u001b[0m\u001b[0m\n\u001b[0;32m     35\u001b[0m \u001b[0mprint\u001b[0m\u001b[1;33m(\u001b[0m\u001b[0mlassoc\u001b[0m\u001b[1;33m.\u001b[0m\u001b[0mscore\u001b[0m\u001b[1;33m(\u001b[0m\u001b[0mX_train\u001b[0m\u001b[1;33m,\u001b[0m\u001b[0mY_train\u001b[0m\u001b[1;33m)\u001b[0m\u001b[1;33m)\u001b[0m\u001b[1;33m\u001b[0m\u001b[0m\n",
      "\u001b[1;32mC:\\ProgramData\\Anaconda3\\lib\\site-packages\\sklearn\\linear_model\\coordinate_descent.py\u001b[0m in \u001b[0;36mfit\u001b[1;34m(self, X, y)\u001b[0m\n\u001b[0;32m   1190\u001b[0m                 for train, test in folds)\n\u001b[0;32m   1191\u001b[0m         mse_paths = Parallel(n_jobs=self.n_jobs, verbose=self.verbose,\n\u001b[1;32m-> 1192\u001b[1;33m                              backend=\"threading\")(jobs)\n\u001b[0m\u001b[0;32m   1193\u001b[0m         \u001b[0mmse_paths\u001b[0m \u001b[1;33m=\u001b[0m \u001b[0mnp\u001b[0m\u001b[1;33m.\u001b[0m\u001b[0mreshape\u001b[0m\u001b[1;33m(\u001b[0m\u001b[0mmse_paths\u001b[0m\u001b[1;33m,\u001b[0m \u001b[1;33m(\u001b[0m\u001b[0mn_l1_ratio\u001b[0m\u001b[1;33m,\u001b[0m \u001b[0mlen\u001b[0m\u001b[1;33m(\u001b[0m\u001b[0mfolds\u001b[0m\u001b[1;33m)\u001b[0m\u001b[1;33m,\u001b[0m \u001b[1;33m-\u001b[0m\u001b[1;36m1\u001b[0m\u001b[1;33m)\u001b[0m\u001b[1;33m)\u001b[0m\u001b[1;33m\u001b[0m\u001b[0m\n\u001b[0;32m   1194\u001b[0m         \u001b[0mmean_mse\u001b[0m \u001b[1;33m=\u001b[0m \u001b[0mnp\u001b[0m\u001b[1;33m.\u001b[0m\u001b[0mmean\u001b[0m\u001b[1;33m(\u001b[0m\u001b[0mmse_paths\u001b[0m\u001b[1;33m,\u001b[0m \u001b[0maxis\u001b[0m\u001b[1;33m=\u001b[0m\u001b[1;36m1\u001b[0m\u001b[1;33m)\u001b[0m\u001b[1;33m\u001b[0m\u001b[0m\n",
      "\u001b[1;32mC:\\ProgramData\\Anaconda3\\lib\\site-packages\\sklearn\\externals\\joblib\\parallel.py\u001b[0m in \u001b[0;36m__call__\u001b[1;34m(self, iterable)\u001b[0m\n\u001b[0;32m    777\u001b[0m             \u001b[1;31m# was dispatched. In particular this covers the edge\u001b[0m\u001b[1;33m\u001b[0m\u001b[1;33m\u001b[0m\u001b[0m\n\u001b[0;32m    778\u001b[0m             \u001b[1;31m# case of Parallel used with an exhausted iterator.\u001b[0m\u001b[1;33m\u001b[0m\u001b[1;33m\u001b[0m\u001b[0m\n\u001b[1;32m--> 779\u001b[1;33m             \u001b[1;32mwhile\u001b[0m \u001b[0mself\u001b[0m\u001b[1;33m.\u001b[0m\u001b[0mdispatch_one_batch\u001b[0m\u001b[1;33m(\u001b[0m\u001b[0miterator\u001b[0m\u001b[1;33m)\u001b[0m\u001b[1;33m:\u001b[0m\u001b[1;33m\u001b[0m\u001b[0m\n\u001b[0m\u001b[0;32m    780\u001b[0m                 \u001b[0mself\u001b[0m\u001b[1;33m.\u001b[0m\u001b[0m_iterating\u001b[0m \u001b[1;33m=\u001b[0m \u001b[1;32mTrue\u001b[0m\u001b[1;33m\u001b[0m\u001b[0m\n\u001b[0;32m    781\u001b[0m             \u001b[1;32melse\u001b[0m\u001b[1;33m:\u001b[0m\u001b[1;33m\u001b[0m\u001b[0m\n",
      "\u001b[1;32mC:\\ProgramData\\Anaconda3\\lib\\site-packages\\sklearn\\externals\\joblib\\parallel.py\u001b[0m in \u001b[0;36mdispatch_one_batch\u001b[1;34m(self, iterator)\u001b[0m\n\u001b[0;32m    623\u001b[0m                 \u001b[1;32mreturn\u001b[0m \u001b[1;32mFalse\u001b[0m\u001b[1;33m\u001b[0m\u001b[0m\n\u001b[0;32m    624\u001b[0m             \u001b[1;32melse\u001b[0m\u001b[1;33m:\u001b[0m\u001b[1;33m\u001b[0m\u001b[0m\n\u001b[1;32m--> 625\u001b[1;33m                 \u001b[0mself\u001b[0m\u001b[1;33m.\u001b[0m\u001b[0m_dispatch\u001b[0m\u001b[1;33m(\u001b[0m\u001b[0mtasks\u001b[0m\u001b[1;33m)\u001b[0m\u001b[1;33m\u001b[0m\u001b[0m\n\u001b[0m\u001b[0;32m    626\u001b[0m                 \u001b[1;32mreturn\u001b[0m \u001b[1;32mTrue\u001b[0m\u001b[1;33m\u001b[0m\u001b[0m\n\u001b[0;32m    627\u001b[0m \u001b[1;33m\u001b[0m\u001b[0m\n",
      "\u001b[1;32mC:\\ProgramData\\Anaconda3\\lib\\site-packages\\sklearn\\externals\\joblib\\parallel.py\u001b[0m in \u001b[0;36m_dispatch\u001b[1;34m(self, batch)\u001b[0m\n\u001b[0;32m    586\u001b[0m         \u001b[0mdispatch_timestamp\u001b[0m \u001b[1;33m=\u001b[0m \u001b[0mtime\u001b[0m\u001b[1;33m.\u001b[0m\u001b[0mtime\u001b[0m\u001b[1;33m(\u001b[0m\u001b[1;33m)\u001b[0m\u001b[1;33m\u001b[0m\u001b[0m\n\u001b[0;32m    587\u001b[0m         \u001b[0mcb\u001b[0m \u001b[1;33m=\u001b[0m \u001b[0mBatchCompletionCallBack\u001b[0m\u001b[1;33m(\u001b[0m\u001b[0mdispatch_timestamp\u001b[0m\u001b[1;33m,\u001b[0m \u001b[0mlen\u001b[0m\u001b[1;33m(\u001b[0m\u001b[0mbatch\u001b[0m\u001b[1;33m)\u001b[0m\u001b[1;33m,\u001b[0m \u001b[0mself\u001b[0m\u001b[1;33m)\u001b[0m\u001b[1;33m\u001b[0m\u001b[0m\n\u001b[1;32m--> 588\u001b[1;33m         \u001b[0mjob\u001b[0m \u001b[1;33m=\u001b[0m \u001b[0mself\u001b[0m\u001b[1;33m.\u001b[0m\u001b[0m_backend\u001b[0m\u001b[1;33m.\u001b[0m\u001b[0mapply_async\u001b[0m\u001b[1;33m(\u001b[0m\u001b[0mbatch\u001b[0m\u001b[1;33m,\u001b[0m \u001b[0mcallback\u001b[0m\u001b[1;33m=\u001b[0m\u001b[0mcb\u001b[0m\u001b[1;33m)\u001b[0m\u001b[1;33m\u001b[0m\u001b[0m\n\u001b[0m\u001b[0;32m    589\u001b[0m         \u001b[0mself\u001b[0m\u001b[1;33m.\u001b[0m\u001b[0m_jobs\u001b[0m\u001b[1;33m.\u001b[0m\u001b[0mappend\u001b[0m\u001b[1;33m(\u001b[0m\u001b[0mjob\u001b[0m\u001b[1;33m)\u001b[0m\u001b[1;33m\u001b[0m\u001b[0m\n\u001b[0;32m    590\u001b[0m \u001b[1;33m\u001b[0m\u001b[0m\n",
      "\u001b[1;32mC:\\ProgramData\\Anaconda3\\lib\\site-packages\\sklearn\\externals\\joblib\\_parallel_backends.py\u001b[0m in \u001b[0;36mapply_async\u001b[1;34m(self, func, callback)\u001b[0m\n\u001b[0;32m    109\u001b[0m     \u001b[1;32mdef\u001b[0m \u001b[0mapply_async\u001b[0m\u001b[1;33m(\u001b[0m\u001b[0mself\u001b[0m\u001b[1;33m,\u001b[0m \u001b[0mfunc\u001b[0m\u001b[1;33m,\u001b[0m \u001b[0mcallback\u001b[0m\u001b[1;33m=\u001b[0m\u001b[1;32mNone\u001b[0m\u001b[1;33m)\u001b[0m\u001b[1;33m:\u001b[0m\u001b[1;33m\u001b[0m\u001b[0m\n\u001b[0;32m    110\u001b[0m         \u001b[1;34m\"\"\"Schedule a func to be run\"\"\"\u001b[0m\u001b[1;33m\u001b[0m\u001b[0m\n\u001b[1;32m--> 111\u001b[1;33m         \u001b[0mresult\u001b[0m \u001b[1;33m=\u001b[0m \u001b[0mImmediateResult\u001b[0m\u001b[1;33m(\u001b[0m\u001b[0mfunc\u001b[0m\u001b[1;33m)\u001b[0m\u001b[1;33m\u001b[0m\u001b[0m\n\u001b[0m\u001b[0;32m    112\u001b[0m         \u001b[1;32mif\u001b[0m \u001b[0mcallback\u001b[0m\u001b[1;33m:\u001b[0m\u001b[1;33m\u001b[0m\u001b[0m\n\u001b[0;32m    113\u001b[0m             \u001b[0mcallback\u001b[0m\u001b[1;33m(\u001b[0m\u001b[0mresult\u001b[0m\u001b[1;33m)\u001b[0m\u001b[1;33m\u001b[0m\u001b[0m\n",
      "\u001b[1;32mC:\\ProgramData\\Anaconda3\\lib\\site-packages\\sklearn\\externals\\joblib\\_parallel_backends.py\u001b[0m in \u001b[0;36m__init__\u001b[1;34m(self, batch)\u001b[0m\n\u001b[0;32m    330\u001b[0m         \u001b[1;31m# Don't delay the application, to avoid keeping the input\u001b[0m\u001b[1;33m\u001b[0m\u001b[1;33m\u001b[0m\u001b[0m\n\u001b[0;32m    331\u001b[0m         \u001b[1;31m# arguments in memory\u001b[0m\u001b[1;33m\u001b[0m\u001b[1;33m\u001b[0m\u001b[0m\n\u001b[1;32m--> 332\u001b[1;33m         \u001b[0mself\u001b[0m\u001b[1;33m.\u001b[0m\u001b[0mresults\u001b[0m \u001b[1;33m=\u001b[0m \u001b[0mbatch\u001b[0m\u001b[1;33m(\u001b[0m\u001b[1;33m)\u001b[0m\u001b[1;33m\u001b[0m\u001b[0m\n\u001b[0m\u001b[0;32m    333\u001b[0m \u001b[1;33m\u001b[0m\u001b[0m\n\u001b[0;32m    334\u001b[0m     \u001b[1;32mdef\u001b[0m \u001b[0mget\u001b[0m\u001b[1;33m(\u001b[0m\u001b[0mself\u001b[0m\u001b[1;33m)\u001b[0m\u001b[1;33m:\u001b[0m\u001b[1;33m\u001b[0m\u001b[0m\n",
      "\u001b[1;32mC:\\ProgramData\\Anaconda3\\lib\\site-packages\\sklearn\\externals\\joblib\\parallel.py\u001b[0m in \u001b[0;36m__call__\u001b[1;34m(self)\u001b[0m\n\u001b[0;32m    129\u001b[0m \u001b[1;33m\u001b[0m\u001b[0m\n\u001b[0;32m    130\u001b[0m     \u001b[1;32mdef\u001b[0m \u001b[0m__call__\u001b[0m\u001b[1;33m(\u001b[0m\u001b[0mself\u001b[0m\u001b[1;33m)\u001b[0m\u001b[1;33m:\u001b[0m\u001b[1;33m\u001b[0m\u001b[0m\n\u001b[1;32m--> 131\u001b[1;33m         \u001b[1;32mreturn\u001b[0m \u001b[1;33m[\u001b[0m\u001b[0mfunc\u001b[0m\u001b[1;33m(\u001b[0m\u001b[1;33m*\u001b[0m\u001b[0margs\u001b[0m\u001b[1;33m,\u001b[0m \u001b[1;33m**\u001b[0m\u001b[0mkwargs\u001b[0m\u001b[1;33m)\u001b[0m \u001b[1;32mfor\u001b[0m \u001b[0mfunc\u001b[0m\u001b[1;33m,\u001b[0m \u001b[0margs\u001b[0m\u001b[1;33m,\u001b[0m \u001b[0mkwargs\u001b[0m \u001b[1;32min\u001b[0m \u001b[0mself\u001b[0m\u001b[1;33m.\u001b[0m\u001b[0mitems\u001b[0m\u001b[1;33m]\u001b[0m\u001b[1;33m\u001b[0m\u001b[0m\n\u001b[0m\u001b[0;32m    132\u001b[0m \u001b[1;33m\u001b[0m\u001b[0m\n\u001b[0;32m    133\u001b[0m     \u001b[1;32mdef\u001b[0m \u001b[0m__len__\u001b[0m\u001b[1;33m(\u001b[0m\u001b[0mself\u001b[0m\u001b[1;33m)\u001b[0m\u001b[1;33m:\u001b[0m\u001b[1;33m\u001b[0m\u001b[0m\n",
      "\u001b[1;32mC:\\ProgramData\\Anaconda3\\lib\\site-packages\\sklearn\\externals\\joblib\\parallel.py\u001b[0m in \u001b[0;36m<listcomp>\u001b[1;34m(.0)\u001b[0m\n\u001b[0;32m    129\u001b[0m \u001b[1;33m\u001b[0m\u001b[0m\n\u001b[0;32m    130\u001b[0m     \u001b[1;32mdef\u001b[0m \u001b[0m__call__\u001b[0m\u001b[1;33m(\u001b[0m\u001b[0mself\u001b[0m\u001b[1;33m)\u001b[0m\u001b[1;33m:\u001b[0m\u001b[1;33m\u001b[0m\u001b[0m\n\u001b[1;32m--> 131\u001b[1;33m         \u001b[1;32mreturn\u001b[0m \u001b[1;33m[\u001b[0m\u001b[0mfunc\u001b[0m\u001b[1;33m(\u001b[0m\u001b[1;33m*\u001b[0m\u001b[0margs\u001b[0m\u001b[1;33m,\u001b[0m \u001b[1;33m**\u001b[0m\u001b[0mkwargs\u001b[0m\u001b[1;33m)\u001b[0m \u001b[1;32mfor\u001b[0m \u001b[0mfunc\u001b[0m\u001b[1;33m,\u001b[0m \u001b[0margs\u001b[0m\u001b[1;33m,\u001b[0m \u001b[0mkwargs\u001b[0m \u001b[1;32min\u001b[0m \u001b[0mself\u001b[0m\u001b[1;33m.\u001b[0m\u001b[0mitems\u001b[0m\u001b[1;33m]\u001b[0m\u001b[1;33m\u001b[0m\u001b[0m\n\u001b[0m\u001b[0;32m    132\u001b[0m \u001b[1;33m\u001b[0m\u001b[0m\n\u001b[0;32m    133\u001b[0m     \u001b[1;32mdef\u001b[0m \u001b[0m__len__\u001b[0m\u001b[1;33m(\u001b[0m\u001b[0mself\u001b[0m\u001b[1;33m)\u001b[0m\u001b[1;33m:\u001b[0m\u001b[1;33m\u001b[0m\u001b[0m\n",
      "\u001b[1;32mC:\\ProgramData\\Anaconda3\\lib\\site-packages\\sklearn\\linear_model\\coordinate_descent.py\u001b[0m in \u001b[0;36m_path_residuals\u001b[1;34m(X, y, train, test, path, path_params, alphas, l1_ratio, X_order, dtype)\u001b[0m\n\u001b[0;32m   1005\u001b[0m     \u001b[1;31m# X is copied and a reference is kept here\u001b[0m\u001b[1;33m\u001b[0m\u001b[1;33m\u001b[0m\u001b[0m\n\u001b[0;32m   1006\u001b[0m     \u001b[0mX_train\u001b[0m \u001b[1;33m=\u001b[0m \u001b[0mcheck_array\u001b[0m\u001b[1;33m(\u001b[0m\u001b[0mX_train\u001b[0m\u001b[1;33m,\u001b[0m \u001b[1;34m'csc'\u001b[0m\u001b[1;33m,\u001b[0m \u001b[0mdtype\u001b[0m\u001b[1;33m=\u001b[0m\u001b[0mdtype\u001b[0m\u001b[1;33m,\u001b[0m \u001b[0morder\u001b[0m\u001b[1;33m=\u001b[0m\u001b[0mX_order\u001b[0m\u001b[1;33m)\u001b[0m\u001b[1;33m\u001b[0m\u001b[0m\n\u001b[1;32m-> 1007\u001b[1;33m     \u001b[0malphas\u001b[0m\u001b[1;33m,\u001b[0m \u001b[0mcoefs\u001b[0m\u001b[1;33m,\u001b[0m \u001b[0m_\u001b[0m \u001b[1;33m=\u001b[0m \u001b[0mpath\u001b[0m\u001b[1;33m(\u001b[0m\u001b[0mX_train\u001b[0m\u001b[1;33m,\u001b[0m \u001b[0my_train\u001b[0m\u001b[1;33m,\u001b[0m \u001b[1;33m**\u001b[0m\u001b[0mpath_params\u001b[0m\u001b[1;33m)\u001b[0m\u001b[1;33m\u001b[0m\u001b[0m\n\u001b[0m\u001b[0;32m   1008\u001b[0m     \u001b[1;32mdel\u001b[0m \u001b[0mX_train\u001b[0m\u001b[1;33m,\u001b[0m \u001b[0my_train\u001b[0m\u001b[1;33m\u001b[0m\u001b[0m\n\u001b[0;32m   1009\u001b[0m \u001b[1;33m\u001b[0m\u001b[0m\n",
      "\u001b[1;32mC:\\ProgramData\\Anaconda3\\lib\\site-packages\\sklearn\\linear_model\\coordinate_descent.py\u001b[0m in \u001b[0;36mlasso_path\u001b[1;34m(X, y, eps, n_alphas, alphas, precompute, Xy, copy_X, coef_init, verbose, return_n_iter, positive, **params)\u001b[0m\n\u001b[0;32m    263\u001b[0m                      \u001b[0malphas\u001b[0m\u001b[1;33m=\u001b[0m\u001b[0malphas\u001b[0m\u001b[1;33m,\u001b[0m \u001b[0mprecompute\u001b[0m\u001b[1;33m=\u001b[0m\u001b[0mprecompute\u001b[0m\u001b[1;33m,\u001b[0m \u001b[0mXy\u001b[0m\u001b[1;33m=\u001b[0m\u001b[0mXy\u001b[0m\u001b[1;33m,\u001b[0m\u001b[1;33m\u001b[0m\u001b[0m\n\u001b[0;32m    264\u001b[0m                      \u001b[0mcopy_X\u001b[0m\u001b[1;33m=\u001b[0m\u001b[0mcopy_X\u001b[0m\u001b[1;33m,\u001b[0m \u001b[0mcoef_init\u001b[0m\u001b[1;33m=\u001b[0m\u001b[0mcoef_init\u001b[0m\u001b[1;33m,\u001b[0m \u001b[0mverbose\u001b[0m\u001b[1;33m=\u001b[0m\u001b[0mverbose\u001b[0m\u001b[1;33m,\u001b[0m\u001b[1;33m\u001b[0m\u001b[0m\n\u001b[1;32m--> 265\u001b[1;33m                      positive=positive, return_n_iter=return_n_iter, **params)\n\u001b[0m\u001b[0;32m    266\u001b[0m \u001b[1;33m\u001b[0m\u001b[0m\n\u001b[0;32m    267\u001b[0m \u001b[1;33m\u001b[0m\u001b[0m\n",
      "\u001b[1;32mC:\\ProgramData\\Anaconda3\\lib\\site-packages\\sklearn\\linear_model\\coordinate_descent.py\u001b[0m in \u001b[0;36menet_path\u001b[1;34m(X, y, l1_ratio, eps, n_alphas, alphas, precompute, Xy, copy_X, coef_init, verbose, return_n_iter, positive, check_input, **params)\u001b[0m\n\u001b[0;32m    475\u001b[0m             model = cd_fast.enet_coordinate_descent(\n\u001b[0;32m    476\u001b[0m                 \u001b[0mcoef_\u001b[0m\u001b[1;33m,\u001b[0m \u001b[0ml1_reg\u001b[0m\u001b[1;33m,\u001b[0m \u001b[0ml2_reg\u001b[0m\u001b[1;33m,\u001b[0m \u001b[0mX\u001b[0m\u001b[1;33m,\u001b[0m \u001b[0my\u001b[0m\u001b[1;33m,\u001b[0m \u001b[0mmax_iter\u001b[0m\u001b[1;33m,\u001b[0m \u001b[0mtol\u001b[0m\u001b[1;33m,\u001b[0m \u001b[0mrng\u001b[0m\u001b[1;33m,\u001b[0m \u001b[0mrandom\u001b[0m\u001b[1;33m,\u001b[0m\u001b[1;33m\u001b[0m\u001b[0m\n\u001b[1;32m--> 477\u001b[1;33m                 positive)\n\u001b[0m\u001b[0;32m    478\u001b[0m         \u001b[1;32melse\u001b[0m\u001b[1;33m:\u001b[0m\u001b[1;33m\u001b[0m\u001b[0m\n\u001b[0;32m    479\u001b[0m             raise ValueError(\"Precompute should be one of True, False, \"\n",
      "\u001b[1;31mKeyboardInterrupt\u001b[0m: "
     ]
    }
   ],
   "source": [
    "X_train,X_test,Y_train,Y_test=train_test_split(dt3,Y,test_size=0.3,random_state=42)\n",
    "print(X_train.shape,X_test.shape)\n",
    "print(Y_train.shape,Y_test.shape)\n",
    "print(\" without CV\")\n",
    "print(\"------------------0.1-----------------\")\n",
    "lassoReg=Lasso(alpha=0.1,normalize=True)\n",
    "lassoReg.fit(X_train,Y_train)\n",
    "predictions=lassoReg.predict(X_train)\n",
    "print('train')\n",
    "print(lassoReg.score(X_train,Y_train))\n",
    "print('test')\n",
    "print(lassoReg.score(X_test,Y_test))\n",
    "print(\"------------------0.5-------------------\")\n",
    "lassoReg=Lasso(alpha=0.5,normalize=True)\n",
    "lassoReg.fit(X_train,Y_train)\n",
    "predictions=lassoReg.predict(X_train)\n",
    "print('train')\n",
    "print(lassoReg.score(X_train,Y_train))\n",
    "print('test')\n",
    "print(lassoReg.score(X_test,Y_test))\n",
    "print(\"-------------------0.01------------------\")\n",
    "lassoReg=Lasso(alpha=0.01,normalize=True)\n",
    "lassoReg.fit(X_train,Y_train)\n",
    "predictions=lassoReg.predict(X_train)\n",
    "print('train')\n",
    "print(lassoReg.score(X_train,Y_train))\n",
    "print('test')\n",
    "print(lassoReg.score(X_test,Y_test))\n",
    "print(\"With CV\")\n",
    "print(\"------------------cv=5-------------------\")\n",
    "Y_train=np.array(Y_train)\n",
    "Y_train=Y_train.ravel()\n",
    "lassoc=LassoCV(cv=50,random_state=0,n_alphas=150).fit(X_train,Y_train)\n",
    "print('train')\n",
    "print(lassoc.score(X_train,Y_train))\n",
    "print('test')\n",
    "print(lassoc.score(X_test,Y_test))\n",
    "print(\"-----------------cv=10---------------------\")\n",
    "Y_train=np.array(Y_train)\n",
    "Y_train=Y_train.ravel()\n",
    "lassoc=LassoCV(cv=80,random_state=0,max_iter=1600,n_alphas=300).fit(X_train,Y_train)\n",
    "print('train')\n",
    "print(lassoc.score(X_train,Y_train))\n",
    "print('test')\n",
    "print(lassoc.score(X_test,Y_test))\n",
    "print(\"-----------------cv=20------------------------\")\n",
    "Y_train=np.array(Y_train)\n",
    "Y_train=Y_train.ravel()\n",
    "lassoc=LassoCV(cv=150,random_state=0,max_iter=1600,n_alphas=300).fit(X_train,Y_train)\n",
    "print('train')\n",
    "print(lassoc.score(X_train,Y_train))\n",
    "print('test')\n",
    "print(lassoc.score(X_test,Y_test))"
   ]
  },
  {
   "cell_type": "code",
   "execution_count": null,
   "metadata": {},
   "outputs": [],
   "source": [
    "'''!!!!!!!!!!!!!!!1  2k genes and clinical data!!!!!!!!!!!!!!!!!!!'''"
   ]
  },
  {
   "cell_type": "code",
   "execution_count": 104,
   "metadata": {},
   "outputs": [],
   "source": [
    "dt4=pd.read_excel('selected gene no depth LUSC.xlsx')"
   ]
  },
  {
   "cell_type": "code",
   "execution_count": 105,
   "metadata": {},
   "outputs": [],
   "source": [
    "dt4=dt4.set_index(dt4.columns[0])"
   ]
  },
  {
   "cell_type": "code",
   "execution_count": 106,
   "metadata": {},
   "outputs": [],
   "source": [
    "import numpy as np\n",
    "from pandas import Series\n"
   ]
  },
  {
   "cell_type": "code",
   "execution_count": 107,
   "metadata": {},
   "outputs": [
    {
     "name": "stdout",
     "output_type": "stream",
     "text": [
      "(350, 2794) (151, 2794)\n",
      "(350, 1) (151, 1)\n",
      " without CV\n",
      "------------------0.1-----------------\n",
      "train\n",
      "0.75173949309071\n",
      "test\n",
      "0.4386400869709053\n",
      "------------------0.5-------------------\n",
      "train\n",
      "0.593621780293841\n",
      "test\n",
      "0.38926906952533863\n",
      "-------------------0.01------------------\n",
      "train\n",
      "0.9850675844857628\n",
      "test\n",
      "-1.179453761196645\n",
      "--------------0.05-----------------------\n",
      "train\n",
      "0.8519201956923541\n",
      "test\n",
      "0.3002882873088871\n",
      "With CV\n",
      "------------------cv=5-------------------\n"
     ]
    },
    {
     "name": "stderr",
     "output_type": "stream",
     "text": [
      "C:\\ProgramData\\Anaconda3\\lib\\site-packages\\sklearn\\linear_model\\coordinate_descent.py:491: ConvergenceWarning: Objective did not converge. You might want to increase the number of iterations. Fitting data with very small alpha may cause precision problems.\n",
      "  ConvergenceWarning)\n"
     ]
    },
    {
     "name": "stdout",
     "output_type": "stream",
     "text": [
      "train\n",
      "0.7126021583423856\n",
      "test\n",
      "0.43398678105879623\n",
      "-----------------cv=10---------------------\n"
     ]
    },
    {
     "name": "stderr",
     "output_type": "stream",
     "text": [
      "C:\\ProgramData\\Anaconda3\\lib\\site-packages\\sklearn\\linear_model\\coordinate_descent.py:491: ConvergenceWarning: Objective did not converge. You might want to increase the number of iterations. Fitting data with very small alpha may cause precision problems.\n",
      "  ConvergenceWarning)\n"
     ]
    },
    {
     "name": "stdout",
     "output_type": "stream",
     "text": [
      "train\n",
      "0.7127248915826343\n",
      "test\n",
      "0.433923344568217\n",
      "-----------------cv=20------------------------\n"
     ]
    },
    {
     "name": "stderr",
     "output_type": "stream",
     "text": [
      "C:\\ProgramData\\Anaconda3\\lib\\site-packages\\sklearn\\linear_model\\coordinate_descent.py:491: ConvergenceWarning: Objective did not converge. You might want to increase the number of iterations. Fitting data with very small alpha may cause precision problems.\n",
      "  ConvergenceWarning)\n"
     ]
    },
    {
     "name": "stdout",
     "output_type": "stream",
     "text": [
      "train\n",
      "0.7091631139466754\n",
      "test\n",
      "0.43551008888472864\n"
     ]
    }
   ],
   "source": [
    "X_train,X_test,Y_train,Y_test=train_test_split(dt4,Y,test_size=0.3,random_state=42)\n",
    "print(X_train.shape,X_test.shape)\n",
    "print(Y_train.shape,Y_test.shape)\n",
    "print(\" without CV\")\n",
    "print(\"------------------0.1-----------------\")\n",
    "lassoReg=Lasso(alpha=0.1,normalize=True)\n",
    "lassoReg.fit(X_train,Y_train)\n",
    "predictions=lassoReg.predict(X_train)\n",
    "print('train')\n",
    "print(lassoReg.score(X_train,Y_train))\n",
    "print('test')\n",
    "print(lassoReg.score(X_test,Y_test))\n",
    "print(\"------------------0.5-------------------\")\n",
    "lassoReg=Lasso(alpha=0.5,normalize=True)\n",
    "lassoReg.fit(X_train,Y_train)\n",
    "predictions=lassoReg.predict(X_train)\n",
    "print('train')\n",
    "print(lassoReg.score(X_train,Y_train))\n",
    "print('test')\n",
    "print(lassoReg.score(X_test,Y_test))\n",
    "print(\"-------------------0.01------------------\")\n",
    "lassoReg=Lasso(alpha=0.01,normalize=True)\n",
    "lassoReg.fit(X_train,Y_train)\n",
    "predictions=lassoReg.predict(X_train)\n",
    "print('train')\n",
    "print(lassoReg.score(X_train,Y_train))\n",
    "print('test')\n",
    "print(lassoReg.score(X_test,Y_test))\n",
    "print('--------------0.05-----------------------')\n",
    "lassoReg=Lasso(alpha=0.05,normalize=True)\n",
    "lassoReg.fit(X_train,Y_train)\n",
    "predictions=lassoReg.predict(X_train)\n",
    "print('train')\n",
    "print(lassoReg.score(X_train,Y_train))\n",
    "print('test')\n",
    "print(lassoReg.score(X_test,Y_test))\n",
    "print(\"With CV\")\n",
    "print(\"------------------cv=5-------------------\")\n",
    "Y_train=np.array(Y_train)\n",
    "Y_train=Y_train.ravel()\n",
    "lassoc=LassoCV(cv=50,random_state=0,n_alphas=150).fit(X_train,Y_train)\n",
    "print('train')\n",
    "print(lassoc.score(X_train,Y_train))\n",
    "print('test')\n",
    "print(lassoc.score(X_test,Y_test))\n",
    "print(\"-----------------cv=10---------------------\")\n",
    "Y_train=np.array(Y_train)\n",
    "Y_train=Y_train.ravel()\n",
    "lassoc=LassoCV(cv=80,random_state=0,max_iter=1600,n_alphas=300).fit(X_train,Y_train)\n",
    "print('train')\n",
    "print(lassoc.score(X_train,Y_train))\n",
    "print('test')\n",
    "print(lassoc.score(X_test,Y_test))\n",
    "print(\"-----------------cv=20------------------------\")\n",
    "Y_train=np.array(Y_train)\n",
    "Y_train=Y_train.ravel()\n",
    "lassoc=LassoCV(cv=150,random_state=0,max_iter=1600,n_alphas=300).fit(X_train,Y_train)\n",
    "print('train')\n",
    "print(lassoc.score(X_train,Y_train))\n",
    "print('test')\n",
    "print(lassoc.score(X_test,Y_test))"
   ]
  },
  {
   "cell_type": "code",
   "execution_count": null,
   "metadata": {},
   "outputs": [],
   "source": []
  },
  {
   "cell_type": "code",
   "execution_count": null,
   "metadata": {},
   "outputs": [],
   "source": []
  },
  {
   "cell_type": "code",
   "execution_count": null,
   "metadata": {},
   "outputs": [],
   "source": []
  },
  {
   "cell_type": "code",
   "execution_count": null,
   "metadata": {},
   "outputs": [],
   "source": []
  },
  {
   "cell_type": "code",
   "execution_count": null,
   "metadata": {},
   "outputs": [],
   "source": []
  },
  {
   "cell_type": "code",
   "execution_count": null,
   "metadata": {},
   "outputs": [],
   "source": []
  },
  {
   "cell_type": "code",
   "execution_count": null,
   "metadata": {},
   "outputs": [],
   "source": []
  }
 ],
 "metadata": {
  "kernelspec": {
   "display_name": "Python 3",
   "language": "python",
   "name": "python3"
  },
  "language_info": {
   "codemirror_mode": {
    "name": "ipython",
    "version": 3
   },
   "file_extension": ".py",
   "mimetype": "text/x-python",
   "name": "python",
   "nbconvert_exporter": "python",
   "pygments_lexer": "ipython3",
   "version": "3.6.5"
  }
 },
 "nbformat": 4,
 "nbformat_minor": 2
}
