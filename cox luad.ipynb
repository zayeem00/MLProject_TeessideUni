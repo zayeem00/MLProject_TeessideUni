{
 "cells": [
  {
   "cell_type": "code",
   "execution_count": 3,
   "metadata": {},
   "outputs": [],
   "source": [
    "import sksurv\n",
    "import os\n",
    "import pandas as pd"
   ]
  },
  {
   "cell_type": "code",
   "execution_count": 4,
   "metadata": {},
   "outputs": [],
   "source": [
    "os.chdir('C:\\\\Users\\\\v8307436\\\\Downloads\\\\ProjectDataset')"
   ]
  },
  {
   "cell_type": "code",
   "execution_count": 5,
   "metadata": {},
   "outputs": [],
   "source": [
    "dt=pd.read_excel('selected genes LUAD.xlsx')\n"
   ]
  },
  {
   "cell_type": "code",
   "execution_count": 17,
   "metadata": {},
   "outputs": [],
   "source": [
    "dt=dt.set_index(dt.columns[0])"
   ]
  },
  {
   "cell_type": "code",
   "execution_count": 7,
   "metadata": {},
   "outputs": [],
   "source": [
    "c=pd.read_excel('cox Luad.xlsx')"
   ]
  },
  {
   "cell_type": "code",
   "execution_count": 14,
   "metadata": {},
   "outputs": [],
   "source": [
    "result=c.to_records(index=False)"
   ]
  },
  {
   "cell_type": "code",
   "execution_count": 12,
   "metadata": {},
   "outputs": [],
   "source": [
    "c['Patient\\'s Vital Status' ]=c['Patient\\'s Vital Status' ].astype('bool')"
   ]
  },
  {
   "cell_type": "code",
   "execution_count": 27,
   "metadata": {},
   "outputs": [
    {
     "name": "stdout",
     "output_type": "stream",
     "text": [
      "Index(['Patient's Vital Status', 'Survival '], dtype='object')\n"
     ]
    }
   ],
   "source": [
    "print(c.columns)"
   ]
  },
  {
   "cell_type": "code",
   "execution_count": 18,
   "metadata": {},
   "outputs": [
    {
     "data": {
      "text/plain": [
       "CoxPHSurvivalAnalysis(alpha=0, n_iter=100, tol=1e-09, verbose=0)"
      ]
     },
     "execution_count": 18,
     "metadata": {},
     "output_type": "execute_result"
    }
   ],
   "source": [
    "from sksurv.linear_model import CoxPHSurvivalAnalysis\n",
    "estimator = CoxPHSurvivalAnalysis()\n",
    "estimator.fit(dt, result)\n"
   ]
  },
  {
   "cell_type": "code",
   "execution_count": 19,
   "metadata": {},
   "outputs": [
    {
     "data": {
      "text/plain": [
       "ABCD2                                                                0.057516\n",
       "ABLIM1                                                               1.004436\n",
       "ABRA                                                                 0.491482\n",
       "ACD                                                                 -1.760880\n",
       "ACOT13                                                              -0.559188\n",
       "ACOT8                                                               -0.702629\n",
       "ACSM5                                                                0.386141\n",
       "ADAMDEC1                                                             0.395422\n",
       "ADRA1D                                                              -0.207290\n",
       "AGBL4                                                               -0.343222\n",
       "AKAP11                                                              -0.472190\n",
       "ALDH8A1                                                             -0.083640\n",
       "ALKBH4                                                              -0.374561\n",
       "ANGPTL1                                                              0.256051\n",
       "ANKRD11                                                             -0.091072\n",
       "ANKRD28                                                             -0.252301\n",
       "ARHGAP8                                                              0.937059\n",
       "ARHGEF3                                                             -0.053469\n",
       "ARID2                                                               -0.857322\n",
       "ARPC1A                                                               0.224539\n",
       "ARRDC2                                                               0.203510\n",
       "ATP6AP2                                                             -0.212538\n",
       "ATP6V1E2                                                            -0.540390\n",
       "AUH                                                                  0.947366\n",
       "PRRC2C                                                              -0.802676\n",
       "BCL7C                                                                1.066517\n",
       "BIRC8                                                               -0.332780\n",
       "BMP6                                                                 0.210447\n",
       "BSN                                                                  1.589526\n",
       "BTBD10                                                              -0.316988\n",
       "                                                                      ...    \n",
       "RNU11                                                                0.169737\n",
       "RPS24                                                               -0.183688\n",
       "SAA1                                                                 0.338388\n",
       "SAMD9L                                                               0.505578\n",
       "SCRG1                                                               -0.773161\n",
       "SELPLG                                                               0.548423\n",
       "SEMA3G                                                              -0.514031\n",
       "SEPHS2                                                              -0.492803\n",
       "SERPINB10                                                            0.229771\n",
       "SFTPA1                                                               0.769170\n",
       "ARHGEF26                                                             0.022436\n",
       "SIGLEC6                                                             -1.559474\n",
       "SKA1                                                                 0.839732\n",
       "SKINTL                                                              -0.010322\n",
       "SLC17A7                                                              0.866645\n",
       "SLC22A18AS                                                          -0.055388\n",
       "SLC25A37                                                            -2.182426\n",
       "SLC30A2                                                             -1.223726\n",
       "SLC41A2                                                             -0.105996\n",
       "SLC44A5                                                              0.197656\n",
       "Diagnosis Age                                                       -0.057689\n",
       "Sex                                                                 -1.106261\n",
       "Disease Free (Months)                                               -0.406194\n",
       "Person Cigarette Smoking History Pack Year Value                    -0.012504\n",
       "Fraction Genome Altered                                             -3.975308\n",
       "Overall Survival Status                                            143.311649\n",
       "Disease Free Status                                                 -7.513154\n",
       "Person Neoplasm Status                                               2.668891\n",
       "Primary Tumor Site                                                   0.138113\n",
       "Neoplasm Disease Stage American Joint Committee on Cancer Code3      0.093375\n",
       "Length: 260, dtype: float64"
      ]
     },
     "execution_count": 19,
     "metadata": {},
     "output_type": "execute_result"
    }
   ],
   "source": [
    "pd.Series(estimator.coef_, index=dt.columns)"
   ]
  },
  {
   "cell_type": "code",
   "execution_count": 28,
   "metadata": {},
   "outputs": [
    {
     "data": {
      "text/plain": [
       "0.9629534219016426"
      ]
     },
     "execution_count": 28,
     "metadata": {},
     "output_type": "execute_result"
    }
   ],
   "source": [
    "from sksurv.metrics import concordance_index_censored\n",
    "\n",
    "prediction = estimator.predict(dt)\n",
    "result = concordance_index_censored(c['Patient\\'s Vital Status'], c['Survival '], prediction)\n",
    "result[0]"
   ]
  },
  {
   "cell_type": "code",
   "execution_count": 29,
   "metadata": {},
   "outputs": [
    {
     "data": {
      "text/plain": [
       "Text(0.5,0,'time $t$')"
      ]
     },
     "execution_count": 29,
     "metadata": {},
     "output_type": "execute_result"
    },
    {
     "data": {
      "image/png": "[encoded data removed]",
      "text/plain": [
       "<Figure size 432x288 with 1 Axes>"
      ]
     },
     "metadata": {},
     "output_type": "display_data"
    }
   ],
   "source": [
    "%matplotlib inline\n",
    "import matplotlib.pyplot as plt\n",
    "from sksurv.nonparametric import kaplan_meier_estimator\n",
    "\n",
    "time, survival_prob = kaplan_meier_estimator(c['Patient\\'s Vital Status'], c['Survival '])\n",
    "plt.step(time, survival_prob, where=\"post\")\n",
    "plt.ylabel(\"est. probability of survival $\\hat{S}(t)$\")\n",
    "plt.xlabel(\"time $t$\")"
   ]
  },
  {
   "cell_type": "code",
   "execution_count": null,
   "metadata": {},
   "outputs": [],
   "source": []
  }
 ],
 "metadata": {
  "kernelspec": {
   "display_name": "Python 3",
   "language": "python",
   "name": "python3"
  },
  "language_info": {
   "codemirror_mode": {
    "name": "ipython",
    "version": 3
   },
   "file_extension": ".py",
   "mimetype": "text/x-python",
   "name": "python",
   "nbconvert_exporter": "python",
   "pygments_lexer": "ipython3",
   "version": "3.6.5"
  }
 },
 "nbformat": 4,
 "nbformat_minor": 2
}
