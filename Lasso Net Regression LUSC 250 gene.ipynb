{
 "cells": [
  {
   "cell_type": "code",
   "execution_count": 8,
   "metadata": {},
   "outputs": [],
   "source": [
    "#Higher  values of alpha give better scores\n",
    "import pandas as pd\n",
    "import os\n",
    "import matplotlib.pyplot as plt\n",
    "from sklearn import linear_model\n",
    "from sklearn.model_selection import train_test_split\n",
    "from sklearn.model_selection import cross_val_score\n",
    "from sklearn.linear_model import Lasso\n",
    "from sklearn.linear_model import LassoCV"
   ]
  },
  {
   "cell_type": "code",
   "execution_count": 9,
   "metadata": {},
   "outputs": [],
   "source": [
    "os.chdir('U:\\\\More Data')"
   ]
  },
  {
   "cell_type": "code",
   "execution_count": 10,
   "metadata": {},
   "outputs": [],
   "source": [
    "dt=pd.read_excel('LUSC_300.xlsx')"
   ]
  },
  {
   "cell_type": "code",
   "execution_count": 11,
   "metadata": {},
   "outputs": [],
   "source": [
    "dt=dt.set_index(dt.columns[0])"
   ]
  },
  {
   "cell_type": "code",
   "execution_count": 12,
   "metadata": {},
   "outputs": [],
   "source": [
    "tar=pd.read_excel('survival_LUSC.xlsx')"
   ]
  },
  {
   "cell_type": "code",
   "execution_count": 13,
   "metadata": {},
   "outputs": [],
   "source": [
    "from sklearn.model_selection import train_test_split"
   ]
  },
  {
   "cell_type": "code",
   "execution_count": 14,
   "metadata": {},
   "outputs": [
    {
     "name": "stdout",
     "output_type": "stream",
     "text": [
      "(350, 300) (350, 1)\n",
      "(151, 300) (151, 1)\n"
     ]
    }
   ],
   "source": [
    "Y=tar\n",
    "X_train,X_test,Y_train,Y_test=train_test_split(dt,Y,test_size=0.3)\n",
    "print(X_train.shape,Y_train.shape)\n",
    "print(X_test.shape,Y_test.shape)"
   ]
  },
  {
   "cell_type": "code",
   "execution_count": 15,
   "metadata": {},
   "outputs": [
    {
     "name": "stdout",
     "output_type": "stream",
     "text": [
      "train\n",
      "0.8307818364579173\n",
      "test\n",
      "0.9947394364085362\n"
     ]
    },
    {
     "name": "stderr",
     "output_type": "stream",
     "text": [
      "C:\\ProgramData\\Anaconda3\\lib\\site-packages\\sklearn\\linear_model\\coordinate_descent.py:491: ConvergenceWarning: Objective did not converge. You might want to increase the number of iterations. Fitting data with very small alpha may cause precision problems.\n",
      "  ConvergenceWarning)\n"
     ]
    }
   ],
   "source": [
    "lassoReg=Lasso(alpha=0.1,normalize=False)\n",
    "lassoReg.fit(X_train,Y_train)\n",
    "predictions=lassoReg.predict(X_train)\n",
    "print('train')\n",
    "print(lassoReg.score(X_train,Y_train))\n",
    "lassoReg=Lasso(alpha=0.1,normalize=False)\n",
    "lassoReg.fit(X_test,Y_test)\n",
    "print('test')\n",
    "print(lassoReg.score(X_test,Y_test))"
   ]
  },
  {
   "cell_type": "code",
   "execution_count": 16,
   "metadata": {},
   "outputs": [
    {
     "name": "stdout",
     "output_type": "stream",
     "text": [
      "train\n",
      "0.6603330661334619\n",
      "test\n",
      "0.9282099057616083\n"
     ]
    }
   ],
   "source": [
    "lassoReg=Lasso(alpha=0.5,normalize=False)\n",
    "lassoReg.fit(X_train,Y_train)\n",
    "predictions=lassoReg.predict(X_train)\n",
    "print('train')\n",
    "print(lassoReg.score(X_train,Y_train))\n",
    "lassoReg=Lasso(alpha=0.5,normalize=False)\n",
    "lassoReg.fit(X_test,Y_test)\n",
    "print('test')\n",
    "print(lassoReg.score(X_test,Y_test))"
   ]
  },
  {
   "cell_type": "code",
   "execution_count": 17,
   "metadata": {},
   "outputs": [
    {
     "name": "stdout",
     "output_type": "stream",
     "text": [
      "train\n",
      "0.5281777684161031\n",
      "test\n",
      "0.8167688495641934\n"
     ]
    }
   ],
   "source": [
    "lassoReg=Lasso(alpha=1,normalize=False)\n",
    "lassoReg.fit(X_train,Y_train)\n",
    "predictions=lassoReg.predict(X_train)\n",
    "print('train')\n",
    "print(lassoReg.score(X_train,Y_train))\n",
    "lassoReg=Lasso(alpha=1,normalize=False)\n",
    "lassoReg.fit(X_test,Y_test)\n",
    "print('test')\n",
    "print(lassoReg.score(X_test,Y_test))"
   ]
  },
  {
   "cell_type": "code",
   "execution_count": 18,
   "metadata": {},
   "outputs": [
    {
     "name": "stdout",
     "output_type": "stream",
     "text": [
      "train\n",
      "0.3776253317853604\n",
      "test\n",
      "0.641026130727297\n"
     ]
    }
   ],
   "source": [
    "                                           #BEST\n",
    "    \n",
    "lassoReg=Lasso(alpha=2,normalize=False)\n",
    "lassoReg.fit(X_train,Y_train)\n",
    "predictions=lassoReg.predict(X_train)\n",
    "print('train')\n",
    "print(lassoReg.score(X_train,Y_train))\n",
    "lassoReg=Lasso(alpha=2,normalize=False)\n",
    "lassoReg.fit(X_test,Y_test)\n",
    "print('test')\n",
    "print(lassoReg.score(X_test,Y_test))"
   ]
  },
  {
   "cell_type": "code",
   "execution_count": 21,
   "metadata": {},
   "outputs": [
    {
     "name": "stdout",
     "output_type": "stream",
     "text": [
      "train\n",
      "0.32386014705694754\n",
      "test\n",
      "0.5654694402449054\n"
     ]
    }
   ],
   "source": [
    "lassoReg=Lasso(alpha=2.5,normalize=False)\n",
    "lassoReg.fit(X_train,Y_train)\n",
    "predictions=lassoReg.predict(X_train)\n",
    "print('train')\n",
    "print(lassoReg.score(X_train,Y_train))\n",
    "lassoReg=Lasso(alpha=2.5,normalize=False)\n",
    "lassoReg.fit(X_test,Y_test)\n",
    "print('test')\n",
    "print(lassoReg.score(X_test,Y_test))"
   ]
  },
  {
   "cell_type": "code",
   "execution_count": 25,
   "metadata": {},
   "outputs": [
    {
     "name": "stdout",
     "output_type": "stream",
     "text": [
      "train\n",
      "0.04720258208393435\n"
     ]
    },
    {
     "name": "stderr",
     "output_type": "stream",
     "text": [
      "C:\\ProgramData\\Anaconda3\\lib\\site-packages\\sklearn\\linear_model\\coordinate_descent.py:491: ConvergenceWarning: Objective did not converge. You might want to increase the number of iterations. Fitting data with very small alpha may cause precision problems.\n",
      "  ConvergenceWarning)\n"
     ]
    },
    {
     "name": "stdout",
     "output_type": "stream",
     "text": [
      "test\n",
      "0.08057839775916298\n"
     ]
    }
   ],
   "source": [
    "import numpy as np\n",
    "Y_train=np.array(Y_train)\n",
    "Y_train=Y_train.ravel()\n",
    "lassoReg=LassoCV(normalize=False,n_alphas=200,alphas=None,max_iter=2000) \n",
    "lassoReg.fit(X_train,Y_train)\n",
    "predictions=lassoReg.predict(X_train)\n",
    "print('train')\n",
    "print(lassoReg.score(X_train,Y_train))\n",
    "Y_test=np.array(Y_test)\n",
    "Y_test=Y_test.ravel()\n",
    "lassoReg=LassoCV(normalize=False,n_alphas=200,alphas=None,max_iter=2000)\n",
    "lassoReg.fit(X_test,Y_test)\n",
    "print('test')\n",
    "print(lassoReg.score(X_test,Y_test)) "
   ]
  },
  {
   "cell_type": "code",
   "execution_count": 30,
   "metadata": {},
   "outputs": [],
   "source": [
    "dt1=pd.read_excel('LUSC_300_NoDepth.xlsx',index_col=0)"
   ]
  },
  {
   "cell_type": "code",
   "execution_count": 31,
   "metadata": {},
   "outputs": [],
   "source": [
    "tar=pd.read_excel('survival_LUSC.xlsx')"
   ]
  },
  {
   "cell_type": "code",
   "execution_count": 32,
   "metadata": {},
   "outputs": [
    {
     "name": "stdout",
     "output_type": "stream",
     "text": [
      "(350, 300) (350, 1)\n",
      "(151, 300) (151, 1)\n"
     ]
    }
   ],
   "source": [
    "Y=tar\n",
    "X_train,X_test,Y_train,Y_test=train_test_split(dt1,Y,test_size=0.3)\n",
    "print(X_train.shape,Y_train.shape)\n",
    "print(X_test.shape,Y_test.shape)"
   ]
  },
  {
   "cell_type": "code",
   "execution_count": 33,
   "metadata": {},
   "outputs": [
    {
     "name": "stdout",
     "output_type": "stream",
     "text": [
      "train\n",
      "0.40462130907244076\n",
      "test\n",
      "0.5758771998090401\n"
     ]
    }
   ],
   "source": [
    "lassoReg=Lasso(alpha=2,normalize=False)\n",
    "lassoReg.fit(X_train,Y_train)\n",
    "predictions=lassoReg.predict(X_train)\n",
    "print('train')\n",
    "print(lassoReg.score(X_train,Y_train))\n",
    "lassoReg=Lasso(alpha=2,normalize=False)\n",
    "lassoReg.fit(X_test,Y_test)\n",
    "print('test')\n",
    "print(lassoReg.score(X_test,Y_test))"
   ]
  },
  {
   "cell_type": "code",
   "execution_count": 34,
   "metadata": {},
   "outputs": [
    {
     "name": "stdout",
     "output_type": "stream",
     "text": [
      "train\n",
      "0.5522928988741411\n",
      "test\n",
      "0.7941284043834747\n"
     ]
    }
   ],
   "source": [
    "                                        #BEST\n",
    "lassoReg=Lasso(alpha=1,normalize=False)\n",
    "lassoReg.fit(X_train,Y_train)   \n",
    "predictions=lassoReg.predict(X_train)\n",
    "print('train')\n",
    "print(lassoReg.score(X_train,Y_train))\n",
    "lassoReg=Lasso(alpha=1,normalize=False)\n",
    "lassoReg.fit(X_test,Y_test)\n",
    "print('test')\n",
    "print(lassoReg.score(X_test,Y_test))"
   ]
  },
  {
   "cell_type": "code",
   "execution_count": 37,
   "metadata": {},
   "outputs": [
    {
     "name": "stdout",
     "output_type": "stream",
     "text": [
      "train\n",
      "0.6830624950238502\n",
      "test\n",
      "0.9123332322679027\n"
     ]
    }
   ],
   "source": [
    "lassoReg=Lasso(alpha=0.5,normalize=False)\n",
    "lassoReg.fit(X_train,Y_train)\n",
    "predictions=lassoReg.predict(X_train)\n",
    "print('train')\n",
    "print(lassoReg.score(X_train,Y_train))\n",
    "lassoReg=Lasso(alpha=0.5,normalize=False)\n",
    "lassoReg.fit(X_test,Y_test)\n",
    "print('test')\n",
    "print(lassoReg.score(X_test,Y_test))"
   ]
  },
  {
   "cell_type": "code",
   "execution_count": 38,
   "metadata": {},
   "outputs": [
    {
     "name": "stdout",
     "output_type": "stream",
     "text": [
      "train\n",
      "0.8360892383026831\n",
      "test\n",
      "0.9928517843848894\n"
     ]
    },
    {
     "name": "stderr",
     "output_type": "stream",
     "text": [
      "C:\\ProgramData\\Anaconda3\\lib\\site-packages\\sklearn\\linear_model\\coordinate_descent.py:491: ConvergenceWarning: Objective did not converge. You might want to increase the number of iterations. Fitting data with very small alpha may cause precision problems.\n",
      "  ConvergenceWarning)\n"
     ]
    }
   ],
   "source": [
    "lassoReg=Lasso(alpha=0.1,normalize=False)\n",
    "lassoReg.fit(X_train,Y_train)\n",
    "predictions=lassoReg.predict(X_train)\n",
    "print('train')\n",
    "print(lassoReg.score(X_train,Y_train))\n",
    "lassoReg=Lasso(alpha=0.1,normalize=False)\n",
    "lassoReg.fit(X_test,Y_test)\n",
    "print('test')  \n",
    "print(lassoReg.score(X_test,Y_test))"
   ]
  },
  {
   "cell_type": "code",
   "execution_count": 39,
   "metadata": {
    "scrolled": true
   },
   "outputs": [
    {
     "name": "stdout",
     "output_type": "stream",
     "text": [
      "train\n",
      "0.10776803998112161\n",
      "test\n",
      "0.049750003626646166\n"
     ]
    }
   ],
   "source": [
    "Y_train=np.array(Y_train)\n",
    "Y_train=Y_train.flatten()\n",
    "lassoReg=LassoCV(normalize=False,n_alphas=2000)\n",
    "lassoReg.fit(X_train,Y_train)\n",
    "predictions=lassoReg.predict(X_train)\n",
    "print('train') \n",
    "print(lassoReg.score(X_train,Y_train))\n",
    "Y_test=np.array(Y_test)\n",
    "Y_test=Y_test.flatten()\n",
    "lassoReg=LassoCV(normalize=False,n_alphas=2000)\n",
    "lassoReg.fit(X_test,Y_test)\n",
    "print('test') \n",
    "print(lassoReg.score(X_test,Y_test))"
   ]
  },
  {
   "cell_type": "code",
   "execution_count": null,
   "metadata": {},
   "outputs": [],
   "source": []
  }
 ],
 "metadata": {
  "kernelspec": {
   "display_name": "Python 3",
   "language": "python",
   "name": "python3"
  },
  "language_info": {
   "codemirror_mode": {
    "name": "ipython",
    "version": 3
   },
   "file_extension": ".py",
   "mimetype": "text/x-python",
   "name": "python",
   "nbconvert_exporter": "python",
   "pygments_lexer": "ipython3",
   "version": "3.6.5"
  }
 },
 "nbformat": 4,
 "nbformat_minor": 2
}
