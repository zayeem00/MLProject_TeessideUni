{
  "nbformat": 4,
  "nbformat_minor": 0,
  "metadata": {
    "colab": {
      "name": "CV Lasso Net Regression LUAD 250 gene.ipynb",
      "version": "0.3.2",
      "provenance": [],
      "collapsed_sections": [],
      "include_colab_link": true
    },
    "kernelspec": {
      "display_name": "Python 3",
      "language": "python",
      "name": "python3"
    }
  },
  "cells": [
    {
      "cell_type": "markdown",
      "metadata": {
        "id": "view-in-github",
        "colab_type": "text"
      },
      "source": [
        "<a href=\"https://colab.research.google.com/github/zayeem00/MLProject_TeessideUni/blob/master/CV_Lasso_Net_Regression_LUAD_250_gene.ipynb\" target=\"_parent\"><img src=\"https://colab.research.google.com/assets/colab-badge.svg\" alt=\"Open In Colab\"/></a>"
      ]
    },
    {
      "metadata": {
        "id": "AQ_CKfSOSSSK",
        "colab_type": "code",
        "colab": {}
      },
      "cell_type": "code",
      "source": [
        "#Higher  values of alpha give better scores\n",
        "import pandas as pd\n",
        "import os\n",
        "import matplotlib.pyplot as plt\n",
        "from sklearn import linear_model\n",
        "from sklearn.model_selection import train_test_split\n",
        "from sklearn.model_selection import cross_val_score\n",
        "from sklearn.linear_model import Lasso\n",
        "from sklearn.linear_model import LassoCV"
      ],
      "execution_count": 0,
      "outputs": []
    },
    {
      "metadata": {
        "id": "9J8N6OvEXWtj",
        "colab_type": "text"
      },
      "cell_type": "markdown",
      "source": [
        ""
      ]
    },
    {
      "metadata": {
        "id": "D_jH38VZSSSR",
        "colab_type": "code",
        "colab": {}
      },
      "cell_type": "code",
      "source": [
        "from google.colab import files\n",
        "files.upload()"
      ],
      "execution_count": 0,
      "outputs": []
    },
    {
      "metadata": {
        "id": "dxXRBVnHSSSV",
        "colab_type": "code",
        "colab": {}
      },
      "cell_type": "code",
      "source": [
        "dt=pd.read_excel('LUAD_250_NoDepth.xlsx')"
      ],
      "execution_count": 0,
      "outputs": []
    },
    {
      "metadata": {
        "id": "jn1YbIi6SlAj",
        "colab_type": "code",
        "colab": {}
      },
      "cell_type": "code",
      "source": [
        "from google.colab import files\n",
        "files.upload()"
      ],
      "execution_count": 0,
      "outputs": []
    },
    {
      "metadata": {
        "id": "w63eZn-CSSSa",
        "colab_type": "code",
        "colab": {}
      },
      "cell_type": "code",
      "source": [
        "dt=dt.set_index(dt.columns[0])"
      ],
      "execution_count": 0,
      "outputs": []
    },
    {
      "metadata": {
        "id": "uags-4f3SSSe",
        "colab_type": "code",
        "colab": {}
      },
      "cell_type": "code",
      "source": [
        "tar=pd.read_excel('survival_LUAD.xlsx')"
      ],
      "execution_count": 0,
      "outputs": []
    },
    {
      "metadata": {
        "id": "a9rQXZNgSSSh",
        "colab_type": "code",
        "colab": {}
      },
      "cell_type": "code",
      "source": [
        "from sklearn.model_selection import train_test_split\n",
        "from sklearn.model_selection import TimeSeriesSplit\n",
        "from sklearn.model_selection import RepeatedKFold"
      ],
      "execution_count": 0,
      "outputs": []
    },
    {
      "metadata": {
        "id": "2I5f8VjHVYib",
        "colab_type": "code",
        "colab": {
          "base_uri": "https://localhost:8080/",
          "height": 51
        },
        "outputId": "74f8be96-c14f-45c0-9a4d-bb3d4c8faf3b"
      },
      "cell_type": "code",
      "source": [
        "Y=tar\n",
        "X_train,X_test,Y_train,Y_test=train_test_split(dt,Y,test_size=0.3)\n",
        "print(X_train.shape,Y_train.shape)\n",
        "print(X_test.shape,Y_test.shape)"
      ],
      "execution_count": 21,
      "outputs": [
        {
          "output_type": "stream",
          "text": [
            "(361, 251) (361, 1)\n",
            "(156, 251) (156, 1)\n"
          ],
          "name": "stdout"
        }
      ]
    },
    {
      "metadata": {
        "id": "MY18WY3OSqYM",
        "colab_type": "code",
        "colab": {}
      },
      "cell_type": "code",
      "source": [
        "import numpy as np\n",
        "X=np.array(dt)\n",
        "y=np.array(tar)"
      ],
      "execution_count": 0,
      "outputs": []
    },
    {
      "metadata": {
        "id": "vBJ_UNDcSqV1",
        "colab_type": "code",
        "colab": {}
      },
      "cell_type": "code",
      "source": [
        "from sklearn.model_selection import KFold \n",
        "from sklearn.linear_model import ElasticNet\n",
        "kf = RepeatedKFold(n_splits=5, n_repeats=10, random_state=None) \n",
        "tscv = TimeSeriesSplit(n_splits=10)"
      ],
      "execution_count": 0,
      "outputs": []
    },
    {
      "metadata": {
        "id": "1t-QTcngSqTC",
        "colab_type": "code",
        "colab": {
          "base_uri": "https://localhost:8080/",
          "height": 867
        },
        "outputId": "cca73eb7-e427-4f68-f8df-ca138f84bd1c"
      },
      "cell_type": "code",
      "source": [
        "a=1\n",
        "for train_index, test_index in tscv.split(X):\n",
        "  print(a)\n",
        "  #print(\"Train:\", train_index, \"Validation:\", test_index)\n",
        "  X_train, X_test = X[train_index], X[test_index]\n",
        "  y_train, y_test = y[train_index], y[test_index]\n",
        "  lassoReg=Lasso(alpha=2,normalize=False)\n",
        "  lassoReg.fit(X_train,y_train)\n",
        "  predictions=lassoReg.predict(X_train)\n",
        "  print('train')\n",
        "  print(lassoReg.score(X_train,y_train))\n",
        "  lassoReg=Lasso(alpha=2,normalize=False)\n",
        "  lassoReg.fit(X_test,y_test)\n",
        "  print('test')\n",
        "  print(lassoReg.score(X_test,y_test))\n",
        "  a=a+1\n"
      ],
      "execution_count": 24,
      "outputs": [
        {
          "output_type": "stream",
          "text": [
            "1\n",
            "train\n",
            "0.8775280869207107\n",
            "test\n",
            "0.7261037630618373\n",
            "2\n",
            "train\n",
            "0.6316915135001562\n",
            "test\n",
            "0.961883307784525\n",
            "3\n",
            "train\n",
            "0.7521760667537223\n",
            "test\n",
            "0.8612991509314297\n",
            "4\n",
            "train\n",
            "0.6493869685026569\n",
            "test\n",
            "0.34391467280735033\n",
            "5\n",
            "train\n",
            "0.5966700921816279\n",
            "test\n",
            "0.8649139911196028\n",
            "6\n",
            "train\n",
            "0.5269195353044758\n",
            "test\n",
            "0.8013423232452125\n",
            "7\n",
            "train\n",
            "0.47626779232924704\n",
            "test\n",
            "0.9669284559889624\n",
            "8\n",
            "train\n",
            "0.4742315354792587\n",
            "test\n",
            "0.5968212681888092\n",
            "9\n",
            "train\n",
            "0.43736829938083455\n",
            "test\n",
            "0.6759646061032145\n",
            "10\n",
            "train\n",
            "0.4120631181812597\n",
            "test\n",
            "0.8719657646539749\n"
          ],
          "name": "stdout"
        }
      ]
    },
    {
      "metadata": {
        "id": "__uhrzANSqQj",
        "colab_type": "code",
        "colab": {}
      },
      "cell_type": "code",
      "source": [
        "from sklearn.model_selection import KFold \n",
        "from sklearn.linear_model import ElasticNet\n",
        "tscv = TimeSeriesSplit(n_splits=10)"
      ],
      "execution_count": 0,
      "outputs": []
    },
    {
      "metadata": {
        "id": "aY_oIdXrSqNi",
        "colab_type": "code",
        "colab": {
          "base_uri": "https://localhost:8080/",
          "height": 867
        },
        "outputId": "ce350a7b-8347-4e69-c5ed-48f29d85e44b"
      },
      "cell_type": "code",
      "source": [
        "a=1\n",
        "for train_index, test_index in tscv.split(X):\n",
        "  print(a)\n",
        "  #print(\"Train:\", train_index, \"Validation:\", test_index)\n",
        "  X_train, X_test = X[train_index], X[test_index]\n",
        "  y_train, y_test = y[train_index], y[test_index]\n",
        "  lassoReg=Lasso(alpha=1,normalize=False)\n",
        "  lassoReg.fit(X_train,y_train)\n",
        "  predictions=lassoReg.predict(X_train)\n",
        "  print('train')\n",
        "  print(lassoReg.score(X_train,y_train))\n",
        "  lassoReg=Lasso(alpha=1,normalize=False)\n",
        "  lassoReg.fit(X_test,y_test)\n",
        "  print('test')\n",
        "  print(lassoReg.score(X_test,y_test))\n",
        "  a=a+1\n"
      ],
      "execution_count": 16,
      "outputs": [
        {
          "output_type": "stream",
          "text": [
            "1\n",
            "train\n",
            "0.9531072055812965\n",
            "test\n",
            "0.8979120772248544\n",
            "2\n",
            "train\n",
            "0.8015220334443436\n",
            "test\n",
            "0.98649278518931\n",
            "3\n",
            "train\n",
            "0.8583859070819054\n",
            "test\n",
            "0.961553154142106\n",
            "4\n",
            "train\n",
            "0.7555229863215416\n",
            "test\n",
            "0.7310710592186869\n",
            "5\n",
            "train\n",
            "0.7101407207524881\n",
            "test\n",
            "0.9511978436729155\n",
            "6\n",
            "train\n",
            "0.6581539547587311\n",
            "test\n",
            "0.9207413167916498\n",
            "7\n",
            "train\n",
            "0.6154107644740627\n",
            "test\n",
            "0.9907809877487722\n",
            "8\n",
            "train\n",
            "0.5891986872921222\n",
            "test\n",
            "0.7945401332901091\n",
            "9\n",
            "train\n",
            "0.5515914663747882\n",
            "test\n",
            "0.8800850774887093\n",
            "10\n",
            "train\n",
            "0.5226971850419035\n",
            "test\n",
            "0.9536135943642132\n"
          ],
          "name": "stdout"
        }
      ]
    },
    {
      "metadata": {
        "id": "sZ-zzoPvXSEs",
        "colab_type": "code",
        "colab": {}
      },
      "cell_type": "code",
      "source": [
        ""
      ],
      "execution_count": 0,
      "outputs": []
    },
    {
      "metadata": {
        "id": "95gifQTuSqKt",
        "colab_type": "code",
        "colab": {
          "base_uri": "https://localhost:8080/",
          "height": 4267
        },
        "outputId": "2e458455-81b6-43a4-a303-b22fbcd1457c"
      },
      "cell_type": "code",
      "source": [
        "from sklearn.model_selection import KFold \n",
        "kf = RepeatedKFold(n_splits=5, n_repeats=10, random_state=None) \n",
        "a=1\n",
        "for train_index, test_index in kf.split(X):\n",
        "     # print(\"Train:\", train_index, \"Validation:\",test_index)\n",
        "      print(a)\n",
        "      X_train, X_test = X[train_index], X[test_index] \n",
        "      y_train, y_test = y[train_index], y[test_index]\n",
        "      lassoReg=Lasso(alpha=1,normalize=False)\n",
        "      lassoReg.fit(X_train,y_train)\n",
        "      predictions=lassoReg.predict(X_train)\n",
        "      print('train')\n",
        "      print(lassoReg.score(X_train,y_train))\n",
        "      lassoReg=Lasso(alpha=1,normalize=False)\n",
        "      lassoReg.fit(X_test,y_test)\n",
        "      print('test')\n",
        "      print(lassoReg.score(X_test,y_test))\n",
        "      a=a+1\n",
        "      "
      ],
      "execution_count": 18,
      "outputs": [
        {
          "output_type": "stream",
          "text": [
            "1\n",
            "train\n",
            "0.5520334869830937\n",
            "test\n",
            "0.821812145625834\n",
            "2\n",
            "train\n",
            "0.5506104666412408\n",
            "test\n",
            "0.8381036180649512\n",
            "3\n",
            "train\n",
            "0.5420099482929823\n",
            "test\n",
            "0.8294064524509739\n",
            "4\n",
            "train\n",
            "0.5568212106423349\n",
            "test\n",
            "0.7869525059180438\n",
            "5\n",
            "train\n",
            "0.4763473290735535\n",
            "test\n",
            "0.9459686424850757\n",
            "6\n",
            "train\n",
            "0.41081994639066444\n",
            "test\n",
            "0.9367522524801286\n",
            "7\n",
            "train\n",
            "0.552186174798124\n",
            "test\n",
            "0.7983963577418965\n",
            "8\n",
            "train\n",
            "0.5500468263049216\n",
            "test\n",
            "0.8261910978624524\n",
            "9\n",
            "train\n",
            "0.5458861862266273\n",
            "test\n",
            "0.8247993984785852\n",
            "10\n",
            "train\n",
            "0.581011813964933\n",
            "test\n",
            "0.8506231569601522\n",
            "11\n",
            "train\n",
            "0.5515244050583181\n",
            "test\n",
            "0.8101266193391126\n",
            "12\n",
            "train\n",
            "0.5737901619405199\n",
            "test\n",
            "0.806894043329872\n",
            "13\n",
            "train\n",
            "0.5231543832163725\n",
            "test\n",
            "0.8902252474016898\n",
            "14\n",
            "train\n",
            "0.5613111930570793\n",
            "test\n",
            "0.919400506171326\n",
            "15\n",
            "train\n",
            "0.4713927986485468\n",
            "test\n",
            "0.9050283238943381\n",
            "16\n",
            "train\n",
            "0.5613788110698958\n",
            "test\n",
            "0.7531090813361733\n",
            "17\n",
            "train\n",
            "0.5479195706529874\n",
            "test\n",
            "0.8240271531582002\n",
            "18\n",
            "train\n",
            "0.5861472808971506\n",
            "test\n",
            "0.9196993863843977\n",
            "19\n",
            "train\n",
            "0.44520181896418193\n",
            "test\n",
            "0.9158668316757631\n",
            "20\n",
            "train\n",
            "0.5295531275872374\n",
            "test\n",
            "0.8686182850253328\n",
            "21\n",
            "train\n",
            "0.4987005113056785\n",
            "test\n",
            "0.9012627606254222\n",
            "22\n",
            "train\n",
            "0.5600243684594204\n",
            "test\n",
            "0.889337723229585\n",
            "23\n",
            "train\n",
            "0.5131710531962209\n",
            "test\n",
            "0.9010431066819543\n",
            "24\n",
            "train\n",
            "0.5452526070023397\n",
            "test\n",
            "0.8310433513356211\n",
            "25\n",
            "train\n",
            "0.561192500850647\n",
            "test\n",
            "0.8129179078319871\n",
            "26\n",
            "train\n",
            "0.5713041396914674\n",
            "test\n",
            "0.8338388277072021\n",
            "27\n",
            "train\n",
            "0.5472084233863385\n",
            "test\n",
            "0.8295294919043255\n",
            "28\n",
            "train\n",
            "0.5436595545200507\n",
            "test\n",
            "0.9211126397003876\n",
            "29\n",
            "train\n",
            "0.5098316490221488\n",
            "test\n",
            "0.8736197516182629\n",
            "30\n",
            "train\n",
            "0.5015524718329727\n",
            "test\n",
            "0.8986057396187314\n",
            "31\n",
            "train\n",
            "0.5052490970451553\n",
            "test\n",
            "0.9170005663301772\n",
            "32\n",
            "train\n",
            "0.5611098860723314\n",
            "test\n",
            "0.8036659664194016\n",
            "33\n",
            "train\n",
            "0.5705637095126324\n",
            "test\n",
            "0.8098964556439836\n",
            "34\n",
            "train\n",
            "0.5415292592207098\n",
            "test\n",
            "0.8402125197299555\n",
            "35\n",
            "train\n",
            "0.49486458443691717\n",
            "test\n",
            "0.9167597637431273\n",
            "36\n",
            "train\n",
            "0.56264159802482\n",
            "test\n",
            "0.7714674007808434\n",
            "37\n",
            "train\n",
            "0.532415802280211\n",
            "test\n",
            "0.8576963040784837\n",
            "38\n",
            "train\n",
            "0.573215810474353\n",
            "test\n",
            "0.8116746214836242\n",
            "39\n",
            "train\n",
            "0.5372216114201409\n",
            "test\n",
            "0.9137819143828538\n",
            "40\n",
            "train\n",
            "0.46702202870604836\n",
            "test\n",
            "0.9196265575248643\n",
            "41\n",
            "train\n",
            "0.5535143304235544\n",
            "test\n",
            "0.6728613385134572\n",
            "42\n",
            "train\n",
            "0.48445962803603376\n",
            "test\n",
            "0.9163575438689749\n",
            "43\n",
            "train\n",
            "0.5394923496365116\n",
            "test\n",
            "0.8180391352439953\n",
            "44\n",
            "train\n",
            "0.560346241823459\n",
            "test\n",
            "0.8317511394353166\n",
            "45\n",
            "train\n",
            "0.5397770600544003\n",
            "test\n",
            "0.9160478399434168\n",
            "46\n",
            "train\n",
            "0.555479704822694\n",
            "test\n",
            "0.907475965620894\n",
            "47\n",
            "train\n",
            "0.520764178514902\n",
            "test\n",
            "0.8812925350324559\n",
            "48\n",
            "train\n",
            "0.5118821580213959\n",
            "test\n",
            "0.8623052409139008\n",
            "49\n",
            "train\n",
            "0.5780272893984745\n",
            "test\n",
            "0.7510511418321594\n",
            "50\n",
            "train\n",
            "0.5303044124303974\n",
            "test\n",
            "0.9045705711527225\n"
          ],
          "name": "stdout"
        }
      ]
    },
    {
      "metadata": {
        "id": "IRxS4Kk6SqH6",
        "colab_type": "code",
        "colab": {}
      },
      "cell_type": "code",
      "source": [
        ""
      ],
      "execution_count": 0,
      "outputs": []
    },
    {
      "metadata": {
        "id": "30kkWYiESqFM",
        "colab_type": "code",
        "colab": {}
      },
      "cell_type": "code",
      "source": [
        ""
      ],
      "execution_count": 0,
      "outputs": []
    },
    {
      "metadata": {
        "id": "hT5f-XAnSqAr",
        "colab_type": "code",
        "colab": {}
      },
      "cell_type": "code",
      "source": [
        ""
      ],
      "execution_count": 0,
      "outputs": []
    },
    {
      "metadata": {
        "id": "FgaKKSSASp-j",
        "colab_type": "code",
        "colab": {}
      },
      "cell_type": "code",
      "source": [
        ""
      ],
      "execution_count": 0,
      "outputs": []
    },
    {
      "metadata": {
        "id": "inkSUAdwSp8V",
        "colab_type": "code",
        "colab": {}
      },
      "cell_type": "code",
      "source": [
        ""
      ],
      "execution_count": 0,
      "outputs": []
    },
    {
      "metadata": {
        "id": "o95JletrSp5s",
        "colab_type": "code",
        "colab": {}
      },
      "cell_type": "code",
      "source": [
        ""
      ],
      "execution_count": 0,
      "outputs": []
    },
    {
      "metadata": {
        "id": "qqO9_GmqSp3M",
        "colab_type": "code",
        "colab": {}
      },
      "cell_type": "code",
      "source": [
        ""
      ],
      "execution_count": 0,
      "outputs": []
    },
    {
      "metadata": {
        "id": "5VV2UW3ASp0e",
        "colab_type": "code",
        "colab": {}
      },
      "cell_type": "code",
      "source": [
        ""
      ],
      "execution_count": 0,
      "outputs": []
    },
    {
      "metadata": {
        "id": "XcoQf3DSSpxz",
        "colab_type": "code",
        "colab": {}
      },
      "cell_type": "code",
      "source": [
        ""
      ],
      "execution_count": 0,
      "outputs": []
    },
    {
      "metadata": {
        "id": "QdkydyzQSSSn",
        "colab_type": "code",
        "colab": {}
      },
      "cell_type": "code",
      "source": [
        "\n",
        "del dt['RASGRF2']\n",
        "del dt['EXOSC6']\n",
        "del dt['DDX19A']\n",
        "del dt['PCDHAC1']"
      ],
      "execution_count": 0,
      "outputs": []
    },
    {
      "metadata": {
        "id": "KY6Nr7YZSSSv",
        "colab_type": "code",
        "colab": {},
        "outputId": "e22ad1aa-3415-4401-edc7-d74845930854"
      },
      "cell_type": "code",
      "source": [
        "Y=tar\n",
        "X_train,X_test,Y_train,Y_test=train_test_split(dt,Y,test_size=0.3)\n",
        "print(X_train.shape,Y_train.shape)\n",
        "print(X_test.shape,Y_test.shape)"
      ],
      "execution_count": 0,
      "outputs": [
        {
          "output_type": "stream",
          "text": [
            "(361, 546) (361, 1)\n",
            "(156, 546) (156, 1)\n"
          ],
          "name": "stdout"
        }
      ]
    },
    {
      "metadata": {
        "id": "q3YD3dC2SSS9",
        "colab_type": "code",
        "colab": {},
        "outputId": "eceeffee-3312-468c-e028-6959f0a3a3ed"
      },
      "cell_type": "code",
      "source": [
        "lassoReg=Lasso(alpha=0.1,normalize=False)\n",
        "lassoReg.fit(X_train,Y_train)\n",
        "predictions=lassoReg.predict(X_train)\n",
        "print('train')\n",
        "print(lassoReg.score(X_train,Y_train))\n",
        "lassoReg=Lasso(alpha=0.1,normalize=False)\n",
        "lassoReg.fit(X_test,Y_test)\n",
        "print('test')\n",
        "print(lassoReg.score(X_test,Y_test))"
      ],
      "execution_count": 0,
      "outputs": [
        {
          "output_type": "stream",
          "text": [
            "train\n",
            "0.964702321721815\n",
            "test\n",
            "0.9978066072610323\n"
          ],
          "name": "stdout"
        },
        {
          "output_type": "stream",
          "text": [
            "C:\\ProgramData\\Anaconda3\\lib\\site-packages\\sklearn\\linear_model\\coordinate_descent.py:491: ConvergenceWarning: Objective did not converge. You might want to increase the number of iterations. Fitting data with very small alpha may cause precision problems.\n",
            "  ConvergenceWarning)\n"
          ],
          "name": "stderr"
        }
      ]
    },
    {
      "metadata": {
        "id": "bVDYeHtuSSTC",
        "colab_type": "code",
        "colab": {},
        "outputId": "05fd3a82-3dae-434c-c251-b16ea34f4494"
      },
      "cell_type": "code",
      "source": [
        "lassoReg=Lasso(alpha=0.5,normalize=False)\n",
        "lassoReg.fit(X_train,Y_train)\n",
        "predictions=lassoReg.predict(X_train)\n",
        "print('train')\n",
        "print(lassoReg.score(X_train,Y_train))\n",
        "lassoReg=Lasso(alpha=0.5,normalize=False)\n",
        "lassoReg.fit(X_test,Y_test)\n",
        "print('test')\n",
        "print(lassoReg.score(X_test,Y_test))"
      ],
      "execution_count": 0,
      "outputs": [
        {
          "output_type": "stream",
          "text": [
            "train\n",
            "0.7851614335117517\n",
            "test\n",
            "0.9625510152105098\n"
          ],
          "name": "stdout"
        },
        {
          "output_type": "stream",
          "text": [
            "C:\\ProgramData\\Anaconda3\\lib\\site-packages\\sklearn\\linear_model\\coordinate_descent.py:491: ConvergenceWarning: Objective did not converge. You might want to increase the number of iterations. Fitting data with very small alpha may cause precision problems.\n",
            "  ConvergenceWarning)\n"
          ],
          "name": "stderr"
        }
      ]
    },
    {
      "metadata": {
        "id": "gkqxHN1jSSTH",
        "colab_type": "code",
        "colab": {},
        "outputId": "5ede2abd-5051-4592-d8ca-7b04205b4846"
      },
      "cell_type": "code",
      "source": [
        "lassoReg=Lasso(alpha=1,normalize=False)\n",
        "lassoReg.fit(X_train,Y_train)\n",
        "predictions=lassoReg.predict(X_train)\n",
        "print('train')\n",
        "print(lassoReg.score(X_train,Y_train))\n",
        "lassoReg=Lasso(alpha=1,normalize=False)\n",
        "lassoReg.fit(X_test,Y_test)\n",
        "print('test')\n",
        "print(lassoReg.score(X_test,Y_test))"
      ],
      "execution_count": 0,
      "outputs": [
        {
          "output_type": "stream",
          "text": [
            "train\n",
            "0.661297568694129\n",
            "test\n",
            "0.8837333070903077\n"
          ],
          "name": "stdout"
        }
      ]
    },
    {
      "metadata": {
        "id": "w3rmG2PmSSTM",
        "colab_type": "code",
        "colab": {},
        "outputId": "7da57826-310b-4131-8d9e-9cc7a34c9291"
      },
      "cell_type": "code",
      "source": [
        "                                           #BEST\n",
        "    \n",
        "lassoReg=Lasso(alpha=2,normalize=False)\n",
        "lassoReg.fit(X_train,Y_train)\n",
        "predictions=lassoReg.predict(X_train)\n",
        "print('train')\n",
        "print(lassoReg.score(X_train,Y_train))\n",
        "lassoReg=Lasso(alpha=2,normalize=False)\n",
        "lassoReg.fit(X_test,Y_test)\n",
        "print('test')\n",
        "print(lassoReg.score(X_test,Y_test))"
      ],
      "execution_count": 0,
      "outputs": [
        {
          "output_type": "stream",
          "text": [
            "train\n",
            "0.5057978925848693\n",
            "test\n",
            "0.7248008046697131\n"
          ],
          "name": "stdout"
        }
      ]
    },
    {
      "metadata": {
        "id": "XTcgyw4gSSTR",
        "colab_type": "code",
        "colab": {},
        "outputId": "9fe1fcc7-e19b-4ee2-d81e-a869722981c0"
      },
      "cell_type": "code",
      "source": [
        "import numpy as np\n",
        "Y_train=np.array(Y_train)\n",
        "Y_train=Y_train.ravel()\n",
        "lassoReg=LassoCV(normalize=False,n_alphas=200)\n",
        "lassoReg.fit(X_train,Y_train)\n",
        "predictions=lassoReg.predict(X_train)\n",
        "print('train')\n",
        "print(lassoReg.score(X_train,Y_train))\n",
        "Y_test=np.array(Y_test)\n",
        "Y_test=Y_test.ravel()\n",
        "lassoReg=LassoCV(normalize=False,n_alphas=200)\n",
        "lassoReg.fit(X_test,Y_test)\n",
        "print('test')\n",
        "print(lassoReg.score(X_test,Y_test)) "
      ],
      "execution_count": 0,
      "outputs": [
        {
          "output_type": "stream",
          "text": [
            "train\n",
            "0.14731040886258218\n",
            "test\n",
            "0.265728142891308\n"
          ],
          "name": "stdout"
        }
      ]
    },
    {
      "metadata": {
        "id": "KZS6jLhjSSTY",
        "colab_type": "code",
        "colab": {}
      },
      "cell_type": "code",
      "source": [
        "################################################################################################################################"
      ],
      "execution_count": 0,
      "outputs": []
    },
    {
      "metadata": {
        "id": "yhLb5yAdSSTc",
        "colab_type": "code",
        "colab": {}
      },
      "cell_type": "code",
      "source": [
        "dt1=pd.read_excel('LUAD_250_NoDepth.xlsx',index_col=0)"
      ],
      "execution_count": 0,
      "outputs": []
    },
    {
      "metadata": {
        "id": "jv8L1R4ASSTf",
        "colab_type": "code",
        "colab": {}
      },
      "cell_type": "code",
      "source": [
        "tar=pd.read_excel('survival_LUAD.xlsx')"
      ],
      "execution_count": 0,
      "outputs": []
    },
    {
      "metadata": {
        "id": "9Q-g-IRFSSTi",
        "colab_type": "code",
        "colab": {},
        "outputId": "4e6e174f-87f4-45aa-99f2-a786b7631bc7"
      },
      "cell_type": "code",
      "source": [
        "Y=tar\n",
        "X_train,X_test,Y_train,Y_test=train_test_split(dt1,Y,test_size=0.3)\n",
        "print(X_train.shape,Y_train.shape)\n",
        "print(X_test.shape,Y_test.shape)"
      ],
      "execution_count": 0,
      "outputs": [
        {
          "output_type": "stream",
          "text": [
            "(361, 250) (361, 1)\n",
            "(156, 250) (156, 1)\n"
          ],
          "name": "stdout"
        }
      ]
    },
    {
      "metadata": {
        "id": "RpNGKHCiSSTn",
        "colab_type": "code",
        "colab": {},
        "outputId": "53715a64-b3f6-460a-df85-595e4f54a800"
      },
      "cell_type": "code",
      "source": [
        "lassoReg=Lasso(alpha=2,normalize=False)\n",
        "lassoReg.fit(X_train,Y_train)\n",
        "predictions=lassoReg.predict(X_train)\n",
        "print('train')\n",
        "print(lassoReg.score(X_train,Y_train))\n",
        "lassoReg=Lasso(alpha=2,normalize=False)\n",
        "lassoReg.fit(X_test,Y_test)\n",
        "print('test')\n",
        "print(lassoReg.score(X_test,Y_test))"
      ],
      "execution_count": 0,
      "outputs": [
        {
          "output_type": "stream",
          "text": [
            "train\n",
            "0.43038278454978185\n",
            "test\n",
            "0.6317398190941985\n"
          ],
          "name": "stdout"
        }
      ]
    },
    {
      "metadata": {
        "id": "DN-ASqDfSSTr",
        "colab_type": "code",
        "colab": {},
        "outputId": "6ad0d7b7-9dd3-4e00-f113-0940d81487b7"
      },
      "cell_type": "code",
      "source": [
        "lassoReg=Lasso(alpha=1,normalize=False)\n",
        "lassoReg.fit(X_train,Y_train)\n",
        "predictions=lassoReg.predict(X_train)\n",
        "print('train')\n",
        "print(lassoReg.score(X_train,Y_train))\n",
        "lassoReg=Lasso(alpha=1,normalize=False)\n",
        "lassoReg.fit(X_test,Y_test)\n",
        "print('test')\n",
        "print(lassoReg.score(X_test,Y_test))"
      ],
      "execution_count": 0,
      "outputs": [
        {
          "output_type": "stream",
          "text": [
            "train\n",
            "0.5788022931059844\n",
            "test\n",
            "0.7932394497409128\n"
          ],
          "name": "stdout"
        }
      ]
    },
    {
      "metadata": {
        "id": "GNtN3XO4SSTw",
        "colab_type": "code",
        "colab": {},
        "outputId": "9333c314-b581-4799-b4cf-89db308a0334"
      },
      "cell_type": "code",
      "source": [
        "lassoReg=Lasso(alpha=0.5,normalize=False)\n",
        "lassoReg.fit(X_train,Y_train)\n",
        "predictions=lassoReg.predict(X_train)\n",
        "print('train')\n",
        "print(lassoReg.score(X_train,Y_train))\n",
        "lassoReg=Lasso(alpha=0.5,normalize=False)\n",
        "lassoReg.fit(X_test,Y_test)\n",
        "print('test')\n",
        "print(lassoReg.score(X_test,Y_test))"
      ],
      "execution_count": 0,
      "outputs": [
        {
          "output_type": "stream",
          "text": [
            "train\n",
            "0.6821914156366864\n",
            "test\n",
            "0.8928409440177202\n"
          ],
          "name": "stdout"
        }
      ]
    },
    {
      "metadata": {
        "id": "x08fshX5SST2",
        "colab_type": "code",
        "colab": {},
        "outputId": "d443dc83-8ffa-4d0c-a34f-d0b4ba615920"
      },
      "cell_type": "code",
      "source": [
        "lassoReg=Lasso(alpha=0.1,normalize=False)\n",
        "lassoReg.fit(X_train,Y_train)\n",
        "predictions=lassoReg.predict(X_train)\n",
        "print('train')\n",
        "print(lassoReg.score(X_train,Y_train))\n",
        "lassoReg=Lasso(alpha=0.1,normalize=False)\n",
        "lassoReg.fit(X_test,Y_test)\n",
        "print('test')  \n",
        "print(lassoReg.score(X_test,Y_test))"
      ],
      "execution_count": 0,
      "outputs": [
        {
          "output_type": "stream",
          "text": [
            "train\n",
            "0.8096980241371223\n",
            "test\n",
            "0.9899223617512458\n"
          ],
          "name": "stdout"
        },
        {
          "output_type": "stream",
          "text": [
            "C:\\ProgramData\\Anaconda3\\lib\\site-packages\\sklearn\\linear_model\\coordinate_descent.py:491: ConvergenceWarning: Objective did not converge. You might want to increase the number of iterations. Fitting data with very small alpha may cause precision problems.\n",
            "  ConvergenceWarning)\n"
          ],
          "name": "stderr"
        }
      ]
    },
    {
      "metadata": {
        "scrolled": true,
        "id": "DmgJzvRqSSUE",
        "colab_type": "code",
        "colab": {},
        "outputId": "a5742bf4-7d0f-455b-cdca-5a5b406ecb7f"
      },
      "cell_type": "code",
      "source": [
        "Y_train=np.array(Y_train)\n",
        "Y_train=Y_train.flatten()\n",
        "lassoReg=LassoCV(normalize=False,n_alphas=2000)\n",
        "lassoReg.fit(X_train,Y_train)\n",
        "predictions=lassoReg.predict(X_train)\n",
        "print('train') \n",
        "print(lassoReg.score(X_train,Y_train))\n",
        "Y_test=np.array(Y_test)\n",
        "Y_test=Y_test.flatten()\n",
        "lassoReg=LassoCV(normalize=False,n_alphas=2000)\n",
        "lassoReg.fit(X_test,Y_test)\n",
        "print('test') \n",
        "print(lassoReg.score(X_test,Y_test))"
      ],
      "execution_count": 0,
      "outputs": [
        {
          "output_type": "stream",
          "text": [
            "train\n",
            "0.10870702184035873\n",
            "test\n",
            "0.0\n"
          ],
          "name": "stdout"
        }
      ]
    },
    {
      "metadata": {
        "id": "Ss9Oo5ylSSUM",
        "colab_type": "code",
        "colab": {}
      },
      "cell_type": "code",
      "source": [
        ""
      ],
      "execution_count": 0,
      "outputs": []
    }
  ]
}