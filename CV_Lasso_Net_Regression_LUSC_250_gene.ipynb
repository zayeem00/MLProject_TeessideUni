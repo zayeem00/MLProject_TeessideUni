{
  "nbformat": 4,
  "nbformat_minor": 0,
  "metadata": {
    "colab": {
      "name": "CV Lasso Net Regression LUSC 250 gene.ipynb",
      "version": "0.3.2",
      "provenance": [],
      "collapsed_sections": [],
      "include_colab_link": true
    },
    "kernelspec": {
      "display_name": "Python 3",
      "language": "python",
      "name": "python3"
    }
  },
  "cells": [
    {
      "cell_type": "markdown",
      "metadata": {
        "id": "view-in-github",
        "colab_type": "text"
      },
      "source": [
        "<a href=\"https://colab.research.google.com/github/zayeem00/MLProject_TeessideUni/blob/master/CV_Lasso_Net_Regression_LUSC_250_gene.ipynb\" target=\"_parent\"><img src=\"https://colab.research.google.com/assets/colab-badge.svg\" alt=\"Open In Colab\"/></a>"
      ]
    },
    {
      "metadata": {
        "id": "ECUbEI-mUh2b",
        "colab_type": "code",
        "colab": {}
      },
      "cell_type": "code",
      "source": [
        "#Higher  values of alpha give better scores\n",
        "import pandas as pd\n",
        "import os\n",
        "import matplotlib.pyplot as plt\n",
        "from sklearn import linear_model\n",
        "from sklearn.model_selection import train_test_split\n",
        "from sklearn.model_selection import cross_val_score\n",
        "from sklearn.linear_model import Lasso\n",
        "from sklearn.linear_model import LassoCV"
      ],
      "execution_count": 0,
      "outputs": []
    },
    {
      "metadata": {
        "id": "h7-aCfEIUh2h",
        "colab_type": "code",
        "colab": {}
      },
      "cell_type": "code",
      "source": [
        "from google.colab import files\n",
        "files.upload()"
      ],
      "execution_count": 0,
      "outputs": []
    },
    {
      "metadata": {
        "id": "VeckC_YLUh2k",
        "colab_type": "code",
        "colab": {}
      },
      "cell_type": "code",
      "source": [
        "dt=pd.read_excel('LUSC_250_NoDepth.xlsx')"
      ],
      "execution_count": 0,
      "outputs": []
    },
    {
      "metadata": {
        "id": "Q5ctn_CyUh2n",
        "colab_type": "code",
        "colab": {}
      },
      "cell_type": "code",
      "source": [
        "dt=dt.set_index(dt.columns[0])"
      ],
      "execution_count": 0,
      "outputs": []
    },
    {
      "metadata": {
        "id": "g2D2VfZgUueR",
        "colab_type": "code",
        "colab": {}
      },
      "cell_type": "code",
      "source": [
        "from google.colab import files\n",
        "files.upload()"
      ],
      "execution_count": 0,
      "outputs": []
    },
    {
      "metadata": {
        "id": "5O3TYOxeUh2r",
        "colab_type": "code",
        "colab": {}
      },
      "cell_type": "code",
      "source": [
        "tar=pd.read_excel('survival_LUSC.xlsx')"
      ],
      "execution_count": 0,
      "outputs": []
    },
    {
      "metadata": {
        "id": "RRS7kibOUh2u",
        "colab_type": "code",
        "colab": {}
      },
      "cell_type": "code",
      "source": [
        "from sklearn.model_selection import train_test_split\n",
        "from sklearn.model_selection import TimeSeriesSplit\n",
        "from sklearn.model_selection import RepeatedKFold"
      ],
      "execution_count": 0,
      "outputs": []
    },
    {
      "metadata": {
        "id": "ny4bpfHxUh2x",
        "colab_type": "code",
        "colab": {}
      },
      "cell_type": "code",
      "source": [
        "import numpy as np\n",
        "X=np.array(dt)\n",
        "y=np.array(tar)"
      ],
      "execution_count": 0,
      "outputs": []
    },
    {
      "metadata": {
        "id": "gzVXWJoYWJMl",
        "colab_type": "code",
        "colab": {}
      },
      "cell_type": "code",
      "source": [
        "from sklearn.model_selection import KFold \n",
        "from sklearn.linear_model import ElasticNet\n",
        "kf = RepeatedKFold(n_splits=5, n_repeats=10, random_state=None) \n",
        "tscv = TimeSeriesSplit(n_splits=10)"
      ],
      "execution_count": 0,
      "outputs": []
    },
    {
      "metadata": {
        "id": "STZlsIdbUh23",
        "colab_type": "code",
        "colab": {
          "base_uri": "https://localhost:8080/",
          "height": 867
        },
        "outputId": "89bda5cc-1a5e-43dc-a207-1f98311ca83d"
      },
      "cell_type": "code",
      "source": [
        "a=1\n",
        "for train_index, test_index in tscv.split(X):\n",
        "  print(a)\n",
        "  #print(\"Train:\", train_index, \"Validation:\", test_index)\n",
        "  X_train, X_test = X[train_index], X[test_index]\n",
        "  y_train, y_test = y[train_index], y[test_index]\n",
        "  lassoReg=Lasso(alpha=2,normalize=False)\n",
        "  lassoReg.fit(X_train,y_train)\n",
        "  predictions=lassoReg.predict(X_train)\n",
        "  print('train')\n",
        "  print(lassoReg.score(X_train,y_train))\n",
        "  lassoReg=Lasso(alpha=2,normalize=False)\n",
        "  lassoReg.fit(X_test,y_test)\n",
        "  print('test')\n",
        "  print(lassoReg.score(X_test,y_test))\n",
        "  a=a+1\n"
      ],
      "execution_count": 10,
      "outputs": [
        {
          "output_type": "stream",
          "text": [
            "1\n",
            "train\n",
            "0.9040771824198071\n",
            "test\n",
            "0.9491746921553593\n",
            "2\n",
            "train\n",
            "0.8189224322997463\n",
            "test\n",
            "0.9335298217527865\n",
            "3\n",
            "train\n",
            "0.759953153258633\n",
            "test\n",
            "0.7467248111255527\n",
            "4\n",
            "train\n",
            "0.6029063136254654\n",
            "test\n",
            "0.7927237489135383\n",
            "5\n",
            "train\n",
            "0.5508771595404043\n",
            "test\n",
            "0.9082988231923109\n",
            "6\n",
            "train\n",
            "0.4859795907231944\n",
            "test\n",
            "0.7264549370918351\n",
            "7\n",
            "train\n",
            "0.4295944962631054\n",
            "test\n",
            "0.9203877343842625\n",
            "8\n",
            "train\n",
            "0.3770604149030514\n",
            "test\n",
            "0.8124547766433807\n",
            "9\n",
            "train\n",
            "0.3434031324574135\n",
            "test\n",
            "0.7321079621681357\n",
            "10\n",
            "train\n",
            "0.33329804418529574\n",
            "test\n",
            "0.8636983826752069\n"
          ],
          "name": "stdout"
        }
      ]
    },
    {
      "metadata": {
        "id": "KCTWECGAWb7O",
        "colab_type": "code",
        "colab": {}
      },
      "cell_type": "code",
      "source": [
        "from sklearn.model_selection import KFold \n",
        "from sklearn.linear_model import ElasticNet\n",
        "tscv = TimeSeriesSplit(n_splits=10)"
      ],
      "execution_count": 0,
      "outputs": []
    },
    {
      "metadata": {
        "id": "zFRn2IW3Wb42",
        "colab_type": "code",
        "colab": {
          "base_uri": "https://localhost:8080/",
          "height": 867
        },
        "outputId": "363be24a-07c9-40dd-e9eb-9e5ea4cd7621"
      },
      "cell_type": "code",
      "source": [
        "a=1\n",
        "for train_index, test_index in tscv.split(X):\n",
        "  print(a)\n",
        "  #print(\"Train:\", train_index, \"Validation:\", test_index)\n",
        "  X_train, X_test = X[train_index], X[test_index]\n",
        "  y_train, y_test = y[train_index], y[test_index]\n",
        "  lassoReg=Lasso(alpha=1,normalize=False)\n",
        "  lassoReg.fit(X_train,y_train)\n",
        "  predictions=lassoReg.predict(X_train)\n",
        "  print('train')\n",
        "  print(lassoReg.score(X_train,y_train))\n",
        "  lassoReg=Lasso(alpha=1,normalize=False)\n",
        "  lassoReg.fit(X_test,y_test)\n",
        "  print('test')\n",
        "  print(lassoReg.score(X_test,y_test))\n",
        "  a=a+1\n"
      ],
      "execution_count": 12,
      "outputs": [
        {
          "output_type": "stream",
          "text": [
            "1\n",
            "train\n",
            "0.9718789510610544\n",
            "test\n",
            "0.9837817488506709\n",
            "2\n",
            "train\n",
            "0.9237101140697281\n",
            "test\n",
            "0.9786329594638211\n",
            "3\n",
            "train\n",
            "0.8771701437060305\n",
            "test\n",
            "0.905502722293764\n",
            "4\n",
            "train\n",
            "0.7618216087903132\n",
            "test\n",
            "0.9182049798761872\n",
            "5\n",
            "train\n",
            "0.6925968066564026\n",
            "test\n",
            "0.9716716737319725\n",
            "6\n",
            "train\n",
            "0.6044099689991795\n",
            "test\n",
            "0.89509719927007\n",
            "7\n",
            "train\n",
            "0.5541619205199648\n",
            "test\n",
            "0.9789635039136791\n",
            "8\n",
            "train\n",
            "0.5063954394132264\n",
            "test\n",
            "0.9416384507311806\n",
            "9\n",
            "train\n",
            "0.4688178101428179\n",
            "test\n",
            "0.8992511544411472\n",
            "10\n",
            "train\n",
            "0.4500679013868879\n",
            "test\n",
            "0.9527963221355689\n"
          ],
          "name": "stdout"
        }
      ]
    },
    {
      "metadata": {
        "id": "iHn5SOw-Wb3F",
        "colab_type": "code",
        "colab": {
          "base_uri": "https://localhost:8080/",
          "height": 4267
        },
        "outputId": "f56352fd-ce4c-458d-e2fb-6e690e4ba509"
      },
      "cell_type": "code",
      "source": [
        "from sklearn.model_selection import KFold \n",
        "kf = RepeatedKFold(n_splits=5, n_repeats=10, random_state=None) \n",
        "a=1\n",
        "for train_index, test_index in kf.split(X):\n",
        "     # print(\"Train:\", train_index, \"Validation:\",test_index)\n",
        "      print(a)\n",
        "      X_train, X_test = X[train_index], X[test_index] \n",
        "      y_train, y_test = y[train_index], y[test_index]\n",
        "      lassoReg=Lasso(alpha=1,normalize=False)\n",
        "      lassoReg.fit(X_train,y_train)\n",
        "      predictions=lassoReg.predict(X_train)\n",
        "      print('train')\n",
        "      print(lassoReg.score(X_train,y_train))  \n",
        "      lassoReg=Lasso(alpha=1,normalize=False)\n",
        "      lassoReg.fit(X_test,y_test)\n",
        "      print('test')\n",
        "      print(lassoReg.score(X_test,y_test))\n",
        "      a=a+1\n",
        "      "
      ],
      "execution_count": 13,
      "outputs": [
        {
          "output_type": "stream",
          "text": [
            "1\n",
            "train\n",
            "0.4555655136222269\n",
            "test\n",
            "0.8928814044754969\n",
            "2\n",
            "train\n",
            "0.5236184721275225\n",
            "test\n",
            "0.8571401731299048\n",
            "3\n",
            "train\n",
            "0.46426890713380276\n",
            "test\n",
            "0.7612997431373819\n",
            "4\n",
            "train\n",
            "0.45491525442558367\n",
            "test\n",
            "0.886480735174662\n",
            "5\n",
            "train\n",
            "0.4779368120907428\n",
            "test\n",
            "0.9029941136934629\n",
            "6\n",
            "train\n",
            "0.48093660337686467\n",
            "test\n",
            "0.8950322759075471\n",
            "7\n",
            "train\n",
            "0.46739928327102787\n",
            "test\n",
            "0.8975976660716868\n",
            "8\n",
            "train\n",
            "0.46133068185346765\n",
            "test\n",
            "0.8928049004507292\n",
            "9\n",
            "train\n",
            "0.48476887675623087\n",
            "test\n",
            "0.8537192359425032\n",
            "10\n",
            "train\n",
            "0.4756746667170483\n",
            "test\n",
            "0.9099986424538533\n",
            "11\n",
            "train\n",
            "0.48079826377670576\n",
            "test\n",
            "0.8578780913746946\n",
            "12\n",
            "train\n",
            "0.4846712394324399\n",
            "test\n",
            "0.8422604133724206\n",
            "13\n",
            "train\n",
            "0.4801177658398763\n",
            "test\n",
            "0.8717634178285851\n",
            "14\n",
            "train\n",
            "0.4325308701810044\n",
            "test\n",
            "0.8911479274702765\n",
            "15\n",
            "train\n",
            "0.4818132958263311\n",
            "test\n",
            "0.8831380726079319\n",
            "16\n",
            "train\n",
            "0.4766397667084839\n",
            "test\n",
            "0.8742855833039629\n",
            "17\n",
            "train\n",
            "0.47755110452391836\n",
            "test\n",
            "0.8779231047706348\n",
            "18\n",
            "train\n",
            "0.46877609073059046\n",
            "test\n",
            "0.8553248715466931\n",
            "19\n",
            "train\n",
            "0.43858733904288055\n",
            "test\n",
            "0.8792672392800779\n",
            "20\n",
            "train\n",
            "0.48045390504425395\n",
            "test\n",
            "0.8866455299476059\n",
            "21\n",
            "train\n",
            "0.4528290734962405\n",
            "test\n",
            "0.924529429292708\n",
            "22\n",
            "train\n",
            "0.48937949957443183\n",
            "test\n",
            "0.872605141625787\n",
            "23\n",
            "train\n",
            "0.4600571542229032\n",
            "test\n",
            "0.85125439731039\n",
            "24\n",
            "train\n",
            "0.48009502050357517\n",
            "test\n",
            "0.8712652478866021\n",
            "25\n",
            "train\n",
            "0.49064266100556286\n",
            "test\n",
            "0.8699565750895427\n",
            "26\n",
            "train\n",
            "0.5055139206542978\n",
            "test\n",
            "0.8558343823107886\n",
            "27\n",
            "train\n",
            "0.4593167021405291\n",
            "test\n",
            "0.8182241947851009\n",
            "28\n",
            "train\n",
            "0.48779142765926864\n",
            "test\n",
            "0.8351195275746232\n",
            "29\n",
            "train\n",
            "0.46727186126971065\n",
            "test\n",
            "0.8917027229277373\n",
            "30\n",
            "train\n",
            "0.45673684835722717\n",
            "test\n",
            "0.887246364501509\n",
            "31\n",
            "train\n",
            "0.5016628748144305\n",
            "test\n",
            "0.853671388884657\n",
            "32\n",
            "train\n",
            "0.4449576627922615\n",
            "test\n",
            "0.9164538931168577\n",
            "33\n",
            "train\n",
            "0.4941368744385274\n",
            "test\n",
            "0.8814532162190671\n",
            "34\n",
            "train\n",
            "0.4828596398949525\n",
            "test\n",
            "0.8966790814643424\n",
            "35\n",
            "train\n",
            "0.4563943773694429\n",
            "test\n",
            "0.8828744395219882\n",
            "36\n",
            "train\n",
            "0.4755742824517596\n",
            "test\n",
            "0.8416356543609524\n",
            "37\n",
            "train\n",
            "0.4768267029049125\n",
            "test\n",
            "0.8630998378928675\n",
            "38\n",
            "train\n",
            "0.4444781769473412\n",
            "test\n",
            "0.9039816794868522\n",
            "39\n",
            "train\n",
            "0.46170361750875977\n",
            "test\n",
            "0.8298670715572527\n",
            "40\n",
            "train\n",
            "0.5025665886741004\n",
            "test\n",
            "0.8928541975822116\n",
            "41\n",
            "train\n",
            "0.4863569133881084\n",
            "test\n",
            "0.8589051755673446\n",
            "42\n",
            "train\n",
            "0.4950913556584049\n",
            "test\n",
            "0.8436355962175841\n",
            "43\n",
            "train\n",
            "0.4502574399459427\n",
            "test\n",
            "0.9105621242081734\n",
            "44\n",
            "train\n",
            "0.4695715458213387\n",
            "test\n",
            "0.8889943916549744\n",
            "45\n",
            "train\n",
            "0.47708219730900536\n",
            "test\n",
            "0.8743052596136461\n",
            "46\n",
            "train\n",
            "0.4642804323388767\n",
            "test\n",
            "0.9155634140313711\n",
            "47\n",
            "train\n",
            "0.5043046445755835\n",
            "test\n",
            "0.8509461716559317\n",
            "48\n",
            "train\n",
            "0.46173088982061933\n",
            "test\n",
            "0.9096813350346585\n",
            "49\n",
            "train\n",
            "0.475438308833823\n",
            "test\n",
            "0.8370853859332171\n",
            "50\n",
            "train\n",
            "0.4866729841702257\n",
            "test\n",
            "0.8748276898784952\n"
          ],
          "name": "stdout"
        }
      ]
    },
    {
      "metadata": {
        "id": "dAFfjg1nWbxO",
        "colab_type": "code",
        "colab": {
          "base_uri": "https://localhost:8080/",
          "height": 4267
        },
        "outputId": "82c4aafc-5949-476c-d5c1-5a5c9878fc02"
      },
      "cell_type": "code",
      "source": [
        "from sklearn.model_selection import KFold \n",
        "kf = RepeatedKFold(n_splits=5, n_repeats=10, random_state=None) \n",
        "a=1\n",
        "for train_index, test_index in kf.split(X):\n",
        "     # print(\"Train:\", train_index, \"Validation:\",test_index)\n",
        "      print(a)\n",
        "      X_train, X_test = X[train_index], X[test_index] \n",
        "      y_train, y_test = y[train_index], y[test_index]\n",
        "      lassoReg=Lasso(alpha=2,normalize=False)\n",
        "      lassoReg.fit(X_train,y_train)\n",
        "      predictions=lassoReg.predict(X_train)\n",
        "      print('train')\n",
        "      print(lassoReg.score(X_train,y_train))  \n",
        "      lassoReg=Lasso(alpha=2,normalize=False)\n",
        "      lassoReg.fit(X_test,y_test)\n",
        "      print('test')\n",
        "      print(lassoReg.score(X_test,y_test))\n",
        "      a=a+1\n",
        "      "
      ],
      "execution_count": 14,
      "outputs": [
        {
          "output_type": "stream",
          "text": [
            "1\n",
            "train\n",
            "0.3610216463879775\n",
            "test\n",
            "0.7516179569921833\n",
            "2\n",
            "train\n",
            "0.3472703353685466\n",
            "test\n",
            "0.791444279046453\n",
            "3\n",
            "train\n",
            "0.3498842501546788\n",
            "test\n",
            "0.7164532903950146\n",
            "4\n",
            "train\n",
            "0.35041825889055755\n",
            "test\n",
            "0.787648022123174\n",
            "5\n",
            "train\n",
            "0.34928811611481636\n",
            "test\n",
            "0.7109405350743985\n",
            "6\n",
            "train\n",
            "0.3327666467170993\n",
            "test\n",
            "0.7304942258683487\n",
            "7\n",
            "train\n",
            "0.34472034777497307\n",
            "test\n",
            "0.6551560597178843\n",
            "8\n",
            "train\n",
            "0.3571649355155604\n",
            "test\n",
            "0.759725676263911\n",
            "9\n",
            "train\n",
            "0.3646035708814594\n",
            "test\n",
            "0.7211907794730724\n",
            "10\n",
            "train\n",
            "0.3299696672488006\n",
            "test\n",
            "0.7260840689625809\n",
            "11\n",
            "train\n",
            "0.34225681047598566\n",
            "test\n",
            "0.7179251978805115\n",
            "12\n",
            "train\n",
            "0.36224747706576765\n",
            "test\n",
            "0.6571570967529137\n",
            "13\n",
            "train\n",
            "0.3843568931431097\n",
            "test\n",
            "0.736555892180858\n",
            "14\n",
            "train\n",
            "0.3410786605762589\n",
            "test\n",
            "0.7895411939663906\n",
            "15\n",
            "train\n",
            "0.3423026022993325\n",
            "test\n",
            "0.7658638515312399\n",
            "16\n",
            "train\n",
            "0.33077787334188335\n",
            "test\n",
            "0.7118854740965554\n",
            "17\n",
            "train\n",
            "0.33216082704383587\n",
            "test\n",
            "0.7794561573515506\n",
            "18\n",
            "train\n",
            "0.34545542904477233\n",
            "test\n",
            "0.7941650351795587\n",
            "19\n",
            "train\n",
            "0.3819430593012674\n",
            "test\n",
            "0.6294283646166139\n",
            "20\n",
            "train\n",
            "0.3488975354695444\n",
            "test\n",
            "0.6954286426566227\n",
            "21\n",
            "train\n",
            "0.37022064764032336\n",
            "test\n",
            "0.6550391425302475\n",
            "22\n",
            "train\n",
            "0.3736842373785174\n",
            "test\n",
            "0.7264094371631602\n",
            "23\n",
            "train\n",
            "0.3157467356688358\n",
            "test\n",
            "0.782120025670688\n",
            "24\n",
            "train\n",
            "0.3775724112465515\n",
            "test\n",
            "0.602021198939737\n",
            "25\n",
            "train\n",
            "0.3156881537051133\n",
            "test\n",
            "0.7910346901452003\n",
            "26\n",
            "train\n",
            "0.3708927276933431\n",
            "test\n",
            "0.6748487909387637\n",
            "27\n",
            "train\n",
            "0.3596801199934332\n",
            "test\n",
            "0.6937270892054825\n",
            "28\n",
            "train\n",
            "0.33407022512796725\n",
            "test\n",
            "0.7230385447724138\n",
            "29\n",
            "train\n",
            "0.3336654092758199\n",
            "test\n",
            "0.7406971394597373\n",
            "30\n",
            "train\n",
            "0.34333514967008083\n",
            "test\n",
            "0.7815610999218177\n",
            "31\n",
            "train\n",
            "0.3449363664913727\n",
            "test\n",
            "0.7544998046521367\n",
            "32\n",
            "train\n",
            "0.34126617821416694\n",
            "test\n",
            "0.7259625759114396\n",
            "33\n",
            "train\n",
            "0.3688872684978891\n",
            "test\n",
            "0.6061819041121833\n",
            "34\n",
            "train\n",
            "0.33865984318395737\n",
            "test\n",
            "0.7645100740099497\n",
            "35\n",
            "train\n",
            "0.3526559878407201\n",
            "test\n",
            "0.7483795330571213\n",
            "36\n",
            "train\n",
            "0.3515555158567353\n",
            "test\n",
            "0.696649924069638\n",
            "37\n",
            "train\n",
            "0.3474240624149925\n",
            "test\n",
            "0.6487806067775311\n",
            "38\n",
            "train\n",
            "0.35046901147861464\n",
            "test\n",
            "0.820890504590764\n",
            "39\n",
            "train\n",
            "0.3335617276051325\n",
            "test\n",
            "0.7132727942541437\n",
            "40\n",
            "train\n",
            "0.3376737397373\n",
            "test\n",
            "0.6729040232956247\n",
            "41\n",
            "train\n",
            "0.34800188297745005\n",
            "test\n",
            "0.7376283705183788\n",
            "42\n",
            "train\n",
            "0.3383416439019187\n",
            "test\n",
            "0.7553979050540065\n",
            "43\n",
            "train\n",
            "0.3494786558215382\n",
            "test\n",
            "0.7525153988325521\n",
            "44\n",
            "train\n",
            "0.38458520095695287\n",
            "test\n",
            "0.7613018939925345\n",
            "45\n",
            "train\n",
            "0.33428334941110815\n",
            "test\n",
            "0.7187886797172207\n",
            "46\n",
            "train\n",
            "0.32802467103432487\n",
            "test\n",
            "0.7670280540547133\n",
            "47\n",
            "train\n",
            "0.37372921677239473\n",
            "test\n",
            "0.6216882663237366\n",
            "48\n",
            "train\n",
            "0.3242686352171631\n",
            "test\n",
            "0.799930259217253\n",
            "49\n",
            "train\n",
            "0.34531879423478196\n",
            "test\n",
            "0.6984163335871709\n",
            "50\n",
            "train\n",
            "0.35969468830584006\n",
            "test\n",
            "0.6330892462766555\n"
          ],
          "name": "stdout"
        }
      ]
    },
    {
      "metadata": {
        "id": "qiS-9_WQWbvN",
        "colab_type": "code",
        "colab": {}
      },
      "cell_type": "code",
      "source": [
        ""
      ],
      "execution_count": 0,
      "outputs": []
    },
    {
      "metadata": {
        "id": "AltyE1rvWbsz",
        "colab_type": "code",
        "colab": {}
      },
      "cell_type": "code",
      "source": [
        ""
      ],
      "execution_count": 0,
      "outputs": []
    },
    {
      "metadata": {
        "id": "J2gnnLtBWbqY",
        "colab_type": "code",
        "colab": {}
      },
      "cell_type": "code",
      "source": [
        ""
      ],
      "execution_count": 0,
      "outputs": []
    },
    {
      "metadata": {
        "id": "UDSH3D3tWbn9",
        "colab_type": "code",
        "colab": {}
      },
      "cell_type": "code",
      "source": [
        ""
      ],
      "execution_count": 0,
      "outputs": []
    },
    {
      "metadata": {
        "id": "cezHbP35Wblg",
        "colab_type": "code",
        "colab": {}
      },
      "cell_type": "code",
      "source": [
        ""
      ],
      "execution_count": 0,
      "outputs": []
    },
    {
      "metadata": {
        "id": "Kn_uzmugWbi8",
        "colab_type": "code",
        "colab": {}
      },
      "cell_type": "code",
      "source": [
        ""
      ],
      "execution_count": 0,
      "outputs": []
    },
    {
      "metadata": {
        "id": "LXx-n5Z-Uh28",
        "colab_type": "code",
        "colab": {},
        "outputId": "38ec2441-0f61-4632-e97b-75a888298545"
      },
      "cell_type": "code",
      "source": [
        "lassoReg=Lasso(alpha=0.5,normalize=False)\n",
        "lassoReg.fit(X_train,Y_train)\n",
        "predictions=lassoReg.predict(X_train)\n",
        "print('train')\n",
        "print(lassoReg.score(X_train,Y_train))\n",
        "lassoReg=Lasso(alpha=0.5,normalize=False)\n",
        "lassoReg.fit(X_test,Y_test)\n",
        "print('test')\n",
        "print(lassoReg.score(X_test,Y_test))"
      ],
      "execution_count": 0,
      "outputs": [
        {
          "output_type": "stream",
          "text": [
            "train\n",
            "0.6603330661334619\n",
            "test\n",
            "0.9282099057616083\n"
          ],
          "name": "stdout"
        }
      ]
    },
    {
      "metadata": {
        "id": "OXyWgLjWUh2_",
        "colab_type": "code",
        "colab": {},
        "outputId": "ddeb3ee9-542d-4a56-ee78-0bc2a604f07f"
      },
      "cell_type": "code",
      "source": [
        "lassoReg=Lasso(alpha=1,normalize=False)\n",
        "lassoReg.fit(X_train,Y_train)\n",
        "predictions=lassoReg.predict(X_train)\n",
        "print('train')\n",
        "print(lassoReg.score(X_train,Y_train))\n",
        "lassoReg=Lasso(alpha=1,normalize=False)\n",
        "lassoReg.fit(X_test,Y_test)\n",
        "print('test')\n",
        "print(lassoReg.score(X_test,Y_test))"
      ],
      "execution_count": 0,
      "outputs": [
        {
          "output_type": "stream",
          "text": [
            "train\n",
            "0.5281777684161031\n",
            "test\n",
            "0.8167688495641934\n"
          ],
          "name": "stdout"
        }
      ]
    },
    {
      "metadata": {
        "id": "OY-Hbz9QUh3D",
        "colab_type": "code",
        "colab": {},
        "outputId": "5f6edf09-2f03-40bb-e6c5-aee7270404f7"
      },
      "cell_type": "code",
      "source": [
        "                                           #BEST\n",
        "    \n",
        "lassoReg=Lasso(alpha=2,normalize=False)\n",
        "lassoReg.fit(X_train,Y_train)\n",
        "predictions=lassoReg.predict(X_train)\n",
        "print('train')\n",
        "print(lassoReg.score(X_train,Y_train))\n",
        "lassoReg=Lasso(alpha=2,normalize=False)\n",
        "lassoReg.fit(X_test,Y_test)\n",
        "print('test')\n",
        "print(lassoReg.score(X_test,Y_test))"
      ],
      "execution_count": 0,
      "outputs": [
        {
          "output_type": "stream",
          "text": [
            "train\n",
            "0.3776253317853604\n",
            "test\n",
            "0.641026130727297\n"
          ],
          "name": "stdout"
        }
      ]
    },
    {
      "metadata": {
        "id": "Lvn5dBPtUh3H",
        "colab_type": "code",
        "colab": {},
        "outputId": "77ad9508-f251-4d86-9944-4a60342dec23"
      },
      "cell_type": "code",
      "source": [
        "lassoReg=Lasso(alpha=2.5,normalize=False)\n",
        "lassoReg.fit(X_train,Y_train)\n",
        "predictions=lassoReg.predict(X_train)\n",
        "print('train')\n",
        "print(lassoReg.score(X_train,Y_train))\n",
        "lassoReg=Lasso(alpha=2.5,normalize=False)\n",
        "lassoReg.fit(X_test,Y_test)\n",
        "print('test')\n",
        "print(lassoReg.score(X_test,Y_test))"
      ],
      "execution_count": 0,
      "outputs": [
        {
          "output_type": "stream",
          "text": [
            "train\n",
            "0.32386014705694754\n",
            "test\n",
            "0.5654694402449054\n"
          ],
          "name": "stdout"
        }
      ]
    },
    {
      "metadata": {
        "id": "15Ab3nGUUh3K",
        "colab_type": "code",
        "colab": {},
        "outputId": "f8d47bce-0a55-474c-f905-74e9a9e68d0b"
      },
      "cell_type": "code",
      "source": [
        "import numpy as np\n",
        "Y_train=np.array(Y_train)\n",
        "Y_train=Y_train.ravel()\n",
        "lassoReg=LassoCV(normalize=False,n_alphas=200,alphas=None,max_iter=2000) \n",
        "lassoReg.fit(X_train,Y_train)\n",
        "predictions=lassoReg.predict(X_train)\n",
        "print('train')\n",
        "print(lassoReg.score(X_train,Y_train))\n",
        "Y_test=np.array(Y_test)\n",
        "Y_test=Y_test.ravel()\n",
        "lassoReg=LassoCV(normalize=False,n_alphas=200,alphas=None,max_iter=2000)\n",
        "lassoReg.fit(X_test,Y_test)\n",
        "print('test')\n",
        "print(lassoReg.score(X_test,Y_test)) "
      ],
      "execution_count": 0,
      "outputs": [
        {
          "output_type": "stream",
          "text": [
            "train\n",
            "0.04720258208393435\n"
          ],
          "name": "stdout"
        },
        {
          "output_type": "stream",
          "text": [
            "C:\\ProgramData\\Anaconda3\\lib\\site-packages\\sklearn\\linear_model\\coordinate_descent.py:491: ConvergenceWarning: Objective did not converge. You might want to increase the number of iterations. Fitting data with very small alpha may cause precision problems.\n",
            "  ConvergenceWarning)\n"
          ],
          "name": "stderr"
        },
        {
          "output_type": "stream",
          "text": [
            "test\n",
            "0.08057839775916298\n"
          ],
          "name": "stdout"
        }
      ]
    },
    {
      "metadata": {
        "id": "hwg6wZdGUh3P",
        "colab_type": "code",
        "colab": {}
      },
      "cell_type": "code",
      "source": [
        "dt1=pd.read_excel('LUSC_300_NoDepth.xlsx',index_col=0)"
      ],
      "execution_count": 0,
      "outputs": []
    },
    {
      "metadata": {
        "id": "i6HduoeIUh3U",
        "colab_type": "code",
        "colab": {}
      },
      "cell_type": "code",
      "source": [
        "tar=pd.read_excel('survival_LUSC.xlsx')"
      ],
      "execution_count": 0,
      "outputs": []
    },
    {
      "metadata": {
        "id": "Oo50qytNUh3Y",
        "colab_type": "code",
        "colab": {},
        "outputId": "afa82636-0495-4a53-846a-6fdce0d6f9cb"
      },
      "cell_type": "code",
      "source": [
        "Y=tar\n",
        "X_train,X_test,Y_train,Y_test=train_test_split(dt1,Y,test_size=0.3)\n",
        "print(X_train.shape,Y_train.shape)\n",
        "print(X_test.shape,Y_test.shape)"
      ],
      "execution_count": 0,
      "outputs": [
        {
          "output_type": "stream",
          "text": [
            "(350, 300) (350, 1)\n",
            "(151, 300) (151, 1)\n"
          ],
          "name": "stdout"
        }
      ]
    },
    {
      "metadata": {
        "id": "yLCTkHHmUh3c",
        "colab_type": "code",
        "colab": {},
        "outputId": "b38dd402-a2bb-4c1c-9a74-2a7047834bf6"
      },
      "cell_type": "code",
      "source": [
        "lassoReg=Lasso(alpha=2,normalize=False)\n",
        "lassoReg.fit(X_train,Y_train)\n",
        "predictions=lassoReg.predict(X_train)\n",
        "print('train')\n",
        "print(lassoReg.score(X_train,Y_train))\n",
        "lassoReg=Lasso(alpha=2,normalize=False)\n",
        "lassoReg.fit(X_test,Y_test)\n",
        "print('test')\n",
        "print(lassoReg.score(X_test,Y_test))"
      ],
      "execution_count": 0,
      "outputs": [
        {
          "output_type": "stream",
          "text": [
            "train\n",
            "0.40462130907244076\n",
            "test\n",
            "0.5758771998090401\n"
          ],
          "name": "stdout"
        }
      ]
    },
    {
      "metadata": {
        "id": "tBIodsDdUh3h",
        "colab_type": "code",
        "colab": {},
        "outputId": "7b1918cb-a1cd-4e27-b3ac-104d9c8b50b5"
      },
      "cell_type": "code",
      "source": [
        "                                        #BEST\n",
        "lassoReg=Lasso(alpha=1,normalize=False)\n",
        "lassoReg.fit(X_train,Y_train)   \n",
        "predictions=lassoReg.predict(X_train)\n",
        "print('train')\n",
        "print(lassoReg.score(X_train,Y_train))\n",
        "lassoReg=Lasso(alpha=1,normalize=False)\n",
        "lassoReg.fit(X_test,Y_test)\n",
        "print('test')\n",
        "print(lassoReg.score(X_test,Y_test))"
      ],
      "execution_count": 0,
      "outputs": [
        {
          "output_type": "stream",
          "text": [
            "train\n",
            "0.5522928988741411\n",
            "test\n",
            "0.7941284043834747\n"
          ],
          "name": "stdout"
        }
      ]
    },
    {
      "metadata": {
        "id": "U9tAwNFZUh3l",
        "colab_type": "code",
        "colab": {},
        "outputId": "6c2b1bd6-47b4-40ce-eb39-3c886d946a20"
      },
      "cell_type": "code",
      "source": [
        "lassoReg=Lasso(alpha=0.5,normalize=False)\n",
        "lassoReg.fit(X_train,Y_train)\n",
        "predictions=lassoReg.predict(X_train)\n",
        "print('train')\n",
        "print(lassoReg.score(X_train,Y_train))\n",
        "lassoReg=Lasso(alpha=0.5,normalize=False)\n",
        "lassoReg.fit(X_test,Y_test)\n",
        "print('test')\n",
        "print(lassoReg.score(X_test,Y_test))"
      ],
      "execution_count": 0,
      "outputs": [
        {
          "output_type": "stream",
          "text": [
            "train\n",
            "0.6830624950238502\n",
            "test\n",
            "0.9123332322679027\n"
          ],
          "name": "stdout"
        }
      ]
    },
    {
      "metadata": {
        "id": "gva9iXQgUh3z",
        "colab_type": "code",
        "colab": {},
        "outputId": "f13b0fb6-3059-4fb3-acb1-bdb15603aed2"
      },
      "cell_type": "code",
      "source": [
        "lassoReg=Lasso(alpha=0.1,normalize=False)\n",
        "lassoReg.fit(X_train,Y_train)\n",
        "predictions=lassoReg.predict(X_train)\n",
        "print('train')\n",
        "print(lassoReg.score(X_train,Y_train))\n",
        "lassoReg=Lasso(alpha=0.1,normalize=False)\n",
        "lassoReg.fit(X_test,Y_test)\n",
        "print('test')  \n",
        "print(lassoReg.score(X_test,Y_test))"
      ],
      "execution_count": 0,
      "outputs": [
        {
          "output_type": "stream",
          "text": [
            "train\n",
            "0.8360892383026831\n",
            "test\n",
            "0.9928517843848894\n"
          ],
          "name": "stdout"
        },
        {
          "output_type": "stream",
          "text": [
            "C:\\ProgramData\\Anaconda3\\lib\\site-packages\\sklearn\\linear_model\\coordinate_descent.py:491: ConvergenceWarning: Objective did not converge. You might want to increase the number of iterations. Fitting data with very small alpha may cause precision problems.\n",
            "  ConvergenceWarning)\n"
          ],
          "name": "stderr"
        }
      ]
    },
    {
      "metadata": {
        "scrolled": true,
        "id": "Hww9Jj73Uh36",
        "colab_type": "code",
        "colab": {},
        "outputId": "c39d9650-ff0c-4c11-85b4-8c9ed6b5926a"
      },
      "cell_type": "code",
      "source": [
        "Y_train=np.array(Y_train)\n",
        "Y_train=Y_train.flatten()\n",
        "lassoReg=LassoCV(normalize=False,n_alphas=2000)\n",
        "lassoReg.fit(X_train,Y_train)\n",
        "predictions=lassoReg.predict(X_train)\n",
        "print('train') \n",
        "print(lassoReg.score(X_train,Y_train))\n",
        "Y_test=np.array(Y_test)\n",
        "Y_test=Y_test.flatten()\n",
        "lassoReg=LassoCV(normalize=False,n_alphas=2000)\n",
        "lassoReg.fit(X_test,Y_test)\n",
        "print('test') \n",
        "print(lassoReg.score(X_test,Y_test))"
      ],
      "execution_count": 0,
      "outputs": [
        {
          "output_type": "stream",
          "text": [
            "train\n",
            "0.10776803998112161\n",
            "test\n",
            "0.049750003626646166\n"
          ],
          "name": "stdout"
        }
      ]
    },
    {
      "metadata": {
        "id": "R1M1-1dSUh4C",
        "colab_type": "code",
        "colab": {}
      },
      "cell_type": "code",
      "source": [
        ""
      ],
      "execution_count": 0,
      "outputs": []
    }
  ]
}