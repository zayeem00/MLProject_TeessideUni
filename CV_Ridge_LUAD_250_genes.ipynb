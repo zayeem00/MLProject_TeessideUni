{
  "nbformat": 4,
  "nbformat_minor": 0,
  "metadata": {
    "colab": {
      "name": "CV Ridge LUAD 250 genes.ipynb",
      "version": "0.3.2",
      "provenance": [],
      "collapsed_sections": [],
      "include_colab_link": true
    },
    "kernelspec": {
      "display_name": "Python 3",
      "language": "python",
      "name": "python3"
    }
  },
  "cells": [
    {
      "cell_type": "markdown",
      "metadata": {
        "id": "view-in-github",
        "colab_type": "text"
      },
      "source": [
        "<a href=\"https://colab.research.google.com/github/zayeem00/MLProject_TeessideUni/blob/master/CV_Ridge_LUAD_250_genes.ipynb\" target=\"_parent\"><img src=\"https://colab.research.google.com/assets/colab-badge.svg\" alt=\"Open In Colab\"/></a>"
      ]
    },
    {
      "metadata": {
        "id": "MYVYEX6TX2HP",
        "colab_type": "code",
        "colab": {}
      },
      "cell_type": "code",
      "source": [
        "#Higher  values of alpha give better scores\n",
        "import pandas as pd\n",
        "import os\n",
        "import matplotlib.pyplot as plt\n",
        "from sklearn import linear_model\n",
        "from sklearn.model_selection import train_test_split\n",
        "from sklearn.model_selection import cross_val_score\n",
        "from sklearn.linear_model import Lasso\n",
        "from sklearn.linear_model import LassoCV"
      ],
      "execution_count": 0,
      "outputs": []
    },
    {
      "metadata": {
        "id": "9JuqX_B6X2HY",
        "colab_type": "code",
        "colab": {}
      },
      "cell_type": "code",
      "source": [
        "from google.colab import files\n",
        "files.upload()"
      ],
      "execution_count": 0,
      "outputs": []
    },
    {
      "metadata": {
        "id": "TN9csmYWX2He",
        "colab_type": "code",
        "colab": {}
      },
      "cell_type": "code",
      "source": [
        "dt1=pd.read_excel('LUAD_250_NoDepth.xlsx')"
      ],
      "execution_count": 0,
      "outputs": []
    },
    {
      "metadata": {
        "id": "7OcfRpSQX2Hi",
        "colab_type": "code",
        "colab": {}
      },
      "cell_type": "code",
      "source": [
        "dt1=dt1.set_index(dt1.columns[0])\n"
      ],
      "execution_count": 0,
      "outputs": []
    },
    {
      "metadata": {
        "id": "m1cHyN-6YkmL",
        "colab_type": "code",
        "colab": {}
      },
      "cell_type": "code",
      "source": [
        "from google.colab import files\n",
        "files.upload()"
      ],
      "execution_count": 0,
      "outputs": []
    },
    {
      "metadata": {
        "id": "lBHrTOxuX2Hl",
        "colab_type": "code",
        "colab": {}
      },
      "cell_type": "code",
      "source": [
        "tar=pd.read_excel('survival_LUAD.xlsx')"
      ],
      "execution_count": 0,
      "outputs": []
    },
    {
      "metadata": {
        "id": "UCLymIgaYzM5",
        "colab_type": "code",
        "colab": {}
      },
      "cell_type": "code",
      "source": [
        "from sklearn.model_selection import train_test_split\n",
        "from sklearn.model_selection import TimeSeriesSplit\n",
        "from sklearn.model_selection import RepeatedKFold\n",
        "from sklearn.linear_model import Ridge"
      ],
      "execution_count": 0,
      "outputs": []
    },
    {
      "metadata": {
        "id": "UKwI6EWgX2Hp",
        "colab_type": "code",
        "colab": {}
      },
      "cell_type": "code",
      "source": [
        "\n",
        " \n",
        "import numpy as np\n",
        "X=np.array(dt1)\n",
        "y=np.array(tar)"
      ],
      "execution_count": 0,
      "outputs": []
    },
    {
      "metadata": {
        "id": "uFwV2q5UX2Ht",
        "colab_type": "code",
        "colab": {}
      },
      "cell_type": "code",
      "source": [
        "from sklearn.model_selection import train_test_split\n",
        "X_train,X_test,Y_train,Y_test=train_test_split(dt1,Y,test_size=0.3,random_state=42) "
      ],
      "execution_count": 0,
      "outputs": []
    },
    {
      "metadata": {
        "id": "-xNh5QFiX2Hx",
        "colab_type": "code",
        "colab": {}
      },
      "cell_type": "code",
      "source": [
        "from sklearn.model_selection import KFold \n",
        "from sklearn.linear_model import ElasticNet\n",
        "kf = RepeatedKFold(n_splits=5, n_repeats=10, random_state=None) \n",
        "tscv = TimeSeriesSplit(n_splits=10)"
      ],
      "execution_count": 0,
      "outputs": []
    },
    {
      "metadata": {
        "id": "geIjEooGX2H3",
        "colab_type": "code",
        "colab": {
          "base_uri": "https://localhost:8080/",
          "height": 697
        },
        "outputId": "e817bfb1-e293-414f-fb13-61191d84b89b"
      },
      "cell_type": "code",
      "source": [
        "a=1\n",
        "for train_index, test_index in tscv.split(X):\n",
        "  print(a)\n",
        "  #print(\"Train:\", train_index, \"Validation:\", test_index)\n",
        "  X_train, X_test = X[train_index], X[test_index]\n",
        "  y_train, y_test = y[train_index], y[test_index]\n",
        "  ridgeReg=Ridge(alpha=1,normalize=True)\n",
        "  ridgeReg.fit(X_train,y_train)\n",
        "  predictions=ridgeReg.predict(X_test)\n",
        "  print('train')\n",
        "  print(ridgeReg.score(X_train,y_train))\n",
        "  ridgeReg=Ridge(alpha=1,normalize=True)\n",
        "  ridgeReg.fit(X_test,y_test)\n",
        "  predictions=ridgeReg.predict(X_test)  \n",
        "  print(ridgeReg.score(X_test,y_test))  \n",
        "  a=a+1\n"
      ],
      "execution_count": 16,
      "outputs": [
        {
          "output_type": "stream",
          "text": [
            "1\n",
            "train\n",
            "0.962244662967606\n",
            "0.948124090280175\n",
            "2\n",
            "train\n",
            "0.8382317959338349\n",
            "0.9719727899379098\n",
            "3\n",
            "train\n",
            "0.8338448945986081\n",
            "0.941350062848119\n",
            "4\n",
            "train\n",
            "0.7596135899198249\n",
            "0.9494491300068815\n",
            "5\n",
            "train\n",
            "0.7208802036424775\n",
            "0.9582631544726443\n",
            "6\n",
            "train\n",
            "0.6653248434769916\n",
            "0.9264470510967376\n",
            "7\n",
            "train\n",
            "0.6255536030047697\n",
            "0.947208993092617\n",
            "8\n",
            "train\n",
            "0.5562022989951652\n",
            "0.9316987878323956\n",
            "9\n",
            "train\n",
            "0.5327328445648118\n",
            "0.9629981332119474\n",
            "10\n",
            "train\n",
            "0.5134257895012391\n",
            "0.9585252879012989\n"
          ],
          "name": "stdout"
        }
      ]
    },
    {
      "metadata": {
        "id": "0OXhrm9jZ0ko",
        "colab_type": "code",
        "colab": {}
      },
      "cell_type": "code",
      "source": [
        "from sklearn.model_selection import KFold \n",
        "from sklearn.linear_model import ElasticNet\n",
        "tscv = TimeSeriesSplit(n_splits=10)"
      ],
      "execution_count": 0,
      "outputs": []
    },
    {
      "metadata": {
        "id": "pSfsITcyZ0gw",
        "colab_type": "code",
        "colab": {
          "base_uri": "https://localhost:8080/",
          "height": 697
        },
        "outputId": "2fc91831-9e2b-4d6f-c723-0dc635961678"
      },
      "cell_type": "code",
      "source": [
        "a=1\n",
        "for train_index, test_index in tscv.split(X):\n",
        "  print(a)\n",
        "  #print(\"Train:\", train_index, \"Validation:\", test_index)\n",
        "  X_train, X_test = X[train_index], X[test_index]\n",
        "  y_train, y_test = y[train_index], y[test_index]\n",
        "  ridgeReg=Ridge(alpha=2,normalize=True)\n",
        "  ridgeReg.fit(X_train,y_train)\n",
        "  predictions=ridgeReg.predict(X_test)\n",
        "  print('train')\n",
        "  print(ridgeReg.score(X_train,y_train))\n",
        "  ridgeReg=Ridge(alpha=2,normalize=True)\n",
        "  ridgeReg.fit(X_test,y_test)\n",
        "  predictions=ridgeReg.predict(X_test)  \n",
        "  print(ridgeReg.score(X_test,y_test))  \n",
        "  a=a+1  "
      ],
      "execution_count": 18,
      "outputs": [
        {
          "output_type": "stream",
          "text": [
            "1\n",
            "train\n",
            "0.9038807178709742\n",
            "0.8782986211132418\n",
            "2\n",
            "train\n",
            "0.7205200847207638\n",
            "0.9313723295426536\n",
            "3\n",
            "train\n",
            "0.7434769042314532\n",
            "0.8604979414650484\n",
            "4\n",
            "train\n",
            "0.6627627198580707\n",
            "0.8805281771073648\n",
            "5\n",
            "train\n",
            "0.6196882999024993\n",
            "0.8955083949621667\n",
            "6\n",
            "train\n",
            "0.5642962746254545\n",
            "0.8386982987836664\n",
            "7\n",
            "train\n",
            "0.5286398614651454\n",
            "0.8741121009698833\n",
            "8\n",
            "train\n",
            "0.4597769198962551\n",
            "0.8433564705928673\n",
            "9\n",
            "train\n",
            "0.43813892396529125\n",
            "0.9088616864044813\n",
            "10\n",
            "train\n",
            "0.4213450114391942\n",
            "0.8946365421349314\n"
          ],
          "name": "stdout"
        }
      ]
    },
    {
      "metadata": {
        "id": "7PPusWLEZ0c4",
        "colab_type": "code",
        "colab": {
          "base_uri": "https://localhost:8080/",
          "height": 3417
        },
        "outputId": "9c34d235-28bd-4588-c4ae-6dfb9670f57a"
      },
      "cell_type": "code",
      "source": [
        "from sklearn.model_selection import KFold \n",
        "kf = RepeatedKFold(n_splits=5, n_repeats=10, random_state=None) \n",
        "a=1\n",
        "for train_index, test_index in kf.split(X):\n",
        "     # print(\"Train:\", train_index, \"Validation:\",test_index)\n",
        "      print(a)\n",
        "      X_train, X_test = X[train_index], X[test_index] \n",
        "      y_train, y_test = y[train_index], y[test_index]\n",
        "      ridgeReg=Ridge(alpha=2,normalize=True)\n",
        "      ridgeReg.fit(X_train,y_train)\n",
        "      predictions=ridgeReg.predict(X_test)\n",
        "      print('train')\n",
        "      print(ridgeReg.score(X_train,y_train))\n",
        "      ridgeReg=Ridge(alpha=2,normalize=True)\n",
        "      ridgeReg.fit(X_test,y_test)\n",
        "      predictions=ridgeReg.predict(X_test)  \n",
        "      print(ridgeReg.score(X_test,y_test))  \n",
        "      a=a+1  "
      ],
      "execution_count": 19,
      "outputs": [
        {
          "output_type": "stream",
          "text": [
            "1\n",
            "train\n",
            "0.45237783321860964\n",
            "0.7159647382996592\n",
            "2\n",
            "train\n",
            "0.4370116007593311\n",
            "0.6845018435684098\n",
            "3\n",
            "train\n",
            "0.4430254071330709\n",
            "0.6905923257306261\n",
            "4\n",
            "train\n",
            "0.4548658675824069\n",
            "0.6669215074543874\n",
            "5\n",
            "train\n",
            "0.3769805157767814\n",
            "0.8002197630391982\n",
            "6\n",
            "train\n",
            "0.4442149621103457\n",
            "0.7158068188895603\n",
            "7\n",
            "train\n",
            "0.42690614520796744\n",
            "0.7101874162548942\n",
            "8\n",
            "train\n",
            "0.44974772705065363\n",
            "0.6983660530445881\n",
            "9\n",
            "train\n",
            "0.4484907557653002\n",
            "0.6897398943927011\n",
            "10\n",
            "train\n",
            "0.395245927466525\n",
            "0.8019650122026155\n",
            "11\n",
            "train\n",
            "0.4175653089671622\n",
            "0.7392925951911994\n",
            "12\n",
            "train\n",
            "0.42569064196006456\n",
            "0.710312084460577\n",
            "13\n",
            "train\n",
            "0.40518969884445183\n",
            "0.7765565953385108\n",
            "14\n",
            "train\n",
            "0.4443456926351475\n",
            "0.6591538082456607\n",
            "15\n",
            "train\n",
            "0.4549228736491929\n",
            "0.7005607666949045\n",
            "16\n",
            "train\n",
            "0.4438008890357613\n",
            "0.6644777652392712\n",
            "17\n",
            "train\n",
            "0.43763714478181204\n",
            "0.7168753623652278\n",
            "18\n",
            "train\n",
            "0.4563032570986938\n",
            "0.6654727688454214\n",
            "19\n",
            "train\n",
            "0.3920203839263866\n",
            "0.7833705471138502\n",
            "20\n",
            "train\n",
            "0.41435262289038555\n",
            "0.7885416620254134\n",
            "21\n",
            "train\n",
            "0.38593040451133837\n",
            "0.8183972156583511\n",
            "22\n",
            "train\n",
            "0.44963868863800305\n",
            "0.6376145481198682\n",
            "23\n",
            "train\n",
            "0.44196782559233083\n",
            "0.709271619129841\n",
            "24\n",
            "train\n",
            "0.4344936287319304\n",
            "0.7372398022018267\n",
            "25\n",
            "train\n",
            "0.44879230747783005\n",
            "0.6991647717146511\n",
            "26\n",
            "train\n",
            "0.4093628638875168\n",
            "0.7648559314606774\n",
            "27\n",
            "train\n",
            "0.4469126000339496\n",
            "0.6736982933245526\n",
            "28\n",
            "train\n",
            "0.43910839547277164\n",
            "0.725740643940765\n",
            "29\n",
            "train\n",
            "0.43268572255004345\n",
            "0.6983974796645697\n",
            "30\n",
            "train\n",
            "0.4295133458727094\n",
            "0.7488452643895855\n",
            "31\n",
            "train\n",
            "0.44758176239185454\n",
            "0.6615351371117615\n",
            "32\n",
            "train\n",
            "0.39329564003620043\n",
            "0.7973489659815877\n",
            "33\n",
            "train\n",
            "0.48583242248218445\n",
            "0.6588295909283647\n",
            "34\n",
            "train\n",
            "0.4572999354753321\n",
            "0.72129183043747\n",
            "35\n",
            "train\n",
            "0.3899984328442746\n",
            "0.8188420891984275\n",
            "36\n",
            "train\n",
            "0.3836146708444478\n",
            "0.7746761218928148\n",
            "37\n",
            "train\n",
            "0.43668678094829316\n",
            "0.7197517815214594\n",
            "38\n",
            "train\n",
            "0.4596648963238699\n",
            "0.6756705963832433\n",
            "39\n",
            "train\n",
            "0.42754414474358643\n",
            "0.7374762318439247\n",
            "40\n",
            "train\n",
            "0.43822536354021163\n",
            "0.6955016565002037\n",
            "41\n",
            "train\n",
            "0.4512444807527462\n",
            "0.7344183341607629\n",
            "42\n",
            "train\n",
            "0.44963276100845856\n",
            "0.7177630421451779\n",
            "43\n",
            "train\n",
            "0.45684016279252565\n",
            "0.6589518570641895\n",
            "44\n",
            "train\n",
            "0.3787167290532356\n",
            "0.7837305917019893\n",
            "45\n",
            "train\n",
            "0.4344529598179289\n",
            "0.7282546519495807\n",
            "46\n",
            "train\n",
            "0.44906015429495627\n",
            "0.6444593314024821\n",
            "47\n",
            "train\n",
            "0.39857881824247565\n",
            "0.775004711618702\n",
            "48\n",
            "train\n",
            "0.39592681853341755\n",
            "0.7636912915596591\n",
            "49\n",
            "train\n",
            "0.4675688116735553\n",
            "0.7085678825284161\n",
            "50\n",
            "train\n",
            "0.44999317374864295\n",
            "0.746173419519758\n"
          ],
          "name": "stdout"
        }
      ]
    }
  ]
}