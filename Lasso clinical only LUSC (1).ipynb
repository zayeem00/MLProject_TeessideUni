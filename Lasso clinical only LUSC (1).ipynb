{
 "cells": [
  {
   "cell_type": "code",
   "execution_count": 1,
   "metadata": {},
   "outputs": [],
   "source": [
    "import os\n",
    "import matplotlib.pyplot as plt\n",
    "import pandas as pd\n",
    "from sklearn.linear_model import Lasso\n"
   ]
  },
  {
   "cell_type": "code",
   "execution_count": 2,
   "metadata": {},
   "outputs": [],
   "source": [
    "\n",
    "os.chdir('U:\\ProjectDataset')"
   ]
  },
  {
   "cell_type": "code",
   "execution_count": 3,
   "metadata": {},
   "outputs": [],
   "source": [
    "dt=pd.read_excel('selected clinical LUSC.xlsx')"
   ]
  },
  {
   "cell_type": "code",
   "execution_count": 4,
   "metadata": {},
   "outputs": [],
   "source": [
    "dt=dt.set_index(dt.columns[0])"
   ]
  },
  {
   "cell_type": "code",
   "execution_count": 5,
   "metadata": {},
   "outputs": [],
   "source": [
    "tar=pd.read_excel('survival_LUSC.xlsx')\n",
    "Y=tar"
   ]
  },
  {
   "cell_type": "code",
   "execution_count": 6,
   "metadata": {},
   "outputs": [],
   "source": [
    "from sklearn.model_selection import train_test_split"
   ]
  },
  {
   "cell_type": "code",
   "execution_count": 7,
   "metadata": {},
   "outputs": [
    {
     "name": "stdout",
     "output_type": "stream",
     "text": [
      "(350, 11) (151, 11)\n",
      "(350, 1) (151, 1)\n"
     ]
    }
   ],
   "source": [
    "X_train,X_test,Y_train,Y_test=train_test_split(dt,Y,test_size=0.3,random_state=47)\n",
    "print(X_train.shape,X_test.shape)\n",
    "print(Y_train.shape,Y_test.shape)"
   ]
  },
  {
   "cell_type": "code",
   "execution_count": 8,
   "metadata": {},
   "outputs": [
    {
     "name": "stdout",
     "output_type": "stream",
     "text": [
      "train\n",
      "0.6646809521209993\n",
      "test\n",
      "0.5718421670630126\n"
     ]
    }
   ],
   "source": [
    "\n",
    "lassoReg=Lasso(alpha=0.1,normalize=True)\n",
    "lassoReg.fit(X_train,Y_train)\n",
    "predictions=lassoReg.predict(X_train)\n",
    "print('train')\n",
    "print(lassoReg.score(X_train,Y_train))\n",
    "print('test')\n",
    "print(lassoReg.score(X_test,Y_test))"
   ]
  },
  {
   "cell_type": "code",
   "execution_count": 9,
   "metadata": {},
   "outputs": [
    {
     "name": "stdout",
     "output_type": "stream",
     "text": [
      "train\n",
      "0.5994475424571055\n",
      "test\n",
      "0.5210889805149779\n"
     ]
    }
   ],
   "source": [
    "\n",
    "lassoReg=Lasso(alpha=0.3,normalize=True)\n",
    "lassoReg.fit(X_train,Y_train)\n",
    "predictions=lassoReg.predict(X_train)\n",
    "print('train')\n",
    "print(lassoReg.score(X_train,Y_train))\n",
    "print('test')\n",
    "print(lassoReg.score(X_test,Y_test))"
   ]
  },
  {
   "cell_type": "code",
   "execution_count": 10,
   "metadata": {},
   "outputs": [
    {
     "name": "stdout",
     "output_type": "stream",
     "text": [
      "train\n",
      "0.543354518402533\n",
      "test\n",
      "0.47803968619822107\n"
     ]
    }
   ],
   "source": [
    "\n",
    "lassoReg=Lasso(alpha=0.5,normalize=True)\n",
    "lassoReg.fit(X_train,Y_train)\n",
    "predictions=lassoReg.predict(X_train)\n",
    "print('train')\n",
    "print(lassoReg.score(X_train,Y_train))\n",
    "print('test')\n",
    "print(lassoReg.score(X_test,Y_test))"
   ]
  },
  {
   "cell_type": "code",
   "execution_count": 11,
   "metadata": {},
   "outputs": [
    {
     "name": "stdout",
     "output_type": "stream",
     "text": [
      "train\n",
      "0.4592149823206742\n",
      "test\n",
      "0.40723678585195544\n"
     ]
    }
   ],
   "source": [
    "\n",
    "lassoReg=Lasso(alpha=0.7,normalize=True)\n",
    "lassoReg.fit(X_train,Y_train)\n",
    "predictions=lassoReg.predict(X_train)\n",
    "print('train')\n",
    "print(lassoReg.score(X_train,Y_train))\n",
    "print('test')\n",
    "print(lassoReg.score(X_test,Y_test))"
   ]
  },
  {
   "cell_type": "code",
   "execution_count": 12,
   "metadata": {},
   "outputs": [
    {
     "name": "stdout",
     "output_type": "stream",
     "text": [
      "train\n",
      "0.40662777226951247\n",
      "test\n",
      "0.3614277334177567\n"
     ]
    }
   ],
   "source": [
    "\n",
    "lassoReg=Lasso(alpha=0.8,normalize=True)\n",
    "lassoReg.fit(X_train,Y_train)\n",
    "predictions=lassoReg.predict(X_train)\n",
    "print('train')\n",
    "print(lassoReg.score(X_train,Y_train))\n",
    "print('test')\n",
    "print(lassoReg.score(X_test,Y_test))"
   ]
  },
  {
   "cell_type": "code",
   "execution_count": 15,
   "metadata": {},
   "outputs": [
    {
     "name": "stdout",
     "output_type": "stream",
     "text": [
      "train\n",
      "0.6837427273860812\n",
      "test\n",
      "0.5889003439176337\n"
     ]
    }
   ],
   "source": [
    "lassoReg=Lasso(alpha=0.05,normalize=True)\n",
    "lassoReg.fit(X_train,Y_train)\n",
    "predictions=lassoReg.predict(X_train)\n",
    "print('train')\n",
    "print(lassoReg.score(X_train,Y_train))\n",
    "print('test')\n",
    "print(lassoReg.score(X_test,Y_test))"
   ]
  },
  {
   "cell_type": "code",
   "execution_count": 16,
   "metadata": {},
   "outputs": [
    {
     "name": "stdout",
     "output_type": "stream",
     "text": [
      "train\n",
      "0.6917093103265229\n",
      "test\n",
      "0.5897768241783201\n"
     ]
    }
   ],
   "source": [
    "lassoReg=Lasso(alpha=0.01,normalize=True)\n",
    "lassoReg.fit(X_train,Y_train)\n",
    "predictions=lassoReg.predict(X_train)\n",
    "print('train')\n",
    "print(lassoReg.score(X_train,Y_train))\n",
    "print('test')\n",
    "print(lassoReg.score(X_test,Y_test))"
   ]
  },
  {
   "cell_type": "code",
   "execution_count": 17,
   "metadata": {},
   "outputs": [],
   "source": [
    "import numpy as np\n",
    "tar=np.array(tar)\n",
    "tar=tar.flatten()"
   ]
  },
  {
   "cell_type": "code",
   "execution_count": 18,
   "metadata": {},
   "outputs": [
    {
     "name": "stdout",
     "output_type": "stream",
     "text": [
      "train\n",
      "0.6785144064022568\n",
      "test\n",
      "0.5858814547726445\n"
     ]
    }
   ],
   "source": [
    "\n",
    "from sklearn.linear_model import LassoCV\n",
    "lassoc=LassoCV(cv=5,random_state=0).fit(dt,tar)\n",
    "print('train')\n",
    "print(lassoc.score(X_train,Y_train))\n",
    "print('test')\n",
    "print(lassoc.score(X_test,Y_test))"
   ]
  },
  {
   "cell_type": "code",
   "execution_count": 19,
   "metadata": {},
   "outputs": [
    {
     "name": "stdout",
     "output_type": "stream",
     "text": [
      "train\n",
      "0.6812303272421056\n",
      "test\n",
      "0.5893858616510028\n"
     ]
    }
   ],
   "source": [
    "\n",
    "from sklearn.linear_model import LassoCV\n",
    "lassoc=LassoCV(cv=10,random_state=0).fit(dt,tar)\n",
    "print('train')\n",
    "print(lassoc.score(X_train,Y_train))\n",
    "print('test')\n",
    "print(lassoc.score(X_test,Y_test))"
   ]
  },
  {
   "cell_type": "code",
   "execution_count": 20,
   "metadata": {},
   "outputs": [
    {
     "name": "stdout",
     "output_type": "stream",
     "text": [
      "train\n",
      "0.6812303272421056\n",
      "test\n",
      "0.5893858616510028\n"
     ]
    }
   ],
   "source": [
    "\n",
    "from sklearn.linear_model import LassoCV\n",
    "lassoc=LassoCV(cv=20,random_state=42).fit(dt,tar)\n",
    "print('train')\n",
    "print(lassoc.score(X_train,Y_train))\n",
    "print('test')\n",
    "print(lassoc.score(X_test,Y_test))"
   ]
  },
  {
   "cell_type": "code",
   "execution_count": 21,
   "metadata": {},
   "outputs": [
    {
     "name": "stdout",
     "output_type": "stream",
     "text": [
      "train\n",
      "0.6812303272421056\n",
      "test\n",
      "0.5893858616510028\n"
     ]
    }
   ],
   "source": [
    "\n",
    "from sklearn.linear_model import LassoCV\n",
    "lassoc=LassoCV(cv=40,random_state=42).fit(dt,tar)\n",
    "print('train')\n",
    "print(lassoc.score(X_train,Y_train))\n",
    "print('test')\n",
    "print(lassoc.score(X_test,Y_test))"
   ]
  },
  {
   "cell_type": "code",
   "execution_count": null,
   "metadata": {},
   "outputs": [],
   "source": []
  }
 ],
 "metadata": {
  "kernelspec": {
   "display_name": "Python 3",
   "language": "python",
   "name": "python3"
  },
  "language_info": {
   "codemirror_mode": {
    "name": "ipython",
    "version": 3
   },
   "file_extension": ".py",
   "mimetype": "text/x-python",
   "name": "python",
   "nbconvert_exporter": "python",
   "pygments_lexer": "ipython3",
   "version": "3.6.5"
  }
 },
 "nbformat": 4,
 "nbformat_minor": 2
}
