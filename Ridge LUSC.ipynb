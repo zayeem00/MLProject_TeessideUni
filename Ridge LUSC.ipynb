{
 "cells": [
  {
   "cell_type": "code",
   "execution_count": 20,
   "metadata": {},
   "outputs": [],
   "source": [
    "import os\n",
    "import matplotlib.pyplot as plt\n",
    "import pandas as pd\n",
    "import numpy as np\n",
    "from pandas import Series\n",
    "from sklearn.linear_model import RidgeCV"
   ]
  },
  {
   "cell_type": "code",
   "execution_count": 2,
   "metadata": {},
   "outputs": [],
   "source": [
    "os.chdir('U:\\\\ProjectDataset')"
   ]
  },
  {
   "cell_type": "code",
   "execution_count": 11,
   "metadata": {},
   "outputs": [],
   "source": [
    "dt=pd.read_excel('selected clinical LUSC.xlsx')"
   ]
  },
  {
   "cell_type": "code",
   "execution_count": 12,
   "metadata": {},
   "outputs": [],
   "source": [
    "dt=dt.set_index(dt.columns[0])"
   ]
  },
  {
   "cell_type": "code",
   "execution_count": 13,
   "metadata": {},
   "outputs": [],
   "source": [
    "tar=pd.read_excel('survival_LUSC.xlsx')"
   ]
  },
  {
   "cell_type": "code",
   "execution_count": 14,
   "metadata": {},
   "outputs": [],
   "source": [
    "\n",
    "Y=tar"
   ]
  },
  {
   "cell_type": "code",
   "execution_count": 15,
   "metadata": {},
   "outputs": [],
   "source": [
    "from sklearn.model_selection import train_test_split"
   ]
  },
  {
   "cell_type": "code",
   "execution_count": 16,
   "metadata": {},
   "outputs": [
    {
     "name": "stdout",
     "output_type": "stream",
     "text": [
      "(350, 11) (350, 1)\n",
      "(151, 11) (151, 1)\n"
     ]
    }
   ],
   "source": [
    "X_train,X_test,Y_train,Y_test=train_test_split(dt1,Y,test_size=0.3,random_state=42) \n",
    "print(X_train.shape,Y_train.shape)\n",
    "print(X_test.shape,Y_test.shape)"
   ]
  },
  {
   "cell_type": "code",
   "execution_count": 22,
   "metadata": {},
   "outputs": [
    {
     "name": "stdout",
     "output_type": "stream",
     "text": [
      "(350, 11) (151, 11)\n",
      "(350, 1) (151, 1)\n",
      " without CV\n",
      "------------------0.1-----------------\n",
      "test\n",
      "0.4442797458464993\n",
      "train\n",
      "0.6455597787183858\n",
      "------------------0.5-------------------\n",
      "test\n",
      "0.5101678032554019\n",
      "train\n",
      "0.7257955591904879\n",
      "-------------------0.01------------------\n",
      "test\n",
      "0.5176498405442409\n",
      "train\n",
      "0.732516973307535\n",
      "-----------------0.05-------------------\n",
      "test\n",
      "0.5151273434335906\n",
      "train\n",
      "0.7307129019463681\n",
      "With CV\n",
      "------------------cv=5-------------------\n",
      "train\n",
      "0.731796131799098\n",
      "test\n",
      "0.5097886161238048\n"
     ]
    },
    {
     "data": {
      "text/plain": [
       "'print(\"-----------------cv=10---------------------\")\\nY_train=np.array(Y_train)\\nY_train=Y_train.ravel()\\nridgec=RidgeCV().fit(X_train,Y_train)\\nprint(\\'train\\')\\nprint(lassoc.score(X_train,Y_train))\\nprint(\\'test\\')\\nprint(lassoc.score(X_test,Y_test))\\nprint(\"-----------------cv=20------------------------\")\\nY_train=np.array(Y_train)\\nY_train=Y_train.ravel()\\nridgec=RidgeCV().fit(X_train,Y_train)\\nprint(\\'train\\')\\nprint(lassoc.score(X_train,Y_train))\\nprint(\\'test\\')\\nprint(lassoc.score(X_test,Y_test))'"
      ]
     },
     "execution_count": 22,
     "metadata": {},
     "output_type": "execute_result"
    }
   ],
   "source": [
    "X_train,X_test,Y_train,Y_test=train_test_split(dt,Y,test_size=0.3,random_state=42)\n",
    "print(X_train.shape,X_test.shape)\n",
    "print(Y_train.shape,Y_test.shape)\n",
    "print(\" without CV\")\n",
    "print(\"------------------0.1-----------------\")\n",
    "from sklearn.linear_model import Ridge\n",
    "ridgeReg=Ridge(alpha=0.5,normalize=True)\n",
    "ridgeReg.fit(X_train,Y_train)\n",
    "predictions=ridgeReg.predict(X_test)\n",
    "print('test')\n",
    "print(ridgeReg.score(X_test,Y_test))\n",
    "print('train')\n",
    "print(ridgeReg.score(X_train,Y_train))\n",
    "print(\"------------------0.5-------------------\")\n",
    "from sklearn.linear_model import Ridge\n",
    "ridgeReg=Ridge(alpha=0.1,normalize=True)\n",
    "ridgeReg.fit(X_train,Y_train)\n",
    "predictions=ridgeReg.predict(X_test)\n",
    "print('test')\n",
    "print(ridgeReg.score(X_test,Y_test))\n",
    "print('train')\n",
    "print(ridgeReg.score(X_train,Y_train))\n",
    "print(\"-------------------0.01------------------\")\n",
    "from sklearn.linear_model import Ridge\n",
    "ridgeReg=Ridge(alpha=0.01,normalize=True)\n",
    "ridgeReg.fit(X_train,Y_train)\n",
    "predictions=ridgeReg.predict(X_test)\n",
    "print('test')\n",
    "print(ridgeReg.score(X_test,Y_test))\n",
    "print('train')\n",
    "print(ridgeReg.score(X_train,Y_train))\n",
    "print('-----------------0.05-------------------')\n",
    "ridgeReg=Ridge(alpha=0.05,normalize=True)\n",
    "ridgeReg.fit(X_train,Y_train)\n",
    "predictions=ridgeReg.predict(X_test)\n",
    "print('test')\n",
    "print(ridgeReg.score(X_test,Y_test))\n",
    "print('train')\n",
    "print(ridgeReg.score(X_train,Y_train))\n",
    "print(\"With CV\")\n",
    "print(\"------------------cv=5-------------------\")\n",
    "Y_train=np.array(Y_train)\n",
    "Y_train=Y_train.ravel()\n",
    "ridgec=RidgeCV(cv=None).fit(X_train,Y_train)\n",
    "print('train')\n",
    "print(ridgec.score(X_train,Y_train))\n",
    "print('test')\n",
    "print(ridgec.score(X_test,Y_test))\n",
    "'''print(\"-----------------cv=10---------------------\")\n",
    "Y_train=np.array(Y_train)\n",
    "Y_train=Y_train.ravel()\n",
    "ridgec=RidgeCV().fit(X_train,Y_train)\n",
    "print('train')\n",
    "print(lassoc.score(X_train,Y_train))\n",
    "print('test')\n",
    "print(lassoc.score(X_test,Y_test))\n",
    "print(\"-----------------cv=20------------------------\")\n",
    "Y_train=np.array(Y_train)\n",
    "Y_train=Y_train.ravel()\n",
    "ridgec=RidgeCV().fit(X_train,Y_train)\n",
    "print('train')\n",
    "print(lassoc.score(X_train,Y_train))\n",
    "print('test')\n",
    "print(lassoc.score(X_test,Y_test))'''"
   ]
  },
  {
   "cell_type": "code",
   "execution_count": null,
   "metadata": {},
   "outputs": [],
   "source": [
    "'''!!!!!!!!!!!!!!!1  250 genes only !!!!!!!!!!!!!!!!!!!'''"
   ]
  },
  {
   "cell_type": "code",
   "execution_count": 23,
   "metadata": {},
   "outputs": [],
   "source": [
    "dt1=pd.read_excel('selected genes LUSC.xlsx')"
   ]
  },
  {
   "cell_type": "code",
   "execution_count": 24,
   "metadata": {},
   "outputs": [],
   "source": [
    "dt1=dt1.set_index(dt1.columns[0])"
   ]
  },
  {
   "cell_type": "code",
   "execution_count": 26,
   "metadata": {},
   "outputs": [
    {
     "name": "stdout",
     "output_type": "stream",
     "text": [
      "(350, 320) (151, 320)\n",
      "(350, 1) (151, 1)\n",
      " without CV\n",
      "------------------0.1-----------------\n",
      "test\n",
      "-0.3148869896449318\n",
      "train\n",
      "0.6018170412170627\n",
      "------------------0.5-------------------\n",
      "test\n",
      "-0.7656827412386655\n",
      "train\n",
      "0.7879772638497453\n",
      "-------------------0.01------------------\n",
      "test\n",
      "-2.115288004873852\n",
      "train\n",
      "0.9140218656065842\n",
      "-----------------0.05-------------------\n",
      "test\n",
      "-1.011146716041714\n",
      "train\n",
      "0.8405592043972978\n",
      "With CV\n",
      "------------------cv=5-------------------\n",
      "test\n",
      "-1.21601426291247\n",
      "train\n",
      "0.8788492957565535\n"
     ]
    },
    {
     "data": {
      "text/plain": [
       "'print(\"-----------------cv=10---------------------\")\\nY_train=np.array(Y_train)\\nY_train=Y_train.ravel()\\nridgec=RidgeCV().fit(X_train,Y_train)\\nprint(\\'train\\')\\nprint(lassoc.score(X_train,Y_train))\\nprint(\\'test\\')\\nprint(lassoc.score(X_test,Y_test))\\nprint(\"-----------------cv=20------------------------\")\\nY_train=np.array(Y_train)\\nY_train=Y_train.ravel()\\nridgec=RidgeCV().fit(X_train,Y_train)\\nprint(\\'train\\')\\nprint(lassoc.score(X_train,Y_train))\\nprint(\\'test\\')\\nprint(lassoc.score(X_test,Y_test))'"
      ]
     },
     "execution_count": 26,
     "metadata": {},
     "output_type": "execute_result"
    }
   ],
   "source": [
    "X_train,X_test,Y_train,Y_test=train_test_split(dt1,Y,test_size=0.3,random_state=42)\n",
    "print(X_train.shape,X_test.shape)\n",
    "print(Y_train.shape,Y_test.shape)\n",
    "print(\" without CV\")\n",
    "print(\"------------------0.1-----------------\")\n",
    "from sklearn.linear_model import Ridge\n",
    "ridgeReg=Ridge(alpha=0.5,normalize=True)\n",
    "ridgeReg.fit(X_train,Y_train)\n",
    "predictions=ridgeReg.predict(X_test)\n",
    "print('test')\n",
    "print(ridgeReg.score(X_test,Y_test))\n",
    "print('train')\n",
    "print(ridgeReg.score(X_train,Y_train))\n",
    "print(\"------------------0.5-------------------\")\n",
    "from sklearn.linear_model import Ridge\n",
    "ridgeReg=Ridge(alpha=0.1,normalize=True)\n",
    "ridgeReg.fit(X_train,Y_train)\n",
    "predictions=ridgeReg.predict(X_test)\n",
    "print('test')\n",
    "print(ridgeReg.score(X_test,Y_test))\n",
    "print('train')\n",
    "print(ridgeReg.score(X_train,Y_train))\n",
    "print(\"-------------------0.01------------------\")\n",
    "from sklearn.linear_model import Ridge\n",
    "ridgeReg=Ridge(alpha=0.01,normalize=True)\n",
    "ridgeReg.fit(X_train,Y_train)\n",
    "predictions=ridgeReg.predict(X_test)\n",
    "print('test')\n",
    "print(ridgeReg.score(X_test,Y_test))\n",
    "print('train')\n",
    "print(ridgeReg.score(X_train,Y_train))\n",
    "print('-----------------0.05-------------------')\n",
    "ridgeReg=Ridge(alpha=0.05,normalize=True)\n",
    "ridgeReg.fit(X_train,Y_train)\n",
    "predictions=ridgeReg.predict(X_test)\n",
    "print('test')\n",
    "print(ridgeReg.score(X_test,Y_test))\n",
    "print('train')\n",
    "print(ridgeReg.score(X_train,Y_train))\n",
    "print(\"With CV\")\n",
    "print(\"------------------cv=5-------------------\")\n",
    "Y_train=np.array(Y_train)\n",
    "Y_train=Y_train.ravel()\n",
    "ridgec=RidgeCV(cv=100).fit(X_train,Y_train)\n",
    "print('test')\n",
    "print(ridgec.score(X_test,Y_test))\n",
    "print('train')\n",
    "print(ridgec.score(X_train,Y_train))\n",
    "\n",
    "'''print(\"-----------------cv=10---------------------\")\n",
    "Y_train=np.array(Y_train)\n",
    "Y_train=Y_train.ravel()\n",
    "ridgec=RidgeCV().fit(X_train,Y_train)\n",
    "print('train')\n",
    "print(lassoc.score(X_train,Y_train))\n",
    "print('test')\n",
    "print(lassoc.score(X_test,Y_test))\n",
    "print(\"-----------------cv=20------------------------\")\n",
    "Y_train=np.array(Y_train)\n",
    "Y_train=Y_train.ravel()\n",
    "ridgec=RidgeCV().fit(X_train,Y_train)\n",
    "print('train')\n",
    "print(lassoc.score(X_train,Y_train))\n",
    "print('test')\n",
    "print(lassoc.score(X_test,Y_test))'''"
   ]
  },
  {
   "cell_type": "code",
   "execution_count": null,
   "metadata": {},
   "outputs": [],
   "source": [
    "'''!!!!!!!!!!!!!!!!!!! 2k genes only !!!!!!!!!!!!!!!!!!!!!'''"
   ]
  },
  {
   "cell_type": "code",
   "execution_count": 27,
   "metadata": {},
   "outputs": [],
   "source": [
    "dt2=pd.read_excel('selected gene no depth LUSC.xlsx')"
   ]
  },
  {
   "cell_type": "code",
   "execution_count": 28,
   "metadata": {},
   "outputs": [],
   "source": [
    "dt2=dt2.set_index(dt2.columns[0])"
   ]
  },
  {
   "cell_type": "code",
   "execution_count": 29,
   "metadata": {},
   "outputs": [
    {
     "name": "stdout",
     "output_type": "stream",
     "text": [
      "(350, 2783) (151, 2783)\n",
      "(350, 1) (151, 1)\n",
      " without CV\n",
      "------------------0.1-----------------\n",
      "test\n",
      "-1.0549187537557412\n",
      "train\n",
      "0.9706364490726461\n",
      "------------------0.5-------------------\n",
      "test\n",
      "-1.4518068333508136\n",
      "train\n",
      "0.9981137461065503\n",
      "-------------------0.01------------------\n",
      "test\n",
      "-1.5853807560507542\n",
      "train\n",
      "0.999978433040407\n",
      "-----------------0.05-------------------\n",
      "test\n",
      "-1.5230394770964322\n",
      "train\n",
      "0.9994928633908111\n",
      "With CV\n",
      "------------------cv=5-------------------\n",
      "test\n",
      "-0.5968738638098026\n",
      "train\n",
      "0.9999053312384052\n"
     ]
    },
    {
     "data": {
      "text/plain": [
       "'print(\"-----------------cv=10---------------------\")\\nY_train=np.array(Y_train)\\nY_train=Y_train.ravel()\\nridgec=RidgeCV().fit(X_train,Y_train)\\nprint(\\'train\\')\\nprint(lassoc.score(X_train,Y_train))\\nprint(\\'test\\')\\nprint(lassoc.score(X_test,Y_test))\\nprint(\"-----------------cv=20------------------------\")\\nY_train=np.array(Y_train)\\nY_train=Y_train.ravel()\\nridgec=RidgeCV().fit(X_train,Y_train)\\nprint(\\'train\\')\\nprint(lassoc.score(X_train,Y_train))\\nprint(\\'test\\')\\nprint(lassoc.score(X_test,Y_test))'"
      ]
     },
     "execution_count": 29,
     "metadata": {},
     "output_type": "execute_result"
    }
   ],
   "source": [
    "X_train,X_test,Y_train,Y_test=train_test_split(dt2,Y,test_size=0.3,random_state=42)\n",
    "print(X_train.shape,X_test.shape)\n",
    "print(Y_train.shape,Y_test.shape)\n",
    "print(\" without CV\")\n",
    "print(\"------------------0.1-----------------\")\n",
    "from sklearn.linear_model import Ridge\n",
    "ridgeReg=Ridge(alpha=0.5,normalize=True)\n",
    "ridgeReg.fit(X_train,Y_train)\n",
    "predictions=ridgeReg.predict(X_test)\n",
    "print('test')\n",
    "print(ridgeReg.score(X_test,Y_test))\n",
    "print('train')\n",
    "print(ridgeReg.score(X_train,Y_train))\n",
    "print(\"------------------0.5-------------------\")\n",
    "from sklearn.linear_model import Ridge\n",
    "ridgeReg=Ridge(alpha=0.1,normalize=True)\n",
    "ridgeReg.fit(X_train,Y_train)\n",
    "predictions=ridgeReg.predict(X_test)\n",
    "print('test')\n",
    "print(ridgeReg.score(X_test,Y_test))\n",
    "print('train')\n",
    "print(ridgeReg.score(X_train,Y_train))\n",
    "print(\"-------------------0.01------------------\")\n",
    "from sklearn.linear_model import Ridge\n",
    "ridgeReg=Ridge(alpha=0.01,normalize=True)\n",
    "ridgeReg.fit(X_train,Y_train)\n",
    "predictions=ridgeReg.predict(X_test)\n",
    "print('test')\n",
    "print(ridgeReg.score(X_test,Y_test))\n",
    "print('train')\n",
    "print(ridgeReg.score(X_train,Y_train))\n",
    "print('-----------------0.05-------------------')\n",
    "ridgeReg=Ridge(alpha=0.05,normalize=True)\n",
    "ridgeReg.fit(X_train,Y_train)\n",
    "predictions=ridgeReg.predict(X_test)\n",
    "print('test')\n",
    "print(ridgeReg.score(X_test,Y_test))\n",
    "print('train')\n",
    "print(ridgeReg.score(X_train,Y_train))\n",
    "print(\"With CV\")\n",
    "print(\"------------------cv=5-------------------\")\n",
    "Y_train=np.array(Y_train)\n",
    "Y_train=Y_train.ravel()\n",
    "ridgec=RidgeCV(cv=None).fit(X_train,Y_train)\n",
    "print('test')\n",
    "print(ridgec.score(X_test,Y_test))\n",
    "print('train')\n",
    "print(ridgec.score(X_train,Y_train))\n",
    "'''print(\"-----------------cv=10---------------------\")\n",
    "Y_train=np.array(Y_train)\n",
    "Y_train=Y_train.ravel()\n",
    "ridgec=RidgeCV().fit(X_train,Y_train)\n",
    "print('train')\n",
    "print(lassoc.score(X_train,Y_train))\n",
    "print('test')\n",
    "print(lassoc.score(X_test,Y_test))\n",
    "print(\"-----------------cv=20------------------------\")\n",
    "Y_train=np.array(Y_train)\n",
    "Y_train=Y_train.ravel()\n",
    "ridgec=RidgeCV().fit(X_train,Y_train)\n",
    "print('train')\n",
    "print(lassoc.score(X_train,Y_train))\n",
    "print('test')\n",
    "print(lassoc.score(X_test,Y_test))'''"
   ]
  },
  {
   "cell_type": "code",
   "execution_count": null,
   "metadata": {},
   "outputs": [],
   "source": [
    "'''!!!!!!!!!!!! 250 genes and clinical data!!!!!!!!!!!'''"
   ]
  },
  {
   "cell_type": "code",
   "execution_count": 30,
   "metadata": {},
   "outputs": [],
   "source": [
    "dt3=pd.read_excel('gene + clinical LUSC.xlsx')"
   ]
  },
  {
   "cell_type": "code",
   "execution_count": 31,
   "metadata": {},
   "outputs": [],
   "source": [
    "dt3=dt3.set_index(dt3.columns[0])"
   ]
  },
  {
   "cell_type": "code",
   "execution_count": 36,
   "metadata": {},
   "outputs": [
    {
     "name": "stdout",
     "output_type": "stream",
     "text": [
      "(350, 331) (151, 331)\n",
      "(350, 1) (151, 1)\n",
      " without CV\n",
      "------------------0.1-----------------\n",
      "test\n",
      "0.11231019590952163\n",
      "train\n",
      "0.8168862565855248\n",
      "------------------0.5-------------------\n",
      "test\n",
      "-0.43334400150874774\n",
      "train\n",
      "0.9214710818094228\n",
      "-------------------0.01------------------\n",
      "test\n",
      "-1.6173828205502092\n",
      "train\n",
      "0.9660312370966323\n",
      "-----------------0.05-------------------\n",
      "test\n",
      "-0.8795625368888936\n",
      "train\n",
      "0.9413376896346319\n",
      "With CV\n",
      "------------------cv=5-------------------\n",
      "test\n",
      "0.10928948826411222\n",
      "train\n",
      "0.9519444870150314\n"
     ]
    },
    {
     "data": {
      "text/plain": [
       "'print(\"-----------------cv=10---------------------\")\\nY_train=np.array(Y_train)\\nY_train=Y_train.ravel()\\nridgec=RidgeCV().fit(X_train,Y_train)\\nprint(\\'train\\')\\nprint(lassoc.score(X_train,Y_train))\\nprint(\\'test\\')\\nprint(lassoc.score(X_test,Y_test))\\nprint(\"-----------------cv=20------------------------\")\\nY_train=np.array(Y_train)\\nY_train=Y_train.ravel()\\nridgec=RidgeCV().fit(X_train,Y_train)\\nprint(\\'train\\')\\nprint(lassoc.score(X_train,Y_train))\\nprint(\\'test\\')\\nprint(lassoc.score(X_test,Y_test))'"
      ]
     },
     "execution_count": 36,
     "metadata": {},
     "output_type": "execute_result"
    }
   ],
   "source": [
    "X_train,X_test,Y_train,Y_test=train_test_split(dt3,Y,test_size=0.3,random_state=42)\n",
    "print(X_train.shape,X_test.shape)\n",
    "print(Y_train.shape,Y_test.shape)\n",
    "print(\" without CV\")\n",
    "print(\"------------------0.1-----------------\")\n",
    "from sklearn.linear_model import Ridge\n",
    "ridgeReg=Ridge(alpha=0.5,normalize=True)\n",
    "ridgeReg.fit(X_train,Y_train)\n",
    "predictions=ridgeReg.predict(X_test)\n",
    "print('test')\n",
    "print(ridgeReg.score(X_test,Y_test))\n",
    "print('train')\n",
    "print(ridgeReg.score(X_train,Y_train))\n",
    "print(\"------------------0.5-------------------\")\n",
    "from sklearn.linear_model import Ridge\n",
    "ridgeReg=Ridge(alpha=0.1,normalize=True)\n",
    "ridgeReg.fit(X_train,Y_train)\n",
    "predictions=ridgeReg.predict(X_test)\n",
    "print('test')\n",
    "print(ridgeReg.score(X_test,Y_test))\n",
    "print('train')\n",
    "print(ridgeReg.score(X_train,Y_train))\n",
    "print(\"-------------------0.01------------------\")\n",
    "from sklearn.linear_model import Ridge\n",
    "ridgeReg=Ridge(alpha=0.01,normalize=True)\n",
    "ridgeReg.fit(X_train,Y_train)\n",
    "predictions=ridgeReg.predict(X_test)\n",
    "print('test')\n",
    "print(ridgeReg.score(X_test,Y_test))\n",
    "print('train')\n",
    "print(ridgeReg.score(X_train,Y_train))\n",
    "print('-----------------0.05-------------------')\n",
    "ridgeReg=Ridge(alpha=0.05,normalize=True)\n",
    "ridgeReg.fit(X_train,Y_train)\n",
    "predictions=ridgeReg.predict(X_test)\n",
    "print('test')\n",
    "print(ridgeReg.score(X_test,Y_test))\n",
    "print('train')\n",
    "print(ridgeReg.score(X_train,Y_train))\n",
    "print(\"With CV\")\n",
    "print(\"------------------cv=5-------------------\")\n",
    "Y_train=np.array(Y_train)\n",
    "Y_train=Y_train.ravel()\n",
    "ridgec=RidgeCV(cv=70).fit(X_train,Y_train)\n",
    "print('test')\n",
    "print(ridgec.score(X_test,Y_test))\n",
    "print('train')\n",
    "print(ridgec.score(X_train,Y_train))\n",
    "'''print(\"-----------------cv=10---------------------\")\n",
    "Y_train=np.array(Y_train)\n",
    "Y_train=Y_train.ravel()\n",
    "ridgec=RidgeCV().fit(X_train,Y_train)\n",
    "print('train')\n",
    "print(lassoc.score(X_train,Y_train))\n",
    "print('test')\n",
    "print(lassoc.score(X_test,Y_test))\n",
    "print(\"-----------------cv=20------------------------\")\n",
    "Y_train=np.array(Y_train)\n",
    "Y_train=Y_train.ravel()\n",
    "ridgec=RidgeCV().fit(X_train,Y_train)\n",
    "print('train')\n",
    "print(lassoc.score(X_train,Y_train))\n",
    "print('test')\n",
    "print(lassoc.score(X_test,Y_test))'''"
   ]
  },
  {
   "cell_type": "code",
   "execution_count": null,
   "metadata": {},
   "outputs": [],
   "source": [
    "'''!!!!!!!!!!!!!!!!! 2k genes and clinical data !!!!!!!!!!'''"
   ]
  },
  {
   "cell_type": "code",
   "execution_count": 37,
   "metadata": {},
   "outputs": [],
   "source": [
    "dt4=pd.read_excel('selected gene no depth LUSC.xlsx')"
   ]
  },
  {
   "cell_type": "code",
   "execution_count": 38,
   "metadata": {},
   "outputs": [],
   "source": [
    "dt4=dt4.set_index(dt4.columns[0])"
   ]
  },
  {
   "cell_type": "code",
   "execution_count": 39,
   "metadata": {},
   "outputs": [
    {
     "name": "stdout",
     "output_type": "stream",
     "text": [
      "(350, 2794) (151, 2794)\n",
      "(350, 1) (151, 1)\n",
      " without CV\n",
      "------------------0.1-----------------\n",
      "test\n",
      "-0.5475239212714333\n",
      "train\n",
      "0.9780455366997078\n",
      "------------------0.5-------------------\n",
      "test\n",
      "-0.769984069282497\n",
      "train\n",
      "0.9986377047904951\n",
      "-------------------0.01------------------\n",
      "test\n",
      "-0.8471373926665511\n",
      "train\n",
      "0.9999845635466232\n",
      "-----------------0.05-------------------\n",
      "test\n",
      "-0.8109601089100751\n",
      "train\n",
      "0.9996355409929841\n",
      "With CV\n",
      "------------------cv=5-------------------\n",
      "test\n",
      "0.13757743447370196\n",
      "train\n",
      "0.999960548804518\n"
     ]
    },
    {
     "data": {
      "text/plain": [
       "'print(\"-----------------cv=10---------------------\")\\nY_train=np.array(Y_train)\\nY_train=Y_train.ravel()\\nridgec=RidgeCV().fit(X_train,Y_train)\\nprint(\\'train\\')\\nprint(lassoc.score(X_train,Y_train))\\nprint(\\'test\\')\\nprint(lassoc.score(X_test,Y_test))\\nprint(\"-----------------cv=20------------------------\")\\nY_train=np.array(Y_train)\\nY_train=Y_train.ravel()\\nridgec=RidgeCV().fit(X_train,Y_train)\\nprint(\\'train\\')\\nprint(lassoc.score(X_train,Y_train))\\nprint(\\'test\\')\\nprint(lassoc.score(X_test,Y_test))'"
      ]
     },
     "execution_count": 39,
     "metadata": {},
     "output_type": "execute_result"
    }
   ],
   "source": [
    "X_train,X_test,Y_train,Y_test=train_test_split(dt4,Y,test_size=0.3,random_state=42)\n",
    "print(X_train.shape,X_test.shape)\n",
    "print(Y_train.shape,Y_test.shape)\n",
    "print(\" without CV\")\n",
    "print(\"------------------0.1-----------------\")\n",
    "from sklearn.linear_model import Ridge\n",
    "ridgeReg=Ridge(alpha=0.5,normalize=True)\n",
    "ridgeReg.fit(X_train,Y_train)\n",
    "predictions=ridgeReg.predict(X_test)\n",
    "print('test')\n",
    "print(ridgeReg.score(X_test,Y_test))\n",
    "print('train')\n",
    "print(ridgeReg.score(X_train,Y_train))\n",
    "print(\"------------------0.5-------------------\")\n",
    "from sklearn.linear_model import Ridge\n",
    "ridgeReg=Ridge(alpha=0.1,normalize=True)\n",
    "ridgeReg.fit(X_train,Y_train)\n",
    "predictions=ridgeReg.predict(X_test)\n",
    "print('test')\n",
    "print(ridgeReg.score(X_test,Y_test))\n",
    "print('train')\n",
    "print(ridgeReg.score(X_train,Y_train))\n",
    "print(\"-------------------0.01------------------\")\n",
    "from sklearn.linear_model import Ridge\n",
    "ridgeReg=Ridge(alpha=0.01,normalize=True)\n",
    "ridgeReg.fit(X_train,Y_train)\n",
    "predictions=ridgeReg.predict(X_test)\n",
    "print('test')\n",
    "print(ridgeReg.score(X_test,Y_test))\n",
    "print('train')\n",
    "print(ridgeReg.score(X_train,Y_train))\n",
    "print('-----------------0.05-------------------')\n",
    "ridgeReg=Ridge(alpha=0.05,normalize=True)\n",
    "ridgeReg.fit(X_train,Y_train)\n",
    "predictions=ridgeReg.predict(X_test)\n",
    "print('test')\n",
    "print(ridgeReg.score(X_test,Y_test))\n",
    "print('train')\n",
    "print(ridgeReg.score(X_train,Y_train))\n",
    "print(\"With CV\")\n",
    "print(\"------------------cv=5-------------------\")\n",
    "Y_train=np.array(Y_train)\n",
    "Y_train=Y_train.ravel()\n",
    "ridgec=RidgeCV(cv=70).fit(X_train,Y_train)\n",
    "print('test')\n",
    "print(ridgec.score(X_test,Y_test))\n",
    "print('train')\n",
    "print(ridgec.score(X_train,Y_train))\n",
    "'''print(\"-----------------cv=10---------------------\")\n",
    "Y_train=np.array(Y_train)\n",
    "Y_train=Y_train.ravel()\n",
    "ridgec=RidgeCV().fit(X_train,Y_train)\n",
    "print('train')\n",
    "print(lassoc.score(X_train,Y_train))\n",
    "print('test')\n",
    "print(lassoc.score(X_test,Y_test))\n",
    "print(\"-----------------cv=20------------------------\")\n",
    "Y_train=np.array(Y_train)\n",
    "Y_train=Y_train.ravel()\n",
    "ridgec=RidgeCV().fit(X_train,Y_train)\n",
    "print('train')\n",
    "print(lassoc.score(X_train,Y_train))\n",
    "print('test')\n",
    "print(lassoc.score(X_test,Y_test))'''"
   ]
  },
  {
   "cell_type": "code",
   "execution_count": null,
   "metadata": {},
   "outputs": [],
   "source": []
  },
  {
   "cell_type": "code",
   "execution_count": null,
   "metadata": {},
   "outputs": [],
   "source": []
  },
  {
   "cell_type": "code",
   "execution_count": null,
   "metadata": {},
   "outputs": [],
   "source": []
  }
 ],
 "metadata": {
  "kernelspec": {
   "display_name": "Python 3",
   "language": "python",
   "name": "python3"
  },
  "language_info": {
   "codemirror_mode": {
    "name": "ipython",
    "version": 3
   },
   "file_extension": ".py",
   "mimetype": "text/x-python",
   "name": "python",
   "nbconvert_exporter": "python",
   "pygments_lexer": "ipython3",
   "version": "3.6.5"
  }
 },
 "nbformat": 4,
 "nbformat_minor": 2
}
