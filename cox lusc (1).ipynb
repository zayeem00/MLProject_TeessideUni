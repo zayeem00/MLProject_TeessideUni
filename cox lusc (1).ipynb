{
 "cells": [
  {
   "cell_type": "code",
   "execution_count": 68,
   "metadata": {},
   "outputs": [],
   "source": [
    "import sksurv\n",
    "import os\n",
    "import pandas as pd"
   ]
  },
  {
   "cell_type": "code",
   "execution_count": 69,
   "metadata": {},
   "outputs": [],
   "source": [
    "os.chdir('U:\\\\ProjectDataset')"
   ]
  },
  {
   "cell_type": "code",
   "execution_count": 70,
   "metadata": {},
   "outputs": [],
   "source": [
    "dt=pd.read_excel('gene + clinical LUSC.xlsx')\n"
   ]
  },
  {
   "cell_type": "code",
   "execution_count": 71,
   "metadata": {},
   "outputs": [],
   "source": [
    "dt=dt.set_index(dt.columns[0])"
   ]
  },
  {
   "cell_type": "code",
   "execution_count": 87,
   "metadata": {},
   "outputs": [],
   "source": [
    "c=pd.read_excel('cox LUSC.xlsx')"
   ]
  },
  {
   "cell_type": "code",
   "execution_count": 100,
   "metadata": {},
   "outputs": [],
   "source": [
    "result=c.to_records(index=False)"
   ]
  },
  {
   "cell_type": "code",
   "execution_count": 101,
   "metadata": {},
   "outputs": [],
   "source": [
    "c['Patient\\'s Vital Status' ]=c['Patient\\'s Vital Status' ].astype('bool')"
   ]
  },
  {
   "cell_type": "code",
   "execution_count": 102,
   "metadata": {},
   "outputs": [
    {
     "name": "stdout",
     "output_type": "stream",
     "text": [
      "Index(['Patient's Vital Status', 'Overall Survival'], dtype='object')\n"
     ]
    }
   ],
   "source": [
    "print(c.columns)"
   ]
  },
  {
   "cell_type": "code",
   "execution_count": 103,
   "metadata": {},
   "outputs": [
    {
     "data": {
      "text/plain": [
       "rec.array([(False, 1.2190e+01), (False, 4.4700e+00), (False, 7.5690e+01),\n",
       "           ( True, 1.2309e+02), (False, 4.8000e+00), ( True, 1.1748e+02),\n",
       "           (False, 1.1330e+01), (False, 2.3520e+01), (False, 9.2080e+01),\n",
       "           (False, 3.1960e+01), (False, 3.6040e+01), ( True, 9.2350e+01),\n",
       "           ( True, 8.6890e+01), (False, 6.1800e+00), (False, 2.7900e+00),\n",
       "           ( True, 1.5420e+02), ( True, 4.9900e+01), (False, 2.7170e+01),\n",
       "           ( True, 1.1945e+02), (False, 4.6850e+01), ( True, 9.9080e+01),\n",
       "           ( True, 7.0110e+01), ( True, 6.0840e+01), (False, 3.4760e+01),\n",
       "           (False, 1.5570e+01), (False, 3.1700e+01), ( True, 1.2234e+02),\n",
       "           (False, 9.3300e+00), ( True, 1.1971e+02), (False, 4.3200e+01),\n",
       "           (False, 3.1600e+01), (False, 8.8040e+01), ( True, 4.1660e+01),\n",
       "           ( True, 3.3900e+01), (False, 1.0810e+01), ( True, 3.2160e+01),\n",
       "           (False, 2.1980e+01), (False, 7.3300e+00), (False, 1.4910e+01),\n",
       "           (False, 4.3000e+00), (False, 6.4160e+01), (False, 1.7400e+00),\n",
       "           (False, 1.4090e+01), (False, 2.7000e+01), (False, 4.8780e+01),\n",
       "           (False, 2.0470e+01), (False, 3.5050e+01), (False, 4.8290e+01),\n",
       "           (False, 2.4110e+01), (False, 5.6000e-01), (False, 3.8140e+01),\n",
       "           (False, 3.4720e+01), (False, 1.3110e+01), (False, 3.2000e+01),\n",
       "           (False, 1.9280e+01), (False, 9.5600e+00), (False, 1.1760e+01),\n",
       "           ( True, 6.0610e+01), (False, 6.4880e+01), (False, 6.3500e+01),\n",
       "           (False, 1.4620e+01), (False, 4.4220e+01), (False, 7.9000e-01),\n",
       "           (False, 8.6240e+01), (False, 7.1290e+01), (False, 7.9140e+01),\n",
       "           (False, 1.1730e+01), (False, 1.8820e+01), (False, 3.0090e+01),\n",
       "           (False, 6.2810e+01), (False, 5.6270e+01), (False, 1.6620e+01),\n",
       "           ( True, 2.2040e+01), (False, 1.2891e+02), ( True, 1.3364e+02),\n",
       "           (False, 9.7860e+01), ( True, 7.9470e+01), (False, 1.7369e+02),\n",
       "           (False, 1.0345e+02), (False, 1.5115e+02), (False, 1.4060e+01),\n",
       "           (False, 5.4400e+01), (False, 1.5400e+00), (False, 1.9740e+01),\n",
       "           ( True, 6.3300e+01), (False, 4.7000e+00), (False, 3.0000e-01),\n",
       "           (False, 3.6600e+01), (False, 6.9300e+00), (False, 1.1091e+02),\n",
       "           (False, 4.4150e+01), (False, 1.1827e+02), (False, 2.7140e+01),\n",
       "           (False, 2.6300e+00), (False, 6.1560e+01), (False, 3.2850e+01),\n",
       "           (False, 6.5180e+01), ( True, 8.1180e+01), ( True, 7.4610e+01),\n",
       "           (False, 9.0700e+00), ( True, 6.0250e+01), ( True, 5.0620e+01),\n",
       "           (False, 1.6920e+01), ( True, 4.4710e+01), ( True, 3.9290e+01),\n",
       "           (False, 4.9600e+00), (False, 1.1200e+00), ( True, 3.8760e+01),\n",
       "           (False, 4.0400e+00), ( True, 2.6410e+01), ( True, 3.3870e+01),\n",
       "           ( True, 4.0100e+00), ( True, 4.3000e-01), ( True, 3.9000e-01),\n",
       "           ( True, 7.9500e+00), ( True, 8.1100e+00), ( True, 7.4600e+00),\n",
       "           ( True, 7.8200e+00), ( True, 6.8000e+00), ( True, 3.9000e-01),\n",
       "           ( True, 3.3800e+00), (False, 3.7550e+01), ( True, 2.8480e+01),\n",
       "           ( True, 2.1680e+01), ( True, 1.3315e+02), ( True, 1.2648e+02),\n",
       "           ( True, 1.1127e+02), (False, 6.8530e+01), (False, 5.5160e+01),\n",
       "           ( True, 8.2460e+01), ( True, 1.0210e+02), (False, 1.7100e+00),\n",
       "           (False, 2.4310e+01), (False, 1.9400e+00), (False, 6.0480e+01),\n",
       "           (False, 3.6370e+01), ( True, 6.8330e+01), ( True, 7.1120e+01),\n",
       "           ( True, 5.5520e+01), (False, 1.7870e+01), (False, 1.7050e+01),\n",
       "           ( True, 4.0180e+01), (False, 2.2470e+01), ( True, 3.8630e+01),\n",
       "           (False, 3.9090e+01), ( True, 3.3080e+01), (False, 1.8360e+01),\n",
       "           ( True, 2.7890e+01), ( True, 2.2960e+01), ( True, 2.4870e+01),\n",
       "           ( True, 2.1450e+01), (False, 5.4500e+00), (False, 3.8100e+00),\n",
       "           ( True, 1.9580e+01), ( True, 7.7500e+00), (False, 7.8120e+01),\n",
       "           ( True, 1.3370e+01), ( True, 1.1760e+01), (False, 2.9200e+00),\n",
       "           ( True, 1.1600e+01), ( True, 9.7200e+00), ( True, 1.4190e+01),\n",
       "           ( True, 1.2020e+01), ( True, 1.3300e+01), ( True, 1.2160e+01),\n",
       "           ( True, 1.3010e+01), (False, 9.8200e+00), ( True, 4.4300e+00),\n",
       "           ( True, 1.0640e+01), ( True, 1.3900e+01), (False, 3.9000e-01),\n",
       "           (False, 3.9000e-01), ( True, 2.9930e+01), (False, 6.0970e+01),\n",
       "           ( True, 2.8320e+01), (False, 5.4500e+00), ( True, 3.0320e+01),\n",
       "           (False, 8.7400e+00), (False, 2.7430e+01), (False, 2.8940e+01),\n",
       "           ( True, 1.2420e+01), ( True, 1.8230e+01), ( True, 2.1880e+01),\n",
       "           (False, 0.0000e+00), ( True, 1.9970e+01), (False, 1.8460e+01),\n",
       "           (False, 1.4520e+01), (False, 3.1240e+01), ( True, 3.0390e+01),\n",
       "           ( True, 1.9740e+01), (False, 6.5000e+00), (False, 1.0000e-01),\n",
       "           (False, 1.7480e+01), ( True, 3.3210e+01), ( True, 1.4950e+01),\n",
       "           ( True, 4.9300e+00), (False, 1.3040e+01), ( True, 3.4800e+00),\n",
       "           ( True, 3.4500e+00), ( True, 2.6870e+01), ( True, 1.6980e+01),\n",
       "           ( True, 1.4060e+01), ( True, 1.3500e+00), ( True, 1.6750e+01),\n",
       "           ( True, 1.8100e+00), (False, 2.2730e+01), ( True, 1.3800e+01),\n",
       "           (False, 1.0350e+01), (False, 9.9200e+00), ( True, 2.0240e+01),\n",
       "           ( True, 1.5800e+01), ( True, 2.0930e+01), ( True, 1.9220e+01),\n",
       "           ( True, 1.3300e+01), (False, 1.7840e+01), ( True, 2.1020e+01),\n",
       "           ( True, 1.8730e+01), ( True, 1.3000e-01), ( True, 2.6000e-01),\n",
       "           ( True, 1.4450e+01), (False, 3.0000e-02), (False, 1.3240e+01),\n",
       "           (False, 1.3530e+01), ( True, 2.9930e+01), ( True, 7.1190e+01),\n",
       "           (False, 1.6460e+01), ( True, 3.4760e+01), ( True, 8.5050e+01),\n",
       "           (False, 3.4330e+01), ( True, 5.6600e+01), ( True, 3.5220e+01),\n",
       "           ( True, 2.9890e+01), ( True, 2.1090e+01), (False, 3.5800e+00),\n",
       "           (False, 1.2220e+01), (False, 1.0220e+01), (False, 9.6750e+01),\n",
       "           (False, 3.7910e+01), ( True, 9.2640e+01), (False, 2.1910e+01),\n",
       "           ( True, 8.0390e+01), ( True, 4.9440e+01), ( True, 6.6490e+01),\n",
       "           ( True, 4.1390e+01), (False, 9.0000e+00), ( True, 5.6870e+01),\n",
       "           ( True, 5.0300e+01), (False, 3.5320e+01), ( True, 4.8460e+01),\n",
       "           ( True, 4.2610e+01), ( True, 3.1900e+00), ( True, 3.2290e+01),\n",
       "           ( True, 2.9830e+01), ( True, 3.5870e+01), ( True, 2.3550e+01),\n",
       "           ( True, 2.6810e+01), (False, 1.1760e+01), (False, 0.0000e+00),\n",
       "           (False, 0.0000e+00), ( True, 5.2630e+01), ( True, 7.0070e+01),\n",
       "           ( True, 7.0370e+01), ( True, 6.8100e+01), ( True, 5.5260e+01),\n",
       "           ( True, 0.0000e+00), ( True, 1.0260e+02), ( True, 7.0570e+01),\n",
       "           ( True, 6.6560e+01), ( True, 5.8610e+01), ( True, 5.9920e+01),\n",
       "           ( True, 4.5530e+01), (False, 1.4980e+01), (False, 1.1330e+01),\n",
       "           ( True, 2.5260e+01), ( True, 8.9220e+01), ( True, 7.8220e+01),\n",
       "           ( True, 1.6360e+01), (False, 0.0000e+00), ( True, 3.6140e+01),\n",
       "           ( True, 5.3840e+01), ( True, 3.4560e+01), (False, 1.6950e+01),\n",
       "           ( True, 4.3070e+01), ( True, 2.0000e+00), ( True, 2.1060e+01),\n",
       "           ( True, 9.9000e-01), ( True, 1.0200e+00), ( True, 2.0000e+00),\n",
       "           ( True, 9.2000e-01), ( True, 9.9000e-01), (False, 4.3960e+01),\n",
       "           ( True, 2.0990e+01), ( True, 2.5030e+01), ( True, 9.9000e-01),\n",
       "           ( True, 2.0000e+00), ( True, 1.0200e+00), ( True, 2.0000e+00),\n",
       "           ( True, 2.0000e+00), (False, 7.0600e+00), ( True, 2.3000e+01),\n",
       "           ( True, 1.8990e+01), (False, 3.0200e+00), ( True, 2.0000e+00),\n",
       "           ( True, 1.8990e+01), (False, 1.2020e+01), ( True, 3.9800e+00),\n",
       "           (False, 1.1990e+01), ( True, 2.4930e+01), ( True, 1.9700e+00),\n",
       "           ( True, 2.5950e+01), ( True, 3.9980e+01), ( True, 2.2960e+01),\n",
       "           (False, 4.0400e+00), ( True, 2.2960e+01), (False, 5.0300e+00),\n",
       "           ( True, 2.9990e+01), (False, 1.0050e+01), ( True, 5.4040e+01),\n",
       "           ( True, 4.0100e+00), ( True, 4.9010e+01), ( True, 2.7300e+00),\n",
       "           ( True, 6.6400e+00), ( True, 6.9300e+00), ( True, 8.0200e+00),\n",
       "           ( True, 1.3340e+01), ( True, 1.6160e+01), ( True, 1.4720e+01),\n",
       "           (False, 0.0000e+00), ( True, 1.2060e+01), ( True, 1.2320e+01),\n",
       "           (False, 2.9530e+01), (False, 7.3060e+01), (False, 7.5030e+01),\n",
       "           (False, 2.3260e+01), (False, 1.1170e+01), ( True, 1.3998e+02),\n",
       "           (False, 2.0760e+01), ( True, 4.9000e-01), ( True, 7.3160e+01),\n",
       "           (False, 7.0070e+01), (False, 1.0687e+02), (False, 1.6000e-01),\n",
       "           (False, 4.6750e+01), ( True, 3.2520e+01), (False, 6.5000e+00),\n",
       "           (False, 8.6700e+01), (False, 5.5680e+01), (False, 3.7780e+01),\n",
       "           ( True, 1.5654e+02), (False, 1.2580e+01), (False, 5.3880e+01),\n",
       "           (False, 3.9060e+01), (False, 1.7710e+01), ( True, 1.0401e+02),\n",
       "           (False, 1.1530e+01), (False, 2.6380e+01), ( True, 2.7370e+01),\n",
       "           (False, 6.9600e+00), ( True, 1.0476e+02), ( True, 6.6460e+01),\n",
       "           (False, 5.4370e+01), ( True, 6.5440e+01), ( True, 6.0480e+01),\n",
       "           ( True, 3.6330e+01), (False, 1.2608e+02), ( True, 1.3226e+02),\n",
       "           ( True, 1.5013e+02), (False, 2.2270e+01), (False, 5.9100e+00),\n",
       "           ( True, 6.1890e+01), ( True, 4.2050e+01), (False, 3.0780e+01),\n",
       "           (False, 2.7600e+01), ( True, 3.8830e+01), ( True, 0.0000e+00),\n",
       "           (False, 9.6600e+00), ( True, 4.1360e+01), ( True, 4.0210e+01),\n",
       "           (False, 6.4100e+00), ( True, 3.6500e+01), ( True, 3.4920e+01),\n",
       "           ( True, 3.1270e+01), (False, 3.2880e+01), ( True, 1.3800e+00),\n",
       "           ( True, 1.1500e+00), ( True, 2.9930e+01), ( True, 1.8920e+01),\n",
       "           ( True, 2.5130e+01), ( True, 1.9020e+01), ( True, 2.4110e+01),\n",
       "           ( True, 3.1540e+01), ( True, 2.6770e+01), ( True, 3.0620e+01),\n",
       "           ( True, 3.4490e+01), (False, 1.0090e+01), (False, 7.6000e-01),\n",
       "           (False, 1.3210e+01), ( True, 2.2440e+01), ( True, 1.6750e+01),\n",
       "           (False, 5.2900e+00), (False, 3.0900e+00), ( True, 3.2690e+01),\n",
       "           ( True, 2.0000e+00), ( True, 1.5370e+01), (False, 7.7500e+00),\n",
       "           ( True, 3.6560e+01), ( True, 3.8110e+01), (False, 1.2580e+01),\n",
       "           (False, 1.8070e+01), (False, 2.2570e+01), (False, 3.0260e+01),\n",
       "           ( True, 3.4100e+01), ( True, 3.0950e+01), (False, 1.9840e+01),\n",
       "           ( True, 2.4340e+01), (False, 3.0450e+01), ( True, 1.9710e+01),\n",
       "           (False, 2.7140e+01), ( True, 1.6200e+01), ( True, 1.5830e+01),\n",
       "           (False, 1.4950e+01), ( True, 1.5280e+01), ( True, 2.9890e+01),\n",
       "           ( True, 1.2390e+01), ( True, 3.6500e+00), ( True, 2.4900e+01),\n",
       "           ( True, 9.4900e+00), ( True, 2.9200e+00), ( True, 1.1760e+01),\n",
       "           ( True, 1.4060e+01), ( True, 2.0200e+01), ( True, 2.2600e+01),\n",
       "           (False, 1.0580e+01), ( True, 2.6900e+00), ( True, 3.4800e+00),\n",
       "           ( True, 4.0100e+00), ( True, 5.2600e+00), ( True, 2.3000e+00),\n",
       "           ( True, 2.1020e+01), (False, 1.6000e-01), ( True, 1.8360e+01),\n",
       "           ( True, 4.0100e+00), ( True, 5.0300e+00), ( True, 2.6610e+01),\n",
       "           ( True, 1.4130e+01), ( True, 1.6130e+01), ( True, 1.7670e+01),\n",
       "           (False, 7.0960e+01), (False, 5.7030e+01), ( True, 1.8300e+01),\n",
       "           ( True, 1.7440e+01), ( True, 1.9350e+01), ( True, 2.7660e+01),\n",
       "           ( True, 2.1420e+01), (False, 2.7600e+00), ( True, 3.0780e+01),\n",
       "           (False, 3.0650e+01), ( True, 2.1320e+01), ( True, 2.7140e+01),\n",
       "           ( True, 5.6800e+00), (False, 1.8130e+01), (False, 2.0000e+00),\n",
       "           ( True, 2.7000e+01), (False, 2.1190e+01), ( True, 2.0300e+01),\n",
       "           ( True, 1.8560e+01), ( True, 2.0700e+01), ( True, 1.9090e+01),\n",
       "           ( True, 1.2880e+01), (False, 1.6100e+01), ( True, 1.3170e+01),\n",
       "           (False, 1.3400e+01), (False, 1.1830e+01), (False, 7.0000e-02),\n",
       "           ( True, 7.6740e+01), (False, 4.5300e+00), ( True, 6.4490e+01),\n",
       "           ( True, 1.2200e+00), ( True, 5.7260e+01), (False, 1.3730e+01),\n",
       "           ( True, 4.2000e+00), (False, 2.8900e+00), ( True, 3.9820e+01),\n",
       "           ( True, 4.9240e+01), ( True, 4.3890e+01), (False, 2.5300e+01),\n",
       "           (False, 1.4720e+01), ( True, 4.0870e+01), ( True, 2.6410e+01),\n",
       "           ( True, 8.3510e+01), ( True, 6.5600e+01), ( True, 3.6500e+00),\n",
       "           ( True, 1.6790e+01), ( True, 4.3000e-01), (False, 3.3050e+01),\n",
       "           (False, 3.7100e+00), (False, 1.2710e+01), (False, 4.3860e+01),\n",
       "           (False, 8.5700e+00), (False, 1.1170e+01), (False, 2.0000e-01)],\n",
       "          dtype=[(\"Patient's Vital Status\", '?'), ('Overall Survival', '<f8')])"
      ]
     },
     "execution_count": 103,
     "metadata": {},
     "output_type": "execute_result"
    }
   ],
   "source": [
    "result"
   ]
  },
  {
   "cell_type": "code",
   "execution_count": 82,
   "metadata": {},
   "outputs": [
    {
     "name": "stdout",
     "output_type": "stream",
     "text": [
      "iter     12: optimization converged\n"
     ]
    },
    {
     "data": {
      "text/plain": [
       "CoxPHSurvivalAnalysis(alpha=1, n_iter=100, tol=1e-09, verbose=1)"
      ]
     },
     "execution_count": 82,
     "metadata": {},
     "output_type": "execute_result"
    }
   ],
   "source": [
    "from sksurv.linear_model import CoxPHSurvivalAnalysis\n",
    "estimator = CoxPHSurvivalAnalysis(alpha=1,verbose=1)\n",
    "estimator.fit(dt, result)\n"
   ]
  },
  {
   "cell_type": "code",
   "execution_count": 83,
   "metadata": {},
   "outputs": [
    {
     "data": {
      "text/plain": [
       "A4GALT                                                            -0.746004\n",
       "AASDHPPT                                                           0.159038\n",
       "ABCA4                                                              1.131167\n",
       "ABCC1                                                              0.894321\n",
       "ACER3                                                              0.001257\n",
       "ACSM3                                                             -0.367472\n",
       "ACTN1                                                              0.119693\n",
       "ADCY5                                                             -0.669611\n",
       "AFF2                                                              -0.263385\n",
       "ALKBH6                                                            -0.368259\n",
       "ANO5                                                              -0.412230\n",
       "ANXA11                                                             0.856122\n",
       "ANXA1                                                              0.193217\n",
       "APC2                                                               0.087686\n",
       "ARHGAP1                                                           -0.271160\n",
       "ARHGEF35                                                          -1.126030\n",
       "ARL6                                                              -0.350363\n",
       "ASH2L                                                             -0.001194\n",
       "ATG12                                                              0.636869\n",
       "ATP1A2                                                             0.537441\n",
       "ATP1B2                                                            -0.140769\n",
       "ATP8B2                                                            -0.667151\n",
       "ATP8B3                                                             0.177726\n",
       "ATXN10                                                            -0.409224\n",
       "ATXN1                                                             -0.093360\n",
       "BAIAP3                                                            -0.677311\n",
       "BASP1                                                              0.038163\n",
       "BCL2L13                                                            0.366521\n",
       "BEST1                                                              0.335410\n",
       "C10ORF91                                                           0.171919\n",
       "                                                                     ...   \n",
       "SAP130                                                             0.265943\n",
       "SCFD2                                                              0.267696\n",
       "SDCBP2                                                             0.374784\n",
       "SDHB                                                               0.033072\n",
       "SDR42E1                                                            0.197797\n",
       "SEC11C                                                             0.052542\n",
       "SF3B4                                                             -0.258923\n",
       "SIGLEC12                                                           0.204821\n",
       "SIGLEC16                                                           0.616219\n",
       "SLC10A7                                                           -0.364608\n",
       "SLC12A1                                                            0.413883\n",
       "SLC13A4                                                           -0.251002\n",
       "SLC16A9                                                           -0.938483\n",
       "SLC22A23                                                           0.305674\n",
       "SLC25A37                                                           0.136466\n",
       "SLC35A1                                                           -0.141634\n",
       "SLC44A2                                                           -0.184990\n",
       "SLC4A2                                                             0.420763\n",
       "SLC6A18                                                           -0.798781\n",
       "Diagnosis Age                                                     -0.073956\n",
       "Sex                                                                0.675909\n",
       "Patient's Vital Status                                             6.076216\n",
       "Disease Free (Months)                                             -0.333964\n",
       "Person Cigarette Smoking History Pack Year Value                  -0.003965\n",
       "Fraction Genome Altered                                           -0.483712\n",
       "Overall Survival Status                                            6.076216\n",
       "Disease Free Status                                               -3.434662\n",
       "Person Neoplasm Status                                            -2.060935\n",
       "Primary Tumor Site                                                -0.225982\n",
       "Neoplasm Disease Stage American Joint Committee on Cancer Code3    0.099504\n",
       "Length: 331, dtype: float64"
      ]
     },
     "execution_count": 83,
     "metadata": {},
     "output_type": "execute_result"
    }
   ],
   "source": [
    "pd.Series(estimator.coef_, index=dt.columns)"
   ]
  },
  {
   "cell_type": "code",
   "execution_count": 84,
   "metadata": {},
   "outputs": [
    {
     "data": {
      "text/plain": [
       "0.9883448130658405"
      ]
     },
     "execution_count": 84,
     "metadata": {},
     "output_type": "execute_result"
    }
   ],
   "source": [
    "from sksurv.metrics import concordance_index_censored\n",
    "\n",
    "prediction = estimator.predict(dt)\n",
    "result = concordance_index_censored(c['Patient\\'s Vital Status'], c['Overall Survival'], prediction)\n",
    "result[0]"
   ]
  },
  {
   "cell_type": "code",
   "execution_count": 85,
   "metadata": {},
   "outputs": [
    {
     "data": {
      "text/plain": [
       "Text(0.5,0,'time $t$')"
      ]
     },
     "execution_count": 85,
     "metadata": {},
     "output_type": "execute_result"
    },
    {
     "data": {
      "image/png": "[encoded data removed]",
      "text/plain": [
       "<Figure size 432x288 with 1 Axes>"
      ]
     },
     "metadata": {},
     "output_type": "display_data"
    }
   ],
   "source": [
    "%matplotlib inline\n",
    "import matplotlib.pyplot as plt\n",
    "from sksurv.nonparametric import kaplan_meier_estimator\n",
    "\n",
    "time, survival_prob = kaplan_meier_estimator(c['Patient\\'s Vital Status'], c['Overall Survival'])\n",
    "plt.step(time, survival_prob, where=\"post\")\n",
    "plt.ylabel(\"est. probability of survival $\\hat{S}(t)$\")\n",
    "plt.xlabel(\"time $t$\")"
   ]
  },
  {
   "cell_type": "code",
   "execution_count": 95,
   "metadata": {},
   "outputs": [
    {
     "name": "stdout",
     "output_type": "stream",
     "text": [
      "(350, 331) (350,)\n",
      "(151, 331) (151,)\n",
      "iter     16: optimization converged\n",
      "train score\n"
     ]
    },
    {
     "data": {
      "text/plain": [
       "0.9990301285861778"
      ]
     },
     "execution_count": 95,
     "metadata": {},
     "output_type": "execute_result"
    }
   ],
   "source": [
    "from sklearn.model_selection import train_test_split\n",
    "X_train,X_test,Y_train,Y_test=train_test_split(dt,result,test_size=0.3)\n",
    "print(X_train.shape,Y_train.shape)\n",
    "print(X_test.shape,Y_test.shape)\n",
    "from sksurv.linear_model import CoxPHSurvivalAnalysis\n",
    "estimator = CoxPHSurvivalAnalysis(alpha=1,verbose=1)\n",
    "estimator.fit(X_train, Y_train)\n",
    "from sksurv.metrics import concordance_index_censored\n",
    "print('train score')\n",
    "prediction = estimator.predict(X_train)\n",
    "result = concordance_index_censored(Y_train['Patient\\'s Vital Status'], Y_train['Overall Survival'], prediction) \n",
    "result[0]"
   ]
  },
  {
   "cell_type": "code",
   "execution_count": 96,
   "metadata": {},
   "outputs": [
    {
     "name": "stdout",
     "output_type": "stream",
     "text": [
      "iter     22: optimization converged\n",
      "iter     18: optimization converged\n",
      "iter     26: optimization converged\n",
      "iter     17: optimization converged\n",
      "iter     26: optimization converged\n",
      "[0.83880825 0.84569536 0.84583333 0.79810726 0.79071884]\n"
     ]
    }
   ],
   "source": [
    "from sklearn.model_selection import cross_val_score\n",
    "print(cross_val_score(estimator,X_train,Y_train,cv=5))"
   ]
  },
  {
   "cell_type": "code",
   "execution_count": 44,
   "metadata": {},
   "outputs": [
    {
     "data": {
      "text/plain": [
       "0.8175064599483204"
      ]
     },
     "execution_count": 44,
     "metadata": {},
     "output_type": "execute_result"
    }
   ],
   "source": [
    "from sksurv.metrics import concordance_index_censored\n",
    "prediction = estimator.predict(X_test)\n",
    "result = concordance_index_censored(Y_test['Patient\\'s Vital Status'], Y_test['Overall Survival'], prediction)\n",
    "result[0]"
   ]
  },
  {
   "cell_type": "code",
   "execution_count": 105,
   "metadata": {},
   "outputs": [],
   "source": [
    "dt1=pd.read_excel('selected gene no depth LUSC.xlsx')"
   ]
  },
  {
   "cell_type": "code",
   "execution_count": 106,
   "metadata": {},
   "outputs": [],
   "source": [
    "dt1=dt1.set_index(dt1.columns[0])"
   ]
  },
  {
   "cell_type": "code",
   "execution_count": 108,
   "metadata": {
    "scrolled": true
   },
   "outputs": [
    {
     "name": "stdout",
     "output_type": "stream",
     "text": [
      "(350, 2794) (350,)\n",
      "(151, 2794) (151,)\n",
      "iter     27: optimization converged\n",
      "train score\n"
     ]
    },
    {
     "data": {
      "text/plain": [
       "1.0"
      ]
     },
     "execution_count": 108,
     "metadata": {},
     "output_type": "execute_result"
    }
   ],
   "source": [
    "from sklearn.model_selection import train_test_split\n",
    "X_train,X_test,Y_train,Y_test=train_test_split(dt1,result,test_size=0.3)\n",
    "print(X_train.shape,Y_train.shape)\n",
    "print(X_test.shape,Y_test.shape)\n",
    "from sksurv.linear_model import CoxPHSurvivalAnalysis\n",
    "estimator = CoxPHSurvivalAnalysis(alpha=1,verbose=1)\n",
    "estimator.fit(X_train, Y_train)\n",
    "from sksurv.metrics import concordance_index_censored\n",
    "print('train score')\n",
    "prediction = estimator.predict(X_train)\n",
    "result = concordance_index_censored(Y_train['Patient\\'s Vital Status'], Y_train['Overall Survival'], prediction) \n",
    "result[0]"
   ]
  },
  {
   "cell_type": "code",
   "execution_count": 110,
   "metadata": {},
   "outputs": [
    {
     "name": "stdout",
     "output_type": "stream",
     "text": [
      "iter     21: optimization converged\n",
      "iter     25: optimization converged\n",
      "iter    101: reached maximum number of iterations. Stopping.\n"
     ]
    },
    {
     "name": "stderr",
     "output_type": "stream",
     "text": [
      "C:\\ProgramData\\Anaconda3\\lib\\site-packages\\sklearn\\model_selection\\_validation.py:458: ConvergenceWarning: Optimization did not converge: Maximum number of iterations has been exceeded.\n",
      "  estimator.fit(X_train, y_train, **fit_params)\n",
      "C:\\ProgramData\\Anaconda3\\lib\\site-packages\\sksurv\\linear_model\\coxph.py:385: RuntimeWarning: invalid value encountered in true_divide\n",
      "  y = numpy.cumsum(n_events / divisor)\n"
     ]
    },
    {
     "name": "stdout",
     "output_type": "stream",
     "text": [
      "iter     31: optimization converged\n",
      "iter     18: optimization converged\n",
      "[0.78754325 0.74402467 0.7322695  0.72940226 0.71236133]\n"
     ]
    }
   ],
   "source": [
    "from sklearn.model_selection import cross_val_score\n",
    "print(cross_val_score(estimator,X_train,Y_train,cv=5))"
   ]
  },
  {
   "cell_type": "code",
   "execution_count": 113,
   "metadata": {},
   "outputs": [
    {
     "name": "stdout",
     "output_type": "stream",
     "text": [
      "test\n"
     ]
    },
    {
     "data": {
      "text/plain": [
       "0.7723300970873787"
      ]
     },
     "execution_count": 113,
     "metadata": {},
     "output_type": "execute_result"
    }
   ],
   "source": [
    "print('test')\n",
    "from sksurv.metrics import concordance_index_censored\n",
    "prediction = estimator.predict(X_test)\n",
    "result = concordance_index_censored(Y_test['Patient\\'s Vital Status'], Y_test['Overall Survival'], prediction)\n",
    "result[0]"
   ]
  },
  {
   "cell_type": "code",
   "execution_count": 117,
   "metadata": {},
   "outputs": [
    {
     "data": {
      "text/plain": [
       "Patient's Vital Status                                             1.140419\n",
       "Overall Survival Status                                            1.140419\n",
       "BIRC7                                                              1.076871\n",
       "ACAP2                                                              0.915036\n",
       "ALDH3A1                                                            0.754801\n",
       "Neoplasm Disease Stage American Joint Committee on Cancer Code3    0.740508\n",
       "C5ORF52                                                            0.726700\n",
       "SLC18B1                                                            0.689853\n",
       "C5ORF47                                                            0.689134\n",
       "CAND1                                                              0.681710\n",
       "ALOX12                                                             0.672940\n",
       "ALCAM                                                              0.647311\n",
       "SETD9                                                              0.615421\n",
       "VSTM5                                                              0.606315\n",
       "AOX2P                                                              0.605771\n",
       "CAMKV                                                              0.605661\n",
       "C1QC                                                               0.580154\n",
       "MB21D1                                                             0.572656\n",
       "ARGFX                                                              0.571696\n",
       "FUOM                                                               0.570203\n",
       "C15ORF39                                                           0.561653\n",
       "C15ORF62                                                           0.556945\n",
       "APEX1                                                              0.553861\n",
       "C11ORF53                                                           0.551578\n",
       "ART5                                                               0.550951\n",
       "C4ORF50                                                            0.549068\n",
       "ALDH1L1                                                            0.545446\n",
       "C3AR1                                                              0.542170\n",
       "ADAM20                                                             0.536133\n",
       "BAZ1A                                                              0.533945\n",
       "                                                                     ...   \n",
       "Person Neoplasm Status                                            -0.546486\n",
       "ANKRD30A                                                          -0.549530\n",
       "ADAMTSL5                                                          -0.551665\n",
       "CABS1                                                             -0.552554\n",
       "ADAMTS1                                                           -0.552632\n",
       "C1R                                                               -0.567830\n",
       "ANO3                                                              -0.580209\n",
       "ATP12A                                                            -0.581781\n",
       "ASTE1                                                             -0.588163\n",
       "APOBEC3B                                                          -0.589819\n",
       "ACER1                                                             -0.596304\n",
       "BAG1                                                              -0.605779\n",
       "C3ORF70                                                           -0.606108\n",
       "RTFDC1                                                            -0.615598\n",
       "C12ORF75                                                          -0.622061\n",
       "C9ORF156                                                          -0.622468\n",
       "C6ORF58                                                           -0.665267\n",
       "ANKRD26P1                                                         -0.674744\n",
       "BTNL8                                                             -0.730901\n",
       "BPIFB3                                                            -0.766444\n",
       "ASUN                                                              -0.804146\n",
       "Disease Free Status                                               -0.812691\n",
       "ADAM9                                                             -0.828352\n",
       "ATG4A                                                             -0.830853\n",
       "SPATA31E1                                                         -0.850878\n",
       "LINC00305                                                         -0.856542\n",
       "BST1                                                              -0.939475\n",
       "PLET1                                                             -0.981893\n",
       "C1QL2                                                             -1.040206\n",
       "Disease Free (Months)                                             -1.186941\n",
       "Length: 2794, dtype: float64"
      ]
     },
     "execution_count": 117,
     "metadata": {},
     "output_type": "execute_result"
    }
   ],
   "source": [
    "pd.Series(estimator.coef_, index=X_train.columns).sort_values(ascending=False)"
   ]
  },
  {
   "cell_type": "code",
   "execution_count": 118,
   "metadata": {},
   "outputs": [
    {
     "data": {
      "text/plain": [
       "3.7056010100000005"
      ]
     },
     "execution_count": 118,
     "metadata": {},
     "output_type": "execute_result"
    }
   ],
   "source": [
    "0.78754325+0.74402467+0.7322695+0.72940226+0.71236133"
   ]
  },
  {
   "cell_type": "code",
   "execution_count": 119,
   "metadata": {},
   "outputs": [
    {
     "data": {
      "text/plain": [
       "0.7411202020000001"
      ]
     },
     "execution_count": 119,
     "metadata": {},
     "output_type": "execute_result"
    }
   ],
   "source": [
    "\n",
    "3.7056010100000005/5"
   ]
  },
  {
   "cell_type": "code",
   "execution_count": null,
   "metadata": {},
   "outputs": [],
   "source": [
    "33979+15530.98"
   ]
  },
  {
   "cell_type": "code",
   "execution_count": null,
   "metadata": {},
   "outputs": [],
   "source": []
  }
 ],
 "metadata": {
  "kernelspec": {
   "display_name": "Python 3",
   "language": "python",
   "name": "python3"
  },
  "language_info": {
   "codemirror_mode": {
    "name": "ipython",
    "version": 3
   },
   "file_extension": ".py",
   "mimetype": "text/x-python",
   "name": "python",
   "nbconvert_exporter": "python",
   "pygments_lexer": "ipython3",
   "version": "3.6.5"
  }
 },
 "nbformat": 4,
 "nbformat_minor": 2
}
