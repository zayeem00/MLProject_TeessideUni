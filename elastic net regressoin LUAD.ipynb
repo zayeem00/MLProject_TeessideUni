{
 "cells": [
  {
   "cell_type": "code",
   "execution_count": 35,
   "metadata": {},
   "outputs": [],
   "source": [
    "#elastic net regression has a better score than lasso \n",
    "import pandas as pd\n",
    "import os\n",
    "import matplotlib.pyplot as plt\n",
    "from sklearn import linear_model\n",
    "from sklearn.linear_model import ElasticNetCV\n",
    "from sklearn.linear_model import ElasticNet\n",
    "import numpy as np"
   ]
  },
  {
   "cell_type": "code",
   "execution_count": 2,
   "metadata": {},
   "outputs": [],
   "source": [
    "os.chdir('U:\\\\ProjectDataset')"
   ]
  },
  {
   "cell_type": "code",
   "execution_count": 3,
   "metadata": {},
   "outputs": [],
   "source": [
    "dt=pd.read_excel('selected clinical LUAD.xlsx')"
   ]
  },
  {
   "cell_type": "code",
   "execution_count": 4,
   "metadata": {},
   "outputs": [],
   "source": [
    "dt=dt.set_index(dt.columns[0])"
   ]
  },
  {
   "cell_type": "code",
   "execution_count": 3,
   "metadata": {},
   "outputs": [],
   "source": [
    "tar=pd.read_excel('survival_LUAD.xlsx')\n"
   ]
  },
  {
   "cell_type": "code",
   "execution_count": 7,
   "metadata": {},
   "outputs": [],
   "source": [
    "from sklearn.model_selection import train_test_split\n",
    "\n",
    "from sklearn.metrics import mean_squared_error"
   ]
  },
  {
   "cell_type": "code",
   "execution_count": 7,
   "metadata": {},
   "outputs": [
    {
     "name": "stdout",
     "output_type": "stream",
     "text": [
      "(361, 11) (361, 1)\n",
      "(156, 11) (156, 1)\n"
     ]
    }
   ],
   "source": [
    "Y=tar\n",
    "X_train,X_test,Y_train,Y_test=train_test_split(dt,Y,test_size=0.3)\n",
    "print(X_train.shape,Y_train.shape)\n",
    "print(X_test.shape,Y_test.shape)"
   ]
  },
  {
   "cell_type": "code",
   "execution_count": 18,
   "metadata": {},
   "outputs": [
    {
     "name": "stdout",
     "output_type": "stream",
     "text": [
      "!!!!!!!!!!!! 0.1 !!!!!!!!!!!!!!!!!!!\n",
      "test\n",
      "0.764719717361889\n",
      "train\n",
      "0.8535427540902712\n",
      "MSE\n",
      "173.44029241079463\n",
      "!!!!!!!!!!!! 0.5 !!!!!!!!!!!!!!!!!!!\n",
      "test\n",
      "0.7453795699433208\n",
      "train\n",
      "0.8379865362574389\n",
      "MSE\n",
      "187.69716419764018\n",
      "!!!!!!!!!!!! 0.01 !!!!!!!!!!!!!!!!!!!\n",
      "test\n",
      "0.7683471628575695\n",
      "train\n",
      "0.8570955452590883\n",
      "MSE\n",
      "170.76626804963396\n",
      "!!!!!!!!!!!! 0.05 !!!!!!!!!!!!!!!!!!!\n",
      "test\n",
      "0.7670879795898989\n",
      "train\n",
      "0.8558273228763099\n",
      "MSE\n",
      "171.69449336326772\n",
      "!!!!!!!!!!!! 1 !!!!!!!!!!!!!!!!!!!\n",
      "test\n",
      "0.7362375049295962\n",
      "train\n",
      "0.8296887840290529\n",
      "MSE\n",
      "194.4363707789997\n",
      "with CV\n",
      "test\n",
      "0.7481727418624637\n",
      "train\n",
      "0.840105918966001\n",
      "MSE\n",
      "185.6381367730815\n"
     ]
    },
    {
     "name": "stderr",
     "output_type": "stream",
     "text": [
      "C:\\ProgramData\\Anaconda3\\lib\\site-packages\\sklearn\\linear_model\\coordinate_descent.py:1094: DataConversionWarning: A column-vector y was passed when a 1d array was expected. Please change the shape of y to (n_samples, ), for example using ravel().\n",
      "  y = column_or_1d(y, warn=True)\n",
      "..............................[Parallel(n_jobs=1)]: Done   3 out of   3 | elapsed:    0.0s finished\n"
     ]
    }
   ],
   "source": [
    "from sklearn.linear_model import ElasticNet\n",
    "print('!!!!!!!!!!!! 0.1 !!!!!!!!!!!!!!!!!!!')\n",
    "ENreg = ElasticNet(alpha=0.1, l1_ratio=0.5, normalize=False)\n",
    "ENreg.fit(X_train,Y_train)\n",
    "pred_cv = ENreg.predict(X_test)\n",
    "print('test')\n",
    "print(ENreg.score(X_test,Y_test))\n",
    "print('train')\n",
    "print(ENreg.score(X_train,Y_train))\n",
    "print('MSE')\n",
    "print(mean_squared_error(Y_test,pred_cv))\n",
    "print('!!!!!!!!!!!! 0.5 !!!!!!!!!!!!!!!!!!!')\n",
    "ENreg = ElasticNet(alpha=0.5, l1_ratio=0.5, normalize=False)\n",
    "ENreg.fit(X_train,Y_train)\n",
    "pred_cv = ENreg.predict(X_test)\n",
    "print('test')\n",
    "print(ENreg.score(X_test,Y_test))\n",
    "print('train')\n",
    "print(ENreg.score(X_train,Y_train))\n",
    "print('MSE')\n",
    "print(mean_squared_error(Y_test,pred_cv))\n",
    "print('!!!!!!!!!!!! 0.01 !!!!!!!!!!!!!!!!!!!')\n",
    "ENreg = ElasticNet(alpha=0.01, l1_ratio=0.5, normalize=False)\n",
    "ENreg.fit(X_train,Y_train)\n",
    "pred_cv = ENreg.predict(X_test)\n",
    "print('test')\n",
    "print(ENreg.score(X_test,Y_test))\n",
    "print('train')\n",
    "print(ENreg.score(X_train,Y_train))\n",
    "print('MSE')\n",
    "print(mean_squared_error(Y_test,pred_cv))\n",
    "print('!!!!!!!!!!!! 0.05 !!!!!!!!!!!!!!!!!!!')\n",
    "ENreg = ElasticNet(alpha=0.05, l1_ratio=0.5, normalize=False)\n",
    "ENreg.fit(X_train,Y_train)\n",
    "pred_cv = ENreg.predict(X_test)\n",
    "print('test')\n",
    "print(ENreg.score(X_test,Y_test))\n",
    "print('train')\n",
    "print(ENreg.score(X_train,Y_train))\n",
    "print('MSE')\n",
    "print(mean_squared_error(Y_test,pred_cv))\n",
    "print('!!!!!!!!!!!! 1 !!!!!!!!!!!!!!!!!!!')\n",
    "ENreg = ElasticNet(alpha=1, l1_ratio=0.5, normalize=False)\n",
    "ENreg.fit(X_train,Y_train)\n",
    "pred_cv = ENreg.predict(X_test)\n",
    "print('test')\n",
    "print(ENreg.score(X_test,Y_test))\n",
    "print('train')\n",
    "print(ENreg.score(X_train,Y_train))\n",
    "print('MSE')\n",
    "print(mean_squared_error(Y_test,pred_cv))\n",
    "print('with CV')\n",
    "ENreg = ElasticNetCV(l1_ratio=0.9,n_alphas=10,verbose=1, normalize=False)\n",
    "ENreg.fit(X_train,Y_train)\n",
    "pred_cv = ENreg.predict(X_test)\n",
    "print('test')\n",
    "print(ENreg.score(X_test,Y_test))\n",
    "print('train')\n",
    "print(ENreg.score(X_train,Y_train))\n",
    "print('MSE')\n",
    "print(mean_squared_error(Y_test,pred_cv))"
   ]
  },
  {
   "cell_type": "code",
   "execution_count": null,
   "metadata": {},
   "outputs": [],
   "source": [
    "'''!!!!!!!!!!!!!!!  250 genes + clinical data !!!!!!!!!!!!!!!!!!!'''"
   ]
  },
  {
   "cell_type": "code",
   "execution_count": 12,
   "metadata": {},
   "outputs": [],
   "source": [
    "\n",
    "dt1=pd.read_excel('gene + clinical LUAD.xlsx')"
   ]
  },
  {
   "cell_type": "code",
   "execution_count": 13,
   "metadata": {},
   "outputs": [],
   "source": [
    "dt1=dt1.set_index(dt1.columns[0])"
   ]
  },
  {
   "cell_type": "code",
   "execution_count": 16,
   "metadata": {},
   "outputs": [],
   "source": [
    "Y=tar\n",
    "\n"
   ]
  },
  {
   "cell_type": "code",
   "execution_count": 19,
   "metadata": {},
   "outputs": [
    {
     "name": "stdout",
     "output_type": "stream",
     "text": [
      "(361, 261) (361, 1)\n",
      "(156, 261) (156, 1)\n",
      "!!!!!!!!!!!! 0.1 !!!!!!!!!!!!!!!!!!!\n",
      "test\n",
      "0.7879489500861543\n",
      "train\n",
      "0.9381567004600712\n",
      "MSE\n",
      "193.4660838491338\n",
      "!!!!!!!!!!!! 0.5 !!!!!!!!!!!!!!!!!!!\n",
      "test\n",
      "0.8364426882493509\n",
      "train\n",
      "0.8903127332464229\n",
      "MSE\n",
      "149.22252260550545\n",
      "!!!!!!!!!!!! 0.01 !!!!!!!!!!!!!!!!!!!\n",
      "test\n",
      "0.4124749865883517\n",
      "train\n",
      "0.9549664627783695\n",
      "MSE\n",
      "536.0320713070881\n",
      "!!!!!!!!!!!! 0.05 !!!!!!!!!!!!!!!!!!!\n",
      "test\n",
      "0.7004542684018082\n",
      "train\n",
      "0.9472023860551445\n",
      "MSE\n",
      "273.2923965694639\n",
      "!!!!!!!!!!!! 1 !!!!!!!!!!!!!!!!!!!\n",
      "test\n",
      "0.8316025279255705\n",
      "train\n",
      "0.8549771922412488\n",
      "MSE\n",
      "153.63847274309816\n",
      "with CV\n",
      "test\n",
      "0.8340213001756511\n",
      "train\n",
      "0.8137651650583559\n",
      "MSE\n",
      "151.43169095571173\n"
     ]
    },
    {
     "name": "stderr",
     "output_type": "stream",
     "text": [
      "C:\\ProgramData\\Anaconda3\\lib\\site-packages\\sklearn\\linear_model\\coordinate_descent.py:1094: DataConversionWarning: A column-vector y was passed when a 1d array was expected. Please change the shape of y to (n_samples, ), for example using ravel().\n",
      "  y = column_or_1d(y, warn=True)\n",
      "..............................[Parallel(n_jobs=1)]: Done   3 out of   3 | elapsed:    0.0s finished\n"
     ]
    }
   ],
   "source": [
    "X_train,X_test,Y_train,Y_test=train_test_split(dt1,Y,test_size=0.3)\n",
    "print(X_train.shape,Y_train.shape)\n",
    "print(X_test.shape,Y_test.shape)\n",
    "print('!!!!!!!!!!!! 0.1 !!!!!!!!!!!!!!!!!!!')\n",
    "ENreg = ElasticNet(alpha=0.1, l1_ratio=0.5, normalize=False)\n",
    "ENreg.fit(X_train,Y_train)\n",
    "pred_cv = ENreg.predict(X_test)\n",
    "print('test')\n",
    "print(ENreg.score(X_test,Y_test))\n",
    "print('train')\n",
    "\n",
    "print(ENreg.score(X_train,Y_train))\n",
    "print('MSE')\n",
    "print(mean_squared_error(Y_test,pred_cv))\n",
    "print('!!!!!!!!!!!! 0.5 !!!!!!!!!!!!!!!!!!!')\n",
    "ENreg = ElasticNet(alpha=0.5, l1_ratio=0.5, normalize=False)\n",
    "ENreg.fit(X_train,Y_train)\n",
    "pred_cv = ENreg.predict(X_test)\n",
    "print('test')\n",
    "print(ENreg.score(X_test,Y_test))\n",
    "print('train')\n",
    "print(ENreg.score(X_train,Y_train))\n",
    "print('MSE')\n",
    "print(mean_squared_error(Y_test,pred_cv))\n",
    "print('!!!!!!!!!!!! 0.01 !!!!!!!!!!!!!!!!!!!')\n",
    "ENreg = ElasticNet(alpha=0.01, l1_ratio=0.5, normalize=False)\n",
    "ENreg.fit(X_train,Y_train)\n",
    "pred_cv = ENreg.predict(X_test)\n",
    "print('test')\n",
    "print(ENreg.score(X_test,Y_test))\n",
    "print('train')\n",
    "print(ENreg.score(X_train,Y_train))\n",
    "print('MSE')\n",
    "print(mean_squared_error(Y_test,pred_cv))\n",
    "print('!!!!!!!!!!!! 0.05 !!!!!!!!!!!!!!!!!!!')\n",
    "ENreg = ElasticNet(alpha=0.05, l1_ratio=0.5, normalize=False)\n",
    "ENreg.fit(X_train,Y_train)\n",
    "pred_cv = ENreg.predict(X_test)\n",
    "print('test')\n",
    "print(ENreg.score(X_test,Y_test))\n",
    "print('train')\n",
    "print(ENreg.score(X_train,Y_train))\n",
    "print('MSE')\n",
    "print(mean_squared_error(Y_test,pred_cv))\n",
    "print('!!!!!!!!!!!! 1 !!!!!!!!!!!!!!!!!!!')\n",
    "ENreg = ElasticNet(alpha=1, l1_ratio=0.5, normalize=False)\n",
    "ENreg.fit(X_train,Y_train)\n",
    "pred_cv = ENreg.predict(X_test)\n",
    "print('test')\n",
    "print(ENreg.score(X_test,Y_test))\n",
    "print('train')\n",
    "print(ENreg.score(X_train,Y_train))\n",
    "print('MSE')\n",
    "print(mean_squared_error(Y_test,pred_cv))\n",
    "print('with CV')\n",
    "ENreg = ElasticNetCV(l1_ratio=0.9,n_alphas=10,verbose=1, normalize=False)\n",
    "ENreg.fit(X_train,Y_train)\n",
    "pred_cv = ENreg.predict(X_test)\n",
    "print('test')\n",
    "print(ENreg.score(X_test,Y_test))\n",
    "print('train')\n",
    "print(ENreg.score(X_train,Y_train))\n",
    "print('MSE')\n",
    "print(mean_squared_error(Y_test,pred_cv))"
   ]
  },
  {
   "cell_type": "code",
   "execution_count": null,
   "metadata": {},
   "outputs": [],
   "source": [
    "'''!!!!!!!!!!!!!!!  250 genes only !!!!!!!!!!!!!!!!!!!'''"
   ]
  },
  {
   "cell_type": "code",
   "execution_count": 25,
   "metadata": {},
   "outputs": [],
   "source": [
    "dt2=pd.read_excel('gene + clinical LUAD.xlsx')"
   ]
  },
  {
   "cell_type": "code",
   "execution_count": 29,
   "metadata": {},
   "outputs": [],
   "source": [
    "dt2=dt2.set_index(dt2.columns[0])"
   ]
  },
  {
   "cell_type": "code",
   "execution_count": 30,
   "metadata": {},
   "outputs": [
    {
     "name": "stdout",
     "output_type": "stream",
     "text": [
      "(361, 249) (361, 1)\n",
      "(156, 249) (156, 1)\n",
      "!!!!!!!!!!!! 0.1 !!!!!!!!!!!!!!!!!!!\n",
      "test\n",
      "-0.8619840658083915\n",
      "train\n",
      "0.779621418912321\n",
      "MSE\n",
      "1596.979631582013\n",
      "!!!!!!!!!!!! 0.5 !!!!!!!!!!!!!!!!!!!\n",
      "test\n",
      "-0.06725364464078254\n",
      "train\n",
      "0.6464583127795898\n",
      "MSE\n",
      "915.3581727795452\n",
      "!!!!!!!!!!!! 0.01 !!!!!!!!!!!!!!!!!!!\n",
      "test\n",
      "-2.1180616093646307\n",
      "train\n",
      "0.8240325316492043\n",
      "MSE\n",
      "2674.287590109572\n",
      "!!!!!!!!!!!! 0.05 !!!!!!!!!!!!!!!!!!!\n",
      "test\n",
      "-1.2999602775081889\n",
      "train\n",
      "0.8049442127794179\n",
      "MSE\n",
      "1972.621454756457\n",
      "!!!!!!!!!!!! 1 !!!!!!!!!!!!!!!!!!!\n",
      "test\n",
      "0.06321578994643728\n",
      "train\n",
      "0.5493901726827479\n",
      "MSE\n",
      "803.4576289425321\n",
      "with CV\n",
      "test\n",
      "-0.012612432981857769\n",
      "train\n",
      "0.0\n",
      "MSE\n",
      "868.4936997334884\n"
     ]
    },
    {
     "name": "stderr",
     "output_type": "stream",
     "text": [
      "C:\\ProgramData\\Anaconda3\\lib\\site-packages\\sklearn\\linear_model\\coordinate_descent.py:1094: DataConversionWarning: A column-vector y was passed when a 1d array was expected. Please change the shape of y to (n_samples, ), for example using ravel().\n",
      "  y = column_or_1d(y, warn=True)\n",
      "..............................[Parallel(n_jobs=1)]: Done   3 out of   3 | elapsed:    0.1s finished\n"
     ]
    }
   ],
   "source": [
    "Y=tar\n",
    "X_train,X_test,Y_train,Y_test=train_test_split(dt2,Y,test_size=0.3)\n",
    "print(X_train.shape,Y_train.shape)\n",
    "print(X_test.shape,Y_test.shape)\n",
    "print('!!!!!!!!!!!! 0.1 !!!!!!!!!!!!!!!!!!!')\n",
    "ENreg = ElasticNet(alpha=0.1, l1_ratio=0.5, normalize=False)\n",
    "ENreg.fit(X_train,Y_train)\n",
    "pred_cv = ENreg.predict(X_test)\n",
    "print('test')\n",
    "print(ENreg.score(X_test,Y_test))\n",
    "print('train')\n",
    "\n",
    "print(ENreg.score(X_train,Y_train))\n",
    "print('MSE')\n",
    "print(mean_squared_error(Y_test,pred_cv))\n",
    "print('!!!!!!!!!!!! 0.5 !!!!!!!!!!!!!!!!!!!')\n",
    "ENreg = ElasticNet(alpha=0.5, l1_ratio=0.5, normalize=False)\n",
    "ENreg.fit(X_train,Y_train)\n",
    "pred_cv = ENreg.predict(X_test)\n",
    "print('test')\n",
    "print(ENreg.score(X_test,Y_test))\n",
    "print('train')\n",
    "print(ENreg.score(X_train,Y_train))\n",
    "print('MSE')\n",
    "print(mean_squared_error(Y_test,pred_cv))\n",
    "print('!!!!!!!!!!!! 0.01 !!!!!!!!!!!!!!!!!!!')\n",
    "ENreg = ElasticNet(alpha=0.01, l1_ratio=0.5, normalize=False)\n",
    "ENreg.fit(X_train,Y_train)\n",
    "pred_cv = ENreg.predict(X_test)\n",
    "print('test')\n",
    "print(ENreg.score(X_test,Y_test))\n",
    "print('train')\n",
    "print(ENreg.score(X_train,Y_train))\n",
    "print('MSE')\n",
    "print(mean_squared_error(Y_test,pred_cv))\n",
    "print('!!!!!!!!!!!! 0.05 !!!!!!!!!!!!!!!!!!!')\n",
    "ENreg = ElasticNet(alpha=0.05, l1_ratio=0.5, normalize=False)\n",
    "ENreg.fit(X_train,Y_train)\n",
    "pred_cv = ENreg.predict(X_test)\n",
    "print('test')\n",
    "print(ENreg.score(X_test,Y_test))\n",
    "print('train')\n",
    "print(ENreg.score(X_train,Y_train))\n",
    "print('MSE')\n",
    "print(mean_squared_error(Y_test,pred_cv))\n",
    "print('!!!!!!!!!!!! 1 !!!!!!!!!!!!!!!!!!!')\n",
    "ENreg = ElasticNet(alpha=1, l1_ratio=0.5, normalize=False)\n",
    "ENreg.fit(X_train,Y_train)\n",
    "pred_cv = ENreg.predict(X_test)\n",
    "print('test')\n",
    "print(ENreg.score(X_test,Y_test))\n",
    "print('train')\n",
    "print(ENreg.score(X_train,Y_train))\n",
    "print('MSE')\n",
    "print(mean_squared_error(Y_test,pred_cv))\n",
    "print('with CV')\n",
    "ENreg = ElasticNetCV(l1_ratio=0.9,n_alphas=10,verbose=1, normalize=False)\n",
    "ENreg.fit(X_train,Y_train)\n",
    "pred_cv = ENreg.predict(X_test)\n",
    "print('test')\n",
    "print(ENreg.score(X_test,Y_test))\n",
    "print('train')\n",
    "print(ENreg.score(X_train,Y_train))\n",
    "print('MSE')\n",
    "print(mean_squared_error(Y_test,pred_cv))"
   ]
  },
  {
   "cell_type": "code",
   "execution_count": null,
   "metadata": {},
   "outputs": [],
   "source": [
    "'''!!!!!!!!!!!!!!!  2k genes only !!!!!!!!!!!!!!!!!!!'''"
   ]
  },
  {
   "cell_type": "code",
   "execution_count": 31,
   "metadata": {},
   "outputs": [],
   "source": [
    "dt3=pd.read_excel('selected genes LUAD 2k.xlsx')"
   ]
  },
  {
   "cell_type": "code",
   "execution_count": 32,
   "metadata": {},
   "outputs": [],
   "source": [
    "dt3=dt3.set_index(dt3.columns[0])"
   ]
  },
  {
   "cell_type": "code",
   "execution_count": 42,
   "metadata": {},
   "outputs": [
    {
     "name": "stdout",
     "output_type": "stream",
     "text": [
      "(361, 2853) (361, 1)\n",
      "(156, 2853) (156, 1)\n",
      "0.003648553732784498\n",
      "MSE\n",
      "767.1045818875549\n",
      "!!!!!!!!!!!! 1 !!!!!!!!!!!!!!!!!!!\n"
     ]
    },
    {
     "name": "stderr",
     "output_type": "stream",
     "text": [
      "C:\\ProgramData\\Anaconda3\\lib\\site-packages\\sklearn\\linear_model\\coordinate_descent.py:491: ConvergenceWarning: Objective did not converge. You might want to increase the number of iterations. Fitting data with very small alpha may cause precision problems.\n",
      "  ConvergenceWarning)\n"
     ]
    },
    {
     "name": "stdout",
     "output_type": "stream",
     "text": [
      "test\n",
      "-0.25281673243089764\n",
      "train\n",
      "0.8761453040659599\n",
      "MSE\n",
      "959.7215220776445\n",
      "!!!!!!!!!!!! 5 !!!!!!!!!!!!!!!!!!!\n",
      "test\n",
      "0.05674502181274044\n",
      "train\n",
      "0.42190073972939673\n",
      "MSE\n",
      "722.5814278650881\n",
      "!!!!!!!!!!!! 10 !!!!!!!!!!!!!!!!!!!\n",
      "test\n",
      "0.06192851988317416\n",
      "train\n",
      "0.2140707064480648\n",
      "MSE\n",
      "718.6106039376407\n",
      "!!!!!!!!!!!! 1 !!!!!!!!!!!!!!!!!!!\n",
      "test\n",
      "-0.25281673243089764\n",
      "train\n",
      "0.8761453040659599\n",
      "MSE\n",
      "959.7215220776445\n",
      "with CV\n"
     ]
    },
    {
     "name": "stderr",
     "output_type": "stream",
     "text": [
      "..................C:\\ProgramData\\Anaconda3\\lib\\site-packages\\sklearn\\linear_model\\coordinate_descent.py:491: ConvergenceWarning: Objective did not converge. You might want to increase the number of iterations. Fitting data with very small alpha may cause precision problems.\n",
      "  ConvergenceWarning)\n",
      "..........."
     ]
    },
    {
     "name": "stdout",
     "output_type": "stream",
     "text": [
      "test\n",
      "-0.0014689765178570457\n",
      "train\n",
      "0.010148636115421494\n",
      "MSE\n",
      "767.1763200291326\n"
     ]
    },
    {
     "name": "stderr",
     "output_type": "stream",
     "text": [
      ".[Parallel(n_jobs=1)]: Done   3 out of   3 | elapsed:    3.9s finished\n"
     ]
    }
   ],
   "source": [
    "Y=tar\n",
    "X_train,X_test,Y_train,Y_test=train_test_split(dt3,Y,test_size=0.3)\n",
    "print(X_train.shape,Y_train.shape)\n",
    "print(X_test.shape,Y_test.shape)\n",
    "'''print('!!!!!!!!!!!! 1 !!!!!!!!!!!!!!!!!!!')\n",
    "ENreg = ElasticNet(alpha=0.1, l1_ratio=0.5, normalize=False)\n",
    "ENreg.fit(X_train,Y_train)\n",
    "pred_cv = ENreg.predict(X_test)\n",
    "print('test')\n",
    "print(ENreg.score(X_test,Y_test))\n",
    "print('train')'''\n",
    "\n",
    "print(ENreg.score(X_train,Y_train))\n",
    "print('MSE')\n",
    "print(mean_squared_error(Y_test,pred_cv))\n",
    "print('!!!!!!!!!!!! 1 !!!!!!!!!!!!!!!!!!!')\n",
    "ENreg = ElasticNet(alpha=1, l1_ratio=0.5, normalize=False)\n",
    "ENreg.fit(X_train,Y_train)\n",
    "pred_cv = ENreg.predict(X_test)\n",
    "print('test')\n",
    "print(ENreg.score(X_test,Y_test))\n",
    "print('train')\n",
    "print(ENreg.score(X_train,Y_train))\n",
    "print('MSE')\n",
    "print(mean_squared_error(Y_test,pred_cv))\n",
    "print('!!!!!!!!!!!! 5 !!!!!!!!!!!!!!!!!!!')\n",
    "ENreg = ElasticNet(alpha=5, l1_ratio=0.5, normalize=False)\n",
    "ENreg.fit(X_train,Y_train)\n",
    "pred_cv = ENreg.predict(X_test)\n",
    "print('test')\n",
    "print(ENreg.score(X_test,Y_test))\n",
    "print('train')\n",
    "print(ENreg.score(X_train,Y_train))\n",
    "print('MSE')\n",
    "print(mean_squared_error(Y_test,pred_cv))\n",
    "print('!!!!!!!!!!!! 10 !!!!!!!!!!!!!!!!!!!')\n",
    "ENreg = ElasticNet(alpha=10, l1_ratio=0.5, normalize=False)\n",
    "ENreg.fit(X_train,Y_train)\n",
    "pred_cv = ENreg.predict(X_test)\n",
    "print('test')\n",
    "print(ENreg.score(X_test,Y_test))\n",
    "print('train')\n",
    "print(ENreg.score(X_train,Y_train))\n",
    "print('MSE')\n",
    "print(mean_squared_error(Y_test,pred_cv))\n",
    "print('!!!!!!!!!!!! 1 !!!!!!!!!!!!!!!!!!!')\n",
    "ENreg = ElasticNet(alpha=1, l1_ratio=0.5, normalize=False)\n",
    "ENreg.fit(X_train,Y_train)\n",
    "pred_cv = ENreg.predict(X_test)\n",
    "print('test')\n",
    "print(ENreg.score(X_test,Y_test))\n",
    "print('train')\n",
    "print(ENreg.score(X_train,Y_train))\n",
    "print('MSE')\n",
    "print(mean_squared_error(Y_test,pred_cv))\n",
    "print('with CV')\n",
    "Y_train=np.array(Y_train)\n",
    "Y_train=Y_train.ravel()\n",
    "ENreg = ElasticNetCV(l1_ratio=0.9,n_alphas=10,verbose=1, normalize=False)\n",
    "ENreg.fit(X_train,Y_train)\n",
    "pred_cv = ENreg.predict(X_test)\n",
    "print('test')\n",
    "print(ENreg.score(X_test,Y_test))\n",
    "print('train')\n",
    "print(ENreg.score(X_train,Y_train))\n",
    "print('MSE')\n",
    "print(mean_squared_error(Y_test,pred_cv))"
   ]
  },
  {
   "cell_type": "code",
   "execution_count": 43,
   "metadata": {},
   "outputs": [
    {
     "data": {
      "text/plain": [
       "'!!!!!!!!!!!!!!!  2k genes only !!!!!!!!!!!!!!!!!!!'"
      ]
     },
     "execution_count": 43,
     "metadata": {},
     "output_type": "execute_result"
    }
   ],
   "source": [
    "'''!!!!!!!!!!!!!!!  2k genes + clinical data !!!!!!!!!!!!!!!!!!!'''"
   ]
  },
  {
   "cell_type": "code",
   "execution_count": 44,
   "metadata": {},
   "outputs": [],
   "source": [
    "dt4=pd.read_excel('selected genes LUAD 2k.xlsx')"
   ]
  },
  {
   "cell_type": "code",
   "execution_count": 45,
   "metadata": {},
   "outputs": [],
   "source": [
    "dt4=dt4.set_index(dt4.columns[0])"
   ]
  },
  {
   "cell_type": "code",
   "execution_count": null,
   "metadata": {},
   "outputs": [
    {
     "name": "stdout",
     "output_type": "stream",
     "text": [
      "(361, 2853) (361, 1)\n",
      "(156, 2853) (156, 1)\n",
      "!!!!!!!!!!!! 1 !!!!!!!!!!!!!!!!!!!\n",
      "test\n",
      "-0.9804794832463186\n",
      "train\n",
      "0.8544055476524081\n",
      "MSE\n",
      "1733.9065664383932\n",
      "!!!!!!!!!!!! 5 !!!!!!!!!!!!!!!!!!!\n",
      "test\n",
      "-0.031240218232060357\n",
      "train\n",
      "0.3669213196729989\n",
      "MSE\n",
      "902.8491338052112\n",
      "!!!!!!!!!!!! 10 !!!!!!!!!!!!!!!!!!!\n",
      "test\n",
      "-0.042775614721166644\n",
      "train\n",
      "0.17903166012110883\n",
      "MSE\n",
      "912.9483546697194\n",
      "!!!!!!!!!!!! 1 !!!!!!!!!!!!!!!!!!!\n",
      "test\n",
      "-0.9804794832463186\n",
      "train\n",
      "0.8544055476524081\n",
      "MSE\n",
      "1733.9065664383932\n",
      "with CV\n"
     ]
    },
    {
     "name": "stderr",
     "output_type": "stream",
     "text": [
      "................................................................................................................................................................................................................................................................................................................................................................................................................................................................................................................................................................................................................................................................................................................................................................................................................................................................................................................................................................................................................................................................................................................................................................................................................................................................................................................................................................................................................................................................................................................................................................................................................................................................................................................................................................................................................................................................................................................................................................................................................................................................................................................................................................................................................................................................................................................................................................................................................................................................................................................................................................................................................................................................................................................................................................................................................................................................................................................................................................................................................................................................................................................................................................................................................................................................................................................................................................................................................................................................................................................................................................................................................................................................................................................................................................................................................................................................................................................................................................................................................................................................................................................................................................................................................................................................................................................................................................................................................................................................................................................................................................................................................................................................................................................................................................................................................................................................................................................................................................................................................................................................................................................................................................................................................................................................................................................................................................................................................................................................................................................................................................................................................................................................................................................................................................................................................................................................................................................................................................................................................................................................................................................................................................................................................................................................................................................................................................................................................................................................................................................................................................................................................................................................................................................................................................................................................................................................................................................................................................................................................................................................................................................................................................................................................................................................................................................................................................................................................................................................................................................................................................................................................................................................................................................................................................................................................................................................................................................................................................................................................................................................................................................................................................................................................................................................................................................................................................................................................................................................................................................................."
     ]
    },
    {
     "name": "stderr",
     "output_type": "stream",
     "text": [
      "..........................................................................................................................................................................................................................................................................................................................................................................................................................................................................................................................................................................................................................................................................................................................."
     ]
    }
   ],
   "source": [
    "Y=tar\n",
    "X_train,X_test,Y_train,Y_test=train_test_split(dt4,Y,test_size=0.3)\n",
    "print(X_train.shape,Y_train.shape)\n",
    "print(X_test.shape,Y_test.shape)\n",
    "'''print('!!!!!!!!!!!! 1 !!!!!!!!!!!!!!!!!!!')\n",
    "ENreg = ElasticNet(alpha=0.1, l1_ratio=0.5, normalize=False)\n",
    "ENreg.fit(X_train,Y_train)\n",
    "pred_cv = ENreg.predict(X_test)\n",
    "print('test')\n",
    "print(ENreg.score(X_test,Y_test))\n",
    "print('train')'''\n",
    "print('!!!!!!!!!!!! 1 !!!!!!!!!!!!!!!!!!!')\n",
    "\n",
    "ENreg = ElasticNet(alpha=1, l1_ratio=0.5, normalize=False)\n",
    "ENreg.fit(X_train,Y_train)\n",
    "pred_cv = ENreg.predict(X_test)\n",
    "print('test')\n",
    "print(ENreg.score(X_test,Y_test))\n",
    "print('train')\n",
    "print(ENreg.score(X_train,Y_train))\n",
    "print('MSE')\n",
    "print(mean_squared_error(Y_test,pred_cv))\n",
    "print('!!!!!!!!!!!! 5 !!!!!!!!!!!!!!!!!!!')\n",
    "ENreg = ElasticNet(alpha=5, l1_ratio=0.5, normalize=False)\n",
    "ENreg.fit(X_train,Y_train)\n",
    "pred_cv = ENreg.predict(X_test)\n",
    "print('test')\n",
    "print(ENreg.score(X_test,Y_test))\n",
    "print('train')\n",
    "print(ENreg.score(X_train,Y_train))\n",
    "print('MSE')\n",
    "print(mean_squared_error(Y_test,pred_cv))\n",
    "print('!!!!!!!!!!!! 10 !!!!!!!!!!!!!!!!!!!')\n",
    "ENreg = ElasticNet(alpha=10, l1_ratio=0.5, normalize=False)\n",
    "ENreg.fit(X_train,Y_train)\n",
    "pred_cv = ENreg.predict(X_test)\n",
    "print('test')\n",
    "print(ENreg.score(X_test,Y_test))\n",
    "print('train')\n",
    "print(ENreg.score(X_train,Y_train))\n",
    "print('MSE')\n",
    "print(mean_squared_error(Y_test,pred_cv))\n",
    "print('!!!!!!!!!!!! 1 !!!!!!!!!!!!!!!!!!!')\n",
    "ENreg = ElasticNet(alpha=1, l1_ratio=0.5, normalize=False)\n",
    "ENreg.fit(X_train,Y_train)\n",
    "pred_cv = ENreg.predict(X_test)\n",
    "print('test')\n",
    "print(ENreg.score(X_test,Y_test))\n",
    "print('train')\n",
    "print(ENreg.score(X_train,Y_train))\n",
    "print('MSE')\n",
    "print(mean_squared_error(Y_test,pred_cv))\n",
    "print('with CV')\n",
    "Y_train=np.array(Y_train)\n",
    "Y_train=Y_train.ravel()\n",
    "ENreg = ElasticNetCV(l1_ratio=0.9,n_alphas=100,verbose=1, normalize=False,max_iter=1500,cv=100)\n",
    "ENreg.fit(X_train,Y_train)\n",
    "pred_cv = ENreg.predict(X_test)\n",
    "print('test')\n",
    "print(ENreg.score(X_test,Y_test))\n",
    "print('train')\n",
    "print(ENreg.score(X_train,Y_train))\n",
    "print('MSE')\n",
    "print(mean_squared_error(Y_test,pred_cv))"
   ]
  },
  {
   "cell_type": "code",
   "execution_count": null,
   "metadata": {},
   "outputs": [],
   "source": []
  }
 ],
 "metadata": {
  "kernelspec": {
   "display_name": "Python 3",
   "language": "python",
   "name": "python3"
  },
  "language_info": {
   "codemirror_mode": {
    "name": "ipython",
    "version": 3
   },
   "file_extension": ".py",
   "mimetype": "text/x-python",
   "name": "python",
   "nbconvert_exporter": "python",
   "pygments_lexer": "ipython3",
   "version": "3.6.5"
  }
 },
 "nbformat": 4,
 "nbformat_minor": 2
}
