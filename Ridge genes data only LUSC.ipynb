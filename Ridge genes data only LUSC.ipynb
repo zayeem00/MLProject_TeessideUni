{
 "cells": [
  {
   "cell_type": "code",
   "execution_count": 1,
   "metadata": {},
   "outputs": [],
   "source": [
    "import os\n",
    "import matplotlib.pyplot as plt\n",
    "import pandas as pd"
   ]
  },
  {
   "cell_type": "code",
   "execution_count": 2,
   "metadata": {},
   "outputs": [],
   "source": [
    "os.chdir('U:\\\\ProjectDataset')"
   ]
  },
  {
   "cell_type": "code",
   "execution_count": 8,
   "metadata": {},
   "outputs": [],
   "source": [
    "dt1=pd.read_excel('selected genes LUSC.xlsx')"
   ]
  },
  {
   "cell_type": "code",
   "execution_count": 9,
   "metadata": {},
   "outputs": [],
   "source": [
    "dt1=dt1.set_index(dt1.columns[0])\n"
   ]
  },
  {
   "cell_type": "code",
   "execution_count": 10,
   "metadata": {},
   "outputs": [],
   "source": [
    "tar=pd.read_excel('survival_LUSC.xlsx')"
   ]
  },
  {
   "cell_type": "code",
   "execution_count": 11,
   "metadata": {},
   "outputs": [],
   "source": [
    "\n",
    "Y=tar"
   ]
  },
  {
   "cell_type": "code",
   "execution_count": 12,
   "metadata": {},
   "outputs": [],
   "source": [
    "from sklearn.model_selection import train_test_split\n",
    "X_train,X_test,Y_train,Y_test=train_test_split(dt1,Y,test_size=0.3,random_state=42) "
   ]
  },
  {
   "cell_type": "code",
   "execution_count": 13,
   "metadata": {},
   "outputs": [
    {
     "name": "stdout",
     "output_type": "stream",
     "text": [
      "(350, 331) (350, 1)\n",
      "(151, 331) (151, 1)\n"
     ]
    }
   ],
   "source": [
    "print(X_train.shape,Y_train.shape)\n",
    "print(X_test.shape,Y_test.shape)"
   ]
  },
  {
   "cell_type": "code",
   "execution_count": 14,
   "metadata": {},
   "outputs": [
    {
     "name": "stdout",
     "output_type": "stream",
     "text": [
      "test\n",
      "0.11231019590952163\n",
      "train\n",
      "0.8168862565855248\n"
     ]
    }
   ],
   "source": [
    "from sklearn.linear_model import Ridge\n",
    "ridgeReg=Ridge(alpha=0.5,normalize=True)\n",
    "ridgeReg.fit(X_train,Y_train)\n",
    "predictions=ridgeReg.predict(X_test)\n",
    "print('test')\n",
    "print(ridgeReg.score(X_test,Y_test))\n",
    "print('train')\n",
    "print(ridgeReg.score(X_train,Y_train))"
   ]
  },
  {
   "cell_type": "code",
   "execution_count": 15,
   "metadata": {},
   "outputs": [
    {
     "name": "stdout",
     "output_type": "stream",
     "text": [
      "test\n",
      "-0.43334400150874774\n",
      "train\n",
      "0.9214710818094228\n"
     ]
    }
   ],
   "source": [
    "from sklearn.linear_model import Ridge\n",
    "ridgeReg=Ridge(alpha=0.1,normalize=True)\n",
    "ridgeReg.fit(X_train,Y_train)\n",
    "predictions=ridgeReg.predict(X_test)\n",
    "print('test')\n",
    "print(ridgeReg.score(X_test,Y_test))\n",
    "print('train')\n",
    "print(ridgeReg.score(X_train,Y_train))"
   ]
  },
  {
   "cell_type": "code",
   "execution_count": 16,
   "metadata": {},
   "outputs": [
    {
     "name": "stdout",
     "output_type": "stream",
     "text": [
      "test\n",
      "0.1532524962922428\n",
      "train\n",
      "0.7238368629176927\n"
     ]
    }
   ],
   "source": [
    "from sklearn.linear_model import Ridge\n",
    "ridgeReg=Ridge(alpha=1,normalize=True)\n",
    "ridgeReg.fit(X_train,Y_train)\n",
    "predictions=ridgeReg.predict(X_test)\n",
    "print('test')\n",
    "print(ridgeReg.score(X_test,Y_test))\n",
    "print('train')\n",
    "print(ridgeReg.score(X_train,Y_train))"
   ]
  },
  {
   "cell_type": "code",
   "execution_count": 17,
   "metadata": {},
   "outputs": [
    {
     "name": "stdout",
     "output_type": "stream",
     "text": [
      "test\n",
      "0.14493953472561394\n",
      "train\n",
      "0.6278142520726122\n"
     ]
    }
   ],
   "source": [
    "from sklearn.linear_model import Ridge\n",
    "ridgeReg=Ridge(alpha=1.7,normalize=True)\n",
    "ridgeReg.fit(X_train,Y_train)\n",
    "predictions=ridgeReg.predict(X_test)\n",
    "print('test')\n",
    "print(ridgeReg.score(X_test,Y_test))\n",
    "print('train')\n",
    "print(ridgeReg.score(X_train,Y_train))"
   ]
  },
  {
   "cell_type": "code",
   "execution_count": 18,
   "metadata": {},
   "outputs": [
    {
     "name": "stdout",
     "output_type": "stream",
     "text": [
      "test\n",
      "0.14053061776133136\n",
      "train\n",
      "0.6053507700461116\n"
     ]
    }
   ],
   "source": [
    "from sklearn.linear_model import Ridge\n",
    "ridgeReg=Ridge(alpha=1.9,normalize=True)\n",
    "ridgeReg.fit(X_train,Y_train)\n",
    "predictions=ridgeReg.predict(X_test)\n",
    "print('test')\n",
    "print(ridgeReg.score(X_test,Y_test))\n",
    "print('train')\n",
    "print(ridgeReg.score(X_train,Y_train))"
   ]
  },
  {
   "cell_type": "code",
   "execution_count": 19,
   "metadata": {},
   "outputs": [
    {
     "name": "stdout",
     "output_type": "stream",
     "text": [
      "test\n",
      "0.1382679699852022\n",
      "train\n",
      "0.5947719961929527\n"
     ]
    }
   ],
   "source": [
    "from sklearn.linear_model import Ridge\n",
    "ridgeReg=Ridge(alpha=2,normalize=True)\n",
    "ridgeReg.fit(X_train,Y_train)\n",
    "predictions=ridgeReg.predict(X_test)\n",
    "print('test')\n",
    "print(ridgeReg.score(X_test,Y_test))\n",
    "print('train')\n",
    "print(ridgeReg.score(X_train,Y_train))"
   ]
  },
  {
   "cell_type": "code",
   "execution_count": 20,
   "metadata": {},
   "outputs": [
    {
     "name": "stdout",
     "output_type": "stream",
     "text": [
      "test\n",
      "0.0842703384236222\n",
      "train\n",
      "0.3957438418752216\n"
     ]
    }
   ],
   "source": [
    "from sklearn.linear_model import Ridge\n",
    "ridgeReg=Ridge(alpha=5,normalize=True)\n",
    "ridgeReg.fit(X_train,Y_train)\n",
    "predictions=ridgeReg.predict(X_test)\n",
    "print('test')\n",
    "print(ridgeReg.score(X_test,Y_test))\n",
    "print('train')\n",
    "print(ridgeReg.score(X_train,Y_train))"
   ]
  },
  {
   "cell_type": "code",
   "execution_count": null,
   "metadata": {},
   "outputs": [],
   "source": []
  }
 ],
 "metadata": {
  "kernelspec": {
   "display_name": "Python 3",
   "language": "python",
   "name": "python3"
  },
  "language_info": {
   "codemirror_mode": {
    "name": "ipython",
    "version": 3
   },
   "file_extension": ".py",
   "mimetype": "text/x-python",
   "name": "python",
   "nbconvert_exporter": "python",
   "pygments_lexer": "ipython3",
   "version": "3.6.5"
  }
 },
 "nbformat": 4,
 "nbformat_minor": 2
}
